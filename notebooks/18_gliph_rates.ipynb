{
 "cells": [
  {
   "attachments": {},
   "cell_type": "markdown",
   "metadata": {},
   "source": [
    "# Dependencies"
   ]
  },
  {
   "cell_type": "code",
   "execution_count": 1,
   "metadata": {
    "vscode": {
     "languageId": "r"
    }
   },
   "outputs": [],
   "source": [
    "pacman::p_load(\n",
    "    #igraph, graphlayouts, ggraph, ggforce, \n",
    "    dplyr, ggplot2, GUniFrac,\n",
    "    dendextend, ComplexHeatmap, ANCOMBC, \n",
    "    TreeSummarizedExperiment, lsmeans\n",
    ")"
   ]
  },
  {
   "attachments": {},
   "cell_type": "markdown",
   "metadata": {},
   "source": [
    "# Functions"
   ]
  },
  {
   "cell_type": "code",
   "execution_count": 2,
   "metadata": {
    "vscode": {
     "languageId": "r"
    }
   },
   "outputs": [],
   "source": [
    "source(\"/Users/anabbi/git/ped_CapTCRseq/R/ggplot2_theme.R\")\n",
    "source(\"/Users/anabbi/git/ped_CapTCRseq/R/color_schemes.R\")\n",
    "source(\"/Users/anabbi/git/ped_CapTCRseq/R/Misc_functions.R\")"
   ]
  },
  {
   "attachments": {},
   "cell_type": "markdown",
   "metadata": {},
   "source": [
    "# Paths"
   ]
  },
  {
   "cell_type": "code",
   "execution_count": 3,
   "metadata": {
    "vscode": {
     "languageId": "r"
    }
   },
   "outputs": [],
   "source": [
    "datapath <- \"/Users/anabbi/OneDrive - UHN/Documents/INTERCEPT/Data/\"\n",
    "plotpath <- \"/Users/anabbi/OneDrive - UHN/Documents/INTERCEPT/Plots/\"\n",
    "manifestpath <- \"/Users/anabbi/OneDrive - UHN/Documents/INTERCEPT/Manifests/\"\n",
    "gitpath <- \"/Users/anabbi/git/ped_CapTCRseq/\""
   ]
  },
  {
   "cell_type": "code",
   "execution_count": 4,
   "metadata": {
    "vscode": {
     "languageId": "r"
    }
   },
   "outputs": [],
   "source": [
    "h4hpath <- \"/Users/anabbi/Desktop/H4H/INTERCEPT/analysis/GLIPH/run_gliph/\""
   ]
  },
  {
   "attachments": {},
   "cell_type": "markdown",
   "metadata": {},
   "source": [
    "# Main"
   ]
  },
  {
   "cell_type": "code",
   "execution_count": 5,
   "metadata": {
    "vscode": {
     "languageId": "r"
    }
   },
   "outputs": [],
   "source": [
    "meta_div <- readr::read_rds(paste0(datapath, \"capTCRseq/meta_div_goodsamples.rds\"))"
   ]
  },
  {
   "cell_type": "code",
   "execution_count": 6,
   "metadata": {
    "vscode": {
     "languageId": "r"
    }
   },
   "outputs": [],
   "source": [
    "#remove those samples that we did not have the TCRseq data for\n",
    "meta_div <- meta_div[!is.na(meta_div$TRB),]"
   ]
  },
  {
   "cell_type": "code",
   "execution_count": 7,
   "metadata": {
    "vscode": {
     "languageId": "r"
    }
   },
   "outputs": [],
   "source": [
    "meta_div$samplename <- paste0(meta_div$cancergroup, \":\", meta_div$Patient, \"_\", meta_div$cycle, \"-\", meta_div$sampletype)\n",
    "meta_div$samplename <- gsub(\" \", \"\", meta_div$samplename)"
   ]
  },
  {
   "cell_type": "code",
   "execution_count": 9,
   "metadata": {
    "vscode": {
     "languageId": "r"
    }
   },
   "outputs": [
    {
     "name": "stderr",
     "output_type": "stream",
     "text": [
      "\u001b[1mRows: \u001b[22m\u001b[34m98847\u001b[39m \u001b[1mColumns: \u001b[22m\u001b[34m29\u001b[39m\n",
      "\u001b[36m--\u001b[39m \u001b[1mColumn specification\u001b[22m \u001b[36m--------------------------------------------------------\u001b[39m\n",
      "\u001b[1mDelimiter:\u001b[22m \",\"\n",
      "\u001b[31mchr\u001b[39m (17): pattern, type, TcRb, V, J, Sample, HLA-A, HLA-B, HLA-C, HLA-DPA1, ...\n",
      "\u001b[32mdbl\u001b[39m (11): index, Fisher_score, number_subject, number_unique_cdr3, final_sco...\n",
      "\u001b[33mlgl\u001b[39m  (1): TcRa\n",
      "\n",
      "\u001b[36mi\u001b[39m Use `spec()` to retrieve the full column specification for this data.\n",
      "\u001b[36mi\u001b[39m Specify the column types or set `show_col_types = FALSE` to quiet this message.\n"
     ]
    }
   ],
   "source": [
    "gliph_out <- readr::read_csv(paste0(h4hpath, \"/v5/gliph_output/int_vdj_v5_cluster.csv\"), col_names = T) #  Mitchel as reference"
   ]
  },
  {
   "cell_type": "code",
   "execution_count": 10,
   "metadata": {
    "vscode": {
     "languageId": "r"
    }
   },
   "outputs": [],
   "source": [
    "# remove columns starting with HLA\n",
    "gliph_out <- gliph_out[,!grepl(\"HLA\", colnames(gliph_out))]"
   ]
  },
  {
   "cell_type": "code",
   "execution_count": 11,
   "metadata": {
    "vscode": {
     "languageId": "r"
    }
   },
   "outputs": [
    {
     "data": {
      "text/html": [
       "<style>\n",
       ".list-inline {list-style: none; margin:0; padding: 0}\n",
       ".list-inline>li {display: inline-block}\n",
       ".list-inline>li:not(:last-child)::after {content: \"\\00b7\"; padding: 0 .5ex}\n",
       "</style>\n",
       "<ol class=list-inline><li>'index'</li><li>'pattern'</li><li>'Fisher_score'</li><li>'number_subject'</li><li>'number_unique_cdr3'</li><li>'final_score'</li><li>'hla_score'</li><li>'vb_score'</li><li>'expansion_score'</li><li>'length_score'</li><li>'cluster_size_score'</li><li>'type'</li><li>'TcRb'</li><li>'V'</li><li>'J'</li><li>'TcRa'</li><li>'Sample'</li><li>'Freq'</li></ol>\n"
      ],
      "text/latex": [
       "\\begin{enumerate*}\n",
       "\\item 'index'\n",
       "\\item 'pattern'\n",
       "\\item 'Fisher\\_score'\n",
       "\\item 'number\\_subject'\n",
       "\\item 'number\\_unique\\_cdr3'\n",
       "\\item 'final\\_score'\n",
       "\\item 'hla\\_score'\n",
       "\\item 'vb\\_score'\n",
       "\\item 'expansion\\_score'\n",
       "\\item 'length\\_score'\n",
       "\\item 'cluster\\_size\\_score'\n",
       "\\item 'type'\n",
       "\\item 'TcRb'\n",
       "\\item 'V'\n",
       "\\item 'J'\n",
       "\\item 'TcRa'\n",
       "\\item 'Sample'\n",
       "\\item 'Freq'\n",
       "\\end{enumerate*}\n"
      ],
      "text/markdown": [
       "1. 'index'\n",
       "2. 'pattern'\n",
       "3. 'Fisher_score'\n",
       "4. 'number_subject'\n",
       "5. 'number_unique_cdr3'\n",
       "6. 'final_score'\n",
       "7. 'hla_score'\n",
       "8. 'vb_score'\n",
       "9. 'expansion_score'\n",
       "10. 'length_score'\n",
       "11. 'cluster_size_score'\n",
       "12. 'type'\n",
       "13. 'TcRb'\n",
       "14. 'V'\n",
       "15. 'J'\n",
       "16. 'TcRa'\n",
       "17. 'Sample'\n",
       "18. 'Freq'\n",
       "\n",
       "\n"
      ],
      "text/plain": [
       " [1] \"index\"              \"pattern\"            \"Fisher_score\"      \n",
       " [4] \"number_subject\"     \"number_unique_cdr3\" \"final_score\"       \n",
       " [7] \"hla_score\"          \"vb_score\"           \"expansion_score\"   \n",
       "[10] \"length_score\"       \"cluster_size_score\" \"type\"              \n",
       "[13] \"TcRb\"               \"V\"                  \"J\"                 \n",
       "[16] \"TcRa\"               \"Sample\"             \"Freq\"              "
      ]
     },
     "metadata": {},
     "output_type": "display_data"
    }
   ],
   "source": [
    "colnames(gliph_out)"
   ]
  },
  {
   "cell_type": "code",
   "execution_count": 12,
   "metadata": {
    "vscode": {
     "languageId": "r"
    }
   },
   "outputs": [],
   "source": [
    "# no single\n",
    "tmp <- gliph_out[ gliph_out$pattern != \"single\",]\n",
    "# only those with 3 or more unique cdr3\n",
    "tmp <- tmp[tmp$number_unique_cdr3 >= 3,]\n",
    "\n",
    "tmp$subject <- gsub(\":.*\", \"\", tmp$Sample)"
   ]
  },
  {
   "cell_type": "code",
   "execution_count": 13,
   "metadata": {
    "vscode": {
     "languageId": "r"
    }
   },
   "outputs": [],
   "source": [
    "samples_tcr <- readr::read_rds( file = paste0(datapath, \"GLIPH/int_samples_gliphannot_stat.rds\"))\n",
    "gliphdf <- readr::read_rds( file = paste0(datapath, \"GLIPH/gliphannot_stat.rds\"))"
   ]
  },
  {
   "cell_type": "code",
   "execution_count": 14,
   "metadata": {
    "vscode": {
     "languageId": "r"
    }
   },
   "outputs": [
    {
     "data": {
      "text/html": [
       "<style>\n",
       ".list-inline {list-style: none; margin:0; padding: 0}\n",
       ".list-inline>li {display: inline-block}\n",
       ".list-inline>li:not(:last-child)::after {content: \"\\00b7\"; padding: 0 .5ex}\n",
       "</style>\n",
       "<ol class=list-inline><li>'CEF'</li><li>'CMV'</li><li>'EBV'</li><li>'HCV'</li><li>'HPV'</li><li>'HomoSapiens'</li><li>'Influenza'</li><li>'LFS'</li><li>'Leukemia'</li><li>'Lymphoma'</li><li>'M.tuberculosis'</li><li>'MCPyV'</li><li>'MDavis'</li><li>'Normal'</li><li>'S-pneumoniae'</li><li>'Solidtumors'</li><li>'T-cellmalignancies'</li></ol>\n"
      ],
      "text/latex": [
       "\\begin{enumerate*}\n",
       "\\item 'CEF'\n",
       "\\item 'CMV'\n",
       "\\item 'EBV'\n",
       "\\item 'HCV'\n",
       "\\item 'HPV'\n",
       "\\item 'HomoSapiens'\n",
       "\\item 'Influenza'\n",
       "\\item 'LFS'\n",
       "\\item 'Leukemia'\n",
       "\\item 'Lymphoma'\n",
       "\\item 'M.tuberculosis'\n",
       "\\item 'MCPyV'\n",
       "\\item 'MDavis'\n",
       "\\item 'Normal'\n",
       "\\item 'S-pneumoniae'\n",
       "\\item 'Solidtumors'\n",
       "\\item 'T-cellmalignancies'\n",
       "\\end{enumerate*}\n"
      ],
      "text/markdown": [
       "1. 'CEF'\n",
       "2. 'CMV'\n",
       "3. 'EBV'\n",
       "4. 'HCV'\n",
       "5. 'HPV'\n",
       "6. 'HomoSapiens'\n",
       "7. 'Influenza'\n",
       "8. 'LFS'\n",
       "9. 'Leukemia'\n",
       "10. 'Lymphoma'\n",
       "11. 'M.tuberculosis'\n",
       "12. 'MCPyV'\n",
       "13. 'MDavis'\n",
       "14. 'Normal'\n",
       "15. 'S-pneumoniae'\n",
       "16. 'Solidtumors'\n",
       "17. 'T-cellmalignancies'\n",
       "\n",
       "\n"
      ],
      "text/plain": [
       " [1] \"CEF\"                \"CMV\"                \"EBV\"               \n",
       " [4] \"HCV\"                \"HPV\"                \"HomoSapiens\"       \n",
       " [7] \"Influenza\"          \"LFS\"                \"Leukemia\"          \n",
       "[10] \"Lymphoma\"           \"M.tuberculosis\"     \"MCPyV\"             \n",
       "[13] \"MDavis\"             \"Normal\"             \"S-pneumoniae\"      \n",
       "[16] \"Solidtumors\"        \"T-cellmalignancies\""
      ]
     },
     "metadata": {},
     "output_type": "display_data"
    }
   ],
   "source": [
    "names(table(tmp$subject ))"
   ]
  },
  {
   "cell_type": "code",
   "execution_count": 15,
   "metadata": {
    "vscode": {
     "languageId": "r"
    }
   },
   "outputs": [
    {
     "data": {
      "text/html": [
       "<table class=\"dataframe\">\n",
       "<caption>A data.frame: 6 x 20</caption>\n",
       "<thead>\n",
       "\t<tr><th></th><th scope=col>CMV</th><th scope=col>EBV</th><th scope=col>HCV</th><th scope=col>Influenza</th><th scope=col>HomoSapiens</th><th scope=col>MDavis</th><th scope=col>HPV</th><th scope=col>CEF</th><th scope=col>TB</th><th scope=col>MCPyV</th><th scope=col>S-pneumoniae</th><th scope=col>n_cdr3</th><th scope=col>n_gliph</th><th scope=col>n_cdr3ingliph</th><th scope=col>cancergroup</th><th scope=col>cycle</th><th scope=col>sampletype</th><th scope=col>cyclenum</th><th scope=col>Patient</th><th scope=col>Age</th></tr>\n",
       "\t<tr><th></th><th scope=col>&lt;dbl&gt;</th><th scope=col>&lt;dbl&gt;</th><th scope=col>&lt;dbl&gt;</th><th scope=col>&lt;dbl&gt;</th><th scope=col>&lt;dbl&gt;</th><th scope=col>&lt;dbl&gt;</th><th scope=col>&lt;dbl&gt;</th><th scope=col>&lt;dbl&gt;</th><th scope=col>&lt;dbl&gt;</th><th scope=col>&lt;dbl&gt;</th><th scope=col>&lt;dbl&gt;</th><th scope=col>&lt;int&gt;</th><th scope=col>&lt;dbl&gt;</th><th scope=col>&lt;int&gt;</th><th scope=col>&lt;chr&gt;</th><th scope=col>&lt;chr&gt;</th><th scope=col>&lt;chr&gt;</th><th scope=col>&lt;dbl&gt;</th><th scope=col>&lt;chr&gt;</th><th scope=col>&lt;dbl&gt;</th></tr>\n",
       "</thead>\n",
       "<tbody>\n",
       "\t<tr><th scope=row>Leukemia:CHP_319_X05-PBMC</th><td>0</td><td>0</td><td>0</td><td>0</td><td>0</td><td> 2</td><td>0</td><td>0</td><td>0</td><td>0</td><td>0</td><td> 15</td><td> 3</td><td> 3</td><td>Leukemia</td><td>X05</td><td>PBMC </td><td>5</td><td>CHP_319</td><td>1</td></tr>\n",
       "\t<tr><th scope=row>Leukemia:CHP_323_X03-PBMC</th><td>2</td><td>0</td><td>1</td><td>0</td><td>0</td><td>16</td><td>0</td><td>0</td><td>0</td><td>1</td><td>0</td><td> 45</td><td>21</td><td>12</td><td>Leukemia</td><td>X03</td><td>PBMC </td><td>3</td><td>CHP_323</td><td>1</td></tr>\n",
       "\t<tr><th scope=row>Leukemia:CHP_323_X03-cfDNA</th><td>2</td><td>0</td><td>0</td><td>0</td><td>4</td><td>33</td><td>0</td><td>0</td><td>0</td><td>0</td><td>1</td><td>103</td><td>49</td><td>25</td><td>Leukemia</td><td>X03</td><td>cfDNA</td><td>3</td><td>CHP_323</td><td>1</td></tr>\n",
       "\t<tr><th scope=row>Leukemia:CHP_323_X05-PBMC</th><td>1</td><td>0</td><td>0</td><td>0</td><td>2</td><td>47</td><td>0</td><td>0</td><td>0</td><td>1</td><td>0</td><td>153</td><td>71</td><td>36</td><td>Leukemia</td><td>X05</td><td>PBMC </td><td>5</td><td>CHP_323</td><td>1</td></tr>\n",
       "\t<tr><th scope=row>Leukemia:CHP_323_X05-cfDNA</th><td>0</td><td>0</td><td>0</td><td>0</td><td>0</td><td> 4</td><td>0</td><td>0</td><td>0</td><td>0</td><td>0</td><td> 15</td><td> 6</td><td> 2</td><td>Leukemia</td><td>X05</td><td>cfDNA</td><td>5</td><td>CHP_323</td><td>1</td></tr>\n",
       "\t<tr><th scope=row>Leukemia:CHP_326_X05-cfDNA</th><td>0</td><td>0</td><td>3</td><td>0</td><td>0</td><td> 5</td><td>0</td><td>0</td><td>0</td><td>0</td><td>0</td><td> 25</td><td> 8</td><td> 4</td><td>Leukemia</td><td>X05</td><td>cfDNA</td><td>5</td><td>CHP_326</td><td>4</td></tr>\n",
       "</tbody>\n",
       "</table>\n"
      ],
      "text/latex": [
       "A data.frame: 6 x 20\n",
       "\\begin{tabular}{r|llllllllllllllllllll}\n",
       "  & CMV & EBV & HCV & Influenza & HomoSapiens & MDavis & HPV & CEF & TB & MCPyV & S-pneumoniae & n\\_cdr3 & n\\_gliph & n\\_cdr3ingliph & cancergroup & cycle & sampletype & cyclenum & Patient & Age\\\\\n",
       "  & <dbl> & <dbl> & <dbl> & <dbl> & <dbl> & <dbl> & <dbl> & <dbl> & <dbl> & <dbl> & <dbl> & <int> & <dbl> & <int> & <chr> & <chr> & <chr> & <dbl> & <chr> & <dbl>\\\\\n",
       "\\hline\n",
       "\tLeukemia:CHP\\_319\\_X05-PBMC & 0 & 0 & 0 & 0 & 0 &  2 & 0 & 0 & 0 & 0 & 0 &  15 &  3 &  3 & Leukemia & X05 & PBMC  & 5 & CHP\\_319 & 1\\\\\n",
       "\tLeukemia:CHP\\_323\\_X03-PBMC & 2 & 0 & 1 & 0 & 0 & 16 & 0 & 0 & 0 & 1 & 0 &  45 & 21 & 12 & Leukemia & X03 & PBMC  & 3 & CHP\\_323 & 1\\\\\n",
       "\tLeukemia:CHP\\_323\\_X03-cfDNA & 2 & 0 & 0 & 0 & 4 & 33 & 0 & 0 & 0 & 0 & 1 & 103 & 49 & 25 & Leukemia & X03 & cfDNA & 3 & CHP\\_323 & 1\\\\\n",
       "\tLeukemia:CHP\\_323\\_X05-PBMC & 1 & 0 & 0 & 0 & 2 & 47 & 0 & 0 & 0 & 1 & 0 & 153 & 71 & 36 & Leukemia & X05 & PBMC  & 5 & CHP\\_323 & 1\\\\\n",
       "\tLeukemia:CHP\\_323\\_X05-cfDNA & 0 & 0 & 0 & 0 & 0 &  4 & 0 & 0 & 0 & 0 & 0 &  15 &  6 &  2 & Leukemia & X05 & cfDNA & 5 & CHP\\_323 & 1\\\\\n",
       "\tLeukemia:CHP\\_326\\_X05-cfDNA & 0 & 0 & 3 & 0 & 0 &  5 & 0 & 0 & 0 & 0 & 0 &  25 &  8 &  4 & Leukemia & X05 & cfDNA & 5 & CHP\\_326 & 4\\\\\n",
       "\\end{tabular}\n"
      ],
      "text/markdown": [
       "\n",
       "A data.frame: 6 x 20\n",
       "\n",
       "| <!--/--> | CMV &lt;dbl&gt; | EBV &lt;dbl&gt; | HCV &lt;dbl&gt; | Influenza &lt;dbl&gt; | HomoSapiens &lt;dbl&gt; | MDavis &lt;dbl&gt; | HPV &lt;dbl&gt; | CEF &lt;dbl&gt; | TB &lt;dbl&gt; | MCPyV &lt;dbl&gt; | S-pneumoniae &lt;dbl&gt; | n_cdr3 &lt;int&gt; | n_gliph &lt;dbl&gt; | n_cdr3ingliph &lt;int&gt; | cancergroup &lt;chr&gt; | cycle &lt;chr&gt; | sampletype &lt;chr&gt; | cyclenum &lt;dbl&gt; | Patient &lt;chr&gt; | Age &lt;dbl&gt; |\n",
       "|---|---|---|---|---|---|---|---|---|---|---|---|---|---|---|---|---|---|---|---|---|\n",
       "| Leukemia:CHP_319_X05-PBMC | 0 | 0 | 0 | 0 | 0 |  2 | 0 | 0 | 0 | 0 | 0 |  15 |  3 |  3 | Leukemia | X05 | PBMC  | 5 | CHP_319 | 1 |\n",
       "| Leukemia:CHP_323_X03-PBMC | 2 | 0 | 1 | 0 | 0 | 16 | 0 | 0 | 0 | 1 | 0 |  45 | 21 | 12 | Leukemia | X03 | PBMC  | 3 | CHP_323 | 1 |\n",
       "| Leukemia:CHP_323_X03-cfDNA | 2 | 0 | 0 | 0 | 4 | 33 | 0 | 0 | 0 | 0 | 1 | 103 | 49 | 25 | Leukemia | X03 | cfDNA | 3 | CHP_323 | 1 |\n",
       "| Leukemia:CHP_323_X05-PBMC | 1 | 0 | 0 | 0 | 2 | 47 | 0 | 0 | 0 | 1 | 0 | 153 | 71 | 36 | Leukemia | X05 | PBMC  | 5 | CHP_323 | 1 |\n",
       "| Leukemia:CHP_323_X05-cfDNA | 0 | 0 | 0 | 0 | 0 |  4 | 0 | 0 | 0 | 0 | 0 |  15 |  6 |  2 | Leukemia | X05 | cfDNA | 5 | CHP_323 | 1 |\n",
       "| Leukemia:CHP_326_X05-cfDNA | 0 | 0 | 3 | 0 | 0 |  5 | 0 | 0 | 0 | 0 | 0 |  25 |  8 |  4 | Leukemia | X05 | cfDNA | 5 | CHP_326 | 4 |\n",
       "\n"
      ],
      "text/plain": [
       "                           CMV EBV HCV Influenza HomoSapiens MDavis HPV CEF TB\n",
       "Leukemia:CHP_319_X05-PBMC  0   0   0   0         0            2     0   0   0 \n",
       "Leukemia:CHP_323_X03-PBMC  2   0   1   0         0           16     0   0   0 \n",
       "Leukemia:CHP_323_X03-cfDNA 2   0   0   0         4           33     0   0   0 \n",
       "Leukemia:CHP_323_X05-PBMC  1   0   0   0         2           47     0   0   0 \n",
       "Leukemia:CHP_323_X05-cfDNA 0   0   0   0         0            4     0   0   0 \n",
       "Leukemia:CHP_326_X05-cfDNA 0   0   3   0         0            5     0   0   0 \n",
       "                           MCPyV S-pneumoniae n_cdr3 n_gliph n_cdr3ingliph\n",
       "Leukemia:CHP_319_X05-PBMC  0     0             15     3       3           \n",
       "Leukemia:CHP_323_X03-PBMC  1     0             45    21      12           \n",
       "Leukemia:CHP_323_X03-cfDNA 0     1            103    49      25           \n",
       "Leukemia:CHP_323_X05-PBMC  1     0            153    71      36           \n",
       "Leukemia:CHP_323_X05-cfDNA 0     0             15     6       2           \n",
       "Leukemia:CHP_326_X05-cfDNA 0     0             25     8       4           \n",
       "                           cancergroup cycle sampletype cyclenum Patient Age\n",
       "Leukemia:CHP_319_X05-PBMC  Leukemia    X05   PBMC       5        CHP_319 1  \n",
       "Leukemia:CHP_323_X03-PBMC  Leukemia    X03   PBMC       3        CHP_323 1  \n",
       "Leukemia:CHP_323_X03-cfDNA Leukemia    X03   cfDNA      3        CHP_323 1  \n",
       "Leukemia:CHP_323_X05-PBMC  Leukemia    X05   PBMC       5        CHP_323 1  \n",
       "Leukemia:CHP_323_X05-cfDNA Leukemia    X05   cfDNA      5        CHP_323 1  \n",
       "Leukemia:CHP_326_X05-cfDNA Leukemia    X05   cfDNA      5        CHP_326 4  "
      ]
     },
     "metadata": {},
     "output_type": "display_data"
    }
   ],
   "source": [
    "head(samples_tcr)"
   ]
  },
  {
   "cell_type": "markdown",
   "metadata": {},
   "source": [
    "# Fisher test of finding a motif in pre vs post chemo"
   ]
  },
  {
   "cell_type": "code",
   "execution_count": 366,
   "metadata": {
    "vscode": {
     "languageId": "r"
    }
   },
   "outputs": [],
   "source": [
    "# bucket all postchemo together\n",
    "samples_tcr$group <-NA\n",
    "samples_tcr$group[ samples_tcr$cycle == \"X01\"] <- \"pre\"\n",
    "samples_tcr$group[ samples_tcr$cycle != \"X01\"] <- \"post\""
   ]
  },
  {
   "cell_type": "code",
   "execution_count": 367,
   "metadata": {
    "vscode": {
     "languageId": "r"
    }
   },
   "outputs": [],
   "source": [
    "samples_tcr$group <- factor(samples_tcr$group, levels = c(\"pre\", \"post\"))"
   ]
  },
  {
   "cell_type": "code",
   "execution_count": 368,
   "metadata": {
    "vscode": {
     "languageId": "r"
    }
   },
   "outputs": [],
   "source": [
    "mymat <- as.data.frame(matrix(NA, nrow = 0, ncol = 6) )\n",
    "colnames(mymat) <- c(\"Antigen\", \"Cancer\", \"p\", \"OR\", \"Lower\", \"Upper\")"
   ]
  },
  {
   "cell_type": "code",
   "execution_count": 369,
   "metadata": {
    "vscode": {
     "languageId": "r"
    }
   },
   "outputs": [
    {
     "data": {
      "text/plain": [
       "\n",
       "          Leukemia           Lymphoma        Solidtumors T-cellmalignancies \n",
       "               194                 64                129                 23 "
      ]
     },
     "metadata": {},
     "output_type": "display_data"
    }
   ],
   "source": [
    "table(samples_tcr$cancergroup)"
   ]
  },
  {
   "cell_type": "code",
   "execution_count": 370,
   "metadata": {
    "vscode": {
     "languageId": "r"
    }
   },
   "outputs": [
    {
     "name": "stdout",
     "output_type": "stream",
     "text": [
      "[1] \"Leukemia\"\n",
      "[1] \"CMV\"\n",
      "[1] \"EBV\"\n",
      "[1] \"HCV\"\n",
      "[1] \"HPV\"\n",
      "[1] \"Influenza\"\n",
      "[1] \"MCPyV\"\n",
      "[1] \"HomoSapiens\"\n",
      "[1] \"Lymphoma\"\n",
      "[1] \"CMV\"\n",
      "[1] \"EBV\"\n",
      "[1] \"HCV\"\n",
      "[1] \"HPV\"\n",
      "[1] \"Influenza\"\n",
      "[1] \"MCPyV\"\n",
      "[1] \"HomoSapiens\"\n",
      "[1] \"Solidtumors\"\n",
      "[1] \"CMV\"\n",
      "[1] \"EBV\"\n",
      "[1] \"HCV\"\n",
      "[1] \"HPV\"\n",
      "[1] \"Influenza\"\n",
      "[1] \"MCPyV\"\n",
      "[1] \"HomoSapiens\"\n"
     ]
    }
   ],
   "source": [
    "for (c in c(\"Leukemia\", \"Lymphoma\", \"Solidtumors\")) {\n",
    "  print(c)\n",
    "  pbmc <- samples_tcr[samples_tcr$sampletype == \"PBMC\", ]\n",
    "  pbmc <- pbmc[pbmc$cancergroup == c, ]\n",
    "\n",
    "pbmc <- pbmc[!is.na(pbmc$group),]\n",
    "\n",
    "  for (v in c(\"CMV\", \"EBV\", \"HCV\", \"HPV\", \"Influenza\", \"MCPyV\", \"HomoSapiens\")) {\n",
    "    print(v)\n",
    "    pbmc$Notfound <- pbmc$n_gliph - pbmc[[v]]\n",
    "\n",
    "    contingency_table <- pbmc %>%\n",
    "      group_by(group) %>%\n",
    "      summarise(\n",
    "        Motifs_Found = sum(eval(parse(text = v))),\n",
    "        Motifs_Not_Found = sum(Notfound)\n",
    "      )\n",
    "\n",
    "    contingency_table <- as.data.frame(contingency_table)\n",
    "    rownames(contingency_table) <- contingency_table$group\n",
    "    contingency_table$group <- NULL\n",
    "    contingency_table <- as.matrix(t(contingency_table))\n",
    "\n",
    "    c1 <- fisher.test(contingency_table)\n",
    "\n",
    "    mymat_c <- as.data.frame(matrix(NA, nrow = 1, ncol = 6))\n",
    "\n",
    "    colnames(mymat_c) <- c( \"Antigen\", \"Cancer\", \"p\", \"OR\", \"Lower\", \"Upper\")\n",
    "   \n",
    "    mymat_c$Antigen[1] <- v\n",
    "    mymat_c$Cancer[1] <- c\n",
    "    mymat_c$p[1] <- c1$p.value\n",
    "    mymat_c$OR[1] <- c1$estimate\n",
    "    mymat_c$Lower[1] <- c1$conf.int[1]\n",
    "    mymat_c$Upper[1] <- c1$conf.int[2]\n",
    "    mymat <- rbind(mymat, mymat_c[1,])\n",
    "  } # end of virus loop\n",
    "  mymat <- rbind(mymat, mymat_c)\n",
    "} # end of cancer loop\n"
   ]
  },
  {
   "cell_type": "code",
   "execution_count": 372,
   "metadata": {
    "vscode": {
     "languageId": "r"
    }
   },
   "outputs": [
    {
     "data": {
      "text/html": [
       "<table class=\"dataframe\">\n",
       "<caption>A data.frame: 6 x 21</caption>\n",
       "<thead>\n",
       "\t<tr><th></th><th scope=col>CMV</th><th scope=col>EBV</th><th scope=col>HCV</th><th scope=col>Influenza</th><th scope=col>HomoSapiens</th><th scope=col>MDavis</th><th scope=col>HPV</th><th scope=col>CEF</th><th scope=col>TB</th><th scope=col>MCPyV</th><th scope=col>...</th><th scope=col>n_cdr3</th><th scope=col>n_gliph</th><th scope=col>n_cdr3ingliph</th><th scope=col>cancergroup</th><th scope=col>cycle</th><th scope=col>sampletype</th><th scope=col>cyclenum</th><th scope=col>Patient</th><th scope=col>Age</th><th scope=col>group</th></tr>\n",
       "\t<tr><th></th><th scope=col>&lt;dbl&gt;</th><th scope=col>&lt;dbl&gt;</th><th scope=col>&lt;dbl&gt;</th><th scope=col>&lt;dbl&gt;</th><th scope=col>&lt;dbl&gt;</th><th scope=col>&lt;dbl&gt;</th><th scope=col>&lt;dbl&gt;</th><th scope=col>&lt;dbl&gt;</th><th scope=col>&lt;dbl&gt;</th><th scope=col>&lt;dbl&gt;</th><th scope=col>...</th><th scope=col>&lt;int&gt;</th><th scope=col>&lt;dbl&gt;</th><th scope=col>&lt;int&gt;</th><th scope=col>&lt;chr&gt;</th><th scope=col>&lt;chr&gt;</th><th scope=col>&lt;chr&gt;</th><th scope=col>&lt;dbl&gt;</th><th scope=col>&lt;chr&gt;</th><th scope=col>&lt;dbl&gt;</th><th scope=col>&lt;fct&gt;</th></tr>\n",
       "</thead>\n",
       "<tbody>\n",
       "\t<tr><th scope=row>Leukemia:CHP_319_X05-PBMC</th><td>0</td><td>0</td><td>0</td><td>0</td><td>0</td><td> 2</td><td>0</td><td>0</td><td>0</td><td>0</td><td>...</td><td> 15</td><td> 3</td><td> 3</td><td>Leukemia</td><td>X05</td><td>PBMC </td><td>5</td><td>CHP_319</td><td>1</td><td>post</td></tr>\n",
       "\t<tr><th scope=row>Leukemia:CHP_323_X03-PBMC</th><td>2</td><td>0</td><td>1</td><td>0</td><td>0</td><td>16</td><td>0</td><td>0</td><td>0</td><td>1</td><td>...</td><td> 45</td><td>21</td><td>12</td><td>Leukemia</td><td>X03</td><td>PBMC </td><td>3</td><td>CHP_323</td><td>1</td><td>post</td></tr>\n",
       "\t<tr><th scope=row>Leukemia:CHP_323_X03-cfDNA</th><td>2</td><td>0</td><td>0</td><td>0</td><td>4</td><td>33</td><td>0</td><td>0</td><td>0</td><td>0</td><td>...</td><td>103</td><td>49</td><td>25</td><td>Leukemia</td><td>X03</td><td>cfDNA</td><td>3</td><td>CHP_323</td><td>1</td><td>post</td></tr>\n",
       "\t<tr><th scope=row>Leukemia:CHP_323_X05-PBMC</th><td>1</td><td>0</td><td>0</td><td>0</td><td>2</td><td>47</td><td>0</td><td>0</td><td>0</td><td>1</td><td>...</td><td>153</td><td>71</td><td>36</td><td>Leukemia</td><td>X05</td><td>PBMC </td><td>5</td><td>CHP_323</td><td>1</td><td>post</td></tr>\n",
       "\t<tr><th scope=row>Leukemia:CHP_323_X05-cfDNA</th><td>0</td><td>0</td><td>0</td><td>0</td><td>0</td><td> 4</td><td>0</td><td>0</td><td>0</td><td>0</td><td>...</td><td> 15</td><td> 6</td><td> 2</td><td>Leukemia</td><td>X05</td><td>cfDNA</td><td>5</td><td>CHP_323</td><td>1</td><td>post</td></tr>\n",
       "\t<tr><th scope=row>Leukemia:CHP_326_X05-cfDNA</th><td>0</td><td>0</td><td>3</td><td>0</td><td>0</td><td> 5</td><td>0</td><td>0</td><td>0</td><td>0</td><td>...</td><td> 25</td><td> 8</td><td> 4</td><td>Leukemia</td><td>X05</td><td>cfDNA</td><td>5</td><td>CHP_326</td><td>4</td><td>post</td></tr>\n",
       "</tbody>\n",
       "</table>\n"
      ],
      "text/latex": [
       "A data.frame: 6 x 21\n",
       "\\begin{tabular}{r|lllllllllllllllllllll}\n",
       "  & CMV & EBV & HCV & Influenza & HomoSapiens & MDavis & HPV & CEF & TB & MCPyV & ... & n\\_cdr3 & n\\_gliph & n\\_cdr3ingliph & cancergroup & cycle & sampletype & cyclenum & Patient & Age & group\\\\\n",
       "  & <dbl> & <dbl> & <dbl> & <dbl> & <dbl> & <dbl> & <dbl> & <dbl> & <dbl> & <dbl> & ... & <int> & <dbl> & <int> & <chr> & <chr> & <chr> & <dbl> & <chr> & <dbl> & <fct>\\\\\n",
       "\\hline\n",
       "\tLeukemia:CHP\\_319\\_X05-PBMC & 0 & 0 & 0 & 0 & 0 &  2 & 0 & 0 & 0 & 0 & ... &  15 &  3 &  3 & Leukemia & X05 & PBMC  & 5 & CHP\\_319 & 1 & post\\\\\n",
       "\tLeukemia:CHP\\_323\\_X03-PBMC & 2 & 0 & 1 & 0 & 0 & 16 & 0 & 0 & 0 & 1 & ... &  45 & 21 & 12 & Leukemia & X03 & PBMC  & 3 & CHP\\_323 & 1 & post\\\\\n",
       "\tLeukemia:CHP\\_323\\_X03-cfDNA & 2 & 0 & 0 & 0 & 4 & 33 & 0 & 0 & 0 & 0 & ... & 103 & 49 & 25 & Leukemia & X03 & cfDNA & 3 & CHP\\_323 & 1 & post\\\\\n",
       "\tLeukemia:CHP\\_323\\_X05-PBMC & 1 & 0 & 0 & 0 & 2 & 47 & 0 & 0 & 0 & 1 & ... & 153 & 71 & 36 & Leukemia & X05 & PBMC  & 5 & CHP\\_323 & 1 & post\\\\\n",
       "\tLeukemia:CHP\\_323\\_X05-cfDNA & 0 & 0 & 0 & 0 & 0 &  4 & 0 & 0 & 0 & 0 & ... &  15 &  6 &  2 & Leukemia & X05 & cfDNA & 5 & CHP\\_323 & 1 & post\\\\\n",
       "\tLeukemia:CHP\\_326\\_X05-cfDNA & 0 & 0 & 3 & 0 & 0 &  5 & 0 & 0 & 0 & 0 & ... &  25 &  8 &  4 & Leukemia & X05 & cfDNA & 5 & CHP\\_326 & 4 & post\\\\\n",
       "\\end{tabular}\n"
      ],
      "text/markdown": [
       "\n",
       "A data.frame: 6 x 21\n",
       "\n",
       "| <!--/--> | CMV &lt;dbl&gt; | EBV &lt;dbl&gt; | HCV &lt;dbl&gt; | Influenza &lt;dbl&gt; | HomoSapiens &lt;dbl&gt; | MDavis &lt;dbl&gt; | HPV &lt;dbl&gt; | CEF &lt;dbl&gt; | TB &lt;dbl&gt; | MCPyV &lt;dbl&gt; | ... ... | n_cdr3 &lt;int&gt; | n_gliph &lt;dbl&gt; | n_cdr3ingliph &lt;int&gt; | cancergroup &lt;chr&gt; | cycle &lt;chr&gt; | sampletype &lt;chr&gt; | cyclenum &lt;dbl&gt; | Patient &lt;chr&gt; | Age &lt;dbl&gt; | group &lt;fct&gt; |\n",
       "|---|---|---|---|---|---|---|---|---|---|---|---|---|---|---|---|---|---|---|---|---|---|\n",
       "| Leukemia:CHP_319_X05-PBMC | 0 | 0 | 0 | 0 | 0 |  2 | 0 | 0 | 0 | 0 | ... |  15 |  3 |  3 | Leukemia | X05 | PBMC  | 5 | CHP_319 | 1 | post |\n",
       "| Leukemia:CHP_323_X03-PBMC | 2 | 0 | 1 | 0 | 0 | 16 | 0 | 0 | 0 | 1 | ... |  45 | 21 | 12 | Leukemia | X03 | PBMC  | 3 | CHP_323 | 1 | post |\n",
       "| Leukemia:CHP_323_X03-cfDNA | 2 | 0 | 0 | 0 | 4 | 33 | 0 | 0 | 0 | 0 | ... | 103 | 49 | 25 | Leukemia | X03 | cfDNA | 3 | CHP_323 | 1 | post |\n",
       "| Leukemia:CHP_323_X05-PBMC | 1 | 0 | 0 | 0 | 2 | 47 | 0 | 0 | 0 | 1 | ... | 153 | 71 | 36 | Leukemia | X05 | PBMC  | 5 | CHP_323 | 1 | post |\n",
       "| Leukemia:CHP_323_X05-cfDNA | 0 | 0 | 0 | 0 | 0 |  4 | 0 | 0 | 0 | 0 | ... |  15 |  6 |  2 | Leukemia | X05 | cfDNA | 5 | CHP_323 | 1 | post |\n",
       "| Leukemia:CHP_326_X05-cfDNA | 0 | 0 | 3 | 0 | 0 |  5 | 0 | 0 | 0 | 0 | ... |  25 |  8 |  4 | Leukemia | X05 | cfDNA | 5 | CHP_326 | 4 | post |\n",
       "\n"
      ],
      "text/plain": [
       "                           CMV EBV HCV Influenza HomoSapiens MDavis HPV CEF TB\n",
       "Leukemia:CHP_319_X05-PBMC  0   0   0   0         0            2     0   0   0 \n",
       "Leukemia:CHP_323_X03-PBMC  2   0   1   0         0           16     0   0   0 \n",
       "Leukemia:CHP_323_X03-cfDNA 2   0   0   0         4           33     0   0   0 \n",
       "Leukemia:CHP_323_X05-PBMC  1   0   0   0         2           47     0   0   0 \n",
       "Leukemia:CHP_323_X05-cfDNA 0   0   0   0         0            4     0   0   0 \n",
       "Leukemia:CHP_326_X05-cfDNA 0   0   3   0         0            5     0   0   0 \n",
       "                           MCPyV ... n_cdr3 n_gliph n_cdr3ingliph cancergroup\n",
       "Leukemia:CHP_319_X05-PBMC  0     ...  15     3       3            Leukemia   \n",
       "Leukemia:CHP_323_X03-PBMC  1     ...  45    21      12            Leukemia   \n",
       "Leukemia:CHP_323_X03-cfDNA 0     ... 103    49      25            Leukemia   \n",
       "Leukemia:CHP_323_X05-PBMC  1     ... 153    71      36            Leukemia   \n",
       "Leukemia:CHP_323_X05-cfDNA 0     ...  15     6       2            Leukemia   \n",
       "Leukemia:CHP_326_X05-cfDNA 0     ...  25     8       4            Leukemia   \n",
       "                           cycle sampletype cyclenum Patient Age group\n",
       "Leukemia:CHP_319_X05-PBMC  X05   PBMC       5        CHP_319 1   post \n",
       "Leukemia:CHP_323_X03-PBMC  X03   PBMC       3        CHP_323 1   post \n",
       "Leukemia:CHP_323_X03-cfDNA X03   cfDNA      3        CHP_323 1   post \n",
       "Leukemia:CHP_323_X05-PBMC  X05   PBMC       5        CHP_323 1   post \n",
       "Leukemia:CHP_323_X05-cfDNA X05   cfDNA      5        CHP_323 1   post \n",
       "Leukemia:CHP_326_X05-cfDNA X05   cfDNA      5        CHP_326 4   post "
      ]
     },
     "metadata": {},
     "output_type": "display_data"
    }
   ],
   "source": [
    "head(samples_tcr)"
   ]
  },
  {
   "cell_type": "code",
   "execution_count": 373,
   "metadata": {
    "vscode": {
     "languageId": "r"
    }
   },
   "outputs": [
    {
     "data": {
      "text/plain": [
       "\n",
       "\tFisher's Exact Test for Count Data\n",
       "\n",
       "data:  contingency_table\n",
       "p-value = 0.232\n",
       "alternative hypothesis: true odds ratio is not equal to 1\n",
       "95 percent confidence interval:\n",
       " 0.8807361 1.5812877\n",
       "sample estimates:\n",
       "odds ratio \n",
       "  1.185801 \n"
      ]
     },
     "metadata": {},
     "output_type": "display_data"
    }
   ],
   "source": [
    "contingency_table"
   ]
  },
  {
   "cell_type": "code",
   "execution_count": 154,
   "metadata": {
    "vscode": {
     "languageId": "r"
    }
   },
   "outputs": [],
   "source": [
    "# pbmc <- samples_tcr[samples_tcr$sampletype == \"cfDNA\", ]\n",
    "# pbmc <- pbmc[pbmc$cancergroup == \"Leukemia\", ]\n",
    "\n",
    "#     pbmc$Notfound <- pbmc$n_gliph - pbmc$HomoSapiens\n",
    "\n",
    "#     contingency_table <- pbmc %>%\n",
    "#       group_by(group) %>%\n",
    "#       summarise(\n",
    "#         Motifs_Found = sum(HomoSapiens),\n",
    "#         Motifs_Not_Found = sum(Notfound)\n",
    "#       )\n",
    "\n",
    "#     contingency_table <- as.data.frame(contingency_table)\n",
    "#     rownames(contingency_table) <- contingency_table$group\n",
    "#     contingency_table$group <- NULL\n",
    "#     contingency_table <- as.matrix(t(contingency_table))\n",
    "\n",
    "#     c1 <- fisher.test(contingency_table)"
   ]
  },
  {
   "cell_type": "code",
   "execution_count": 155,
   "metadata": {
    "vscode": {
     "languageId": "r"
    }
   },
   "outputs": [],
   "source": [
    "mymat$padj <- p.adjust(mymat$p, method = \"fdr\")"
   ]
  },
  {
   "cell_type": "code",
   "execution_count": 156,
   "metadata": {
    "vscode": {
     "languageId": "r"
    }
   },
   "outputs": [
    {
     "data": {
      "text/html": [
       "<table class=\"dataframe\">\n",
       "<caption>A data.frame: 24 x 7</caption>\n",
       "<thead>\n",
       "\t<tr><th></th><th scope=col>Antigen</th><th scope=col>Cancer</th><th scope=col>p</th><th scope=col>OR</th><th scope=col>Lower</th><th scope=col>Upper</th><th scope=col>padj</th></tr>\n",
       "\t<tr><th></th><th scope=col>&lt;chr&gt;</th><th scope=col>&lt;chr&gt;</th><th scope=col>&lt;dbl&gt;</th><th scope=col>&lt;dbl&gt;</th><th scope=col>&lt;dbl&gt;</th><th scope=col>&lt;dbl&gt;</th><th scope=col>&lt;dbl&gt;</th></tr>\n",
       "</thead>\n",
       "<tbody>\n",
       "\t<tr><th scope=row>22</th><td>MCPyV      </td><td>Solidtumors</td><td>0.001126502</td><td>0.1538678</td><td>0.018037001</td><td> 0.5928406</td><td>0.02703605</td></tr>\n",
       "\t<tr><th scope=row>4</th><td>HPV        </td><td>Leukemia   </td><td>0.027866528</td><td>2.1386070</td><td>1.058232913</td><td> 4.1002458</td><td>0.20951079</td></tr>\n",
       "\t<tr><th scope=row>7</th><td>HomoSapiens</td><td>Leukemia   </td><td>0.043648082</td><td>0.7547400</td><td>0.566014512</td><td> 0.9919873</td><td>0.20951079</td></tr>\n",
       "\t<tr><th scope=row>8</th><td>HomoSapiens</td><td>Leukemia   </td><td>0.043648082</td><td>0.7547400</td><td>0.566014512</td><td> 0.9919873</td><td>0.20951079</td></tr>\n",
       "\t<tr><th scope=row>14</th><td>MCPyV      </td><td>Lymphoma   </td><td>0.027290524</td><td>5.9613420</td><td>0.971929032</td><td>62.8622068</td><td>0.20951079</td></tr>\n",
       "\t<tr><th scope=row>3</th><td>HCV        </td><td>Leukemia   </td><td>0.173908607</td><td>1.3434082</td><td>0.865256541</td><td> 2.0282845</td><td>0.43874970</td></tr>\n",
       "\t<tr><th scope=row>5</th><td>Influenza  </td><td>Leukemia   </td><td>0.176649863</td><td>2.1590157</td><td>0.595183859</td><td> 6.5917719</td><td>0.43874970</td></tr>\n",
       "\t<tr><th scope=row>15</th><td>HomoSapiens</td><td>Lymphoma   </td><td>0.218935997</td><td>0.6726058</td><td>0.347977014</td><td> 1.2282312</td><td>0.43874970</td></tr>\n",
       "\t<tr><th scope=row>16</th><td>HomoSapiens</td><td>Lymphoma   </td><td>0.218935997</td><td>0.6726058</td><td>0.347977014</td><td> 1.2282312</td><td>0.43874970</td></tr>\n",
       "\t<tr><th scope=row>18</th><td>EBV        </td><td>Solidtumors</td><td>0.151329893</td><td>1.4620271</td><td>0.827015278</td><td> 2.5046284</td><td>0.43874970</td></tr>\n",
       "\t<tr><th scope=row>20</th><td>HPV        </td><td>Solidtumors</td><td>0.237656087</td><td>0.4429301</td><td>0.084742738</td><td> 1.4775651</td><td>0.43874970</td></tr>\n",
       "\t<tr><th scope=row>23</th><td>HomoSapiens</td><td>Solidtumors</td><td>0.231992334</td><td>1.1858013</td><td>0.880736079</td><td> 1.5812877</td><td>0.43874970</td></tr>\n",
       "\t<tr><th scope=row>24</th><td>HomoSapiens</td><td>Solidtumors</td><td>0.231992334</td><td>1.1858013</td><td>0.880736079</td><td> 1.5812877</td><td>0.43874970</td></tr>\n",
       "\t<tr><th scope=row>6</th><td>MCPyV      </td><td>Leukemia   </td><td>0.280598334</td><td>0.7242091</td><td>0.399565393</td><td> 1.2306506</td><td>0.47521793</td></tr>\n",
       "\t<tr><th scope=row>13</th><td>Influenza  </td><td>Lymphoma   </td><td>0.297011208</td><td>      Inf</td><td>0.060688994</td><td>       Inf</td><td>0.47521793</td></tr>\n",
       "\t<tr><th scope=row>17</th><td>CMV        </td><td>Solidtumors</td><td>0.369111327</td><td>1.2651894</td><td>0.752063769</td><td> 2.0659834</td><td>0.55366699</td></tr>\n",
       "\t<tr><th scope=row>10</th><td>EBV        </td><td>Lymphoma   </td><td>0.423445438</td><td>0.5042521</td><td>0.092491115</td><td> 1.8184829</td><td>0.59780532</td></tr>\n",
       "\t<tr><th scope=row>2</th><td>EBV        </td><td>Leukemia   </td><td>0.602403139</td><td>1.1514774</td><td>0.670034077</td><td> 1.8902571</td><td>0.80320419</td></tr>\n",
       "\t<tr><th scope=row>12</th><td>HPV        </td><td>Lymphoma   </td><td>0.681264669</td><td>0.3933918</td><td>0.008534722</td><td> 3.2560754</td><td>0.86054484</td></tr>\n",
       "\t<tr><th scope=row>19</th><td>HCV        </td><td>Solidtumors</td><td>0.783995342</td><td>0.8817754</td><td>0.471969913</td><td> 1.5588773</td><td>0.94079441</td></tr>\n",
       "\t<tr><th scope=row>1</th><td>CMV        </td><td>Leukemia   </td><td>0.844305361</td><td>1.0290674</td><td>0.679025516</td><td> 1.5163563</td><td>0.96492041</td></tr>\n",
       "\t<tr><th scope=row>9</th><td>CMV        </td><td>Lymphoma   </td><td>1.000000000</td><td>1.0296814</td><td>0.433891965</td><td> 2.2703729</td><td>1.00000000</td></tr>\n",
       "\t<tr><th scope=row>11</th><td>HCV        </td><td>Lymphoma   </td><td>1.000000000</td><td>0.7877503</td><td>0.136605437</td><td> 3.1743985</td><td>1.00000000</td></tr>\n",
       "\t<tr><th scope=row>21</th><td>Influenza  </td><td>Solidtumors</td><td>1.000000000</td><td>0.9302563</td><td>0.222598758</td><td> 2.9683601</td><td>1.00000000</td></tr>\n",
       "</tbody>\n",
       "</table>\n"
      ],
      "text/latex": [
       "A data.frame: 24 x 7\n",
       "\\begin{tabular}{r|lllllll}\n",
       "  & Antigen & Cancer & p & OR & Lower & Upper & padj\\\\\n",
       "  & <chr> & <chr> & <dbl> & <dbl> & <dbl> & <dbl> & <dbl>\\\\\n",
       "\\hline\n",
       "\t22 & MCPyV       & Solidtumors & 0.001126502 & 0.1538678 & 0.018037001 &  0.5928406 & 0.02703605\\\\\n",
       "\t4 & HPV         & Leukemia    & 0.027866528 & 2.1386070 & 1.058232913 &  4.1002458 & 0.20951079\\\\\n",
       "\t7 & HomoSapiens & Leukemia    & 0.043648082 & 0.7547400 & 0.566014512 &  0.9919873 & 0.20951079\\\\\n",
       "\t8 & HomoSapiens & Leukemia    & 0.043648082 & 0.7547400 & 0.566014512 &  0.9919873 & 0.20951079\\\\\n",
       "\t14 & MCPyV       & Lymphoma    & 0.027290524 & 5.9613420 & 0.971929032 & 62.8622068 & 0.20951079\\\\\n",
       "\t3 & HCV         & Leukemia    & 0.173908607 & 1.3434082 & 0.865256541 &  2.0282845 & 0.43874970\\\\\n",
       "\t5 & Influenza   & Leukemia    & 0.176649863 & 2.1590157 & 0.595183859 &  6.5917719 & 0.43874970\\\\\n",
       "\t15 & HomoSapiens & Lymphoma    & 0.218935997 & 0.6726058 & 0.347977014 &  1.2282312 & 0.43874970\\\\\n",
       "\t16 & HomoSapiens & Lymphoma    & 0.218935997 & 0.6726058 & 0.347977014 &  1.2282312 & 0.43874970\\\\\n",
       "\t18 & EBV         & Solidtumors & 0.151329893 & 1.4620271 & 0.827015278 &  2.5046284 & 0.43874970\\\\\n",
       "\t20 & HPV         & Solidtumors & 0.237656087 & 0.4429301 & 0.084742738 &  1.4775651 & 0.43874970\\\\\n",
       "\t23 & HomoSapiens & Solidtumors & 0.231992334 & 1.1858013 & 0.880736079 &  1.5812877 & 0.43874970\\\\\n",
       "\t24 & HomoSapiens & Solidtumors & 0.231992334 & 1.1858013 & 0.880736079 &  1.5812877 & 0.43874970\\\\\n",
       "\t6 & MCPyV       & Leukemia    & 0.280598334 & 0.7242091 & 0.399565393 &  1.2306506 & 0.47521793\\\\\n",
       "\t13 & Influenza   & Lymphoma    & 0.297011208 &       Inf & 0.060688994 &        Inf & 0.47521793\\\\\n",
       "\t17 & CMV         & Solidtumors & 0.369111327 & 1.2651894 & 0.752063769 &  2.0659834 & 0.55366699\\\\\n",
       "\t10 & EBV         & Lymphoma    & 0.423445438 & 0.5042521 & 0.092491115 &  1.8184829 & 0.59780532\\\\\n",
       "\t2 & EBV         & Leukemia    & 0.602403139 & 1.1514774 & 0.670034077 &  1.8902571 & 0.80320419\\\\\n",
       "\t12 & HPV         & Lymphoma    & 0.681264669 & 0.3933918 & 0.008534722 &  3.2560754 & 0.86054484\\\\\n",
       "\t19 & HCV         & Solidtumors & 0.783995342 & 0.8817754 & 0.471969913 &  1.5588773 & 0.94079441\\\\\n",
       "\t1 & CMV         & Leukemia    & 0.844305361 & 1.0290674 & 0.679025516 &  1.5163563 & 0.96492041\\\\\n",
       "\t9 & CMV         & Lymphoma    & 1.000000000 & 1.0296814 & 0.433891965 &  2.2703729 & 1.00000000\\\\\n",
       "\t11 & HCV         & Lymphoma    & 1.000000000 & 0.7877503 & 0.136605437 &  3.1743985 & 1.00000000\\\\\n",
       "\t21 & Influenza   & Solidtumors & 1.000000000 & 0.9302563 & 0.222598758 &  2.9683601 & 1.00000000\\\\\n",
       "\\end{tabular}\n"
      ],
      "text/markdown": [
       "\n",
       "A data.frame: 24 x 7\n",
       "\n",
       "| <!--/--> | Antigen &lt;chr&gt; | Cancer &lt;chr&gt; | p &lt;dbl&gt; | OR &lt;dbl&gt; | Lower &lt;dbl&gt; | Upper &lt;dbl&gt; | padj &lt;dbl&gt; |\n",
       "|---|---|---|---|---|---|---|---|\n",
       "| 22 | MCPyV       | Solidtumors | 0.001126502 | 0.1538678 | 0.018037001 |  0.5928406 | 0.02703605 |\n",
       "| 4 | HPV         | Leukemia    | 0.027866528 | 2.1386070 | 1.058232913 |  4.1002458 | 0.20951079 |\n",
       "| 7 | HomoSapiens | Leukemia    | 0.043648082 | 0.7547400 | 0.566014512 |  0.9919873 | 0.20951079 |\n",
       "| 8 | HomoSapiens | Leukemia    | 0.043648082 | 0.7547400 | 0.566014512 |  0.9919873 | 0.20951079 |\n",
       "| 14 | MCPyV       | Lymphoma    | 0.027290524 | 5.9613420 | 0.971929032 | 62.8622068 | 0.20951079 |\n",
       "| 3 | HCV         | Leukemia    | 0.173908607 | 1.3434082 | 0.865256541 |  2.0282845 | 0.43874970 |\n",
       "| 5 | Influenza   | Leukemia    | 0.176649863 | 2.1590157 | 0.595183859 |  6.5917719 | 0.43874970 |\n",
       "| 15 | HomoSapiens | Lymphoma    | 0.218935997 | 0.6726058 | 0.347977014 |  1.2282312 | 0.43874970 |\n",
       "| 16 | HomoSapiens | Lymphoma    | 0.218935997 | 0.6726058 | 0.347977014 |  1.2282312 | 0.43874970 |\n",
       "| 18 | EBV         | Solidtumors | 0.151329893 | 1.4620271 | 0.827015278 |  2.5046284 | 0.43874970 |\n",
       "| 20 | HPV         | Solidtumors | 0.237656087 | 0.4429301 | 0.084742738 |  1.4775651 | 0.43874970 |\n",
       "| 23 | HomoSapiens | Solidtumors | 0.231992334 | 1.1858013 | 0.880736079 |  1.5812877 | 0.43874970 |\n",
       "| 24 | HomoSapiens | Solidtumors | 0.231992334 | 1.1858013 | 0.880736079 |  1.5812877 | 0.43874970 |\n",
       "| 6 | MCPyV       | Leukemia    | 0.280598334 | 0.7242091 | 0.399565393 |  1.2306506 | 0.47521793 |\n",
       "| 13 | Influenza   | Lymphoma    | 0.297011208 |       Inf | 0.060688994 |        Inf | 0.47521793 |\n",
       "| 17 | CMV         | Solidtumors | 0.369111327 | 1.2651894 | 0.752063769 |  2.0659834 | 0.55366699 |\n",
       "| 10 | EBV         | Lymphoma    | 0.423445438 | 0.5042521 | 0.092491115 |  1.8184829 | 0.59780532 |\n",
       "| 2 | EBV         | Leukemia    | 0.602403139 | 1.1514774 | 0.670034077 |  1.8902571 | 0.80320419 |\n",
       "| 12 | HPV         | Lymphoma    | 0.681264669 | 0.3933918 | 0.008534722 |  3.2560754 | 0.86054484 |\n",
       "| 19 | HCV         | Solidtumors | 0.783995342 | 0.8817754 | 0.471969913 |  1.5588773 | 0.94079441 |\n",
       "| 1 | CMV         | Leukemia    | 0.844305361 | 1.0290674 | 0.679025516 |  1.5163563 | 0.96492041 |\n",
       "| 9 | CMV         | Lymphoma    | 1.000000000 | 1.0296814 | 0.433891965 |  2.2703729 | 1.00000000 |\n",
       "| 11 | HCV         | Lymphoma    | 1.000000000 | 0.7877503 | 0.136605437 |  3.1743985 | 1.00000000 |\n",
       "| 21 | Influenza   | Solidtumors | 1.000000000 | 0.9302563 | 0.222598758 |  2.9683601 | 1.00000000 |\n",
       "\n"
      ],
      "text/plain": [
       "   Antigen     Cancer      p           OR        Lower       Upper     \n",
       "22 MCPyV       Solidtumors 0.001126502 0.1538678 0.018037001  0.5928406\n",
       "4  HPV         Leukemia    0.027866528 2.1386070 1.058232913  4.1002458\n",
       "7  HomoSapiens Leukemia    0.043648082 0.7547400 0.566014512  0.9919873\n",
       "8  HomoSapiens Leukemia    0.043648082 0.7547400 0.566014512  0.9919873\n",
       "14 MCPyV       Lymphoma    0.027290524 5.9613420 0.971929032 62.8622068\n",
       "3  HCV         Leukemia    0.173908607 1.3434082 0.865256541  2.0282845\n",
       "5  Influenza   Leukemia    0.176649863 2.1590157 0.595183859  6.5917719\n",
       "15 HomoSapiens Lymphoma    0.218935997 0.6726058 0.347977014  1.2282312\n",
       "16 HomoSapiens Lymphoma    0.218935997 0.6726058 0.347977014  1.2282312\n",
       "18 EBV         Solidtumors 0.151329893 1.4620271 0.827015278  2.5046284\n",
       "20 HPV         Solidtumors 0.237656087 0.4429301 0.084742738  1.4775651\n",
       "23 HomoSapiens Solidtumors 0.231992334 1.1858013 0.880736079  1.5812877\n",
       "24 HomoSapiens Solidtumors 0.231992334 1.1858013 0.880736079  1.5812877\n",
       "6  MCPyV       Leukemia    0.280598334 0.7242091 0.399565393  1.2306506\n",
       "13 Influenza   Lymphoma    0.297011208       Inf 0.060688994        Inf\n",
       "17 CMV         Solidtumors 0.369111327 1.2651894 0.752063769  2.0659834\n",
       "10 EBV         Lymphoma    0.423445438 0.5042521 0.092491115  1.8184829\n",
       "2  EBV         Leukemia    0.602403139 1.1514774 0.670034077  1.8902571\n",
       "12 HPV         Lymphoma    0.681264669 0.3933918 0.008534722  3.2560754\n",
       "19 HCV         Solidtumors 0.783995342 0.8817754 0.471969913  1.5588773\n",
       "1  CMV         Leukemia    0.844305361 1.0290674 0.679025516  1.5163563\n",
       "9  CMV         Lymphoma    1.000000000 1.0296814 0.433891965  2.2703729\n",
       "11 HCV         Lymphoma    1.000000000 0.7877503 0.136605437  3.1743985\n",
       "21 Influenza   Solidtumors 1.000000000 0.9302563 0.222598758  2.9683601\n",
       "   padj      \n",
       "22 0.02703605\n",
       "4  0.20951079\n",
       "7  0.20951079\n",
       "8  0.20951079\n",
       "14 0.20951079\n",
       "3  0.43874970\n",
       "5  0.43874970\n",
       "15 0.43874970\n",
       "16 0.43874970\n",
       "18 0.43874970\n",
       "20 0.43874970\n",
       "23 0.43874970\n",
       "24 0.43874970\n",
       "6  0.47521793\n",
       "13 0.47521793\n",
       "17 0.55366699\n",
       "10 0.59780532\n",
       "2  0.80320419\n",
       "12 0.86054484\n",
       "19 0.94079441\n",
       "1  0.96492041\n",
       "9  1.00000000\n",
       "11 1.00000000\n",
       "21 1.00000000"
      ]
     },
     "metadata": {},
     "output_type": "display_data"
    }
   ],
   "source": [
    "mymat[order(mymat$padj),]"
   ]
  },
  {
   "cell_type": "code",
   "execution_count": 232,
   "metadata": {
    "vscode": {
     "languageId": "r"
    }
   },
   "outputs": [
    {
     "data": {
      "text/html": [
       "<table class=\"dataframe\">\n",
       "<caption>A data.frame: 6 x 67</caption>\n",
       "<thead>\n",
       "\t<tr><th></th><th scope=col>sample_id</th><th scope=col>Patient</th><th scope=col>cycle</th><th scope=col>FOLD</th><th scope=col>ATC</th><th scope=col>Age</th><th scope=col>Disease_type</th><th scope=col>TE_fold</th><th scope=col>CD3</th><th scope=col>EM</th><th scope=col>...</th><th scope=col>SE_Shannon</th><th scope=col>observed_Simpson</th><th scope=col>estimated_Simpson</th><th scope=col>SE_Simpson</th><th scope=col>basename</th><th scope=col>file</th><th scope=col>sampletype</th><th scope=col>Group</th><th scope=col>log10shann</th><th scope=col>samplename</th></tr>\n",
       "\t<tr><th></th><th scope=col>&lt;chr&gt;</th><th scope=col>&lt;chr&gt;</th><th scope=col>&lt;chr&gt;</th><th scope=col>&lt;dbl&gt;</th><th scope=col>&lt;dbl&gt;</th><th scope=col>&lt;dbl&gt;</th><th scope=col>&lt;chr&gt;</th><th scope=col>&lt;dbl&gt;</th><th scope=col>&lt;int&gt;</th><th scope=col>&lt;int&gt;</th><th scope=col>...</th><th scope=col>&lt;dbl&gt;</th><th scope=col>&lt;dbl&gt;</th><th scope=col>&lt;dbl&gt;</th><th scope=col>&lt;dbl&gt;</th><th scope=col>&lt;chr&gt;</th><th scope=col>&lt;chr&gt;</th><th scope=col>&lt;chr&gt;</th><th scope=col>&lt;chr&gt;</th><th scope=col>&lt;dbl&gt;</th><th scope=col>&lt;chr&gt;</th></tr>\n",
       "</thead>\n",
       "<tbody>\n",
       "\t<tr><th scope=row>746</th><td>CHP_408_01</td><td>CHP_408</td><td>X01</td><td>5.1</td><td>338.80</td><td>5</td><td>OS</td><td>5.1</td><td>2140</td><td>338</td><td>...</td><td>0.267</td><td>  8.287</td><td>  8.391</td><td>0.424</td><td>CHP_408-01_PBMC-DNA</td><td>batch12_30Apr2021/mixcr/clones/CLONES_TRBCHP_408-01_PBMC-DNA.txt              </td><td>PBMC </td><td>CHP</td><td>1.0133429</td><td>Solidtumors:CHP_408_X01-PBMC </td></tr>\n",
       "\t<tr><th scope=row>747</th><td>CHP_408_02</td><td>CHP_408</td><td>X02</td><td>4.3</td><td>  0.00</td><td>5</td><td>OS</td><td>4.3</td><td>2395</td><td>522</td><td>...</td><td>0.615</td><td> 41.106</td><td> 41.993</td><td>1.097</td><td>CHP_408-02_PBMC-DNA</td><td>batch12_30Apr2021/mixcr/clones/CLONES_TRBCHP_408-02_PBMC-DNA.txt              </td><td>PBMC </td><td>CHP</td><td>1.6736843</td><td>Solidtumors:CHP_408_X02-PBMC </td></tr>\n",
       "\t<tr><th scope=row>748</th><td>CHP_408_03</td><td>CHP_408</td><td>X03</td><td>5.4</td><td> 69.16</td><td>5</td><td>OS</td><td>5.4</td><td>1395</td><td> 42</td><td>...</td><td>1.080</td><td>483.728</td><td>486.071</td><td>1.633</td><td>CHP_408-03-PBMC-DNA</td><td>batch13_26Aug2020/mixcr/clones/CLONES_TRBCHP_408-03-PBMC-DNA.txt              </td><td>PBMC </td><td>CHP</td><td>2.7585501</td><td>Solidtumors:CHP_408_X03-PBMC </td></tr>\n",
       "\t<tr><th scope=row>253</th><td>CHP_408_01</td><td>CHP_408</td><td>X01</td><td>5.1</td><td>338.80</td><td>5</td><td>OS</td><td>5.1</td><td>2140</td><td>338</td><td>...</td><td>0.049</td><td>  1.571</td><td>  1.572</td><td>0.043</td><td>CHP_408-01_cfDNA   </td><td>batch11_cfDNA_11Sep2020/mixcr/clones/CLONES_TRBCHP_408-01_cfDNA.txt           </td><td>cfDNA</td><td>CHP</td><td>0.2869054</td><td>Solidtumors:CHP_408_X01-cfDNA</td></tr>\n",
       "\t<tr><th scope=row>254</th><td>CHP_408_02</td><td>CHP_408</td><td>X02</td><td>4.3</td><td>  0.00</td><td>5</td><td>OS</td><td>4.3</td><td>2395</td><td>522</td><td>...</td><td>0.049</td><td>  1.874</td><td>  1.875</td><td>0.032</td><td>CHP_408-02_cfDNA   </td><td>remaining_batch_1_cfDNA_8April2021/mixcr/clones/CLONES_TRBCHP_408-02_cfDNA.txt</td><td>cfDNA</td><td>CHP</td><td>0.4032921</td><td>Solidtumors:CHP_408_X02-cfDNA</td></tr>\n",
       "\t<tr><th scope=row>255</th><td>CHP_408_03</td><td>CHP_408</td><td>X03</td><td>5.4</td><td> 69.16</td><td>5</td><td>OS</td><td>5.4</td><td>1395</td><td> 42</td><td>...</td><td>0.072</td><td> 11.473</td><td> 11.480</td><td>0.078</td><td>CHP_408-03_cfDNA   </td><td>priority_pool2/mixcr/clones/CLONES_TRBCHP_408-03_cfDNA.txt                    </td><td>cfDNA</td><td>CHP</td><td>1.1228382</td><td>Solidtumors:CHP_408_X03-cfDNA</td></tr>\n",
       "</tbody>\n",
       "</table>\n"
      ],
      "text/latex": [
       "A data.frame: 6 x 67\n",
       "\\begin{tabular}{r|lllllllllllllllllllll}\n",
       "  & sample\\_id & Patient & cycle & FOLD & ATC & Age & Disease\\_type & TE\\_fold & CD3 & EM & ... & SE\\_Shannon & observed\\_Simpson & estimated\\_Simpson & SE\\_Simpson & basename & file & sampletype & Group & log10shann & samplename\\\\\n",
       "  & <chr> & <chr> & <chr> & <dbl> & <dbl> & <dbl> & <chr> & <dbl> & <int> & <int> & ... & <dbl> & <dbl> & <dbl> & <dbl> & <chr> & <chr> & <chr> & <chr> & <dbl> & <chr>\\\\\n",
       "\\hline\n",
       "\t746 & CHP\\_408\\_01 & CHP\\_408 & X01 & 5.1 & 338.80 & 5 & OS & 5.1 & 2140 & 338 & ... & 0.267 &   8.287 &   8.391 & 0.424 & CHP\\_408-01\\_PBMC-DNA & batch12\\_30Apr2021/mixcr/clones/CLONES\\_TRBCHP\\_408-01\\_PBMC-DNA.txt               & PBMC  & CHP & 1.0133429 & Solidtumors:CHP\\_408\\_X01-PBMC \\\\\n",
       "\t747 & CHP\\_408\\_02 & CHP\\_408 & X02 & 4.3 &   0.00 & 5 & OS & 4.3 & 2395 & 522 & ... & 0.615 &  41.106 &  41.993 & 1.097 & CHP\\_408-02\\_PBMC-DNA & batch12\\_30Apr2021/mixcr/clones/CLONES\\_TRBCHP\\_408-02\\_PBMC-DNA.txt               & PBMC  & CHP & 1.6736843 & Solidtumors:CHP\\_408\\_X02-PBMC \\\\\n",
       "\t748 & CHP\\_408\\_03 & CHP\\_408 & X03 & 5.4 &  69.16 & 5 & OS & 5.4 & 1395 &  42 & ... & 1.080 & 483.728 & 486.071 & 1.633 & CHP\\_408-03-PBMC-DNA & batch13\\_26Aug2020/mixcr/clones/CLONES\\_TRBCHP\\_408-03-PBMC-DNA.txt               & PBMC  & CHP & 2.7585501 & Solidtumors:CHP\\_408\\_X03-PBMC \\\\\n",
       "\t253 & CHP\\_408\\_01 & CHP\\_408 & X01 & 5.1 & 338.80 & 5 & OS & 5.1 & 2140 & 338 & ... & 0.049 &   1.571 &   1.572 & 0.043 & CHP\\_408-01\\_cfDNA    & batch11\\_cfDNA\\_11Sep2020/mixcr/clones/CLONES\\_TRBCHP\\_408-01\\_cfDNA.txt            & cfDNA & CHP & 0.2869054 & Solidtumors:CHP\\_408\\_X01-cfDNA\\\\\n",
       "\t254 & CHP\\_408\\_02 & CHP\\_408 & X02 & 4.3 &   0.00 & 5 & OS & 4.3 & 2395 & 522 & ... & 0.049 &   1.874 &   1.875 & 0.032 & CHP\\_408-02\\_cfDNA    & remaining\\_batch\\_1\\_cfDNA\\_8April2021/mixcr/clones/CLONES\\_TRBCHP\\_408-02\\_cfDNA.txt & cfDNA & CHP & 0.4032921 & Solidtumors:CHP\\_408\\_X02-cfDNA\\\\\n",
       "\t255 & CHP\\_408\\_03 & CHP\\_408 & X03 & 5.4 &  69.16 & 5 & OS & 5.4 & 1395 &  42 & ... & 0.072 &  11.473 &  11.480 & 0.078 & CHP\\_408-03\\_cfDNA    & priority\\_pool2/mixcr/clones/CLONES\\_TRBCHP\\_408-03\\_cfDNA.txt                     & cfDNA & CHP & 1.1228382 & Solidtumors:CHP\\_408\\_X03-cfDNA\\\\\n",
       "\\end{tabular}\n"
      ],
      "text/markdown": [
       "\n",
       "A data.frame: 6 x 67\n",
       "\n",
       "| <!--/--> | sample_id &lt;chr&gt; | Patient &lt;chr&gt; | cycle &lt;chr&gt; | FOLD &lt;dbl&gt; | ATC &lt;dbl&gt; | Age &lt;dbl&gt; | Disease_type &lt;chr&gt; | TE_fold &lt;dbl&gt; | CD3 &lt;int&gt; | EM &lt;int&gt; | ... ... | SE_Shannon &lt;dbl&gt; | observed_Simpson &lt;dbl&gt; | estimated_Simpson &lt;dbl&gt; | SE_Simpson &lt;dbl&gt; | basename &lt;chr&gt; | file &lt;chr&gt; | sampletype &lt;chr&gt; | Group &lt;chr&gt; | log10shann &lt;dbl&gt; | samplename &lt;chr&gt; |\n",
       "|---|---|---|---|---|---|---|---|---|---|---|---|---|---|---|---|---|---|---|---|---|---|\n",
       "| 746 | CHP_408_01 | CHP_408 | X01 | 5.1 | 338.80 | 5 | OS | 5.1 | 2140 | 338 | ... | 0.267 |   8.287 |   8.391 | 0.424 | CHP_408-01_PBMC-DNA | batch12_30Apr2021/mixcr/clones/CLONES_TRBCHP_408-01_PBMC-DNA.txt               | PBMC  | CHP | 1.0133429 | Solidtumors:CHP_408_X01-PBMC  |\n",
       "| 747 | CHP_408_02 | CHP_408 | X02 | 4.3 |   0.00 | 5 | OS | 4.3 | 2395 | 522 | ... | 0.615 |  41.106 |  41.993 | 1.097 | CHP_408-02_PBMC-DNA | batch12_30Apr2021/mixcr/clones/CLONES_TRBCHP_408-02_PBMC-DNA.txt               | PBMC  | CHP | 1.6736843 | Solidtumors:CHP_408_X02-PBMC  |\n",
       "| 748 | CHP_408_03 | CHP_408 | X03 | 5.4 |  69.16 | 5 | OS | 5.4 | 1395 |  42 | ... | 1.080 | 483.728 | 486.071 | 1.633 | CHP_408-03-PBMC-DNA | batch13_26Aug2020/mixcr/clones/CLONES_TRBCHP_408-03-PBMC-DNA.txt               | PBMC  | CHP | 2.7585501 | Solidtumors:CHP_408_X03-PBMC  |\n",
       "| 253 | CHP_408_01 | CHP_408 | X01 | 5.1 | 338.80 | 5 | OS | 5.1 | 2140 | 338 | ... | 0.049 |   1.571 |   1.572 | 0.043 | CHP_408-01_cfDNA    | batch11_cfDNA_11Sep2020/mixcr/clones/CLONES_TRBCHP_408-01_cfDNA.txt            | cfDNA | CHP | 0.2869054 | Solidtumors:CHP_408_X01-cfDNA |\n",
       "| 254 | CHP_408_02 | CHP_408 | X02 | 4.3 |   0.00 | 5 | OS | 4.3 | 2395 | 522 | ... | 0.049 |   1.874 |   1.875 | 0.032 | CHP_408-02_cfDNA    | remaining_batch_1_cfDNA_8April2021/mixcr/clones/CLONES_TRBCHP_408-02_cfDNA.txt | cfDNA | CHP | 0.4032921 | Solidtumors:CHP_408_X02-cfDNA |\n",
       "| 255 | CHP_408_03 | CHP_408 | X03 | 5.4 |  69.16 | 5 | OS | 5.4 | 1395 |  42 | ... | 0.072 |  11.473 |  11.480 | 0.078 | CHP_408-03_cfDNA    | priority_pool2/mixcr/clones/CLONES_TRBCHP_408-03_cfDNA.txt                     | cfDNA | CHP | 1.1228382 | Solidtumors:CHP_408_X03-cfDNA |\n",
       "\n"
      ],
      "text/plain": [
       "    sample_id  Patient cycle FOLD ATC    Age Disease_type TE_fold CD3  EM  ...\n",
       "746 CHP_408_01 CHP_408 X01   5.1  338.80 5   OS           5.1     2140 338 ...\n",
       "747 CHP_408_02 CHP_408 X02   4.3    0.00 5   OS           4.3     2395 522 ...\n",
       "748 CHP_408_03 CHP_408 X03   5.4   69.16 5   OS           5.4     1395  42 ...\n",
       "253 CHP_408_01 CHP_408 X01   5.1  338.80 5   OS           5.1     2140 338 ...\n",
       "254 CHP_408_02 CHP_408 X02   4.3    0.00 5   OS           4.3     2395 522 ...\n",
       "255 CHP_408_03 CHP_408 X03   5.4   69.16 5   OS           5.4     1395  42 ...\n",
       "    SE_Shannon observed_Simpson estimated_Simpson SE_Simpson\n",
       "746 0.267        8.287            8.391           0.424     \n",
       "747 0.615       41.106           41.993           1.097     \n",
       "748 1.080      483.728          486.071           1.633     \n",
       "253 0.049        1.571            1.572           0.043     \n",
       "254 0.049        1.874            1.875           0.032     \n",
       "255 0.072       11.473           11.480           0.078     \n",
       "    basename           \n",
       "746 CHP_408-01_PBMC-DNA\n",
       "747 CHP_408-02_PBMC-DNA\n",
       "748 CHP_408-03-PBMC-DNA\n",
       "253 CHP_408-01_cfDNA   \n",
       "254 CHP_408-02_cfDNA   \n",
       "255 CHP_408-03_cfDNA   \n",
       "    file                                                                          \n",
       "746 batch12_30Apr2021/mixcr/clones/CLONES_TRBCHP_408-01_PBMC-DNA.txt              \n",
       "747 batch12_30Apr2021/mixcr/clones/CLONES_TRBCHP_408-02_PBMC-DNA.txt              \n",
       "748 batch13_26Aug2020/mixcr/clones/CLONES_TRBCHP_408-03-PBMC-DNA.txt              \n",
       "253 batch11_cfDNA_11Sep2020/mixcr/clones/CLONES_TRBCHP_408-01_cfDNA.txt           \n",
       "254 remaining_batch_1_cfDNA_8April2021/mixcr/clones/CLONES_TRBCHP_408-02_cfDNA.txt\n",
       "255 priority_pool2/mixcr/clones/CLONES_TRBCHP_408-03_cfDNA.txt                    \n",
       "    sampletype Group log10shann samplename                   \n",
       "746 PBMC       CHP   1.0133429  Solidtumors:CHP_408_X01-PBMC \n",
       "747 PBMC       CHP   1.6736843  Solidtumors:CHP_408_X02-PBMC \n",
       "748 PBMC       CHP   2.7585501  Solidtumors:CHP_408_X03-PBMC \n",
       "253 cfDNA      CHP   0.2869054  Solidtumors:CHP_408_X01-cfDNA\n",
       "254 cfDNA      CHP   0.4032921  Solidtumors:CHP_408_X02-cfDNA\n",
       "255 cfDNA      CHP   1.1228382  Solidtumors:CHP_408_X03-cfDNA"
      ]
     },
     "metadata": {},
     "output_type": "display_data"
    }
   ],
   "source": [
    "meta_div[meta_div$Patient == \"CHP_408\",]"
   ]
  },
  {
   "cell_type": "code",
   "execution_count": 230,
   "metadata": {
    "vscode": {
     "languageId": "r"
    }
   },
   "outputs": [],
   "source": [
    "pbmc$tmp <- pbmc$MCPyV / pbmc$n_gliph"
   ]
  },
  {
   "cell_type": "code",
   "execution_count": 231,
   "metadata": {
    "vscode": {
     "languageId": "r"
    }
   },
   "outputs": [
    {
     "data": {
      "text/html": [
       "<table class=\"dataframe\">\n",
       "<caption>A data.frame: 3 x 22</caption>\n",
       "<thead>\n",
       "\t<tr><th></th><th scope=col>CMV</th><th scope=col>EBV</th><th scope=col>HCV</th><th scope=col>Influenza</th><th scope=col>HomoSapiens</th><th scope=col>MDavis</th><th scope=col>HPV</th><th scope=col>CEF</th><th scope=col>TB</th><th scope=col>MCPyV</th><th scope=col>...</th><th scope=col>n_gliph</th><th scope=col>n_cdr3ingliph</th><th scope=col>cancergroup</th><th scope=col>cycle</th><th scope=col>sampletype</th><th scope=col>cyclenum</th><th scope=col>Patient</th><th scope=col>Age</th><th scope=col>group</th><th scope=col>tmp</th></tr>\n",
       "\t<tr><th></th><th scope=col>&lt;dbl&gt;</th><th scope=col>&lt;dbl&gt;</th><th scope=col>&lt;dbl&gt;</th><th scope=col>&lt;dbl&gt;</th><th scope=col>&lt;dbl&gt;</th><th scope=col>&lt;dbl&gt;</th><th scope=col>&lt;dbl&gt;</th><th scope=col>&lt;dbl&gt;</th><th scope=col>&lt;dbl&gt;</th><th scope=col>&lt;dbl&gt;</th><th scope=col>...</th><th scope=col>&lt;dbl&gt;</th><th scope=col>&lt;int&gt;</th><th scope=col>&lt;chr&gt;</th><th scope=col>&lt;chr&gt;</th><th scope=col>&lt;chr&gt;</th><th scope=col>&lt;dbl&gt;</th><th scope=col>&lt;chr&gt;</th><th scope=col>&lt;dbl&gt;</th><th scope=col>&lt;fct&gt;</th><th scope=col>&lt;dbl&gt;</th></tr>\n",
       "</thead>\n",
       "<tbody>\n",
       "\t<tr><th scope=row>Solidtumors:CHP_350_X05-PBMC</th><td>0</td><td>0</td><td>0</td><td>0</td><td> 1</td><td> 16</td><td>0</td><td>0</td><td>0</td><td>1</td><td>...</td><td> 22</td><td> 10</td><td>Solidtumors</td><td>X05</td><td>PBMC</td><td>5</td><td>CHP_350</td><td>1</td><td>post</td><td>0.04545455</td></tr>\n",
       "\t<tr><th scope=row>Solidtumors:CHP_381_X02-PBMC</th><td>4</td><td>7</td><td>5</td><td>0</td><td>17</td><td>267</td><td>3</td><td>1</td><td>0</td><td>8</td><td>...</td><td>361</td><td>185</td><td>Solidtumors</td><td>X02</td><td>PBMC</td><td>2</td><td>CHP_381</td><td>6</td><td>post</td><td>0.02216066</td></tr>\n",
       "\t<tr><th scope=row>Solidtumors:CHP_408_X02-PBMC</th><td>0</td><td>0</td><td>0</td><td>0</td><td> 1</td><td> 10</td><td>0</td><td>0</td><td>0</td><td>1</td><td>...</td><td> 17</td><td> 11</td><td>Solidtumors</td><td>X02</td><td>PBMC</td><td>2</td><td>CHP_408</td><td>5</td><td>post</td><td>0.05882353</td></tr>\n",
       "</tbody>\n",
       "</table>\n"
      ],
      "text/latex": [
       "A data.frame: 3 x 22\n",
       "\\begin{tabular}{r|lllllllllllllllllllll}\n",
       "  & CMV & EBV & HCV & Influenza & HomoSapiens & MDavis & HPV & CEF & TB & MCPyV & ... & n\\_gliph & n\\_cdr3ingliph & cancergroup & cycle & sampletype & cyclenum & Patient & Age & group & tmp\\\\\n",
       "  & <dbl> & <dbl> & <dbl> & <dbl> & <dbl> & <dbl> & <dbl> & <dbl> & <dbl> & <dbl> & ... & <dbl> & <int> & <chr> & <chr> & <chr> & <dbl> & <chr> & <dbl> & <fct> & <dbl>\\\\\n",
       "\\hline\n",
       "\tSolidtumors:CHP\\_350\\_X05-PBMC & 0 & 0 & 0 & 0 &  1 &  16 & 0 & 0 & 0 & 1 & ... &  22 &  10 & Solidtumors & X05 & PBMC & 5 & CHP\\_350 & 1 & post & 0.04545455\\\\\n",
       "\tSolidtumors:CHP\\_381\\_X02-PBMC & 4 & 7 & 5 & 0 & 17 & 267 & 3 & 1 & 0 & 8 & ... & 361 & 185 & Solidtumors & X02 & PBMC & 2 & CHP\\_381 & 6 & post & 0.02216066\\\\\n",
       "\tSolidtumors:CHP\\_408\\_X02-PBMC & 0 & 0 & 0 & 0 &  1 &  10 & 0 & 0 & 0 & 1 & ... &  17 &  11 & Solidtumors & X02 & PBMC & 2 & CHP\\_408 & 5 & post & 0.05882353\\\\\n",
       "\\end{tabular}\n"
      ],
      "text/markdown": [
       "\n",
       "A data.frame: 3 x 22\n",
       "\n",
       "| <!--/--> | CMV &lt;dbl&gt; | EBV &lt;dbl&gt; | HCV &lt;dbl&gt; | Influenza &lt;dbl&gt; | HomoSapiens &lt;dbl&gt; | MDavis &lt;dbl&gt; | HPV &lt;dbl&gt; | CEF &lt;dbl&gt; | TB &lt;dbl&gt; | MCPyV &lt;dbl&gt; | ... ... | n_gliph &lt;dbl&gt; | n_cdr3ingliph &lt;int&gt; | cancergroup &lt;chr&gt; | cycle &lt;chr&gt; | sampletype &lt;chr&gt; | cyclenum &lt;dbl&gt; | Patient &lt;chr&gt; | Age &lt;dbl&gt; | group &lt;fct&gt; | tmp &lt;dbl&gt; |\n",
       "|---|---|---|---|---|---|---|---|---|---|---|---|---|---|---|---|---|---|---|---|---|---|\n",
       "| Solidtumors:CHP_350_X05-PBMC | 0 | 0 | 0 | 0 |  1 |  16 | 0 | 0 | 0 | 1 | ... |  22 |  10 | Solidtumors | X05 | PBMC | 5 | CHP_350 | 1 | post | 0.04545455 |\n",
       "| Solidtumors:CHP_381_X02-PBMC | 4 | 7 | 5 | 0 | 17 | 267 | 3 | 1 | 0 | 8 | ... | 361 | 185 | Solidtumors | X02 | PBMC | 2 | CHP_381 | 6 | post | 0.02216066 |\n",
       "| Solidtumors:CHP_408_X02-PBMC | 0 | 0 | 0 | 0 |  1 |  10 | 0 | 0 | 0 | 1 | ... |  17 |  11 | Solidtumors | X02 | PBMC | 2 | CHP_408 | 5 | post | 0.05882353 |\n",
       "\n"
      ],
      "text/plain": [
       "                             CMV EBV HCV Influenza HomoSapiens MDavis HPV CEF\n",
       "Solidtumors:CHP_350_X05-PBMC 0   0   0   0          1           16    0   0  \n",
       "Solidtumors:CHP_381_X02-PBMC 4   7   5   0         17          267    3   1  \n",
       "Solidtumors:CHP_408_X02-PBMC 0   0   0   0          1           10    0   0  \n",
       "                             TB MCPyV ... n_gliph n_cdr3ingliph cancergroup\n",
       "Solidtumors:CHP_350_X05-PBMC 0  1     ...  22      10           Solidtumors\n",
       "Solidtumors:CHP_381_X02-PBMC 0  8     ... 361     185           Solidtumors\n",
       "Solidtumors:CHP_408_X02-PBMC 0  1     ...  17      11           Solidtumors\n",
       "                             cycle sampletype cyclenum Patient Age group\n",
       "Solidtumors:CHP_350_X05-PBMC X05   PBMC       5        CHP_350 1   post \n",
       "Solidtumors:CHP_381_X02-PBMC X02   PBMC       2        CHP_381 6   post \n",
       "Solidtumors:CHP_408_X02-PBMC X02   PBMC       2        CHP_408 5   post \n",
       "                             tmp       \n",
       "Solidtumors:CHP_350_X05-PBMC 0.04545455\n",
       "Solidtumors:CHP_381_X02-PBMC 0.02216066\n",
       "Solidtumors:CHP_408_X02-PBMC 0.05882353"
      ]
     },
     "metadata": {},
     "output_type": "display_data"
    }
   ],
   "source": [
    "pbmc"
   ]
  },
  {
   "cell_type": "code",
   "execution_count": 323,
   "metadata": {
    "vscode": {
     "languageId": "r"
    }
   },
   "outputs": [
    {
     "data": {
      "image/png": "[encoded data removed]",
      "text/plain": [
       "plot without title"
      ]
     },
     "metadata": {
      "image/png": {
       "height": 420,
       "width": 420
      }
     },
     "output_type": "display_data"
    }
   ],
   "source": [
    "pbmc <- samples_tcr[samples_tcr$sampletype == \"cfDNA\", ]\n",
    "pbmc <- pbmc[pbmc$cancergroup == \"Leukemia\", ]\n",
    "\n",
    "ggplot(pbmc, aes(x = cycle, y = HomoSapiens, group = Patient, color = Patient)) + geom_jitter(width = 0.1) + geom_line()"
   ]
  },
  {
   "cell_type": "code",
   "execution_count": 345,
   "metadata": {
    "vscode": {
     "languageId": "r"
    }
   },
   "outputs": [
    {
     "data": {
      "text/html": [
       "<table class=\"dataframe\">\n",
       "<caption>A data.frame: 20 x 21</caption>\n",
       "<thead>\n",
       "\t<tr><th></th><th scope=col>CMV</th><th scope=col>EBV</th><th scope=col>HCV</th><th scope=col>Influenza</th><th scope=col>HomoSapiens</th><th scope=col>MDavis</th><th scope=col>HPV</th><th scope=col>CEF</th><th scope=col>TB</th><th scope=col>MCPyV</th><th scope=col>...</th><th scope=col>n_cdr3</th><th scope=col>n_gliph</th><th scope=col>n_cdr3ingliph</th><th scope=col>cancergroup</th><th scope=col>cycle</th><th scope=col>sampletype</th><th scope=col>cyclenum</th><th scope=col>Patient</th><th scope=col>Age</th><th scope=col>group</th></tr>\n",
       "\t<tr><th></th><th scope=col>&lt;dbl&gt;</th><th scope=col>&lt;dbl&gt;</th><th scope=col>&lt;dbl&gt;</th><th scope=col>&lt;dbl&gt;</th><th scope=col>&lt;dbl&gt;</th><th scope=col>&lt;dbl&gt;</th><th scope=col>&lt;dbl&gt;</th><th scope=col>&lt;dbl&gt;</th><th scope=col>&lt;dbl&gt;</th><th scope=col>&lt;dbl&gt;</th><th scope=col>...</th><th scope=col>&lt;int&gt;</th><th scope=col>&lt;dbl&gt;</th><th scope=col>&lt;int&gt;</th><th scope=col>&lt;chr&gt;</th><th scope=col>&lt;chr&gt;</th><th scope=col>&lt;chr&gt;</th><th scope=col>&lt;dbl&gt;</th><th scope=col>&lt;chr&gt;</th><th scope=col>&lt;dbl&gt;</th><th scope=col>&lt;fct&gt;</th></tr>\n",
       "</thead>\n",
       "<tbody>\n",
       "\t<tr><th scope=row>Leukemia:CHP_345_X01-cfDNA</th><td>2</td><td>1</td><td>0</td><td>1</td><td>1</td><td>28</td><td>0</td><td>0</td><td>0</td><td>1</td><td>...</td><td>33</td><td>30</td><td>12</td><td>Leukemia</td><td>X01</td><td>cfDNA</td><td>1</td><td>CHP_345</td><td> 1</td><td>pre</td></tr>\n",
       "\t<tr><th scope=row>Leukemia:CHP_349_X01-cfDNA</th><td>0</td><td>0</td><td>1</td><td>0</td><td>0</td><td> 3</td><td>0</td><td>0</td><td>0</td><td>0</td><td>...</td><td> 2</td><td> 4</td><td> 2</td><td>Leukemia</td><td>X01</td><td>cfDNA</td><td>1</td><td>CHP_349</td><td>17</td><td>pre</td></tr>\n",
       "\t<tr><th scope=row>Leukemia:CHP_353_X01-cfDNA</th><td>0</td><td>0</td><td>0</td><td>0</td><td>0</td><td> 1</td><td>0</td><td>0</td><td>0</td><td>0</td><td>...</td><td> 5</td><td> 1</td><td> 1</td><td>Leukemia</td><td>X01</td><td>cfDNA</td><td>1</td><td>CHP_353</td><td> 6</td><td>pre</td></tr>\n",
       "\t<tr><th scope=row>Leukemia:CHP_357_X01-cfDNA</th><td>0</td><td>0</td><td>1</td><td>0</td><td>4</td><td> 9</td><td>0</td><td>0</td><td>0</td><td>0</td><td>...</td><td>22</td><td>14</td><td> 6</td><td>Leukemia</td><td>X01</td><td>cfDNA</td><td>1</td><td>CHP_357</td><td> 1</td><td>pre</td></tr>\n",
       "\t<tr><th scope=row>Leukemia:CHP_360_X01-cfDNA</th><td>0</td><td>0</td><td>0</td><td>0</td><td>2</td><td>14</td><td>0</td><td>0</td><td>0</td><td>0</td><td>...</td><td>42</td><td>24</td><td>14</td><td>Leukemia</td><td>X01</td><td>cfDNA</td><td>1</td><td>CHP_360</td><td> 6</td><td>pre</td></tr>\n",
       "\t<tr><th scope=row>Leukemia:CHP_376_X01-cfDNA</th><td>0</td><td>0</td><td>0</td><td>0</td><td>1</td><td> 1</td><td>0</td><td>0</td><td>0</td><td>0</td><td>...</td><td> 5</td><td> 2</td><td> 2</td><td>Leukemia</td><td>X01</td><td>cfDNA</td><td>1</td><td>CHP_376</td><td> 1</td><td>pre</td></tr>\n",
       "\t<tr><th scope=row>Leukemia:CHP_378_X01-cfDNA</th><td>0</td><td>0</td><td>0</td><td>0</td><td>1</td><td> 9</td><td>0</td><td>0</td><td>0</td><td>0</td><td>...</td><td>27</td><td>14</td><td> 7</td><td>Leukemia</td><td>X01</td><td>cfDNA</td><td>1</td><td>CHP_378</td><td> 1</td><td>pre</td></tr>\n",
       "\t<tr><th scope=row>Leukemia:CHP_388_X01-cfDNA</th><td>0</td><td>0</td><td>0</td><td>0</td><td>0</td><td> 4</td><td>1</td><td>0</td><td>0</td><td>0</td><td>...</td><td>14</td><td> 6</td><td> 5</td><td>Leukemia</td><td>X01</td><td>cfDNA</td><td>1</td><td>CHP_388</td><td> 4</td><td>pre</td></tr>\n",
       "\t<tr><th scope=row>Leukemia:CHP_391_X01-cfDNA</th><td>0</td><td>0</td><td>0</td><td>0</td><td>1</td><td> 2</td><td>0</td><td>0</td><td>0</td><td>0</td><td>...</td><td> 3</td><td> 5</td><td> 3</td><td>Leukemia</td><td>X01</td><td>cfDNA</td><td>1</td><td>CHP_391</td><td>10</td><td>pre</td></tr>\n",
       "\t<tr><th scope=row>Leukemia:CHP_397_X01-cfDNA</th><td>0</td><td>0</td><td>0</td><td>0</td><td>0</td><td> 0</td><td>0</td><td>0</td><td>0</td><td>0</td><td>...</td><td> 1</td><td> 2</td><td> 1</td><td>Leukemia</td><td>X01</td><td>cfDNA</td><td>1</td><td>CHP_397</td><td> 2</td><td>pre</td></tr>\n",
       "\t<tr><th scope=row>Leukemia:CHP_399_X01-cfDNA</th><td>0</td><td>0</td><td>0</td><td>0</td><td>1</td><td> 4</td><td>0</td><td>0</td><td>0</td><td>0</td><td>...</td><td>13</td><td> 6</td><td> 3</td><td>Leukemia</td><td>X01</td><td>cfDNA</td><td>1</td><td>CHP_399</td><td> 2</td><td>pre</td></tr>\n",
       "\t<tr><th scope=row>Leukemia:CHP_402_X01-cfDNA</th><td>0</td><td>0</td><td>0</td><td>0</td><td>0</td><td> 0</td><td>0</td><td>0</td><td>0</td><td>0</td><td>...</td><td> 3</td><td> 1</td><td> 1</td><td>Leukemia</td><td>X01</td><td>cfDNA</td><td>1</td><td>CHP_402</td><td> 9</td><td>pre</td></tr>\n",
       "\t<tr><th scope=row>Leukemia:CHP_405_X01-cfDNA</th><td>0</td><td>0</td><td>0</td><td>0</td><td>0</td><td> 0</td><td>0</td><td>0</td><td>0</td><td>0</td><td>...</td><td>12</td><td> 2</td><td> 2</td><td>Leukemia</td><td>X01</td><td>cfDNA</td><td>1</td><td>CHP_405</td><td> 1</td><td>pre</td></tr>\n",
       "\t<tr><th scope=row>Leukemia:CHP_410_X01-cfDNA</th><td>0</td><td>0</td><td>0</td><td>0</td><td>0</td><td> 5</td><td>0</td><td>0</td><td>0</td><td>0</td><td>...</td><td>31</td><td> 9</td><td> 7</td><td>Leukemia</td><td>X01</td><td>cfDNA</td><td>1</td><td>CHP_410</td><td> 1</td><td>pre</td></tr>\n",
       "\t<tr><th scope=row>Leukemia:CHP_411_X01-cfDNA</th><td>1</td><td>0</td><td>1</td><td>0</td><td>3</td><td>19</td><td>0</td><td>0</td><td>0</td><td>0</td><td>...</td><td>52</td><td>27</td><td>16</td><td>Leukemia</td><td>X01</td><td>cfDNA</td><td>1</td><td>CHP_411</td><td>16</td><td>pre</td></tr>\n",
       "\t<tr><th scope=row>Leukemia:CHP_413_X01-cfDNA</th><td>0</td><td>0</td><td>0</td><td>0</td><td>0</td><td> 1</td><td>0</td><td>0</td><td>0</td><td>0</td><td>...</td><td> 5</td><td> 2</td><td> 2</td><td>Leukemia</td><td>X01</td><td>cfDNA</td><td>1</td><td>CHP_413</td><td>19</td><td>pre</td></tr>\n",
       "\t<tr><th scope=row>Leukemia:CHP_416_X01-cfDNA</th><td>3</td><td>0</td><td>0</td><td>0</td><td>2</td><td> 8</td><td>0</td><td>0</td><td>0</td><td>0</td><td>...</td><td> 5</td><td> 8</td><td> 3</td><td>Leukemia</td><td>X01</td><td>cfDNA</td><td>1</td><td>CHP_416</td><td> 1</td><td>pre</td></tr>\n",
       "\t<tr><th scope=row>Leukemia:CHP_420_X01-cfDNA</th><td>0</td><td>0</td><td>0</td><td>0</td><td>0</td><td> 5</td><td>0</td><td>0</td><td>0</td><td>0</td><td>...</td><td>30</td><td> 6</td><td> 4</td><td>Leukemia</td><td>X01</td><td>cfDNA</td><td>1</td><td>CHP_420</td><td> 2</td><td>pre</td></tr>\n",
       "\t<tr><th scope=row>Leukemia:CHP_421_X01-cfDNA</th><td>0</td><td>0</td><td>1</td><td>0</td><td>0</td><td> 4</td><td>0</td><td>0</td><td>0</td><td>0</td><td>...</td><td>10</td><td> 4</td><td> 3</td><td>Leukemia</td><td>X01</td><td>cfDNA</td><td>1</td><td>CHP_421</td><td> 8</td><td>pre</td></tr>\n",
       "\t<tr><th scope=row>Leukemia:CHP_422_X01-cfDNA</th><td>0</td><td>0</td><td>0</td><td>0</td><td>1</td><td> 0</td><td>0</td><td>0</td><td>0</td><td>0</td><td>...</td><td> 9</td><td> 7</td><td> 6</td><td>Leukemia</td><td>X01</td><td>cfDNA</td><td>1</td><td>CHP_422</td><td>12</td><td>pre</td></tr>\n",
       "</tbody>\n",
       "</table>\n"
      ],
      "text/latex": [
       "A data.frame: 20 x 21\n",
       "\\begin{tabular}{r|lllllllllllllllllllll}\n",
       "  & CMV & EBV & HCV & Influenza & HomoSapiens & MDavis & HPV & CEF & TB & MCPyV & ... & n\\_cdr3 & n\\_gliph & n\\_cdr3ingliph & cancergroup & cycle & sampletype & cyclenum & Patient & Age & group\\\\\n",
       "  & <dbl> & <dbl> & <dbl> & <dbl> & <dbl> & <dbl> & <dbl> & <dbl> & <dbl> & <dbl> & ... & <int> & <dbl> & <int> & <chr> & <chr> & <chr> & <dbl> & <chr> & <dbl> & <fct>\\\\\n",
       "\\hline\n",
       "\tLeukemia:CHP\\_345\\_X01-cfDNA & 2 & 1 & 0 & 1 & 1 & 28 & 0 & 0 & 0 & 1 & ... & 33 & 30 & 12 & Leukemia & X01 & cfDNA & 1 & CHP\\_345 &  1 & pre\\\\\n",
       "\tLeukemia:CHP\\_349\\_X01-cfDNA & 0 & 0 & 1 & 0 & 0 &  3 & 0 & 0 & 0 & 0 & ... &  2 &  4 &  2 & Leukemia & X01 & cfDNA & 1 & CHP\\_349 & 17 & pre\\\\\n",
       "\tLeukemia:CHP\\_353\\_X01-cfDNA & 0 & 0 & 0 & 0 & 0 &  1 & 0 & 0 & 0 & 0 & ... &  5 &  1 &  1 & Leukemia & X01 & cfDNA & 1 & CHP\\_353 &  6 & pre\\\\\n",
       "\tLeukemia:CHP\\_357\\_X01-cfDNA & 0 & 0 & 1 & 0 & 4 &  9 & 0 & 0 & 0 & 0 & ... & 22 & 14 &  6 & Leukemia & X01 & cfDNA & 1 & CHP\\_357 &  1 & pre\\\\\n",
       "\tLeukemia:CHP\\_360\\_X01-cfDNA & 0 & 0 & 0 & 0 & 2 & 14 & 0 & 0 & 0 & 0 & ... & 42 & 24 & 14 & Leukemia & X01 & cfDNA & 1 & CHP\\_360 &  6 & pre\\\\\n",
       "\tLeukemia:CHP\\_376\\_X01-cfDNA & 0 & 0 & 0 & 0 & 1 &  1 & 0 & 0 & 0 & 0 & ... &  5 &  2 &  2 & Leukemia & X01 & cfDNA & 1 & CHP\\_376 &  1 & pre\\\\\n",
       "\tLeukemia:CHP\\_378\\_X01-cfDNA & 0 & 0 & 0 & 0 & 1 &  9 & 0 & 0 & 0 & 0 & ... & 27 & 14 &  7 & Leukemia & X01 & cfDNA & 1 & CHP\\_378 &  1 & pre\\\\\n",
       "\tLeukemia:CHP\\_388\\_X01-cfDNA & 0 & 0 & 0 & 0 & 0 &  4 & 1 & 0 & 0 & 0 & ... & 14 &  6 &  5 & Leukemia & X01 & cfDNA & 1 & CHP\\_388 &  4 & pre\\\\\n",
       "\tLeukemia:CHP\\_391\\_X01-cfDNA & 0 & 0 & 0 & 0 & 1 &  2 & 0 & 0 & 0 & 0 & ... &  3 &  5 &  3 & Leukemia & X01 & cfDNA & 1 & CHP\\_391 & 10 & pre\\\\\n",
       "\tLeukemia:CHP\\_397\\_X01-cfDNA & 0 & 0 & 0 & 0 & 0 &  0 & 0 & 0 & 0 & 0 & ... &  1 &  2 &  1 & Leukemia & X01 & cfDNA & 1 & CHP\\_397 &  2 & pre\\\\\n",
       "\tLeukemia:CHP\\_399\\_X01-cfDNA & 0 & 0 & 0 & 0 & 1 &  4 & 0 & 0 & 0 & 0 & ... & 13 &  6 &  3 & Leukemia & X01 & cfDNA & 1 & CHP\\_399 &  2 & pre\\\\\n",
       "\tLeukemia:CHP\\_402\\_X01-cfDNA & 0 & 0 & 0 & 0 & 0 &  0 & 0 & 0 & 0 & 0 & ... &  3 &  1 &  1 & Leukemia & X01 & cfDNA & 1 & CHP\\_402 &  9 & pre\\\\\n",
       "\tLeukemia:CHP\\_405\\_X01-cfDNA & 0 & 0 & 0 & 0 & 0 &  0 & 0 & 0 & 0 & 0 & ... & 12 &  2 &  2 & Leukemia & X01 & cfDNA & 1 & CHP\\_405 &  1 & pre\\\\\n",
       "\tLeukemia:CHP\\_410\\_X01-cfDNA & 0 & 0 & 0 & 0 & 0 &  5 & 0 & 0 & 0 & 0 & ... & 31 &  9 &  7 & Leukemia & X01 & cfDNA & 1 & CHP\\_410 &  1 & pre\\\\\n",
       "\tLeukemia:CHP\\_411\\_X01-cfDNA & 1 & 0 & 1 & 0 & 3 & 19 & 0 & 0 & 0 & 0 & ... & 52 & 27 & 16 & Leukemia & X01 & cfDNA & 1 & CHP\\_411 & 16 & pre\\\\\n",
       "\tLeukemia:CHP\\_413\\_X01-cfDNA & 0 & 0 & 0 & 0 & 0 &  1 & 0 & 0 & 0 & 0 & ... &  5 &  2 &  2 & Leukemia & X01 & cfDNA & 1 & CHP\\_413 & 19 & pre\\\\\n",
       "\tLeukemia:CHP\\_416\\_X01-cfDNA & 3 & 0 & 0 & 0 & 2 &  8 & 0 & 0 & 0 & 0 & ... &  5 &  8 &  3 & Leukemia & X01 & cfDNA & 1 & CHP\\_416 &  1 & pre\\\\\n",
       "\tLeukemia:CHP\\_420\\_X01-cfDNA & 0 & 0 & 0 & 0 & 0 &  5 & 0 & 0 & 0 & 0 & ... & 30 &  6 &  4 & Leukemia & X01 & cfDNA & 1 & CHP\\_420 &  2 & pre\\\\\n",
       "\tLeukemia:CHP\\_421\\_X01-cfDNA & 0 & 0 & 1 & 0 & 0 &  4 & 0 & 0 & 0 & 0 & ... & 10 &  4 &  3 & Leukemia & X01 & cfDNA & 1 & CHP\\_421 &  8 & pre\\\\\n",
       "\tLeukemia:CHP\\_422\\_X01-cfDNA & 0 & 0 & 0 & 0 & 1 &  0 & 0 & 0 & 0 & 0 & ... &  9 &  7 &  6 & Leukemia & X01 & cfDNA & 1 & CHP\\_422 & 12 & pre\\\\\n",
       "\\end{tabular}\n"
      ],
      "text/markdown": [
       "\n",
       "A data.frame: 20 x 21\n",
       "\n",
       "| <!--/--> | CMV &lt;dbl&gt; | EBV &lt;dbl&gt; | HCV &lt;dbl&gt; | Influenza &lt;dbl&gt; | HomoSapiens &lt;dbl&gt; | MDavis &lt;dbl&gt; | HPV &lt;dbl&gt; | CEF &lt;dbl&gt; | TB &lt;dbl&gt; | MCPyV &lt;dbl&gt; | ... ... | n_cdr3 &lt;int&gt; | n_gliph &lt;dbl&gt; | n_cdr3ingliph &lt;int&gt; | cancergroup &lt;chr&gt; | cycle &lt;chr&gt; | sampletype &lt;chr&gt; | cyclenum &lt;dbl&gt; | Patient &lt;chr&gt; | Age &lt;dbl&gt; | group &lt;fct&gt; |\n",
       "|---|---|---|---|---|---|---|---|---|---|---|---|---|---|---|---|---|---|---|---|---|---|\n",
       "| Leukemia:CHP_345_X01-cfDNA | 2 | 1 | 0 | 1 | 1 | 28 | 0 | 0 | 0 | 1 | ... | 33 | 30 | 12 | Leukemia | X01 | cfDNA | 1 | CHP_345 |  1 | pre |\n",
       "| Leukemia:CHP_349_X01-cfDNA | 0 | 0 | 1 | 0 | 0 |  3 | 0 | 0 | 0 | 0 | ... |  2 |  4 |  2 | Leukemia | X01 | cfDNA | 1 | CHP_349 | 17 | pre |\n",
       "| Leukemia:CHP_353_X01-cfDNA | 0 | 0 | 0 | 0 | 0 |  1 | 0 | 0 | 0 | 0 | ... |  5 |  1 |  1 | Leukemia | X01 | cfDNA | 1 | CHP_353 |  6 | pre |\n",
       "| Leukemia:CHP_357_X01-cfDNA | 0 | 0 | 1 | 0 | 4 |  9 | 0 | 0 | 0 | 0 | ... | 22 | 14 |  6 | Leukemia | X01 | cfDNA | 1 | CHP_357 |  1 | pre |\n",
       "| Leukemia:CHP_360_X01-cfDNA | 0 | 0 | 0 | 0 | 2 | 14 | 0 | 0 | 0 | 0 | ... | 42 | 24 | 14 | Leukemia | X01 | cfDNA | 1 | CHP_360 |  6 | pre |\n",
       "| Leukemia:CHP_376_X01-cfDNA | 0 | 0 | 0 | 0 | 1 |  1 | 0 | 0 | 0 | 0 | ... |  5 |  2 |  2 | Leukemia | X01 | cfDNA | 1 | CHP_376 |  1 | pre |\n",
       "| Leukemia:CHP_378_X01-cfDNA | 0 | 0 | 0 | 0 | 1 |  9 | 0 | 0 | 0 | 0 | ... | 27 | 14 |  7 | Leukemia | X01 | cfDNA | 1 | CHP_378 |  1 | pre |\n",
       "| Leukemia:CHP_388_X01-cfDNA | 0 | 0 | 0 | 0 | 0 |  4 | 1 | 0 | 0 | 0 | ... | 14 |  6 |  5 | Leukemia | X01 | cfDNA | 1 | CHP_388 |  4 | pre |\n",
       "| Leukemia:CHP_391_X01-cfDNA | 0 | 0 | 0 | 0 | 1 |  2 | 0 | 0 | 0 | 0 | ... |  3 |  5 |  3 | Leukemia | X01 | cfDNA | 1 | CHP_391 | 10 | pre |\n",
       "| Leukemia:CHP_397_X01-cfDNA | 0 | 0 | 0 | 0 | 0 |  0 | 0 | 0 | 0 | 0 | ... |  1 |  2 |  1 | Leukemia | X01 | cfDNA | 1 | CHP_397 |  2 | pre |\n",
       "| Leukemia:CHP_399_X01-cfDNA | 0 | 0 | 0 | 0 | 1 |  4 | 0 | 0 | 0 | 0 | ... | 13 |  6 |  3 | Leukemia | X01 | cfDNA | 1 | CHP_399 |  2 | pre |\n",
       "| Leukemia:CHP_402_X01-cfDNA | 0 | 0 | 0 | 0 | 0 |  0 | 0 | 0 | 0 | 0 | ... |  3 |  1 |  1 | Leukemia | X01 | cfDNA | 1 | CHP_402 |  9 | pre |\n",
       "| Leukemia:CHP_405_X01-cfDNA | 0 | 0 | 0 | 0 | 0 |  0 | 0 | 0 | 0 | 0 | ... | 12 |  2 |  2 | Leukemia | X01 | cfDNA | 1 | CHP_405 |  1 | pre |\n",
       "| Leukemia:CHP_410_X01-cfDNA | 0 | 0 | 0 | 0 | 0 |  5 | 0 | 0 | 0 | 0 | ... | 31 |  9 |  7 | Leukemia | X01 | cfDNA | 1 | CHP_410 |  1 | pre |\n",
       "| Leukemia:CHP_411_X01-cfDNA | 1 | 0 | 1 | 0 | 3 | 19 | 0 | 0 | 0 | 0 | ... | 52 | 27 | 16 | Leukemia | X01 | cfDNA | 1 | CHP_411 | 16 | pre |\n",
       "| Leukemia:CHP_413_X01-cfDNA | 0 | 0 | 0 | 0 | 0 |  1 | 0 | 0 | 0 | 0 | ... |  5 |  2 |  2 | Leukemia | X01 | cfDNA | 1 | CHP_413 | 19 | pre |\n",
       "| Leukemia:CHP_416_X01-cfDNA | 3 | 0 | 0 | 0 | 2 |  8 | 0 | 0 | 0 | 0 | ... |  5 |  8 |  3 | Leukemia | X01 | cfDNA | 1 | CHP_416 |  1 | pre |\n",
       "| Leukemia:CHP_420_X01-cfDNA | 0 | 0 | 0 | 0 | 0 |  5 | 0 | 0 | 0 | 0 | ... | 30 |  6 |  4 | Leukemia | X01 | cfDNA | 1 | CHP_420 |  2 | pre |\n",
       "| Leukemia:CHP_421_X01-cfDNA | 0 | 0 | 1 | 0 | 0 |  4 | 0 | 0 | 0 | 0 | ... | 10 |  4 |  3 | Leukemia | X01 | cfDNA | 1 | CHP_421 |  8 | pre |\n",
       "| Leukemia:CHP_422_X01-cfDNA | 0 | 0 | 0 | 0 | 1 |  0 | 0 | 0 | 0 | 0 | ... |  9 |  7 |  6 | Leukemia | X01 | cfDNA | 1 | CHP_422 | 12 | pre |\n",
       "\n"
      ],
      "text/plain": [
       "                           CMV EBV HCV Influenza HomoSapiens MDavis HPV CEF TB\n",
       "Leukemia:CHP_345_X01-cfDNA 2   1   0   1         1           28     0   0   0 \n",
       "Leukemia:CHP_349_X01-cfDNA 0   0   1   0         0            3     0   0   0 \n",
       "Leukemia:CHP_353_X01-cfDNA 0   0   0   0         0            1     0   0   0 \n",
       "Leukemia:CHP_357_X01-cfDNA 0   0   1   0         4            9     0   0   0 \n",
       "Leukemia:CHP_360_X01-cfDNA 0   0   0   0         2           14     0   0   0 \n",
       "Leukemia:CHP_376_X01-cfDNA 0   0   0   0         1            1     0   0   0 \n",
       "Leukemia:CHP_378_X01-cfDNA 0   0   0   0         1            9     0   0   0 \n",
       "Leukemia:CHP_388_X01-cfDNA 0   0   0   0         0            4     1   0   0 \n",
       "Leukemia:CHP_391_X01-cfDNA 0   0   0   0         1            2     0   0   0 \n",
       "Leukemia:CHP_397_X01-cfDNA 0   0   0   0         0            0     0   0   0 \n",
       "Leukemia:CHP_399_X01-cfDNA 0   0   0   0         1            4     0   0   0 \n",
       "Leukemia:CHP_402_X01-cfDNA 0   0   0   0         0            0     0   0   0 \n",
       "Leukemia:CHP_405_X01-cfDNA 0   0   0   0         0            0     0   0   0 \n",
       "Leukemia:CHP_410_X01-cfDNA 0   0   0   0         0            5     0   0   0 \n",
       "Leukemia:CHP_411_X01-cfDNA 1   0   1   0         3           19     0   0   0 \n",
       "Leukemia:CHP_413_X01-cfDNA 0   0   0   0         0            1     0   0   0 \n",
       "Leukemia:CHP_416_X01-cfDNA 3   0   0   0         2            8     0   0   0 \n",
       "Leukemia:CHP_420_X01-cfDNA 0   0   0   0         0            5     0   0   0 \n",
       "Leukemia:CHP_421_X01-cfDNA 0   0   1   0         0            4     0   0   0 \n",
       "Leukemia:CHP_422_X01-cfDNA 0   0   0   0         1            0     0   0   0 \n",
       "                           MCPyV ... n_cdr3 n_gliph n_cdr3ingliph cancergroup\n",
       "Leukemia:CHP_345_X01-cfDNA 1     ... 33     30      12            Leukemia   \n",
       "Leukemia:CHP_349_X01-cfDNA 0     ...  2      4       2            Leukemia   \n",
       "Leukemia:CHP_353_X01-cfDNA 0     ...  5      1       1            Leukemia   \n",
       "Leukemia:CHP_357_X01-cfDNA 0     ... 22     14       6            Leukemia   \n",
       "Leukemia:CHP_360_X01-cfDNA 0     ... 42     24      14            Leukemia   \n",
       "Leukemia:CHP_376_X01-cfDNA 0     ...  5      2       2            Leukemia   \n",
       "Leukemia:CHP_378_X01-cfDNA 0     ... 27     14       7            Leukemia   \n",
       "Leukemia:CHP_388_X01-cfDNA 0     ... 14      6       5            Leukemia   \n",
       "Leukemia:CHP_391_X01-cfDNA 0     ...  3      5       3            Leukemia   \n",
       "Leukemia:CHP_397_X01-cfDNA 0     ...  1      2       1            Leukemia   \n",
       "Leukemia:CHP_399_X01-cfDNA 0     ... 13      6       3            Leukemia   \n",
       "Leukemia:CHP_402_X01-cfDNA 0     ...  3      1       1            Leukemia   \n",
       "Leukemia:CHP_405_X01-cfDNA 0     ... 12      2       2            Leukemia   \n",
       "Leukemia:CHP_410_X01-cfDNA 0     ... 31      9       7            Leukemia   \n",
       "Leukemia:CHP_411_X01-cfDNA 0     ... 52     27      16            Leukemia   \n",
       "Leukemia:CHP_413_X01-cfDNA 0     ...  5      2       2            Leukemia   \n",
       "Leukemia:CHP_416_X01-cfDNA 0     ...  5      8       3            Leukemia   \n",
       "Leukemia:CHP_420_X01-cfDNA 0     ... 30      6       4            Leukemia   \n",
       "Leukemia:CHP_421_X01-cfDNA 0     ... 10      4       3            Leukemia   \n",
       "Leukemia:CHP_422_X01-cfDNA 0     ...  9      7       6            Leukemia   \n",
       "                           cycle sampletype cyclenum Patient Age group\n",
       "Leukemia:CHP_345_X01-cfDNA X01   cfDNA      1        CHP_345  1  pre  \n",
       "Leukemia:CHP_349_X01-cfDNA X01   cfDNA      1        CHP_349 17  pre  \n",
       "Leukemia:CHP_353_X01-cfDNA X01   cfDNA      1        CHP_353  6  pre  \n",
       "Leukemia:CHP_357_X01-cfDNA X01   cfDNA      1        CHP_357  1  pre  \n",
       "Leukemia:CHP_360_X01-cfDNA X01   cfDNA      1        CHP_360  6  pre  \n",
       "Leukemia:CHP_376_X01-cfDNA X01   cfDNA      1        CHP_376  1  pre  \n",
       "Leukemia:CHP_378_X01-cfDNA X01   cfDNA      1        CHP_378  1  pre  \n",
       "Leukemia:CHP_388_X01-cfDNA X01   cfDNA      1        CHP_388  4  pre  \n",
       "Leukemia:CHP_391_X01-cfDNA X01   cfDNA      1        CHP_391 10  pre  \n",
       "Leukemia:CHP_397_X01-cfDNA X01   cfDNA      1        CHP_397  2  pre  \n",
       "Leukemia:CHP_399_X01-cfDNA X01   cfDNA      1        CHP_399  2  pre  \n",
       "Leukemia:CHP_402_X01-cfDNA X01   cfDNA      1        CHP_402  9  pre  \n",
       "Leukemia:CHP_405_X01-cfDNA X01   cfDNA      1        CHP_405  1  pre  \n",
       "Leukemia:CHP_410_X01-cfDNA X01   cfDNA      1        CHP_410  1  pre  \n",
       "Leukemia:CHP_411_X01-cfDNA X01   cfDNA      1        CHP_411 16  pre  \n",
       "Leukemia:CHP_413_X01-cfDNA X01   cfDNA      1        CHP_413 19  pre  \n",
       "Leukemia:CHP_416_X01-cfDNA X01   cfDNA      1        CHP_416  1  pre  \n",
       "Leukemia:CHP_420_X01-cfDNA X01   cfDNA      1        CHP_420  2  pre  \n",
       "Leukemia:CHP_421_X01-cfDNA X01   cfDNA      1        CHP_421  8  pre  \n",
       "Leukemia:CHP_422_X01-cfDNA X01   cfDNA      1        CHP_422 12  pre  "
      ]
     },
     "metadata": {},
     "output_type": "display_data"
    }
   ],
   "source": [
    "pbmc[ pbmc$group == \"pre\", ]"
   ]
  },
  {
   "cell_type": "code",
   "execution_count": 335,
   "metadata": {
    "vscode": {
     "languageId": "r"
    }
   },
   "outputs": [],
   "source": [
    "mygliphs <- unique(tmp$pattern[ tmp$Sample %in% rownames(pbmc)[ rownames(pbmc) == \"Leukemia:CHP_411_X01-cfDNA\"]] )"
   ]
  },
  {
   "cell_type": "code",
   "execution_count": null,
   "metadata": {
    "vscode": {
     "languageId": "r"
    }
   },
   "outputs": [],
   "source": []
  },
  {
   "cell_type": "code",
   "execution_count": 338,
   "metadata": {
    "vscode": {
     "languageId": "r"
    }
   },
   "outputs": [
    {
     "data": {
      "text/html": [
       "<table class=\"dataframe\">\n",
       "<caption>A tibble: 3 x 19</caption>\n",
       "<thead>\n",
       "\t<tr><th scope=col>index</th><th scope=col>pattern</th><th scope=col>Fisher_score</th><th scope=col>number_subject</th><th scope=col>number_unique_cdr3</th><th scope=col>final_score</th><th scope=col>hla_score</th><th scope=col>vb_score</th><th scope=col>expansion_score</th><th scope=col>length_score</th><th scope=col>cluster_size_score</th><th scope=col>type</th><th scope=col>TcRb</th><th scope=col>V</th><th scope=col>J</th><th scope=col>TcRa</th><th scope=col>Sample</th><th scope=col>Freq</th><th scope=col>subject</th></tr>\n",
       "\t<tr><th scope=col>&lt;dbl&gt;</th><th scope=col>&lt;chr&gt;</th><th scope=col>&lt;dbl&gt;</th><th scope=col>&lt;dbl&gt;</th><th scope=col>&lt;dbl&gt;</th><th scope=col>&lt;dbl&gt;</th><th scope=col>&lt;dbl&gt;</th><th scope=col>&lt;dbl&gt;</th><th scope=col>&lt;dbl&gt;</th><th scope=col>&lt;dbl&gt;</th><th scope=col>&lt;dbl&gt;</th><th scope=col>&lt;chr&gt;</th><th scope=col>&lt;chr&gt;</th><th scope=col>&lt;chr&gt;</th><th scope=col>&lt;chr&gt;</th><th scope=col>&lt;lgl&gt;</th><th scope=col>&lt;chr&gt;</th><th scope=col>&lt;dbl&gt;</th><th scope=col>&lt;chr&gt;</th></tr>\n",
       "</thead>\n",
       "<tbody>\n",
       "\t<tr><td> 1412</td><td>S%RGSYE  </td><td>5.0e-08</td><td>5</td><td>9</td><td>1.2e-07</td><td>1</td><td>0.530</td><td>0.48</td><td>0.001</td><td>0.00048</td><td>global-S%RGSYE  </td><td>CASSLRGSYEQYV  </td><td>NA    </td><td>NA     </td><td>NA</td><td>HomoSapiens:DNMT3A_p-P282S  </td><td>1</td><td>HomoSapiens</td></tr>\n",
       "\t<tr><td>12769</td><td>SQGLAG%GE</td><td>2.7e-03</td><td>3</td><td>3</td><td>3.7e-08</td><td>1</td><td>0.011</td><td>0.54</td><td>0.001</td><td>0.00620</td><td>global-SQGLAG%GE</td><td>CASSQGLAGAGELFF</td><td>TRBV19</td><td>TRBJ2-2</td><td>NA</td><td>HomoSapiens:MLANA_ELAGIGILTV</td><td>1</td><td>HomoSapiens</td></tr>\n",
       "\t<tr><td>21458</td><td>S%GLAGAGE</td><td>1.8e-02</td><td>3</td><td>3</td><td>1.4e-07</td><td>1</td><td>0.033</td><td>0.67</td><td>0.001</td><td>0.00620</td><td>global-S%GLAGAGE</td><td>CASSQGLAGAGELFF</td><td>TRBV19</td><td>TRBJ2-2</td><td>NA</td><td>HomoSapiens:MLANA_ELAGIGILTV</td><td>1</td><td>HomoSapiens</td></tr>\n",
       "</tbody>\n",
       "</table>\n"
      ],
      "text/latex": [
       "A tibble: 3 x 19\n",
       "\\begin{tabular}{lllllllllllllllllll}\n",
       " index & pattern & Fisher\\_score & number\\_subject & number\\_unique\\_cdr3 & final\\_score & hla\\_score & vb\\_score & expansion\\_score & length\\_score & cluster\\_size\\_score & type & TcRb & V & J & TcRa & Sample & Freq & subject\\\\\n",
       " <dbl> & <chr> & <dbl> & <dbl> & <dbl> & <dbl> & <dbl> & <dbl> & <dbl> & <dbl> & <dbl> & <chr> & <chr> & <chr> & <chr> & <lgl> & <chr> & <dbl> & <chr>\\\\\n",
       "\\hline\n",
       "\t  1412 & S\\%RGSYE   & 5.0e-08 & 5 & 9 & 1.2e-07 & 1 & 0.530 & 0.48 & 0.001 & 0.00048 & global-S\\%RGSYE   & CASSLRGSYEQYV   & NA     & NA      & NA & HomoSapiens:DNMT3A\\_p-P282S   & 1 & HomoSapiens\\\\\n",
       "\t 12769 & SQGLAG\\%GE & 2.7e-03 & 3 & 3 & 3.7e-08 & 1 & 0.011 & 0.54 & 0.001 & 0.00620 & global-SQGLAG\\%GE & CASSQGLAGAGELFF & TRBV19 & TRBJ2-2 & NA & HomoSapiens:MLANA\\_ELAGIGILTV & 1 & HomoSapiens\\\\\n",
       "\t 21458 & S\\%GLAGAGE & 1.8e-02 & 3 & 3 & 1.4e-07 & 1 & 0.033 & 0.67 & 0.001 & 0.00620 & global-S\\%GLAGAGE & CASSQGLAGAGELFF & TRBV19 & TRBJ2-2 & NA & HomoSapiens:MLANA\\_ELAGIGILTV & 1 & HomoSapiens\\\\\n",
       "\\end{tabular}\n"
      ],
      "text/markdown": [
       "\n",
       "A tibble: 3 x 19\n",
       "\n",
       "| index &lt;dbl&gt; | pattern &lt;chr&gt; | Fisher_score &lt;dbl&gt; | number_subject &lt;dbl&gt; | number_unique_cdr3 &lt;dbl&gt; | final_score &lt;dbl&gt; | hla_score &lt;dbl&gt; | vb_score &lt;dbl&gt; | expansion_score &lt;dbl&gt; | length_score &lt;dbl&gt; | cluster_size_score &lt;dbl&gt; | type &lt;chr&gt; | TcRb &lt;chr&gt; | V &lt;chr&gt; | J &lt;chr&gt; | TcRa &lt;lgl&gt; | Sample &lt;chr&gt; | Freq &lt;dbl&gt; | subject &lt;chr&gt; |\n",
       "|---|---|---|---|---|---|---|---|---|---|---|---|---|---|---|---|---|---|---|\n",
       "|  1412 | S%RGSYE   | 5.0e-08 | 5 | 9 | 1.2e-07 | 1 | 0.530 | 0.48 | 0.001 | 0.00048 | global-S%RGSYE   | CASSLRGSYEQYV   | NA     | NA      | NA | HomoSapiens:DNMT3A_p-P282S   | 1 | HomoSapiens |\n",
       "| 12769 | SQGLAG%GE | 2.7e-03 | 3 | 3 | 3.7e-08 | 1 | 0.011 | 0.54 | 0.001 | 0.00620 | global-SQGLAG%GE | CASSQGLAGAGELFF | TRBV19 | TRBJ2-2 | NA | HomoSapiens:MLANA_ELAGIGILTV | 1 | HomoSapiens |\n",
       "| 21458 | S%GLAGAGE | 1.8e-02 | 3 | 3 | 1.4e-07 | 1 | 0.033 | 0.67 | 0.001 | 0.00620 | global-S%GLAGAGE | CASSQGLAGAGELFF | TRBV19 | TRBJ2-2 | NA | HomoSapiens:MLANA_ELAGIGILTV | 1 | HomoSapiens |\n",
       "\n"
      ],
      "text/plain": [
       "  index pattern   Fisher_score number_subject number_unique_cdr3 final_score\n",
       "1  1412 S%RGSYE   5.0e-08      5              9                  1.2e-07    \n",
       "2 12769 SQGLAG%GE 2.7e-03      3              3                  3.7e-08    \n",
       "3 21458 S%GLAGAGE 1.8e-02      3              3                  1.4e-07    \n",
       "  hla_score vb_score expansion_score length_score cluster_size_score\n",
       "1 1         0.530    0.48            0.001        0.00048           \n",
       "2 1         0.011    0.54            0.001        0.00620           \n",
       "3 1         0.033    0.67            0.001        0.00620           \n",
       "  type             TcRb            V      J       TcRa\n",
       "1 global-S%RGSYE   CASSLRGSYEQYV   NA     NA      NA  \n",
       "2 global-SQGLAG%GE CASSQGLAGAGELFF TRBV19 TRBJ2-2 NA  \n",
       "3 global-S%GLAGAGE CASSQGLAGAGELFF TRBV19 TRBJ2-2 NA  \n",
       "  Sample                       Freq subject    \n",
       "1 HomoSapiens:DNMT3A_p-P282S   1    HomoSapiens\n",
       "2 HomoSapiens:MLANA_ELAGIGILTV 1    HomoSapiens\n",
       "3 HomoSapiens:MLANA_ELAGIGILTV 1    HomoSapiens"
      ]
     },
     "metadata": {},
     "output_type": "display_data"
    }
   ],
   "source": [
    "tmp[tmp$pattern %in% mygliphs & tmp$subject == \"HomoSapiens\",]"
   ]
  },
  {
   "cell_type": "code",
   "execution_count": 348,
   "metadata": {
    "vscode": {
     "languageId": "r"
    }
   },
   "outputs": [
    {
     "data": {
      "text/html": [
       "<table class=\"dataframe\">\n",
       "<caption>A tibble: 4 x 19</caption>\n",
       "<thead>\n",
       "\t<tr><th scope=col>index</th><th scope=col>pattern</th><th scope=col>Fisher_score</th><th scope=col>number_subject</th><th scope=col>number_unique_cdr3</th><th scope=col>final_score</th><th scope=col>hla_score</th><th scope=col>vb_score</th><th scope=col>expansion_score</th><th scope=col>length_score</th><th scope=col>cluster_size_score</th><th scope=col>type</th><th scope=col>TcRb</th><th scope=col>V</th><th scope=col>J</th><th scope=col>TcRa</th><th scope=col>Sample</th><th scope=col>Freq</th><th scope=col>subject</th></tr>\n",
       "\t<tr><th scope=col>&lt;dbl&gt;</th><th scope=col>&lt;chr&gt;</th><th scope=col>&lt;dbl&gt;</th><th scope=col>&lt;dbl&gt;</th><th scope=col>&lt;dbl&gt;</th><th scope=col>&lt;dbl&gt;</th><th scope=col>&lt;dbl&gt;</th><th scope=col>&lt;dbl&gt;</th><th scope=col>&lt;dbl&gt;</th><th scope=col>&lt;dbl&gt;</th><th scope=col>&lt;dbl&gt;</th><th scope=col>&lt;chr&gt;</th><th scope=col>&lt;chr&gt;</th><th scope=col>&lt;chr&gt;</th><th scope=col>&lt;chr&gt;</th><th scope=col>&lt;lgl&gt;</th><th scope=col>&lt;chr&gt;</th><th scope=col>&lt;dbl&gt;</th><th scope=col>&lt;chr&gt;</th></tr>\n",
       "</thead>\n",
       "<tbody>\n",
       "\t<tr><td>12769</td><td>SQGLAG%GE</td><td>0.0027</td><td>3</td><td>3</td><td>3.7e-08</td><td>1</td><td>0.011</td><td>0.54</td><td>0.001</td><td>0.0062</td><td>global-SQGLAG%GE</td><td>CASSQGLAGVGELFF</td><td>TRBV14_1</td><td>NA     </td><td>NA</td><td>MDavis:C0102                </td><td>  1</td><td>MDavis     </td></tr>\n",
       "\t<tr><td>12769</td><td>SQGLAG%GE</td><td>0.0027</td><td>3</td><td>3</td><td>3.7e-08</td><td>1</td><td>0.011</td><td>0.54</td><td>0.001</td><td>0.0062</td><td>global-SQGLAG%GE</td><td>CASSQGLAGAGELFF</td><td>TRBV3-1 </td><td>TRBJ2-2</td><td>NA</td><td>Leukemia:CHP_411_X01-cfDNA  </td><td>134</td><td>Leukemia   </td></tr>\n",
       "\t<tr><td>12769</td><td>SQGLAG%GE</td><td>0.0027</td><td>3</td><td>3</td><td>3.7e-08</td><td>1</td><td>0.011</td><td>0.54</td><td>0.001</td><td>0.0062</td><td>global-SQGLAG%GE</td><td>CASSQGLAGAGELFF</td><td>TRBV19  </td><td>TRBJ2-2</td><td>NA</td><td>HomoSapiens:MLANA_ELAGIGILTV</td><td>  1</td><td>HomoSapiens</td></tr>\n",
       "\t<tr><td>12769</td><td>SQGLAG%GE</td><td>0.0027</td><td>3</td><td>3</td><td>3.7e-08</td><td>1</td><td>0.011</td><td>0.54</td><td>0.001</td><td>0.0062</td><td>global-SQGLAG%GE</td><td>CASSQGLAGVGEQFF</td><td>TRBV14_1</td><td>NA     </td><td>NA</td><td>MDavis:C0102                </td><td>  1</td><td>MDavis     </td></tr>\n",
       "</tbody>\n",
       "</table>\n"
      ],
      "text/latex": [
       "A tibble: 4 x 19\n",
       "\\begin{tabular}{lllllllllllllllllll}\n",
       " index & pattern & Fisher\\_score & number\\_subject & number\\_unique\\_cdr3 & final\\_score & hla\\_score & vb\\_score & expansion\\_score & length\\_score & cluster\\_size\\_score & type & TcRb & V & J & TcRa & Sample & Freq & subject\\\\\n",
       " <dbl> & <chr> & <dbl> & <dbl> & <dbl> & <dbl> & <dbl> & <dbl> & <dbl> & <dbl> & <dbl> & <chr> & <chr> & <chr> & <chr> & <lgl> & <chr> & <dbl> & <chr>\\\\\n",
       "\\hline\n",
       "\t 12769 & SQGLAG\\%GE & 0.0027 & 3 & 3 & 3.7e-08 & 1 & 0.011 & 0.54 & 0.001 & 0.0062 & global-SQGLAG\\%GE & CASSQGLAGVGELFF & TRBV14\\_1 & NA      & NA & MDavis:C0102                 &   1 & MDavis     \\\\\n",
       "\t 12769 & SQGLAG\\%GE & 0.0027 & 3 & 3 & 3.7e-08 & 1 & 0.011 & 0.54 & 0.001 & 0.0062 & global-SQGLAG\\%GE & CASSQGLAGAGELFF & TRBV3-1  & TRBJ2-2 & NA & Leukemia:CHP\\_411\\_X01-cfDNA   & 134 & Leukemia   \\\\\n",
       "\t 12769 & SQGLAG\\%GE & 0.0027 & 3 & 3 & 3.7e-08 & 1 & 0.011 & 0.54 & 0.001 & 0.0062 & global-SQGLAG\\%GE & CASSQGLAGAGELFF & TRBV19   & TRBJ2-2 & NA & HomoSapiens:MLANA\\_ELAGIGILTV &   1 & HomoSapiens\\\\\n",
       "\t 12769 & SQGLAG\\%GE & 0.0027 & 3 & 3 & 3.7e-08 & 1 & 0.011 & 0.54 & 0.001 & 0.0062 & global-SQGLAG\\%GE & CASSQGLAGVGEQFF & TRBV14\\_1 & NA      & NA & MDavis:C0102                 &   1 & MDavis     \\\\\n",
       "\\end{tabular}\n"
      ],
      "text/markdown": [
       "\n",
       "A tibble: 4 x 19\n",
       "\n",
       "| index &lt;dbl&gt; | pattern &lt;chr&gt; | Fisher_score &lt;dbl&gt; | number_subject &lt;dbl&gt; | number_unique_cdr3 &lt;dbl&gt; | final_score &lt;dbl&gt; | hla_score &lt;dbl&gt; | vb_score &lt;dbl&gt; | expansion_score &lt;dbl&gt; | length_score &lt;dbl&gt; | cluster_size_score &lt;dbl&gt; | type &lt;chr&gt; | TcRb &lt;chr&gt; | V &lt;chr&gt; | J &lt;chr&gt; | TcRa &lt;lgl&gt; | Sample &lt;chr&gt; | Freq &lt;dbl&gt; | subject &lt;chr&gt; |\n",
       "|---|---|---|---|---|---|---|---|---|---|---|---|---|---|---|---|---|---|---|\n",
       "| 12769 | SQGLAG%GE | 0.0027 | 3 | 3 | 3.7e-08 | 1 | 0.011 | 0.54 | 0.001 | 0.0062 | global-SQGLAG%GE | CASSQGLAGVGELFF | TRBV14_1 | NA      | NA | MDavis:C0102                 |   1 | MDavis      |\n",
       "| 12769 | SQGLAG%GE | 0.0027 | 3 | 3 | 3.7e-08 | 1 | 0.011 | 0.54 | 0.001 | 0.0062 | global-SQGLAG%GE | CASSQGLAGAGELFF | TRBV3-1  | TRBJ2-2 | NA | Leukemia:CHP_411_X01-cfDNA   | 134 | Leukemia    |\n",
       "| 12769 | SQGLAG%GE | 0.0027 | 3 | 3 | 3.7e-08 | 1 | 0.011 | 0.54 | 0.001 | 0.0062 | global-SQGLAG%GE | CASSQGLAGAGELFF | TRBV19   | TRBJ2-2 | NA | HomoSapiens:MLANA_ELAGIGILTV |   1 | HomoSapiens |\n",
       "| 12769 | SQGLAG%GE | 0.0027 | 3 | 3 | 3.7e-08 | 1 | 0.011 | 0.54 | 0.001 | 0.0062 | global-SQGLAG%GE | CASSQGLAGVGEQFF | TRBV14_1 | NA      | NA | MDavis:C0102                 |   1 | MDavis      |\n",
       "\n"
      ],
      "text/plain": [
       "  index pattern   Fisher_score number_subject number_unique_cdr3 final_score\n",
       "1 12769 SQGLAG%GE 0.0027       3              3                  3.7e-08    \n",
       "2 12769 SQGLAG%GE 0.0027       3              3                  3.7e-08    \n",
       "3 12769 SQGLAG%GE 0.0027       3              3                  3.7e-08    \n",
       "4 12769 SQGLAG%GE 0.0027       3              3                  3.7e-08    \n",
       "  hla_score vb_score expansion_score length_score cluster_size_score\n",
       "1 1         0.011    0.54            0.001        0.0062            \n",
       "2 1         0.011    0.54            0.001        0.0062            \n",
       "3 1         0.011    0.54            0.001        0.0062            \n",
       "4 1         0.011    0.54            0.001        0.0062            \n",
       "  type             TcRb            V        J       TcRa\n",
       "1 global-SQGLAG%GE CASSQGLAGVGELFF TRBV14_1 NA      NA  \n",
       "2 global-SQGLAG%GE CASSQGLAGAGELFF TRBV3-1  TRBJ2-2 NA  \n",
       "3 global-SQGLAG%GE CASSQGLAGAGELFF TRBV19   TRBJ2-2 NA  \n",
       "4 global-SQGLAG%GE CASSQGLAGVGEQFF TRBV14_1 NA      NA  \n",
       "  Sample                       Freq subject    \n",
       "1 MDavis:C0102                   1  MDavis     \n",
       "2 Leukemia:CHP_411_X01-cfDNA   134  Leukemia   \n",
       "3 HomoSapiens:MLANA_ELAGIGILTV   1  HomoSapiens\n",
       "4 MDavis:C0102                   1  MDavis     "
      ]
     },
     "metadata": {},
     "output_type": "display_data"
    }
   ],
   "source": [
    "tmp[tmp$pattern %in% \"SQGLAG%GE\",]"
   ]
  },
  {
   "cell_type": "code",
   "execution_count": 328,
   "metadata": {
    "vscode": {
     "languageId": "r"
    }
   },
   "outputs": [
    {
     "data": {
      "text/html": [
       "<style>\n",
       ".list-inline {list-style: none; margin:0; padding: 0}\n",
       ".list-inline>li {display: inline-block}\n",
       ".list-inline>li:not(:last-child)::after {content: \"\\00b7\"; padding: 0 .5ex}\n",
       "</style>\n",
       "<ol class=list-inline><li>'SLG%E'</li><li>'GIWV'</li><li>'IWV'</li><li>'WVYE'</li><li>'IWVY'</li><li>'SV%GNTE'</li><li>'TGIW'</li><li>'SLG%NTE'</li><li>'SY%GTE'</li><li>'SL%GE'</li><li>'SQDR%T'</li><li>'S%MNTE'</li><li>'S%SNQP'</li><li>'S%NTE'</li><li>'SP%NTE'</li><li>'R%GMNTE'</li><li>'S%TGGTE'</li><li>'S%SNTE'</li><li>'S%NTGE'</li><li>'SL%SGGE'</li><li>'SLD%NTE'</li><li>'SLTSG%YNE'</li><li>'S%RGTE'</li><li>'SL%ENTE'</li><li>'SPS%TE'</li><li>'SLGQ%NEK'</li><li>'%VLGDE'</li><li>'SPN%E'</li><li>'SL%TDT'</li><li>'SL%TGIWVYE'</li><li>'S%YNE'</li><li>'S%GSE'</li><li>'SLVSG%E'</li><li>'SL%QGAYE'</li><li>'SRQG%GTE'</li><li>'SQD%NQP'</li><li>'SSG%TYE'</li><li>'SYR%E'</li><li>'SLG%ET'</li><li>'S%RGSYE'</li><li>'SSGLAT%E'</li><li>'%ISGANV'</li><li>'SS%RGKET'</li><li>'SLEGL%TGE'</li><li>'SP%TE'</li><li>'SY%GE'</li><li>'SL%SE'</li><li>'S%DSNSP'</li><li>'SFTG%TE'</li><li>'S%STDT'</li><li>'SSP%AGNTE'</li><li>'SLRPP%I'</li><li>'S%AGNTE'</li><li>'RIWV'</li><li>'SLVGG%TDT'</li><li>'SYP%TE'</li><li>'SF%GGTE'</li><li>'SEAGGP%E'</li><li>'SL%LNTE'</li><li>'SP%LQET'</li><li>'S%PGTE'</li><li>'SLNP%TGE'</li><li>'SVGT%YE'</li><li>'SYPG%E'</li><li>'SP%YE'</li><li>'R%GAGE'</li><li>'S%TSGDYNE'</li><li>'S%GVYG'</li><li>'R%SGANV'</li><li>'SVAG%TE'</li><li>'SPQGA%G'</li><li>'S%GENTE'</li><li>'SVA%NTE'</li><li>'S%GQTYE'</li><li>'%LGENTE'</li><li>'%LGSE'</li><li>'SP%GSYE'</li><li>'SLGS%'</li><li>'S%ELNQP'</li><li>'SSGQTY%'</li><li>'S%GQATNEK'</li><li>'SH%TGE'</li><li>'SQE%TSYNE'</li><li>'SF%SYE'</li><li>'SVS%SE'</li><li>'SPR%SYE'</li><li>'SLGGG%QP'</li><li>'SYS%SP'</li><li>'S%DLNTE'</li><li>'%SDEK'</li><li>'SS%GGYG'</li><li>'SPGGTY%'</li><li>'G%QGGNQP'</li><li>'SL%GLDTE'</li><li>'SR%YNE'</li><li>'SEG%YG'</li><li>'S%RGNEK'</li><li>'SIDR%YG'</li><li>'S%QGWGTE'</li><li>'SQD%RGNQP'</li><li>'S%GSGET'</li><li>'SL%RET'</li><li>'%VAGNTE'</li><li>'SQD%MNTE'</li><li>'S%AGGPNE'</li><li>'%PNTE'</li><li>'SRDR%TNEK'</li><li>'S%NEK'</li><li>'TGQ%NTE'</li><li>'HR%MNTE'</li><li>'RD%YE'</li><li>'S%ISYE'</li><li>'TQG%YG'</li><li>'%RET'</li><li>'%SGQTYE'</li><li>'SPG%TYG'</li><li>'SQDS%NTE'</li><li>'SP%VTDT'</li><li>'SYPGT%'</li><li>'S%RGE'</li><li>'SLD%NSP'</li><li>'SSDRG%ET'</li><li>'SPSN%E'</li><li>'SSGQ%YE'</li><li>'S%GTGSYG'</li><li>'%YYNE'</li><li>'R%AGGTDT'</li><li>'SPA%TDT'</li><li>'S%DSMNTE'</li><li>'SLG%GDQP'</li><li>'S%LYE'</li><li>'SLVGD%'</li><li>'SEAGG%NE'</li><li>'SL%DRGYE'</li><li>'SQGLAG%GE'</li><li>'SLRT%YE'</li><li>'R%RGLNTE'</li><li>'%SYNE'</li><li>'SS%RAYE'</li><li>'SL%LAGVGE'</li><li>'SLS%DT'</li><li>'SQ%GNQP'</li><li>'SE%RGTE'</li><li>'%DRGLNTE'</li><li>'SLGGD%'</li><li>'SLG%GET'</li><li>'SPL%E'</li><li>'%DSTDT'</li><li>'R%TGGYG'</li><li>'S%PGG'</li><li>'S%DRET'</li><li>'S%GQP'</li><li>'%QGAGE'</li><li>'SQGG%T'</li><li>'SL%GDG'</li><li>'SFTGG%E'</li><li>'S%GQGNEK'</li><li>'SL%EK'</li><li>'%PMNTE'</li><li>'SPRG%YE'</li><li>'S%GLAGAGE'</li><li>'%NTE'</li><li>'VG%E'</li><li>'SLVG%G'</li><li>'SS%NE'</li><li>'%RGDTE'</li><li>'%GGE'</li><li>'R%YE'</li><li>'G%YNE'</li><li>'SSY%E'</li><li>'S%'</li><li>'RQG%GE'</li><li>'G%TE'</li></ol>\n"
      ],
      "text/latex": [
       "\\begin{enumerate*}\n",
       "\\item 'SLG\\%E'\n",
       "\\item 'GIWV'\n",
       "\\item 'IWV'\n",
       "\\item 'WVYE'\n",
       "\\item 'IWVY'\n",
       "\\item 'SV\\%GNTE'\n",
       "\\item 'TGIW'\n",
       "\\item 'SLG\\%NTE'\n",
       "\\item 'SY\\%GTE'\n",
       "\\item 'SL\\%GE'\n",
       "\\item 'SQDR\\%T'\n",
       "\\item 'S\\%MNTE'\n",
       "\\item 'S\\%SNQP'\n",
       "\\item 'S\\%NTE'\n",
       "\\item 'SP\\%NTE'\n",
       "\\item 'R\\%GMNTE'\n",
       "\\item 'S\\%TGGTE'\n",
       "\\item 'S\\%SNTE'\n",
       "\\item 'S\\%NTGE'\n",
       "\\item 'SL\\%SGGE'\n",
       "\\item 'SLD\\%NTE'\n",
       "\\item 'SLTSG\\%YNE'\n",
       "\\item 'S\\%RGTE'\n",
       "\\item 'SL\\%ENTE'\n",
       "\\item 'SPS\\%TE'\n",
       "\\item 'SLGQ\\%NEK'\n",
       "\\item '\\%VLGDE'\n",
       "\\item 'SPN\\%E'\n",
       "\\item 'SL\\%TDT'\n",
       "\\item 'SL\\%TGIWVYE'\n",
       "\\item 'S\\%YNE'\n",
       "\\item 'S\\%GSE'\n",
       "\\item 'SLVSG\\%E'\n",
       "\\item 'SL\\%QGAYE'\n",
       "\\item 'SRQG\\%GTE'\n",
       "\\item 'SQD\\%NQP'\n",
       "\\item 'SSG\\%TYE'\n",
       "\\item 'SYR\\%E'\n",
       "\\item 'SLG\\%ET'\n",
       "\\item 'S\\%RGSYE'\n",
       "\\item 'SSGLAT\\%E'\n",
       "\\item '\\%ISGANV'\n",
       "\\item 'SS\\%RGKET'\n",
       "\\item 'SLEGL\\%TGE'\n",
       "\\item 'SP\\%TE'\n",
       "\\item 'SY\\%GE'\n",
       "\\item 'SL\\%SE'\n",
       "\\item 'S\\%DSNSP'\n",
       "\\item 'SFTG\\%TE'\n",
       "\\item 'S\\%STDT'\n",
       "\\item 'SSP\\%AGNTE'\n",
       "\\item 'SLRPP\\%I'\n",
       "\\item 'S\\%AGNTE'\n",
       "\\item 'RIWV'\n",
       "\\item 'SLVGG\\%TDT'\n",
       "\\item 'SYP\\%TE'\n",
       "\\item 'SF\\%GGTE'\n",
       "\\item 'SEAGGP\\%E'\n",
       "\\item 'SL\\%LNTE'\n",
       "\\item 'SP\\%LQET'\n",
       "\\item 'S\\%PGTE'\n",
       "\\item 'SLNP\\%TGE'\n",
       "\\item 'SVGT\\%YE'\n",
       "\\item 'SYPG\\%E'\n",
       "\\item 'SP\\%YE'\n",
       "\\item 'R\\%GAGE'\n",
       "\\item 'S\\%TSGDYNE'\n",
       "\\item 'S\\%GVYG'\n",
       "\\item 'R\\%SGANV'\n",
       "\\item 'SVAG\\%TE'\n",
       "\\item 'SPQGA\\%G'\n",
       "\\item 'S\\%GENTE'\n",
       "\\item 'SVA\\%NTE'\n",
       "\\item 'S\\%GQTYE'\n",
       "\\item '\\%LGENTE'\n",
       "\\item '\\%LGSE'\n",
       "\\item 'SP\\%GSYE'\n",
       "\\item 'SLGS\\%'\n",
       "\\item 'S\\%ELNQP'\n",
       "\\item 'SSGQTY\\%'\n",
       "\\item 'S\\%GQATNEK'\n",
       "\\item 'SH\\%TGE'\n",
       "\\item 'SQE\\%TSYNE'\n",
       "\\item 'SF\\%SYE'\n",
       "\\item 'SVS\\%SE'\n",
       "\\item 'SPR\\%SYE'\n",
       "\\item 'SLGGG\\%QP'\n",
       "\\item 'SYS\\%SP'\n",
       "\\item 'S\\%DLNTE'\n",
       "\\item '\\%SDEK'\n",
       "\\item 'SS\\%GGYG'\n",
       "\\item 'SPGGTY\\%'\n",
       "\\item 'G\\%QGGNQP'\n",
       "\\item 'SL\\%GLDTE'\n",
       "\\item 'SR\\%YNE'\n",
       "\\item 'SEG\\%YG'\n",
       "\\item 'S\\%RGNEK'\n",
       "\\item 'SIDR\\%YG'\n",
       "\\item 'S\\%QGWGTE'\n",
       "\\item 'SQD\\%RGNQP'\n",
       "\\item 'S\\%GSGET'\n",
       "\\item 'SL\\%RET'\n",
       "\\item '\\%VAGNTE'\n",
       "\\item 'SQD\\%MNTE'\n",
       "\\item 'S\\%AGGPNE'\n",
       "\\item '\\%PNTE'\n",
       "\\item 'SRDR\\%TNEK'\n",
       "\\item 'S\\%NEK'\n",
       "\\item 'TGQ\\%NTE'\n",
       "\\item 'HR\\%MNTE'\n",
       "\\item 'RD\\%YE'\n",
       "\\item 'S\\%ISYE'\n",
       "\\item 'TQG\\%YG'\n",
       "\\item '\\%RET'\n",
       "\\item '\\%SGQTYE'\n",
       "\\item 'SPG\\%TYG'\n",
       "\\item 'SQDS\\%NTE'\n",
       "\\item 'SP\\%VTDT'\n",
       "\\item 'SYPGT\\%'\n",
       "\\item 'S\\%RGE'\n",
       "\\item 'SLD\\%NSP'\n",
       "\\item 'SSDRG\\%ET'\n",
       "\\item 'SPSN\\%E'\n",
       "\\item 'SSGQ\\%YE'\n",
       "\\item 'S\\%GTGSYG'\n",
       "\\item '\\%YYNE'\n",
       "\\item 'R\\%AGGTDT'\n",
       "\\item 'SPA\\%TDT'\n",
       "\\item 'S\\%DSMNTE'\n",
       "\\item 'SLG\\%GDQP'\n",
       "\\item 'S\\%LYE'\n",
       "\\item 'SLVGD\\%'\n",
       "\\item 'SEAGG\\%NE'\n",
       "\\item 'SL\\%DRGYE'\n",
       "\\item 'SQGLAG\\%GE'\n",
       "\\item 'SLRT\\%YE'\n",
       "\\item 'R\\%RGLNTE'\n",
       "\\item '\\%SYNE'\n",
       "\\item 'SS\\%RAYE'\n",
       "\\item 'SL\\%LAGVGE'\n",
       "\\item 'SLS\\%DT'\n",
       "\\item 'SQ\\%GNQP'\n",
       "\\item 'SE\\%RGTE'\n",
       "\\item '\\%DRGLNTE'\n",
       "\\item 'SLGGD\\%'\n",
       "\\item 'SLG\\%GET'\n",
       "\\item 'SPL\\%E'\n",
       "\\item '\\%DSTDT'\n",
       "\\item 'R\\%TGGYG'\n",
       "\\item 'S\\%PGG'\n",
       "\\item 'S\\%DRET'\n",
       "\\item 'S\\%GQP'\n",
       "\\item '\\%QGAGE'\n",
       "\\item 'SQGG\\%T'\n",
       "\\item 'SL\\%GDG'\n",
       "\\item 'SFTGG\\%E'\n",
       "\\item 'S\\%GQGNEK'\n",
       "\\item 'SL\\%EK'\n",
       "\\item '\\%PMNTE'\n",
       "\\item 'SPRG\\%YE'\n",
       "\\item 'S\\%GLAGAGE'\n",
       "\\item '\\%NTE'\n",
       "\\item 'VG\\%E'\n",
       "\\item 'SLVG\\%G'\n",
       "\\item 'SS\\%NE'\n",
       "\\item '\\%RGDTE'\n",
       "\\item '\\%GGE'\n",
       "\\item 'R\\%YE'\n",
       "\\item 'G\\%YNE'\n",
       "\\item 'SSY\\%E'\n",
       "\\item 'S\\%'\n",
       "\\item 'RQG\\%GE'\n",
       "\\item 'G\\%TE'\n",
       "\\end{enumerate*}\n"
      ],
      "text/markdown": [
       "1. 'SLG%E'\n",
       "2. 'GIWV'\n",
       "3. 'IWV'\n",
       "4. 'WVYE'\n",
       "5. 'IWVY'\n",
       "6. 'SV%GNTE'\n",
       "7. 'TGIW'\n",
       "8. 'SLG%NTE'\n",
       "9. 'SY%GTE'\n",
       "10. 'SL%GE'\n",
       "11. 'SQDR%T'\n",
       "12. 'S%MNTE'\n",
       "13. 'S%SNQP'\n",
       "14. 'S%NTE'\n",
       "15. 'SP%NTE'\n",
       "16. 'R%GMNTE'\n",
       "17. 'S%TGGTE'\n",
       "18. 'S%SNTE'\n",
       "19. 'S%NTGE'\n",
       "20. 'SL%SGGE'\n",
       "21. 'SLD%NTE'\n",
       "22. 'SLTSG%YNE'\n",
       "23. 'S%RGTE'\n",
       "24. 'SL%ENTE'\n",
       "25. 'SPS%TE'\n",
       "26. 'SLGQ%NEK'\n",
       "27. '%VLGDE'\n",
       "28. 'SPN%E'\n",
       "29. 'SL%TDT'\n",
       "30. 'SL%TGIWVYE'\n",
       "31. 'S%YNE'\n",
       "32. 'S%GSE'\n",
       "33. 'SLVSG%E'\n",
       "34. 'SL%QGAYE'\n",
       "35. 'SRQG%GTE'\n",
       "36. 'SQD%NQP'\n",
       "37. 'SSG%TYE'\n",
       "38. 'SYR%E'\n",
       "39. 'SLG%ET'\n",
       "40. 'S%RGSYE'\n",
       "41. 'SSGLAT%E'\n",
       "42. '%ISGANV'\n",
       "43. 'SS%RGKET'\n",
       "44. 'SLEGL%TGE'\n",
       "45. 'SP%TE'\n",
       "46. 'SY%GE'\n",
       "47. 'SL%SE'\n",
       "48. 'S%DSNSP'\n",
       "49. 'SFTG%TE'\n",
       "50. 'S%STDT'\n",
       "51. 'SSP%AGNTE'\n",
       "52. 'SLRPP%I'\n",
       "53. 'S%AGNTE'\n",
       "54. 'RIWV'\n",
       "55. 'SLVGG%TDT'\n",
       "56. 'SYP%TE'\n",
       "57. 'SF%GGTE'\n",
       "58. 'SEAGGP%E'\n",
       "59. 'SL%LNTE'\n",
       "60. 'SP%LQET'\n",
       "61. 'S%PGTE'\n",
       "62. 'SLNP%TGE'\n",
       "63. 'SVGT%YE'\n",
       "64. 'SYPG%E'\n",
       "65. 'SP%YE'\n",
       "66. 'R%GAGE'\n",
       "67. 'S%TSGDYNE'\n",
       "68. 'S%GVYG'\n",
       "69. 'R%SGANV'\n",
       "70. 'SVAG%TE'\n",
       "71. 'SPQGA%G'\n",
       "72. 'S%GENTE'\n",
       "73. 'SVA%NTE'\n",
       "74. 'S%GQTYE'\n",
       "75. '%LGENTE'\n",
       "76. '%LGSE'\n",
       "77. 'SP%GSYE'\n",
       "78. 'SLGS%'\n",
       "79. 'S%ELNQP'\n",
       "80. 'SSGQTY%'\n",
       "81. 'S%GQATNEK'\n",
       "82. 'SH%TGE'\n",
       "83. 'SQE%TSYNE'\n",
       "84. 'SF%SYE'\n",
       "85. 'SVS%SE'\n",
       "86. 'SPR%SYE'\n",
       "87. 'SLGGG%QP'\n",
       "88. 'SYS%SP'\n",
       "89. 'S%DLNTE'\n",
       "90. '%SDEK'\n",
       "91. 'SS%GGYG'\n",
       "92. 'SPGGTY%'\n",
       "93. 'G%QGGNQP'\n",
       "94. 'SL%GLDTE'\n",
       "95. 'SR%YNE'\n",
       "96. 'SEG%YG'\n",
       "97. 'S%RGNEK'\n",
       "98. 'SIDR%YG'\n",
       "99. 'S%QGWGTE'\n",
       "100. 'SQD%RGNQP'\n",
       "101. 'S%GSGET'\n",
       "102. 'SL%RET'\n",
       "103. '%VAGNTE'\n",
       "104. 'SQD%MNTE'\n",
       "105. 'S%AGGPNE'\n",
       "106. '%PNTE'\n",
       "107. 'SRDR%TNEK'\n",
       "108. 'S%NEK'\n",
       "109. 'TGQ%NTE'\n",
       "110. 'HR%MNTE'\n",
       "111. 'RD%YE'\n",
       "112. 'S%ISYE'\n",
       "113. 'TQG%YG'\n",
       "114. '%RET'\n",
       "115. '%SGQTYE'\n",
       "116. 'SPG%TYG'\n",
       "117. 'SQDS%NTE'\n",
       "118. 'SP%VTDT'\n",
       "119. 'SYPGT%'\n",
       "120. 'S%RGE'\n",
       "121. 'SLD%NSP'\n",
       "122. 'SSDRG%ET'\n",
       "123. 'SPSN%E'\n",
       "124. 'SSGQ%YE'\n",
       "125. 'S%GTGSYG'\n",
       "126. '%YYNE'\n",
       "127. 'R%AGGTDT'\n",
       "128. 'SPA%TDT'\n",
       "129. 'S%DSMNTE'\n",
       "130. 'SLG%GDQP'\n",
       "131. 'S%LYE'\n",
       "132. 'SLVGD%'\n",
       "133. 'SEAGG%NE'\n",
       "134. 'SL%DRGYE'\n",
       "135. 'SQGLAG%GE'\n",
       "136. 'SLRT%YE'\n",
       "137. 'R%RGLNTE'\n",
       "138. '%SYNE'\n",
       "139. 'SS%RAYE'\n",
       "140. 'SL%LAGVGE'\n",
       "141. 'SLS%DT'\n",
       "142. 'SQ%GNQP'\n",
       "143. 'SE%RGTE'\n",
       "144. '%DRGLNTE'\n",
       "145. 'SLGGD%'\n",
       "146. 'SLG%GET'\n",
       "147. 'SPL%E'\n",
       "148. '%DSTDT'\n",
       "149. 'R%TGGYG'\n",
       "150. 'S%PGG'\n",
       "151. 'S%DRET'\n",
       "152. 'S%GQP'\n",
       "153. '%QGAGE'\n",
       "154. 'SQGG%T'\n",
       "155. 'SL%GDG'\n",
       "156. 'SFTGG%E'\n",
       "157. 'S%GQGNEK'\n",
       "158. 'SL%EK'\n",
       "159. '%PMNTE'\n",
       "160. 'SPRG%YE'\n",
       "161. 'S%GLAGAGE'\n",
       "162. '%NTE'\n",
       "163. 'VG%E'\n",
       "164. 'SLVG%G'\n",
       "165. 'SS%NE'\n",
       "166. '%RGDTE'\n",
       "167. '%GGE'\n",
       "168. 'R%YE'\n",
       "169. 'G%YNE'\n",
       "170. 'SSY%E'\n",
       "171. 'S%'\n",
       "172. 'RQG%GE'\n",
       "173. 'G%TE'\n",
       "\n",
       "\n"
      ],
      "text/plain": [
       "  [1] \"SLG%E\"      \"GIWV\"       \"IWV\"        \"WVYE\"       \"IWVY\"      \n",
       "  [6] \"SV%GNTE\"    \"TGIW\"       \"SLG%NTE\"    \"SY%GTE\"     \"SL%GE\"     \n",
       " [11] \"SQDR%T\"     \"S%MNTE\"     \"S%SNQP\"     \"S%NTE\"      \"SP%NTE\"    \n",
       " [16] \"R%GMNTE\"    \"S%TGGTE\"    \"S%SNTE\"     \"S%NTGE\"     \"SL%SGGE\"   \n",
       " [21] \"SLD%NTE\"    \"SLTSG%YNE\"  \"S%RGTE\"     \"SL%ENTE\"    \"SPS%TE\"    \n",
       " [26] \"SLGQ%NEK\"   \"%VLGDE\"     \"SPN%E\"      \"SL%TDT\"     \"SL%TGIWVYE\"\n",
       " [31] \"S%YNE\"      \"S%GSE\"      \"SLVSG%E\"    \"SL%QGAYE\"   \"SRQG%GTE\"  \n",
       " [36] \"SQD%NQP\"    \"SSG%TYE\"    \"SYR%E\"      \"SLG%ET\"     \"S%RGSYE\"   \n",
       " [41] \"SSGLAT%E\"   \"%ISGANV\"    \"SS%RGKET\"   \"SLEGL%TGE\"  \"SP%TE\"     \n",
       " [46] \"SY%GE\"      \"SL%SE\"      \"S%DSNSP\"    \"SFTG%TE\"    \"S%STDT\"    \n",
       " [51] \"SSP%AGNTE\"  \"SLRPP%I\"    \"S%AGNTE\"    \"RIWV\"       \"SLVGG%TDT\" \n",
       " [56] \"SYP%TE\"     \"SF%GGTE\"    \"SEAGGP%E\"   \"SL%LNTE\"    \"SP%LQET\"   \n",
       " [61] \"S%PGTE\"     \"SLNP%TGE\"   \"SVGT%YE\"    \"SYPG%E\"     \"SP%YE\"     \n",
       " [66] \"R%GAGE\"     \"S%TSGDYNE\"  \"S%GVYG\"     \"R%SGANV\"    \"SVAG%TE\"   \n",
       " [71] \"SPQGA%G\"    \"S%GENTE\"    \"SVA%NTE\"    \"S%GQTYE\"    \"%LGENTE\"   \n",
       " [76] \"%LGSE\"      \"SP%GSYE\"    \"SLGS%\"      \"S%ELNQP\"    \"SSGQTY%\"   \n",
       " [81] \"S%GQATNEK\"  \"SH%TGE\"     \"SQE%TSYNE\"  \"SF%SYE\"     \"SVS%SE\"    \n",
       " [86] \"SPR%SYE\"    \"SLGGG%QP\"   \"SYS%SP\"     \"S%DLNTE\"    \"%SDEK\"     \n",
       " [91] \"SS%GGYG\"    \"SPGGTY%\"    \"G%QGGNQP\"   \"SL%GLDTE\"   \"SR%YNE\"    \n",
       " [96] \"SEG%YG\"     \"S%RGNEK\"    \"SIDR%YG\"    \"S%QGWGTE\"   \"SQD%RGNQP\" \n",
       "[101] \"S%GSGET\"    \"SL%RET\"     \"%VAGNTE\"    \"SQD%MNTE\"   \"S%AGGPNE\"  \n",
       "[106] \"%PNTE\"      \"SRDR%TNEK\"  \"S%NEK\"      \"TGQ%NTE\"    \"HR%MNTE\"   \n",
       "[111] \"RD%YE\"      \"S%ISYE\"     \"TQG%YG\"     \"%RET\"       \"%SGQTYE\"   \n",
       "[116] \"SPG%TYG\"    \"SQDS%NTE\"   \"SP%VTDT\"    \"SYPGT%\"     \"S%RGE\"     \n",
       "[121] \"SLD%NSP\"    \"SSDRG%ET\"   \"SPSN%E\"     \"SSGQ%YE\"    \"S%GTGSYG\"  \n",
       "[126] \"%YYNE\"      \"R%AGGTDT\"   \"SPA%TDT\"    \"S%DSMNTE\"   \"SLG%GDQP\"  \n",
       "[131] \"S%LYE\"      \"SLVGD%\"     \"SEAGG%NE\"   \"SL%DRGYE\"   \"SQGLAG%GE\" \n",
       "[136] \"SLRT%YE\"    \"R%RGLNTE\"   \"%SYNE\"      \"SS%RAYE\"    \"SL%LAGVGE\" \n",
       "[141] \"SLS%DT\"     \"SQ%GNQP\"    \"SE%RGTE\"    \"%DRGLNTE\"   \"SLGGD%\"    \n",
       "[146] \"SLG%GET\"    \"SPL%E\"      \"%DSTDT\"     \"R%TGGYG\"    \"S%PGG\"     \n",
       "[151] \"S%DRET\"     \"S%GQP\"      \"%QGAGE\"     \"SQGG%T\"     \"SL%GDG\"    \n",
       "[156] \"SFTGG%E\"    \"S%GQGNEK\"   \"SL%EK\"      \"%PMNTE\"     \"SPRG%YE\"   \n",
       "[161] \"S%GLAGAGE\"  \"%NTE\"       \"VG%E\"       \"SLVG%G\"     \"SS%NE\"     \n",
       "[166] \"%RGDTE\"     \"%GGE\"       \"R%YE\"       \"G%YNE\"      \"SSY%E\"     \n",
       "[171] \"S%\"         \"RQG%GE\"     \"G%TE\"      "
      ]
     },
     "metadata": {},
     "output_type": "display_data"
    }
   ],
   "source": [
    "mygliphs"
   ]
  },
  {
   "cell_type": "markdown",
   "metadata": {},
   "source": [
    "# 1- Rate of virus associated CDR3s"
   ]
  },
  {
   "cell_type": "code",
   "execution_count": 182,
   "metadata": {
    "vscode": {
     "languageId": "r"
    }
   },
   "outputs": [
    {
     "data": {
      "text/html": [
       "<table class=\"dataframe\">\n",
       "<caption>A data.frame: 6 x 13</caption>\n",
       "<thead>\n",
       "\t<tr><th></th><th scope=col>gliph</th><th scope=col>CMV</th><th scope=col>EBV</th><th scope=col>HCV</th><th scope=col>Influenza</th><th scope=col>HomoSapiens</th><th scope=col>MDavis</th><th scope=col>HPV</th><th scope=col>CEF</th><th scope=col>TB</th><th scope=col>MCPyV</th><th scope=col>S-pneumoniae</th><th scope=col>n_unique_cdr3</th></tr>\n",
       "\t<tr><th></th><th scope=col>&lt;chr&gt;</th><th scope=col>&lt;dbl&gt;</th><th scope=col>&lt;dbl&gt;</th><th scope=col>&lt;dbl&gt;</th><th scope=col>&lt;dbl&gt;</th><th scope=col>&lt;dbl&gt;</th><th scope=col>&lt;dbl&gt;</th><th scope=col>&lt;dbl&gt;</th><th scope=col>&lt;dbl&gt;</th><th scope=col>&lt;dbl&gt;</th><th scope=col>&lt;dbl&gt;</th><th scope=col>&lt;dbl&gt;</th><th scope=col>&lt;dbl&gt;</th></tr>\n",
       "</thead>\n",
       "<tbody>\n",
       "\t<tr><th scope=row>SLG%E</th><td>SLG%E  </td><td>0</td><td>0</td><td>0</td><td>0</td><td>0</td><td>39</td><td>0</td><td>0</td><td>0</td><td>0</td><td>0</td><td>50</td></tr>\n",
       "\t<tr><th scope=row>S%GGNTE</th><td>S%GGNTE</td><td>0</td><td>0</td><td>0</td><td>0</td><td>1</td><td>40</td><td>0</td><td>0</td><td>0</td><td>0</td><td>0</td><td>41</td></tr>\n",
       "\t<tr><th scope=row>GIWV</th><td>GIWV   </td><td>0</td><td>0</td><td>0</td><td>0</td><td>0</td><td> 0</td><td>0</td><td>0</td><td>0</td><td>0</td><td>0</td><td>82</td></tr>\n",
       "\t<tr><th scope=row>IWV</th><td>IWV    </td><td>0</td><td>0</td><td>0</td><td>0</td><td>1</td><td> 0</td><td>0</td><td>0</td><td>0</td><td>0</td><td>0</td><td>97</td></tr>\n",
       "\t<tr><th scope=row>WVYE</th><td>WVYE   </td><td>0</td><td>0</td><td>0</td><td>0</td><td>0</td><td> 0</td><td>0</td><td>0</td><td>0</td><td>0</td><td>0</td><td>98</td></tr>\n",
       "\t<tr><th scope=row>IWVY</th><td>IWVY   </td><td>0</td><td>0</td><td>0</td><td>0</td><td>0</td><td> 0</td><td>0</td><td>0</td><td>0</td><td>0</td><td>0</td><td>95</td></tr>\n",
       "</tbody>\n",
       "</table>\n"
      ],
      "text/latex": [
       "A data.frame: 6 x 13\n",
       "\\begin{tabular}{r|lllllllllllll}\n",
       "  & gliph & CMV & EBV & HCV & Influenza & HomoSapiens & MDavis & HPV & CEF & TB & MCPyV & S-pneumoniae & n\\_unique\\_cdr3\\\\\n",
       "  & <chr> & <dbl> & <dbl> & <dbl> & <dbl> & <dbl> & <dbl> & <dbl> & <dbl> & <dbl> & <dbl> & <dbl> & <dbl>\\\\\n",
       "\\hline\n",
       "\tSLG\\%E & SLG\\%E   & 0 & 0 & 0 & 0 & 0 & 39 & 0 & 0 & 0 & 0 & 0 & 50\\\\\n",
       "\tS\\%GGNTE & S\\%GGNTE & 0 & 0 & 0 & 0 & 1 & 40 & 0 & 0 & 0 & 0 & 0 & 41\\\\\n",
       "\tGIWV & GIWV    & 0 & 0 & 0 & 0 & 0 &  0 & 0 & 0 & 0 & 0 & 0 & 82\\\\\n",
       "\tIWV & IWV     & 0 & 0 & 0 & 0 & 1 &  0 & 0 & 0 & 0 & 0 & 0 & 97\\\\\n",
       "\tWVYE & WVYE    & 0 & 0 & 0 & 0 & 0 &  0 & 0 & 0 & 0 & 0 & 0 & 98\\\\\n",
       "\tIWVY & IWVY    & 0 & 0 & 0 & 0 & 0 &  0 & 0 & 0 & 0 & 0 & 0 & 95\\\\\n",
       "\\end{tabular}\n"
      ],
      "text/markdown": [
       "\n",
       "A data.frame: 6 x 13\n",
       "\n",
       "| <!--/--> | gliph &lt;chr&gt; | CMV &lt;dbl&gt; | EBV &lt;dbl&gt; | HCV &lt;dbl&gt; | Influenza &lt;dbl&gt; | HomoSapiens &lt;dbl&gt; | MDavis &lt;dbl&gt; | HPV &lt;dbl&gt; | CEF &lt;dbl&gt; | TB &lt;dbl&gt; | MCPyV &lt;dbl&gt; | S-pneumoniae &lt;dbl&gt; | n_unique_cdr3 &lt;dbl&gt; |\n",
       "|---|---|---|---|---|---|---|---|---|---|---|---|---|---|\n",
       "| SLG%E | SLG%E   | 0 | 0 | 0 | 0 | 0 | 39 | 0 | 0 | 0 | 0 | 0 | 50 |\n",
       "| S%GGNTE | S%GGNTE | 0 | 0 | 0 | 0 | 1 | 40 | 0 | 0 | 0 | 0 | 0 | 41 |\n",
       "| GIWV | GIWV    | 0 | 0 | 0 | 0 | 0 |  0 | 0 | 0 | 0 | 0 | 0 | 82 |\n",
       "| IWV | IWV     | 0 | 0 | 0 | 0 | 1 |  0 | 0 | 0 | 0 | 0 | 0 | 97 |\n",
       "| WVYE | WVYE    | 0 | 0 | 0 | 0 | 0 |  0 | 0 | 0 | 0 | 0 | 0 | 98 |\n",
       "| IWVY | IWVY    | 0 | 0 | 0 | 0 | 0 |  0 | 0 | 0 | 0 | 0 | 0 | 95 |\n",
       "\n"
      ],
      "text/plain": [
       "        gliph   CMV EBV HCV Influenza HomoSapiens MDavis HPV CEF TB MCPyV\n",
       "SLG%E   SLG%E   0   0   0   0         0           39     0   0   0  0    \n",
       "S%GGNTE S%GGNTE 0   0   0   0         1           40     0   0   0  0    \n",
       "GIWV    GIWV    0   0   0   0         0            0     0   0   0  0    \n",
       "IWV     IWV     0   0   0   0         1            0     0   0   0  0    \n",
       "WVYE    WVYE    0   0   0   0         0            0     0   0   0  0    \n",
       "IWVY    IWVY    0   0   0   0         0            0     0   0   0  0    \n",
       "        S-pneumoniae n_unique_cdr3\n",
       "SLG%E   0            50           \n",
       "S%GGNTE 0            41           \n",
       "GIWV    0            82           \n",
       "IWV     0            97           \n",
       "WVYE    0            98           \n",
       "IWVY    0            95           "
      ]
     },
     "metadata": {},
     "output_type": "display_data"
    }
   ],
   "source": [
    "head(gliphdf)"
   ]
  },
  {
   "cell_type": "code",
   "execution_count": 187,
   "metadata": {
    "vscode": {
     "languageId": "r"
    }
   },
   "outputs": [],
   "source": [
    "# get the matrix of GLIPH x samples\n",
    "pat_type <- as.data.frame.matrix(table(tmp %>% select(pattern, Sample)))"
   ]
  },
  {
   "cell_type": "code",
   "execution_count": 188,
   "metadata": {
    "vscode": {
     "languageId": "r"
    }
   },
   "outputs": [
    {
     "data": {
      "text/html": [
       "<table class=\"dataframe\">\n",
       "<caption>A data.frame: 6 x 3239</caption>\n",
       "<thead>\n",
       "\t<tr><th></th><th scope=col>CEF:NA_NA</th><th scope=col>CMV:NA_NA</th><th scope=col>CMV:UL40_VMAPRTLIL</th><th scope=col>CMV:pp65_EFFWDANDIY</th><th scope=col>CMV:pp65_IPSINVHHY</th><th scope=col>CMV:pp65_NLVPMVATV</th><th scope=col>CMV:pp65_RPHERNGFTV</th><th scope=col>CMV:pp65_TPRVTGGGAM</th><th scope=col>EBV:BMLF1_GLCTLVAML</th><th scope=col>EBV:BZLF1_EPLPQGQLTAY</th><th scope=col>...</th><th scope=col>T-cellmalignancies:CHP_375_X04-cfDNA</th><th scope=col>T-cellmalignancies:CHP_375_X05-PBMC</th><th scope=col>T-cellmalignancies:CHP_375_X05-cfDNA</th><th scope=col>T-cellmalignancies:CHP_387_X01-PBMC</th><th scope=col>T-cellmalignancies:CHP_387_X01-cfDNA</th><th scope=col>T-cellmalignancies:CHP_387_X02-cfDNA</th><th scope=col>T-cellmalignancies:CHP_387_X03-PBMC</th><th scope=col>T-cellmalignancies:CHP_387_X03-cfDNA</th><th scope=col>T-cellmalignancies:CHP_395_X01-cfDNA</th><th scope=col>T-cellmalignancies:CHP_395_X02-cfDNA</th></tr>\n",
       "\t<tr><th></th><th scope=col>&lt;int&gt;</th><th scope=col>&lt;int&gt;</th><th scope=col>&lt;int&gt;</th><th scope=col>&lt;int&gt;</th><th scope=col>&lt;int&gt;</th><th scope=col>&lt;int&gt;</th><th scope=col>&lt;int&gt;</th><th scope=col>&lt;int&gt;</th><th scope=col>&lt;int&gt;</th><th scope=col>&lt;int&gt;</th><th scope=col>...</th><th scope=col>&lt;int&gt;</th><th scope=col>&lt;int&gt;</th><th scope=col>&lt;int&gt;</th><th scope=col>&lt;int&gt;</th><th scope=col>&lt;int&gt;</th><th scope=col>&lt;int&gt;</th><th scope=col>&lt;int&gt;</th><th scope=col>&lt;int&gt;</th><th scope=col>&lt;int&gt;</th><th scope=col>&lt;int&gt;</th></tr>\n",
       "</thead>\n",
       "<tbody>\n",
       "\t<tr><th scope=row>%AANTGE</th><td>0</td><td>0</td><td>0</td><td>0</td><td>0</td><td>0</td><td>0</td><td>0</td><td>0</td><td>0</td><td>...</td><td>0</td><td>0</td><td>0</td><td>1</td><td>0</td><td>0</td><td>0</td><td>0</td><td>0</td><td>0</td></tr>\n",
       "\t<tr><th scope=row>%AAQET</th><td>0</td><td>0</td><td>0</td><td>0</td><td>0</td><td>0</td><td>0</td><td>0</td><td>0</td><td>0</td><td>...</td><td>0</td><td>0</td><td>0</td><td>0</td><td>0</td><td>0</td><td>0</td><td>0</td><td>0</td><td>0</td></tr>\n",
       "\t<tr><th scope=row>%ADQET</th><td>0</td><td>0</td><td>0</td><td>0</td><td>0</td><td>0</td><td>0</td><td>0</td><td>0</td><td>0</td><td>...</td><td>0</td><td>0</td><td>0</td><td>0</td><td>0</td><td>0</td><td>0</td><td>0</td><td>0</td><td>0</td></tr>\n",
       "\t<tr><th scope=row>%AGANV</th><td>0</td><td>0</td><td>0</td><td>0</td><td>0</td><td>0</td><td>0</td><td>0</td><td>0</td><td>0</td><td>...</td><td>0</td><td>0</td><td>0</td><td>0</td><td>0</td><td>0</td><td>0</td><td>0</td><td>0</td><td>0</td></tr>\n",
       "\t<tr><th scope=row>%AGANYG</th><td>0</td><td>0</td><td>0</td><td>0</td><td>0</td><td>0</td><td>0</td><td>0</td><td>0</td><td>0</td><td>...</td><td>0</td><td>0</td><td>0</td><td>0</td><td>0</td><td>0</td><td>0</td><td>0</td><td>0</td><td>0</td></tr>\n",
       "\t<tr><th scope=row>%AGDE</th><td>0</td><td>0</td><td>0</td><td>0</td><td>0</td><td>0</td><td>0</td><td>0</td><td>0</td><td>0</td><td>...</td><td>0</td><td>0</td><td>0</td><td>0</td><td>0</td><td>0</td><td>0</td><td>0</td><td>0</td><td>0</td></tr>\n",
       "</tbody>\n",
       "</table>\n"
      ],
      "text/latex": [
       "A data.frame: 6 x 3239\n",
       "\\begin{tabular}{r|lllllllllllllllllllll}\n",
       "  & CEF:NA\\_NA & CMV:NA\\_NA & CMV:UL40\\_VMAPRTLIL & CMV:pp65\\_EFFWDANDIY & CMV:pp65\\_IPSINVHHY & CMV:pp65\\_NLVPMVATV & CMV:pp65\\_RPHERNGFTV & CMV:pp65\\_TPRVTGGGAM & EBV:BMLF1\\_GLCTLVAML & EBV:BZLF1\\_EPLPQGQLTAY & ... & T-cellmalignancies:CHP\\_375\\_X04-cfDNA & T-cellmalignancies:CHP\\_375\\_X05-PBMC & T-cellmalignancies:CHP\\_375\\_X05-cfDNA & T-cellmalignancies:CHP\\_387\\_X01-PBMC & T-cellmalignancies:CHP\\_387\\_X01-cfDNA & T-cellmalignancies:CHP\\_387\\_X02-cfDNA & T-cellmalignancies:CHP\\_387\\_X03-PBMC & T-cellmalignancies:CHP\\_387\\_X03-cfDNA & T-cellmalignancies:CHP\\_395\\_X01-cfDNA & T-cellmalignancies:CHP\\_395\\_X02-cfDNA\\\\\n",
       "  & <int> & <int> & <int> & <int> & <int> & <int> & <int> & <int> & <int> & <int> & ... & <int> & <int> & <int> & <int> & <int> & <int> & <int> & <int> & <int> & <int>\\\\\n",
       "\\hline\n",
       "\t\\%AANTGE & 0 & 0 & 0 & 0 & 0 & 0 & 0 & 0 & 0 & 0 & ... & 0 & 0 & 0 & 1 & 0 & 0 & 0 & 0 & 0 & 0\\\\\n",
       "\t\\%AAQET & 0 & 0 & 0 & 0 & 0 & 0 & 0 & 0 & 0 & 0 & ... & 0 & 0 & 0 & 0 & 0 & 0 & 0 & 0 & 0 & 0\\\\\n",
       "\t\\%ADQET & 0 & 0 & 0 & 0 & 0 & 0 & 0 & 0 & 0 & 0 & ... & 0 & 0 & 0 & 0 & 0 & 0 & 0 & 0 & 0 & 0\\\\\n",
       "\t\\%AGANV & 0 & 0 & 0 & 0 & 0 & 0 & 0 & 0 & 0 & 0 & ... & 0 & 0 & 0 & 0 & 0 & 0 & 0 & 0 & 0 & 0\\\\\n",
       "\t\\%AGANYG & 0 & 0 & 0 & 0 & 0 & 0 & 0 & 0 & 0 & 0 & ... & 0 & 0 & 0 & 0 & 0 & 0 & 0 & 0 & 0 & 0\\\\\n",
       "\t\\%AGDE & 0 & 0 & 0 & 0 & 0 & 0 & 0 & 0 & 0 & 0 & ... & 0 & 0 & 0 & 0 & 0 & 0 & 0 & 0 & 0 & 0\\\\\n",
       "\\end{tabular}\n"
      ],
      "text/markdown": [
       "\n",
       "A data.frame: 6 x 3239\n",
       "\n",
       "| <!--/--> | CEF:NA_NA &lt;int&gt; | CMV:NA_NA &lt;int&gt; | CMV:UL40_VMAPRTLIL &lt;int&gt; | CMV:pp65_EFFWDANDIY &lt;int&gt; | CMV:pp65_IPSINVHHY &lt;int&gt; | CMV:pp65_NLVPMVATV &lt;int&gt; | CMV:pp65_RPHERNGFTV &lt;int&gt; | CMV:pp65_TPRVTGGGAM &lt;int&gt; | EBV:BMLF1_GLCTLVAML &lt;int&gt; | EBV:BZLF1_EPLPQGQLTAY &lt;int&gt; | ... ... | T-cellmalignancies:CHP_375_X04-cfDNA &lt;int&gt; | T-cellmalignancies:CHP_375_X05-PBMC &lt;int&gt; | T-cellmalignancies:CHP_375_X05-cfDNA &lt;int&gt; | T-cellmalignancies:CHP_387_X01-PBMC &lt;int&gt; | T-cellmalignancies:CHP_387_X01-cfDNA &lt;int&gt; | T-cellmalignancies:CHP_387_X02-cfDNA &lt;int&gt; | T-cellmalignancies:CHP_387_X03-PBMC &lt;int&gt; | T-cellmalignancies:CHP_387_X03-cfDNA &lt;int&gt; | T-cellmalignancies:CHP_395_X01-cfDNA &lt;int&gt; | T-cellmalignancies:CHP_395_X02-cfDNA &lt;int&gt; |\n",
       "|---|---|---|---|---|---|---|---|---|---|---|---|---|---|---|---|---|---|---|---|---|---|\n",
       "| %AANTGE | 0 | 0 | 0 | 0 | 0 | 0 | 0 | 0 | 0 | 0 | ... | 0 | 0 | 0 | 1 | 0 | 0 | 0 | 0 | 0 | 0 |\n",
       "| %AAQET | 0 | 0 | 0 | 0 | 0 | 0 | 0 | 0 | 0 | 0 | ... | 0 | 0 | 0 | 0 | 0 | 0 | 0 | 0 | 0 | 0 |\n",
       "| %ADQET | 0 | 0 | 0 | 0 | 0 | 0 | 0 | 0 | 0 | 0 | ... | 0 | 0 | 0 | 0 | 0 | 0 | 0 | 0 | 0 | 0 |\n",
       "| %AGANV | 0 | 0 | 0 | 0 | 0 | 0 | 0 | 0 | 0 | 0 | ... | 0 | 0 | 0 | 0 | 0 | 0 | 0 | 0 | 0 | 0 |\n",
       "| %AGANYG | 0 | 0 | 0 | 0 | 0 | 0 | 0 | 0 | 0 | 0 | ... | 0 | 0 | 0 | 0 | 0 | 0 | 0 | 0 | 0 | 0 |\n",
       "| %AGDE | 0 | 0 | 0 | 0 | 0 | 0 | 0 | 0 | 0 | 0 | ... | 0 | 0 | 0 | 0 | 0 | 0 | 0 | 0 | 0 | 0 |\n",
       "\n"
      ],
      "text/plain": [
       "        CEF:NA_NA CMV:NA_NA CMV:UL40_VMAPRTLIL CMV:pp65_EFFWDANDIY\n",
       "%AANTGE 0         0         0                  0                  \n",
       "%AAQET  0         0         0                  0                  \n",
       "%ADQET  0         0         0                  0                  \n",
       "%AGANV  0         0         0                  0                  \n",
       "%AGANYG 0         0         0                  0                  \n",
       "%AGDE   0         0         0                  0                  \n",
       "        CMV:pp65_IPSINVHHY CMV:pp65_NLVPMVATV CMV:pp65_RPHERNGFTV\n",
       "%AANTGE 0                  0                  0                  \n",
       "%AAQET  0                  0                  0                  \n",
       "%ADQET  0                  0                  0                  \n",
       "%AGANV  0                  0                  0                  \n",
       "%AGANYG 0                  0                  0                  \n",
       "%AGDE   0                  0                  0                  \n",
       "        CMV:pp65_TPRVTGGGAM EBV:BMLF1_GLCTLVAML EBV:BZLF1_EPLPQGQLTAY ...\n",
       "%AANTGE 0                   0                   0                     ...\n",
       "%AAQET  0                   0                   0                     ...\n",
       "%ADQET  0                   0                   0                     ...\n",
       "%AGANV  0                   0                   0                     ...\n",
       "%AGANYG 0                   0                   0                     ...\n",
       "%AGDE   0                   0                   0                     ...\n",
       "        T-cellmalignancies:CHP_375_X04-cfDNA\n",
       "%AANTGE 0                                   \n",
       "%AAQET  0                                   \n",
       "%ADQET  0                                   \n",
       "%AGANV  0                                   \n",
       "%AGANYG 0                                   \n",
       "%AGDE   0                                   \n",
       "        T-cellmalignancies:CHP_375_X05-PBMC\n",
       "%AANTGE 0                                  \n",
       "%AAQET  0                                  \n",
       "%ADQET  0                                  \n",
       "%AGANV  0                                  \n",
       "%AGANYG 0                                  \n",
       "%AGDE   0                                  \n",
       "        T-cellmalignancies:CHP_375_X05-cfDNA\n",
       "%AANTGE 0                                   \n",
       "%AAQET  0                                   \n",
       "%ADQET  0                                   \n",
       "%AGANV  0                                   \n",
       "%AGANYG 0                                   \n",
       "%AGDE   0                                   \n",
       "        T-cellmalignancies:CHP_387_X01-PBMC\n",
       "%AANTGE 1                                  \n",
       "%AAQET  0                                  \n",
       "%ADQET  0                                  \n",
       "%AGANV  0                                  \n",
       "%AGANYG 0                                  \n",
       "%AGDE   0                                  \n",
       "        T-cellmalignancies:CHP_387_X01-cfDNA\n",
       "%AANTGE 0                                   \n",
       "%AAQET  0                                   \n",
       "%ADQET  0                                   \n",
       "%AGANV  0                                   \n",
       "%AGANYG 0                                   \n",
       "%AGDE   0                                   \n",
       "        T-cellmalignancies:CHP_387_X02-cfDNA\n",
       "%AANTGE 0                                   \n",
       "%AAQET  0                                   \n",
       "%ADQET  0                                   \n",
       "%AGANV  0                                   \n",
       "%AGANYG 0                                   \n",
       "%AGDE   0                                   \n",
       "        T-cellmalignancies:CHP_387_X03-PBMC\n",
       "%AANTGE 0                                  \n",
       "%AAQET  0                                  \n",
       "%ADQET  0                                  \n",
       "%AGANV  0                                  \n",
       "%AGANYG 0                                  \n",
       "%AGDE   0                                  \n",
       "        T-cellmalignancies:CHP_387_X03-cfDNA\n",
       "%AANTGE 0                                   \n",
       "%AAQET  0                                   \n",
       "%ADQET  0                                   \n",
       "%AGANV  0                                   \n",
       "%AGANYG 0                                   \n",
       "%AGDE   0                                   \n",
       "        T-cellmalignancies:CHP_395_X01-cfDNA\n",
       "%AANTGE 0                                   \n",
       "%AAQET  0                                   \n",
       "%ADQET  0                                   \n",
       "%AGANV  0                                   \n",
       "%AGANYG 0                                   \n",
       "%AGDE   0                                   \n",
       "        T-cellmalignancies:CHP_395_X02-cfDNA\n",
       "%AANTGE 0                                   \n",
       "%AAQET  0                                   \n",
       "%ADQET  0                                   \n",
       "%AGANV  0                                   \n",
       "%AGANYG 0                                   \n",
       "%AGDE   0                                   "
      ]
     },
     "metadata": {},
     "output_type": "display_data"
    }
   ],
   "source": [
    "head(pat_type)"
   ]
  },
  {
   "cell_type": "code",
   "execution_count": 189,
   "metadata": {
    "vscode": {
     "languageId": "r"
    }
   },
   "outputs": [],
   "source": [
    "# just CHP samples\n",
    "pat_type <- pat_type[, colnames(pat_type)[grepl(\"CHP\", colnames(pat_type))]]"
   ]
  },
  {
   "cell_type": "code",
   "execution_count": 190,
   "metadata": {
    "vscode": {
     "languageId": "r"
    }
   },
   "outputs": [
    {
     "data": {
      "text/html": [
       "<table class=\"dataframe\">\n",
       "<caption>A data.frame: 6 x 421</caption>\n",
       "<thead>\n",
       "\t<tr><th></th><th scope=col>Leukemia:CHP_319_X05-PBMC</th><th scope=col>Leukemia:CHP_323_X03-PBMC</th><th scope=col>Leukemia:CHP_323_X03-cfDNA</th><th scope=col>Leukemia:CHP_323_X05-PBMC</th><th scope=col>Leukemia:CHP_323_X05-cfDNA</th><th scope=col>Leukemia:CHP_326_X05-cfDNA</th><th scope=col>Leukemia:CHP_328_X04-PBMC</th><th scope=col>Leukemia:CHP_328_X05-PBMC</th><th scope=col>Leukemia:CHP_329_X04-cfDNA</th><th scope=col>Leukemia:CHP_331_X04-PBMC</th><th scope=col>...</th><th scope=col>T-cellmalignancies:CHP_375_X04-cfDNA</th><th scope=col>T-cellmalignancies:CHP_375_X05-PBMC</th><th scope=col>T-cellmalignancies:CHP_375_X05-cfDNA</th><th scope=col>T-cellmalignancies:CHP_387_X01-PBMC</th><th scope=col>T-cellmalignancies:CHP_387_X01-cfDNA</th><th scope=col>T-cellmalignancies:CHP_387_X02-cfDNA</th><th scope=col>T-cellmalignancies:CHP_387_X03-PBMC</th><th scope=col>T-cellmalignancies:CHP_387_X03-cfDNA</th><th scope=col>T-cellmalignancies:CHP_395_X01-cfDNA</th><th scope=col>T-cellmalignancies:CHP_395_X02-cfDNA</th></tr>\n",
       "\t<tr><th></th><th scope=col>&lt;int&gt;</th><th scope=col>&lt;int&gt;</th><th scope=col>&lt;int&gt;</th><th scope=col>&lt;int&gt;</th><th scope=col>&lt;int&gt;</th><th scope=col>&lt;int&gt;</th><th scope=col>&lt;int&gt;</th><th scope=col>&lt;int&gt;</th><th scope=col>&lt;int&gt;</th><th scope=col>&lt;int&gt;</th><th scope=col>...</th><th scope=col>&lt;int&gt;</th><th scope=col>&lt;int&gt;</th><th scope=col>&lt;int&gt;</th><th scope=col>&lt;int&gt;</th><th scope=col>&lt;int&gt;</th><th scope=col>&lt;int&gt;</th><th scope=col>&lt;int&gt;</th><th scope=col>&lt;int&gt;</th><th scope=col>&lt;int&gt;</th><th scope=col>&lt;int&gt;</th></tr>\n",
       "</thead>\n",
       "<tbody>\n",
       "\t<tr><th scope=row>%AANTGE</th><td>0</td><td>0</td><td>0</td><td>0</td><td>0</td><td>0</td><td>0</td><td>0</td><td>0</td><td>0</td><td>...</td><td>0</td><td>0</td><td>0</td><td>1</td><td>0</td><td>0</td><td>0</td><td>0</td><td>0</td><td>0</td></tr>\n",
       "\t<tr><th scope=row>%AAQET</th><td>0</td><td>0</td><td>0</td><td>0</td><td>0</td><td>0</td><td>0</td><td>0</td><td>0</td><td>0</td><td>...</td><td>0</td><td>0</td><td>0</td><td>0</td><td>0</td><td>0</td><td>0</td><td>0</td><td>0</td><td>0</td></tr>\n",
       "\t<tr><th scope=row>%ADQET</th><td>0</td><td>0</td><td>0</td><td>0</td><td>0</td><td>0</td><td>0</td><td>0</td><td>0</td><td>0</td><td>...</td><td>0</td><td>0</td><td>0</td><td>0</td><td>0</td><td>0</td><td>0</td><td>0</td><td>0</td><td>0</td></tr>\n",
       "\t<tr><th scope=row>%AGANV</th><td>0</td><td>0</td><td>0</td><td>0</td><td>0</td><td>0</td><td>0</td><td>0</td><td>0</td><td>0</td><td>...</td><td>0</td><td>0</td><td>0</td><td>0</td><td>0</td><td>0</td><td>0</td><td>0</td><td>0</td><td>0</td></tr>\n",
       "\t<tr><th scope=row>%AGANYG</th><td>0</td><td>0</td><td>0</td><td>0</td><td>0</td><td>0</td><td>0</td><td>0</td><td>0</td><td>0</td><td>...</td><td>0</td><td>0</td><td>0</td><td>0</td><td>0</td><td>0</td><td>0</td><td>0</td><td>0</td><td>0</td></tr>\n",
       "\t<tr><th scope=row>%AGDE</th><td>0</td><td>0</td><td>0</td><td>0</td><td>0</td><td>0</td><td>0</td><td>0</td><td>0</td><td>0</td><td>...</td><td>0</td><td>0</td><td>0</td><td>0</td><td>0</td><td>0</td><td>0</td><td>0</td><td>0</td><td>0</td></tr>\n",
       "</tbody>\n",
       "</table>\n"
      ],
      "text/latex": [
       "A data.frame: 6 x 421\n",
       "\\begin{tabular}{r|lllllllllllllllllllll}\n",
       "  & Leukemia:CHP\\_319\\_X05-PBMC & Leukemia:CHP\\_323\\_X03-PBMC & Leukemia:CHP\\_323\\_X03-cfDNA & Leukemia:CHP\\_323\\_X05-PBMC & Leukemia:CHP\\_323\\_X05-cfDNA & Leukemia:CHP\\_326\\_X05-cfDNA & Leukemia:CHP\\_328\\_X04-PBMC & Leukemia:CHP\\_328\\_X05-PBMC & Leukemia:CHP\\_329\\_X04-cfDNA & Leukemia:CHP\\_331\\_X04-PBMC & ... & T-cellmalignancies:CHP\\_375\\_X04-cfDNA & T-cellmalignancies:CHP\\_375\\_X05-PBMC & T-cellmalignancies:CHP\\_375\\_X05-cfDNA & T-cellmalignancies:CHP\\_387\\_X01-PBMC & T-cellmalignancies:CHP\\_387\\_X01-cfDNA & T-cellmalignancies:CHP\\_387\\_X02-cfDNA & T-cellmalignancies:CHP\\_387\\_X03-PBMC & T-cellmalignancies:CHP\\_387\\_X03-cfDNA & T-cellmalignancies:CHP\\_395\\_X01-cfDNA & T-cellmalignancies:CHP\\_395\\_X02-cfDNA\\\\\n",
       "  & <int> & <int> & <int> & <int> & <int> & <int> & <int> & <int> & <int> & <int> & ... & <int> & <int> & <int> & <int> & <int> & <int> & <int> & <int> & <int> & <int>\\\\\n",
       "\\hline\n",
       "\t\\%AANTGE & 0 & 0 & 0 & 0 & 0 & 0 & 0 & 0 & 0 & 0 & ... & 0 & 0 & 0 & 1 & 0 & 0 & 0 & 0 & 0 & 0\\\\\n",
       "\t\\%AAQET & 0 & 0 & 0 & 0 & 0 & 0 & 0 & 0 & 0 & 0 & ... & 0 & 0 & 0 & 0 & 0 & 0 & 0 & 0 & 0 & 0\\\\\n",
       "\t\\%ADQET & 0 & 0 & 0 & 0 & 0 & 0 & 0 & 0 & 0 & 0 & ... & 0 & 0 & 0 & 0 & 0 & 0 & 0 & 0 & 0 & 0\\\\\n",
       "\t\\%AGANV & 0 & 0 & 0 & 0 & 0 & 0 & 0 & 0 & 0 & 0 & ... & 0 & 0 & 0 & 0 & 0 & 0 & 0 & 0 & 0 & 0\\\\\n",
       "\t\\%AGANYG & 0 & 0 & 0 & 0 & 0 & 0 & 0 & 0 & 0 & 0 & ... & 0 & 0 & 0 & 0 & 0 & 0 & 0 & 0 & 0 & 0\\\\\n",
       "\t\\%AGDE & 0 & 0 & 0 & 0 & 0 & 0 & 0 & 0 & 0 & 0 & ... & 0 & 0 & 0 & 0 & 0 & 0 & 0 & 0 & 0 & 0\\\\\n",
       "\\end{tabular}\n"
      ],
      "text/markdown": [
       "\n",
       "A data.frame: 6 x 421\n",
       "\n",
       "| <!--/--> | Leukemia:CHP_319_X05-PBMC &lt;int&gt; | Leukemia:CHP_323_X03-PBMC &lt;int&gt; | Leukemia:CHP_323_X03-cfDNA &lt;int&gt; | Leukemia:CHP_323_X05-PBMC &lt;int&gt; | Leukemia:CHP_323_X05-cfDNA &lt;int&gt; | Leukemia:CHP_326_X05-cfDNA &lt;int&gt; | Leukemia:CHP_328_X04-PBMC &lt;int&gt; | Leukemia:CHP_328_X05-PBMC &lt;int&gt; | Leukemia:CHP_329_X04-cfDNA &lt;int&gt; | Leukemia:CHP_331_X04-PBMC &lt;int&gt; | ... ... | T-cellmalignancies:CHP_375_X04-cfDNA &lt;int&gt; | T-cellmalignancies:CHP_375_X05-PBMC &lt;int&gt; | T-cellmalignancies:CHP_375_X05-cfDNA &lt;int&gt; | T-cellmalignancies:CHP_387_X01-PBMC &lt;int&gt; | T-cellmalignancies:CHP_387_X01-cfDNA &lt;int&gt; | T-cellmalignancies:CHP_387_X02-cfDNA &lt;int&gt; | T-cellmalignancies:CHP_387_X03-PBMC &lt;int&gt; | T-cellmalignancies:CHP_387_X03-cfDNA &lt;int&gt; | T-cellmalignancies:CHP_395_X01-cfDNA &lt;int&gt; | T-cellmalignancies:CHP_395_X02-cfDNA &lt;int&gt; |\n",
       "|---|---|---|---|---|---|---|---|---|---|---|---|---|---|---|---|---|---|---|---|---|---|\n",
       "| %AANTGE | 0 | 0 | 0 | 0 | 0 | 0 | 0 | 0 | 0 | 0 | ... | 0 | 0 | 0 | 1 | 0 | 0 | 0 | 0 | 0 | 0 |\n",
       "| %AAQET | 0 | 0 | 0 | 0 | 0 | 0 | 0 | 0 | 0 | 0 | ... | 0 | 0 | 0 | 0 | 0 | 0 | 0 | 0 | 0 | 0 |\n",
       "| %ADQET | 0 | 0 | 0 | 0 | 0 | 0 | 0 | 0 | 0 | 0 | ... | 0 | 0 | 0 | 0 | 0 | 0 | 0 | 0 | 0 | 0 |\n",
       "| %AGANV | 0 | 0 | 0 | 0 | 0 | 0 | 0 | 0 | 0 | 0 | ... | 0 | 0 | 0 | 0 | 0 | 0 | 0 | 0 | 0 | 0 |\n",
       "| %AGANYG | 0 | 0 | 0 | 0 | 0 | 0 | 0 | 0 | 0 | 0 | ... | 0 | 0 | 0 | 0 | 0 | 0 | 0 | 0 | 0 | 0 |\n",
       "| %AGDE | 0 | 0 | 0 | 0 | 0 | 0 | 0 | 0 | 0 | 0 | ... | 0 | 0 | 0 | 0 | 0 | 0 | 0 | 0 | 0 | 0 |\n",
       "\n"
      ],
      "text/plain": [
       "        Leukemia:CHP_319_X05-PBMC Leukemia:CHP_323_X03-PBMC\n",
       "%AANTGE 0                         0                        \n",
       "%AAQET  0                         0                        \n",
       "%ADQET  0                         0                        \n",
       "%AGANV  0                         0                        \n",
       "%AGANYG 0                         0                        \n",
       "%AGDE   0                         0                        \n",
       "        Leukemia:CHP_323_X03-cfDNA Leukemia:CHP_323_X05-PBMC\n",
       "%AANTGE 0                          0                        \n",
       "%AAQET  0                          0                        \n",
       "%ADQET  0                          0                        \n",
       "%AGANV  0                          0                        \n",
       "%AGANYG 0                          0                        \n",
       "%AGDE   0                          0                        \n",
       "        Leukemia:CHP_323_X05-cfDNA Leukemia:CHP_326_X05-cfDNA\n",
       "%AANTGE 0                          0                         \n",
       "%AAQET  0                          0                         \n",
       "%ADQET  0                          0                         \n",
       "%AGANV  0                          0                         \n",
       "%AGANYG 0                          0                         \n",
       "%AGDE   0                          0                         \n",
       "        Leukemia:CHP_328_X04-PBMC Leukemia:CHP_328_X05-PBMC\n",
       "%AANTGE 0                         0                        \n",
       "%AAQET  0                         0                        \n",
       "%ADQET  0                         0                        \n",
       "%AGANV  0                         0                        \n",
       "%AGANYG 0                         0                        \n",
       "%AGDE   0                         0                        \n",
       "        Leukemia:CHP_329_X04-cfDNA Leukemia:CHP_331_X04-PBMC ...\n",
       "%AANTGE 0                          0                         ...\n",
       "%AAQET  0                          0                         ...\n",
       "%ADQET  0                          0                         ...\n",
       "%AGANV  0                          0                         ...\n",
       "%AGANYG 0                          0                         ...\n",
       "%AGDE   0                          0                         ...\n",
       "        T-cellmalignancies:CHP_375_X04-cfDNA\n",
       "%AANTGE 0                                   \n",
       "%AAQET  0                                   \n",
       "%ADQET  0                                   \n",
       "%AGANV  0                                   \n",
       "%AGANYG 0                                   \n",
       "%AGDE   0                                   \n",
       "        T-cellmalignancies:CHP_375_X05-PBMC\n",
       "%AANTGE 0                                  \n",
       "%AAQET  0                                  \n",
       "%ADQET  0                                  \n",
       "%AGANV  0                                  \n",
       "%AGANYG 0                                  \n",
       "%AGDE   0                                  \n",
       "        T-cellmalignancies:CHP_375_X05-cfDNA\n",
       "%AANTGE 0                                   \n",
       "%AAQET  0                                   \n",
       "%ADQET  0                                   \n",
       "%AGANV  0                                   \n",
       "%AGANYG 0                                   \n",
       "%AGDE   0                                   \n",
       "        T-cellmalignancies:CHP_387_X01-PBMC\n",
       "%AANTGE 1                                  \n",
       "%AAQET  0                                  \n",
       "%ADQET  0                                  \n",
       "%AGANV  0                                  \n",
       "%AGANYG 0                                  \n",
       "%AGDE   0                                  \n",
       "        T-cellmalignancies:CHP_387_X01-cfDNA\n",
       "%AANTGE 0                                   \n",
       "%AAQET  0                                   \n",
       "%ADQET  0                                   \n",
       "%AGANV  0                                   \n",
       "%AGANYG 0                                   \n",
       "%AGDE   0                                   \n",
       "        T-cellmalignancies:CHP_387_X02-cfDNA\n",
       "%AANTGE 0                                   \n",
       "%AAQET  0                                   \n",
       "%ADQET  0                                   \n",
       "%AGANV  0                                   \n",
       "%AGANYG 0                                   \n",
       "%AGDE   0                                   \n",
       "        T-cellmalignancies:CHP_387_X03-PBMC\n",
       "%AANTGE 0                                  \n",
       "%AAQET  0                                  \n",
       "%ADQET  0                                  \n",
       "%AGANV  0                                  \n",
       "%AGANYG 0                                  \n",
       "%AGDE   0                                  \n",
       "        T-cellmalignancies:CHP_387_X03-cfDNA\n",
       "%AANTGE 0                                   \n",
       "%AAQET  0                                   \n",
       "%ADQET  0                                   \n",
       "%AGANV  0                                   \n",
       "%AGANYG 0                                   \n",
       "%AGDE   0                                   \n",
       "        T-cellmalignancies:CHP_395_X01-cfDNA\n",
       "%AANTGE 0                                   \n",
       "%AAQET  0                                   \n",
       "%ADQET  0                                   \n",
       "%AGANV  0                                   \n",
       "%AGANYG 0                                   \n",
       "%AGDE   0                                   \n",
       "        T-cellmalignancies:CHP_395_X02-cfDNA\n",
       "%AANTGE 0                                   \n",
       "%AAQET  0                                   \n",
       "%ADQET  0                                   \n",
       "%AGANV  0                                   \n",
       "%AGANYG 0                                   \n",
       "%AGDE   0                                   "
      ]
     },
     "metadata": {},
     "output_type": "display_data"
    }
   ],
   "source": [
    "head(pat_type)"
   ]
  },
  {
   "cell_type": "code",
   "execution_count": 191,
   "metadata": {
    "vscode": {
     "languageId": "r"
    }
   },
   "outputs": [],
   "source": [
    "pat_type$gliph <- rownames(pat_type)"
   ]
  },
  {
   "cell_type": "code",
   "execution_count": 217,
   "metadata": {
    "vscode": {
     "languageId": "r"
    }
   },
   "outputs": [],
   "source": [
    "# long format and remove 0\n",
    "pat_type_long <- tidyr::pivot_longer(pat_type, !gliph, names_to = \"Sample\", values_to = \"value\")\n",
    "pat_type_long <- pat_type_long[ pat_type_long$value != 0,]"
   ]
  },
  {
   "cell_type": "code",
   "execution_count": 218,
   "metadata": {
    "vscode": {
     "languageId": "r"
    }
   },
   "outputs": [],
   "source": [
    "#orderr by sample\n",
    "pat_type_long <- pat_type_long[order(pat_type_long$Sample),]"
   ]
  },
  {
   "cell_type": "code",
   "execution_count": 219,
   "metadata": {
    "vscode": {
     "languageId": "r"
    }
   },
   "outputs": [
    {
     "data": {
      "text/html": [
       "<table class=\"dataframe\">\n",
       "<caption>A tibble: 6 x 3</caption>\n",
       "<thead>\n",
       "\t<tr><th scope=col>gliph</th><th scope=col>Sample</th><th scope=col>value</th></tr>\n",
       "\t<tr><th scope=col>&lt;chr&gt;</th><th scope=col>&lt;chr&gt;</th><th scope=col>&lt;int&gt;</th></tr>\n",
       "</thead>\n",
       "<tbody>\n",
       "\t<tr><td>S%QGMNTE </td><td>Leukemia:CHP_319_X05-PBMC</td><td>1</td></tr>\n",
       "\t<tr><td>SLGLAG%ET</td><td>Leukemia:CHP_319_X05-PBMC</td><td>1</td></tr>\n",
       "\t<tr><td>STG%ANSP </td><td>Leukemia:CHP_319_X05-PBMC</td><td>1</td></tr>\n",
       "\t<tr><td>%GGNQP   </td><td>Leukemia:CHP_323_X03-PBMC</td><td>1</td></tr>\n",
       "\t<tr><td>RR%QET   </td><td>Leukemia:CHP_323_X03-PBMC</td><td>1</td></tr>\n",
       "\t<tr><td>S%AYE    </td><td>Leukemia:CHP_323_X03-PBMC</td><td>1</td></tr>\n",
       "</tbody>\n",
       "</table>\n"
      ],
      "text/latex": [
       "A tibble: 6 x 3\n",
       "\\begin{tabular}{lll}\n",
       " gliph & Sample & value\\\\\n",
       " <chr> & <chr> & <int>\\\\\n",
       "\\hline\n",
       "\t S\\%QGMNTE  & Leukemia:CHP\\_319\\_X05-PBMC & 1\\\\\n",
       "\t SLGLAG\\%ET & Leukemia:CHP\\_319\\_X05-PBMC & 1\\\\\n",
       "\t STG\\%ANSP  & Leukemia:CHP\\_319\\_X05-PBMC & 1\\\\\n",
       "\t \\%GGNQP    & Leukemia:CHP\\_323\\_X03-PBMC & 1\\\\\n",
       "\t RR\\%QET    & Leukemia:CHP\\_323\\_X03-PBMC & 1\\\\\n",
       "\t S\\%AYE     & Leukemia:CHP\\_323\\_X03-PBMC & 1\\\\\n",
       "\\end{tabular}\n"
      ],
      "text/markdown": [
       "\n",
       "A tibble: 6 x 3\n",
       "\n",
       "| gliph &lt;chr&gt; | Sample &lt;chr&gt; | value &lt;int&gt; |\n",
       "|---|---|---|\n",
       "| S%QGMNTE  | Leukemia:CHP_319_X05-PBMC | 1 |\n",
       "| SLGLAG%ET | Leukemia:CHP_319_X05-PBMC | 1 |\n",
       "| STG%ANSP  | Leukemia:CHP_319_X05-PBMC | 1 |\n",
       "| %GGNQP    | Leukemia:CHP_323_X03-PBMC | 1 |\n",
       "| RR%QET    | Leukemia:CHP_323_X03-PBMC | 1 |\n",
       "| S%AYE     | Leukemia:CHP_323_X03-PBMC | 1 |\n",
       "\n"
      ],
      "text/plain": [
       "  gliph     Sample                    value\n",
       "1 S%QGMNTE  Leukemia:CHP_319_X05-PBMC 1    \n",
       "2 SLGLAG%ET Leukemia:CHP_319_X05-PBMC 1    \n",
       "3 STG%ANSP  Leukemia:CHP_319_X05-PBMC 1    \n",
       "4 %GGNQP    Leukemia:CHP_323_X03-PBMC 1    \n",
       "5 RR%QET    Leukemia:CHP_323_X03-PBMC 1    \n",
       "6 S%AYE     Leukemia:CHP_323_X03-PBMC 1    "
      ]
     },
     "metadata": {},
     "output_type": "display_data"
    }
   ],
   "source": [
    "head(pat_type_long)"
   ]
  },
  {
   "cell_type": "code",
   "execution_count": 220,
   "metadata": {
    "vscode": {
     "languageId": "r"
    }
   },
   "outputs": [],
   "source": [
    "mydat <- data.frame(matrix( nrow = nrow(pat_type_long), ncol = length(names(table(tmp$subject )) ),\n",
    "dimnames = list(NULL, names(table(tmp$subject )))))"
   ]
  },
  {
   "cell_type": "code",
   "execution_count": 221,
   "metadata": {
    "vscode": {
     "languageId": "r"
    }
   },
   "outputs": [],
   "source": [
    "# pat_type_long <- cbind(pat_type_long, mydat)"
   ]
  },
  {
   "cell_type": "code",
   "execution_count": 235,
   "metadata": {
    "vscode": {
     "languageId": "r"
    }
   },
   "outputs": [
    {
     "data": {
      "text/html": [
       "<table class=\"dataframe\">\n",
       "<caption>A tibble: 6 x 3</caption>\n",
       "<thead>\n",
       "\t<tr><th scope=col>gliph</th><th scope=col>Sample</th><th scope=col>value</th></tr>\n",
       "\t<tr><th scope=col>&lt;chr&gt;</th><th scope=col>&lt;chr&gt;</th><th scope=col>&lt;lgl&gt;</th></tr>\n",
       "</thead>\n",
       "<tbody>\n",
       "\t<tr><td>S%QGMNTE </td><td>Leukemia:CHP_319_X05-PBMC</td><td>NA</td></tr>\n",
       "\t<tr><td>SLGLAG%ET</td><td>Leukemia:CHP_319_X05-PBMC</td><td>NA</td></tr>\n",
       "\t<tr><td>STG%ANSP </td><td>Leukemia:CHP_319_X05-PBMC</td><td>NA</td></tr>\n",
       "\t<tr><td>%GGNQP   </td><td>Leukemia:CHP_323_X03-PBMC</td><td>NA</td></tr>\n",
       "\t<tr><td>RR%QET   </td><td>Leukemia:CHP_323_X03-PBMC</td><td>NA</td></tr>\n",
       "\t<tr><td>S%AYE    </td><td>Leukemia:CHP_323_X03-PBMC</td><td>NA</td></tr>\n",
       "</tbody>\n",
       "</table>\n"
      ],
      "text/latex": [
       "A tibble: 6 x 3\n",
       "\\begin{tabular}{lll}\n",
       " gliph & Sample & value\\\\\n",
       " <chr> & <chr> & <lgl>\\\\\n",
       "\\hline\n",
       "\t S\\%QGMNTE  & Leukemia:CHP\\_319\\_X05-PBMC & NA\\\\\n",
       "\t SLGLAG\\%ET & Leukemia:CHP\\_319\\_X05-PBMC & NA\\\\\n",
       "\t STG\\%ANSP  & Leukemia:CHP\\_319\\_X05-PBMC & NA\\\\\n",
       "\t \\%GGNQP    & Leukemia:CHP\\_323\\_X03-PBMC & NA\\\\\n",
       "\t RR\\%QET    & Leukemia:CHP\\_323\\_X03-PBMC & NA\\\\\n",
       "\t S\\%AYE     & Leukemia:CHP\\_323\\_X03-PBMC & NA\\\\\n",
       "\\end{tabular}\n"
      ],
      "text/markdown": [
       "\n",
       "A tibble: 6 x 3\n",
       "\n",
       "| gliph &lt;chr&gt; | Sample &lt;chr&gt; | value &lt;lgl&gt; |\n",
       "|---|---|---|\n",
       "| S%QGMNTE  | Leukemia:CHP_319_X05-PBMC | NA |\n",
       "| SLGLAG%ET | Leukemia:CHP_319_X05-PBMC | NA |\n",
       "| STG%ANSP  | Leukemia:CHP_319_X05-PBMC | NA |\n",
       "| %GGNQP    | Leukemia:CHP_323_X03-PBMC | NA |\n",
       "| RR%QET    | Leukemia:CHP_323_X03-PBMC | NA |\n",
       "| S%AYE     | Leukemia:CHP_323_X03-PBMC | NA |\n",
       "\n"
      ],
      "text/plain": [
       "  gliph     Sample                    value\n",
       "1 S%QGMNTE  Leukemia:CHP_319_X05-PBMC NA   \n",
       "2 SLGLAG%ET Leukemia:CHP_319_X05-PBMC NA   \n",
       "3 STG%ANSP  Leukemia:CHP_319_X05-PBMC NA   \n",
       "4 %GGNQP    Leukemia:CHP_323_X03-PBMC NA   \n",
       "5 RR%QET    Leukemia:CHP_323_X03-PBMC NA   \n",
       "6 S%AYE     Leukemia:CHP_323_X03-PBMC NA   "
      ]
     },
     "metadata": {},
     "output_type": "display_data"
    }
   ],
   "source": [
    "head(pat_type_long)"
   ]
  },
  {
   "cell_type": "code",
   "execution_count": 239,
   "metadata": {
    "vscode": {
     "languageId": "r"
    }
   },
   "outputs": [],
   "source": [
    "pat_type_long$value <- NA"
   ]
  },
  {
   "cell_type": "code",
   "execution_count": 240,
   "metadata": {
    "vscode": {
     "languageId": "r"
    }
   },
   "outputs": [],
   "source": [
    "for (i in unique(pat_type_long$Sample)) {\n",
    "    mysample <- i\n",
    "\n",
    "    mysample_gliphout <- tmp[tmp$Sample == mysample, ]\n",
    "    mytab <- as.data.frame(table(mysample_gliphout$pattern), stringsAsFactors = FALSE)\n",
    "\n",
    "pat_type_long[pat_type_long$Sample == mysample &\n",
    "match(pat_type_long$gliph, mytab$Var1), \"value\"] <- mytab$Freq\n",
    "\n",
    "    # mygliph_annot <- as.data.frame.matrix(table(mygliphout$pattern, mygliphout$subject))\n",
    "    # mygliph_annot$Sample <- mysample\n",
    "\n",
    "    # pat_type_long[pat_type_long$Sample == mysample &\n",
    "    #     match(pat_type_long$gliph, rownames(mygliph_annot)), colnames(mygliph_annot)[colnames(mygliph_annot) != \"Sample\"]] <- mygliph_annot[, colnames(mygliph_annot) != \"Sample\"]\n",
    "}\n"
   ]
  },
  {
   "cell_type": "code",
   "execution_count": 242,
   "metadata": {
    "vscode": {
     "languageId": "r"
    }
   },
   "outputs": [
    {
     "data": {
      "text/html": [
       "<table class=\"dataframe\">\n",
       "<caption>A tibble: 6 x 3</caption>\n",
       "<thead>\n",
       "\t<tr><th scope=col>gliph</th><th scope=col>Sample</th><th scope=col>value</th></tr>\n",
       "\t<tr><th scope=col>&lt;chr&gt;</th><th scope=col>&lt;chr&gt;</th><th scope=col>&lt;int&gt;</th></tr>\n",
       "</thead>\n",
       "<tbody>\n",
       "\t<tr><td>S%GGAPDT</td><td>T-cellmalignancies:CHP_395_X02-cfDNA</td><td>1</td></tr>\n",
       "\t<tr><td>S%GLRTDT</td><td>T-cellmalignancies:CHP_395_X02-cfDNA</td><td>1</td></tr>\n",
       "\t<tr><td>SIDR%YG </td><td>T-cellmalignancies:CHP_395_X02-cfDNA</td><td>1</td></tr>\n",
       "\t<tr><td>SL%PGNE </td><td>T-cellmalignancies:CHP_395_X02-cfDNA</td><td>1</td></tr>\n",
       "\t<tr><td>SLQGP%YG</td><td>T-cellmalignancies:CHP_395_X02-cfDNA</td><td>2</td></tr>\n",
       "\t<tr><td>SPGL%TDT</td><td>T-cellmalignancies:CHP_395_X02-cfDNA</td><td>1</td></tr>\n",
       "</tbody>\n",
       "</table>\n"
      ],
      "text/latex": [
       "A tibble: 6 x 3\n",
       "\\begin{tabular}{lll}\n",
       " gliph & Sample & value\\\\\n",
       " <chr> & <chr> & <int>\\\\\n",
       "\\hline\n",
       "\t S\\%GGAPDT & T-cellmalignancies:CHP\\_395\\_X02-cfDNA & 1\\\\\n",
       "\t S\\%GLRTDT & T-cellmalignancies:CHP\\_395\\_X02-cfDNA & 1\\\\\n",
       "\t SIDR\\%YG  & T-cellmalignancies:CHP\\_395\\_X02-cfDNA & 1\\\\\n",
       "\t SL\\%PGNE  & T-cellmalignancies:CHP\\_395\\_X02-cfDNA & 1\\\\\n",
       "\t SLQGP\\%YG & T-cellmalignancies:CHP\\_395\\_X02-cfDNA & 2\\\\\n",
       "\t SPGL\\%TDT & T-cellmalignancies:CHP\\_395\\_X02-cfDNA & 1\\\\\n",
       "\\end{tabular}\n"
      ],
      "text/markdown": [
       "\n",
       "A tibble: 6 x 3\n",
       "\n",
       "| gliph &lt;chr&gt; | Sample &lt;chr&gt; | value &lt;int&gt; |\n",
       "|---|---|---|\n",
       "| S%GGAPDT | T-cellmalignancies:CHP_395_X02-cfDNA | 1 |\n",
       "| S%GLRTDT | T-cellmalignancies:CHP_395_X02-cfDNA | 1 |\n",
       "| SIDR%YG  | T-cellmalignancies:CHP_395_X02-cfDNA | 1 |\n",
       "| SL%PGNE  | T-cellmalignancies:CHP_395_X02-cfDNA | 1 |\n",
       "| SLQGP%YG | T-cellmalignancies:CHP_395_X02-cfDNA | 2 |\n",
       "| SPGL%TDT | T-cellmalignancies:CHP_395_X02-cfDNA | 1 |\n",
       "\n"
      ],
      "text/plain": [
       "  gliph    Sample                               value\n",
       "1 S%GGAPDT T-cellmalignancies:CHP_395_X02-cfDNA 1    \n",
       "2 S%GLRTDT T-cellmalignancies:CHP_395_X02-cfDNA 1    \n",
       "3 SIDR%YG  T-cellmalignancies:CHP_395_X02-cfDNA 1    \n",
       "4 SL%PGNE  T-cellmalignancies:CHP_395_X02-cfDNA 1    \n",
       "5 SLQGP%YG T-cellmalignancies:CHP_395_X02-cfDNA 2    \n",
       "6 SPGL%TDT T-cellmalignancies:CHP_395_X02-cfDNA 1    "
      ]
     },
     "metadata": {},
     "output_type": "display_data"
    }
   ],
   "source": [
    "tail(pat_type_long)"
   ]
  },
  {
   "cell_type": "code",
   "execution_count": 243,
   "metadata": {
    "vscode": {
     "languageId": "r"
    }
   },
   "outputs": [
    {
     "data": {
      "text/html": [
       "'T-cellmalignancies:CHP_395_X02-cfDNA'"
      ],
      "text/latex": [
       "'T-cellmalignancies:CHP\\_395\\_X02-cfDNA'"
      ],
      "text/markdown": [
       "'T-cellmalignancies:CHP_395_X02-cfDNA'"
      ],
      "text/plain": [
       "[1] \"T-cellmalignancies:CHP_395_X02-cfDNA\""
      ]
     },
     "metadata": {},
     "output_type": "display_data"
    }
   ],
   "source": [
    "mysample"
   ]
  },
  {
   "cell_type": "code",
   "execution_count": 225,
   "metadata": {
    "vscode": {
     "languageId": "r"
    }
   },
   "outputs": [],
   "source": [
    "mysample_gliphout <- tmp[tmp$Sample == mysample, ]"
   ]
  },
  {
   "cell_type": "code",
   "execution_count": 231,
   "metadata": {
    "vscode": {
     "languageId": "r"
    }
   },
   "outputs": [
    {
     "data": {
      "text/html": [
       "<table class=\"dataframe\">\n",
       "<caption>A data.frame: 3 x 2</caption>\n",
       "<thead>\n",
       "\t<tr><th scope=col>Var1</th><th scope=col>Freq</th></tr>\n",
       "\t<tr><th scope=col>&lt;chr&gt;</th><th scope=col>&lt;int&gt;</th></tr>\n",
       "</thead>\n",
       "<tbody>\n",
       "\t<tr><td>S%QGMNTE </td><td>1</td></tr>\n",
       "\t<tr><td>SLGLAG%ET</td><td>1</td></tr>\n",
       "\t<tr><td>STG%ANSP </td><td>1</td></tr>\n",
       "</tbody>\n",
       "</table>\n"
      ],
      "text/latex": [
       "A data.frame: 3 x 2\n",
       "\\begin{tabular}{ll}\n",
       " Var1 & Freq\\\\\n",
       " <chr> & <int>\\\\\n",
       "\\hline\n",
       "\t S\\%QGMNTE  & 1\\\\\n",
       "\t SLGLAG\\%ET & 1\\\\\n",
       "\t STG\\%ANSP  & 1\\\\\n",
       "\\end{tabular}\n"
      ],
      "text/markdown": [
       "\n",
       "A data.frame: 3 x 2\n",
       "\n",
       "| Var1 &lt;chr&gt; | Freq &lt;int&gt; |\n",
       "|---|---|\n",
       "| S%QGMNTE  | 1 |\n",
       "| SLGLAG%ET | 1 |\n",
       "| STG%ANSP  | 1 |\n",
       "\n"
      ],
      "text/plain": [
       "  Var1      Freq\n",
       "1 S%QGMNTE  1   \n",
       "2 SLGLAG%ET 1   \n",
       "3 STG%ANSP  1   "
      ]
     },
     "metadata": {},
     "output_type": "display_data"
    }
   ],
   "source": [
    "mytab"
   ]
  },
  {
   "cell_type": "code",
   "execution_count": 202,
   "metadata": {
    "vscode": {
     "languageId": "r"
    }
   },
   "outputs": [],
   "source": [
    "mysample <- i\n",
    "\n",
    "\n",
    "mypatterns <- unique(tmp$pattern[tmp$Sample == mysample])"
   ]
  },
  {
   "cell_type": "code",
   "execution_count": 214,
   "metadata": {
    "vscode": {
     "languageId": "r"
    }
   },
   "outputs": [
    {
     "data": {
      "text/html": [
       "<table class=\"dataframe\">\n",
       "<caption>A tibble: 4 x 19</caption>\n",
       "<thead>\n",
       "\t<tr><th scope=col>index</th><th scope=col>pattern</th><th scope=col>Fisher_score</th><th scope=col>number_subject</th><th scope=col>number_unique_cdr3</th><th scope=col>final_score</th><th scope=col>hla_score</th><th scope=col>vb_score</th><th scope=col>expansion_score</th><th scope=col>length_score</th><th scope=col>cluster_size_score</th><th scope=col>type</th><th scope=col>TcRb</th><th scope=col>V</th><th scope=col>J</th><th scope=col>TcRa</th><th scope=col>Sample</th><th scope=col>Freq</th><th scope=col>subject</th></tr>\n",
       "\t<tr><th scope=col>&lt;dbl&gt;</th><th scope=col>&lt;chr&gt;</th><th scope=col>&lt;dbl&gt;</th><th scope=col>&lt;dbl&gt;</th><th scope=col>&lt;dbl&gt;</th><th scope=col>&lt;dbl&gt;</th><th scope=col>&lt;dbl&gt;</th><th scope=col>&lt;dbl&gt;</th><th scope=col>&lt;dbl&gt;</th><th scope=col>&lt;dbl&gt;</th><th scope=col>&lt;dbl&gt;</th><th scope=col>&lt;chr&gt;</th><th scope=col>&lt;chr&gt;</th><th scope=col>&lt;chr&gt;</th><th scope=col>&lt;chr&gt;</th><th scope=col>&lt;lgl&gt;</th><th scope=col>&lt;chr&gt;</th><th scope=col>&lt;dbl&gt;</th><th scope=col>&lt;chr&gt;</th></tr>\n",
       "</thead>\n",
       "<tbody>\n",
       "\t<tr><td>7277</td><td>SLQGP%YG</td><td>0.00031</td><td>3</td><td>3</td><td>3.9e-09</td><td>1</td><td>0.004</td><td>0.16</td><td>0.001</td><td>0.0062</td><td>global-SLQGP%YG</td><td>CASSLQGPNYGYTF</td><td>TRBV28  </td><td>TRBJ1-2</td><td>NA</td><td>Leukemia:CHP_365_X01-PBMC           </td><td>455</td><td>Leukemia          </td></tr>\n",
       "\t<tr><td>7277</td><td>SLQGP%YG</td><td>0.00031</td><td>3</td><td>3</td><td>3.9e-09</td><td>1</td><td>0.004</td><td>0.16</td><td>0.001</td><td>0.0062</td><td>global-SLQGP%YG</td><td>CASSLQGPDYGYTF</td><td>TRBV5-4 </td><td>TRBJ1-2</td><td>NA</td><td>T-cellmalignancies:CHP_395_X02-cfDNA</td><td> 39</td><td>T-cellmalignancies</td></tr>\n",
       "\t<tr><td>7277</td><td>SLQGP%YG</td><td>0.00031</td><td>3</td><td>3</td><td>3.9e-09</td><td>1</td><td>0.004</td><td>0.16</td><td>0.001</td><td>0.0062</td><td>global-SLQGP%YG</td><td>CASSLQGPDYGYTF</td><td>TRBV5-4 </td><td>TRBJ1-2</td><td>NA</td><td>T-cellmalignancies:CHP_395_X02-cfDNA</td><td>  3</td><td>T-cellmalignancies</td></tr>\n",
       "\t<tr><td>7277</td><td>SLQGP%YG</td><td>0.00031</td><td>3</td><td>3</td><td>3.9e-09</td><td>1</td><td>0.004</td><td>0.16</td><td>0.001</td><td>0.0062</td><td>global-SLQGP%YG</td><td>CASSLQGPPYGYTF</td><td>TRBV12-4</td><td>TRBJ1-2</td><td>NA</td><td>Solidtumors:CHP_414_X02-PBMC        </td><td> 54</td><td>Solidtumors       </td></tr>\n",
       "</tbody>\n",
       "</table>\n"
      ],
      "text/latex": [
       "A tibble: 4 x 19\n",
       "\\begin{tabular}{lllllllllllllllllll}\n",
       " index & pattern & Fisher\\_score & number\\_subject & number\\_unique\\_cdr3 & final\\_score & hla\\_score & vb\\_score & expansion\\_score & length\\_score & cluster\\_size\\_score & type & TcRb & V & J & TcRa & Sample & Freq & subject\\\\\n",
       " <dbl> & <chr> & <dbl> & <dbl> & <dbl> & <dbl> & <dbl> & <dbl> & <dbl> & <dbl> & <dbl> & <chr> & <chr> & <chr> & <chr> & <lgl> & <chr> & <dbl> & <chr>\\\\\n",
       "\\hline\n",
       "\t 7277 & SLQGP\\%YG & 0.00031 & 3 & 3 & 3.9e-09 & 1 & 0.004 & 0.16 & 0.001 & 0.0062 & global-SLQGP\\%YG & CASSLQGPNYGYTF & TRBV28   & TRBJ1-2 & NA & Leukemia:CHP\\_365\\_X01-PBMC            & 455 & Leukemia          \\\\\n",
       "\t 7277 & SLQGP\\%YG & 0.00031 & 3 & 3 & 3.9e-09 & 1 & 0.004 & 0.16 & 0.001 & 0.0062 & global-SLQGP\\%YG & CASSLQGPDYGYTF & TRBV5-4  & TRBJ1-2 & NA & T-cellmalignancies:CHP\\_395\\_X02-cfDNA &  39 & T-cellmalignancies\\\\\n",
       "\t 7277 & SLQGP\\%YG & 0.00031 & 3 & 3 & 3.9e-09 & 1 & 0.004 & 0.16 & 0.001 & 0.0062 & global-SLQGP\\%YG & CASSLQGPDYGYTF & TRBV5-4  & TRBJ1-2 & NA & T-cellmalignancies:CHP\\_395\\_X02-cfDNA &   3 & T-cellmalignancies\\\\\n",
       "\t 7277 & SLQGP\\%YG & 0.00031 & 3 & 3 & 3.9e-09 & 1 & 0.004 & 0.16 & 0.001 & 0.0062 & global-SLQGP\\%YG & CASSLQGPPYGYTF & TRBV12-4 & TRBJ1-2 & NA & Solidtumors:CHP\\_414\\_X02-PBMC         &  54 & Solidtumors       \\\\\n",
       "\\end{tabular}\n"
      ],
      "text/markdown": [
       "\n",
       "A tibble: 4 x 19\n",
       "\n",
       "| index &lt;dbl&gt; | pattern &lt;chr&gt; | Fisher_score &lt;dbl&gt; | number_subject &lt;dbl&gt; | number_unique_cdr3 &lt;dbl&gt; | final_score &lt;dbl&gt; | hla_score &lt;dbl&gt; | vb_score &lt;dbl&gt; | expansion_score &lt;dbl&gt; | length_score &lt;dbl&gt; | cluster_size_score &lt;dbl&gt; | type &lt;chr&gt; | TcRb &lt;chr&gt; | V &lt;chr&gt; | J &lt;chr&gt; | TcRa &lt;lgl&gt; | Sample &lt;chr&gt; | Freq &lt;dbl&gt; | subject &lt;chr&gt; |\n",
       "|---|---|---|---|---|---|---|---|---|---|---|---|---|---|---|---|---|---|---|\n",
       "| 7277 | SLQGP%YG | 0.00031 | 3 | 3 | 3.9e-09 | 1 | 0.004 | 0.16 | 0.001 | 0.0062 | global-SLQGP%YG | CASSLQGPNYGYTF | TRBV28   | TRBJ1-2 | NA | Leukemia:CHP_365_X01-PBMC            | 455 | Leukemia           |\n",
       "| 7277 | SLQGP%YG | 0.00031 | 3 | 3 | 3.9e-09 | 1 | 0.004 | 0.16 | 0.001 | 0.0062 | global-SLQGP%YG | CASSLQGPDYGYTF | TRBV5-4  | TRBJ1-2 | NA | T-cellmalignancies:CHP_395_X02-cfDNA |  39 | T-cellmalignancies |\n",
       "| 7277 | SLQGP%YG | 0.00031 | 3 | 3 | 3.9e-09 | 1 | 0.004 | 0.16 | 0.001 | 0.0062 | global-SLQGP%YG | CASSLQGPDYGYTF | TRBV5-4  | TRBJ1-2 | NA | T-cellmalignancies:CHP_395_X02-cfDNA |   3 | T-cellmalignancies |\n",
       "| 7277 | SLQGP%YG | 0.00031 | 3 | 3 | 3.9e-09 | 1 | 0.004 | 0.16 | 0.001 | 0.0062 | global-SLQGP%YG | CASSLQGPPYGYTF | TRBV12-4 | TRBJ1-2 | NA | Solidtumors:CHP_414_X02-PBMC         |  54 | Solidtumors        |\n",
       "\n"
      ],
      "text/plain": [
       "  index pattern  Fisher_score number_subject number_unique_cdr3 final_score\n",
       "1 7277  SLQGP%YG 0.00031      3              3                  3.9e-09    \n",
       "2 7277  SLQGP%YG 0.00031      3              3                  3.9e-09    \n",
       "3 7277  SLQGP%YG 0.00031      3              3                  3.9e-09    \n",
       "4 7277  SLQGP%YG 0.00031      3              3                  3.9e-09    \n",
       "  hla_score vb_score expansion_score length_score cluster_size_score\n",
       "1 1         0.004    0.16            0.001        0.0062            \n",
       "2 1         0.004    0.16            0.001        0.0062            \n",
       "3 1         0.004    0.16            0.001        0.0062            \n",
       "4 1         0.004    0.16            0.001        0.0062            \n",
       "  type            TcRb           V        J       TcRa\n",
       "1 global-SLQGP%YG CASSLQGPNYGYTF TRBV28   TRBJ1-2 NA  \n",
       "2 global-SLQGP%YG CASSLQGPDYGYTF TRBV5-4  TRBJ1-2 NA  \n",
       "3 global-SLQGP%YG CASSLQGPDYGYTF TRBV5-4  TRBJ1-2 NA  \n",
       "4 global-SLQGP%YG CASSLQGPPYGYTF TRBV12-4 TRBJ1-2 NA  \n",
       "  Sample                               Freq subject           \n",
       "1 Leukemia:CHP_365_X01-PBMC            455  Leukemia          \n",
       "2 T-cellmalignancies:CHP_395_X02-cfDNA  39  T-cellmalignancies\n",
       "3 T-cellmalignancies:CHP_395_X02-cfDNA   3  T-cellmalignancies\n",
       "4 Solidtumors:CHP_414_X02-PBMC          54  Solidtumors       "
      ]
     },
     "metadata": {},
     "output_type": "display_data"
    }
   ],
   "source": [
    "tmp[ tmp$pattern == \"SLQGP%YG\",]"
   ]
  },
  {
   "cell_type": "code",
   "execution_count": 207,
   "metadata": {
    "vscode": {
     "languageId": "r"
    }
   },
   "outputs": [
    {
     "data": {
      "text/html": [
       "'SLQGP%YG'"
      ],
      "text/latex": [
       "'SLQGP\\%YG'"
      ],
      "text/markdown": [
       "'SLQGP%YG'"
      ],
      "text/plain": [
       "[1] \"SLQGP%YG\""
      ]
     },
     "metadata": {},
     "output_type": "display_data"
    }
   ],
   "source": [
    "mypattern"
   ]
  },
  {
   "cell_type": "code",
   "execution_count": 213,
   "metadata": {
    "vscode": {
     "languageId": "r"
    }
   },
   "outputs": [
    {
     "data": {
      "text/html": [
       "<table class=\"dataframe\">\n",
       "<caption>A data.frame: 1 x 13</caption>\n",
       "<thead>\n",
       "\t<tr><th></th><th scope=col>gliph</th><th scope=col>CMV</th><th scope=col>EBV</th><th scope=col>HCV</th><th scope=col>Influenza</th><th scope=col>HomoSapiens</th><th scope=col>MDavis</th><th scope=col>HPV</th><th scope=col>CEF</th><th scope=col>TB</th><th scope=col>MCPyV</th><th scope=col>S-pneumoniae</th><th scope=col>n_unique_cdr3</th></tr>\n",
       "\t<tr><th></th><th scope=col>&lt;chr&gt;</th><th scope=col>&lt;dbl&gt;</th><th scope=col>&lt;dbl&gt;</th><th scope=col>&lt;dbl&gt;</th><th scope=col>&lt;dbl&gt;</th><th scope=col>&lt;dbl&gt;</th><th scope=col>&lt;dbl&gt;</th><th scope=col>&lt;dbl&gt;</th><th scope=col>&lt;dbl&gt;</th><th scope=col>&lt;dbl&gt;</th><th scope=col>&lt;dbl&gt;</th><th scope=col>&lt;dbl&gt;</th><th scope=col>&lt;dbl&gt;</th></tr>\n",
       "</thead>\n",
       "<tbody>\n",
       "\t<tr><th scope=row>SLQGP%YG</th><td>SLQGP%YG</td><td>0</td><td>0</td><td>0</td><td>0</td><td>0</td><td>0</td><td>0</td><td>0</td><td>0</td><td>0</td><td>0</td><td>3</td></tr>\n",
       "</tbody>\n",
       "</table>\n"
      ],
      "text/latex": [
       "A data.frame: 1 x 13\n",
       "\\begin{tabular}{r|lllllllllllll}\n",
       "  & gliph & CMV & EBV & HCV & Influenza & HomoSapiens & MDavis & HPV & CEF & TB & MCPyV & S-pneumoniae & n\\_unique\\_cdr3\\\\\n",
       "  & <chr> & <dbl> & <dbl> & <dbl> & <dbl> & <dbl> & <dbl> & <dbl> & <dbl> & <dbl> & <dbl> & <dbl> & <dbl>\\\\\n",
       "\\hline\n",
       "\tSLQGP\\%YG & SLQGP\\%YG & 0 & 0 & 0 & 0 & 0 & 0 & 0 & 0 & 0 & 0 & 0 & 3\\\\\n",
       "\\end{tabular}\n"
      ],
      "text/markdown": [
       "\n",
       "A data.frame: 1 x 13\n",
       "\n",
       "| <!--/--> | gliph &lt;chr&gt; | CMV &lt;dbl&gt; | EBV &lt;dbl&gt; | HCV &lt;dbl&gt; | Influenza &lt;dbl&gt; | HomoSapiens &lt;dbl&gt; | MDavis &lt;dbl&gt; | HPV &lt;dbl&gt; | CEF &lt;dbl&gt; | TB &lt;dbl&gt; | MCPyV &lt;dbl&gt; | S-pneumoniae &lt;dbl&gt; | n_unique_cdr3 &lt;dbl&gt; |\n",
       "|---|---|---|---|---|---|---|---|---|---|---|---|---|---|\n",
       "| SLQGP%YG | SLQGP%YG | 0 | 0 | 0 | 0 | 0 | 0 | 0 | 0 | 0 | 0 | 0 | 3 |\n",
       "\n"
      ],
      "text/plain": [
       "         gliph    CMV EBV HCV Influenza HomoSapiens MDavis HPV CEF TB MCPyV\n",
       "SLQGP%YG SLQGP%YG 0   0   0   0         0           0      0   0   0  0    \n",
       "         S-pneumoniae n_unique_cdr3\n",
       "SLQGP%YG 0            3            "
      ]
     },
     "metadata": {},
     "output_type": "display_data"
    }
   ],
   "source": [
    "gliphdf[ \"SLQGP%YG\",]"
   ]
  },
  {
   "cell_type": "code",
   "execution_count": 211,
   "metadata": {
    "vscode": {
     "languageId": "r"
    }
   },
   "outputs": [],
   "source": [
    "mysample_gliphout <- tmp[tmp$Sample == mysample, ]"
   ]
  },
  {
   "cell_type": "code",
   "execution_count": 212,
   "metadata": {
    "vscode": {
     "languageId": "r"
    }
   },
   "outputs": [
    {
     "data": {
      "text/html": [
       "<table class=\"dataframe\">\n",
       "<caption>A tibble: 10 x 19</caption>\n",
       "<thead>\n",
       "\t<tr><th scope=col>index</th><th scope=col>pattern</th><th scope=col>Fisher_score</th><th scope=col>number_subject</th><th scope=col>number_unique_cdr3</th><th scope=col>final_score</th><th scope=col>hla_score</th><th scope=col>vb_score</th><th scope=col>expansion_score</th><th scope=col>length_score</th><th scope=col>cluster_size_score</th><th scope=col>type</th><th scope=col>TcRb</th><th scope=col>V</th><th scope=col>J</th><th scope=col>TcRa</th><th scope=col>Sample</th><th scope=col>Freq</th><th scope=col>subject</th></tr>\n",
       "\t<tr><th scope=col>&lt;dbl&gt;</th><th scope=col>&lt;chr&gt;</th><th scope=col>&lt;dbl&gt;</th><th scope=col>&lt;dbl&gt;</th><th scope=col>&lt;dbl&gt;</th><th scope=col>&lt;dbl&gt;</th><th scope=col>&lt;dbl&gt;</th><th scope=col>&lt;dbl&gt;</th><th scope=col>&lt;dbl&gt;</th><th scope=col>&lt;dbl&gt;</th><th scope=col>&lt;dbl&gt;</th><th scope=col>&lt;chr&gt;</th><th scope=col>&lt;chr&gt;</th><th scope=col>&lt;chr&gt;</th><th scope=col>&lt;chr&gt;</th><th scope=col>&lt;lgl&gt;</th><th scope=col>&lt;chr&gt;</th><th scope=col>&lt;dbl&gt;</th><th scope=col>&lt;chr&gt;</th></tr>\n",
       "</thead>\n",
       "<tbody>\n",
       "\t<tr><td> 7277</td><td>SLQGP%YG</td><td>0.00031</td><td>3</td><td>3</td><td>3.9e-09</td><td>1</td><td>0.004</td><td>0.160</td><td>0.001</td><td>0.0062</td><td>global-SLQGP%YG</td><td>CASSLQGPDYGYTF</td><td>TRBV5-4 </td><td>TRBJ1-2</td><td>NA</td><td>T-cellmalignancies:CHP_395_X02-cfDNA</td><td>  39</td><td>T-cellmalignancies</td></tr>\n",
       "\t<tr><td> 7277</td><td>SLQGP%YG</td><td>0.00031</td><td>3</td><td>3</td><td>3.9e-09</td><td>1</td><td>0.004</td><td>0.160</td><td>0.001</td><td>0.0062</td><td>global-SLQGP%YG</td><td>CASSLQGPDYGYTF</td><td>TRBV5-4 </td><td>TRBJ1-2</td><td>NA</td><td>T-cellmalignancies:CHP_395_X02-cfDNA</td><td>   3</td><td>T-cellmalignancies</td></tr>\n",
       "\t<tr><td> 8185</td><td>SIDR%YG </td><td>0.00052</td><td>3</td><td>3</td><td>9.4e-10</td><td>1</td><td>0.004</td><td>0.038</td><td>0.001</td><td>0.0062</td><td>global-SIDR%YG </td><td>CASSIDREYGYTF </td><td>TRBV19  </td><td>TRBJ1-2</td><td>NA</td><td>T-cellmalignancies:CHP_395_X02-cfDNA</td><td>   1</td><td>T-cellmalignancies</td></tr>\n",
       "\t<tr><td> 9383</td><td>S%GGAPDT</td><td>0.00090</td><td>4</td><td>3</td><td>9.7e-10</td><td>1</td><td>0.001</td><td>0.160</td><td>0.001</td><td>0.0062</td><td>global-S%GGAPDT</td><td>CASSFGGAPDTQYF</td><td>TRBV5-1 </td><td>TRBJ2-3</td><td>NA</td><td>T-cellmalignancies:CHP_395_X02-cfDNA</td><td>  67</td><td>T-cellmalignancies</td></tr>\n",
       "\t<tr><td>11454</td><td>R%AGGTDT</td><td>0.00180</td><td>2</td><td>4</td><td>1.7e-09</td><td>1</td><td>0.028</td><td>0.026</td><td>0.001</td><td>0.0023</td><td>global-R%AGGTDT</td><td>CASRWAGGTDTQYF</td><td>TRBV6-2 </td><td>TRBJ2-3</td><td>NA</td><td>T-cellmalignancies:CHP_395_X02-cfDNA</td><td>2033</td><td>T-cellmalignancies</td></tr>\n",
       "\t<tr><td>11677</td><td>S%GLRTDT</td><td>0.00210</td><td>2</td><td>3</td><td>4.4e-08</td><td>1</td><td>0.091</td><td>0.078</td><td>0.001</td><td>0.0062</td><td>global-S%GLRTDT</td><td>CAISPGLRTDTQYF</td><td>TRBV10-3</td><td>TRBJ2-3</td><td>NA</td><td>T-cellmalignancies:CHP_395_X02-cfDNA</td><td> 705</td><td>T-cellmalignancies</td></tr>\n",
       "\t<tr><td>13830</td><td>R%RGLNTE</td><td>0.00400</td><td>4</td><td>3</td><td>6.2e-12</td><td>1</td><td>0.001</td><td>0.001</td><td>0.001</td><td>0.0062</td><td>global-R%RGLNTE</td><td>CSARDRGLNTEAFF</td><td>TRBV20-1</td><td>TRBJ1-1</td><td>NA</td><td>T-cellmalignancies:CHP_395_X02-cfDNA</td><td>1939</td><td>T-cellmalignancies</td></tr>\n",
       "\t<tr><td>15294</td><td>SL%PGNE </td><td>0.00550</td><td>3</td><td>3</td><td>2.1e-07</td><td>1</td><td>0.040</td><td>0.840</td><td>0.001</td><td>0.0062</td><td>global-SL%PGNE </td><td>CASSLRPGNEQFF </td><td>TRBV7-9 </td><td>TRBJ2-1</td><td>NA</td><td>T-cellmalignancies:CHP_395_X02-cfDNA</td><td>  17</td><td>T-cellmalignancies</td></tr>\n",
       "\t<tr><td>15903</td><td>%DRGLNTE</td><td>0.00630</td><td>4</td><td>3</td><td>6.2e-12</td><td>1</td><td>0.001</td><td>0.001</td><td>0.001</td><td>0.0062</td><td>global-%DRGLNTE</td><td>CSARDRGLNTEAFF</td><td>TRBV20-1</td><td>TRBJ1-1</td><td>NA</td><td>T-cellmalignancies:CHP_395_X02-cfDNA</td><td>1939</td><td>T-cellmalignancies</td></tr>\n",
       "\t<tr><td>16862</td><td>SPGL%TDT</td><td>0.00790</td><td>3</td><td>3</td><td>1.6e-07</td><td>1</td><td>0.190</td><td>0.130</td><td>0.001</td><td>0.0062</td><td>global-SPGL%TDT</td><td>CAISPGLRTDTQYF</td><td>TRBV10-3</td><td>TRBJ2-3</td><td>NA</td><td>T-cellmalignancies:CHP_395_X02-cfDNA</td><td> 705</td><td>T-cellmalignancies</td></tr>\n",
       "</tbody>\n",
       "</table>\n"
      ],
      "text/latex": [
       "A tibble: 10 x 19\n",
       "\\begin{tabular}{lllllllllllllllllll}\n",
       " index & pattern & Fisher\\_score & number\\_subject & number\\_unique\\_cdr3 & final\\_score & hla\\_score & vb\\_score & expansion\\_score & length\\_score & cluster\\_size\\_score & type & TcRb & V & J & TcRa & Sample & Freq & subject\\\\\n",
       " <dbl> & <chr> & <dbl> & <dbl> & <dbl> & <dbl> & <dbl> & <dbl> & <dbl> & <dbl> & <dbl> & <chr> & <chr> & <chr> & <chr> & <lgl> & <chr> & <dbl> & <chr>\\\\\n",
       "\\hline\n",
       "\t  7277 & SLQGP\\%YG & 0.00031 & 3 & 3 & 3.9e-09 & 1 & 0.004 & 0.160 & 0.001 & 0.0062 & global-SLQGP\\%YG & CASSLQGPDYGYTF & TRBV5-4  & TRBJ1-2 & NA & T-cellmalignancies:CHP\\_395\\_X02-cfDNA &   39 & T-cellmalignancies\\\\\n",
       "\t  7277 & SLQGP\\%YG & 0.00031 & 3 & 3 & 3.9e-09 & 1 & 0.004 & 0.160 & 0.001 & 0.0062 & global-SLQGP\\%YG & CASSLQGPDYGYTF & TRBV5-4  & TRBJ1-2 & NA & T-cellmalignancies:CHP\\_395\\_X02-cfDNA &    3 & T-cellmalignancies\\\\\n",
       "\t  8185 & SIDR\\%YG  & 0.00052 & 3 & 3 & 9.4e-10 & 1 & 0.004 & 0.038 & 0.001 & 0.0062 & global-SIDR\\%YG  & CASSIDREYGYTF  & TRBV19   & TRBJ1-2 & NA & T-cellmalignancies:CHP\\_395\\_X02-cfDNA &    1 & T-cellmalignancies\\\\\n",
       "\t  9383 & S\\%GGAPDT & 0.00090 & 4 & 3 & 9.7e-10 & 1 & 0.001 & 0.160 & 0.001 & 0.0062 & global-S\\%GGAPDT & CASSFGGAPDTQYF & TRBV5-1  & TRBJ2-3 & NA & T-cellmalignancies:CHP\\_395\\_X02-cfDNA &   67 & T-cellmalignancies\\\\\n",
       "\t 11454 & R\\%AGGTDT & 0.00180 & 2 & 4 & 1.7e-09 & 1 & 0.028 & 0.026 & 0.001 & 0.0023 & global-R\\%AGGTDT & CASRWAGGTDTQYF & TRBV6-2  & TRBJ2-3 & NA & T-cellmalignancies:CHP\\_395\\_X02-cfDNA & 2033 & T-cellmalignancies\\\\\n",
       "\t 11677 & S\\%GLRTDT & 0.00210 & 2 & 3 & 4.4e-08 & 1 & 0.091 & 0.078 & 0.001 & 0.0062 & global-S\\%GLRTDT & CAISPGLRTDTQYF & TRBV10-3 & TRBJ2-3 & NA & T-cellmalignancies:CHP\\_395\\_X02-cfDNA &  705 & T-cellmalignancies\\\\\n",
       "\t 13830 & R\\%RGLNTE & 0.00400 & 4 & 3 & 6.2e-12 & 1 & 0.001 & 0.001 & 0.001 & 0.0062 & global-R\\%RGLNTE & CSARDRGLNTEAFF & TRBV20-1 & TRBJ1-1 & NA & T-cellmalignancies:CHP\\_395\\_X02-cfDNA & 1939 & T-cellmalignancies\\\\\n",
       "\t 15294 & SL\\%PGNE  & 0.00550 & 3 & 3 & 2.1e-07 & 1 & 0.040 & 0.840 & 0.001 & 0.0062 & global-SL\\%PGNE  & CASSLRPGNEQFF  & TRBV7-9  & TRBJ2-1 & NA & T-cellmalignancies:CHP\\_395\\_X02-cfDNA &   17 & T-cellmalignancies\\\\\n",
       "\t 15903 & \\%DRGLNTE & 0.00630 & 4 & 3 & 6.2e-12 & 1 & 0.001 & 0.001 & 0.001 & 0.0062 & global-\\%DRGLNTE & CSARDRGLNTEAFF & TRBV20-1 & TRBJ1-1 & NA & T-cellmalignancies:CHP\\_395\\_X02-cfDNA & 1939 & T-cellmalignancies\\\\\n",
       "\t 16862 & SPGL\\%TDT & 0.00790 & 3 & 3 & 1.6e-07 & 1 & 0.190 & 0.130 & 0.001 & 0.0062 & global-SPGL\\%TDT & CAISPGLRTDTQYF & TRBV10-3 & TRBJ2-3 & NA & T-cellmalignancies:CHP\\_395\\_X02-cfDNA &  705 & T-cellmalignancies\\\\\n",
       "\\end{tabular}\n"
      ],
      "text/markdown": [
       "\n",
       "A tibble: 10 x 19\n",
       "\n",
       "| index &lt;dbl&gt; | pattern &lt;chr&gt; | Fisher_score &lt;dbl&gt; | number_subject &lt;dbl&gt; | number_unique_cdr3 &lt;dbl&gt; | final_score &lt;dbl&gt; | hla_score &lt;dbl&gt; | vb_score &lt;dbl&gt; | expansion_score &lt;dbl&gt; | length_score &lt;dbl&gt; | cluster_size_score &lt;dbl&gt; | type &lt;chr&gt; | TcRb &lt;chr&gt; | V &lt;chr&gt; | J &lt;chr&gt; | TcRa &lt;lgl&gt; | Sample &lt;chr&gt; | Freq &lt;dbl&gt; | subject &lt;chr&gt; |\n",
       "|---|---|---|---|---|---|---|---|---|---|---|---|---|---|---|---|---|---|---|\n",
       "|  7277 | SLQGP%YG | 0.00031 | 3 | 3 | 3.9e-09 | 1 | 0.004 | 0.160 | 0.001 | 0.0062 | global-SLQGP%YG | CASSLQGPDYGYTF | TRBV5-4  | TRBJ1-2 | NA | T-cellmalignancies:CHP_395_X02-cfDNA |   39 | T-cellmalignancies |\n",
       "|  7277 | SLQGP%YG | 0.00031 | 3 | 3 | 3.9e-09 | 1 | 0.004 | 0.160 | 0.001 | 0.0062 | global-SLQGP%YG | CASSLQGPDYGYTF | TRBV5-4  | TRBJ1-2 | NA | T-cellmalignancies:CHP_395_X02-cfDNA |    3 | T-cellmalignancies |\n",
       "|  8185 | SIDR%YG  | 0.00052 | 3 | 3 | 9.4e-10 | 1 | 0.004 | 0.038 | 0.001 | 0.0062 | global-SIDR%YG  | CASSIDREYGYTF  | TRBV19   | TRBJ1-2 | NA | T-cellmalignancies:CHP_395_X02-cfDNA |    1 | T-cellmalignancies |\n",
       "|  9383 | S%GGAPDT | 0.00090 | 4 | 3 | 9.7e-10 | 1 | 0.001 | 0.160 | 0.001 | 0.0062 | global-S%GGAPDT | CASSFGGAPDTQYF | TRBV5-1  | TRBJ2-3 | NA | T-cellmalignancies:CHP_395_X02-cfDNA |   67 | T-cellmalignancies |\n",
       "| 11454 | R%AGGTDT | 0.00180 | 2 | 4 | 1.7e-09 | 1 | 0.028 | 0.026 | 0.001 | 0.0023 | global-R%AGGTDT | CASRWAGGTDTQYF | TRBV6-2  | TRBJ2-3 | NA | T-cellmalignancies:CHP_395_X02-cfDNA | 2033 | T-cellmalignancies |\n",
       "| 11677 | S%GLRTDT | 0.00210 | 2 | 3 | 4.4e-08 | 1 | 0.091 | 0.078 | 0.001 | 0.0062 | global-S%GLRTDT | CAISPGLRTDTQYF | TRBV10-3 | TRBJ2-3 | NA | T-cellmalignancies:CHP_395_X02-cfDNA |  705 | T-cellmalignancies |\n",
       "| 13830 | R%RGLNTE | 0.00400 | 4 | 3 | 6.2e-12 | 1 | 0.001 | 0.001 | 0.001 | 0.0062 | global-R%RGLNTE | CSARDRGLNTEAFF | TRBV20-1 | TRBJ1-1 | NA | T-cellmalignancies:CHP_395_X02-cfDNA | 1939 | T-cellmalignancies |\n",
       "| 15294 | SL%PGNE  | 0.00550 | 3 | 3 | 2.1e-07 | 1 | 0.040 | 0.840 | 0.001 | 0.0062 | global-SL%PGNE  | CASSLRPGNEQFF  | TRBV7-9  | TRBJ2-1 | NA | T-cellmalignancies:CHP_395_X02-cfDNA |   17 | T-cellmalignancies |\n",
       "| 15903 | %DRGLNTE | 0.00630 | 4 | 3 | 6.2e-12 | 1 | 0.001 | 0.001 | 0.001 | 0.0062 | global-%DRGLNTE | CSARDRGLNTEAFF | TRBV20-1 | TRBJ1-1 | NA | T-cellmalignancies:CHP_395_X02-cfDNA | 1939 | T-cellmalignancies |\n",
       "| 16862 | SPGL%TDT | 0.00790 | 3 | 3 | 1.6e-07 | 1 | 0.190 | 0.130 | 0.001 | 0.0062 | global-SPGL%TDT | CAISPGLRTDTQYF | TRBV10-3 | TRBJ2-3 | NA | T-cellmalignancies:CHP_395_X02-cfDNA |  705 | T-cellmalignancies |\n",
       "\n"
      ],
      "text/plain": [
       "   index pattern  Fisher_score number_subject number_unique_cdr3 final_score\n",
       "1   7277 SLQGP%YG 0.00031      3              3                  3.9e-09    \n",
       "2   7277 SLQGP%YG 0.00031      3              3                  3.9e-09    \n",
       "3   8185 SIDR%YG  0.00052      3              3                  9.4e-10    \n",
       "4   9383 S%GGAPDT 0.00090      4              3                  9.7e-10    \n",
       "5  11454 R%AGGTDT 0.00180      2              4                  1.7e-09    \n",
       "6  11677 S%GLRTDT 0.00210      2              3                  4.4e-08    \n",
       "7  13830 R%RGLNTE 0.00400      4              3                  6.2e-12    \n",
       "8  15294 SL%PGNE  0.00550      3              3                  2.1e-07    \n",
       "9  15903 %DRGLNTE 0.00630      4              3                  6.2e-12    \n",
       "10 16862 SPGL%TDT 0.00790      3              3                  1.6e-07    \n",
       "   hla_score vb_score expansion_score length_score cluster_size_score\n",
       "1  1         0.004    0.160           0.001        0.0062            \n",
       "2  1         0.004    0.160           0.001        0.0062            \n",
       "3  1         0.004    0.038           0.001        0.0062            \n",
       "4  1         0.001    0.160           0.001        0.0062            \n",
       "5  1         0.028    0.026           0.001        0.0023            \n",
       "6  1         0.091    0.078           0.001        0.0062            \n",
       "7  1         0.001    0.001           0.001        0.0062            \n",
       "8  1         0.040    0.840           0.001        0.0062            \n",
       "9  1         0.001    0.001           0.001        0.0062            \n",
       "10 1         0.190    0.130           0.001        0.0062            \n",
       "   type            TcRb           V        J       TcRa\n",
       "1  global-SLQGP%YG CASSLQGPDYGYTF TRBV5-4  TRBJ1-2 NA  \n",
       "2  global-SLQGP%YG CASSLQGPDYGYTF TRBV5-4  TRBJ1-2 NA  \n",
       "3  global-SIDR%YG  CASSIDREYGYTF  TRBV19   TRBJ1-2 NA  \n",
       "4  global-S%GGAPDT CASSFGGAPDTQYF TRBV5-1  TRBJ2-3 NA  \n",
       "5  global-R%AGGTDT CASRWAGGTDTQYF TRBV6-2  TRBJ2-3 NA  \n",
       "6  global-S%GLRTDT CAISPGLRTDTQYF TRBV10-3 TRBJ2-3 NA  \n",
       "7  global-R%RGLNTE CSARDRGLNTEAFF TRBV20-1 TRBJ1-1 NA  \n",
       "8  global-SL%PGNE  CASSLRPGNEQFF  TRBV7-9  TRBJ2-1 NA  \n",
       "9  global-%DRGLNTE CSARDRGLNTEAFF TRBV20-1 TRBJ1-1 NA  \n",
       "10 global-SPGL%TDT CAISPGLRTDTQYF TRBV10-3 TRBJ2-3 NA  \n",
       "   Sample                               Freq subject           \n",
       "1  T-cellmalignancies:CHP_395_X02-cfDNA   39 T-cellmalignancies\n",
       "2  T-cellmalignancies:CHP_395_X02-cfDNA    3 T-cellmalignancies\n",
       "3  T-cellmalignancies:CHP_395_X02-cfDNA    1 T-cellmalignancies\n",
       "4  T-cellmalignancies:CHP_395_X02-cfDNA   67 T-cellmalignancies\n",
       "5  T-cellmalignancies:CHP_395_X02-cfDNA 2033 T-cellmalignancies\n",
       "6  T-cellmalignancies:CHP_395_X02-cfDNA  705 T-cellmalignancies\n",
       "7  T-cellmalignancies:CHP_395_X02-cfDNA 1939 T-cellmalignancies\n",
       "8  T-cellmalignancies:CHP_395_X02-cfDNA   17 T-cellmalignancies\n",
       "9  T-cellmalignancies:CHP_395_X02-cfDNA 1939 T-cellmalignancies\n",
       "10 T-cellmalignancies:CHP_395_X02-cfDNA  705 T-cellmalignancies"
      ]
     },
     "metadata": {},
     "output_type": "display_data"
    }
   ],
   "source": [
    "mysample_gliphout"
   ]
  },
  {
   "cell_type": "code",
   "execution_count": null,
   "metadata": {
    "vscode": {
     "languageId": "r"
    }
   },
   "outputs": [],
   "source": []
  },
  {
   "cell_type": "code",
   "execution_count": null,
   "metadata": {
    "vscode": {
     "languageId": "r"
    }
   },
   "outputs": [],
   "source": []
  },
  {
   "cell_type": "code",
   "execution_count": 198,
   "metadata": {
    "vscode": {
     "languageId": "r"
    }
   },
   "outputs": [],
   "source": [
    "for (i in unique(pat_type_long$Sample)) {\n",
    "    mysample <- i\n",
    "    mypatterns <- unique(tmp$pattern[tmp$Sample == mysample])\n",
    "    mysample_gliphout <- tmp[tmp$Sample == mysample, ]\n",
    "\n",
    "    mygliph_annot <- as.data.frame.matrix(table(mygliphout$pattern, mygliphout$subject))\n",
    "    mygliph_annot$Sample <- mysample\n",
    "\n",
    "    pat_type_long[pat_type_long$Sample == mysample &\n",
    "        match(pat_type_long$gliph, rownames(mygliph_annot)), colnames(mygliph_annot)[colnames(mygliph_annot) != \"Sample\"]] <- mygliph_annot[, colnames(mygliph_annot) != \"Sample\"]\n",
    "}\n"
   ]
  },
  {
   "cell_type": "code",
   "execution_count": 200,
   "metadata": {
    "vscode": {
     "languageId": "r"
    }
   },
   "outputs": [
    {
     "data": {
      "text/html": [
       "'T-cellmalignancies:CHP_395_X02-cfDNA'"
      ],
      "text/latex": [
       "'T-cellmalignancies:CHP\\_395\\_X02-cfDNA'"
      ],
      "text/markdown": [
       "'T-cellmalignancies:CHP_395_X02-cfDNA'"
      ],
      "text/plain": [
       "[1] \"T-cellmalignancies:CHP_395_X02-cfDNA\""
      ]
     },
     "metadata": {},
     "output_type": "display_data"
    }
   ],
   "source": [
    "i"
   ]
  },
  {
   "cell_type": "code",
   "execution_count": 201,
   "metadata": {
    "vscode": {
     "languageId": "r"
    }
   },
   "outputs": [
    {
     "data": {
      "text/html": [
       "<table class=\"dataframe\">\n",
       "<caption>A tibble: 49 x 19</caption>\n",
       "<thead>\n",
       "\t<tr><th scope=col>index</th><th scope=col>pattern</th><th scope=col>Fisher_score</th><th scope=col>number_subject</th><th scope=col>number_unique_cdr3</th><th scope=col>final_score</th><th scope=col>hla_score</th><th scope=col>vb_score</th><th scope=col>expansion_score</th><th scope=col>length_score</th><th scope=col>cluster_size_score</th><th scope=col>type</th><th scope=col>TcRb</th><th scope=col>V</th><th scope=col>J</th><th scope=col>TcRa</th><th scope=col>Sample</th><th scope=col>Freq</th><th scope=col>subject</th></tr>\n",
       "\t<tr><th scope=col>&lt;dbl&gt;</th><th scope=col>&lt;chr&gt;</th><th scope=col>&lt;dbl&gt;</th><th scope=col>&lt;dbl&gt;</th><th scope=col>&lt;dbl&gt;</th><th scope=col>&lt;dbl&gt;</th><th scope=col>&lt;dbl&gt;</th><th scope=col>&lt;dbl&gt;</th><th scope=col>&lt;dbl&gt;</th><th scope=col>&lt;dbl&gt;</th><th scope=col>&lt;dbl&gt;</th><th scope=col>&lt;chr&gt;</th><th scope=col>&lt;chr&gt;</th><th scope=col>&lt;chr&gt;</th><th scope=col>&lt;chr&gt;</th><th scope=col>&lt;lgl&gt;</th><th scope=col>&lt;chr&gt;</th><th scope=col>&lt;dbl&gt;</th><th scope=col>&lt;chr&gt;</th></tr>\n",
       "</thead>\n",
       "<tbody>\n",
       "\t<tr><td> 7277</td><td>SLQGP%YG</td><td>0.00031</td><td>3</td><td>3</td><td>3.9e-09</td><td>1</td><td>0.004</td><td>0.160</td><td>0.001</td><td>0.0062</td><td>global-SLQGP%YG</td><td>CASSLQGPNYGYTF</td><td>TRBV28  </td><td>TRBJ1-2</td><td>NA</td><td>Leukemia:CHP_365_X01-PBMC                             </td><td>  455</td><td>Leukemia          </td></tr>\n",
       "\t<tr><td> 7277</td><td>SLQGP%YG</td><td>0.00031</td><td>3</td><td>3</td><td>3.9e-09</td><td>1</td><td>0.004</td><td>0.160</td><td>0.001</td><td>0.0062</td><td>global-SLQGP%YG</td><td>CASSLQGPDYGYTF</td><td>TRBV5-4 </td><td>TRBJ1-2</td><td>NA</td><td>T-cellmalignancies:CHP_395_X02-cfDNA                  </td><td>   39</td><td>T-cellmalignancies</td></tr>\n",
       "\t<tr><td> 7277</td><td>SLQGP%YG</td><td>0.00031</td><td>3</td><td>3</td><td>3.9e-09</td><td>1</td><td>0.004</td><td>0.160</td><td>0.001</td><td>0.0062</td><td>global-SLQGP%YG</td><td>CASSLQGPDYGYTF</td><td>TRBV5-4 </td><td>TRBJ1-2</td><td>NA</td><td>T-cellmalignancies:CHP_395_X02-cfDNA                  </td><td>    3</td><td>T-cellmalignancies</td></tr>\n",
       "\t<tr><td> 7277</td><td>SLQGP%YG</td><td>0.00031</td><td>3</td><td>3</td><td>3.9e-09</td><td>1</td><td>0.004</td><td>0.160</td><td>0.001</td><td>0.0062</td><td>global-SLQGP%YG</td><td>CASSLQGPPYGYTF</td><td>TRBV12-4</td><td>TRBJ1-2</td><td>NA</td><td>Solidtumors:CHP_414_X02-PBMC                          </td><td>   54</td><td>Solidtumors       </td></tr>\n",
       "\t<tr><td> 8185</td><td>SIDR%YG </td><td>0.00052</td><td>3</td><td>3</td><td>9.4e-10</td><td>1</td><td>0.004</td><td>0.038</td><td>0.001</td><td>0.0062</td><td>global-SIDR%YG </td><td>CASSIDRNYGYTF </td><td>TRBV19  </td><td>TRBJ1-2</td><td>NA</td><td>Solidtumors:CHP_401_X03-PBMC                          </td><td>    7</td><td>Solidtumors       </td></tr>\n",
       "\t<tr><td> 8185</td><td>SIDR%YG </td><td>0.00052</td><td>3</td><td>3</td><td>9.4e-10</td><td>1</td><td>0.004</td><td>0.038</td><td>0.001</td><td>0.0062</td><td>global-SIDR%YG </td><td>CASSIDREYGYTF </td><td>TRBV19  </td><td>TRBJ1-2</td><td>NA</td><td>Leukemia:CHP_411_X01-cfDNA                            </td><td> 1356</td><td>Leukemia          </td></tr>\n",
       "\t<tr><td> 8185</td><td>SIDR%YG </td><td>0.00052</td><td>3</td><td>3</td><td>9.4e-10</td><td>1</td><td>0.004</td><td>0.038</td><td>0.001</td><td>0.0062</td><td>global-SIDR%YG </td><td>CASSIDREYGYTF </td><td>TRBV19  </td><td>TRBJ1-2</td><td>NA</td><td>T-cellmalignancies:CHP_395_X02-cfDNA                  </td><td>    1</td><td>T-cellmalignancies</td></tr>\n",
       "\t<tr><td> 8185</td><td>SIDR%YG </td><td>0.00052</td><td>3</td><td>3</td><td>9.4e-10</td><td>1</td><td>0.004</td><td>0.038</td><td>0.001</td><td>0.0062</td><td>global-SIDR%YG </td><td>CASSIDRHYGYTF </td><td>TRBV2   </td><td>TRBJ1-2</td><td>NA</td><td>Leukemia:CHP_345_X04-PBMC                             </td><td>   14</td><td>Leukemia          </td></tr>\n",
       "\t<tr><td> 9383</td><td>S%GGAPDT</td><td>0.00090</td><td>4</td><td>3</td><td>9.7e-10</td><td>1</td><td>0.001</td><td>0.160</td><td>0.001</td><td>0.0062</td><td>global-S%GGAPDT</td><td>CASSVGGAPDTQYF</td><td>TRBV9   </td><td>TRBJ2-3</td><td>NA</td><td>T-cellmalignancies:CHP_375_X02-PBMC                   </td><td>   10</td><td>T-cellmalignancies</td></tr>\n",
       "\t<tr><td> 9383</td><td>S%GGAPDT</td><td>0.00090</td><td>4</td><td>3</td><td>9.7e-10</td><td>1</td><td>0.001</td><td>0.160</td><td>0.001</td><td>0.0062</td><td>global-S%GGAPDT</td><td>CASSFGGAPDTQYF</td><td>TRBV5-1 </td><td>TRBJ2-3</td><td>NA</td><td>Leukemia:CHP_367_X04-cfDNA                            </td><td>  135</td><td>Leukemia          </td></tr>\n",
       "\t<tr><td> 9383</td><td>S%GGAPDT</td><td>0.00090</td><td>4</td><td>3</td><td>9.7e-10</td><td>1</td><td>0.001</td><td>0.160</td><td>0.001</td><td>0.0062</td><td>global-S%GGAPDT</td><td>CASSFGGAPDTQYF</td><td>TRBV5-1 </td><td>TRBJ2-3</td><td>NA</td><td>Leukemia:CHP_405_X03-PBMC                             </td><td>  103</td><td>Leukemia          </td></tr>\n",
       "\t<tr><td> 9383</td><td>S%GGAPDT</td><td>0.00090</td><td>4</td><td>3</td><td>9.7e-10</td><td>1</td><td>0.001</td><td>0.160</td><td>0.001</td><td>0.0062</td><td>global-S%GGAPDT</td><td>CASSFGGAPDTQYF</td><td>TRBV5-1 </td><td>TRBJ2-3</td><td>NA</td><td>Solidtumors:CHP_390_X02-cfDNA                         </td><td>  633</td><td>Solidtumors       </td></tr>\n",
       "\t<tr><td> 9383</td><td>S%GGAPDT</td><td>0.00090</td><td>4</td><td>3</td><td>9.7e-10</td><td>1</td><td>0.001</td><td>0.160</td><td>0.001</td><td>0.0062</td><td>global-S%GGAPDT</td><td>CASSFGGAPDTQYF</td><td>TRBV5-1 </td><td>TRBJ2-3</td><td>NA</td><td>Leukemia:CHP_411_X02-cfDNA                            </td><td>   39</td><td>Leukemia          </td></tr>\n",
       "\t<tr><td> 9383</td><td>S%GGAPDT</td><td>0.00090</td><td>4</td><td>3</td><td>9.7e-10</td><td>1</td><td>0.001</td><td>0.160</td><td>0.001</td><td>0.0062</td><td>global-S%GGAPDT</td><td>CASSFGGAPDTQYF</td><td>TRBV5-1 </td><td>TRBJ2-3</td><td>NA</td><td>T-cellmalignancies:CHP_395_X02-cfDNA                  </td><td>   67</td><td>T-cellmalignancies</td></tr>\n",
       "\t<tr><td> 9383</td><td>S%GGAPDT</td><td>0.00090</td><td>4</td><td>3</td><td>9.7e-10</td><td>1</td><td>0.001</td><td>0.160</td><td>0.001</td><td>0.0062</td><td>global-S%GGAPDT</td><td>CASSLGGAPDTQYF</td><td>TRBV11_3</td><td>NA     </td><td>NA</td><td>MDavis:C0701                                          </td><td>    1</td><td>MDavis            </td></tr>\n",
       "\t<tr><td>11454</td><td>R%AGGTDT</td><td>0.00180</td><td>2</td><td>4</td><td>1.7e-09</td><td>1</td><td>0.028</td><td>0.026</td><td>0.001</td><td>0.0023</td><td>global-R%AGGTDT</td><td>CASRGAGGTDTQYF</td><td>TRBV24-1</td><td>TRBJ2-3</td><td>NA</td><td>Leukemia:CHP_367_X02-PBMC                             </td><td>   41</td><td>Leukemia          </td></tr>\n",
       "\t<tr><td>11454</td><td>R%AGGTDT</td><td>0.00180</td><td>2</td><td>4</td><td>1.7e-09</td><td>1</td><td>0.028</td><td>0.026</td><td>0.001</td><td>0.0023</td><td>global-R%AGGTDT</td><td>CSARGAGGTDTQYF</td><td>TRBV20-1</td><td>TRBJ2-3</td><td>NA</td><td>Leukemia:CHP_396_X02-PBMC                             </td><td>    2</td><td>Leukemia          </td></tr>\n",
       "\t<tr><td>11454</td><td>R%AGGTDT</td><td>0.00180</td><td>2</td><td>4</td><td>1.7e-09</td><td>1</td><td>0.028</td><td>0.026</td><td>0.001</td><td>0.0023</td><td>global-R%AGGTDT</td><td>CASRWAGGTDTQYF</td><td>TRBV6-2 </td><td>TRBJ2-3</td><td>NA</td><td>Leukemia:CHP_411_X01-cfDNA                            </td><td>    1</td><td>Leukemia          </td></tr>\n",
       "\t<tr><td>11454</td><td>R%AGGTDT</td><td>0.00180</td><td>2</td><td>4</td><td>1.7e-09</td><td>1</td><td>0.028</td><td>0.026</td><td>0.001</td><td>0.0023</td><td>global-R%AGGTDT</td><td>CASRWAGGTDTQYF</td><td>TRBV6-2 </td><td>TRBJ2-3</td><td>NA</td><td>T-cellmalignancies:CHP_395_X02-cfDNA                  </td><td> 2033</td><td>T-cellmalignancies</td></tr>\n",
       "\t<tr><td>11454</td><td>R%AGGTDT</td><td>0.00180</td><td>2</td><td>4</td><td>1.7e-09</td><td>1</td><td>0.028</td><td>0.026</td><td>0.001</td><td>0.0023</td><td>global-R%AGGTDT</td><td>CASRLAGGTDTQYF</td><td>TRBV5-4 </td><td>TRBJ2-3</td><td>NA</td><td>Leukemia:CHP_328_X05-PBMC                             </td><td>  259</td><td>Leukemia          </td></tr>\n",
       "\t<tr><td>11677</td><td>S%GLRTDT</td><td>0.00210</td><td>2</td><td>3</td><td>4.4e-08</td><td>1</td><td>0.091</td><td>0.078</td><td>0.001</td><td>0.0062</td><td>global-S%GLRTDT</td><td>CASSYGLRTDTQYF</td><td>TRBV6_8 </td><td>NA     </td><td>NA</td><td>MDavis:DQA10501                                       </td><td>    1</td><td>MDavis            </td></tr>\n",
       "\t<tr><td>11677</td><td>S%GLRTDT</td><td>0.00210</td><td>2</td><td>3</td><td>4.4e-08</td><td>1</td><td>0.091</td><td>0.078</td><td>0.001</td><td>0.0062</td><td>global-S%GLRTDT</td><td>CAISPGLRTDTQYF</td><td>TRBV10-3</td><td>TRBJ2-3</td><td>NA</td><td>T-cellmalignancies:CHP_395_X02-cfDNA                  </td><td>  705</td><td>T-cellmalignancies</td></tr>\n",
       "\t<tr><td>11677</td><td>S%GLRTDT</td><td>0.00210</td><td>2</td><td>3</td><td>4.4e-08</td><td>1</td><td>0.091</td><td>0.078</td><td>0.001</td><td>0.0062</td><td>global-S%GLRTDT</td><td>CASSAGLRTDTQYF</td><td>TRBV9_1 </td><td>NA     </td><td>NA</td><td>MDavis:A1101_B4402_B5101_DQA10103_DRB11301            </td><td>    1</td><td>MDavis            </td></tr>\n",
       "\t<tr><td>13830</td><td>R%RGLNTE</td><td>0.00400</td><td>4</td><td>3</td><td>6.2e-12</td><td>1</td><td>0.001</td><td>0.001</td><td>0.001</td><td>0.0062</td><td>global-R%RGLNTE</td><td>CASRIRGLNTEAFF</td><td>TRBV19  </td><td>TRBJ1-1</td><td>NA</td><td>Leukemia:CHP_338_X04-PBMC                             </td><td>    5</td><td>Leukemia          </td></tr>\n",
       "\t<tr><td>13830</td><td>R%RGLNTE</td><td>0.00400</td><td>4</td><td>3</td><td>6.2e-12</td><td>1</td><td>0.001</td><td>0.001</td><td>0.001</td><td>0.0062</td><td>global-R%RGLNTE</td><td>CASRYRGLNTEAFF</td><td>TRBV2   </td><td>TRBJ1-1</td><td>NA</td><td>Solidtumors:CHP_362_X02-PBMC                          </td><td>  427</td><td>Solidtumors       </td></tr>\n",
       "\t<tr><td>13830</td><td>R%RGLNTE</td><td>0.00400</td><td>4</td><td>3</td><td>6.2e-12</td><td>1</td><td>0.001</td><td>0.001</td><td>0.001</td><td>0.0062</td><td>global-R%RGLNTE</td><td>CASRYRGLNTEAFF</td><td>TRBV2   </td><td>TRBJ1-1</td><td>NA</td><td>Leukemia:CHP_373_X01-PBMC                             </td><td>    1</td><td>Leukemia          </td></tr>\n",
       "\t<tr><td>13830</td><td>R%RGLNTE</td><td>0.00400</td><td>4</td><td>3</td><td>6.2e-12</td><td>1</td><td>0.001</td><td>0.001</td><td>0.001</td><td>0.0062</td><td>global-R%RGLNTE</td><td>CSARDRGLNTEAFF</td><td>TRBV20-1</td><td>TRBJ1-1</td><td>NA</td><td>Leukemia:CHP_399_X01-PBMC                             </td><td>  348</td><td>Leukemia          </td></tr>\n",
       "\t<tr><td>13830</td><td>R%RGLNTE</td><td>0.00400</td><td>4</td><td>3</td><td>6.2e-12</td><td>1</td><td>0.001</td><td>0.001</td><td>0.001</td><td>0.0062</td><td>global-R%RGLNTE</td><td>CSARDRGLNTEAFF</td><td>TRBV20-1</td><td>TRBJ1-1</td><td>NA</td><td>Leukemia:CHP_396_X01-PBMC                             </td><td>   15</td><td>Leukemia          </td></tr>\n",
       "\t<tr><td>13830</td><td>R%RGLNTE</td><td>0.00400</td><td>4</td><td>3</td><td>6.2e-12</td><td>1</td><td>0.001</td><td>0.001</td><td>0.001</td><td>0.0062</td><td>global-R%RGLNTE</td><td>CSARDRGLNTEAFF</td><td>TRBV20-1</td><td>TRBJ1-1</td><td>NA</td><td>Leukemia:CHP_397_X01-cfDNA                            </td><td>    5</td><td>Leukemia          </td></tr>\n",
       "\t<tr><td>13830</td><td>R%RGLNTE</td><td>0.00400</td><td>4</td><td>3</td><td>6.2e-12</td><td>1</td><td>0.001</td><td>0.001</td><td>0.001</td><td>0.0062</td><td>global-R%RGLNTE</td><td>CSARDRGLNTEAFF</td><td>TRBV20-1</td><td>TRBJ1-1</td><td>NA</td><td>Leukemia:CHP_382_X02-cfDNA                            </td><td>  770</td><td>Leukemia          </td></tr>\n",
       "\t<tr><td>13830</td><td>R%RGLNTE</td><td>0.00400</td><td>4</td><td>3</td><td>6.2e-12</td><td>1</td><td>0.001</td><td>0.001</td><td>0.001</td><td>0.0062</td><td>global-R%RGLNTE</td><td>CSARDRGLNTEAFF</td><td>TRBV20-1</td><td>TRBJ1-1</td><td>NA</td><td>Lymphoma:CHP_380_X05-PBMC                             </td><td>   39</td><td>Lymphoma          </td></tr>\n",
       "\t<tr><td>13830</td><td>R%RGLNTE</td><td>0.00400</td><td>4</td><td>3</td><td>6.2e-12</td><td>1</td><td>0.001</td><td>0.001</td><td>0.001</td><td>0.0062</td><td>global-R%RGLNTE</td><td>CSARDRGLNTEAFF</td><td>TRBV20-1</td><td>TRBJ1-1</td><td>NA</td><td>T-cellmalignancies:CHP_395_X01-cfDNA                  </td><td>14418</td><td>T-cellmalignancies</td></tr>\n",
       "\t<tr><td>13830</td><td>R%RGLNTE</td><td>0.00400</td><td>4</td><td>3</td><td>6.2e-12</td><td>1</td><td>0.001</td><td>0.001</td><td>0.001</td><td>0.0062</td><td>global-R%RGLNTE</td><td>CSARDRGLNTEAFF</td><td>TRBV20-1</td><td>TRBJ1-1</td><td>NA</td><td>T-cellmalignancies:CHP_395_X02-cfDNA                  </td><td> 1939</td><td>T-cellmalignancies</td></tr>\n",
       "\t<tr><td>15294</td><td>SL%PGNE </td><td>0.00550</td><td>3</td><td>3</td><td>2.1e-07</td><td>1</td><td>0.040</td><td>0.840</td><td>0.001</td><td>0.0062</td><td>global-SL%PGNE </td><td>CASSLDPGNEQYV </td><td>TRBV9_1 </td><td>NA     </td><td>NA</td><td>MDavis:A2402_B4001_C0303_C0304_C0602_DQB10202_DRB10404</td><td>    1</td><td>MDavis            </td></tr>\n",
       "\t<tr><td>15294</td><td>SL%PGNE </td><td>0.00550</td><td>3</td><td>3</td><td>2.1e-07</td><td>1</td><td>0.040</td><td>0.840</td><td>0.001</td><td>0.0062</td><td>global-SL%PGNE </td><td>CASSLRPGNEQFF </td><td>TRBV7-9 </td><td>TRBJ2-1</td><td>NA</td><td>T-cellmalignancies:CHP_395_X02-cfDNA                  </td><td>   17</td><td>T-cellmalignancies</td></tr>\n",
       "\t<tr><td>15294</td><td>SL%PGNE </td><td>0.00550</td><td>3</td><td>3</td><td>2.1e-07</td><td>1</td><td>0.040</td><td>0.840</td><td>0.001</td><td>0.0062</td><td>global-SL%PGNE </td><td>CASSLAPGNEQFF </td><td>NA      </td><td>NA     </td><td>NA</td><td>HomoSapiens:POLE_TSISTAMR                             </td><td>    1</td><td>HomoSapiens       </td></tr>\n",
       "\t<tr><td>15903</td><td>%DRGLNTE</td><td>0.00630</td><td>4</td><td>3</td><td>6.2e-12</td><td>1</td><td>0.001</td><td>0.001</td><td>0.001</td><td>0.0062</td><td>global-%DRGLNTE</td><td>CSARDRGLNTEAFF</td><td>TRBV20-1</td><td>TRBJ1-1</td><td>NA</td><td>Leukemia:CHP_399_X01-PBMC                             </td><td>  348</td><td>Leukemia          </td></tr>\n",
       "\t<tr><td>15903</td><td>%DRGLNTE</td><td>0.00630</td><td>4</td><td>3</td><td>6.2e-12</td><td>1</td><td>0.001</td><td>0.001</td><td>0.001</td><td>0.0062</td><td>global-%DRGLNTE</td><td>CSARDRGLNTEAFF</td><td>TRBV20-1</td><td>TRBJ1-1</td><td>NA</td><td>Leukemia:CHP_396_X01-PBMC                             </td><td>   15</td><td>Leukemia          </td></tr>\n",
       "\t<tr><td>15903</td><td>%DRGLNTE</td><td>0.00630</td><td>4</td><td>3</td><td>6.2e-12</td><td>1</td><td>0.001</td><td>0.001</td><td>0.001</td><td>0.0062</td><td>global-%DRGLNTE</td><td>CSARDRGLNTEAFF</td><td>TRBV20-1</td><td>TRBJ1-1</td><td>NA</td><td>Leukemia:CHP_397_X01-cfDNA                            </td><td>    5</td><td>Leukemia          </td></tr>\n",
       "\t<tr><td>15903</td><td>%DRGLNTE</td><td>0.00630</td><td>4</td><td>3</td><td>6.2e-12</td><td>1</td><td>0.001</td><td>0.001</td><td>0.001</td><td>0.0062</td><td>global-%DRGLNTE</td><td>CSARDRGLNTEAFF</td><td>TRBV20-1</td><td>TRBJ1-1</td><td>NA</td><td>Leukemia:CHP_382_X02-cfDNA                            </td><td>  770</td><td>Leukemia          </td></tr>\n",
       "\t<tr><td>15903</td><td>%DRGLNTE</td><td>0.00630</td><td>4</td><td>3</td><td>6.2e-12</td><td>1</td><td>0.001</td><td>0.001</td><td>0.001</td><td>0.0062</td><td>global-%DRGLNTE</td><td>CSARDRGLNTEAFF</td><td>TRBV20-1</td><td>TRBJ1-1</td><td>NA</td><td>Lymphoma:CHP_380_X05-PBMC                             </td><td>   39</td><td>Lymphoma          </td></tr>\n",
       "\t<tr><td>15903</td><td>%DRGLNTE</td><td>0.00630</td><td>4</td><td>3</td><td>6.2e-12</td><td>1</td><td>0.001</td><td>0.001</td><td>0.001</td><td>0.0062</td><td>global-%DRGLNTE</td><td>CSARDRGLNTEAFF</td><td>TRBV20-1</td><td>TRBJ1-1</td><td>NA</td><td>T-cellmalignancies:CHP_395_X01-cfDNA                  </td><td>14418</td><td>T-cellmalignancies</td></tr>\n",
       "\t<tr><td>15903</td><td>%DRGLNTE</td><td>0.00630</td><td>4</td><td>3</td><td>6.2e-12</td><td>1</td><td>0.001</td><td>0.001</td><td>0.001</td><td>0.0062</td><td>global-%DRGLNTE</td><td>CSARDRGLNTEAFF</td><td>TRBV20-1</td><td>TRBJ1-1</td><td>NA</td><td>T-cellmalignancies:CHP_395_X02-cfDNA                  </td><td> 1939</td><td>T-cellmalignancies</td></tr>\n",
       "\t<tr><td>15903</td><td>%DRGLNTE</td><td>0.00630</td><td>4</td><td>3</td><td>6.2e-12</td><td>1</td><td>0.001</td><td>0.001</td><td>0.001</td><td>0.0062</td><td>global-%DRGLNTE</td><td>CATSDRGLNTEAFF</td><td>TRBV24-1</td><td>TRBJ1-1</td><td>NA</td><td>Lymphoma:CHP_344_X05-PBMC                             </td><td>   18</td><td>Lymphoma          </td></tr>\n",
       "\t<tr><td>15903</td><td>%DRGLNTE</td><td>0.00630</td><td>4</td><td>3</td><td>6.2e-12</td><td>1</td><td>0.001</td><td>0.001</td><td>0.001</td><td>0.0062</td><td>global-%DRGLNTE</td><td>CAISDRGLNTEAFF</td><td>TRBV10-3</td><td>TRBJ1-1</td><td>NA</td><td>Solidtumors:CHP_358_X03-PBMC                          </td><td>   21</td><td>Solidtumors       </td></tr>\n",
       "\t<tr><td>16862</td><td>SPGL%TDT</td><td>0.00790</td><td>3</td><td>3</td><td>1.6e-07</td><td>1</td><td>0.190</td><td>0.130</td><td>0.001</td><td>0.0062</td><td>global-SPGL%TDT</td><td>CASSPGLLTDTQYF</td><td>TRBV4-2 </td><td>TRBJ2-3</td><td>NA</td><td>HomoSapiens:MLANA27-35_TAA-AAGIGILTV                  </td><td>    1</td><td>HomoSapiens       </td></tr>\n",
       "\t<tr><td>16862</td><td>SPGL%TDT</td><td>0.00790</td><td>3</td><td>3</td><td>1.6e-07</td><td>1</td><td>0.190</td><td>0.130</td><td>0.001</td><td>0.0062</td><td>global-SPGL%TDT</td><td>CASSPGLLTDTQYF</td><td>TRBV5-1 </td><td>TRBJ2-1</td><td>NA</td><td>HomoSapiens:MAA_NA                                    </td><td>    1</td><td>HomoSapiens       </td></tr>\n",
       "\t<tr><td>16862</td><td>SPGL%TDT</td><td>0.00790</td><td>3</td><td>3</td><td>1.6e-07</td><td>1</td><td>0.190</td><td>0.130</td><td>0.001</td><td>0.0062</td><td>global-SPGL%TDT</td><td>CSASPGLSTDTQYF</td><td>TRBV20-1</td><td>TRBJ2-3</td><td>NA</td><td>Lymphoma:CHP_403_X02-PBMC                             </td><td>    5</td><td>Lymphoma          </td></tr>\n",
       "\t<tr><td>16862</td><td>SPGL%TDT</td><td>0.00790</td><td>3</td><td>3</td><td>1.6e-07</td><td>1</td><td>0.190</td><td>0.130</td><td>0.001</td><td>0.0062</td><td>global-SPGL%TDT</td><td>CAISPGLRTDTQYF</td><td>TRBV10-3</td><td>TRBJ2-3</td><td>NA</td><td>T-cellmalignancies:CHP_395_X02-cfDNA                  </td><td>  705</td><td>T-cellmalignancies</td></tr>\n",
       "</tbody>\n",
       "</table>\n"
      ],
      "text/latex": [
       "A tibble: 49 x 19\n",
       "\\begin{tabular}{lllllllllllllllllll}\n",
       " index & pattern & Fisher\\_score & number\\_subject & number\\_unique\\_cdr3 & final\\_score & hla\\_score & vb\\_score & expansion\\_score & length\\_score & cluster\\_size\\_score & type & TcRb & V & J & TcRa & Sample & Freq & subject\\\\\n",
       " <dbl> & <chr> & <dbl> & <dbl> & <dbl> & <dbl> & <dbl> & <dbl> & <dbl> & <dbl> & <dbl> & <chr> & <chr> & <chr> & <chr> & <lgl> & <chr> & <dbl> & <chr>\\\\\n",
       "\\hline\n",
       "\t  7277 & SLQGP\\%YG & 0.00031 & 3 & 3 & 3.9e-09 & 1 & 0.004 & 0.160 & 0.001 & 0.0062 & global-SLQGP\\%YG & CASSLQGPNYGYTF & TRBV28   & TRBJ1-2 & NA & Leukemia:CHP\\_365\\_X01-PBMC                              &   455 & Leukemia          \\\\\n",
       "\t  7277 & SLQGP\\%YG & 0.00031 & 3 & 3 & 3.9e-09 & 1 & 0.004 & 0.160 & 0.001 & 0.0062 & global-SLQGP\\%YG & CASSLQGPDYGYTF & TRBV5-4  & TRBJ1-2 & NA & T-cellmalignancies:CHP\\_395\\_X02-cfDNA                   &    39 & T-cellmalignancies\\\\\n",
       "\t  7277 & SLQGP\\%YG & 0.00031 & 3 & 3 & 3.9e-09 & 1 & 0.004 & 0.160 & 0.001 & 0.0062 & global-SLQGP\\%YG & CASSLQGPDYGYTF & TRBV5-4  & TRBJ1-2 & NA & T-cellmalignancies:CHP\\_395\\_X02-cfDNA                   &     3 & T-cellmalignancies\\\\\n",
       "\t  7277 & SLQGP\\%YG & 0.00031 & 3 & 3 & 3.9e-09 & 1 & 0.004 & 0.160 & 0.001 & 0.0062 & global-SLQGP\\%YG & CASSLQGPPYGYTF & TRBV12-4 & TRBJ1-2 & NA & Solidtumors:CHP\\_414\\_X02-PBMC                           &    54 & Solidtumors       \\\\\n",
       "\t  8185 & SIDR\\%YG  & 0.00052 & 3 & 3 & 9.4e-10 & 1 & 0.004 & 0.038 & 0.001 & 0.0062 & global-SIDR\\%YG  & CASSIDRNYGYTF  & TRBV19   & TRBJ1-2 & NA & Solidtumors:CHP\\_401\\_X03-PBMC                           &     7 & Solidtumors       \\\\\n",
       "\t  8185 & SIDR\\%YG  & 0.00052 & 3 & 3 & 9.4e-10 & 1 & 0.004 & 0.038 & 0.001 & 0.0062 & global-SIDR\\%YG  & CASSIDREYGYTF  & TRBV19   & TRBJ1-2 & NA & Leukemia:CHP\\_411\\_X01-cfDNA                             &  1356 & Leukemia          \\\\\n",
       "\t  8185 & SIDR\\%YG  & 0.00052 & 3 & 3 & 9.4e-10 & 1 & 0.004 & 0.038 & 0.001 & 0.0062 & global-SIDR\\%YG  & CASSIDREYGYTF  & TRBV19   & TRBJ1-2 & NA & T-cellmalignancies:CHP\\_395\\_X02-cfDNA                   &     1 & T-cellmalignancies\\\\\n",
       "\t  8185 & SIDR\\%YG  & 0.00052 & 3 & 3 & 9.4e-10 & 1 & 0.004 & 0.038 & 0.001 & 0.0062 & global-SIDR\\%YG  & CASSIDRHYGYTF  & TRBV2    & TRBJ1-2 & NA & Leukemia:CHP\\_345\\_X04-PBMC                              &    14 & Leukemia          \\\\\n",
       "\t  9383 & S\\%GGAPDT & 0.00090 & 4 & 3 & 9.7e-10 & 1 & 0.001 & 0.160 & 0.001 & 0.0062 & global-S\\%GGAPDT & CASSVGGAPDTQYF & TRBV9    & TRBJ2-3 & NA & T-cellmalignancies:CHP\\_375\\_X02-PBMC                    &    10 & T-cellmalignancies\\\\\n",
       "\t  9383 & S\\%GGAPDT & 0.00090 & 4 & 3 & 9.7e-10 & 1 & 0.001 & 0.160 & 0.001 & 0.0062 & global-S\\%GGAPDT & CASSFGGAPDTQYF & TRBV5-1  & TRBJ2-3 & NA & Leukemia:CHP\\_367\\_X04-cfDNA                             &   135 & Leukemia          \\\\\n",
       "\t  9383 & S\\%GGAPDT & 0.00090 & 4 & 3 & 9.7e-10 & 1 & 0.001 & 0.160 & 0.001 & 0.0062 & global-S\\%GGAPDT & CASSFGGAPDTQYF & TRBV5-1  & TRBJ2-3 & NA & Leukemia:CHP\\_405\\_X03-PBMC                              &   103 & Leukemia          \\\\\n",
       "\t  9383 & S\\%GGAPDT & 0.00090 & 4 & 3 & 9.7e-10 & 1 & 0.001 & 0.160 & 0.001 & 0.0062 & global-S\\%GGAPDT & CASSFGGAPDTQYF & TRBV5-1  & TRBJ2-3 & NA & Solidtumors:CHP\\_390\\_X02-cfDNA                          &   633 & Solidtumors       \\\\\n",
       "\t  9383 & S\\%GGAPDT & 0.00090 & 4 & 3 & 9.7e-10 & 1 & 0.001 & 0.160 & 0.001 & 0.0062 & global-S\\%GGAPDT & CASSFGGAPDTQYF & TRBV5-1  & TRBJ2-3 & NA & Leukemia:CHP\\_411\\_X02-cfDNA                             &    39 & Leukemia          \\\\\n",
       "\t  9383 & S\\%GGAPDT & 0.00090 & 4 & 3 & 9.7e-10 & 1 & 0.001 & 0.160 & 0.001 & 0.0062 & global-S\\%GGAPDT & CASSFGGAPDTQYF & TRBV5-1  & TRBJ2-3 & NA & T-cellmalignancies:CHP\\_395\\_X02-cfDNA                   &    67 & T-cellmalignancies\\\\\n",
       "\t  9383 & S\\%GGAPDT & 0.00090 & 4 & 3 & 9.7e-10 & 1 & 0.001 & 0.160 & 0.001 & 0.0062 & global-S\\%GGAPDT & CASSLGGAPDTQYF & TRBV11\\_3 & NA      & NA & MDavis:C0701                                           &     1 & MDavis            \\\\\n",
       "\t 11454 & R\\%AGGTDT & 0.00180 & 2 & 4 & 1.7e-09 & 1 & 0.028 & 0.026 & 0.001 & 0.0023 & global-R\\%AGGTDT & CASRGAGGTDTQYF & TRBV24-1 & TRBJ2-3 & NA & Leukemia:CHP\\_367\\_X02-PBMC                              &    41 & Leukemia          \\\\\n",
       "\t 11454 & R\\%AGGTDT & 0.00180 & 2 & 4 & 1.7e-09 & 1 & 0.028 & 0.026 & 0.001 & 0.0023 & global-R\\%AGGTDT & CSARGAGGTDTQYF & TRBV20-1 & TRBJ2-3 & NA & Leukemia:CHP\\_396\\_X02-PBMC                              &     2 & Leukemia          \\\\\n",
       "\t 11454 & R\\%AGGTDT & 0.00180 & 2 & 4 & 1.7e-09 & 1 & 0.028 & 0.026 & 0.001 & 0.0023 & global-R\\%AGGTDT & CASRWAGGTDTQYF & TRBV6-2  & TRBJ2-3 & NA & Leukemia:CHP\\_411\\_X01-cfDNA                             &     1 & Leukemia          \\\\\n",
       "\t 11454 & R\\%AGGTDT & 0.00180 & 2 & 4 & 1.7e-09 & 1 & 0.028 & 0.026 & 0.001 & 0.0023 & global-R\\%AGGTDT & CASRWAGGTDTQYF & TRBV6-2  & TRBJ2-3 & NA & T-cellmalignancies:CHP\\_395\\_X02-cfDNA                   &  2033 & T-cellmalignancies\\\\\n",
       "\t 11454 & R\\%AGGTDT & 0.00180 & 2 & 4 & 1.7e-09 & 1 & 0.028 & 0.026 & 0.001 & 0.0023 & global-R\\%AGGTDT & CASRLAGGTDTQYF & TRBV5-4  & TRBJ2-3 & NA & Leukemia:CHP\\_328\\_X05-PBMC                              &   259 & Leukemia          \\\\\n",
       "\t 11677 & S\\%GLRTDT & 0.00210 & 2 & 3 & 4.4e-08 & 1 & 0.091 & 0.078 & 0.001 & 0.0062 & global-S\\%GLRTDT & CASSYGLRTDTQYF & TRBV6\\_8  & NA      & NA & MDavis:DQA10501                                        &     1 & MDavis            \\\\\n",
       "\t 11677 & S\\%GLRTDT & 0.00210 & 2 & 3 & 4.4e-08 & 1 & 0.091 & 0.078 & 0.001 & 0.0062 & global-S\\%GLRTDT & CAISPGLRTDTQYF & TRBV10-3 & TRBJ2-3 & NA & T-cellmalignancies:CHP\\_395\\_X02-cfDNA                   &   705 & T-cellmalignancies\\\\\n",
       "\t 11677 & S\\%GLRTDT & 0.00210 & 2 & 3 & 4.4e-08 & 1 & 0.091 & 0.078 & 0.001 & 0.0062 & global-S\\%GLRTDT & CASSAGLRTDTQYF & TRBV9\\_1  & NA      & NA & MDavis:A1101\\_B4402\\_B5101\\_DQA10103\\_DRB11301             &     1 & MDavis            \\\\\n",
       "\t 13830 & R\\%RGLNTE & 0.00400 & 4 & 3 & 6.2e-12 & 1 & 0.001 & 0.001 & 0.001 & 0.0062 & global-R\\%RGLNTE & CASRIRGLNTEAFF & TRBV19   & TRBJ1-1 & NA & Leukemia:CHP\\_338\\_X04-PBMC                              &     5 & Leukemia          \\\\\n",
       "\t 13830 & R\\%RGLNTE & 0.00400 & 4 & 3 & 6.2e-12 & 1 & 0.001 & 0.001 & 0.001 & 0.0062 & global-R\\%RGLNTE & CASRYRGLNTEAFF & TRBV2    & TRBJ1-1 & NA & Solidtumors:CHP\\_362\\_X02-PBMC                           &   427 & Solidtumors       \\\\\n",
       "\t 13830 & R\\%RGLNTE & 0.00400 & 4 & 3 & 6.2e-12 & 1 & 0.001 & 0.001 & 0.001 & 0.0062 & global-R\\%RGLNTE & CASRYRGLNTEAFF & TRBV2    & TRBJ1-1 & NA & Leukemia:CHP\\_373\\_X01-PBMC                              &     1 & Leukemia          \\\\\n",
       "\t 13830 & R\\%RGLNTE & 0.00400 & 4 & 3 & 6.2e-12 & 1 & 0.001 & 0.001 & 0.001 & 0.0062 & global-R\\%RGLNTE & CSARDRGLNTEAFF & TRBV20-1 & TRBJ1-1 & NA & Leukemia:CHP\\_399\\_X01-PBMC                              &   348 & Leukemia          \\\\\n",
       "\t 13830 & R\\%RGLNTE & 0.00400 & 4 & 3 & 6.2e-12 & 1 & 0.001 & 0.001 & 0.001 & 0.0062 & global-R\\%RGLNTE & CSARDRGLNTEAFF & TRBV20-1 & TRBJ1-1 & NA & Leukemia:CHP\\_396\\_X01-PBMC                              &    15 & Leukemia          \\\\\n",
       "\t 13830 & R\\%RGLNTE & 0.00400 & 4 & 3 & 6.2e-12 & 1 & 0.001 & 0.001 & 0.001 & 0.0062 & global-R\\%RGLNTE & CSARDRGLNTEAFF & TRBV20-1 & TRBJ1-1 & NA & Leukemia:CHP\\_397\\_X01-cfDNA                             &     5 & Leukemia          \\\\\n",
       "\t 13830 & R\\%RGLNTE & 0.00400 & 4 & 3 & 6.2e-12 & 1 & 0.001 & 0.001 & 0.001 & 0.0062 & global-R\\%RGLNTE & CSARDRGLNTEAFF & TRBV20-1 & TRBJ1-1 & NA & Leukemia:CHP\\_382\\_X02-cfDNA                             &   770 & Leukemia          \\\\\n",
       "\t 13830 & R\\%RGLNTE & 0.00400 & 4 & 3 & 6.2e-12 & 1 & 0.001 & 0.001 & 0.001 & 0.0062 & global-R\\%RGLNTE & CSARDRGLNTEAFF & TRBV20-1 & TRBJ1-1 & NA & Lymphoma:CHP\\_380\\_X05-PBMC                              &    39 & Lymphoma          \\\\\n",
       "\t 13830 & R\\%RGLNTE & 0.00400 & 4 & 3 & 6.2e-12 & 1 & 0.001 & 0.001 & 0.001 & 0.0062 & global-R\\%RGLNTE & CSARDRGLNTEAFF & TRBV20-1 & TRBJ1-1 & NA & T-cellmalignancies:CHP\\_395\\_X01-cfDNA                   & 14418 & T-cellmalignancies\\\\\n",
       "\t 13830 & R\\%RGLNTE & 0.00400 & 4 & 3 & 6.2e-12 & 1 & 0.001 & 0.001 & 0.001 & 0.0062 & global-R\\%RGLNTE & CSARDRGLNTEAFF & TRBV20-1 & TRBJ1-1 & NA & T-cellmalignancies:CHP\\_395\\_X02-cfDNA                   &  1939 & T-cellmalignancies\\\\\n",
       "\t 15294 & SL\\%PGNE  & 0.00550 & 3 & 3 & 2.1e-07 & 1 & 0.040 & 0.840 & 0.001 & 0.0062 & global-SL\\%PGNE  & CASSLDPGNEQYV  & TRBV9\\_1  & NA      & NA & MDavis:A2402\\_B4001\\_C0303\\_C0304\\_C0602\\_DQB10202\\_DRB10404 &     1 & MDavis            \\\\\n",
       "\t 15294 & SL\\%PGNE  & 0.00550 & 3 & 3 & 2.1e-07 & 1 & 0.040 & 0.840 & 0.001 & 0.0062 & global-SL\\%PGNE  & CASSLRPGNEQFF  & TRBV7-9  & TRBJ2-1 & NA & T-cellmalignancies:CHP\\_395\\_X02-cfDNA                   &    17 & T-cellmalignancies\\\\\n",
       "\t 15294 & SL\\%PGNE  & 0.00550 & 3 & 3 & 2.1e-07 & 1 & 0.040 & 0.840 & 0.001 & 0.0062 & global-SL\\%PGNE  & CASSLAPGNEQFF  & NA       & NA      & NA & HomoSapiens:POLE\\_TSISTAMR                              &     1 & HomoSapiens       \\\\\n",
       "\t 15903 & \\%DRGLNTE & 0.00630 & 4 & 3 & 6.2e-12 & 1 & 0.001 & 0.001 & 0.001 & 0.0062 & global-\\%DRGLNTE & CSARDRGLNTEAFF & TRBV20-1 & TRBJ1-1 & NA & Leukemia:CHP\\_399\\_X01-PBMC                              &   348 & Leukemia          \\\\\n",
       "\t 15903 & \\%DRGLNTE & 0.00630 & 4 & 3 & 6.2e-12 & 1 & 0.001 & 0.001 & 0.001 & 0.0062 & global-\\%DRGLNTE & CSARDRGLNTEAFF & TRBV20-1 & TRBJ1-1 & NA & Leukemia:CHP\\_396\\_X01-PBMC                              &    15 & Leukemia          \\\\\n",
       "\t 15903 & \\%DRGLNTE & 0.00630 & 4 & 3 & 6.2e-12 & 1 & 0.001 & 0.001 & 0.001 & 0.0062 & global-\\%DRGLNTE & CSARDRGLNTEAFF & TRBV20-1 & TRBJ1-1 & NA & Leukemia:CHP\\_397\\_X01-cfDNA                             &     5 & Leukemia          \\\\\n",
       "\t 15903 & \\%DRGLNTE & 0.00630 & 4 & 3 & 6.2e-12 & 1 & 0.001 & 0.001 & 0.001 & 0.0062 & global-\\%DRGLNTE & CSARDRGLNTEAFF & TRBV20-1 & TRBJ1-1 & NA & Leukemia:CHP\\_382\\_X02-cfDNA                             &   770 & Leukemia          \\\\\n",
       "\t 15903 & \\%DRGLNTE & 0.00630 & 4 & 3 & 6.2e-12 & 1 & 0.001 & 0.001 & 0.001 & 0.0062 & global-\\%DRGLNTE & CSARDRGLNTEAFF & TRBV20-1 & TRBJ1-1 & NA & Lymphoma:CHP\\_380\\_X05-PBMC                              &    39 & Lymphoma          \\\\\n",
       "\t 15903 & \\%DRGLNTE & 0.00630 & 4 & 3 & 6.2e-12 & 1 & 0.001 & 0.001 & 0.001 & 0.0062 & global-\\%DRGLNTE & CSARDRGLNTEAFF & TRBV20-1 & TRBJ1-1 & NA & T-cellmalignancies:CHP\\_395\\_X01-cfDNA                   & 14418 & T-cellmalignancies\\\\\n",
       "\t 15903 & \\%DRGLNTE & 0.00630 & 4 & 3 & 6.2e-12 & 1 & 0.001 & 0.001 & 0.001 & 0.0062 & global-\\%DRGLNTE & CSARDRGLNTEAFF & TRBV20-1 & TRBJ1-1 & NA & T-cellmalignancies:CHP\\_395\\_X02-cfDNA                   &  1939 & T-cellmalignancies\\\\\n",
       "\t 15903 & \\%DRGLNTE & 0.00630 & 4 & 3 & 6.2e-12 & 1 & 0.001 & 0.001 & 0.001 & 0.0062 & global-\\%DRGLNTE & CATSDRGLNTEAFF & TRBV24-1 & TRBJ1-1 & NA & Lymphoma:CHP\\_344\\_X05-PBMC                              &    18 & Lymphoma          \\\\\n",
       "\t 15903 & \\%DRGLNTE & 0.00630 & 4 & 3 & 6.2e-12 & 1 & 0.001 & 0.001 & 0.001 & 0.0062 & global-\\%DRGLNTE & CAISDRGLNTEAFF & TRBV10-3 & TRBJ1-1 & NA & Solidtumors:CHP\\_358\\_X03-PBMC                           &    21 & Solidtumors       \\\\\n",
       "\t 16862 & SPGL\\%TDT & 0.00790 & 3 & 3 & 1.6e-07 & 1 & 0.190 & 0.130 & 0.001 & 0.0062 & global-SPGL\\%TDT & CASSPGLLTDTQYF & TRBV4-2  & TRBJ2-3 & NA & HomoSapiens:MLANA27-35\\_TAA-AAGIGILTV                   &     1 & HomoSapiens       \\\\\n",
       "\t 16862 & SPGL\\%TDT & 0.00790 & 3 & 3 & 1.6e-07 & 1 & 0.190 & 0.130 & 0.001 & 0.0062 & global-SPGL\\%TDT & CASSPGLLTDTQYF & TRBV5-1  & TRBJ2-1 & NA & HomoSapiens:MAA\\_NA                                     &     1 & HomoSapiens       \\\\\n",
       "\t 16862 & SPGL\\%TDT & 0.00790 & 3 & 3 & 1.6e-07 & 1 & 0.190 & 0.130 & 0.001 & 0.0062 & global-SPGL\\%TDT & CSASPGLSTDTQYF & TRBV20-1 & TRBJ2-3 & NA & Lymphoma:CHP\\_403\\_X02-PBMC                              &     5 & Lymphoma          \\\\\n",
       "\t 16862 & SPGL\\%TDT & 0.00790 & 3 & 3 & 1.6e-07 & 1 & 0.190 & 0.130 & 0.001 & 0.0062 & global-SPGL\\%TDT & CAISPGLRTDTQYF & TRBV10-3 & TRBJ2-3 & NA & T-cellmalignancies:CHP\\_395\\_X02-cfDNA                   &   705 & T-cellmalignancies\\\\\n",
       "\\end{tabular}\n"
      ],
      "text/markdown": [
       "\n",
       "A tibble: 49 x 19\n",
       "\n",
       "| index &lt;dbl&gt; | pattern &lt;chr&gt; | Fisher_score &lt;dbl&gt; | number_subject &lt;dbl&gt; | number_unique_cdr3 &lt;dbl&gt; | final_score &lt;dbl&gt; | hla_score &lt;dbl&gt; | vb_score &lt;dbl&gt; | expansion_score &lt;dbl&gt; | length_score &lt;dbl&gt; | cluster_size_score &lt;dbl&gt; | type &lt;chr&gt; | TcRb &lt;chr&gt; | V &lt;chr&gt; | J &lt;chr&gt; | TcRa &lt;lgl&gt; | Sample &lt;chr&gt; | Freq &lt;dbl&gt; | subject &lt;chr&gt; |\n",
       "|---|---|---|---|---|---|---|---|---|---|---|---|---|---|---|---|---|---|---|\n",
       "|  7277 | SLQGP%YG | 0.00031 | 3 | 3 | 3.9e-09 | 1 | 0.004 | 0.160 | 0.001 | 0.0062 | global-SLQGP%YG | CASSLQGPNYGYTF | TRBV28   | TRBJ1-2 | NA | Leukemia:CHP_365_X01-PBMC                              |   455 | Leukemia           |\n",
       "|  7277 | SLQGP%YG | 0.00031 | 3 | 3 | 3.9e-09 | 1 | 0.004 | 0.160 | 0.001 | 0.0062 | global-SLQGP%YG | CASSLQGPDYGYTF | TRBV5-4  | TRBJ1-2 | NA | T-cellmalignancies:CHP_395_X02-cfDNA                   |    39 | T-cellmalignancies |\n",
       "|  7277 | SLQGP%YG | 0.00031 | 3 | 3 | 3.9e-09 | 1 | 0.004 | 0.160 | 0.001 | 0.0062 | global-SLQGP%YG | CASSLQGPDYGYTF | TRBV5-4  | TRBJ1-2 | NA | T-cellmalignancies:CHP_395_X02-cfDNA                   |     3 | T-cellmalignancies |\n",
       "|  7277 | SLQGP%YG | 0.00031 | 3 | 3 | 3.9e-09 | 1 | 0.004 | 0.160 | 0.001 | 0.0062 | global-SLQGP%YG | CASSLQGPPYGYTF | TRBV12-4 | TRBJ1-2 | NA | Solidtumors:CHP_414_X02-PBMC                           |    54 | Solidtumors        |\n",
       "|  8185 | SIDR%YG  | 0.00052 | 3 | 3 | 9.4e-10 | 1 | 0.004 | 0.038 | 0.001 | 0.0062 | global-SIDR%YG  | CASSIDRNYGYTF  | TRBV19   | TRBJ1-2 | NA | Solidtumors:CHP_401_X03-PBMC                           |     7 | Solidtumors        |\n",
       "|  8185 | SIDR%YG  | 0.00052 | 3 | 3 | 9.4e-10 | 1 | 0.004 | 0.038 | 0.001 | 0.0062 | global-SIDR%YG  | CASSIDREYGYTF  | TRBV19   | TRBJ1-2 | NA | Leukemia:CHP_411_X01-cfDNA                             |  1356 | Leukemia           |\n",
       "|  8185 | SIDR%YG  | 0.00052 | 3 | 3 | 9.4e-10 | 1 | 0.004 | 0.038 | 0.001 | 0.0062 | global-SIDR%YG  | CASSIDREYGYTF  | TRBV19   | TRBJ1-2 | NA | T-cellmalignancies:CHP_395_X02-cfDNA                   |     1 | T-cellmalignancies |\n",
       "|  8185 | SIDR%YG  | 0.00052 | 3 | 3 | 9.4e-10 | 1 | 0.004 | 0.038 | 0.001 | 0.0062 | global-SIDR%YG  | CASSIDRHYGYTF  | TRBV2    | TRBJ1-2 | NA | Leukemia:CHP_345_X04-PBMC                              |    14 | Leukemia           |\n",
       "|  9383 | S%GGAPDT | 0.00090 | 4 | 3 | 9.7e-10 | 1 | 0.001 | 0.160 | 0.001 | 0.0062 | global-S%GGAPDT | CASSVGGAPDTQYF | TRBV9    | TRBJ2-3 | NA | T-cellmalignancies:CHP_375_X02-PBMC                    |    10 | T-cellmalignancies |\n",
       "|  9383 | S%GGAPDT | 0.00090 | 4 | 3 | 9.7e-10 | 1 | 0.001 | 0.160 | 0.001 | 0.0062 | global-S%GGAPDT | CASSFGGAPDTQYF | TRBV5-1  | TRBJ2-3 | NA | Leukemia:CHP_367_X04-cfDNA                             |   135 | Leukemia           |\n",
       "|  9383 | S%GGAPDT | 0.00090 | 4 | 3 | 9.7e-10 | 1 | 0.001 | 0.160 | 0.001 | 0.0062 | global-S%GGAPDT | CASSFGGAPDTQYF | TRBV5-1  | TRBJ2-3 | NA | Leukemia:CHP_405_X03-PBMC                              |   103 | Leukemia           |\n",
       "|  9383 | S%GGAPDT | 0.00090 | 4 | 3 | 9.7e-10 | 1 | 0.001 | 0.160 | 0.001 | 0.0062 | global-S%GGAPDT | CASSFGGAPDTQYF | TRBV5-1  | TRBJ2-3 | NA | Solidtumors:CHP_390_X02-cfDNA                          |   633 | Solidtumors        |\n",
       "|  9383 | S%GGAPDT | 0.00090 | 4 | 3 | 9.7e-10 | 1 | 0.001 | 0.160 | 0.001 | 0.0062 | global-S%GGAPDT | CASSFGGAPDTQYF | TRBV5-1  | TRBJ2-3 | NA | Leukemia:CHP_411_X02-cfDNA                             |    39 | Leukemia           |\n",
       "|  9383 | S%GGAPDT | 0.00090 | 4 | 3 | 9.7e-10 | 1 | 0.001 | 0.160 | 0.001 | 0.0062 | global-S%GGAPDT | CASSFGGAPDTQYF | TRBV5-1  | TRBJ2-3 | NA | T-cellmalignancies:CHP_395_X02-cfDNA                   |    67 | T-cellmalignancies |\n",
       "|  9383 | S%GGAPDT | 0.00090 | 4 | 3 | 9.7e-10 | 1 | 0.001 | 0.160 | 0.001 | 0.0062 | global-S%GGAPDT | CASSLGGAPDTQYF | TRBV11_3 | NA      | NA | MDavis:C0701                                           |     1 | MDavis             |\n",
       "| 11454 | R%AGGTDT | 0.00180 | 2 | 4 | 1.7e-09 | 1 | 0.028 | 0.026 | 0.001 | 0.0023 | global-R%AGGTDT | CASRGAGGTDTQYF | TRBV24-1 | TRBJ2-3 | NA | Leukemia:CHP_367_X02-PBMC                              |    41 | Leukemia           |\n",
       "| 11454 | R%AGGTDT | 0.00180 | 2 | 4 | 1.7e-09 | 1 | 0.028 | 0.026 | 0.001 | 0.0023 | global-R%AGGTDT | CSARGAGGTDTQYF | TRBV20-1 | TRBJ2-3 | NA | Leukemia:CHP_396_X02-PBMC                              |     2 | Leukemia           |\n",
       "| 11454 | R%AGGTDT | 0.00180 | 2 | 4 | 1.7e-09 | 1 | 0.028 | 0.026 | 0.001 | 0.0023 | global-R%AGGTDT | CASRWAGGTDTQYF | TRBV6-2  | TRBJ2-3 | NA | Leukemia:CHP_411_X01-cfDNA                             |     1 | Leukemia           |\n",
       "| 11454 | R%AGGTDT | 0.00180 | 2 | 4 | 1.7e-09 | 1 | 0.028 | 0.026 | 0.001 | 0.0023 | global-R%AGGTDT | CASRWAGGTDTQYF | TRBV6-2  | TRBJ2-3 | NA | T-cellmalignancies:CHP_395_X02-cfDNA                   |  2033 | T-cellmalignancies |\n",
       "| 11454 | R%AGGTDT | 0.00180 | 2 | 4 | 1.7e-09 | 1 | 0.028 | 0.026 | 0.001 | 0.0023 | global-R%AGGTDT | CASRLAGGTDTQYF | TRBV5-4  | TRBJ2-3 | NA | Leukemia:CHP_328_X05-PBMC                              |   259 | Leukemia           |\n",
       "| 11677 | S%GLRTDT | 0.00210 | 2 | 3 | 4.4e-08 | 1 | 0.091 | 0.078 | 0.001 | 0.0062 | global-S%GLRTDT | CASSYGLRTDTQYF | TRBV6_8  | NA      | NA | MDavis:DQA10501                                        |     1 | MDavis             |\n",
       "| 11677 | S%GLRTDT | 0.00210 | 2 | 3 | 4.4e-08 | 1 | 0.091 | 0.078 | 0.001 | 0.0062 | global-S%GLRTDT | CAISPGLRTDTQYF | TRBV10-3 | TRBJ2-3 | NA | T-cellmalignancies:CHP_395_X02-cfDNA                   |   705 | T-cellmalignancies |\n",
       "| 11677 | S%GLRTDT | 0.00210 | 2 | 3 | 4.4e-08 | 1 | 0.091 | 0.078 | 0.001 | 0.0062 | global-S%GLRTDT | CASSAGLRTDTQYF | TRBV9_1  | NA      | NA | MDavis:A1101_B4402_B5101_DQA10103_DRB11301             |     1 | MDavis             |\n",
       "| 13830 | R%RGLNTE | 0.00400 | 4 | 3 | 6.2e-12 | 1 | 0.001 | 0.001 | 0.001 | 0.0062 | global-R%RGLNTE | CASRIRGLNTEAFF | TRBV19   | TRBJ1-1 | NA | Leukemia:CHP_338_X04-PBMC                              |     5 | Leukemia           |\n",
       "| 13830 | R%RGLNTE | 0.00400 | 4 | 3 | 6.2e-12 | 1 | 0.001 | 0.001 | 0.001 | 0.0062 | global-R%RGLNTE | CASRYRGLNTEAFF | TRBV2    | TRBJ1-1 | NA | Solidtumors:CHP_362_X02-PBMC                           |   427 | Solidtumors        |\n",
       "| 13830 | R%RGLNTE | 0.00400 | 4 | 3 | 6.2e-12 | 1 | 0.001 | 0.001 | 0.001 | 0.0062 | global-R%RGLNTE | CASRYRGLNTEAFF | TRBV2    | TRBJ1-1 | NA | Leukemia:CHP_373_X01-PBMC                              |     1 | Leukemia           |\n",
       "| 13830 | R%RGLNTE | 0.00400 | 4 | 3 | 6.2e-12 | 1 | 0.001 | 0.001 | 0.001 | 0.0062 | global-R%RGLNTE | CSARDRGLNTEAFF | TRBV20-1 | TRBJ1-1 | NA | Leukemia:CHP_399_X01-PBMC                              |   348 | Leukemia           |\n",
       "| 13830 | R%RGLNTE | 0.00400 | 4 | 3 | 6.2e-12 | 1 | 0.001 | 0.001 | 0.001 | 0.0062 | global-R%RGLNTE | CSARDRGLNTEAFF | TRBV20-1 | TRBJ1-1 | NA | Leukemia:CHP_396_X01-PBMC                              |    15 | Leukemia           |\n",
       "| 13830 | R%RGLNTE | 0.00400 | 4 | 3 | 6.2e-12 | 1 | 0.001 | 0.001 | 0.001 | 0.0062 | global-R%RGLNTE | CSARDRGLNTEAFF | TRBV20-1 | TRBJ1-1 | NA | Leukemia:CHP_397_X01-cfDNA                             |     5 | Leukemia           |\n",
       "| 13830 | R%RGLNTE | 0.00400 | 4 | 3 | 6.2e-12 | 1 | 0.001 | 0.001 | 0.001 | 0.0062 | global-R%RGLNTE | CSARDRGLNTEAFF | TRBV20-1 | TRBJ1-1 | NA | Leukemia:CHP_382_X02-cfDNA                             |   770 | Leukemia           |\n",
       "| 13830 | R%RGLNTE | 0.00400 | 4 | 3 | 6.2e-12 | 1 | 0.001 | 0.001 | 0.001 | 0.0062 | global-R%RGLNTE | CSARDRGLNTEAFF | TRBV20-1 | TRBJ1-1 | NA | Lymphoma:CHP_380_X05-PBMC                              |    39 | Lymphoma           |\n",
       "| 13830 | R%RGLNTE | 0.00400 | 4 | 3 | 6.2e-12 | 1 | 0.001 | 0.001 | 0.001 | 0.0062 | global-R%RGLNTE | CSARDRGLNTEAFF | TRBV20-1 | TRBJ1-1 | NA | T-cellmalignancies:CHP_395_X01-cfDNA                   | 14418 | T-cellmalignancies |\n",
       "| 13830 | R%RGLNTE | 0.00400 | 4 | 3 | 6.2e-12 | 1 | 0.001 | 0.001 | 0.001 | 0.0062 | global-R%RGLNTE | CSARDRGLNTEAFF | TRBV20-1 | TRBJ1-1 | NA | T-cellmalignancies:CHP_395_X02-cfDNA                   |  1939 | T-cellmalignancies |\n",
       "| 15294 | SL%PGNE  | 0.00550 | 3 | 3 | 2.1e-07 | 1 | 0.040 | 0.840 | 0.001 | 0.0062 | global-SL%PGNE  | CASSLDPGNEQYV  | TRBV9_1  | NA      | NA | MDavis:A2402_B4001_C0303_C0304_C0602_DQB10202_DRB10404 |     1 | MDavis             |\n",
       "| 15294 | SL%PGNE  | 0.00550 | 3 | 3 | 2.1e-07 | 1 | 0.040 | 0.840 | 0.001 | 0.0062 | global-SL%PGNE  | CASSLRPGNEQFF  | TRBV7-9  | TRBJ2-1 | NA | T-cellmalignancies:CHP_395_X02-cfDNA                   |    17 | T-cellmalignancies |\n",
       "| 15294 | SL%PGNE  | 0.00550 | 3 | 3 | 2.1e-07 | 1 | 0.040 | 0.840 | 0.001 | 0.0062 | global-SL%PGNE  | CASSLAPGNEQFF  | NA       | NA      | NA | HomoSapiens:POLE_TSISTAMR                              |     1 | HomoSapiens        |\n",
       "| 15903 | %DRGLNTE | 0.00630 | 4 | 3 | 6.2e-12 | 1 | 0.001 | 0.001 | 0.001 | 0.0062 | global-%DRGLNTE | CSARDRGLNTEAFF | TRBV20-1 | TRBJ1-1 | NA | Leukemia:CHP_399_X01-PBMC                              |   348 | Leukemia           |\n",
       "| 15903 | %DRGLNTE | 0.00630 | 4 | 3 | 6.2e-12 | 1 | 0.001 | 0.001 | 0.001 | 0.0062 | global-%DRGLNTE | CSARDRGLNTEAFF | TRBV20-1 | TRBJ1-1 | NA | Leukemia:CHP_396_X01-PBMC                              |    15 | Leukemia           |\n",
       "| 15903 | %DRGLNTE | 0.00630 | 4 | 3 | 6.2e-12 | 1 | 0.001 | 0.001 | 0.001 | 0.0062 | global-%DRGLNTE | CSARDRGLNTEAFF | TRBV20-1 | TRBJ1-1 | NA | Leukemia:CHP_397_X01-cfDNA                             |     5 | Leukemia           |\n",
       "| 15903 | %DRGLNTE | 0.00630 | 4 | 3 | 6.2e-12 | 1 | 0.001 | 0.001 | 0.001 | 0.0062 | global-%DRGLNTE | CSARDRGLNTEAFF | TRBV20-1 | TRBJ1-1 | NA | Leukemia:CHP_382_X02-cfDNA                             |   770 | Leukemia           |\n",
       "| 15903 | %DRGLNTE | 0.00630 | 4 | 3 | 6.2e-12 | 1 | 0.001 | 0.001 | 0.001 | 0.0062 | global-%DRGLNTE | CSARDRGLNTEAFF | TRBV20-1 | TRBJ1-1 | NA | Lymphoma:CHP_380_X05-PBMC                              |    39 | Lymphoma           |\n",
       "| 15903 | %DRGLNTE | 0.00630 | 4 | 3 | 6.2e-12 | 1 | 0.001 | 0.001 | 0.001 | 0.0062 | global-%DRGLNTE | CSARDRGLNTEAFF | TRBV20-1 | TRBJ1-1 | NA | T-cellmalignancies:CHP_395_X01-cfDNA                   | 14418 | T-cellmalignancies |\n",
       "| 15903 | %DRGLNTE | 0.00630 | 4 | 3 | 6.2e-12 | 1 | 0.001 | 0.001 | 0.001 | 0.0062 | global-%DRGLNTE | CSARDRGLNTEAFF | TRBV20-1 | TRBJ1-1 | NA | T-cellmalignancies:CHP_395_X02-cfDNA                   |  1939 | T-cellmalignancies |\n",
       "| 15903 | %DRGLNTE | 0.00630 | 4 | 3 | 6.2e-12 | 1 | 0.001 | 0.001 | 0.001 | 0.0062 | global-%DRGLNTE | CATSDRGLNTEAFF | TRBV24-1 | TRBJ1-1 | NA | Lymphoma:CHP_344_X05-PBMC                              |    18 | Lymphoma           |\n",
       "| 15903 | %DRGLNTE | 0.00630 | 4 | 3 | 6.2e-12 | 1 | 0.001 | 0.001 | 0.001 | 0.0062 | global-%DRGLNTE | CAISDRGLNTEAFF | TRBV10-3 | TRBJ1-1 | NA | Solidtumors:CHP_358_X03-PBMC                           |    21 | Solidtumors        |\n",
       "| 16862 | SPGL%TDT | 0.00790 | 3 | 3 | 1.6e-07 | 1 | 0.190 | 0.130 | 0.001 | 0.0062 | global-SPGL%TDT | CASSPGLLTDTQYF | TRBV4-2  | TRBJ2-3 | NA | HomoSapiens:MLANA27-35_TAA-AAGIGILTV                   |     1 | HomoSapiens        |\n",
       "| 16862 | SPGL%TDT | 0.00790 | 3 | 3 | 1.6e-07 | 1 | 0.190 | 0.130 | 0.001 | 0.0062 | global-SPGL%TDT | CASSPGLLTDTQYF | TRBV5-1  | TRBJ2-1 | NA | HomoSapiens:MAA_NA                                     |     1 | HomoSapiens        |\n",
       "| 16862 | SPGL%TDT | 0.00790 | 3 | 3 | 1.6e-07 | 1 | 0.190 | 0.130 | 0.001 | 0.0062 | global-SPGL%TDT | CSASPGLSTDTQYF | TRBV20-1 | TRBJ2-3 | NA | Lymphoma:CHP_403_X02-PBMC                              |     5 | Lymphoma           |\n",
       "| 16862 | SPGL%TDT | 0.00790 | 3 | 3 | 1.6e-07 | 1 | 0.190 | 0.130 | 0.001 | 0.0062 | global-SPGL%TDT | CAISPGLRTDTQYF | TRBV10-3 | TRBJ2-3 | NA | T-cellmalignancies:CHP_395_X02-cfDNA                   |   705 | T-cellmalignancies |\n",
       "\n"
      ],
      "text/plain": [
       "   index pattern  Fisher_score number_subject number_unique_cdr3 final_score\n",
       "1   7277 SLQGP%YG 0.00031      3              3                  3.9e-09    \n",
       "2   7277 SLQGP%YG 0.00031      3              3                  3.9e-09    \n",
       "3   7277 SLQGP%YG 0.00031      3              3                  3.9e-09    \n",
       "4   7277 SLQGP%YG 0.00031      3              3                  3.9e-09    \n",
       "5   8185 SIDR%YG  0.00052      3              3                  9.4e-10    \n",
       "6   8185 SIDR%YG  0.00052      3              3                  9.4e-10    \n",
       "7   8185 SIDR%YG  0.00052      3              3                  9.4e-10    \n",
       "8   8185 SIDR%YG  0.00052      3              3                  9.4e-10    \n",
       "9   9383 S%GGAPDT 0.00090      4              3                  9.7e-10    \n",
       "10  9383 S%GGAPDT 0.00090      4              3                  9.7e-10    \n",
       "11  9383 S%GGAPDT 0.00090      4              3                  9.7e-10    \n",
       "12  9383 S%GGAPDT 0.00090      4              3                  9.7e-10    \n",
       "13  9383 S%GGAPDT 0.00090      4              3                  9.7e-10    \n",
       "14  9383 S%GGAPDT 0.00090      4              3                  9.7e-10    \n",
       "15  9383 S%GGAPDT 0.00090      4              3                  9.7e-10    \n",
       "16 11454 R%AGGTDT 0.00180      2              4                  1.7e-09    \n",
       "17 11454 R%AGGTDT 0.00180      2              4                  1.7e-09    \n",
       "18 11454 R%AGGTDT 0.00180      2              4                  1.7e-09    \n",
       "19 11454 R%AGGTDT 0.00180      2              4                  1.7e-09    \n",
       "20 11454 R%AGGTDT 0.00180      2              4                  1.7e-09    \n",
       "21 11677 S%GLRTDT 0.00210      2              3                  4.4e-08    \n",
       "22 11677 S%GLRTDT 0.00210      2              3                  4.4e-08    \n",
       "23 11677 S%GLRTDT 0.00210      2              3                  4.4e-08    \n",
       "24 13830 R%RGLNTE 0.00400      4              3                  6.2e-12    \n",
       "25 13830 R%RGLNTE 0.00400      4              3                  6.2e-12    \n",
       "26 13830 R%RGLNTE 0.00400      4              3                  6.2e-12    \n",
       "27 13830 R%RGLNTE 0.00400      4              3                  6.2e-12    \n",
       "28 13830 R%RGLNTE 0.00400      4              3                  6.2e-12    \n",
       "29 13830 R%RGLNTE 0.00400      4              3                  6.2e-12    \n",
       "30 13830 R%RGLNTE 0.00400      4              3                  6.2e-12    \n",
       "31 13830 R%RGLNTE 0.00400      4              3                  6.2e-12    \n",
       "32 13830 R%RGLNTE 0.00400      4              3                  6.2e-12    \n",
       "33 13830 R%RGLNTE 0.00400      4              3                  6.2e-12    \n",
       "34 15294 SL%PGNE  0.00550      3              3                  2.1e-07    \n",
       "35 15294 SL%PGNE  0.00550      3              3                  2.1e-07    \n",
       "36 15294 SL%PGNE  0.00550      3              3                  2.1e-07    \n",
       "37 15903 %DRGLNTE 0.00630      4              3                  6.2e-12    \n",
       "38 15903 %DRGLNTE 0.00630      4              3                  6.2e-12    \n",
       "39 15903 %DRGLNTE 0.00630      4              3                  6.2e-12    \n",
       "40 15903 %DRGLNTE 0.00630      4              3                  6.2e-12    \n",
       "41 15903 %DRGLNTE 0.00630      4              3                  6.2e-12    \n",
       "42 15903 %DRGLNTE 0.00630      4              3                  6.2e-12    \n",
       "43 15903 %DRGLNTE 0.00630      4              3                  6.2e-12    \n",
       "44 15903 %DRGLNTE 0.00630      4              3                  6.2e-12    \n",
       "45 15903 %DRGLNTE 0.00630      4              3                  6.2e-12    \n",
       "46 16862 SPGL%TDT 0.00790      3              3                  1.6e-07    \n",
       "47 16862 SPGL%TDT 0.00790      3              3                  1.6e-07    \n",
       "48 16862 SPGL%TDT 0.00790      3              3                  1.6e-07    \n",
       "49 16862 SPGL%TDT 0.00790      3              3                  1.6e-07    \n",
       "   hla_score vb_score expansion_score length_score cluster_size_score\n",
       "1  1         0.004    0.160           0.001        0.0062            \n",
       "2  1         0.004    0.160           0.001        0.0062            \n",
       "3  1         0.004    0.160           0.001        0.0062            \n",
       "4  1         0.004    0.160           0.001        0.0062            \n",
       "5  1         0.004    0.038           0.001        0.0062            \n",
       "6  1         0.004    0.038           0.001        0.0062            \n",
       "7  1         0.004    0.038           0.001        0.0062            \n",
       "8  1         0.004    0.038           0.001        0.0062            \n",
       "9  1         0.001    0.160           0.001        0.0062            \n",
       "10 1         0.001    0.160           0.001        0.0062            \n",
       "11 1         0.001    0.160           0.001        0.0062            \n",
       "12 1         0.001    0.160           0.001        0.0062            \n",
       "13 1         0.001    0.160           0.001        0.0062            \n",
       "14 1         0.001    0.160           0.001        0.0062            \n",
       "15 1         0.001    0.160           0.001        0.0062            \n",
       "16 1         0.028    0.026           0.001        0.0023            \n",
       "17 1         0.028    0.026           0.001        0.0023            \n",
       "18 1         0.028    0.026           0.001        0.0023            \n",
       "19 1         0.028    0.026           0.001        0.0023            \n",
       "20 1         0.028    0.026           0.001        0.0023            \n",
       "21 1         0.091    0.078           0.001        0.0062            \n",
       "22 1         0.091    0.078           0.001        0.0062            \n",
       "23 1         0.091    0.078           0.001        0.0062            \n",
       "24 1         0.001    0.001           0.001        0.0062            \n",
       "25 1         0.001    0.001           0.001        0.0062            \n",
       "26 1         0.001    0.001           0.001        0.0062            \n",
       "27 1         0.001    0.001           0.001        0.0062            \n",
       "28 1         0.001    0.001           0.001        0.0062            \n",
       "29 1         0.001    0.001           0.001        0.0062            \n",
       "30 1         0.001    0.001           0.001        0.0062            \n",
       "31 1         0.001    0.001           0.001        0.0062            \n",
       "32 1         0.001    0.001           0.001        0.0062            \n",
       "33 1         0.001    0.001           0.001        0.0062            \n",
       "34 1         0.040    0.840           0.001        0.0062            \n",
       "35 1         0.040    0.840           0.001        0.0062            \n",
       "36 1         0.040    0.840           0.001        0.0062            \n",
       "37 1         0.001    0.001           0.001        0.0062            \n",
       "38 1         0.001    0.001           0.001        0.0062            \n",
       "39 1         0.001    0.001           0.001        0.0062            \n",
       "40 1         0.001    0.001           0.001        0.0062            \n",
       "41 1         0.001    0.001           0.001        0.0062            \n",
       "42 1         0.001    0.001           0.001        0.0062            \n",
       "43 1         0.001    0.001           0.001        0.0062            \n",
       "44 1         0.001    0.001           0.001        0.0062            \n",
       "45 1         0.001    0.001           0.001        0.0062            \n",
       "46 1         0.190    0.130           0.001        0.0062            \n",
       "47 1         0.190    0.130           0.001        0.0062            \n",
       "48 1         0.190    0.130           0.001        0.0062            \n",
       "49 1         0.190    0.130           0.001        0.0062            \n",
       "   type            TcRb           V        J       TcRa\n",
       "1  global-SLQGP%YG CASSLQGPNYGYTF TRBV28   TRBJ1-2 NA  \n",
       "2  global-SLQGP%YG CASSLQGPDYGYTF TRBV5-4  TRBJ1-2 NA  \n",
       "3  global-SLQGP%YG CASSLQGPDYGYTF TRBV5-4  TRBJ1-2 NA  \n",
       "4  global-SLQGP%YG CASSLQGPPYGYTF TRBV12-4 TRBJ1-2 NA  \n",
       "5  global-SIDR%YG  CASSIDRNYGYTF  TRBV19   TRBJ1-2 NA  \n",
       "6  global-SIDR%YG  CASSIDREYGYTF  TRBV19   TRBJ1-2 NA  \n",
       "7  global-SIDR%YG  CASSIDREYGYTF  TRBV19   TRBJ1-2 NA  \n",
       "8  global-SIDR%YG  CASSIDRHYGYTF  TRBV2    TRBJ1-2 NA  \n",
       "9  global-S%GGAPDT CASSVGGAPDTQYF TRBV9    TRBJ2-3 NA  \n",
       "10 global-S%GGAPDT CASSFGGAPDTQYF TRBV5-1  TRBJ2-3 NA  \n",
       "11 global-S%GGAPDT CASSFGGAPDTQYF TRBV5-1  TRBJ2-3 NA  \n",
       "12 global-S%GGAPDT CASSFGGAPDTQYF TRBV5-1  TRBJ2-3 NA  \n",
       "13 global-S%GGAPDT CASSFGGAPDTQYF TRBV5-1  TRBJ2-3 NA  \n",
       "14 global-S%GGAPDT CASSFGGAPDTQYF TRBV5-1  TRBJ2-3 NA  \n",
       "15 global-S%GGAPDT CASSLGGAPDTQYF TRBV11_3 NA      NA  \n",
       "16 global-R%AGGTDT CASRGAGGTDTQYF TRBV24-1 TRBJ2-3 NA  \n",
       "17 global-R%AGGTDT CSARGAGGTDTQYF TRBV20-1 TRBJ2-3 NA  \n",
       "18 global-R%AGGTDT CASRWAGGTDTQYF TRBV6-2  TRBJ2-3 NA  \n",
       "19 global-R%AGGTDT CASRWAGGTDTQYF TRBV6-2  TRBJ2-3 NA  \n",
       "20 global-R%AGGTDT CASRLAGGTDTQYF TRBV5-4  TRBJ2-3 NA  \n",
       "21 global-S%GLRTDT CASSYGLRTDTQYF TRBV6_8  NA      NA  \n",
       "22 global-S%GLRTDT CAISPGLRTDTQYF TRBV10-3 TRBJ2-3 NA  \n",
       "23 global-S%GLRTDT CASSAGLRTDTQYF TRBV9_1  NA      NA  \n",
       "24 global-R%RGLNTE CASRIRGLNTEAFF TRBV19   TRBJ1-1 NA  \n",
       "25 global-R%RGLNTE CASRYRGLNTEAFF TRBV2    TRBJ1-1 NA  \n",
       "26 global-R%RGLNTE CASRYRGLNTEAFF TRBV2    TRBJ1-1 NA  \n",
       "27 global-R%RGLNTE CSARDRGLNTEAFF TRBV20-1 TRBJ1-1 NA  \n",
       "28 global-R%RGLNTE CSARDRGLNTEAFF TRBV20-1 TRBJ1-1 NA  \n",
       "29 global-R%RGLNTE CSARDRGLNTEAFF TRBV20-1 TRBJ1-1 NA  \n",
       "30 global-R%RGLNTE CSARDRGLNTEAFF TRBV20-1 TRBJ1-1 NA  \n",
       "31 global-R%RGLNTE CSARDRGLNTEAFF TRBV20-1 TRBJ1-1 NA  \n",
       "32 global-R%RGLNTE CSARDRGLNTEAFF TRBV20-1 TRBJ1-1 NA  \n",
       "33 global-R%RGLNTE CSARDRGLNTEAFF TRBV20-1 TRBJ1-1 NA  \n",
       "34 global-SL%PGNE  CASSLDPGNEQYV  TRBV9_1  NA      NA  \n",
       "35 global-SL%PGNE  CASSLRPGNEQFF  TRBV7-9  TRBJ2-1 NA  \n",
       "36 global-SL%PGNE  CASSLAPGNEQFF  NA       NA      NA  \n",
       "37 global-%DRGLNTE CSARDRGLNTEAFF TRBV20-1 TRBJ1-1 NA  \n",
       "38 global-%DRGLNTE CSARDRGLNTEAFF TRBV20-1 TRBJ1-1 NA  \n",
       "39 global-%DRGLNTE CSARDRGLNTEAFF TRBV20-1 TRBJ1-1 NA  \n",
       "40 global-%DRGLNTE CSARDRGLNTEAFF TRBV20-1 TRBJ1-1 NA  \n",
       "41 global-%DRGLNTE CSARDRGLNTEAFF TRBV20-1 TRBJ1-1 NA  \n",
       "42 global-%DRGLNTE CSARDRGLNTEAFF TRBV20-1 TRBJ1-1 NA  \n",
       "43 global-%DRGLNTE CSARDRGLNTEAFF TRBV20-1 TRBJ1-1 NA  \n",
       "44 global-%DRGLNTE CATSDRGLNTEAFF TRBV24-1 TRBJ1-1 NA  \n",
       "45 global-%DRGLNTE CAISDRGLNTEAFF TRBV10-3 TRBJ1-1 NA  \n",
       "46 global-SPGL%TDT CASSPGLLTDTQYF TRBV4-2  TRBJ2-3 NA  \n",
       "47 global-SPGL%TDT CASSPGLLTDTQYF TRBV5-1  TRBJ2-1 NA  \n",
       "48 global-SPGL%TDT CSASPGLSTDTQYF TRBV20-1 TRBJ2-3 NA  \n",
       "49 global-SPGL%TDT CAISPGLRTDTQYF TRBV10-3 TRBJ2-3 NA  \n",
       "   Sample                                                 Freq \n",
       "1  Leukemia:CHP_365_X01-PBMC                                455\n",
       "2  T-cellmalignancies:CHP_395_X02-cfDNA                      39\n",
       "3  T-cellmalignancies:CHP_395_X02-cfDNA                       3\n",
       "4  Solidtumors:CHP_414_X02-PBMC                              54\n",
       "5  Solidtumors:CHP_401_X03-PBMC                               7\n",
       "6  Leukemia:CHP_411_X01-cfDNA                              1356\n",
       "7  T-cellmalignancies:CHP_395_X02-cfDNA                       1\n",
       "8  Leukemia:CHP_345_X04-PBMC                                 14\n",
       "9  T-cellmalignancies:CHP_375_X02-PBMC                       10\n",
       "10 Leukemia:CHP_367_X04-cfDNA                               135\n",
       "11 Leukemia:CHP_405_X03-PBMC                                103\n",
       "12 Solidtumors:CHP_390_X02-cfDNA                            633\n",
       "13 Leukemia:CHP_411_X02-cfDNA                                39\n",
       "14 T-cellmalignancies:CHP_395_X02-cfDNA                      67\n",
       "15 MDavis:C0701                                               1\n",
       "16 Leukemia:CHP_367_X02-PBMC                                 41\n",
       "17 Leukemia:CHP_396_X02-PBMC                                  2\n",
       "18 Leukemia:CHP_411_X01-cfDNA                                 1\n",
       "19 T-cellmalignancies:CHP_395_X02-cfDNA                    2033\n",
       "20 Leukemia:CHP_328_X05-PBMC                                259\n",
       "21 MDavis:DQA10501                                            1\n",
       "22 T-cellmalignancies:CHP_395_X02-cfDNA                     705\n",
       "23 MDavis:A1101_B4402_B5101_DQA10103_DRB11301                 1\n",
       "24 Leukemia:CHP_338_X04-PBMC                                  5\n",
       "25 Solidtumors:CHP_362_X02-PBMC                             427\n",
       "26 Leukemia:CHP_373_X01-PBMC                                  1\n",
       "27 Leukemia:CHP_399_X01-PBMC                                348\n",
       "28 Leukemia:CHP_396_X01-PBMC                                 15\n",
       "29 Leukemia:CHP_397_X01-cfDNA                                 5\n",
       "30 Leukemia:CHP_382_X02-cfDNA                               770\n",
       "31 Lymphoma:CHP_380_X05-PBMC                                 39\n",
       "32 T-cellmalignancies:CHP_395_X01-cfDNA                   14418\n",
       "33 T-cellmalignancies:CHP_395_X02-cfDNA                    1939\n",
       "34 MDavis:A2402_B4001_C0303_C0304_C0602_DQB10202_DRB10404     1\n",
       "35 T-cellmalignancies:CHP_395_X02-cfDNA                      17\n",
       "36 HomoSapiens:POLE_TSISTAMR                                  1\n",
       "37 Leukemia:CHP_399_X01-PBMC                                348\n",
       "38 Leukemia:CHP_396_X01-PBMC                                 15\n",
       "39 Leukemia:CHP_397_X01-cfDNA                                 5\n",
       "40 Leukemia:CHP_382_X02-cfDNA                               770\n",
       "41 Lymphoma:CHP_380_X05-PBMC                                 39\n",
       "42 T-cellmalignancies:CHP_395_X01-cfDNA                   14418\n",
       "43 T-cellmalignancies:CHP_395_X02-cfDNA                    1939\n",
       "44 Lymphoma:CHP_344_X05-PBMC                                 18\n",
       "45 Solidtumors:CHP_358_X03-PBMC                              21\n",
       "46 HomoSapiens:MLANA27-35_TAA-AAGIGILTV                       1\n",
       "47 HomoSapiens:MAA_NA                                         1\n",
       "48 Lymphoma:CHP_403_X02-PBMC                                  5\n",
       "49 T-cellmalignancies:CHP_395_X02-cfDNA                     705\n",
       "   subject           \n",
       "1  Leukemia          \n",
       "2  T-cellmalignancies\n",
       "3  T-cellmalignancies\n",
       "4  Solidtumors       \n",
       "5  Solidtumors       \n",
       "6  Leukemia          \n",
       "7  T-cellmalignancies\n",
       "8  Leukemia          \n",
       "9  T-cellmalignancies\n",
       "10 Leukemia          \n",
       "11 Leukemia          \n",
       "12 Solidtumors       \n",
       "13 Leukemia          \n",
       "14 T-cellmalignancies\n",
       "15 MDavis            \n",
       "16 Leukemia          \n",
       "17 Leukemia          \n",
       "18 Leukemia          \n",
       "19 T-cellmalignancies\n",
       "20 Leukemia          \n",
       "21 MDavis            \n",
       "22 T-cellmalignancies\n",
       "23 MDavis            \n",
       "24 Leukemia          \n",
       "25 Solidtumors       \n",
       "26 Leukemia          \n",
       "27 Leukemia          \n",
       "28 Leukemia          \n",
       "29 Leukemia          \n",
       "30 Leukemia          \n",
       "31 Lymphoma          \n",
       "32 T-cellmalignancies\n",
       "33 T-cellmalignancies\n",
       "34 MDavis            \n",
       "35 T-cellmalignancies\n",
       "36 HomoSapiens       \n",
       "37 Leukemia          \n",
       "38 Leukemia          \n",
       "39 Leukemia          \n",
       "40 Leukemia          \n",
       "41 Lymphoma          \n",
       "42 T-cellmalignancies\n",
       "43 T-cellmalignancies\n",
       "44 Lymphoma          \n",
       "45 Solidtumors       \n",
       "46 HomoSapiens       \n",
       "47 HomoSapiens       \n",
       "48 Lymphoma          \n",
       "49 T-cellmalignancies"
      ]
     },
     "metadata": {},
     "output_type": "display_data"
    }
   ],
   "source": [
    "(mygliphout)"
   ]
  },
  {
   "cell_type": "code",
   "execution_count": 165,
   "metadata": {
    "vscode": {
     "languageId": "r"
    }
   },
   "outputs": [],
   "source": [
    "pat_type_long[ is.na(pat_type_long)] <- 0"
   ]
  },
  {
   "cell_type": "code",
   "execution_count": 177,
   "metadata": {
    "vscode": {
     "languageId": "r"
    }
   },
   "outputs": [
    {
     "data": {
      "text/html": [
       "<table class=\"dataframe\">\n",
       "<caption>A data.frame: 6 x 22</caption>\n",
       "<thead>\n",
       "\t<tr><th></th><th scope=col>gliph</th><th scope=col>Sample</th><th scope=col>value</th><th scope=col>CEF</th><th scope=col>CMV</th><th scope=col>EBV</th><th scope=col>HCV</th><th scope=col>HPV</th><th scope=col>HomoSapiens</th><th scope=col>Influenza</th><th scope=col>...</th><th scope=col>Lymphoma</th><th scope=col>M.tuberculosis</th><th scope=col>MCPyV</th><th scope=col>MDavis</th><th scope=col>Normal</th><th scope=col>S.pneumoniae</th><th scope=col>Solidtumors</th><th scope=col>T.cellmalignancies</th><th scope=col>T-cellmalignancies</th><th scope=col>S-pneumoniae</th></tr>\n",
       "\t<tr><th></th><th scope=col>&lt;chr&gt;</th><th scope=col>&lt;chr&gt;</th><th scope=col>&lt;int&gt;</th><th scope=col>&lt;dbl&gt;</th><th scope=col>&lt;dbl&gt;</th><th scope=col>&lt;dbl&gt;</th><th scope=col>&lt;dbl&gt;</th><th scope=col>&lt;dbl&gt;</th><th scope=col>&lt;dbl&gt;</th><th scope=col>&lt;dbl&gt;</th><th scope=col>...</th><th scope=col>&lt;dbl&gt;</th><th scope=col>&lt;dbl&gt;</th><th scope=col>&lt;dbl&gt;</th><th scope=col>&lt;dbl&gt;</th><th scope=col>&lt;dbl&gt;</th><th scope=col>&lt;dbl&gt;</th><th scope=col>&lt;dbl&gt;</th><th scope=col>&lt;dbl&gt;</th><th scope=col>&lt;dbl&gt;</th><th scope=col>&lt;dbl&gt;</th></tr>\n",
       "</thead>\n",
       "<tbody>\n",
       "\t<tr><th scope=row>1</th><td>S%QGMNTE </td><td>Leukemia:CHP_319_X05-PBMC</td><td>1</td><td>0</td><td>0</td><td>0</td><td>0</td><td>0</td><td>0</td><td>0</td><td>...</td><td>0</td><td>0</td><td>0</td><td> 7</td><td>0</td><td>0</td><td>0</td><td>0</td><td>0</td><td>0</td></tr>\n",
       "\t<tr><th scope=row>2</th><td>SLGLAG%ET</td><td>Leukemia:CHP_319_X05-PBMC</td><td>1</td><td>0</td><td>0</td><td>0</td><td>0</td><td>0</td><td>0</td><td>0</td><td>...</td><td>0</td><td>0</td><td>0</td><td>10</td><td>0</td><td>0</td><td>0</td><td>0</td><td>0</td><td>0</td></tr>\n",
       "\t<tr><th scope=row>3</th><td>STG%ANSP </td><td>Leukemia:CHP_319_X05-PBMC</td><td>1</td><td>0</td><td>0</td><td>0</td><td>0</td><td>0</td><td>0</td><td>0</td><td>...</td><td>0</td><td>0</td><td>0</td><td> 0</td><td>0</td><td>0</td><td>2</td><td>0</td><td>0</td><td>0</td></tr>\n",
       "\t<tr><th scope=row>4</th><td>%GGNQP   </td><td>Leukemia:CHP_323_X03-PBMC</td><td>1</td><td>0</td><td>0</td><td>0</td><td>0</td><td>0</td><td>0</td><td>0</td><td>...</td><td>0</td><td>0</td><td>0</td><td> 0</td><td>0</td><td>0</td><td>0</td><td>0</td><td>0</td><td>0</td></tr>\n",
       "\t<tr><th scope=row>5</th><td>RR%QET   </td><td>Leukemia:CHP_323_X03-PBMC</td><td>1</td><td>0</td><td>0</td><td>0</td><td>0</td><td>0</td><td>0</td><td>0</td><td>...</td><td>0</td><td>0</td><td>0</td><td> 1</td><td>0</td><td>0</td><td>0</td><td>0</td><td>0</td><td>0</td></tr>\n",
       "\t<tr><th scope=row>6</th><td>S%AYE    </td><td>Leukemia:CHP_323_X03-PBMC</td><td>1</td><td>0</td><td>0</td><td>0</td><td>0</td><td>0</td><td>0</td><td>0</td><td>...</td><td>0</td><td>0</td><td>0</td><td> 0</td><td>0</td><td>0</td><td>3</td><td>0</td><td>0</td><td>0</td></tr>\n",
       "</tbody>\n",
       "</table>\n"
      ],
      "text/latex": [
       "A data.frame: 6 x 22\n",
       "\\begin{tabular}{r|lllllllllllllllllllll}\n",
       "  & gliph & Sample & value & CEF & CMV & EBV & HCV & HPV & HomoSapiens & Influenza & ... & Lymphoma & M.tuberculosis & MCPyV & MDavis & Normal & S.pneumoniae & Solidtumors & T.cellmalignancies & T-cellmalignancies & S-pneumoniae\\\\\n",
       "  & <chr> & <chr> & <int> & <dbl> & <dbl> & <dbl> & <dbl> & <dbl> & <dbl> & <dbl> & ... & <dbl> & <dbl> & <dbl> & <dbl> & <dbl> & <dbl> & <dbl> & <dbl> & <dbl> & <dbl>\\\\\n",
       "\\hline\n",
       "\t1 & S\\%QGMNTE  & Leukemia:CHP\\_319\\_X05-PBMC & 1 & 0 & 0 & 0 & 0 & 0 & 0 & 0 & ... & 0 & 0 & 0 &  7 & 0 & 0 & 0 & 0 & 0 & 0\\\\\n",
       "\t2 & SLGLAG\\%ET & Leukemia:CHP\\_319\\_X05-PBMC & 1 & 0 & 0 & 0 & 0 & 0 & 0 & 0 & ... & 0 & 0 & 0 & 10 & 0 & 0 & 0 & 0 & 0 & 0\\\\\n",
       "\t3 & STG\\%ANSP  & Leukemia:CHP\\_319\\_X05-PBMC & 1 & 0 & 0 & 0 & 0 & 0 & 0 & 0 & ... & 0 & 0 & 0 &  0 & 0 & 0 & 2 & 0 & 0 & 0\\\\\n",
       "\t4 & \\%GGNQP    & Leukemia:CHP\\_323\\_X03-PBMC & 1 & 0 & 0 & 0 & 0 & 0 & 0 & 0 & ... & 0 & 0 & 0 &  0 & 0 & 0 & 0 & 0 & 0 & 0\\\\\n",
       "\t5 & RR\\%QET    & Leukemia:CHP\\_323\\_X03-PBMC & 1 & 0 & 0 & 0 & 0 & 0 & 0 & 0 & ... & 0 & 0 & 0 &  1 & 0 & 0 & 0 & 0 & 0 & 0\\\\\n",
       "\t6 & S\\%AYE     & Leukemia:CHP\\_323\\_X03-PBMC & 1 & 0 & 0 & 0 & 0 & 0 & 0 & 0 & ... & 0 & 0 & 0 &  0 & 0 & 0 & 3 & 0 & 0 & 0\\\\\n",
       "\\end{tabular}\n"
      ],
      "text/markdown": [
       "\n",
       "A data.frame: 6 x 22\n",
       "\n",
       "| <!--/--> | gliph &lt;chr&gt; | Sample &lt;chr&gt; | value &lt;int&gt; | CEF &lt;dbl&gt; | CMV &lt;dbl&gt; | EBV &lt;dbl&gt; | HCV &lt;dbl&gt; | HPV &lt;dbl&gt; | HomoSapiens &lt;dbl&gt; | Influenza &lt;dbl&gt; | ... ... | Lymphoma &lt;dbl&gt; | M.tuberculosis &lt;dbl&gt; | MCPyV &lt;dbl&gt; | MDavis &lt;dbl&gt; | Normal &lt;dbl&gt; | S.pneumoniae &lt;dbl&gt; | Solidtumors &lt;dbl&gt; | T.cellmalignancies &lt;dbl&gt; | T-cellmalignancies &lt;dbl&gt; | S-pneumoniae &lt;dbl&gt; |\n",
       "|---|---|---|---|---|---|---|---|---|---|---|---|---|---|---|---|---|---|---|---|---|---|\n",
       "| 1 | S%QGMNTE  | Leukemia:CHP_319_X05-PBMC | 1 | 0 | 0 | 0 | 0 | 0 | 0 | 0 | ... | 0 | 0 | 0 |  7 | 0 | 0 | 0 | 0 | 0 | 0 |\n",
       "| 2 | SLGLAG%ET | Leukemia:CHP_319_X05-PBMC | 1 | 0 | 0 | 0 | 0 | 0 | 0 | 0 | ... | 0 | 0 | 0 | 10 | 0 | 0 | 0 | 0 | 0 | 0 |\n",
       "| 3 | STG%ANSP  | Leukemia:CHP_319_X05-PBMC | 1 | 0 | 0 | 0 | 0 | 0 | 0 | 0 | ... | 0 | 0 | 0 |  0 | 0 | 0 | 2 | 0 | 0 | 0 |\n",
       "| 4 | %GGNQP    | Leukemia:CHP_323_X03-PBMC | 1 | 0 | 0 | 0 | 0 | 0 | 0 | 0 | ... | 0 | 0 | 0 |  0 | 0 | 0 | 0 | 0 | 0 | 0 |\n",
       "| 5 | RR%QET    | Leukemia:CHP_323_X03-PBMC | 1 | 0 | 0 | 0 | 0 | 0 | 0 | 0 | ... | 0 | 0 | 0 |  1 | 0 | 0 | 0 | 0 | 0 | 0 |\n",
       "| 6 | S%AYE     | Leukemia:CHP_323_X03-PBMC | 1 | 0 | 0 | 0 | 0 | 0 | 0 | 0 | ... | 0 | 0 | 0 |  0 | 0 | 0 | 3 | 0 | 0 | 0 |\n",
       "\n"
      ],
      "text/plain": [
       "  gliph     Sample                    value CEF CMV EBV HCV HPV HomoSapiens\n",
       "1 S%QGMNTE  Leukemia:CHP_319_X05-PBMC 1     0   0   0   0   0   0          \n",
       "2 SLGLAG%ET Leukemia:CHP_319_X05-PBMC 1     0   0   0   0   0   0          \n",
       "3 STG%ANSP  Leukemia:CHP_319_X05-PBMC 1     0   0   0   0   0   0          \n",
       "4 %GGNQP    Leukemia:CHP_323_X03-PBMC 1     0   0   0   0   0   0          \n",
       "5 RR%QET    Leukemia:CHP_323_X03-PBMC 1     0   0   0   0   0   0          \n",
       "6 S%AYE     Leukemia:CHP_323_X03-PBMC 1     0   0   0   0   0   0          \n",
       "  Influenza ... Lymphoma M.tuberculosis MCPyV MDavis Normal S.pneumoniae\n",
       "1 0         ... 0        0              0      7     0      0           \n",
       "2 0         ... 0        0              0     10     0      0           \n",
       "3 0         ... 0        0              0      0     0      0           \n",
       "4 0         ... 0        0              0      0     0      0           \n",
       "5 0         ... 0        0              0      1     0      0           \n",
       "6 0         ... 0        0              0      0     0      0           \n",
       "  Solidtumors T.cellmalignancies T-cellmalignancies S-pneumoniae\n",
       "1 0           0                  0                  0           \n",
       "2 0           0                  0                  0           \n",
       "3 2           0                  0                  0           \n",
       "4 0           0                  0                  0           \n",
       "5 0           0                  0                  0           \n",
       "6 3           0                  0                  0           "
      ]
     },
     "metadata": {},
     "output_type": "display_data"
    }
   ],
   "source": [
    "head(pat_type_long)"
   ]
  },
  {
   "cell_type": "code",
   "execution_count": 168,
   "metadata": {
    "vscode": {
     "languageId": "r"
    }
   },
   "outputs": [
    {
     "data": {
      "text/html": [
       "<table class=\"dataframe\">\n",
       "<caption>A data.frame: 6 x 20</caption>\n",
       "<thead>\n",
       "\t<tr><th></th><th scope=col>CMV</th><th scope=col>EBV</th><th scope=col>HCV</th><th scope=col>Influenza</th><th scope=col>HomoSapiens</th><th scope=col>MDavis</th><th scope=col>HPV</th><th scope=col>CEF</th><th scope=col>TB</th><th scope=col>MCPyV</th><th scope=col>S-pneumoniae</th><th scope=col>n_cdr3</th><th scope=col>n_gliph</th><th scope=col>n_cdr3ingliph</th><th scope=col>cancergroup</th><th scope=col>cycle</th><th scope=col>sampletype</th><th scope=col>cyclenum</th><th scope=col>Patient</th><th scope=col>Age</th></tr>\n",
       "\t<tr><th></th><th scope=col>&lt;dbl&gt;</th><th scope=col>&lt;dbl&gt;</th><th scope=col>&lt;dbl&gt;</th><th scope=col>&lt;dbl&gt;</th><th scope=col>&lt;dbl&gt;</th><th scope=col>&lt;dbl&gt;</th><th scope=col>&lt;dbl&gt;</th><th scope=col>&lt;dbl&gt;</th><th scope=col>&lt;dbl&gt;</th><th scope=col>&lt;dbl&gt;</th><th scope=col>&lt;dbl&gt;</th><th scope=col>&lt;int&gt;</th><th scope=col>&lt;dbl&gt;</th><th scope=col>&lt;int&gt;</th><th scope=col>&lt;chr&gt;</th><th scope=col>&lt;chr&gt;</th><th scope=col>&lt;chr&gt;</th><th scope=col>&lt;dbl&gt;</th><th scope=col>&lt;chr&gt;</th><th scope=col>&lt;dbl&gt;</th></tr>\n",
       "</thead>\n",
       "<tbody>\n",
       "\t<tr><th scope=row>Leukemia:CHP_319_X05-PBMC</th><td>0</td><td>0</td><td>0</td><td>0</td><td>0</td><td> 2</td><td>0</td><td>0</td><td>0</td><td>0</td><td>0</td><td> 15</td><td> 3</td><td> 3</td><td>Leukemia</td><td>X05</td><td>PBMC </td><td>5</td><td>CHP_319</td><td>1</td></tr>\n",
       "\t<tr><th scope=row>Leukemia:CHP_323_X03-PBMC</th><td>2</td><td>0</td><td>1</td><td>0</td><td>0</td><td>16</td><td>0</td><td>0</td><td>0</td><td>1</td><td>0</td><td> 45</td><td>21</td><td>12</td><td>Leukemia</td><td>X03</td><td>PBMC </td><td>3</td><td>CHP_323</td><td>1</td></tr>\n",
       "\t<tr><th scope=row>Leukemia:CHP_323_X03-cfDNA</th><td>2</td><td>0</td><td>0</td><td>0</td><td>4</td><td>33</td><td>0</td><td>0</td><td>0</td><td>0</td><td>1</td><td>103</td><td>49</td><td>25</td><td>Leukemia</td><td>X03</td><td>cfDNA</td><td>3</td><td>CHP_323</td><td>1</td></tr>\n",
       "\t<tr><th scope=row>Leukemia:CHP_323_X05-PBMC</th><td>1</td><td>0</td><td>0</td><td>0</td><td>2</td><td>47</td><td>0</td><td>0</td><td>0</td><td>1</td><td>0</td><td>153</td><td>71</td><td>36</td><td>Leukemia</td><td>X05</td><td>PBMC </td><td>5</td><td>CHP_323</td><td>1</td></tr>\n",
       "\t<tr><th scope=row>Leukemia:CHP_323_X05-cfDNA</th><td>0</td><td>0</td><td>0</td><td>0</td><td>0</td><td> 4</td><td>0</td><td>0</td><td>0</td><td>0</td><td>0</td><td> 15</td><td> 6</td><td> 2</td><td>Leukemia</td><td>X05</td><td>cfDNA</td><td>5</td><td>CHP_323</td><td>1</td></tr>\n",
       "\t<tr><th scope=row>Leukemia:CHP_326_X05-cfDNA</th><td>0</td><td>0</td><td>3</td><td>0</td><td>0</td><td> 5</td><td>0</td><td>0</td><td>0</td><td>0</td><td>0</td><td> 25</td><td> 8</td><td> 4</td><td>Leukemia</td><td>X05</td><td>cfDNA</td><td>5</td><td>CHP_326</td><td>4</td></tr>\n",
       "</tbody>\n",
       "</table>\n"
      ],
      "text/latex": [
       "A data.frame: 6 x 20\n",
       "\\begin{tabular}{r|llllllllllllllllllll}\n",
       "  & CMV & EBV & HCV & Influenza & HomoSapiens & MDavis & HPV & CEF & TB & MCPyV & S-pneumoniae & n\\_cdr3 & n\\_gliph & n\\_cdr3ingliph & cancergroup & cycle & sampletype & cyclenum & Patient & Age\\\\\n",
       "  & <dbl> & <dbl> & <dbl> & <dbl> & <dbl> & <dbl> & <dbl> & <dbl> & <dbl> & <dbl> & <dbl> & <int> & <dbl> & <int> & <chr> & <chr> & <chr> & <dbl> & <chr> & <dbl>\\\\\n",
       "\\hline\n",
       "\tLeukemia:CHP\\_319\\_X05-PBMC & 0 & 0 & 0 & 0 & 0 &  2 & 0 & 0 & 0 & 0 & 0 &  15 &  3 &  3 & Leukemia & X05 & PBMC  & 5 & CHP\\_319 & 1\\\\\n",
       "\tLeukemia:CHP\\_323\\_X03-PBMC & 2 & 0 & 1 & 0 & 0 & 16 & 0 & 0 & 0 & 1 & 0 &  45 & 21 & 12 & Leukemia & X03 & PBMC  & 3 & CHP\\_323 & 1\\\\\n",
       "\tLeukemia:CHP\\_323\\_X03-cfDNA & 2 & 0 & 0 & 0 & 4 & 33 & 0 & 0 & 0 & 0 & 1 & 103 & 49 & 25 & Leukemia & X03 & cfDNA & 3 & CHP\\_323 & 1\\\\\n",
       "\tLeukemia:CHP\\_323\\_X05-PBMC & 1 & 0 & 0 & 0 & 2 & 47 & 0 & 0 & 0 & 1 & 0 & 153 & 71 & 36 & Leukemia & X05 & PBMC  & 5 & CHP\\_323 & 1\\\\\n",
       "\tLeukemia:CHP\\_323\\_X05-cfDNA & 0 & 0 & 0 & 0 & 0 &  4 & 0 & 0 & 0 & 0 & 0 &  15 &  6 &  2 & Leukemia & X05 & cfDNA & 5 & CHP\\_323 & 1\\\\\n",
       "\tLeukemia:CHP\\_326\\_X05-cfDNA & 0 & 0 & 3 & 0 & 0 &  5 & 0 & 0 & 0 & 0 & 0 &  25 &  8 &  4 & Leukemia & X05 & cfDNA & 5 & CHP\\_326 & 4\\\\\n",
       "\\end{tabular}\n"
      ],
      "text/markdown": [
       "\n",
       "A data.frame: 6 x 20\n",
       "\n",
       "| <!--/--> | CMV &lt;dbl&gt; | EBV &lt;dbl&gt; | HCV &lt;dbl&gt; | Influenza &lt;dbl&gt; | HomoSapiens &lt;dbl&gt; | MDavis &lt;dbl&gt; | HPV &lt;dbl&gt; | CEF &lt;dbl&gt; | TB &lt;dbl&gt; | MCPyV &lt;dbl&gt; | S-pneumoniae &lt;dbl&gt; | n_cdr3 &lt;int&gt; | n_gliph &lt;dbl&gt; | n_cdr3ingliph &lt;int&gt; | cancergroup &lt;chr&gt; | cycle &lt;chr&gt; | sampletype &lt;chr&gt; | cyclenum &lt;dbl&gt; | Patient &lt;chr&gt; | Age &lt;dbl&gt; |\n",
       "|---|---|---|---|---|---|---|---|---|---|---|---|---|---|---|---|---|---|---|---|---|\n",
       "| Leukemia:CHP_319_X05-PBMC | 0 | 0 | 0 | 0 | 0 |  2 | 0 | 0 | 0 | 0 | 0 |  15 |  3 |  3 | Leukemia | X05 | PBMC  | 5 | CHP_319 | 1 |\n",
       "| Leukemia:CHP_323_X03-PBMC | 2 | 0 | 1 | 0 | 0 | 16 | 0 | 0 | 0 | 1 | 0 |  45 | 21 | 12 | Leukemia | X03 | PBMC  | 3 | CHP_323 | 1 |\n",
       "| Leukemia:CHP_323_X03-cfDNA | 2 | 0 | 0 | 0 | 4 | 33 | 0 | 0 | 0 | 0 | 1 | 103 | 49 | 25 | Leukemia | X03 | cfDNA | 3 | CHP_323 | 1 |\n",
       "| Leukemia:CHP_323_X05-PBMC | 1 | 0 | 0 | 0 | 2 | 47 | 0 | 0 | 0 | 1 | 0 | 153 | 71 | 36 | Leukemia | X05 | PBMC  | 5 | CHP_323 | 1 |\n",
       "| Leukemia:CHP_323_X05-cfDNA | 0 | 0 | 0 | 0 | 0 |  4 | 0 | 0 | 0 | 0 | 0 |  15 |  6 |  2 | Leukemia | X05 | cfDNA | 5 | CHP_323 | 1 |\n",
       "| Leukemia:CHP_326_X05-cfDNA | 0 | 0 | 3 | 0 | 0 |  5 | 0 | 0 | 0 | 0 | 0 |  25 |  8 |  4 | Leukemia | X05 | cfDNA | 5 | CHP_326 | 4 |\n",
       "\n"
      ],
      "text/plain": [
       "                           CMV EBV HCV Influenza HomoSapiens MDavis HPV CEF TB\n",
       "Leukemia:CHP_319_X05-PBMC  0   0   0   0         0            2     0   0   0 \n",
       "Leukemia:CHP_323_X03-PBMC  2   0   1   0         0           16     0   0   0 \n",
       "Leukemia:CHP_323_X03-cfDNA 2   0   0   0         4           33     0   0   0 \n",
       "Leukemia:CHP_323_X05-PBMC  1   0   0   0         2           47     0   0   0 \n",
       "Leukemia:CHP_323_X05-cfDNA 0   0   0   0         0            4     0   0   0 \n",
       "Leukemia:CHP_326_X05-cfDNA 0   0   3   0         0            5     0   0   0 \n",
       "                           MCPyV S-pneumoniae n_cdr3 n_gliph n_cdr3ingliph\n",
       "Leukemia:CHP_319_X05-PBMC  0     0             15     3       3           \n",
       "Leukemia:CHP_323_X03-PBMC  1     0             45    21      12           \n",
       "Leukemia:CHP_323_X03-cfDNA 0     1            103    49      25           \n",
       "Leukemia:CHP_323_X05-PBMC  1     0            153    71      36           \n",
       "Leukemia:CHP_323_X05-cfDNA 0     0             15     6       2           \n",
       "Leukemia:CHP_326_X05-cfDNA 0     0             25     8       4           \n",
       "                           cancergroup cycle sampletype cyclenum Patient Age\n",
       "Leukemia:CHP_319_X05-PBMC  Leukemia    X05   PBMC       5        CHP_319 1  \n",
       "Leukemia:CHP_323_X03-PBMC  Leukemia    X03   PBMC       3        CHP_323 1  \n",
       "Leukemia:CHP_323_X03-cfDNA Leukemia    X03   cfDNA      3        CHP_323 1  \n",
       "Leukemia:CHP_323_X05-PBMC  Leukemia    X05   PBMC       5        CHP_323 1  \n",
       "Leukemia:CHP_323_X05-cfDNA Leukemia    X05   cfDNA      5        CHP_323 1  \n",
       "Leukemia:CHP_326_X05-cfDNA Leukemia    X05   cfDNA      5        CHP_326 4  "
      ]
     },
     "metadata": {},
     "output_type": "display_data"
    }
   ],
   "source": [
    "head(samples_tcr)"
   ]
  },
  {
   "cell_type": "code",
   "execution_count": 180,
   "metadata": {
    "vscode": {
     "languageId": "r"
    }
   },
   "outputs": [],
   "source": [
    "samples_tcr_cdr3 <- pat_type_long %>% group_by(Sample) %>% summarise(across(4:21, ~sum(.x, na.rm = TRUE)))"
   ]
  },
  {
   "cell_type": "code",
   "execution_count": 181,
   "metadata": {
    "vscode": {
     "languageId": "r"
    }
   },
   "outputs": [
    {
     "data": {
      "text/html": [
       "<table class=\"dataframe\">\n",
       "<caption>A tibble: 6 x 19</caption>\n",
       "<thead>\n",
       "\t<tr><th scope=col>Sample</th><th scope=col>CMV</th><th scope=col>EBV</th><th scope=col>HCV</th><th scope=col>HPV</th><th scope=col>HomoSapiens</th><th scope=col>Influenza</th><th scope=col>LFS</th><th scope=col>Leukemia</th><th scope=col>Lymphoma</th><th scope=col>M.tuberculosis</th><th scope=col>MCPyV</th><th scope=col>MDavis</th><th scope=col>Normal</th><th scope=col>S.pneumoniae</th><th scope=col>Solidtumors</th><th scope=col>T.cellmalignancies</th><th scope=col>T-cellmalignancies</th><th scope=col>S-pneumoniae</th></tr>\n",
       "\t<tr><th scope=col>&lt;chr&gt;</th><th scope=col>&lt;dbl&gt;</th><th scope=col>&lt;dbl&gt;</th><th scope=col>&lt;dbl&gt;</th><th scope=col>&lt;dbl&gt;</th><th scope=col>&lt;dbl&gt;</th><th scope=col>&lt;dbl&gt;</th><th scope=col>&lt;dbl&gt;</th><th scope=col>&lt;dbl&gt;</th><th scope=col>&lt;dbl&gt;</th><th scope=col>&lt;dbl&gt;</th><th scope=col>&lt;dbl&gt;</th><th scope=col>&lt;dbl&gt;</th><th scope=col>&lt;dbl&gt;</th><th scope=col>&lt;dbl&gt;</th><th scope=col>&lt;dbl&gt;</th><th scope=col>&lt;dbl&gt;</th><th scope=col>&lt;dbl&gt;</th><th scope=col>&lt;dbl&gt;</th></tr>\n",
       "</thead>\n",
       "<tbody>\n",
       "\t<tr><td>Leukemia:CHP_319_X05-PBMC </td><td>0</td><td>0</td><td>0</td><td>0</td><td>0</td><td>0</td><td> 1</td><td>  8</td><td> 0</td><td>0</td><td>0</td><td> 17</td><td>0</td><td>0</td><td>  2</td><td>0</td><td> 0</td><td>0</td></tr>\n",
       "\t<tr><td>Leukemia:CHP_323_X03-PBMC </td><td>2</td><td>0</td><td>2</td><td>0</td><td>0</td><td>0</td><td> 5</td><td> 73</td><td> 0</td><td>0</td><td>1</td><td> 41</td><td>0</td><td>0</td><td> 23</td><td>0</td><td> 2</td><td>0</td></tr>\n",
       "\t<tr><td>Leukemia:CHP_323_X03-cfDNA</td><td>2</td><td>0</td><td>0</td><td>0</td><td>4</td><td>0</td><td> 6</td><td>207</td><td>12</td><td>0</td><td>0</td><td>177</td><td>2</td><td>0</td><td> 73</td><td>0</td><td> 3</td><td>1</td></tr>\n",
       "\t<tr><td>Leukemia:CHP_323_X05-PBMC </td><td>1</td><td>0</td><td>0</td><td>0</td><td>2</td><td>0</td><td>10</td><td>323</td><td>26</td><td>0</td><td>1</td><td>241</td><td>0</td><td>0</td><td>123</td><td>0</td><td>14</td><td>0</td></tr>\n",
       "\t<tr><td>Leukemia:CHP_323_X05-cfDNA</td><td>0</td><td>0</td><td>0</td><td>0</td><td>0</td><td>0</td><td> 2</td><td> 19</td><td> 1</td><td>0</td><td>0</td><td> 15</td><td>0</td><td>0</td><td>  4</td><td>0</td><td> 1</td><td>0</td></tr>\n",
       "\t<tr><td>Leukemia:CHP_326_X05-cfDNA</td><td>0</td><td>0</td><td>3</td><td>0</td><td>0</td><td>0</td><td> 2</td><td> 53</td><td> 6</td><td>0</td><td>0</td><td> 15</td><td>2</td><td>0</td><td> 10</td><td>0</td><td> 2</td><td>0</td></tr>\n",
       "</tbody>\n",
       "</table>\n"
      ],
      "text/latex": [
       "A tibble: 6 x 19\n",
       "\\begin{tabular}{lllllllllllllllllll}\n",
       " Sample & CMV & EBV & HCV & HPV & HomoSapiens & Influenza & LFS & Leukemia & Lymphoma & M.tuberculosis & MCPyV & MDavis & Normal & S.pneumoniae & Solidtumors & T.cellmalignancies & T-cellmalignancies & S-pneumoniae\\\\\n",
       " <chr> & <dbl> & <dbl> & <dbl> & <dbl> & <dbl> & <dbl> & <dbl> & <dbl> & <dbl> & <dbl> & <dbl> & <dbl> & <dbl> & <dbl> & <dbl> & <dbl> & <dbl> & <dbl>\\\\\n",
       "\\hline\n",
       "\t Leukemia:CHP\\_319\\_X05-PBMC  & 0 & 0 & 0 & 0 & 0 & 0 &  1 &   8 &  0 & 0 & 0 &  17 & 0 & 0 &   2 & 0 &  0 & 0\\\\\n",
       "\t Leukemia:CHP\\_323\\_X03-PBMC  & 2 & 0 & 2 & 0 & 0 & 0 &  5 &  73 &  0 & 0 & 1 &  41 & 0 & 0 &  23 & 0 &  2 & 0\\\\\n",
       "\t Leukemia:CHP\\_323\\_X03-cfDNA & 2 & 0 & 0 & 0 & 4 & 0 &  6 & 207 & 12 & 0 & 0 & 177 & 2 & 0 &  73 & 0 &  3 & 1\\\\\n",
       "\t Leukemia:CHP\\_323\\_X05-PBMC  & 1 & 0 & 0 & 0 & 2 & 0 & 10 & 323 & 26 & 0 & 1 & 241 & 0 & 0 & 123 & 0 & 14 & 0\\\\\n",
       "\t Leukemia:CHP\\_323\\_X05-cfDNA & 0 & 0 & 0 & 0 & 0 & 0 &  2 &  19 &  1 & 0 & 0 &  15 & 0 & 0 &   4 & 0 &  1 & 0\\\\\n",
       "\t Leukemia:CHP\\_326\\_X05-cfDNA & 0 & 0 & 3 & 0 & 0 & 0 &  2 &  53 &  6 & 0 & 0 &  15 & 2 & 0 &  10 & 0 &  2 & 0\\\\\n",
       "\\end{tabular}\n"
      ],
      "text/markdown": [
       "\n",
       "A tibble: 6 x 19\n",
       "\n",
       "| Sample &lt;chr&gt; | CMV &lt;dbl&gt; | EBV &lt;dbl&gt; | HCV &lt;dbl&gt; | HPV &lt;dbl&gt; | HomoSapiens &lt;dbl&gt; | Influenza &lt;dbl&gt; | LFS &lt;dbl&gt; | Leukemia &lt;dbl&gt; | Lymphoma &lt;dbl&gt; | M.tuberculosis &lt;dbl&gt; | MCPyV &lt;dbl&gt; | MDavis &lt;dbl&gt; | Normal &lt;dbl&gt; | S.pneumoniae &lt;dbl&gt; | Solidtumors &lt;dbl&gt; | T.cellmalignancies &lt;dbl&gt; | T-cellmalignancies &lt;dbl&gt; | S-pneumoniae &lt;dbl&gt; |\n",
       "|---|---|---|---|---|---|---|---|---|---|---|---|---|---|---|---|---|---|---|\n",
       "| Leukemia:CHP_319_X05-PBMC  | 0 | 0 | 0 | 0 | 0 | 0 |  1 |   8 |  0 | 0 | 0 |  17 | 0 | 0 |   2 | 0 |  0 | 0 |\n",
       "| Leukemia:CHP_323_X03-PBMC  | 2 | 0 | 2 | 0 | 0 | 0 |  5 |  73 |  0 | 0 | 1 |  41 | 0 | 0 |  23 | 0 |  2 | 0 |\n",
       "| Leukemia:CHP_323_X03-cfDNA | 2 | 0 | 0 | 0 | 4 | 0 |  6 | 207 | 12 | 0 | 0 | 177 | 2 | 0 |  73 | 0 |  3 | 1 |\n",
       "| Leukemia:CHP_323_X05-PBMC  | 1 | 0 | 0 | 0 | 2 | 0 | 10 | 323 | 26 | 0 | 1 | 241 | 0 | 0 | 123 | 0 | 14 | 0 |\n",
       "| Leukemia:CHP_323_X05-cfDNA | 0 | 0 | 0 | 0 | 0 | 0 |  2 |  19 |  1 | 0 | 0 |  15 | 0 | 0 |   4 | 0 |  1 | 0 |\n",
       "| Leukemia:CHP_326_X05-cfDNA | 0 | 0 | 3 | 0 | 0 | 0 |  2 |  53 |  6 | 0 | 0 |  15 | 2 | 0 |  10 | 0 |  2 | 0 |\n",
       "\n"
      ],
      "text/plain": [
       "  Sample                     CMV EBV HCV HPV HomoSapiens Influenza LFS Leukemia\n",
       "1 Leukemia:CHP_319_X05-PBMC  0   0   0   0   0           0          1    8     \n",
       "2 Leukemia:CHP_323_X03-PBMC  2   0   2   0   0           0          5   73     \n",
       "3 Leukemia:CHP_323_X03-cfDNA 2   0   0   0   4           0          6  207     \n",
       "4 Leukemia:CHP_323_X05-PBMC  1   0   0   0   2           0         10  323     \n",
       "5 Leukemia:CHP_323_X05-cfDNA 0   0   0   0   0           0          2   19     \n",
       "6 Leukemia:CHP_326_X05-cfDNA 0   0   3   0   0           0          2   53     \n",
       "  Lymphoma M.tuberculosis MCPyV MDavis Normal S.pneumoniae Solidtumors\n",
       "1  0       0              0      17    0      0              2        \n",
       "2  0       0              1      41    0      0             23        \n",
       "3 12       0              0     177    2      0             73        \n",
       "4 26       0              1     241    0      0            123        \n",
       "5  1       0              0      15    0      0              4        \n",
       "6  6       0              0      15    2      0             10        \n",
       "  T.cellmalignancies T-cellmalignancies S-pneumoniae\n",
       "1 0                   0                 0           \n",
       "2 0                   2                 0           \n",
       "3 0                   3                 1           \n",
       "4 0                  14                 0           \n",
       "5 0                   1                 0           \n",
       "6 0                   2                 0           "
      ]
     },
     "metadata": {},
     "output_type": "display_data"
    }
   ],
   "source": [
    "head(samples_tcr_cdr3)"
   ]
  },
  {
   "cell_type": "code",
   "execution_count": null,
   "metadata": {
    "vscode": {
     "languageId": "r"
    }
   },
   "outputs": [],
   "source": []
  },
  {
   "cell_type": "code",
   "execution_count": null,
   "metadata": {
    "vscode": {
     "languageId": "r"
    }
   },
   "outputs": [],
   "source": []
  },
  {
   "cell_type": "markdown",
   "metadata": {},
   "source": [
    "# 2 Rate of annotated GLIPH groups"
   ]
  },
  {
   "cell_type": "code",
   "execution_count": 233,
   "metadata": {
    "vscode": {
     "languageId": "r"
    }
   },
   "outputs": [
    {
     "name": "stderr",
     "output_type": "stream",
     "text": [
      "\u001b[1mRows: \u001b[22m\u001b[34m74539\u001b[39m \u001b[1mColumns: \u001b[22m\u001b[34m29\u001b[39m\n",
      "\u001b[36m--\u001b[39m \u001b[1mColumn specification\u001b[22m \u001b[36m--------------------------------------------------------\u001b[39m\n",
      "\u001b[1mDelimiter:\u001b[22m \",\"\n",
      "\u001b[31mchr\u001b[39m (17): pattern, type, TcRb, V, J, Sample, HLA-A, HLA-B, HLA-C, HLA-DPA1, ...\n",
      "\u001b[32mdbl\u001b[39m (11): index, Fisher_score, number_subject, number_unique_cdr3, final_sco...\n",
      "\u001b[33mlgl\u001b[39m  (1): TcRa\n",
      "\n",
      "\u001b[36mi\u001b[39m Use `spec()` to retrieve the full column specification for this data.\n",
      "\u001b[36mi\u001b[39m Specify the column types or set `show_col_types = FALSE` to quiet this message.\n"
     ]
    }
   ],
   "source": [
    "gliph_emerson <- readr::read_csv(paste0(h4hpath, \"/Emerson/emerson_vdj_mdv_cluster.csv\"), col_names = T) #  Mitchel as reference\n",
    "\n",
    "gliph_emerson <- gliph_emerson[,!grepl(\"HLA\", colnames(gliph_emerson))]"
   ]
  },
  {
   "cell_type": "code",
   "execution_count": 234,
   "metadata": {
    "vscode": {
     "languageId": "r"
    }
   },
   "outputs": [],
   "source": [
    "emerson <- gliph_emerson[ gliph_emerson$pattern != \"single\",]\n",
    "emerson <- emerson[emerson$number_unique_cdr3 >= 3,]"
   ]
  },
  {
   "cell_type": "code",
   "execution_count": 240,
   "metadata": {
    "vscode": {
     "languageId": "r"
    }
   },
   "outputs": [],
   "source": [
    "emerson$subject <- gsub(\":.*\", \"\", emerson$Sample)\n",
    "emerson$samplename <- gsub(\".*:\", \"\", emerson$Sample)"
   ]
  },
  {
   "cell_type": "code",
   "execution_count": 241,
   "metadata": {
    "vscode": {
     "languageId": "r"
    }
   },
   "outputs": [
    {
     "data": {
      "text/plain": [
       "\n",
       "           CEF            CMV            EBV        Emerson            HCV \n",
       "             2            112            120          15928             63 \n",
       "           HPV    HomoSapiens      Influenza M.tuberculosis          MCPyV \n",
       "            57            318             40              1            110 \n",
       "        MDavis   S-pneumoniae \n",
       "         36230             58 "
      ]
     },
     "metadata": {},
     "output_type": "display_data"
    }
   ],
   "source": [
    "table(emerson$subject, useNA = \"ifany\")"
   ]
  },
  {
   "cell_type": "code",
   "execution_count": 242,
   "metadata": {
    "vscode": {
     "languageId": "r"
    }
   },
   "outputs": [],
   "source": [
    "allAdaptive <- readr::read_rds(file = paste0(datapath, \"Adaptivedatasets/allAdaptive_good.rds\"))\n",
    "emerson_meta <- allAdaptive[ allAdaptive$study == \"Emerson\",]\n",
    "\n",
    "CMVneg <- emerson_meta$sample_name[which(emerson_meta$disease == \"Cytomegalovirus -\")]\n",
    "CMVpos <- emerson_meta$sample_name[which(emerson_meta$disease == \"Cytomegalovirus +\")]"
   ]
  },
  {
   "cell_type": "code",
   "execution_count": 243,
   "metadata": {
    "vscode": {
     "languageId": "r"
    }
   },
   "outputs": [
    {
     "data": {
      "text/html": [
       "<table class=\"dataframe\">\n",
       "<caption>A tibble: 6 x 20</caption>\n",
       "<thead>\n",
       "\t<tr><th scope=col>index</th><th scope=col>pattern</th><th scope=col>Fisher_score</th><th scope=col>number_subject</th><th scope=col>number_unique_cdr3</th><th scope=col>final_score</th><th scope=col>hla_score</th><th scope=col>vb_score</th><th scope=col>expansion_score</th><th scope=col>length_score</th><th scope=col>cluster_size_score</th><th scope=col>type</th><th scope=col>TcRb</th><th scope=col>V</th><th scope=col>J</th><th scope=col>TcRa</th><th scope=col>Sample</th><th scope=col>Freq</th><th scope=col>subject</th><th scope=col>samplename</th></tr>\n",
       "\t<tr><th scope=col>&lt;dbl&gt;</th><th scope=col>&lt;chr&gt;</th><th scope=col>&lt;dbl&gt;</th><th scope=col>&lt;dbl&gt;</th><th scope=col>&lt;dbl&gt;</th><th scope=col>&lt;dbl&gt;</th><th scope=col>&lt;dbl&gt;</th><th scope=col>&lt;dbl&gt;</th><th scope=col>&lt;dbl&gt;</th><th scope=col>&lt;dbl&gt;</th><th scope=col>&lt;dbl&gt;</th><th scope=col>&lt;chr&gt;</th><th scope=col>&lt;chr&gt;</th><th scope=col>&lt;chr&gt;</th><th scope=col>&lt;chr&gt;</th><th scope=col>&lt;lgl&gt;</th><th scope=col>&lt;chr&gt;</th><th scope=col>&lt;dbl&gt;</th><th scope=col>&lt;chr&gt;</th><th scope=col>&lt;chr&gt;</th></tr>\n",
       "</thead>\n",
       "<tbody>\n",
       "\t<tr><td>1</td><td>SLG%E</td><td>0</td><td>2</td><td>47</td><td>1.5e-11</td><td>1</td><td>0.001</td><td>0.98</td><td>0.001</td><td>1.5e-05</td><td>global-SLG%E</td><td>CASSLGREAFF</td><td>TRBV03   </td><td>TRBJ01-01</td><td>NA</td><td>Emerson:P00332          </td><td> 85</td><td>Emerson</td><td>P00332           </td></tr>\n",
       "\t<tr><td>1</td><td>SLG%E</td><td>0</td><td>2</td><td>47</td><td>1.5e-11</td><td>1</td><td>0.001</td><td>0.98</td><td>0.001</td><td>1.5e-05</td><td>global-SLG%E</td><td>CASSLGREAFF</td><td>TRBV6_7  </td><td>NA       </td><td>NA</td><td>MDavis:DRB10401         </td><td>  1</td><td>MDavis </td><td>DRB10401         </td></tr>\n",
       "\t<tr><td>1</td><td>SLG%E</td><td>0</td><td>2</td><td>47</td><td>1.5e-11</td><td>1</td><td>0.001</td><td>0.98</td><td>0.001</td><td>1.5e-05</td><td>global-SLG%E</td><td>YASSLGLEQFF</td><td>TRBV6_7  </td><td>NA       </td><td>NA</td><td>MDavis:DQA10101_DRB10401</td><td>  1</td><td>MDavis </td><td>DQA10101_DRB10401</td></tr>\n",
       "\t<tr><td>1</td><td>SLG%E</td><td>0</td><td>2</td><td>47</td><td>1.5e-11</td><td>1</td><td>0.001</td><td>0.98</td><td>0.001</td><td>1.5e-05</td><td>global-SLG%E</td><td>CASSLGPEQFF</td><td>TRBV6_7  </td><td>NA       </td><td>NA</td><td>MDavis:DRB10401         </td><td>  1</td><td>MDavis </td><td>DRB10401         </td></tr>\n",
       "\t<tr><td>1</td><td>SLG%E</td><td>0</td><td>2</td><td>47</td><td>1.5e-11</td><td>1</td><td>0.001</td><td>0.98</td><td>0.001</td><td>1.5e-05</td><td>global-SLG%E</td><td>CASSLGGELFF</td><td>TRBV25-01</td><td>TRBJ01-04</td><td>NA</td><td>Emerson:P00564          </td><td>277</td><td>Emerson</td><td>P00564           </td></tr>\n",
       "\t<tr><td>1</td><td>SLG%E</td><td>0</td><td>2</td><td>47</td><td>1.5e-11</td><td>1</td><td>0.001</td><td>0.98</td><td>0.001</td><td>1.5e-05</td><td>global-SLG%E</td><td>CASSLGGELFF</td><td>TRBV6_7  </td><td>NA       </td><td>NA</td><td>MDavis:DRB10401         </td><td>  1</td><td>MDavis </td><td>DRB10401         </td></tr>\n",
       "</tbody>\n",
       "</table>\n"
      ],
      "text/latex": [
       "A tibble: 6 x 20\n",
       "\\begin{tabular}{llllllllllllllllllll}\n",
       " index & pattern & Fisher\\_score & number\\_subject & number\\_unique\\_cdr3 & final\\_score & hla\\_score & vb\\_score & expansion\\_score & length\\_score & cluster\\_size\\_score & type & TcRb & V & J & TcRa & Sample & Freq & subject & samplename\\\\\n",
       " <dbl> & <chr> & <dbl> & <dbl> & <dbl> & <dbl> & <dbl> & <dbl> & <dbl> & <dbl> & <dbl> & <chr> & <chr> & <chr> & <chr> & <lgl> & <chr> & <dbl> & <chr> & <chr>\\\\\n",
       "\\hline\n",
       "\t 1 & SLG\\%E & 0 & 2 & 47 & 1.5e-11 & 1 & 0.001 & 0.98 & 0.001 & 1.5e-05 & global-SLG\\%E & CASSLGREAFF & TRBV03    & TRBJ01-01 & NA & Emerson:P00332           &  85 & Emerson & P00332           \\\\\n",
       "\t 1 & SLG\\%E & 0 & 2 & 47 & 1.5e-11 & 1 & 0.001 & 0.98 & 0.001 & 1.5e-05 & global-SLG\\%E & CASSLGREAFF & TRBV6\\_7   & NA        & NA & MDavis:DRB10401          &   1 & MDavis  & DRB10401         \\\\\n",
       "\t 1 & SLG\\%E & 0 & 2 & 47 & 1.5e-11 & 1 & 0.001 & 0.98 & 0.001 & 1.5e-05 & global-SLG\\%E & YASSLGLEQFF & TRBV6\\_7   & NA        & NA & MDavis:DQA10101\\_DRB10401 &   1 & MDavis  & DQA10101\\_DRB10401\\\\\n",
       "\t 1 & SLG\\%E & 0 & 2 & 47 & 1.5e-11 & 1 & 0.001 & 0.98 & 0.001 & 1.5e-05 & global-SLG\\%E & CASSLGPEQFF & TRBV6\\_7   & NA        & NA & MDavis:DRB10401          &   1 & MDavis  & DRB10401         \\\\\n",
       "\t 1 & SLG\\%E & 0 & 2 & 47 & 1.5e-11 & 1 & 0.001 & 0.98 & 0.001 & 1.5e-05 & global-SLG\\%E & CASSLGGELFF & TRBV25-01 & TRBJ01-04 & NA & Emerson:P00564           & 277 & Emerson & P00564           \\\\\n",
       "\t 1 & SLG\\%E & 0 & 2 & 47 & 1.5e-11 & 1 & 0.001 & 0.98 & 0.001 & 1.5e-05 & global-SLG\\%E & CASSLGGELFF & TRBV6\\_7   & NA        & NA & MDavis:DRB10401          &   1 & MDavis  & DRB10401         \\\\\n",
       "\\end{tabular}\n"
      ],
      "text/markdown": [
       "\n",
       "A tibble: 6 x 20\n",
       "\n",
       "| index &lt;dbl&gt; | pattern &lt;chr&gt; | Fisher_score &lt;dbl&gt; | number_subject &lt;dbl&gt; | number_unique_cdr3 &lt;dbl&gt; | final_score &lt;dbl&gt; | hla_score &lt;dbl&gt; | vb_score &lt;dbl&gt; | expansion_score &lt;dbl&gt; | length_score &lt;dbl&gt; | cluster_size_score &lt;dbl&gt; | type &lt;chr&gt; | TcRb &lt;chr&gt; | V &lt;chr&gt; | J &lt;chr&gt; | TcRa &lt;lgl&gt; | Sample &lt;chr&gt; | Freq &lt;dbl&gt; | subject &lt;chr&gt; | samplename &lt;chr&gt; |\n",
       "|---|---|---|---|---|---|---|---|---|---|---|---|---|---|---|---|---|---|---|---|\n",
       "| 1 | SLG%E | 0 | 2 | 47 | 1.5e-11 | 1 | 0.001 | 0.98 | 0.001 | 1.5e-05 | global-SLG%E | CASSLGREAFF | TRBV03    | TRBJ01-01 | NA | Emerson:P00332           |  85 | Emerson | P00332            |\n",
       "| 1 | SLG%E | 0 | 2 | 47 | 1.5e-11 | 1 | 0.001 | 0.98 | 0.001 | 1.5e-05 | global-SLG%E | CASSLGREAFF | TRBV6_7   | NA        | NA | MDavis:DRB10401          |   1 | MDavis  | DRB10401          |\n",
       "| 1 | SLG%E | 0 | 2 | 47 | 1.5e-11 | 1 | 0.001 | 0.98 | 0.001 | 1.5e-05 | global-SLG%E | YASSLGLEQFF | TRBV6_7   | NA        | NA | MDavis:DQA10101_DRB10401 |   1 | MDavis  | DQA10101_DRB10401 |\n",
       "| 1 | SLG%E | 0 | 2 | 47 | 1.5e-11 | 1 | 0.001 | 0.98 | 0.001 | 1.5e-05 | global-SLG%E | CASSLGPEQFF | TRBV6_7   | NA        | NA | MDavis:DRB10401          |   1 | MDavis  | DRB10401          |\n",
       "| 1 | SLG%E | 0 | 2 | 47 | 1.5e-11 | 1 | 0.001 | 0.98 | 0.001 | 1.5e-05 | global-SLG%E | CASSLGGELFF | TRBV25-01 | TRBJ01-04 | NA | Emerson:P00564           | 277 | Emerson | P00564            |\n",
       "| 1 | SLG%E | 0 | 2 | 47 | 1.5e-11 | 1 | 0.001 | 0.98 | 0.001 | 1.5e-05 | global-SLG%E | CASSLGGELFF | TRBV6_7   | NA        | NA | MDavis:DRB10401          |   1 | MDavis  | DRB10401          |\n",
       "\n"
      ],
      "text/plain": [
       "  index pattern Fisher_score number_subject number_unique_cdr3 final_score\n",
       "1 1     SLG%E   0            2              47                 1.5e-11    \n",
       "2 1     SLG%E   0            2              47                 1.5e-11    \n",
       "3 1     SLG%E   0            2              47                 1.5e-11    \n",
       "4 1     SLG%E   0            2              47                 1.5e-11    \n",
       "5 1     SLG%E   0            2              47                 1.5e-11    \n",
       "6 1     SLG%E   0            2              47                 1.5e-11    \n",
       "  hla_score vb_score expansion_score length_score cluster_size_score\n",
       "1 1         0.001    0.98            0.001        1.5e-05           \n",
       "2 1         0.001    0.98            0.001        1.5e-05           \n",
       "3 1         0.001    0.98            0.001        1.5e-05           \n",
       "4 1         0.001    0.98            0.001        1.5e-05           \n",
       "5 1         0.001    0.98            0.001        1.5e-05           \n",
       "6 1         0.001    0.98            0.001        1.5e-05           \n",
       "  type         TcRb        V         J         TcRa Sample                  \n",
       "1 global-SLG%E CASSLGREAFF TRBV03    TRBJ01-01 NA   Emerson:P00332          \n",
       "2 global-SLG%E CASSLGREAFF TRBV6_7   NA        NA   MDavis:DRB10401         \n",
       "3 global-SLG%E YASSLGLEQFF TRBV6_7   NA        NA   MDavis:DQA10101_DRB10401\n",
       "4 global-SLG%E CASSLGPEQFF TRBV6_7   NA        NA   MDavis:DRB10401         \n",
       "5 global-SLG%E CASSLGGELFF TRBV25-01 TRBJ01-04 NA   Emerson:P00564          \n",
       "6 global-SLG%E CASSLGGELFF TRBV6_7   NA        NA   MDavis:DRB10401         \n",
       "  Freq subject samplename       \n",
       "1  85  Emerson P00332           \n",
       "2   1  MDavis  DRB10401         \n",
       "3   1  MDavis  DQA10101_DRB10401\n",
       "4   1  MDavis  DRB10401         \n",
       "5 277  Emerson P00564           \n",
       "6   1  MDavis  DRB10401         "
      ]
     },
     "metadata": {},
     "output_type": "display_data"
    }
   ],
   "source": [
    "head(emerson)"
   ]
  },
  {
   "cell_type": "code",
   "execution_count": 244,
   "metadata": {
    "vscode": {
     "languageId": "r"
    }
   },
   "outputs": [],
   "source": [
    "importantgliphs <- emerson$pattern[ emerson$samplename %in% CMVneg]\n",
    "emerson_gliphs <- emerson[ emerson$pattern %in% importantgliphs,]"
   ]
  },
  {
   "cell_type": "code",
   "execution_count": 245,
   "metadata": {
    "vscode": {
     "languageId": "r"
    }
   },
   "outputs": [],
   "source": [
    "mytab <- as.data.frame.matrix(table(emerson_gliphs$pattern, emerson_gliphs$subject))"
   ]
  },
  {
   "cell_type": "code",
   "execution_count": 246,
   "metadata": {
    "vscode": {
     "languageId": "r"
    }
   },
   "outputs": [
    {
     "data": {
      "text/html": [
       "<table class=\"dataframe\">\n",
       "<caption>A data.frame: 6 x 12</caption>\n",
       "<thead>\n",
       "\t<tr><th></th><th scope=col>CEF</th><th scope=col>CMV</th><th scope=col>EBV</th><th scope=col>Emerson</th><th scope=col>HCV</th><th scope=col>HPV</th><th scope=col>HomoSapiens</th><th scope=col>Influenza</th><th scope=col>M.tuberculosis</th><th scope=col>MCPyV</th><th scope=col>MDavis</th><th scope=col>S-pneumoniae</th></tr>\n",
       "\t<tr><th></th><th scope=col>&lt;int&gt;</th><th scope=col>&lt;int&gt;</th><th scope=col>&lt;int&gt;</th><th scope=col>&lt;int&gt;</th><th scope=col>&lt;int&gt;</th><th scope=col>&lt;int&gt;</th><th scope=col>&lt;int&gt;</th><th scope=col>&lt;int&gt;</th><th scope=col>&lt;int&gt;</th><th scope=col>&lt;int&gt;</th><th scope=col>&lt;int&gt;</th><th scope=col>&lt;int&gt;</th></tr>\n",
       "</thead>\n",
       "<tbody>\n",
       "\t<tr><th scope=row>%A</th><td>0</td><td>0</td><td>0</td><td>3</td><td>0</td><td>0</td><td>1</td><td>0</td><td>0</td><td>0</td><td>0</td><td>0</td></tr>\n",
       "\t<tr><th scope=row>%AGANV</th><td>0</td><td>0</td><td>0</td><td>1</td><td>0</td><td>0</td><td>0</td><td>0</td><td>0</td><td>0</td><td>2</td><td>0</td></tr>\n",
       "\t<tr><th scope=row>%AGGNE</th><td>0</td><td>0</td><td>0</td><td>2</td><td>0</td><td>0</td><td>0</td><td>0</td><td>0</td><td>0</td><td>1</td><td>0</td></tr>\n",
       "\t<tr><th scope=row>%AGNTGE</th><td>0</td><td>0</td><td>0</td><td>3</td><td>0</td><td>0</td><td>0</td><td>0</td><td>0</td><td>0</td><td>5</td><td>0</td></tr>\n",
       "\t<tr><th scope=row>%AGTE</th><td>0</td><td>0</td><td>0</td><td>1</td><td>0</td><td>0</td><td>0</td><td>0</td><td>0</td><td>0</td><td>2</td><td>0</td></tr>\n",
       "\t<tr><th scope=row>%AGTYE</th><td>0</td><td>0</td><td>0</td><td>2</td><td>0</td><td>0</td><td>0</td><td>0</td><td>0</td><td>0</td><td>2</td><td>0</td></tr>\n",
       "</tbody>\n",
       "</table>\n"
      ],
      "text/latex": [
       "A data.frame: 6 x 12\n",
       "\\begin{tabular}{r|llllllllllll}\n",
       "  & CEF & CMV & EBV & Emerson & HCV & HPV & HomoSapiens & Influenza & M.tuberculosis & MCPyV & MDavis & S-pneumoniae\\\\\n",
       "  & <int> & <int> & <int> & <int> & <int> & <int> & <int> & <int> & <int> & <int> & <int> & <int>\\\\\n",
       "\\hline\n",
       "\t\\%A & 0 & 0 & 0 & 3 & 0 & 0 & 1 & 0 & 0 & 0 & 0 & 0\\\\\n",
       "\t\\%AGANV & 0 & 0 & 0 & 1 & 0 & 0 & 0 & 0 & 0 & 0 & 2 & 0\\\\\n",
       "\t\\%AGGNE & 0 & 0 & 0 & 2 & 0 & 0 & 0 & 0 & 0 & 0 & 1 & 0\\\\\n",
       "\t\\%AGNTGE & 0 & 0 & 0 & 3 & 0 & 0 & 0 & 0 & 0 & 0 & 5 & 0\\\\\n",
       "\t\\%AGTE & 0 & 0 & 0 & 1 & 0 & 0 & 0 & 0 & 0 & 0 & 2 & 0\\\\\n",
       "\t\\%AGTYE & 0 & 0 & 0 & 2 & 0 & 0 & 0 & 0 & 0 & 0 & 2 & 0\\\\\n",
       "\\end{tabular}\n"
      ],
      "text/markdown": [
       "\n",
       "A data.frame: 6 x 12\n",
       "\n",
       "| <!--/--> | CEF &lt;int&gt; | CMV &lt;int&gt; | EBV &lt;int&gt; | Emerson &lt;int&gt; | HCV &lt;int&gt; | HPV &lt;int&gt; | HomoSapiens &lt;int&gt; | Influenza &lt;int&gt; | M.tuberculosis &lt;int&gt; | MCPyV &lt;int&gt; | MDavis &lt;int&gt; | S-pneumoniae &lt;int&gt; |\n",
       "|---|---|---|---|---|---|---|---|---|---|---|---|---|\n",
       "| %A | 0 | 0 | 0 | 3 | 0 | 0 | 1 | 0 | 0 | 0 | 0 | 0 |\n",
       "| %AGANV | 0 | 0 | 0 | 1 | 0 | 0 | 0 | 0 | 0 | 0 | 2 | 0 |\n",
       "| %AGGNE | 0 | 0 | 0 | 2 | 0 | 0 | 0 | 0 | 0 | 0 | 1 | 0 |\n",
       "| %AGNTGE | 0 | 0 | 0 | 3 | 0 | 0 | 0 | 0 | 0 | 0 | 5 | 0 |\n",
       "| %AGTE | 0 | 0 | 0 | 1 | 0 | 0 | 0 | 0 | 0 | 0 | 2 | 0 |\n",
       "| %AGTYE | 0 | 0 | 0 | 2 | 0 | 0 | 0 | 0 | 0 | 0 | 2 | 0 |\n",
       "\n"
      ],
      "text/plain": [
       "        CEF CMV EBV Emerson HCV HPV HomoSapiens Influenza M.tuberculosis MCPyV\n",
       "%A      0   0   0   3       0   0   1           0         0              0    \n",
       "%AGANV  0   0   0   1       0   0   0           0         0              0    \n",
       "%AGGNE  0   0   0   2       0   0   0           0         0              0    \n",
       "%AGNTGE 0   0   0   3       0   0   0           0         0              0    \n",
       "%AGTE   0   0   0   1       0   0   0           0         0              0    \n",
       "%AGTYE  0   0   0   2       0   0   0           0         0              0    \n",
       "        MDavis S-pneumoniae\n",
       "%A      0      0           \n",
       "%AGANV  2      0           \n",
       "%AGGNE  1      0           \n",
       "%AGNTGE 5      0           \n",
       "%AGTE   2      0           \n",
       "%AGTYE  2      0           "
      ]
     },
     "metadata": {},
     "output_type": "display_data"
    }
   ],
   "source": [
    "head(mytab)"
   ]
  },
  {
   "cell_type": "code",
   "execution_count": 247,
   "metadata": {
    "vscode": {
     "languageId": "r"
    }
   },
   "outputs": [],
   "source": [
    "# count each group once per gliph\n",
    "mytab_1 <- mytab\n",
    "mytab_1[mytab_1 > 1] <- 1"
   ]
  },
  {
   "cell_type": "code",
   "execution_count": 248,
   "metadata": {
    "vscode": {
     "languageId": "r"
    }
   },
   "outputs": [],
   "source": [
    "n_anno <- colSums(mytab_1 > 0)"
   ]
  },
  {
   "cell_type": "code",
   "execution_count": 249,
   "metadata": {
    "vscode": {
     "languageId": "r"
    }
   },
   "outputs": [
    {
     "data": {
      "text/html": [
       "<style>\n",
       ".dl-inline {width: auto; margin:0; padding: 0}\n",
       ".dl-inline>dt, .dl-inline>dd {float: none; width: auto; display: inline-block}\n",
       ".dl-inline>dt::after {content: \":\\0020\"; padding-right: .5ex}\n",
       ".dl-inline>dt:not(:first-of-type) {padding-left: .5ex}\n",
       "</style><dl class=dl-inline><dt>CEF</dt><dd>2</dd><dt>CMV</dt><dd>65</dd><dt>EBV</dt><dd>43</dd><dt>Emerson</dt><dd>5017</dd><dt>HCV</dt><dd>48</dd><dt>HPV</dt><dd>17</dd></dl>\n"
      ],
      "text/latex": [
       "\\begin{description*}\n",
       "\\item[CEF] 2\n",
       "\\item[CMV] 65\n",
       "\\item[EBV] 43\n",
       "\\item[Emerson] 5017\n",
       "\\item[HCV] 48\n",
       "\\item[HPV] 17\n",
       "\\end{description*}\n"
      ],
      "text/markdown": [
       "CEF\n",
       ":   2CMV\n",
       ":   65EBV\n",
       ":   43Emerson\n",
       ":   5017HCV\n",
       ":   48HPV\n",
       ":   17\n",
       "\n"
      ],
      "text/plain": [
       "    CEF     CMV     EBV Emerson     HCV     HPV \n",
       "      2      65      43    5017      48      17 "
      ]
     },
     "metadata": {},
     "output_type": "display_data"
    }
   ],
   "source": [
    "head(n_anno)"
   ]
  },
  {
   "cell_type": "code",
   "execution_count": 250,
   "metadata": {
    "vscode": {
     "languageId": "r"
    }
   },
   "outputs": [],
   "source": [
    "gliphinput <- read.table(paste0(h4hpath, \"/Emerson/gliphinput_emerson_vdj_mdv.txt\"), sep = \"\\t\" ,header = F) #  Mitchel as reference"
   ]
  },
  {
   "cell_type": "code",
   "execution_count": 251,
   "metadata": {
    "vscode": {
     "languageId": "r"
    }
   },
   "outputs": [],
   "source": [
    "colnames(gliphinput) <- c(\"CDR3b\",\"TRBV\",\"TRBJ\",\"CDR3a\",\"subject:condition\",\"count\")"
   ]
  },
  {
   "cell_type": "code",
   "execution_count": 252,
   "metadata": {
    "vscode": {
     "languageId": "r"
    }
   },
   "outputs": [],
   "source": [
    "gliphinput$subject <- gsub(\".*:\", \"\", gliphinput$`subject:condition`)"
   ]
  },
  {
   "cell_type": "code",
   "execution_count": 253,
   "metadata": {
    "vscode": {
     "languageId": "r"
    }
   },
   "outputs": [
    {
     "data": {
      "text/html": [
       "<table class=\"dataframe\">\n",
       "<caption>A data.frame: 6 x 7</caption>\n",
       "<thead>\n",
       "\t<tr><th></th><th scope=col>CDR3b</th><th scope=col>TRBV</th><th scope=col>TRBJ</th><th scope=col>CDR3a</th><th scope=col>subject:condition</th><th scope=col>count</th><th scope=col>subject</th></tr>\n",
       "\t<tr><th></th><th scope=col>&lt;chr&gt;</th><th scope=col>&lt;chr&gt;</th><th scope=col>&lt;chr&gt;</th><th scope=col>&lt;lgl&gt;</th><th scope=col>&lt;chr&gt;</th><th scope=col>&lt;int&gt;</th><th scope=col>&lt;chr&gt;</th></tr>\n",
       "</thead>\n",
       "<tbody>\n",
       "\t<tr><th scope=row>1</th><td>CASSLGGGPFNEQFF  </td><td>TRBV04-01</td><td>TRBJ02-01</td><td>NA</td><td>Emerson:P00404</td><td>7807</td><td>P00404</td></tr>\n",
       "\t<tr><th scope=row>2</th><td>CASSQDPLRPWDEKLFF</td><td>TRBV04-01</td><td>TRBJ01-04</td><td>NA</td><td>Emerson:P00404</td><td>6319</td><td>P00404</td></tr>\n",
       "\t<tr><th scope=row>3</th><td>CASSYWTPRSGANVLTF</td><td>TRBV06   </td><td>TRBJ02-06</td><td>NA</td><td>Emerson:P00404</td><td>6164</td><td>P00404</td></tr>\n",
       "\t<tr><th scope=row>4</th><td>CASSDDSSGANVLTF  </td><td>TRBV06-04</td><td>TRBJ02-06</td><td>NA</td><td>Emerson:P00404</td><td>3969</td><td>P00404</td></tr>\n",
       "\t<tr><th scope=row>5</th><td>CASTWTGSSYNEQFF  </td><td>TRBV05-01</td><td>TRBJ02-01</td><td>NA</td><td>Emerson:P00404</td><td>3930</td><td>P00404</td></tr>\n",
       "\t<tr><th scope=row>6</th><td>CASSPDGPLEQYF    </td><td>TRBV05-04</td><td>TRBJ02-07</td><td>NA</td><td>Emerson:P00404</td><td>3473</td><td>P00404</td></tr>\n",
       "</tbody>\n",
       "</table>\n"
      ],
      "text/latex": [
       "A data.frame: 6 x 7\n",
       "\\begin{tabular}{r|lllllll}\n",
       "  & CDR3b & TRBV & TRBJ & CDR3a & subject:condition & count & subject\\\\\n",
       "  & <chr> & <chr> & <chr> & <lgl> & <chr> & <int> & <chr>\\\\\n",
       "\\hline\n",
       "\t1 & CASSLGGGPFNEQFF   & TRBV04-01 & TRBJ02-01 & NA & Emerson:P00404 & 7807 & P00404\\\\\n",
       "\t2 & CASSQDPLRPWDEKLFF & TRBV04-01 & TRBJ01-04 & NA & Emerson:P00404 & 6319 & P00404\\\\\n",
       "\t3 & CASSYWTPRSGANVLTF & TRBV06    & TRBJ02-06 & NA & Emerson:P00404 & 6164 & P00404\\\\\n",
       "\t4 & CASSDDSSGANVLTF   & TRBV06-04 & TRBJ02-06 & NA & Emerson:P00404 & 3969 & P00404\\\\\n",
       "\t5 & CASTWTGSSYNEQFF   & TRBV05-01 & TRBJ02-01 & NA & Emerson:P00404 & 3930 & P00404\\\\\n",
       "\t6 & CASSPDGPLEQYF     & TRBV05-04 & TRBJ02-07 & NA & Emerson:P00404 & 3473 & P00404\\\\\n",
       "\\end{tabular}\n"
      ],
      "text/markdown": [
       "\n",
       "A data.frame: 6 x 7\n",
       "\n",
       "| <!--/--> | CDR3b &lt;chr&gt; | TRBV &lt;chr&gt; | TRBJ &lt;chr&gt; | CDR3a &lt;lgl&gt; | subject:condition &lt;chr&gt; | count &lt;int&gt; | subject &lt;chr&gt; |\n",
       "|---|---|---|---|---|---|---|---|\n",
       "| 1 | CASSLGGGPFNEQFF   | TRBV04-01 | TRBJ02-01 | NA | Emerson:P00404 | 7807 | P00404 |\n",
       "| 2 | CASSQDPLRPWDEKLFF | TRBV04-01 | TRBJ01-04 | NA | Emerson:P00404 | 6319 | P00404 |\n",
       "| 3 | CASSYWTPRSGANVLTF | TRBV06    | TRBJ02-06 | NA | Emerson:P00404 | 6164 | P00404 |\n",
       "| 4 | CASSDDSSGANVLTF   | TRBV06-04 | TRBJ02-06 | NA | Emerson:P00404 | 3969 | P00404 |\n",
       "| 5 | CASTWTGSSYNEQFF   | TRBV05-01 | TRBJ02-01 | NA | Emerson:P00404 | 3930 | P00404 |\n",
       "| 6 | CASSPDGPLEQYF     | TRBV05-04 | TRBJ02-07 | NA | Emerson:P00404 | 3473 | P00404 |\n",
       "\n"
      ],
      "text/plain": [
       "  CDR3b             TRBV      TRBJ      CDR3a subject:condition count subject\n",
       "1 CASSLGGGPFNEQFF   TRBV04-01 TRBJ02-01 NA    Emerson:P00404    7807  P00404 \n",
       "2 CASSQDPLRPWDEKLFF TRBV04-01 TRBJ01-04 NA    Emerson:P00404    6319  P00404 \n",
       "3 CASSYWTPRSGANVLTF TRBV06    TRBJ02-06 NA    Emerson:P00404    6164  P00404 \n",
       "4 CASSDDSSGANVLTF   TRBV06-04 TRBJ02-06 NA    Emerson:P00404    3969  P00404 \n",
       "5 CASTWTGSSYNEQFF   TRBV05-01 TRBJ02-01 NA    Emerson:P00404    3930  P00404 \n",
       "6 CASSPDGPLEQYF     TRBV05-04 TRBJ02-07 NA    Emerson:P00404    3473  P00404 "
      ]
     },
     "metadata": {},
     "output_type": "display_data"
    }
   ],
   "source": [
    "head(gliphinput)"
   ]
  },
  {
   "cell_type": "code",
   "execution_count": 255,
   "metadata": {
    "vscode": {
     "languageId": "r"
    }
   },
   "outputs": [],
   "source": [
    "gliphinput$disease <- emerson_meta$disease[match(gliphinput$subject, emerson_meta$sample_name)]"
   ]
  },
  {
   "cell_type": "code",
   "execution_count": 256,
   "metadata": {
    "vscode": {
     "languageId": "r"
    }
   },
   "outputs": [
    {
     "data": {
      "text/html": [
       "<table class=\"dataframe\">\n",
       "<caption>A data.frame: 6 x 8</caption>\n",
       "<thead>\n",
       "\t<tr><th></th><th scope=col>CDR3b</th><th scope=col>TRBV</th><th scope=col>TRBJ</th><th scope=col>CDR3a</th><th scope=col>subject:condition</th><th scope=col>count</th><th scope=col>subject</th><th scope=col>disease</th></tr>\n",
       "\t<tr><th></th><th scope=col>&lt;chr&gt;</th><th scope=col>&lt;chr&gt;</th><th scope=col>&lt;chr&gt;</th><th scope=col>&lt;lgl&gt;</th><th scope=col>&lt;chr&gt;</th><th scope=col>&lt;int&gt;</th><th scope=col>&lt;chr&gt;</th><th scope=col>&lt;chr&gt;</th></tr>\n",
       "</thead>\n",
       "<tbody>\n",
       "\t<tr><th scope=row>1</th><td>CASSLGGGPFNEQFF  </td><td>TRBV04-01</td><td>TRBJ02-01</td><td>NA</td><td>Emerson:P00404</td><td>7807</td><td>P00404</td><td>Cytomegalovirus -</td></tr>\n",
       "\t<tr><th scope=row>2</th><td>CASSQDPLRPWDEKLFF</td><td>TRBV04-01</td><td>TRBJ01-04</td><td>NA</td><td>Emerson:P00404</td><td>6319</td><td>P00404</td><td>Cytomegalovirus -</td></tr>\n",
       "\t<tr><th scope=row>3</th><td>CASSYWTPRSGANVLTF</td><td>TRBV06   </td><td>TRBJ02-06</td><td>NA</td><td>Emerson:P00404</td><td>6164</td><td>P00404</td><td>Cytomegalovirus -</td></tr>\n",
       "\t<tr><th scope=row>4</th><td>CASSDDSSGANVLTF  </td><td>TRBV06-04</td><td>TRBJ02-06</td><td>NA</td><td>Emerson:P00404</td><td>3969</td><td>P00404</td><td>Cytomegalovirus -</td></tr>\n",
       "\t<tr><th scope=row>5</th><td>CASTWTGSSYNEQFF  </td><td>TRBV05-01</td><td>TRBJ02-01</td><td>NA</td><td>Emerson:P00404</td><td>3930</td><td>P00404</td><td>Cytomegalovirus -</td></tr>\n",
       "\t<tr><th scope=row>6</th><td>CASSPDGPLEQYF    </td><td>TRBV05-04</td><td>TRBJ02-07</td><td>NA</td><td>Emerson:P00404</td><td>3473</td><td>P00404</td><td>Cytomegalovirus -</td></tr>\n",
       "</tbody>\n",
       "</table>\n"
      ],
      "text/latex": [
       "A data.frame: 6 x 8\n",
       "\\begin{tabular}{r|llllllll}\n",
       "  & CDR3b & TRBV & TRBJ & CDR3a & subject:condition & count & subject & disease\\\\\n",
       "  & <chr> & <chr> & <chr> & <lgl> & <chr> & <int> & <chr> & <chr>\\\\\n",
       "\\hline\n",
       "\t1 & CASSLGGGPFNEQFF   & TRBV04-01 & TRBJ02-01 & NA & Emerson:P00404 & 7807 & P00404 & Cytomegalovirus -\\\\\n",
       "\t2 & CASSQDPLRPWDEKLFF & TRBV04-01 & TRBJ01-04 & NA & Emerson:P00404 & 6319 & P00404 & Cytomegalovirus -\\\\\n",
       "\t3 & CASSYWTPRSGANVLTF & TRBV06    & TRBJ02-06 & NA & Emerson:P00404 & 6164 & P00404 & Cytomegalovirus -\\\\\n",
       "\t4 & CASSDDSSGANVLTF   & TRBV06-04 & TRBJ02-06 & NA & Emerson:P00404 & 3969 & P00404 & Cytomegalovirus -\\\\\n",
       "\t5 & CASTWTGSSYNEQFF   & TRBV05-01 & TRBJ02-01 & NA & Emerson:P00404 & 3930 & P00404 & Cytomegalovirus -\\\\\n",
       "\t6 & CASSPDGPLEQYF     & TRBV05-04 & TRBJ02-07 & NA & Emerson:P00404 & 3473 & P00404 & Cytomegalovirus -\\\\\n",
       "\\end{tabular}\n"
      ],
      "text/markdown": [
       "\n",
       "A data.frame: 6 x 8\n",
       "\n",
       "| <!--/--> | CDR3b &lt;chr&gt; | TRBV &lt;chr&gt; | TRBJ &lt;chr&gt; | CDR3a &lt;lgl&gt; | subject:condition &lt;chr&gt; | count &lt;int&gt; | subject &lt;chr&gt; | disease &lt;chr&gt; |\n",
       "|---|---|---|---|---|---|---|---|---|\n",
       "| 1 | CASSLGGGPFNEQFF   | TRBV04-01 | TRBJ02-01 | NA | Emerson:P00404 | 7807 | P00404 | Cytomegalovirus - |\n",
       "| 2 | CASSQDPLRPWDEKLFF | TRBV04-01 | TRBJ01-04 | NA | Emerson:P00404 | 6319 | P00404 | Cytomegalovirus - |\n",
       "| 3 | CASSYWTPRSGANVLTF | TRBV06    | TRBJ02-06 | NA | Emerson:P00404 | 6164 | P00404 | Cytomegalovirus - |\n",
       "| 4 | CASSDDSSGANVLTF   | TRBV06-04 | TRBJ02-06 | NA | Emerson:P00404 | 3969 | P00404 | Cytomegalovirus - |\n",
       "| 5 | CASTWTGSSYNEQFF   | TRBV05-01 | TRBJ02-01 | NA | Emerson:P00404 | 3930 | P00404 | Cytomegalovirus - |\n",
       "| 6 | CASSPDGPLEQYF     | TRBV05-04 | TRBJ02-07 | NA | Emerson:P00404 | 3473 | P00404 | Cytomegalovirus - |\n",
       "\n"
      ],
      "text/plain": [
       "  CDR3b             TRBV      TRBJ      CDR3a subject:condition count subject\n",
       "1 CASSLGGGPFNEQFF   TRBV04-01 TRBJ02-01 NA    Emerson:P00404    7807  P00404 \n",
       "2 CASSQDPLRPWDEKLFF TRBV04-01 TRBJ01-04 NA    Emerson:P00404    6319  P00404 \n",
       "3 CASSYWTPRSGANVLTF TRBV06    TRBJ02-06 NA    Emerson:P00404    6164  P00404 \n",
       "4 CASSDDSSGANVLTF   TRBV06-04 TRBJ02-06 NA    Emerson:P00404    3969  P00404 \n",
       "5 CASTWTGSSYNEQFF   TRBV05-01 TRBJ02-01 NA    Emerson:P00404    3930  P00404 \n",
       "6 CASSPDGPLEQYF     TRBV05-04 TRBJ02-07 NA    Emerson:P00404    3473  P00404 \n",
       "  disease          \n",
       "1 Cytomegalovirus -\n",
       "2 Cytomegalovirus -\n",
       "3 Cytomegalovirus -\n",
       "4 Cytomegalovirus -\n",
       "5 Cytomegalovirus -\n",
       "6 Cytomegalovirus -"
      ]
     },
     "metadata": {},
     "output_type": "display_data"
    }
   ],
   "source": [
    "head(gliphinput)"
   ]
  },
  {
   "cell_type": "code",
   "execution_count": 258,
   "metadata": {
    "vscode": {
     "languageId": "r"
    }
   },
   "outputs": [
    {
     "data": {
      "text/plain": [
       "\n",
       "Cytomegalovirus + Cytomegalovirus - \n",
       "             9000             21000 "
      ]
     },
     "metadata": {},
     "output_type": "display_data"
    }
   ],
   "source": [
    "table(gliphinput$disease)"
   ]
  },
  {
   "cell_type": "code",
   "execution_count": 259,
   "metadata": {
    "vscode": {
     "languageId": "r"
    }
   },
   "outputs": [],
   "source": [
    "base_rate_CMVneg <- n_anno / length(unique(gliphinput$CDR3b[ grepl(\"Cytomegalovirus -\", gliphinput$disease)]))\n",
    "base_rate_CMVpos <- n_anno / length(unique(gliphinput$CDR3b[ grepl(\"Cytomegalovirus +\", gliphinput$disease)]))\n",
    "\n",
    "# base_rate <- n_anno / length(unique(gliphinput$CDR3b[ grepl(\"Emerson\", gliphinput$`subject:condition`)]))"
   ]
  },
  {
   "cell_type": "code",
   "execution_count": 261,
   "metadata": {
    "vscode": {
     "languageId": "r"
    }
   },
   "outputs": [],
   "source": [
    "base_rate <- base_rate_CMVneg"
   ]
  },
  {
   "cell_type": "code",
   "execution_count": 262,
   "metadata": {
    "vscode": {
     "languageId": "r"
    }
   },
   "outputs": [
    {
     "data": {
      "text/html": [
       "<style>\n",
       ".dl-inline {width: auto; margin:0; padding: 0}\n",
       ".dl-inline>dt, .dl-inline>dd {float: none; width: auto; display: inline-block}\n",
       ".dl-inline>dt::after {content: \":\\0020\"; padding-right: .5ex}\n",
       ".dl-inline>dt:not(:first-of-type) {padding-left: .5ex}\n",
       "</style><dl class=dl-inline><dt>CEF</dt><dd>9.94826900119379e-05</dd><dt>CMV</dt><dd>0.00323318742538798</dd><dt>EBV</dt><dd>0.00213887783525667</dd><dt>Emerson</dt><dd>0.249552327894946</dd><dt>HCV</dt><dd>0.00238758456028651</dd><dt>HPV</dt><dd>0.000845602865101472</dd><dt>HomoSapiens</dt><dd>0.00910266613609232</dd><dt>Influenza</dt><dd>0.000646637485077597</dd><dt>M.tuberculosis</dt><dd>4.9741345005969e-05</dd><dt>MCPyV</dt><dd>0.00189017111022682</dd><dt>MDavis</dt><dd>0.204984082769598</dd><dt>S-pneumoniae</dt><dd>0.00179068842021488</dd></dl>\n"
      ],
      "text/latex": [
       "\\begin{description*}\n",
       "\\item[CEF] 9.94826900119379e-05\n",
       "\\item[CMV] 0.00323318742538798\n",
       "\\item[EBV] 0.00213887783525667\n",
       "\\item[Emerson] 0.249552327894946\n",
       "\\item[HCV] 0.00238758456028651\n",
       "\\item[HPV] 0.000845602865101472\n",
       "\\item[HomoSapiens] 0.00910266613609232\n",
       "\\item[Influenza] 0.000646637485077597\n",
       "\\item[M.tuberculosis] 4.9741345005969e-05\n",
       "\\item[MCPyV] 0.00189017111022682\n",
       "\\item[MDavis] 0.204984082769598\n",
       "\\item[S-pneumoniae] 0.00179068842021488\n",
       "\\end{description*}\n"
      ],
      "text/markdown": [
       "CEF\n",
       ":   9.94826900119379e-05CMV\n",
       ":   0.00323318742538798EBV\n",
       ":   0.00213887783525667Emerson\n",
       ":   0.249552327894946HCV\n",
       ":   0.00238758456028651HPV\n",
       ":   0.000845602865101472HomoSapiens\n",
       ":   0.00910266613609232Influenza\n",
       ":   0.000646637485077597M.tuberculosis\n",
       ":   4.9741345005969e-05MCPyV\n",
       ":   0.00189017111022682MDavis\n",
       ":   0.204984082769598S-pneumoniae\n",
       ":   0.00179068842021488\n",
       "\n"
      ],
      "text/plain": [
       "           CEF            CMV            EBV        Emerson            HCV \n",
       "  9.948269e-05   3.233187e-03   2.138878e-03   2.495523e-01   2.387585e-03 \n",
       "           HPV    HomoSapiens      Influenza M.tuberculosis          MCPyV \n",
       "  8.456029e-04   9.102666e-03   6.466375e-04   4.974135e-05   1.890171e-03 \n",
       "        MDavis   S-pneumoniae \n",
       "  2.049841e-01   1.790688e-03 "
      ]
     },
     "metadata": {},
     "output_type": "display_data"
    },
    {
     "data": {
      "text/html": [
       "<style>\n",
       ".dl-inline {width: auto; margin:0; padding: 0}\n",
       ".dl-inline>dt, .dl-inline>dd {float: none; width: auto; display: inline-block}\n",
       ".dl-inline>dt::after {content: \":\\0020\"; padding-right: .5ex}\n",
       ".dl-inline>dt:not(:first-of-type) {padding-left: .5ex}\n",
       "</style><dl class=dl-inline><dt>CEF</dt><dd>6.97909760267997e-05</dd><dt>CMV</dt><dd>0.00226820672087099</dd><dt>EBV</dt><dd>0.00150050598457619</dd><dt>Emerson</dt><dd>0.175070663363227</dd><dt>HCV</dt><dd>0.00167498342464319</dd><dt>HPV</dt><dd>0.000593223296227798</dd><dt>HomoSapiens</dt><dd>0.00638587430645218</dd><dt>Influenza</dt><dd>0.000453641344174198</dd><dt>M.tuberculosis</dt><dd>3.48954880133999e-05</dd><dt>MCPyV</dt><dd>0.0013260285445092</dd><dt>MDavis</dt><dd>0.143804306103221</dd><dt>S-pneumoniae</dt><dd>0.0012562375684824</dd></dl>\n"
      ],
      "text/latex": [
       "\\begin{description*}\n",
       "\\item[CEF] 6.97909760267997e-05\n",
       "\\item[CMV] 0.00226820672087099\n",
       "\\item[EBV] 0.00150050598457619\n",
       "\\item[Emerson] 0.175070663363227\n",
       "\\item[HCV] 0.00167498342464319\n",
       "\\item[HPV] 0.000593223296227798\n",
       "\\item[HomoSapiens] 0.00638587430645218\n",
       "\\item[Influenza] 0.000453641344174198\n",
       "\\item[M.tuberculosis] 3.48954880133999e-05\n",
       "\\item[MCPyV] 0.0013260285445092\n",
       "\\item[MDavis] 0.143804306103221\n",
       "\\item[S-pneumoniae] 0.0012562375684824\n",
       "\\end{description*}\n"
      ],
      "text/markdown": [
       "CEF\n",
       ":   6.97909760267997e-05CMV\n",
       ":   0.00226820672087099EBV\n",
       ":   0.00150050598457619Emerson\n",
       ":   0.175070663363227HCV\n",
       ":   0.00167498342464319HPV\n",
       ":   0.000593223296227798HomoSapiens\n",
       ":   0.00638587430645218Influenza\n",
       ":   0.000453641344174198M.tuberculosis\n",
       ":   3.48954880133999e-05MCPyV\n",
       ":   0.0013260285445092MDavis\n",
       ":   0.143804306103221S-pneumoniae\n",
       ":   0.0012562375684824\n",
       "\n"
      ],
      "text/plain": [
       "           CEF            CMV            EBV        Emerson            HCV \n",
       "  6.979098e-05   2.268207e-03   1.500506e-03   1.750707e-01   1.674983e-03 \n",
       "           HPV    HomoSapiens      Influenza M.tuberculosis          MCPyV \n",
       "  5.932233e-04   6.385874e-03   4.536413e-04   3.489549e-05   1.326029e-03 \n",
       "        MDavis   S-pneumoniae \n",
       "  1.438043e-01   1.256238e-03 "
      ]
     },
     "metadata": {},
     "output_type": "display_data"
    }
   ],
   "source": [
    "base_rate_CMVneg\n",
    "\n",
    "base_rate_CMVpos"
   ]
  },
  {
   "cell_type": "markdown",
   "metadata": {},
   "source": [
    "### 2.1- sample probablities of finding a viral group"
   ]
  },
  {
   "cell_type": "code",
   "execution_count": 350,
   "metadata": {
    "vscode": {
     "languageId": "r"
    }
   },
   "outputs": [],
   "source": [
    "samples_tcr_probs <- samples_tcr"
   ]
  },
  {
   "cell_type": "code",
   "execution_count": 351,
   "metadata": {
    "vscode": {
     "languageId": "r"
    }
   },
   "outputs": [
    {
     "data": {
      "text/html": [
       "<table class=\"dataframe\">\n",
       "<caption>A data.frame: 6 x 21</caption>\n",
       "<thead>\n",
       "\t<tr><th></th><th scope=col>CMV</th><th scope=col>EBV</th><th scope=col>HCV</th><th scope=col>Influenza</th><th scope=col>HomoSapiens</th><th scope=col>MDavis</th><th scope=col>HPV</th><th scope=col>CEF</th><th scope=col>TB</th><th scope=col>MCPyV</th><th scope=col>...</th><th scope=col>n_cdr3</th><th scope=col>n_gliph</th><th scope=col>n_cdr3ingliph</th><th scope=col>cancergroup</th><th scope=col>cycle</th><th scope=col>sampletype</th><th scope=col>cyclenum</th><th scope=col>Patient</th><th scope=col>Age</th><th scope=col>group</th></tr>\n",
       "\t<tr><th></th><th scope=col>&lt;dbl&gt;</th><th scope=col>&lt;dbl&gt;</th><th scope=col>&lt;dbl&gt;</th><th scope=col>&lt;dbl&gt;</th><th scope=col>&lt;dbl&gt;</th><th scope=col>&lt;dbl&gt;</th><th scope=col>&lt;dbl&gt;</th><th scope=col>&lt;dbl&gt;</th><th scope=col>&lt;dbl&gt;</th><th scope=col>&lt;dbl&gt;</th><th scope=col>...</th><th scope=col>&lt;int&gt;</th><th scope=col>&lt;dbl&gt;</th><th scope=col>&lt;int&gt;</th><th scope=col>&lt;chr&gt;</th><th scope=col>&lt;chr&gt;</th><th scope=col>&lt;chr&gt;</th><th scope=col>&lt;dbl&gt;</th><th scope=col>&lt;chr&gt;</th><th scope=col>&lt;dbl&gt;</th><th scope=col>&lt;fct&gt;</th></tr>\n",
       "</thead>\n",
       "<tbody>\n",
       "\t<tr><th scope=row>Leukemia:CHP_319_X05-PBMC</th><td>0</td><td>0</td><td>0</td><td>0</td><td>0</td><td> 2</td><td>0</td><td>0</td><td>0</td><td>0</td><td>...</td><td> 15</td><td> 3</td><td> 3</td><td>Leukemia</td><td>X05</td><td>PBMC </td><td>5</td><td>CHP_319</td><td>1</td><td>post</td></tr>\n",
       "\t<tr><th scope=row>Leukemia:CHP_323_X03-PBMC</th><td>2</td><td>0</td><td>1</td><td>0</td><td>0</td><td>16</td><td>0</td><td>0</td><td>0</td><td>1</td><td>...</td><td> 45</td><td>21</td><td>12</td><td>Leukemia</td><td>X03</td><td>PBMC </td><td>3</td><td>CHP_323</td><td>1</td><td>post</td></tr>\n",
       "\t<tr><th scope=row>Leukemia:CHP_323_X03-cfDNA</th><td>2</td><td>0</td><td>0</td><td>0</td><td>4</td><td>33</td><td>0</td><td>0</td><td>0</td><td>0</td><td>...</td><td>103</td><td>49</td><td>25</td><td>Leukemia</td><td>X03</td><td>cfDNA</td><td>3</td><td>CHP_323</td><td>1</td><td>post</td></tr>\n",
       "\t<tr><th scope=row>Leukemia:CHP_323_X05-PBMC</th><td>1</td><td>0</td><td>0</td><td>0</td><td>2</td><td>47</td><td>0</td><td>0</td><td>0</td><td>1</td><td>...</td><td>153</td><td>71</td><td>36</td><td>Leukemia</td><td>X05</td><td>PBMC </td><td>5</td><td>CHP_323</td><td>1</td><td>post</td></tr>\n",
       "\t<tr><th scope=row>Leukemia:CHP_323_X05-cfDNA</th><td>0</td><td>0</td><td>0</td><td>0</td><td>0</td><td> 4</td><td>0</td><td>0</td><td>0</td><td>0</td><td>...</td><td> 15</td><td> 6</td><td> 2</td><td>Leukemia</td><td>X05</td><td>cfDNA</td><td>5</td><td>CHP_323</td><td>1</td><td>post</td></tr>\n",
       "\t<tr><th scope=row>Leukemia:CHP_326_X05-cfDNA</th><td>0</td><td>0</td><td>3</td><td>0</td><td>0</td><td> 5</td><td>0</td><td>0</td><td>0</td><td>0</td><td>...</td><td> 25</td><td> 8</td><td> 4</td><td>Leukemia</td><td>X05</td><td>cfDNA</td><td>5</td><td>CHP_326</td><td>4</td><td>post</td></tr>\n",
       "</tbody>\n",
       "</table>\n"
      ],
      "text/latex": [
       "A data.frame: 6 x 21\n",
       "\\begin{tabular}{r|lllllllllllllllllllll}\n",
       "  & CMV & EBV & HCV & Influenza & HomoSapiens & MDavis & HPV & CEF & TB & MCPyV & ... & n\\_cdr3 & n\\_gliph & n\\_cdr3ingliph & cancergroup & cycle & sampletype & cyclenum & Patient & Age & group\\\\\n",
       "  & <dbl> & <dbl> & <dbl> & <dbl> & <dbl> & <dbl> & <dbl> & <dbl> & <dbl> & <dbl> & ... & <int> & <dbl> & <int> & <chr> & <chr> & <chr> & <dbl> & <chr> & <dbl> & <fct>\\\\\n",
       "\\hline\n",
       "\tLeukemia:CHP\\_319\\_X05-PBMC & 0 & 0 & 0 & 0 & 0 &  2 & 0 & 0 & 0 & 0 & ... &  15 &  3 &  3 & Leukemia & X05 & PBMC  & 5 & CHP\\_319 & 1 & post\\\\\n",
       "\tLeukemia:CHP\\_323\\_X03-PBMC & 2 & 0 & 1 & 0 & 0 & 16 & 0 & 0 & 0 & 1 & ... &  45 & 21 & 12 & Leukemia & X03 & PBMC  & 3 & CHP\\_323 & 1 & post\\\\\n",
       "\tLeukemia:CHP\\_323\\_X03-cfDNA & 2 & 0 & 0 & 0 & 4 & 33 & 0 & 0 & 0 & 0 & ... & 103 & 49 & 25 & Leukemia & X03 & cfDNA & 3 & CHP\\_323 & 1 & post\\\\\n",
       "\tLeukemia:CHP\\_323\\_X05-PBMC & 1 & 0 & 0 & 0 & 2 & 47 & 0 & 0 & 0 & 1 & ... & 153 & 71 & 36 & Leukemia & X05 & PBMC  & 5 & CHP\\_323 & 1 & post\\\\\n",
       "\tLeukemia:CHP\\_323\\_X05-cfDNA & 0 & 0 & 0 & 0 & 0 &  4 & 0 & 0 & 0 & 0 & ... &  15 &  6 &  2 & Leukemia & X05 & cfDNA & 5 & CHP\\_323 & 1 & post\\\\\n",
       "\tLeukemia:CHP\\_326\\_X05-cfDNA & 0 & 0 & 3 & 0 & 0 &  5 & 0 & 0 & 0 & 0 & ... &  25 &  8 &  4 & Leukemia & X05 & cfDNA & 5 & CHP\\_326 & 4 & post\\\\\n",
       "\\end{tabular}\n"
      ],
      "text/markdown": [
       "\n",
       "A data.frame: 6 x 21\n",
       "\n",
       "| <!--/--> | CMV &lt;dbl&gt; | EBV &lt;dbl&gt; | HCV &lt;dbl&gt; | Influenza &lt;dbl&gt; | HomoSapiens &lt;dbl&gt; | MDavis &lt;dbl&gt; | HPV &lt;dbl&gt; | CEF &lt;dbl&gt; | TB &lt;dbl&gt; | MCPyV &lt;dbl&gt; | ... ... | n_cdr3 &lt;int&gt; | n_gliph &lt;dbl&gt; | n_cdr3ingliph &lt;int&gt; | cancergroup &lt;chr&gt; | cycle &lt;chr&gt; | sampletype &lt;chr&gt; | cyclenum &lt;dbl&gt; | Patient &lt;chr&gt; | Age &lt;dbl&gt; | group &lt;fct&gt; |\n",
       "|---|---|---|---|---|---|---|---|---|---|---|---|---|---|---|---|---|---|---|---|---|---|\n",
       "| Leukemia:CHP_319_X05-PBMC | 0 | 0 | 0 | 0 | 0 |  2 | 0 | 0 | 0 | 0 | ... |  15 |  3 |  3 | Leukemia | X05 | PBMC  | 5 | CHP_319 | 1 | post |\n",
       "| Leukemia:CHP_323_X03-PBMC | 2 | 0 | 1 | 0 | 0 | 16 | 0 | 0 | 0 | 1 | ... |  45 | 21 | 12 | Leukemia | X03 | PBMC  | 3 | CHP_323 | 1 | post |\n",
       "| Leukemia:CHP_323_X03-cfDNA | 2 | 0 | 0 | 0 | 4 | 33 | 0 | 0 | 0 | 0 | ... | 103 | 49 | 25 | Leukemia | X03 | cfDNA | 3 | CHP_323 | 1 | post |\n",
       "| Leukemia:CHP_323_X05-PBMC | 1 | 0 | 0 | 0 | 2 | 47 | 0 | 0 | 0 | 1 | ... | 153 | 71 | 36 | Leukemia | X05 | PBMC  | 5 | CHP_323 | 1 | post |\n",
       "| Leukemia:CHP_323_X05-cfDNA | 0 | 0 | 0 | 0 | 0 |  4 | 0 | 0 | 0 | 0 | ... |  15 |  6 |  2 | Leukemia | X05 | cfDNA | 5 | CHP_323 | 1 | post |\n",
       "| Leukemia:CHP_326_X05-cfDNA | 0 | 0 | 3 | 0 | 0 |  5 | 0 | 0 | 0 | 0 | ... |  25 |  8 |  4 | Leukemia | X05 | cfDNA | 5 | CHP_326 | 4 | post |\n",
       "\n"
      ],
      "text/plain": [
       "                           CMV EBV HCV Influenza HomoSapiens MDavis HPV CEF TB\n",
       "Leukemia:CHP_319_X05-PBMC  0   0   0   0         0            2     0   0   0 \n",
       "Leukemia:CHP_323_X03-PBMC  2   0   1   0         0           16     0   0   0 \n",
       "Leukemia:CHP_323_X03-cfDNA 2   0   0   0         4           33     0   0   0 \n",
       "Leukemia:CHP_323_X05-PBMC  1   0   0   0         2           47     0   0   0 \n",
       "Leukemia:CHP_323_X05-cfDNA 0   0   0   0         0            4     0   0   0 \n",
       "Leukemia:CHP_326_X05-cfDNA 0   0   3   0         0            5     0   0   0 \n",
       "                           MCPyV ... n_cdr3 n_gliph n_cdr3ingliph cancergroup\n",
       "Leukemia:CHP_319_X05-PBMC  0     ...  15     3       3            Leukemia   \n",
       "Leukemia:CHP_323_X03-PBMC  1     ...  45    21      12            Leukemia   \n",
       "Leukemia:CHP_323_X03-cfDNA 0     ... 103    49      25            Leukemia   \n",
       "Leukemia:CHP_323_X05-PBMC  1     ... 153    71      36            Leukemia   \n",
       "Leukemia:CHP_323_X05-cfDNA 0     ...  15     6       2            Leukemia   \n",
       "Leukemia:CHP_326_X05-cfDNA 0     ...  25     8       4            Leukemia   \n",
       "                           cycle sampletype cyclenum Patient Age group\n",
       "Leukemia:CHP_319_X05-PBMC  X05   PBMC       5        CHP_319 1   post \n",
       "Leukemia:CHP_323_X03-PBMC  X03   PBMC       3        CHP_323 1   post \n",
       "Leukemia:CHP_323_X03-cfDNA X03   cfDNA      3        CHP_323 1   post \n",
       "Leukemia:CHP_323_X05-PBMC  X05   PBMC       5        CHP_323 1   post \n",
       "Leukemia:CHP_323_X05-cfDNA X05   cfDNA      5        CHP_323 1   post \n",
       "Leukemia:CHP_326_X05-cfDNA X05   cfDNA      5        CHP_326 4   post "
      ]
     },
     "metadata": {},
     "output_type": "display_data"
    }
   ],
   "source": [
    "head(samples_tcr_probs)"
   ]
  },
  {
   "cell_type": "code",
   "execution_count": 352,
   "metadata": {
    "vscode": {
     "languageId": "r"
    }
   },
   "outputs": [],
   "source": [
    "samples_tcr_probs$Viral <- rowSums(samples_tcr_probs[, c(\"CMV\", \"EBV\", \"HCV\", \"Influenza\", \"HPV\", \"MCPyV\")], na.rm = TRUE)"
   ]
  },
  {
   "cell_type": "code",
   "execution_count": 353,
   "metadata": {
    "vscode": {
     "languageId": "r"
    }
   },
   "outputs": [
    {
     "data": {
      "text/html": [
       "<table class=\"dataframe\">\n",
       "<caption>A data.frame: 6 x 22</caption>\n",
       "<thead>\n",
       "\t<tr><th></th><th scope=col>CMV</th><th scope=col>EBV</th><th scope=col>HCV</th><th scope=col>Influenza</th><th scope=col>HomoSapiens</th><th scope=col>MDavis</th><th scope=col>HPV</th><th scope=col>CEF</th><th scope=col>TB</th><th scope=col>MCPyV</th><th scope=col>...</th><th scope=col>n_gliph</th><th scope=col>n_cdr3ingliph</th><th scope=col>cancergroup</th><th scope=col>cycle</th><th scope=col>sampletype</th><th scope=col>cyclenum</th><th scope=col>Patient</th><th scope=col>Age</th><th scope=col>group</th><th scope=col>Viral</th></tr>\n",
       "\t<tr><th></th><th scope=col>&lt;dbl&gt;</th><th scope=col>&lt;dbl&gt;</th><th scope=col>&lt;dbl&gt;</th><th scope=col>&lt;dbl&gt;</th><th scope=col>&lt;dbl&gt;</th><th scope=col>&lt;dbl&gt;</th><th scope=col>&lt;dbl&gt;</th><th scope=col>&lt;dbl&gt;</th><th scope=col>&lt;dbl&gt;</th><th scope=col>&lt;dbl&gt;</th><th scope=col>...</th><th scope=col>&lt;dbl&gt;</th><th scope=col>&lt;int&gt;</th><th scope=col>&lt;chr&gt;</th><th scope=col>&lt;chr&gt;</th><th scope=col>&lt;chr&gt;</th><th scope=col>&lt;dbl&gt;</th><th scope=col>&lt;chr&gt;</th><th scope=col>&lt;dbl&gt;</th><th scope=col>&lt;fct&gt;</th><th scope=col>&lt;dbl&gt;</th></tr>\n",
       "</thead>\n",
       "<tbody>\n",
       "\t<tr><th scope=row>Leukemia:CHP_319_X05-PBMC</th><td>0</td><td>0</td><td>0</td><td>0</td><td>0</td><td> 2</td><td>0</td><td>0</td><td>0</td><td>0</td><td>...</td><td> 3</td><td> 3</td><td>Leukemia</td><td>X05</td><td>PBMC </td><td>5</td><td>CHP_319</td><td>1</td><td>post</td><td>0</td></tr>\n",
       "\t<tr><th scope=row>Leukemia:CHP_323_X03-PBMC</th><td>2</td><td>0</td><td>1</td><td>0</td><td>0</td><td>16</td><td>0</td><td>0</td><td>0</td><td>1</td><td>...</td><td>21</td><td>12</td><td>Leukemia</td><td>X03</td><td>PBMC </td><td>3</td><td>CHP_323</td><td>1</td><td>post</td><td>4</td></tr>\n",
       "\t<tr><th scope=row>Leukemia:CHP_323_X03-cfDNA</th><td>2</td><td>0</td><td>0</td><td>0</td><td>4</td><td>33</td><td>0</td><td>0</td><td>0</td><td>0</td><td>...</td><td>49</td><td>25</td><td>Leukemia</td><td>X03</td><td>cfDNA</td><td>3</td><td>CHP_323</td><td>1</td><td>post</td><td>2</td></tr>\n",
       "\t<tr><th scope=row>Leukemia:CHP_323_X05-PBMC</th><td>1</td><td>0</td><td>0</td><td>0</td><td>2</td><td>47</td><td>0</td><td>0</td><td>0</td><td>1</td><td>...</td><td>71</td><td>36</td><td>Leukemia</td><td>X05</td><td>PBMC </td><td>5</td><td>CHP_323</td><td>1</td><td>post</td><td>2</td></tr>\n",
       "\t<tr><th scope=row>Leukemia:CHP_323_X05-cfDNA</th><td>0</td><td>0</td><td>0</td><td>0</td><td>0</td><td> 4</td><td>0</td><td>0</td><td>0</td><td>0</td><td>...</td><td> 6</td><td> 2</td><td>Leukemia</td><td>X05</td><td>cfDNA</td><td>5</td><td>CHP_323</td><td>1</td><td>post</td><td>0</td></tr>\n",
       "\t<tr><th scope=row>Leukemia:CHP_326_X05-cfDNA</th><td>0</td><td>0</td><td>3</td><td>0</td><td>0</td><td> 5</td><td>0</td><td>0</td><td>0</td><td>0</td><td>...</td><td> 8</td><td> 4</td><td>Leukemia</td><td>X05</td><td>cfDNA</td><td>5</td><td>CHP_326</td><td>4</td><td>post</td><td>3</td></tr>\n",
       "</tbody>\n",
       "</table>\n"
      ],
      "text/latex": [
       "A data.frame: 6 x 22\n",
       "\\begin{tabular}{r|lllllllllllllllllllll}\n",
       "  & CMV & EBV & HCV & Influenza & HomoSapiens & MDavis & HPV & CEF & TB & MCPyV & ... & n\\_gliph & n\\_cdr3ingliph & cancergroup & cycle & sampletype & cyclenum & Patient & Age & group & Viral\\\\\n",
       "  & <dbl> & <dbl> & <dbl> & <dbl> & <dbl> & <dbl> & <dbl> & <dbl> & <dbl> & <dbl> & ... & <dbl> & <int> & <chr> & <chr> & <chr> & <dbl> & <chr> & <dbl> & <fct> & <dbl>\\\\\n",
       "\\hline\n",
       "\tLeukemia:CHP\\_319\\_X05-PBMC & 0 & 0 & 0 & 0 & 0 &  2 & 0 & 0 & 0 & 0 & ... &  3 &  3 & Leukemia & X05 & PBMC  & 5 & CHP\\_319 & 1 & post & 0\\\\\n",
       "\tLeukemia:CHP\\_323\\_X03-PBMC & 2 & 0 & 1 & 0 & 0 & 16 & 0 & 0 & 0 & 1 & ... & 21 & 12 & Leukemia & X03 & PBMC  & 3 & CHP\\_323 & 1 & post & 4\\\\\n",
       "\tLeukemia:CHP\\_323\\_X03-cfDNA & 2 & 0 & 0 & 0 & 4 & 33 & 0 & 0 & 0 & 0 & ... & 49 & 25 & Leukemia & X03 & cfDNA & 3 & CHP\\_323 & 1 & post & 2\\\\\n",
       "\tLeukemia:CHP\\_323\\_X05-PBMC & 1 & 0 & 0 & 0 & 2 & 47 & 0 & 0 & 0 & 1 & ... & 71 & 36 & Leukemia & X05 & PBMC  & 5 & CHP\\_323 & 1 & post & 2\\\\\n",
       "\tLeukemia:CHP\\_323\\_X05-cfDNA & 0 & 0 & 0 & 0 & 0 &  4 & 0 & 0 & 0 & 0 & ... &  6 &  2 & Leukemia & X05 & cfDNA & 5 & CHP\\_323 & 1 & post & 0\\\\\n",
       "\tLeukemia:CHP\\_326\\_X05-cfDNA & 0 & 0 & 3 & 0 & 0 &  5 & 0 & 0 & 0 & 0 & ... &  8 &  4 & Leukemia & X05 & cfDNA & 5 & CHP\\_326 & 4 & post & 3\\\\\n",
       "\\end{tabular}\n"
      ],
      "text/markdown": [
       "\n",
       "A data.frame: 6 x 22\n",
       "\n",
       "| <!--/--> | CMV &lt;dbl&gt; | EBV &lt;dbl&gt; | HCV &lt;dbl&gt; | Influenza &lt;dbl&gt; | HomoSapiens &lt;dbl&gt; | MDavis &lt;dbl&gt; | HPV &lt;dbl&gt; | CEF &lt;dbl&gt; | TB &lt;dbl&gt; | MCPyV &lt;dbl&gt; | ... ... | n_gliph &lt;dbl&gt; | n_cdr3ingliph &lt;int&gt; | cancergroup &lt;chr&gt; | cycle &lt;chr&gt; | sampletype &lt;chr&gt; | cyclenum &lt;dbl&gt; | Patient &lt;chr&gt; | Age &lt;dbl&gt; | group &lt;fct&gt; | Viral &lt;dbl&gt; |\n",
       "|---|---|---|---|---|---|---|---|---|---|---|---|---|---|---|---|---|---|---|---|---|---|\n",
       "| Leukemia:CHP_319_X05-PBMC | 0 | 0 | 0 | 0 | 0 |  2 | 0 | 0 | 0 | 0 | ... |  3 |  3 | Leukemia | X05 | PBMC  | 5 | CHP_319 | 1 | post | 0 |\n",
       "| Leukemia:CHP_323_X03-PBMC | 2 | 0 | 1 | 0 | 0 | 16 | 0 | 0 | 0 | 1 | ... | 21 | 12 | Leukemia | X03 | PBMC  | 3 | CHP_323 | 1 | post | 4 |\n",
       "| Leukemia:CHP_323_X03-cfDNA | 2 | 0 | 0 | 0 | 4 | 33 | 0 | 0 | 0 | 0 | ... | 49 | 25 | Leukemia | X03 | cfDNA | 3 | CHP_323 | 1 | post | 2 |\n",
       "| Leukemia:CHP_323_X05-PBMC | 1 | 0 | 0 | 0 | 2 | 47 | 0 | 0 | 0 | 1 | ... | 71 | 36 | Leukemia | X05 | PBMC  | 5 | CHP_323 | 1 | post | 2 |\n",
       "| Leukemia:CHP_323_X05-cfDNA | 0 | 0 | 0 | 0 | 0 |  4 | 0 | 0 | 0 | 0 | ... |  6 |  2 | Leukemia | X05 | cfDNA | 5 | CHP_323 | 1 | post | 0 |\n",
       "| Leukemia:CHP_326_X05-cfDNA | 0 | 0 | 3 | 0 | 0 |  5 | 0 | 0 | 0 | 0 | ... |  8 |  4 | Leukemia | X05 | cfDNA | 5 | CHP_326 | 4 | post | 3 |\n",
       "\n"
      ],
      "text/plain": [
       "                           CMV EBV HCV Influenza HomoSapiens MDavis HPV CEF TB\n",
       "Leukemia:CHP_319_X05-PBMC  0   0   0   0         0            2     0   0   0 \n",
       "Leukemia:CHP_323_X03-PBMC  2   0   1   0         0           16     0   0   0 \n",
       "Leukemia:CHP_323_X03-cfDNA 2   0   0   0         4           33     0   0   0 \n",
       "Leukemia:CHP_323_X05-PBMC  1   0   0   0         2           47     0   0   0 \n",
       "Leukemia:CHP_323_X05-cfDNA 0   0   0   0         0            4     0   0   0 \n",
       "Leukemia:CHP_326_X05-cfDNA 0   0   3   0         0            5     0   0   0 \n",
       "                           MCPyV ... n_gliph n_cdr3ingliph cancergroup cycle\n",
       "Leukemia:CHP_319_X05-PBMC  0     ...  3       3            Leukemia    X05  \n",
       "Leukemia:CHP_323_X03-PBMC  1     ... 21      12            Leukemia    X03  \n",
       "Leukemia:CHP_323_X03-cfDNA 0     ... 49      25            Leukemia    X03  \n",
       "Leukemia:CHP_323_X05-PBMC  1     ... 71      36            Leukemia    X05  \n",
       "Leukemia:CHP_323_X05-cfDNA 0     ...  6       2            Leukemia    X05  \n",
       "Leukemia:CHP_326_X05-cfDNA 0     ...  8       4            Leukemia    X05  \n",
       "                           sampletype cyclenum Patient Age group Viral\n",
       "Leukemia:CHP_319_X05-PBMC  PBMC       5        CHP_319 1   post  0    \n",
       "Leukemia:CHP_323_X03-PBMC  PBMC       3        CHP_323 1   post  4    \n",
       "Leukemia:CHP_323_X03-cfDNA cfDNA      3        CHP_323 1   post  2    \n",
       "Leukemia:CHP_323_X05-PBMC  PBMC       5        CHP_323 1   post  2    \n",
       "Leukemia:CHP_323_X05-cfDNA cfDNA      5        CHP_323 1   post  0    \n",
       "Leukemia:CHP_326_X05-cfDNA cfDNA      5        CHP_326 4   post  3    "
      ]
     },
     "metadata": {},
     "output_type": "display_data"
    }
   ],
   "source": [
    "head(samples_tcr_probs)"
   ]
  },
  {
   "cell_type": "code",
   "execution_count": 354,
   "metadata": {
    "vscode": {
     "languageId": "r"
    }
   },
   "outputs": [
    {
     "data": {
      "text/html": [
       "<style>\n",
       ".dl-inline {width: auto; margin:0; padding: 0}\n",
       ".dl-inline>dt, .dl-inline>dd {float: none; width: auto; display: inline-block}\n",
       ".dl-inline>dt::after {content: \":\\0020\"; padding-right: .5ex}\n",
       ".dl-inline>dt:not(:first-of-type) {padding-left: .5ex}\n",
       "</style><dl class=dl-inline><dt>CEF</dt><dd>9.94826900119379e-05</dd><dt>CMV</dt><dd>0.00323318742538798</dd><dt>EBV</dt><dd>0.00213887783525667</dd><dt>Emerson</dt><dd>0.249552327894946</dd><dt>HCV</dt><dd>0.00238758456028651</dd><dt>HPV</dt><dd>0.000845602865101472</dd><dt>HomoSapiens</dt><dd>0.00910266613609232</dd><dt>Influenza</dt><dd>0.000646637485077597</dd><dt>M.tuberculosis</dt><dd>4.9741345005969e-05</dd><dt>MCPyV</dt><dd>0.00189017111022682</dd><dt>MDavis</dt><dd>0.204984082769598</dd><dt>S-pneumoniae</dt><dd>0.00179068842021488</dd></dl>\n"
      ],
      "text/latex": [
       "\\begin{description*}\n",
       "\\item[CEF] 9.94826900119379e-05\n",
       "\\item[CMV] 0.00323318742538798\n",
       "\\item[EBV] 0.00213887783525667\n",
       "\\item[Emerson] 0.249552327894946\n",
       "\\item[HCV] 0.00238758456028651\n",
       "\\item[HPV] 0.000845602865101472\n",
       "\\item[HomoSapiens] 0.00910266613609232\n",
       "\\item[Influenza] 0.000646637485077597\n",
       "\\item[M.tuberculosis] 4.9741345005969e-05\n",
       "\\item[MCPyV] 0.00189017111022682\n",
       "\\item[MDavis] 0.204984082769598\n",
       "\\item[S-pneumoniae] 0.00179068842021488\n",
       "\\end{description*}\n"
      ],
      "text/markdown": [
       "CEF\n",
       ":   9.94826900119379e-05CMV\n",
       ":   0.00323318742538798EBV\n",
       ":   0.00213887783525667Emerson\n",
       ":   0.249552327894946HCV\n",
       ":   0.00238758456028651HPV\n",
       ":   0.000845602865101472HomoSapiens\n",
       ":   0.00910266613609232Influenza\n",
       ":   0.000646637485077597M.tuberculosis\n",
       ":   4.9741345005969e-05MCPyV\n",
       ":   0.00189017111022682MDavis\n",
       ":   0.204984082769598S-pneumoniae\n",
       ":   0.00179068842021488\n",
       "\n"
      ],
      "text/plain": [
       "           CEF            CMV            EBV        Emerson            HCV \n",
       "  9.948269e-05   3.233187e-03   2.138878e-03   2.495523e-01   2.387585e-03 \n",
       "           HPV    HomoSapiens      Influenza M.tuberculosis          MCPyV \n",
       "  8.456029e-04   9.102666e-03   6.466375e-04   4.974135e-05   1.890171e-03 \n",
       "        MDavis   S-pneumoniae \n",
       "  2.049841e-01   1.790688e-03 "
      ]
     },
     "metadata": {},
     "output_type": "display_data"
    }
   ],
   "source": [
    "base_rate"
   ]
  },
  {
   "cell_type": "code",
   "execution_count": 355,
   "metadata": {
    "vscode": {
     "languageId": "r"
    }
   },
   "outputs": [],
   "source": [
    "samples_tcr_probs$Myp <- NA\n",
    "for (i in 1:nrow(samples_tcr_probs)) {\n",
    "    samples_tcr_probs$Myp[i] <- binom.test(x = samples_tcr_probs$MCPyV[i], n = samples_tcr_probs$n_gliph[i], \n",
    "    p = base_rate[\"MCPyV\"], alternative = \"greater\")$p.value\n",
    "}\n",
    "\n",
    "samples_tcr_probs$HSapiens <- NA\n",
    "for (i in 1:nrow(samples_tcr_probs)) {\n",
    "    samples_tcr_probs$HSapiens[i] <- binom.test(x = samples_tcr_probs$HomoSapiens[i], n = samples_tcr_probs$n_gliph[i], \n",
    "    p = base_rate[ \"HomoSapiens\"], alternative = \"greater\")$p.value\n",
    "}"
   ]
  },
  {
   "cell_type": "code",
   "execution_count": 356,
   "metadata": {
    "vscode": {
     "languageId": "r"
    }
   },
   "outputs": [],
   "source": [
    "samples_tcr_probs$Relapse <- meta_div$Relapse[match(rownames(samples_tcr_probs), meta_div$samplename)]"
   ]
  },
  {
   "cell_type": "code",
   "execution_count": 357,
   "metadata": {
    "vscode": {
     "languageId": "r"
    }
   },
   "outputs": [],
   "source": [
    "samples_tcr_probs$MCPyV_ratio <- samples_tcr_probs$MCPyV / samples_tcr_probs$n_gliph\n",
    "samples_tcr_probs$HomoSapiens_ratio <- samples_tcr_probs$HomoSapiens / samples_tcr_probs$n_gliph"
   ]
  },
  {
   "cell_type": "code",
   "execution_count": 363,
   "metadata": {
    "vscode": {
     "languageId": "r"
    }
   },
   "outputs": [],
   "source": [
    "pbmc <- samples_tcr_probs[ samples_tcr_probs$sampletype == \"cfDNA\",]"
   ]
  },
  {
   "cell_type": "code",
   "execution_count": 365,
   "metadata": {
    "vscode": {
     "languageId": "r"
    }
   },
   "outputs": [
    {
     "data": {
      "text/html": [
       "2"
      ],
      "text/latex": [
       "2"
      ],
      "text/markdown": [
       "2"
      ],
      "text/plain": [
       "[1] 2"
      ]
     },
     "metadata": {},
     "output_type": "display_data"
    }
   ],
   "source": [
    "-log10(0.01)"
   ]
  },
  {
   "cell_type": "code",
   "execution_count": 364,
   "metadata": {
    "vscode": {
     "languageId": "r"
    }
   },
   "outputs": [
    {
     "data": {
      "image/png": "[encoded data removed]",
      "text/plain": [
       "plot without title"
      ]
     },
     "metadata": {
      "image/png": {
       "height": 420,
       "width": 420
      }
     },
     "output_type": "display_data"
    }
   ],
   "source": [
    "ggplot(data = pbmc, aes( x = HomoSapiens_ratio, y = -log10(HSapiens))) + geom_point()"
   ]
  },
  {
   "cell_type": "code",
   "execution_count": null,
   "metadata": {
    "vscode": {
     "languageId": "r"
    }
   },
   "outputs": [],
   "source": []
  },
  {
   "cell_type": "code",
   "execution_count": 310,
   "metadata": {
    "vscode": {
     "languageId": "r"
    }
   },
   "outputs": [],
   "source": [
    "tempo <- pbmc[ pbmc$cycle != \"X01\" & pbmc$cancergroup == \"Solidtumors\", ] %>% group_by(Patient) %>% reframe( sump = mean(psuccess), rel = Relapse, p = mean(Myp) )"
   ]
  },
  {
   "cell_type": "code",
   "execution_count": 311,
   "metadata": {
    "vscode": {
     "languageId": "r"
    }
   },
   "outputs": [],
   "source": [
    "tempo_dedup <- tempo[ !duplicated(tempo$Patient), ]"
   ]
  },
  {
   "cell_type": "code",
   "execution_count": 313,
   "metadata": {
    "vscode": {
     "languageId": "r"
    }
   },
   "outputs": [
    {
     "data": {
      "text/html": [
       "<table class=\"dataframe\">\n",
       "<caption>A tibble: 44 x 4</caption>\n",
       "<thead>\n",
       "\t<tr><th scope=col>Patient</th><th scope=col>sump</th><th scope=col>rel</th><th scope=col>p</th></tr>\n",
       "\t<tr><th scope=col>&lt;chr&gt;</th><th scope=col>&lt;dbl&gt;</th><th scope=col>&lt;int&gt;</th><th scope=col>&lt;dbl&gt;</th></tr>\n",
       "</thead>\n",
       "<tbody>\n",
       "\t<tr><td>CHP_330</td><td>0.000000000</td><td>0</td><td>1.000000e+00</td></tr>\n",
       "\t<tr><td>CHP_335</td><td>0.000000000</td><td>0</td><td>1.000000e+00</td></tr>\n",
       "\t<tr><td>CHP_343</td><td>0.000000000</td><td>0</td><td>1.000000e+00</td></tr>\n",
       "\t<tr><td>CHP_343</td><td>0.000000000</td><td>0</td><td>1.000000e+00</td></tr>\n",
       "\t<tr><td>CHP_343</td><td>0.000000000</td><td>0</td><td>1.000000e+00</td></tr>\n",
       "\t<tr><td>CHP_343</td><td>0.000000000</td><td>0</td><td>1.000000e+00</td></tr>\n",
       "\t<tr><td>CHP_348</td><td>0.000000000</td><td>0</td><td>1.000000e+00</td></tr>\n",
       "\t<tr><td>CHP_350</td><td>0.017960317</td><td>0</td><td>3.201736e-01</td></tr>\n",
       "\t<tr><td>CHP_350</td><td>0.017960317</td><td>0</td><td>3.201736e-01</td></tr>\n",
       "\t<tr><td>CHP_350</td><td>0.017960317</td><td>0</td><td>3.201736e-01</td></tr>\n",
       "\t<tr><td>CHP_350</td><td>0.017960317</td><td>0</td><td>3.201736e-01</td></tr>\n",
       "\t<tr><td>CHP_351</td><td>0.012531328</td><td>0</td><td>1.071561e-03</td></tr>\n",
       "\t<tr><td>CHP_356</td><td>0.000000000</td><td>1</td><td>1.000000e+00</td></tr>\n",
       "\t<tr><td>CHP_356</td><td>0.000000000</td><td>1</td><td>1.000000e+00</td></tr>\n",
       "\t<tr><td>CHP_358</td><td>0.002066116</td><td>0</td><td>6.836802e-01</td></tr>\n",
       "\t<tr><td>CHP_358</td><td>0.002066116</td><td>0</td><td>6.836802e-01</td></tr>\n",
       "\t<tr><td>CHP_362</td><td>0.002283105</td><td>0</td><td>7.471195e-01</td></tr>\n",
       "\t<tr><td>CHP_362</td><td>0.002283105</td><td>0</td><td>7.471195e-01</td></tr>\n",
       "\t<tr><td>CHP_362</td><td>0.002283105</td><td>0</td><td>7.471195e-01</td></tr>\n",
       "\t<tr><td>CHP_363</td><td>0.000000000</td><td>0</td><td>1.000000e+00</td></tr>\n",
       "\t<tr><td>CHP_363</td><td>0.000000000</td><td>0</td><td>1.000000e+00</td></tr>\n",
       "\t<tr><td>CHP_364</td><td>0.000000000</td><td>1</td><td>1.000000e+00</td></tr>\n",
       "\t<tr><td>CHP_364</td><td>0.000000000</td><td>1</td><td>1.000000e+00</td></tr>\n",
       "\t<tr><td>CHP_368</td><td>0.004115226</td><td>1</td><td>3.685561e-01</td></tr>\n",
       "\t<tr><td>CHP_374</td><td>0.006172840</td><td>0</td><td>6.990401e-01</td></tr>\n",
       "\t<tr><td>CHP_374</td><td>0.006172840</td><td>0</td><td>6.990401e-01</td></tr>\n",
       "\t<tr><td>CHP_374</td><td>0.006172840</td><td>0</td><td>6.990401e-01</td></tr>\n",
       "\t<tr><td>CHP_381</td><td>0.022160665</td><td>0</td><td>5.967845e-07</td></tr>\n",
       "\t<tr><td>CHP_390</td><td>0.000000000</td><td>1</td><td>1.000000e+00</td></tr>\n",
       "\t<tr><td>CHP_393</td><td>0.009881423</td><td>0</td><td>5.000679e-01</td></tr>\n",
       "\t<tr><td>CHP_393</td><td>0.009881423</td><td>0</td><td>5.000679e-01</td></tr>\n",
       "\t<tr><td>CHP_394</td><td>0.000000000</td><td>0</td><td>1.000000e+00</td></tr>\n",
       "\t<tr><td>CHP_401</td><td>0.009803922</td><td>0</td><td>5.459905e-01</td></tr>\n",
       "\t<tr><td>CHP_401</td><td>0.009803922</td><td>0</td><td>5.459905e-01</td></tr>\n",
       "\t<tr><td>CHP_404</td><td>0.006476684</td><td>0</td><td>5.004628e-01</td></tr>\n",
       "\t<tr><td>CHP_404</td><td>0.006476684</td><td>0</td><td>5.004628e-01</td></tr>\n",
       "\t<tr><td>CHP_408</td><td>0.032734024</td><td>0</td><td>7.165200e-02</td></tr>\n",
       "\t<tr><td>CHP_408</td><td>0.032734024</td><td>0</td><td>7.165200e-02</td></tr>\n",
       "\t<tr><td>CHP_409</td><td>0.000000000</td><td>0</td><td>1.000000e+00</td></tr>\n",
       "\t<tr><td>CHP_409</td><td>0.000000000</td><td>0</td><td>1.000000e+00</td></tr>\n",
       "\t<tr><td>CHP_414</td><td>0.010706719</td><td>0</td><td>1.727564e-01</td></tr>\n",
       "\t<tr><td>CHP_414</td><td>0.010706719</td><td>0</td><td>1.727564e-01</td></tr>\n",
       "\t<tr><td>CHP_418</td><td>0.000000000</td><td>1</td><td>1.000000e+00</td></tr>\n",
       "\t<tr><td>CHP_419</td><td>0.000000000</td><td>0</td><td>1.000000e+00</td></tr>\n",
       "</tbody>\n",
       "</table>\n"
      ],
      "text/latex": [
       "A tibble: 44 x 4\n",
       "\\begin{tabular}{llll}\n",
       " Patient & sump & rel & p\\\\\n",
       " <chr> & <dbl> & <int> & <dbl>\\\\\n",
       "\\hline\n",
       "\t CHP\\_330 & 0.000000000 & 0 & 1.000000e+00\\\\\n",
       "\t CHP\\_335 & 0.000000000 & 0 & 1.000000e+00\\\\\n",
       "\t CHP\\_343 & 0.000000000 & 0 & 1.000000e+00\\\\\n",
       "\t CHP\\_343 & 0.000000000 & 0 & 1.000000e+00\\\\\n",
       "\t CHP\\_343 & 0.000000000 & 0 & 1.000000e+00\\\\\n",
       "\t CHP\\_343 & 0.000000000 & 0 & 1.000000e+00\\\\\n",
       "\t CHP\\_348 & 0.000000000 & 0 & 1.000000e+00\\\\\n",
       "\t CHP\\_350 & 0.017960317 & 0 & 3.201736e-01\\\\\n",
       "\t CHP\\_350 & 0.017960317 & 0 & 3.201736e-01\\\\\n",
       "\t CHP\\_350 & 0.017960317 & 0 & 3.201736e-01\\\\\n",
       "\t CHP\\_350 & 0.017960317 & 0 & 3.201736e-01\\\\\n",
       "\t CHP\\_351 & 0.012531328 & 0 & 1.071561e-03\\\\\n",
       "\t CHP\\_356 & 0.000000000 & 1 & 1.000000e+00\\\\\n",
       "\t CHP\\_356 & 0.000000000 & 1 & 1.000000e+00\\\\\n",
       "\t CHP\\_358 & 0.002066116 & 0 & 6.836802e-01\\\\\n",
       "\t CHP\\_358 & 0.002066116 & 0 & 6.836802e-01\\\\\n",
       "\t CHP\\_362 & 0.002283105 & 0 & 7.471195e-01\\\\\n",
       "\t CHP\\_362 & 0.002283105 & 0 & 7.471195e-01\\\\\n",
       "\t CHP\\_362 & 0.002283105 & 0 & 7.471195e-01\\\\\n",
       "\t CHP\\_363 & 0.000000000 & 0 & 1.000000e+00\\\\\n",
       "\t CHP\\_363 & 0.000000000 & 0 & 1.000000e+00\\\\\n",
       "\t CHP\\_364 & 0.000000000 & 1 & 1.000000e+00\\\\\n",
       "\t CHP\\_364 & 0.000000000 & 1 & 1.000000e+00\\\\\n",
       "\t CHP\\_368 & 0.004115226 & 1 & 3.685561e-01\\\\\n",
       "\t CHP\\_374 & 0.006172840 & 0 & 6.990401e-01\\\\\n",
       "\t CHP\\_374 & 0.006172840 & 0 & 6.990401e-01\\\\\n",
       "\t CHP\\_374 & 0.006172840 & 0 & 6.990401e-01\\\\\n",
       "\t CHP\\_381 & 0.022160665 & 0 & 5.967845e-07\\\\\n",
       "\t CHP\\_390 & 0.000000000 & 1 & 1.000000e+00\\\\\n",
       "\t CHP\\_393 & 0.009881423 & 0 & 5.000679e-01\\\\\n",
       "\t CHP\\_393 & 0.009881423 & 0 & 5.000679e-01\\\\\n",
       "\t CHP\\_394 & 0.000000000 & 0 & 1.000000e+00\\\\\n",
       "\t CHP\\_401 & 0.009803922 & 0 & 5.459905e-01\\\\\n",
       "\t CHP\\_401 & 0.009803922 & 0 & 5.459905e-01\\\\\n",
       "\t CHP\\_404 & 0.006476684 & 0 & 5.004628e-01\\\\\n",
       "\t CHP\\_404 & 0.006476684 & 0 & 5.004628e-01\\\\\n",
       "\t CHP\\_408 & 0.032734024 & 0 & 7.165200e-02\\\\\n",
       "\t CHP\\_408 & 0.032734024 & 0 & 7.165200e-02\\\\\n",
       "\t CHP\\_409 & 0.000000000 & 0 & 1.000000e+00\\\\\n",
       "\t CHP\\_409 & 0.000000000 & 0 & 1.000000e+00\\\\\n",
       "\t CHP\\_414 & 0.010706719 & 0 & 1.727564e-01\\\\\n",
       "\t CHP\\_414 & 0.010706719 & 0 & 1.727564e-01\\\\\n",
       "\t CHP\\_418 & 0.000000000 & 1 & 1.000000e+00\\\\\n",
       "\t CHP\\_419 & 0.000000000 & 0 & 1.000000e+00\\\\\n",
       "\\end{tabular}\n"
      ],
      "text/markdown": [
       "\n",
       "A tibble: 44 x 4\n",
       "\n",
       "| Patient &lt;chr&gt; | sump &lt;dbl&gt; | rel &lt;int&gt; | p &lt;dbl&gt; |\n",
       "|---|---|---|---|\n",
       "| CHP_330 | 0.000000000 | 0 | 1.000000e+00 |\n",
       "| CHP_335 | 0.000000000 | 0 | 1.000000e+00 |\n",
       "| CHP_343 | 0.000000000 | 0 | 1.000000e+00 |\n",
       "| CHP_343 | 0.000000000 | 0 | 1.000000e+00 |\n",
       "| CHP_343 | 0.000000000 | 0 | 1.000000e+00 |\n",
       "| CHP_343 | 0.000000000 | 0 | 1.000000e+00 |\n",
       "| CHP_348 | 0.000000000 | 0 | 1.000000e+00 |\n",
       "| CHP_350 | 0.017960317 | 0 | 3.201736e-01 |\n",
       "| CHP_350 | 0.017960317 | 0 | 3.201736e-01 |\n",
       "| CHP_350 | 0.017960317 | 0 | 3.201736e-01 |\n",
       "| CHP_350 | 0.017960317 | 0 | 3.201736e-01 |\n",
       "| CHP_351 | 0.012531328 | 0 | 1.071561e-03 |\n",
       "| CHP_356 | 0.000000000 | 1 | 1.000000e+00 |\n",
       "| CHP_356 | 0.000000000 | 1 | 1.000000e+00 |\n",
       "| CHP_358 | 0.002066116 | 0 | 6.836802e-01 |\n",
       "| CHP_358 | 0.002066116 | 0 | 6.836802e-01 |\n",
       "| CHP_362 | 0.002283105 | 0 | 7.471195e-01 |\n",
       "| CHP_362 | 0.002283105 | 0 | 7.471195e-01 |\n",
       "| CHP_362 | 0.002283105 | 0 | 7.471195e-01 |\n",
       "| CHP_363 | 0.000000000 | 0 | 1.000000e+00 |\n",
       "| CHP_363 | 0.000000000 | 0 | 1.000000e+00 |\n",
       "| CHP_364 | 0.000000000 | 1 | 1.000000e+00 |\n",
       "| CHP_364 | 0.000000000 | 1 | 1.000000e+00 |\n",
       "| CHP_368 | 0.004115226 | 1 | 3.685561e-01 |\n",
       "| CHP_374 | 0.006172840 | 0 | 6.990401e-01 |\n",
       "| CHP_374 | 0.006172840 | 0 | 6.990401e-01 |\n",
       "| CHP_374 | 0.006172840 | 0 | 6.990401e-01 |\n",
       "| CHP_381 | 0.022160665 | 0 | 5.967845e-07 |\n",
       "| CHP_390 | 0.000000000 | 1 | 1.000000e+00 |\n",
       "| CHP_393 | 0.009881423 | 0 | 5.000679e-01 |\n",
       "| CHP_393 | 0.009881423 | 0 | 5.000679e-01 |\n",
       "| CHP_394 | 0.000000000 | 0 | 1.000000e+00 |\n",
       "| CHP_401 | 0.009803922 | 0 | 5.459905e-01 |\n",
       "| CHP_401 | 0.009803922 | 0 | 5.459905e-01 |\n",
       "| CHP_404 | 0.006476684 | 0 | 5.004628e-01 |\n",
       "| CHP_404 | 0.006476684 | 0 | 5.004628e-01 |\n",
       "| CHP_408 | 0.032734024 | 0 | 7.165200e-02 |\n",
       "| CHP_408 | 0.032734024 | 0 | 7.165200e-02 |\n",
       "| CHP_409 | 0.000000000 | 0 | 1.000000e+00 |\n",
       "| CHP_409 | 0.000000000 | 0 | 1.000000e+00 |\n",
       "| CHP_414 | 0.010706719 | 0 | 1.727564e-01 |\n",
       "| CHP_414 | 0.010706719 | 0 | 1.727564e-01 |\n",
       "| CHP_418 | 0.000000000 | 1 | 1.000000e+00 |\n",
       "| CHP_419 | 0.000000000 | 0 | 1.000000e+00 |\n",
       "\n"
      ],
      "text/plain": [
       "   Patient sump        rel p           \n",
       "1  CHP_330 0.000000000 0   1.000000e+00\n",
       "2  CHP_335 0.000000000 0   1.000000e+00\n",
       "3  CHP_343 0.000000000 0   1.000000e+00\n",
       "4  CHP_343 0.000000000 0   1.000000e+00\n",
       "5  CHP_343 0.000000000 0   1.000000e+00\n",
       "6  CHP_343 0.000000000 0   1.000000e+00\n",
       "7  CHP_348 0.000000000 0   1.000000e+00\n",
       "8  CHP_350 0.017960317 0   3.201736e-01\n",
       "9  CHP_350 0.017960317 0   3.201736e-01\n",
       "10 CHP_350 0.017960317 0   3.201736e-01\n",
       "11 CHP_350 0.017960317 0   3.201736e-01\n",
       "12 CHP_351 0.012531328 0   1.071561e-03\n",
       "13 CHP_356 0.000000000 1   1.000000e+00\n",
       "14 CHP_356 0.000000000 1   1.000000e+00\n",
       "15 CHP_358 0.002066116 0   6.836802e-01\n",
       "16 CHP_358 0.002066116 0   6.836802e-01\n",
       "17 CHP_362 0.002283105 0   7.471195e-01\n",
       "18 CHP_362 0.002283105 0   7.471195e-01\n",
       "19 CHP_362 0.002283105 0   7.471195e-01\n",
       "20 CHP_363 0.000000000 0   1.000000e+00\n",
       "21 CHP_363 0.000000000 0   1.000000e+00\n",
       "22 CHP_364 0.000000000 1   1.000000e+00\n",
       "23 CHP_364 0.000000000 1   1.000000e+00\n",
       "24 CHP_368 0.004115226 1   3.685561e-01\n",
       "25 CHP_374 0.006172840 0   6.990401e-01\n",
       "26 CHP_374 0.006172840 0   6.990401e-01\n",
       "27 CHP_374 0.006172840 0   6.990401e-01\n",
       "28 CHP_381 0.022160665 0   5.967845e-07\n",
       "29 CHP_390 0.000000000 1   1.000000e+00\n",
       "30 CHP_393 0.009881423 0   5.000679e-01\n",
       "31 CHP_393 0.009881423 0   5.000679e-01\n",
       "32 CHP_394 0.000000000 0   1.000000e+00\n",
       "33 CHP_401 0.009803922 0   5.459905e-01\n",
       "34 CHP_401 0.009803922 0   5.459905e-01\n",
       "35 CHP_404 0.006476684 0   5.004628e-01\n",
       "36 CHP_404 0.006476684 0   5.004628e-01\n",
       "37 CHP_408 0.032734024 0   7.165200e-02\n",
       "38 CHP_408 0.032734024 0   7.165200e-02\n",
       "39 CHP_409 0.000000000 0   1.000000e+00\n",
       "40 CHP_409 0.000000000 0   1.000000e+00\n",
       "41 CHP_414 0.010706719 0   1.727564e-01\n",
       "42 CHP_414 0.010706719 0   1.727564e-01\n",
       "43 CHP_418 0.000000000 1   1.000000e+00\n",
       "44 CHP_419 0.000000000 0   1.000000e+00"
      ]
     },
     "metadata": {},
     "output_type": "display_data"
    }
   ],
   "source": [
    "tempo"
   ]
  },
  {
   "cell_type": "code",
   "execution_count": 304,
   "metadata": {
    "vscode": {
     "languageId": "r"
    }
   },
   "outputs": [
    {
     "data": {
      "text/plain": [
       "\n",
       "Call:\n",
       "glm(formula = f, family = \"binomial\", data = tempo[!duplicated(tempo$Patient), \n",
       "    ])\n",
       "\n",
       "Deviance Residuals: \n",
       "     Min        1Q    Median        3Q       Max  \n",
       "-0.91344  -0.91344  -0.34976  -0.04433   1.95225  \n",
       "\n",
       "Coefficients:\n",
       "             Estimate Std. Error z value Pr(>|z|)\n",
       "(Intercept)   -0.6584     0.5835  -1.128    0.259\n",
       "sump        -263.9580   214.3443  -1.231    0.218\n",
       "\n",
       "(Dispersion parameter for binomial family taken to be 1)\n",
       "\n",
       "    Null deviance: 24.564  on 23  degrees of freedom\n",
       "Residual deviance: 20.748  on 22  degrees of freedom\n",
       "AIC: 24.748\n",
       "\n",
       "Number of Fisher Scoring iterations: 7\n"
      ]
     },
     "metadata": {},
     "output_type": "display_data"
    }
   ],
   "source": [
    "f <- as.formula(paste0(\"rel~\", \"sump\"))\n",
    "\n",
    "lrmodel <- glm(f, data = tempo[ !duplicated(tempo$Patient), ], family = \"binomial\")\n",
    "\n",
    "summary(lrmodel)\n"
   ]
  },
  {
   "cell_type": "markdown",
   "metadata": {},
   "source": [
    "## 2.2 - Binomial probablities of finding at least one motif in a sample"
   ]
  },
  {
   "cell_type": "code",
   "execution_count": 35,
   "metadata": {
    "vscode": {
     "languageId": "r"
    }
   },
   "outputs": [],
   "source": [
    "samples_tcr_probs$CMVp <- 1 - (1 - base_rate[\"CMV\"]) ^ samples_tcr_probs$n_cdr3\n",
    "samples_tcr_probs$EBVp <- 1 - (1 - base_rate[\"EBV\"]) ^ samples_tcr_probs$n_cdr3\n",
    "samples_tcr_probs$Flup <- 1 - (1 - base_rate[\"Influenza\"]) ^ samples_tcr_probs$n_cdr3\n",
    "samples_tcr_probs$HCVp <- 1 - (1 - base_rate[\"HCV\"]) ^ samples_tcr_probs$n_cdr3\n",
    "samples_tcr_probs$HPVp <- 1 - (1 - base_rate[\"HPV\"]) ^ samples_tcr_probs$n_cdr3\n",
    "samples_tcr_probs$CEFp <- 1 - (1 - base_rate[\"CEF\"]) ^ samples_tcr_probs$n_cdr3\n",
    "samples_tcr_probs$HSp <- 1 - (1 - base_rate[\"HomoSapiens\"]) ^ samples_tcr_probs$n_cdr3\n",
    "samples_tcr_probs$MCPyVp <- 1 - (1 - base_rate[\"MCPyV\"]) ^ samples_tcr_probs$n_cdr3\n",
    "samples_tcr_probs$MDavisp <- 1 - (1 - base_rate[\"MDavis\"]) ^ samples_tcr_probs$n_cdr3"
   ]
  },
  {
   "cell_type": "code",
   "execution_count": 36,
   "metadata": {
    "vscode": {
     "languageId": "r"
    }
   },
   "outputs": [
    {
     "data": {
      "text/html": [
       "<table class=\"dataframe\">\n",
       "<caption>A data.frame: 6 x 29</caption>\n",
       "<thead>\n",
       "\t<tr><th></th><th scope=col>CMV</th><th scope=col>EBV</th><th scope=col>HCV</th><th scope=col>Influenza</th><th scope=col>HomoSapiens</th><th scope=col>MDavis</th><th scope=col>HPV</th><th scope=col>CEF</th><th scope=col>TB</th><th scope=col>MCPyV</th><th scope=col>...</th><th scope=col>Age</th><th scope=col>CMVp</th><th scope=col>EBVp</th><th scope=col>Flup</th><th scope=col>HCVp</th><th scope=col>HPVp</th><th scope=col>CEFp</th><th scope=col>HSp</th><th scope=col>MCPyVp</th><th scope=col>MDavisp</th></tr>\n",
       "\t<tr><th></th><th scope=col>&lt;dbl&gt;</th><th scope=col>&lt;dbl&gt;</th><th scope=col>&lt;dbl&gt;</th><th scope=col>&lt;dbl&gt;</th><th scope=col>&lt;dbl&gt;</th><th scope=col>&lt;dbl&gt;</th><th scope=col>&lt;dbl&gt;</th><th scope=col>&lt;dbl&gt;</th><th scope=col>&lt;dbl&gt;</th><th scope=col>&lt;dbl&gt;</th><th scope=col>...</th><th scope=col>&lt;dbl&gt;</th><th scope=col>&lt;dbl&gt;</th><th scope=col>&lt;dbl&gt;</th><th scope=col>&lt;dbl&gt;</th><th scope=col>&lt;dbl&gt;</th><th scope=col>&lt;dbl&gt;</th><th scope=col>&lt;dbl&gt;</th><th scope=col>&lt;dbl&gt;</th><th scope=col>&lt;dbl&gt;</th><th scope=col>&lt;dbl&gt;</th></tr>\n",
       "</thead>\n",
       "<tbody>\n",
       "\t<tr><th scope=row>Leukemia:CHP_319_X05-PBMC</th><td>0</td><td>0</td><td>0</td><td>0</td><td>0</td><td> 2</td><td>0</td><td>0</td><td>0</td><td>0</td><td>...</td><td>1</td><td>0.05308218</td><td>0.04241280</td><td>0.00972755</td><td>0.03568757</td><td>0.01318022</td><td>0.001395089</td><td>0.1406084</td><td>0.02891827</td><td>0.9799569</td></tr>\n",
       "\t<tr><th scope=row>Leukemia:CHP_323_X03-PBMC</th><td>2</td><td>0</td><td>1</td><td>0</td><td>0</td><td>16</td><td>0</td><td>0</td><td>0</td><td>1</td><td>...</td><td>1</td><td>0.15094296</td><td>0.12191815</td><td>0.02889969</td><td>0.10328734</td><td>0.03902179</td><td>0.004179431</td><td>0.3652930</td><td>0.08427020</td><td>0.9999919</td></tr>\n",
       "\t<tr><th scope=row>Leukemia:CHP_323_X03-cfDNA</th><td>2</td><td>0</td><td>0</td><td>0</td><td>4</td><td>33</td><td>0</td><td>0</td><td>0</td><td>0</td><td>...</td><td>1</td><td>0.31238652</td><td>0.25739497</td><td>0.06491967</td><td>0.22083639</td><td>0.08707897</td><td>0.009540498</td><td>0.6467256</td><td>0.18249634</td><td>1.0000000</td></tr>\n",
       "\t<tr><th scope=row>Leukemia:CHP_323_X05-PBMC</th><td>1</td><td>0</td><td>0</td><td>0</td><td>2</td><td>47</td><td>0</td><td>0</td><td>0</td><td>1</td><td>...</td><td>1</td><td>0.42669551</td><td>0.35728417</td><td>0.09489720</td><td>0.30972647</td><td>0.12657416</td><td>0.014138937</td><td>0.7868187</td><td>0.25867443</td><td>1.0000000</td></tr>\n",
       "\t<tr><th scope=row>Leukemia:CHP_323_X05-cfDNA</th><td>0</td><td>0</td><td>0</td><td>0</td><td>0</td><td> 4</td><td>0</td><td>0</td><td>0</td><td>0</td><td>...</td><td>1</td><td>0.05308218</td><td>0.04241280</td><td>0.00972755</td><td>0.03568757</td><td>0.01318022</td><td>0.001395089</td><td>0.1406084</td><td>0.02891827</td><td>0.9799569</td></tr>\n",
       "\t<tr><th scope=row>Leukemia:CHP_326_X05-cfDNA</th><td>0</td><td>0</td><td>3</td><td>0</td><td>0</td><td> 5</td><td>0</td><td>0</td><td>0</td><td>0</td><td>...</td><td>4</td><td>0.08689551</td><td>0.06968386</td><td>0.01615996</td><td>0.05876888</td><td>0.02187038</td><td>0.002324067</td><td>0.2231834</td><td>0.04773102</td><td>0.9985211</td></tr>\n",
       "</tbody>\n",
       "</table>\n"
      ],
      "text/latex": [
       "A data.frame: 6 x 29\n",
       "\\begin{tabular}{r|lllllllllllllllllllll}\n",
       "  & CMV & EBV & HCV & Influenza & HomoSapiens & MDavis & HPV & CEF & TB & MCPyV & ... & Age & CMVp & EBVp & Flup & HCVp & HPVp & CEFp & HSp & MCPyVp & MDavisp\\\\\n",
       "  & <dbl> & <dbl> & <dbl> & <dbl> & <dbl> & <dbl> & <dbl> & <dbl> & <dbl> & <dbl> & ... & <dbl> & <dbl> & <dbl> & <dbl> & <dbl> & <dbl> & <dbl> & <dbl> & <dbl> & <dbl>\\\\\n",
       "\\hline\n",
       "\tLeukemia:CHP\\_319\\_X05-PBMC & 0 & 0 & 0 & 0 & 0 &  2 & 0 & 0 & 0 & 0 & ... & 1 & 0.05308218 & 0.04241280 & 0.00972755 & 0.03568757 & 0.01318022 & 0.001395089 & 0.1406084 & 0.02891827 & 0.9799569\\\\\n",
       "\tLeukemia:CHP\\_323\\_X03-PBMC & 2 & 0 & 1 & 0 & 0 & 16 & 0 & 0 & 0 & 1 & ... & 1 & 0.15094296 & 0.12191815 & 0.02889969 & 0.10328734 & 0.03902179 & 0.004179431 & 0.3652930 & 0.08427020 & 0.9999919\\\\\n",
       "\tLeukemia:CHP\\_323\\_X03-cfDNA & 2 & 0 & 0 & 0 & 4 & 33 & 0 & 0 & 0 & 0 & ... & 1 & 0.31238652 & 0.25739497 & 0.06491967 & 0.22083639 & 0.08707897 & 0.009540498 & 0.6467256 & 0.18249634 & 1.0000000\\\\\n",
       "\tLeukemia:CHP\\_323\\_X05-PBMC & 1 & 0 & 0 & 0 & 2 & 47 & 0 & 0 & 0 & 1 & ... & 1 & 0.42669551 & 0.35728417 & 0.09489720 & 0.30972647 & 0.12657416 & 0.014138937 & 0.7868187 & 0.25867443 & 1.0000000\\\\\n",
       "\tLeukemia:CHP\\_323\\_X05-cfDNA & 0 & 0 & 0 & 0 & 0 &  4 & 0 & 0 & 0 & 0 & ... & 1 & 0.05308218 & 0.04241280 & 0.00972755 & 0.03568757 & 0.01318022 & 0.001395089 & 0.1406084 & 0.02891827 & 0.9799569\\\\\n",
       "\tLeukemia:CHP\\_326\\_X05-cfDNA & 0 & 0 & 3 & 0 & 0 &  5 & 0 & 0 & 0 & 0 & ... & 4 & 0.08689551 & 0.06968386 & 0.01615996 & 0.05876888 & 0.02187038 & 0.002324067 & 0.2231834 & 0.04773102 & 0.9985211\\\\\n",
       "\\end{tabular}\n"
      ],
      "text/markdown": [
       "\n",
       "A data.frame: 6 x 29\n",
       "\n",
       "| <!--/--> | CMV &lt;dbl&gt; | EBV &lt;dbl&gt; | HCV &lt;dbl&gt; | Influenza &lt;dbl&gt; | HomoSapiens &lt;dbl&gt; | MDavis &lt;dbl&gt; | HPV &lt;dbl&gt; | CEF &lt;dbl&gt; | TB &lt;dbl&gt; | MCPyV &lt;dbl&gt; | ... ... | Age &lt;dbl&gt; | CMVp &lt;dbl&gt; | EBVp &lt;dbl&gt; | Flup &lt;dbl&gt; | HCVp &lt;dbl&gt; | HPVp &lt;dbl&gt; | CEFp &lt;dbl&gt; | HSp &lt;dbl&gt; | MCPyVp &lt;dbl&gt; | MDavisp &lt;dbl&gt; |\n",
       "|---|---|---|---|---|---|---|---|---|---|---|---|---|---|---|---|---|---|---|---|---|---|\n",
       "| Leukemia:CHP_319_X05-PBMC | 0 | 0 | 0 | 0 | 0 |  2 | 0 | 0 | 0 | 0 | ... | 1 | 0.05308218 | 0.04241280 | 0.00972755 | 0.03568757 | 0.01318022 | 0.001395089 | 0.1406084 | 0.02891827 | 0.9799569 |\n",
       "| Leukemia:CHP_323_X03-PBMC | 2 | 0 | 1 | 0 | 0 | 16 | 0 | 0 | 0 | 1 | ... | 1 | 0.15094296 | 0.12191815 | 0.02889969 | 0.10328734 | 0.03902179 | 0.004179431 | 0.3652930 | 0.08427020 | 0.9999919 |\n",
       "| Leukemia:CHP_323_X03-cfDNA | 2 | 0 | 0 | 0 | 4 | 33 | 0 | 0 | 0 | 0 | ... | 1 | 0.31238652 | 0.25739497 | 0.06491967 | 0.22083639 | 0.08707897 | 0.009540498 | 0.6467256 | 0.18249634 | 1.0000000 |\n",
       "| Leukemia:CHP_323_X05-PBMC | 1 | 0 | 0 | 0 | 2 | 47 | 0 | 0 | 0 | 1 | ... | 1 | 0.42669551 | 0.35728417 | 0.09489720 | 0.30972647 | 0.12657416 | 0.014138937 | 0.7868187 | 0.25867443 | 1.0000000 |\n",
       "| Leukemia:CHP_323_X05-cfDNA | 0 | 0 | 0 | 0 | 0 |  4 | 0 | 0 | 0 | 0 | ... | 1 | 0.05308218 | 0.04241280 | 0.00972755 | 0.03568757 | 0.01318022 | 0.001395089 | 0.1406084 | 0.02891827 | 0.9799569 |\n",
       "| Leukemia:CHP_326_X05-cfDNA | 0 | 0 | 3 | 0 | 0 |  5 | 0 | 0 | 0 | 0 | ... | 4 | 0.08689551 | 0.06968386 | 0.01615996 | 0.05876888 | 0.02187038 | 0.002324067 | 0.2231834 | 0.04773102 | 0.9985211 |\n",
       "\n"
      ],
      "text/plain": [
       "                           CMV EBV HCV Influenza HomoSapiens MDavis HPV CEF TB\n",
       "Leukemia:CHP_319_X05-PBMC  0   0   0   0         0            2     0   0   0 \n",
       "Leukemia:CHP_323_X03-PBMC  2   0   1   0         0           16     0   0   0 \n",
       "Leukemia:CHP_323_X03-cfDNA 2   0   0   0         4           33     0   0   0 \n",
       "Leukemia:CHP_323_X05-PBMC  1   0   0   0         2           47     0   0   0 \n",
       "Leukemia:CHP_323_X05-cfDNA 0   0   0   0         0            4     0   0   0 \n",
       "Leukemia:CHP_326_X05-cfDNA 0   0   3   0         0            5     0   0   0 \n",
       "                           MCPyV ... Age CMVp       EBVp       Flup      \n",
       "Leukemia:CHP_319_X05-PBMC  0     ... 1   0.05308218 0.04241280 0.00972755\n",
       "Leukemia:CHP_323_X03-PBMC  1     ... 1   0.15094296 0.12191815 0.02889969\n",
       "Leukemia:CHP_323_X03-cfDNA 0     ... 1   0.31238652 0.25739497 0.06491967\n",
       "Leukemia:CHP_323_X05-PBMC  1     ... 1   0.42669551 0.35728417 0.09489720\n",
       "Leukemia:CHP_323_X05-cfDNA 0     ... 1   0.05308218 0.04241280 0.00972755\n",
       "Leukemia:CHP_326_X05-cfDNA 0     ... 4   0.08689551 0.06968386 0.01615996\n",
       "                           HCVp       HPVp       CEFp        HSp      \n",
       "Leukemia:CHP_319_X05-PBMC  0.03568757 0.01318022 0.001395089 0.1406084\n",
       "Leukemia:CHP_323_X03-PBMC  0.10328734 0.03902179 0.004179431 0.3652930\n",
       "Leukemia:CHP_323_X03-cfDNA 0.22083639 0.08707897 0.009540498 0.6467256\n",
       "Leukemia:CHP_323_X05-PBMC  0.30972647 0.12657416 0.014138937 0.7868187\n",
       "Leukemia:CHP_323_X05-cfDNA 0.03568757 0.01318022 0.001395089 0.1406084\n",
       "Leukemia:CHP_326_X05-cfDNA 0.05876888 0.02187038 0.002324067 0.2231834\n",
       "                           MCPyVp     MDavisp  \n",
       "Leukemia:CHP_319_X05-PBMC  0.02891827 0.9799569\n",
       "Leukemia:CHP_323_X03-PBMC  0.08427020 0.9999919\n",
       "Leukemia:CHP_323_X03-cfDNA 0.18249634 1.0000000\n",
       "Leukemia:CHP_323_X05-PBMC  0.25867443 1.0000000\n",
       "Leukemia:CHP_323_X05-cfDNA 0.02891827 0.9799569\n",
       "Leukemia:CHP_326_X05-cfDNA 0.04773102 0.9985211"
      ]
     },
     "metadata": {},
     "output_type": "display_data"
    }
   ],
   "source": [
    "head(samples_tcr_probs)"
   ]
  },
  {
   "cell_type": "code",
   "execution_count": 75,
   "metadata": {
    "vscode": {
     "languageId": "r"
    }
   },
   "outputs": [],
   "source": [
    "pbmc <- samples_tcr_probs[ samples_tcr_probs$sampletype == \"PBMC\",]"
   ]
  },
  {
   "cell_type": "code",
   "execution_count": 77,
   "metadata": {
    "vscode": {
     "languageId": "r"
    }
   },
   "outputs": [
    {
     "data": {
      "text/plain": [
       "\n",
       "\tPairwise comparisons using t tests with pooled SD \n",
       "\n",
       "data:  pbmc[pbmc$cycle == \"X01\", \"Influenza\"] and pbmc$cancergroup[pbmc$cycle == \"X01\"] \n",
       "\n",
       "                   Leukemia Lymphoma Solidtumors\n",
       "Lymphoma           0.91     -        -          \n",
       "Solidtumors        0.65     0.68     -          \n",
       "T-cellmalignancies 0.54     0.63     0.42       \n",
       "\n",
       "P value adjustment method: none "
      ]
     },
     "metadata": {},
     "output_type": "display_data"
    }
   ],
   "source": [
    "pairwise.t.test(pbmc[ pbmc$cycle == \"X01\", \"Influenza\"], pbmc$cancergroup[ pbmc$cycle == \"X01\"], \"none\")"
   ]
  },
  {
   "cell_type": "code",
   "execution_count": 41,
   "metadata": {
    "vscode": {
     "languageId": "r"
    }
   },
   "outputs": [
    {
     "data": {
      "text/html": [
       "<style>\n",
       ".list-inline {list-style: none; margin:0; padding: 0}\n",
       ".list-inline>li {display: inline-block}\n",
       ".list-inline>li:not(:last-child)::after {content: \"\\00b7\"; padding: 0 .5ex}\n",
       "</style>\n",
       "<ol class=list-inline><li>'CMV'</li><li>'EBV'</li><li>'HCV'</li><li>'Influenza'</li><li>'HomoSapiens'</li><li>'MDavis'</li><li>'HPV'</li><li>'CEF'</li><li>'TB'</li><li>'MCPyV'</li><li>'S-pneumoniae'</li><li>'n_cdr3'</li><li>'n_gliph'</li><li>'n_cdr3ingliph'</li><li>'cancergroup'</li><li>'cycle'</li><li>'sampletype'</li><li>'cyclenum'</li><li>'Patient'</li><li>'Age'</li><li>'CMVp'</li><li>'EBVp'</li><li>'Flup'</li><li>'HCVp'</li><li>'HPVp'</li><li>'CEFp'</li><li>'HSp'</li><li>'MCPyVp'</li><li>'MDavisp'</li></ol>\n"
      ],
      "text/latex": [
       "\\begin{enumerate*}\n",
       "\\item 'CMV'\n",
       "\\item 'EBV'\n",
       "\\item 'HCV'\n",
       "\\item 'Influenza'\n",
       "\\item 'HomoSapiens'\n",
       "\\item 'MDavis'\n",
       "\\item 'HPV'\n",
       "\\item 'CEF'\n",
       "\\item 'TB'\n",
       "\\item 'MCPyV'\n",
       "\\item 'S-pneumoniae'\n",
       "\\item 'n\\_cdr3'\n",
       "\\item 'n\\_gliph'\n",
       "\\item 'n\\_cdr3ingliph'\n",
       "\\item 'cancergroup'\n",
       "\\item 'cycle'\n",
       "\\item 'sampletype'\n",
       "\\item 'cyclenum'\n",
       "\\item 'Patient'\n",
       "\\item 'Age'\n",
       "\\item 'CMVp'\n",
       "\\item 'EBVp'\n",
       "\\item 'Flup'\n",
       "\\item 'HCVp'\n",
       "\\item 'HPVp'\n",
       "\\item 'CEFp'\n",
       "\\item 'HSp'\n",
       "\\item 'MCPyVp'\n",
       "\\item 'MDavisp'\n",
       "\\end{enumerate*}\n"
      ],
      "text/markdown": [
       "1. 'CMV'\n",
       "2. 'EBV'\n",
       "3. 'HCV'\n",
       "4. 'Influenza'\n",
       "5. 'HomoSapiens'\n",
       "6. 'MDavis'\n",
       "7. 'HPV'\n",
       "8. 'CEF'\n",
       "9. 'TB'\n",
       "10. 'MCPyV'\n",
       "11. 'S-pneumoniae'\n",
       "12. 'n_cdr3'\n",
       "13. 'n_gliph'\n",
       "14. 'n_cdr3ingliph'\n",
       "15. 'cancergroup'\n",
       "16. 'cycle'\n",
       "17. 'sampletype'\n",
       "18. 'cyclenum'\n",
       "19. 'Patient'\n",
       "20. 'Age'\n",
       "21. 'CMVp'\n",
       "22. 'EBVp'\n",
       "23. 'Flup'\n",
       "24. 'HCVp'\n",
       "25. 'HPVp'\n",
       "26. 'CEFp'\n",
       "27. 'HSp'\n",
       "28. 'MCPyVp'\n",
       "29. 'MDavisp'\n",
       "\n",
       "\n"
      ],
      "text/plain": [
       " [1] \"CMV\"           \"EBV\"           \"HCV\"           \"Influenza\"    \n",
       " [5] \"HomoSapiens\"   \"MDavis\"        \"HPV\"           \"CEF\"          \n",
       " [9] \"TB\"            \"MCPyV\"         \"S-pneumoniae\"  \"n_cdr3\"       \n",
       "[13] \"n_gliph\"       \"n_cdr3ingliph\" \"cancergroup\"   \"cycle\"        \n",
       "[17] \"sampletype\"    \"cyclenum\"      \"Patient\"       \"Age\"          \n",
       "[21] \"CMVp\"          \"EBVp\"          \"Flup\"          \"HCVp\"         \n",
       "[25] \"HPVp\"          \"CEFp\"          \"HSp\"           \"MCPyVp\"       \n",
       "[29] \"MDavisp\"      "
      ]
     },
     "metadata": {},
     "output_type": "display_data"
    }
   ],
   "source": [
    "colnames(pbmc)"
   ]
  },
  {
   "cell_type": "code",
   "execution_count": 49,
   "metadata": {
    "vscode": {
     "languageId": "r"
    }
   },
   "outputs": [],
   "source": [
    "myfit <- lmerTest::lmer( EBVp ~ cyclenum + Age + (1 | Patient), data= pbmc[pbmc$cancergroup == \"Solidtumors\",])\n"
   ]
  },
  {
   "cell_type": "code",
   "execution_count": 50,
   "metadata": {
    "vscode": {
     "languageId": "r"
    }
   },
   "outputs": [
    {
     "data": {
      "text/html": [
       "<table class=\"dataframe\">\n",
       "<caption>A anova: 2 x 6</caption>\n",
       "<thead>\n",
       "\t<tr><th></th><th scope=col>Sum Sq</th><th scope=col>Mean Sq</th><th scope=col>NumDF</th><th scope=col>DenDF</th><th scope=col>F value</th><th scope=col>Pr(&gt;F)</th></tr>\n",
       "\t<tr><th></th><th scope=col>&lt;dbl&gt;</th><th scope=col>&lt;dbl&gt;</th><th scope=col>&lt;int&gt;</th><th scope=col>&lt;dbl&gt;</th><th scope=col>&lt;dbl&gt;</th><th scope=col>&lt;dbl&gt;</th></tr>\n",
       "</thead>\n",
       "<tbody>\n",
       "\t<tr><th scope=row>cyclenum</th><td>0.002061795</td><td>0.002061795</td><td>1</td><td>51.31856</td><td>0.02966074</td><td>0.8639397</td></tr>\n",
       "\t<tr><th scope=row>Age</th><td>0.058660762</td><td>0.058660762</td><td>1</td><td>19.03543</td><td>0.84388684</td><td>0.3697818</td></tr>\n",
       "</tbody>\n",
       "</table>\n"
      ],
      "text/latex": [
       "A anova: 2 x 6\n",
       "\\begin{tabular}{r|llllll}\n",
       "  & Sum Sq & Mean Sq & NumDF & DenDF & F value & Pr(>F)\\\\\n",
       "  & <dbl> & <dbl> & <int> & <dbl> & <dbl> & <dbl>\\\\\n",
       "\\hline\n",
       "\tcyclenum & 0.002061795 & 0.002061795 & 1 & 51.31856 & 0.02966074 & 0.8639397\\\\\n",
       "\tAge & 0.058660762 & 0.058660762 & 1 & 19.03543 & 0.84388684 & 0.3697818\\\\\n",
       "\\end{tabular}\n"
      ],
      "text/markdown": [
       "\n",
       "A anova: 2 x 6\n",
       "\n",
       "| <!--/--> | Sum Sq &lt;dbl&gt; | Mean Sq &lt;dbl&gt; | NumDF &lt;int&gt; | DenDF &lt;dbl&gt; | F value &lt;dbl&gt; | Pr(&gt;F) &lt;dbl&gt; |\n",
       "|---|---|---|---|---|---|---|\n",
       "| cyclenum | 0.002061795 | 0.002061795 | 1 | 51.31856 | 0.02966074 | 0.8639397 |\n",
       "| Age | 0.058660762 | 0.058660762 | 1 | 19.03543 | 0.84388684 | 0.3697818 |\n",
       "\n"
      ],
      "text/plain": [
       "         Sum Sq      Mean Sq     NumDF DenDF    F value    Pr(>F)   \n",
       "cyclenum 0.002061795 0.002061795 1     51.31856 0.02966074 0.8639397\n",
       "Age      0.058660762 0.058660762 1     19.03543 0.84388684 0.3697818"
      ]
     },
     "metadata": {},
     "output_type": "display_data"
    }
   ],
   "source": [
    "anova(myfit)"
   ]
  },
  {
   "cell_type": "code",
   "execution_count": null,
   "metadata": {
    "vscode": {
     "languageId": "r"
    }
   },
   "outputs": [],
   "source": []
  },
  {
   "cell_type": "markdown",
   "metadata": {},
   "source": [
    "# Backup"
   ]
  },
  {
   "cell_type": "code",
   "execution_count": null,
   "metadata": {
    "vscode": {
     "languageId": "r"
    }
   },
   "outputs": [],
   "source": []
  },
  {
   "cell_type": "code",
   "execution_count": null,
   "metadata": {
    "vscode": {
     "languageId": "r"
    }
   },
   "outputs": [],
   "source": [
    "# find probability of finding one gliph group of length G in a CDR3 of length L out of a sample of X CDR3 sequences"
   ]
  },
  {
   "cell_type": "code",
   "execution_count": null,
   "metadata": {
    "vscode": {
     "languageId": "r"
    }
   },
   "outputs": [],
   "source": [
    "# tmp$gliph_length <- nchar(tmp$pattern)"
   ]
  },
  {
   "cell_type": "code",
   "execution_count": null,
   "metadata": {
    "vscode": {
     "languageId": "r"
    }
   },
   "outputs": [],
   "source": [
    "int_vdj <- readr::read_rds( file = paste0(datapath, \"capTCRseq/int_vdjdb_v2.rds\"))"
   ]
  },
  {
   "cell_type": "code",
   "execution_count": null,
   "metadata": {
    "vscode": {
     "languageId": "r"
    }
   },
   "outputs": [],
   "source": [
    "head(int_vdj)"
   ]
  },
  {
   "cell_type": "code",
   "execution_count": null,
   "metadata": {
    "vscode": {
     "languageId": "r"
    }
   },
   "outputs": [],
   "source": [
    "int_vdj[ int_vdj$CDR3b == \"CSAKHGSFTYEQYF\",]"
   ]
  },
  {
   "cell_type": "code",
   "execution_count": null,
   "metadata": {
    "vscode": {
     "languageId": "r"
    }
   },
   "outputs": [],
   "source": [
    "# int_vdj$length <- nchar(int_vdj$CDR3b)"
   ]
  },
  {
   "cell_type": "code",
   "execution_count": null,
   "metadata": {
    "vscode": {
     "languageId": "r"
    }
   },
   "outputs": [],
   "source": [
    "# # avergae odds of any motif in a given sample\n",
    "\n",
    "# for (i in 1:nrow(samples_tcr)) {\n",
    "#     mysam_gliph <- tmp[tmp$Sample == rownames(samples_tcr)[i],]\n",
    "\n",
    "# myOdds <- sapply(mysam_gliph$pattern, function(x) {\n",
    "#     n_cdr3s <- length(mysam_gliph$TcRb[mysam_gliph$pattern == x])\n",
    "#     myp <- n_cdr3s / samples_tcr$n_cdr3[i]\n",
    "#     odds <- myp / (1-myp)\n",
    "\n",
    "#     odds[is.infinite(odds)] <- 0\n",
    "#     return(odds)\n",
    "# })\n",
    "\n",
    "# # samples_tcr$Odds[i] <- mean(myOdds)\n",
    "\n",
    "# }"
   ]
  },
  {
   "cell_type": "code",
   "execution_count": null,
   "metadata": {
    "vscode": {
     "languageId": "r"
    }
   },
   "outputs": [],
   "source": [
    "# # avergae odds of any motif in a given sample\n",
    "\n",
    "# for (i in 1:nrow(samples_tcr)) {\n",
    "#     mysam_gliph <- tmp[tmp$Sample == rownames(samples_tcr)[i],]\n",
    "\n",
    "# mybinomp <- sapply(mysam_gliph$pattern, function(x) {\n",
    "#     n_cdr3s <- length(mysam_gliph$TcRb[mysam_gliph$pattern == x])\n",
    "#     myp <- n_cdr3s / samples_tcr$n_cdr3[i]\n",
    "#     binomp <- 1 - ( (1- myp)^samples_tcr$n_cdr3[i] )\n",
    "\n",
    "#     return(binomp)\n",
    "# })\n",
    "\n",
    "# samples_tcr$binomp[i] <- mean(mybinomp)\n",
    "\n",
    "# }"
   ]
  },
  {
   "cell_type": "code",
   "execution_count": null,
   "metadata": {
    "vscode": {
     "languageId": "r"
    }
   },
   "outputs": [],
   "source": [
    "# summary(samples_tcr$binomp)"
   ]
  },
  {
   "cell_type": "code",
   "execution_count": null,
   "metadata": {
    "vscode": {
     "languageId": "r"
    }
   },
   "outputs": [],
   "source": [
    "head(pat_type)"
   ]
  },
  {
   "cell_type": "code",
   "execution_count": null,
   "metadata": {
    "vscode": {
     "languageId": "r"
    }
   },
   "outputs": [],
   "source": [
    "# samples_tcr$P <- samples_tcr$CMV / samples_tcr$n_gliph\n",
    "# samples_tcr$CMVP <- 1 - (1-samples_tcr$P)^samples_tcr$n_gliph \n",
    "# samples_tcr$CMVodds <- samples_tcr$P / (1 - samples_tcr$P)\n",
    "# samples_tcr$CMVodds[ samples_tcr$P == 1] <- 0"
   ]
  },
  {
   "cell_type": "code",
   "execution_count": null,
   "metadata": {
    "vscode": {
     "languageId": "r"
    }
   },
   "outputs": [],
   "source": [
    "# # sum of all fisher scores is the weitght for rate of ngliph/ncdre3\n",
    "# for (i in 1:nrow(samples_tcr)) {\n",
    "#     mysam_gliph <- tmp[tmp$Sample == rownames(samples_tcr)[i], ]\n",
    "#     mysam_gliph$log10Fisher <- -log10(mysam_gliph$Fisher_score)\n",
    "#     mysam_gliph$log10Fisher[is.infinite(mysam_gliph$log10Fisher)] <- 0\n",
    "#     samples_tcr$fisher_rate[i] <- sum(mysam_gliph$log10Fisher) * (samples_tcr$n_gliph[i] / samples_tcr$n_cdr3[i] )\n",
    "# }"
   ]
  },
  {
   "cell_type": "code",
   "execution_count": null,
   "metadata": {
    "vscode": {
     "languageId": "r"
    }
   },
   "outputs": [],
   "source": [
    "# samples_tcr$viral <- rowSums(samples_tcr[, c(\"CMV\", \"EBV\", \"HCV\", \"Influenza\", \"HPV\", \"MCPyV\")])"
   ]
  },
  {
   "cell_type": "code",
   "execution_count": null,
   "metadata": {
    "vscode": {
     "languageId": "r"
    }
   },
   "outputs": [],
   "source": [
    "# samples_tcr$viral_norm <- samples_tcr$viral / samples_tcr$n_gliph"
   ]
  },
  {
   "cell_type": "code",
   "execution_count": null,
   "metadata": {
    "vscode": {
     "languageId": "r"
    }
   },
   "outputs": [],
   "source": [
    "# samples_tcr$converg <- samples_tcr$n_cdr3ingliph / samples_tcr$n_cdr3\n",
    "# samples_tcr$gliph_norm <- samples_tcr$n_gliph / samples_tcr$n_cdr3"
   ]
  },
  {
   "cell_type": "code",
   "execution_count": null,
   "metadata": {
    "vscode": {
     "languageId": "r"
    }
   },
   "outputs": [],
   "source": [
    "head(samples_tcr)"
   ]
  },
  {
   "cell_type": "code",
   "execution_count": null,
   "metadata": {
    "vscode": {
     "languageId": "r"
    }
   },
   "outputs": [],
   "source": [
    "pbmc <- samples_tcr[ samples_tcr$sampletype == \"PBMC\",]"
   ]
  },
  {
   "cell_type": "code",
   "execution_count": null,
   "metadata": {
    "vscode": {
     "languageId": "r"
    }
   },
   "outputs": [],
   "source": [
    "pairwise.t.test(pbmc[ pbmc$cycle == \"X01\",1], pbmc$cancergroup[ pbmc$cycle == \"X01\"], \"none\")"
   ]
  },
  {
   "cell_type": "code",
   "execution_count": null,
   "metadata": {
    "vscode": {
     "languageId": "r"
    }
   },
   "outputs": [],
   "source": [
    "# myfit <- lmerTest::lmer( fisher_rate~ cyclenum + (1 | Patient), data= pbmc[pbmc$cancergroup == \"Leukemia\",])"
   ]
  },
  {
   "cell_type": "code",
   "execution_count": null,
   "metadata": {
    "vscode": {
     "languageId": "r"
    }
   },
   "outputs": [],
   "source": [
    "# anova(myfit)"
   ]
  },
  {
   "cell_type": "code",
   "execution_count": null,
   "metadata": {
    "vscode": {
     "languageId": "r"
    }
   },
   "outputs": [],
   "source": [
    "# pbmc$Div <- meta_div$log10shann[ match(rownames(pbmc), meta_div$samplename) ]"
   ]
  },
  {
   "cell_type": "code",
   "execution_count": null,
   "metadata": {
    "vscode": {
     "languageId": "r"
    }
   },
   "outputs": [],
   "source": [
    "# ggplot(pbmc, aes(x = cycle, y = log10(fisher_rate), fill = cancergroup)) + geom_boxplot() #+ geom_point()"
   ]
  },
  {
   "cell_type": "markdown",
   "metadata": {},
   "source": [
    "# Compare Viral associated gliphs"
   ]
  },
  {
   "cell_type": "code",
   "execution_count": null,
   "metadata": {
    "vscode": {
     "languageId": "r"
    }
   },
   "outputs": [],
   "source": [
    "# get probability of virally associated group"
   ]
  },
  {
   "cell_type": "code",
   "execution_count": null,
   "metadata": {
    "vscode": {
     "languageId": "r"
    }
   },
   "outputs": [],
   "source": [
    "mytab <- as.data.frame.matrix(table(tmp$pattern, tmp$subject))"
   ]
  },
  {
   "cell_type": "code",
   "execution_count": null,
   "metadata": {
    "vscode": {
     "languageId": "r"
    }
   },
   "outputs": [],
   "source": [
    "head(mytab)"
   ]
  },
  {
   "cell_type": "code",
   "execution_count": null,
   "metadata": {
    "vscode": {
     "languageId": "r"
    }
   },
   "outputs": [],
   "source": [
    "n_anno <- colSums(mytab > 0)"
   ]
  },
  {
   "cell_type": "code",
   "execution_count": null,
   "metadata": {
    "vscode": {
     "languageId": "r"
    }
   },
   "outputs": [],
   "source": [
    "base_rate <- n_anno / length(unique(tmp$TcRb))"
   ]
  },
  {
   "cell_type": "code",
   "execution_count": null,
   "metadata": {
    "vscode": {
     "languageId": "r"
    }
   },
   "outputs": [],
   "source": [
    "base_rate"
   ]
  },
  {
   "cell_type": "code",
   "execution_count": null,
   "metadata": {
    "vscode": {
     "languageId": "r"
    }
   },
   "outputs": [],
   "source": [
    "head(samples_tcr)"
   ]
  },
  {
   "cell_type": "code",
   "execution_count": null,
   "metadata": {
    "vscode": {
     "languageId": "r"
    }
   },
   "outputs": [],
   "source": [
    "samples_tcr_probs <- samples_tcr"
   ]
  },
  {
   "cell_type": "code",
   "execution_count": null,
   "metadata": {
    "vscode": {
     "languageId": "r"
    }
   },
   "outputs": [],
   "source": [
    "head(samples_tcr)"
   ]
  },
  {
   "cell_type": "code",
   "execution_count": null,
   "metadata": {
    "vscode": {
     "languageId": "r"
    }
   },
   "outputs": [],
   "source": [
    "samples_tcr_probs$CMVp <- 1 - (1 - base_rate[\"CMV\"]) ^ samples_tcr_probs$n_cdr3\n",
    "samples_tcr_probs$EBVp <- 1 - (1 - base_rate[\"EBV\"]) ^ samples_tcr_probs$n_cdr3\n",
    "samples_tcr_probs$Flup <- 1 - (1 - base_rate[\"Influenza\"]) ^ samples_tcr_probs$n_cdr3\n",
    "samples_tcr_probs$HCVp <- 1 - (1 - base_rate[\"HCV\"]) ^ samples_tcr_probs$n_cdr3\n",
    "samples_tcr_probs$HPVp <- 1 - (1 - base_rate[\"HPV\"]) ^ samples_tcr_probs$n_cdr3\n",
    "samples_tcr_probs$CEFp <- 1 - (1 - base_rate[\"CEF\"]) ^ samples_tcr_probs$n_cdr3\n",
    "samples_tcr_probs$HSp <- 1 - (1 - base_rate[\"HomoSapiens\"]) ^ samples_tcr_probs$n_cdr3\n",
    "samples_tcr_probs$MCPyVp <- 1 - (1 - base_rate[\"MCPyV\"]) ^ samples_tcr_probs$n_cdr3\n",
    "samples_tcr_probs$MDavisp <- 1 - (1 - base_rate[\"MDavis\"]) ^ samples_tcr_probs$n_cdr3"
   ]
  },
  {
   "cell_type": "code",
   "execution_count": null,
   "metadata": {
    "vscode": {
     "languageId": "r"
    }
   },
   "outputs": [],
   "source": [
    "pbmc <- samples_tcr_probs[ samples_tcr_probs$sampletype == \"PBMC\",]"
   ]
  },
  {
   "cell_type": "code",
   "execution_count": null,
   "metadata": {
    "vscode": {
     "languageId": "r"
    }
   },
   "outputs": [],
   "source": [
    "# for(i in colnames(pbmc)[19:26]){\n",
    "# print(pairwise.t.test(pbmc[[i]][ pbmc$cycle == \"X01\"], pbmc$cancergroup[ pbmc$cycle == \"X01\"], \"none\"))\n",
    "# }"
   ]
  },
  {
   "cell_type": "code",
   "execution_count": null,
   "metadata": {
    "vscode": {
     "languageId": "r"
    }
   },
   "outputs": [],
   "source": [
    "colnames(pbmc)"
   ]
  },
  {
   "cell_type": "code",
   "execution_count": null,
   "metadata": {
    "vscode": {
     "languageId": "r"
    }
   },
   "outputs": [],
   "source": [
    "table(pbmc$cancergroup)"
   ]
  },
  {
   "cell_type": "code",
   "execution_count": null,
   "metadata": {
    "vscode": {
     "languageId": "r"
    }
   },
   "outputs": [],
   "source": [
    "myfit <- lmerTest::lmer( CMVp ~ cyclenum +  (1 | Patient), data= pbmc[pbmc$cancergroup == \"Solidtumors\",])"
   ]
  },
  {
   "cell_type": "code",
   "execution_count": null,
   "metadata": {
    "vscode": {
     "languageId": "r"
    }
   },
   "outputs": [],
   "source": [
    "anova(myfit)"
   ]
  },
  {
   "cell_type": "code",
   "execution_count": null,
   "metadata": {
    "vscode": {
     "languageId": "r"
    }
   },
   "outputs": [],
   "source": [
    "# pbmc$Div <- meta_div$log10shann[ match(rownames(pbmc), meta_div$samplename) ]"
   ]
  },
  {
   "cell_type": "code",
   "execution_count": null,
   "metadata": {
    "vscode": {
     "languageId": "r"
    }
   },
   "outputs": [],
   "source": [
    "ggplot(pbmc, aes(x = cycle, y = MCPyVp, fill = cancergroup)) + geom_boxplot() #+ geom_point()"
   ]
  },
  {
   "cell_type": "code",
   "execution_count": null,
   "metadata": {
    "vscode": {
     "languageId": "r"
    }
   },
   "outputs": [],
   "source": []
  },
  {
   "cell_type": "markdown",
   "metadata": {},
   "source": [
    "# PCA gliph"
   ]
  },
  {
   "cell_type": "code",
   "execution_count": null,
   "metadata": {
    "vscode": {
     "languageId": "r"
    }
   },
   "outputs": [],
   "source": [
    "head(tmp)"
   ]
  },
  {
   "cell_type": "code",
   "execution_count": null,
   "metadata": {
    "vscode": {
     "languageId": "r"
    }
   },
   "outputs": [],
   "source": [
    "chp_gliph <- tmp[ grepl(\"CHP\", tmp$Sample), ]"
   ]
  },
  {
   "cell_type": "code",
   "execution_count": null,
   "metadata": {
    "vscode": {
     "languageId": "r"
    }
   },
   "outputs": [],
   "source": [
    "chp_gliph_sum <- chp_gliph %>% \n",
    "  group_by(Sample, pattern) %>% \n",
    "  summarise(SumFreq = sum(Freq), .groups = 'drop')"
   ]
  },
  {
   "cell_type": "code",
   "execution_count": null,
   "metadata": {
    "vscode": {
     "languageId": "r"
    }
   },
   "outputs": [],
   "source": [
    "head(chp_gliph_sum)"
   ]
  },
  {
   "cell_type": "code",
   "execution_count": null,
   "metadata": {
    "vscode": {
     "languageId": "r"
    }
   },
   "outputs": [],
   "source": [
    "chp_gliph_wide <- tidyr::pivot_wider(chp_gliph_sum[, c(\"Sample\", \"pattern\", \"SumFreq\")], names_from = \"pattern\", values_from = \"SumFreq\")"
   ]
  },
  {
   "cell_type": "code",
   "execution_count": null,
   "metadata": {
    "vscode": {
     "languageId": "r"
    }
   },
   "outputs": [],
   "source": [
    "head(chp_gliph_wide)"
   ]
  },
  {
   "cell_type": "code",
   "execution_count": null,
   "metadata": {
    "vscode": {
     "languageId": "r"
    }
   },
   "outputs": [],
   "source": [
    "chp_gliph_wide <- as.data.frame(chp_gliph_wide)\n",
    "rownames(chp_gliph_wide) <- chp_gliph_wide$Sample\n",
    "chp_gliph_wide$Sample <- NULL"
   ]
  },
  {
   "cell_type": "code",
   "execution_count": null,
   "metadata": {
    "vscode": {
     "languageId": "r"
    }
   },
   "outputs": [],
   "source": [
    "chp_gliph_wide <- as.matrix(chp_gliph_wide)"
   ]
  },
  {
   "cell_type": "code",
   "execution_count": null,
   "metadata": {
    "vscode": {
     "languageId": "r"
    }
   },
   "outputs": [],
   "source": [
    "head(chp_gliph_wide)"
   ]
  },
  {
   "cell_type": "code",
   "execution_count": null,
   "metadata": {
    "vscode": {
     "languageId": "r"
    }
   },
   "outputs": [],
   "source": [
    "chp_gliph_wide[is.na(chp_gliph_wide)] <- 0"
   ]
  },
  {
   "cell_type": "code",
   "execution_count": null,
   "metadata": {
    "vscode": {
     "languageId": "r"
    }
   },
   "outputs": [],
   "source": [
    "head(chp_gliph_wide)"
   ]
  },
  {
   "cell_type": "code",
   "execution_count": null,
   "metadata": {
    "vscode": {
     "languageId": "r"
    }
   },
   "outputs": [],
   "source": [
    "pbmc <- chp_gliph_wide[grepl(\"PBMC\", rownames(chp_gliph_wide)),]\n",
    "pbmc <- pbmc[, colSums(pbmc > 0) > 0]"
   ]
  },
  {
   "cell_type": "code",
   "execution_count": null,
   "metadata": {
    "vscode": {
     "languageId": "r"
    }
   },
   "outputs": [],
   "source": [
    "mypca <- prcomp(pbmc, center = TRUE, scale. = TRUE)"
   ]
  },
  {
   "cell_type": "code",
   "execution_count": null,
   "metadata": {
    "vscode": {
     "languageId": "r"
    }
   },
   "outputs": [],
   "source": [
    "# plot PCA with factoextra\n",
    "viz_pca <- fviz_pca_ind(mypca,\n",
    "    col.ind = as.vector(gsub(\":.*\", \"\", rownames(pbmc))),\n",
    "    # gradient.cols = c(\"#00AFBB\", \"#E7B800\", \"#FC4E07\"),\n",
    "    # remove labels\n",
    "    label = \"none\",\n",
    "    repel = TRUE, addEllipses = FALSE\n",
    ")"
   ]
  },
  {
   "cell_type": "code",
   "execution_count": null,
   "metadata": {
    "vscode": {
     "languageId": "r"
    }
   },
   "outputs": [],
   "source": [
    "# scree plot\n",
    "fviz_eig(mypca)"
   ]
  },
  {
   "cell_type": "code",
   "execution_count": null,
   "metadata": {
    "vscode": {
     "languageId": "r"
    }
   },
   "outputs": [],
   "source": [
    "viz_pca + coord_cartesian(xlim=c(-2, 10), ylim=c(-2, 10) )"
   ]
  },
  {
   "cell_type": "markdown",
   "metadata": {},
   "source": [
    "# v1\n",
    "\n",
    "table patterns, group gliph based on external db, run ancombc for cfdna and pbmc at baseline"
   ]
  },
  {
   "cell_type": "markdown",
   "metadata": {},
   "source": []
  },
  {
   "cell_type": "code",
   "execution_count": null,
   "metadata": {
    "vscode": {
     "languageId": "r"
    }
   },
   "outputs": [],
   "source": [
    "meta_div <- readr::read_rds(paste0(datapath, \"capTCRseq/meta_div_goodsamples.rds\"))"
   ]
  },
  {
   "cell_type": "code",
   "execution_count": null,
   "metadata": {
    "vscode": {
     "languageId": "r"
    }
   },
   "outputs": [],
   "source": [
    "#remove those samples that we did not have the TCRseq data for\n",
    "meta_div <- meta_div[!is.na(meta_div$TRB),]"
   ]
  },
  {
   "cell_type": "code",
   "execution_count": null,
   "metadata": {
    "vscode": {
     "languageId": "r"
    }
   },
   "outputs": [],
   "source": [
    "gliph_out <- readr::read_csv(paste0(h4hpath, \"/v4/gliph_output/int_vdj_v4_cluster.csv\"), col_names = T) # default gliph reference dataset"
   ]
  },
  {
   "cell_type": "code",
   "execution_count": null,
   "metadata": {
    "vscode": {
     "languageId": "r"
    }
   },
   "outputs": [],
   "source": [
    "# remove columns starting with HLA\n",
    "gliph_out <- gliph_out[,!grepl(\"HLA\", colnames(gliph_out))]"
   ]
  },
  {
   "cell_type": "code",
   "execution_count": null,
   "metadata": {
    "vscode": {
     "languageId": "r"
    }
   },
   "outputs": [],
   "source": [
    "head(gliph_out)"
   ]
  },
  {
   "cell_type": "code",
   "execution_count": null,
   "metadata": {
    "vscode": {
     "languageId": "r"
    }
   },
   "outputs": [],
   "source": [
    "#  tmp <- gliph_out[gliph_out$number_subject >= 3,]\n",
    "#  tmp <- tmp[tmp$number_unique_cdr3 >= 3,]\n",
    "#   tmp <- tmp[tmp$Fisher_score < 0.001,]\n",
    "# tmp <- tmp[tmp$expansion_score < 0.01,]\n",
    "# tmp <- tmp[tmp$length_score < 0.002,]\n",
    "\n",
    "gliph_out_nosingle <- gliph_out[ gliph_out$pattern != \"single\",]"
   ]
  },
  {
   "cell_type": "code",
   "execution_count": null,
   "metadata": {
    "vscode": {
     "languageId": "r"
    }
   },
   "outputs": [],
   "source": [
    "dim(gliph_out)\n",
    "dim(gliph_out_nosingle)"
   ]
  },
  {
   "cell_type": "code",
   "execution_count": null,
   "metadata": {
    "vscode": {
     "languageId": "r"
    }
   },
   "outputs": [],
   "source": [
    "# only those gliph groups with >= 3 baseline subjects from CHP\n",
    "chp <- gliph_out_nosingle[ grepl(\"CHP\", gliph_out_nosingle$Sample),]\n",
    "chp_x01 <- chp[ grepl(\"X01\", chp$Sample),]\n",
    "chp_x01_sample <- chp_x01[ grepl(\"cfDNA\", chp_x01$Sample),]"
   ]
  },
  {
   "cell_type": "code",
   "execution_count": null,
   "metadata": {
    "vscode": {
     "languageId": "r"
    }
   },
   "outputs": [],
   "source": [
    "pattern_freq <- as.data.frame(table(chp_x01_sample$pattern) , stringsAsFactors = F)\n",
    "mypatterns <- pattern_freq$Var1[ pattern_freq$Freq >= 3 ]"
   ]
  },
  {
   "cell_type": "code",
   "execution_count": null,
   "metadata": {
    "vscode": {
     "languageId": "r"
    }
   },
   "outputs": [],
   "source": [
    "head(chp_x01_sample)"
   ]
  },
  {
   "cell_type": "code",
   "execution_count": null,
   "metadata": {
    "vscode": {
     "languageId": "r"
    }
   },
   "outputs": [],
   "source": [
    "(mypatterns)"
   ]
  },
  {
   "cell_type": "code",
   "execution_count": null,
   "metadata": {
    "vscode": {
     "languageId": "r"
    }
   },
   "outputs": [],
   "source": [
    "# subset the original gliph_out_nosingle to mypatterns to keep the external database\n",
    "gliph_out_nosingle_chppatterns <- gliph_out_nosingle[gliph_out_nosingle$pattern %in% mypatterns,]"
   ]
  },
  {
   "cell_type": "code",
   "execution_count": null,
   "metadata": {
    "vscode": {
     "languageId": "r"
    }
   },
   "outputs": [],
   "source": [
    "dim(gliph_out_nosingle)\n",
    "dim(gliph_out_nosingle_chppatterns)"
   ]
  },
  {
   "cell_type": "code",
   "execution_count": null,
   "metadata": {
    "vscode": {
     "languageId": "r"
    }
   },
   "outputs": [],
   "source": [
    "# get the matrix of GLIPH x samples\n",
    "pat_type <- as.data.frame.matrix(table(gliph_out_nosingle_chppatterns %>% select(pattern, Sample)))"
   ]
  },
  {
   "cell_type": "code",
   "execution_count": null,
   "metadata": {
    "vscode": {
     "languageId": "r"
    }
   },
   "outputs": [],
   "source": [
    "head(pat_type)"
   ]
  },
  {
   "cell_type": "code",
   "execution_count": null,
   "metadata": {
    "vscode": {
     "languageId": "r"
    }
   },
   "outputs": [],
   "source": [
    "pat_type <- pat_type[, grepl(\"CHP\", colnames(pat_type))]"
   ]
  },
  {
   "cell_type": "code",
   "execution_count": null,
   "metadata": {
    "vscode": {
     "languageId": "r"
    }
   },
   "outputs": [],
   "source": [
    "# make a samplename to match subject:condition of gliph_out\n",
    "meta_div$samplename <- paste0(meta_div$cancergroup, \":\", meta_div$Patient, \"_\", meta_div$cycle, \"-\", meta_div$sampletype)\n",
    "meta_div$samplename <- gsub(\" \", \"\", meta_div$samplename)"
   ]
  },
  {
   "cell_type": "code",
   "execution_count": null,
   "metadata": {
    "vscode": {
     "languageId": "r"
    }
   },
   "outputs": [],
   "source": [
    "table(meta_div$cancergroup)"
   ]
  },
  {
   "cell_type": "code",
   "execution_count": null,
   "metadata": {
    "vscode": {
     "languageId": "r"
    }
   },
   "outputs": [],
   "source": [
    "meta_div <- meta_div[ meta_div$cancergroup %in% c(\"Solid tumors\", \"Leukemia\", \"Lymphoma\", \"T-cell malignancies\"),]"
   ]
  },
  {
   "cell_type": "code",
   "execution_count": null,
   "metadata": {
    "vscode": {
     "languageId": "r"
    }
   },
   "outputs": [],
   "source": [
    "meta_div_sampletype <- meta_div[ meta_div$sampletype == \"cfDNA\",]\n",
    "\n",
    "meta_div_sampletype_x01 <- meta_div_sampletype[ meta_div_sampletype$cycle == \"X01\",]"
   ]
  },
  {
   "cell_type": "code",
   "execution_count": null,
   "metadata": {
    "vscode": {
     "languageId": "r"
    }
   },
   "outputs": [],
   "source": [
    "table(meta_div_sampletype_x01$cancergroup)"
   ]
  },
  {
   "cell_type": "code",
   "execution_count": null,
   "metadata": {
    "vscode": {
     "languageId": "r"
    }
   },
   "outputs": [],
   "source": [
    "# subset the matrix to match samples in the metadata\n",
    "pat_type <- pat_type[, colnames(pat_type) %in% meta_div_sampletype_x01$samplename ]\n",
    "# match metadata to the matrix\n",
    "metadata_matched <- meta_div_sampletype_x01[match(colnames(pat_type), meta_div_sampletype_x01$samplename), ]"
   ]
  },
  {
   "cell_type": "code",
   "execution_count": null,
   "metadata": {
    "vscode": {
     "languageId": "r"
    }
   },
   "outputs": [],
   "source": [
    "dim(metadata_matched)\n",
    "dim(pat_type)"
   ]
  },
  {
   "attachments": {},
   "cell_type": "markdown",
   "metadata": {},
   "source": [
    "Make rowData"
   ]
  },
  {
   "cell_type": "code",
   "execution_count": null,
   "metadata": {
    "vscode": {
     "languageId": "r"
    }
   },
   "outputs": [],
   "source": [
    "gliphdf <- data.frame(gliph = rownames(pat_type))\n",
    "rownames(gliphdf) <- gliphdf$gliph"
   ]
  },
  {
   "cell_type": "code",
   "execution_count": null,
   "metadata": {
    "vscode": {
     "languageId": "r"
    }
   },
   "outputs": [],
   "source": [
    "gliph_out_nosingle_chppatterns$subject <- gsub(\":.*\", \"\", gliph_out_nosingle_chppatterns$Sample)"
   ]
  },
  {
   "cell_type": "code",
   "execution_count": null,
   "metadata": {
    "vscode": {
     "languageId": "r"
    }
   },
   "outputs": [],
   "source": [
    "head(gliph_out_nosingle_chppatterns[, c(\"subject\", \"Sample\")])"
   ]
  },
  {
   "cell_type": "code",
   "execution_count": null,
   "metadata": {
    "vscode": {
     "languageId": "r"
    }
   },
   "outputs": [],
   "source": [
    "names(table(gliph_out_nosingle_chppatterns$subject[!grepl(\"CHP\", gliph_out_nosingle_chppatterns$Sample)]))"
   ]
  },
  {
   "cell_type": "code",
   "execution_count": null,
   "metadata": {
    "vscode": {
     "languageId": "r"
    }
   },
   "outputs": [],
   "source": [
    "#rmeove LFS cases\n",
    "gliph_out_nosingle_chppatterns <- gliph_out_nosingle_chppatterns[!grepl(\"LFS\", gliph_out_nosingle_chppatterns$subject),]"
   ]
  },
  {
   "cell_type": "code",
   "execution_count": null,
   "metadata": {
    "vscode": {
     "languageId": "r"
    }
   },
   "outputs": [],
   "source": [
    "names(table(gliph_out_nosingle_chppatterns$subject[!grepl(\"CHP\", gliph_out_nosingle_chppatterns$Sample)]))"
   ]
  },
  {
   "cell_type": "code",
   "execution_count": null,
   "metadata": {
    "vscode": {
     "languageId": "r"
    }
   },
   "outputs": [],
   "source": [
    "for(i in 1:nrow(gliphdf)){\n",
    "\n",
    "mygliph <- gliph_out_nosingle_chppatterns[gliph_out_nosingle_chppatterns$pattern == gliphdf$gliph[i],]\n",
    "# add 1 in gliphdf$CMV, if mygliph$subject ciontains CMV\n",
    "gliphdf$CMV[i] <- ifelse(sum(grepl(\"CMV\", mygliph$subject)) > 0, sum(grepl(\"CMV\", mygliph$subject)), 0)\n",
    "gliphdf$EBV[i] <- ifelse(sum(grepl(\"EBV\", mygliph$subject)) > 0, sum(grepl(\"EBV\", mygliph$subject)), 0)\n",
    "gliphdf$HCV[i] <- ifelse(sum(grepl(\"HCV\", mygliph$subject)) > 0, sum(grepl(\"HCV\", mygliph$subject)), 0)\n",
    "# gliphdf$Flu[i] <- ifelse(sum(grepl(\"Influenza\", mygliph$subject)) > 0, sum(grepl(\"Influenza\", mygliph$subject)), 0)\n",
    "\n",
    "gliphdf$hs[i] <- ifelse(sum(grepl(\"HomoSapiens\", mygliph$subject)) > 0, sum(grepl(\"HomoSapiens\", mygliph$subject)), 0)\n",
    "gliphdf$hs[i] <- ifelse(sum(grepl(\"MDavis\", mygliph$subject)) > 0, sum(grepl(\"MDavis\", mygliph$subject)), 0)\n",
    "\n",
    "gliphdf$HPV[i] <- ifelse(sum(grepl(\"HPV\", mygliph$subject)) > 0, sum(grepl(\"HPV\", mygliph$subject)), 0)\n",
    "# gliphdf$CEF[i] <- ifelse(sum(grepl(\"CEF\", mygliph$subject)) > 0, sum(grepl(\"CEF\", mygliph$subject)), 0)\n",
    "gliphdf$TB[i] <- ifelse(sum(grepl(\"M.tuberculosis\", mygliph$subject)) > 0, sum(grepl(\"M.tuberculosis\", mygliph$subject)), 0)\n",
    "gliphdf$MCPyV[i] <- ifelse(sum(grepl(\"MCPyV\", mygliph$subject)) > 0, sum(grepl(\"MCPyV\", mygliph$subject)), 0)\n",
    "gliphdf$SP[i] <- ifelse(sum(grepl(\"S-pneumoniae\", mygliph$subject)) > 0, sum(grepl(\"S-pneumoniae\", mygliph$subject)), 0)\n",
    "\n",
    "# gliphdf$SP[i] <- ifelse(sum(grepl(\"HTLV-1\", mygliph$subject)) > 0, sum(grepl(\"HTLV-1\", mygliph$subject)), 0)\n",
    "# gliphdf$SP[i] <- ifelse(sum(grepl(\"DENV\", mygliph$subject)) > 0, sum(grepl(\"DENV\", mygliph$subject)), 0)\n",
    "}"
   ]
  },
  {
   "cell_type": "code",
   "execution_count": null,
   "metadata": {
    "vscode": {
     "languageId": "r"
    }
   },
   "outputs": [],
   "source": [
    "head(gliphdf)"
   ]
  },
  {
   "cell_type": "code",
   "execution_count": null,
   "metadata": {
    "vscode": {
     "languageId": "r"
    }
   },
   "outputs": [],
   "source": [
    "gliphdf$Family <- NA\n",
    "\n",
    "for (i in 1:nrow(gliphdf)) {\n",
    "    mygliph <- gliph_out_nosingle_chppatterns[gliph_out_nosingle_chppatterns$pattern == gliphdf$gliph[i], ]\n",
    "    # add CMV to gliphdf$Family, if CMV is in mygliph$subject\n",
    "    gliphdf$Family[i] <- ifelse(sum(grepl(\"CMV\", mygliph$subject)) > 0, \"CMV\", \"\")\n",
    "    gliphdf$Family[i] <- ifelse(sum(grepl(\"EBV\", mygliph$subject)) > 0, paste0(\"EBV_\", gliphdf$Family[i]), gliphdf$Family[i])\n",
    "    gliphdf$Family[i] <- ifelse(sum(grepl(\"HCV\", mygliph$subject)) > 0, paste0(\"HCV_\", gliphdf$Family[i]), gliphdf$Family[i])\n",
    "    # gliphdf$Family[i] <- ifelse(sum(grepl(\"Influenza\", mygliph$subject)) > 0, paste0(\"Flu_\", gliphdf$Family[i]), gliphdf$Family[i])\n",
    "    gliphdf$Family[i] <- ifelse(sum(grepl(\"HomoSapiens\", mygliph$subject)) > 0, paste0(\"hs_\", gliphdf$Family[i]), gliphdf$Family[i])\n",
    "    gliphdf$Family[i] <- ifelse(sum(grepl(\"HPV\", mygliph$subject)) > 0, paste0(\"HPV_\", gliphdf$Family[i]), gliphdf$Family[i])\n",
    "    # gliphdf$Family[i] <- ifelse(sum(grepl(\"CEF\", mygliph$subject)) > 0, paste0(\"CEF_\", gliphdf$Family[i]), gliphdf$Family[i])\n",
    "    gliphdf$Family[i] <- ifelse(sum(grepl(\"M.tuberculosis\", mygliph$subject)) > 0, paste0(\"TB_\", gliphdf$Family[i]), gliphdf$Family[i])\n",
    "    gliphdf$Family[i] <- ifelse(sum(grepl(\"MCPyV\", mygliph$subject)) > 0, paste0(\"MCPyV_\", gliphdf$Family[i]), gliphdf$Family[i])\n",
    "    gliphdf$Family[i] <- ifelse(sum(grepl(\"MDavis\", mygliph$subject)) > 0, paste0(\"hs_\", gliphdf$Family[i]), gliphdf$Family[i])\n",
    "    gliphdf$Family[i] <- ifelse(sum(grepl(\"S-pneumoniae\", mygliph$subject)) > 0, paste0(\"SP_\", gliphdf$Family[i]), gliphdf$Family[i])\n",
    "    # gliphdf$Family[i] <- ifelse(sum(grepl(\"DENV\", mygliph$subject)) > 0, paste0(\"DENV_\", gliphdf$Family[i]), gliphdf$Family[i])\n",
    "    # gliphdf$Family[i] <- ifelse(sum(grepl(\"HTLV\", mygliph$subject)) > 0, paste0(\"HTLV_\", gliphdf$Family[i]), gliphdf$Family[i])\n",
    "\n",
    "}"
   ]
  },
  {
   "cell_type": "code",
   "execution_count": null,
   "metadata": {
    "vscode": {
     "languageId": "r"
    }
   },
   "outputs": [],
   "source": [
    "head(gliphdf)"
   ]
  },
  {
   "cell_type": "code",
   "execution_count": null,
   "metadata": {
    "vscode": {
     "languageId": "r"
    }
   },
   "outputs": [],
   "source": [
    "for (i in 1:nrow(gliphdf)) {\n",
    "    mygliph <- gliph_out_nosingle_chppatterns[gliph_out_nosingle_chppatterns$pattern == gliphdf$gliph[i], ]\n",
    "    gliphdf$n_cdr3[i] <- nrow(mygliph)\n",
    "}"
   ]
  },
  {
   "cell_type": "code",
   "execution_count": null,
   "metadata": {
    "vscode": {
     "languageId": "r"
    }
   },
   "outputs": [],
   "source": [
    "head(gliphdf[ gliphdf$Family != \"\",],10)"
   ]
  },
  {
   "cell_type": "code",
   "execution_count": null,
   "metadata": {
    "vscode": {
     "languageId": "r"
    }
   },
   "outputs": [],
   "source": [
    "gliphdf$Family[gliphdf$Family == \"\" ] <- \"NK\""
   ]
  },
  {
   "cell_type": "code",
   "execution_count": null,
   "metadata": {
    "vscode": {
     "languageId": "r"
    }
   },
   "outputs": [],
   "source": [
    "levels(as.factor(gliphdf$Family))"
   ]
  },
  {
   "cell_type": "code",
   "execution_count": null,
   "metadata": {
    "vscode": {
     "languageId": "r"
    }
   },
   "outputs": [],
   "source": [
    "# cleanup\n",
    "gliphdf$Family <- gsub(\"_$\", \"\", gliphdf$Family)\n",
    "gliphdf$Family[ gliphdf$Family == \"hs_hs\"] <- \"hs\"\n",
    "gliphdf$Family <- gsub(\"hs_hs\", \"hs\", gliphdf$Family)"
   ]
  },
  {
   "cell_type": "code",
   "execution_count": null,
   "metadata": {
    "vscode": {
     "languageId": "r"
    }
   },
   "outputs": [],
   "source": [
    "levels(as.factor(gliphdf$Family))"
   ]
  },
  {
   "cell_type": "code",
   "execution_count": null,
   "metadata": {
    "vscode": {
     "languageId": "r"
    }
   },
   "outputs": [],
   "source": [
    "# species = gliph, genus = original annotations, family = grouped annotations\n",
    "gliphdf$Genus <- gliphdf$Family"
   ]
  },
  {
   "cell_type": "code",
   "execution_count": null,
   "metadata": {
    "vscode": {
     "languageId": "r"
    }
   },
   "outputs": [],
   "source": [
    "gliphdf$Family[grepl(\"hs_\", gliphdf$Family)] <- \"cross-reactive\"\n",
    "gliphdf$Family[grepl(\"_hs\", gliphdf$Family)] <- \"cross-reactive\"\n",
    "gliphdf$Family[ gliphdf$Family %in% c(\"CMV\", \"EBV\", \"HPV\")] <- \"Viral\""
   ]
  },
  {
   "cell_type": "code",
   "execution_count": null,
   "metadata": {
    "vscode": {
     "languageId": "r"
    }
   },
   "outputs": [],
   "source": [
    "levels(as.factor(gliphdf$Genus))\n",
    "levels(as.factor(gliphdf$Family))"
   ]
  },
  {
   "attachments": {},
   "cell_type": "markdown",
   "metadata": {},
   "source": [
    "Create TreeSummarizedExperiment to input to ANCOMBC"
   ]
  },
  {
   "cell_type": "code",
   "execution_count": null,
   "metadata": {
    "vscode": {
     "languageId": "r"
    }
   },
   "outputs": [],
   "source": [
    "table(metadata_matched$cancergroup)"
   ]
  },
  {
   "cell_type": "code",
   "execution_count": null,
   "metadata": {
    "vscode": {
     "languageId": "r"
    }
   },
   "outputs": [],
   "source": [
    "rownames(metadata_matched) <- metadata_matched$samplename"
   ]
  },
  {
   "cell_type": "code",
   "execution_count": null,
   "metadata": {
    "vscode": {
     "languageId": "r"
    }
   },
   "outputs": [],
   "source": [
    "head(metadata_matched)"
   ]
  },
  {
   "cell_type": "code",
   "execution_count": null,
   "metadata": {
    "vscode": {
     "languageId": "r"
    }
   },
   "outputs": [],
   "source": [
    "table(gliphdf$Family)"
   ]
  },
  {
   "cell_type": "code",
   "execution_count": null,
   "metadata": {
    "vscode": {
     "languageId": "r"
    }
   },
   "outputs": [],
   "source": [
    "head(gliphdf)"
   ]
  },
  {
   "cell_type": "code",
   "execution_count": null,
   "metadata": {
    "vscode": {
     "languageId": "r"
    }
   },
   "outputs": [],
   "source": [
    "tse_X01 <- TreeSummarizedExperiment(\n",
    "    assays = list(Count = as.matrix(pat_type)),\n",
    "    rowData = gliphdf,\n",
    "    colData = metadata_matched\n",
    ")"
   ]
  },
  {
   "cell_type": "code",
   "execution_count": null,
   "metadata": {
    "vscode": {
     "languageId": "r"
    }
   },
   "outputs": [],
   "source": [
    "table(metadata_matched$cancergroup)"
   ]
  },
  {
   "cell_type": "code",
   "execution_count": null,
   "metadata": {
    "vscode": {
     "languageId": "r"
    }
   },
   "outputs": [],
   "source": [
    "# tse_X01 <- onetest_tse[, colnames(onetest_tse)[grepl(\"X01\", colnames(onetest_tse)) ] ]\n",
    "\n",
    "# tse_X01 <- tse_X01[, colnames(tse_X01)[!grepl(\"T-cellmalignancies\", colnames(tse_X01)) ] ]"
   ]
  },
  {
   "cell_type": "code",
   "execution_count": null,
   "metadata": {
    "vscode": {
     "languageId": "r"
    }
   },
   "outputs": [],
   "source": [
    "nks <- gliphdf$gliph[ gliphdf$Family %in% c(\"NK\", \"TB\")]"
   ]
  },
  {
   "cell_type": "code",
   "execution_count": null,
   "metadata": {
    "vscode": {
     "languageId": "r"
    }
   },
   "outputs": [],
   "source": [
    "length(nks)"
   ]
  },
  {
   "cell_type": "code",
   "execution_count": null,
   "metadata": {
    "vscode": {
     "languageId": "r"
    }
   },
   "outputs": [],
   "source": [
    "tse_X01 <- tse_X01[ !rownames(tse_X01) %in% nks, ]"
   ]
  },
  {
   "cell_type": "code",
   "execution_count": null,
   "metadata": {
    "vscode": {
     "languageId": "r"
    }
   },
   "outputs": [],
   "source": [
    "tse_X01"
   ]
  },
  {
   "cell_type": "code",
   "execution_count": null,
   "metadata": {
    "vscode": {
     "languageId": "r"
    }
   },
   "outputs": [],
   "source": [
    "table(rowData(tse_X01)$Family)"
   ]
  },
  {
   "cell_type": "code",
   "execution_count": null,
   "metadata": {
    "vscode": {
     "languageId": "r"
    }
   },
   "outputs": [],
   "source": [
    "# colData(tse_X01)$cancergroup <- as.character(colData(tse_X01)$cancergroup)\n",
    "\n",
    "# colData(tse_X01) <- colData(tse_X01)[ colData(tse_X01)$cancergroup != \"T-cell malignancies\"]"
   ]
  },
  {
   "cell_type": "code",
   "execution_count": null,
   "metadata": {
    "vscode": {
     "languageId": "r"
    }
   },
   "outputs": [],
   "source": [
    "colData(tse_X01)$cancergroup <- factor(colData(tse_X01)$cancergroup, levels = c(\"Leukemia\", \"Lymphoma\", \"Solid tumors\"))"
   ]
  },
  {
   "cell_type": "code",
   "execution_count": null,
   "metadata": {
    "vscode": {
     "languageId": "r"
    }
   },
   "outputs": [],
   "source": [
    "table(rowData(tse_X01)$gliph)"
   ]
  },
  {
   "cell_type": "code",
   "execution_count": null,
   "metadata": {
    "vscode": {
     "languageId": "r"
    }
   },
   "outputs": [],
   "source": [
    "# readr::write_rds(onetest_tse, \"/Users/anabbi/Desktop/H4H/INTERCEPT/analysis/GLIPH/ancombc/int_gliph_tse_X01_pbmc.rds\")"
   ]
  },
  {
   "cell_type": "code",
   "execution_count": null,
   "metadata": {
    "vscode": {
     "languageId": "r"
    }
   },
   "outputs": [],
   "source": [
    "# rowData(tse_X01)$Family <- rowData(tse_X01)$gliph"
   ]
  },
  {
   "cell_type": "code",
   "execution_count": null,
   "metadata": {
    "vscode": {
     "languageId": "r"
    }
   },
   "outputs": [],
   "source": [
    "set.seed(111)"
   ]
  },
  {
   "cell_type": "code",
   "execution_count": null,
   "metadata": {
    "vscode": {
     "languageId": "r"
    }
   },
   "outputs": [],
   "source": [
    "out <- ancombc2(\n",
    "    data = tse_X01, assay_name = \"Count\",\n",
    "    tax_level = NULL, \n",
    "    fix_formula = \"cancergroup\", rand_formula = NULL,#\"(1|Patient)\",\n",
    "    p_adj_method = \"fdr\", \n",
    "    pseudo = 0, pseudo_sens = TRUE, # add pseudocounts\n",
    "    prv_cut = 0.01, # prevalence cutoff\n",
    "    lib_cut = 0, # library size cutoff\n",
    "    s0_perc = 0.05, \n",
    "    group = \"cancergroup\", \n",
    "    struc_zero = FALSE, \n",
    "    neg_lb = FALSE, # check this again\n",
    "    alpha = 0.05, \n",
    "    n_cl = 10, # number of nodes\n",
    "    verbose = TRUE,\n",
    "    global = TRUE, pairwise = TRUE, dunnet = TRUE, trend = FALSE, # test types\n",
    "    iter_control = list(tol = 1e-2, max_iter = 20, verbose = TRUE),\n",
    "    em_control = list(tol = 1e-5, max_iter = 100),\n",
    "    lme_control = lme4::lmerControl(),\n",
    "    mdfdr_control = list(fwer_ctrl_method = \"fdr\", B = 100)\n",
    ")\n"
   ]
  },
  {
   "cell_type": "code",
   "execution_count": null,
   "metadata": {
    "vscode": {
     "languageId": "r"
    }
   },
   "outputs": [],
   "source": [
    "# out <- readr::read_rds(\"/Users/anabbi/Desktop/H4H/INTERCEPT/analysis/GLIPH/ancombc/int_gliph_tse_X01_pbmc_res.rds\")"
   ]
  },
  {
   "cell_type": "code",
   "execution_count": null,
   "metadata": {
    "vscode": {
     "languageId": "r"
    }
   },
   "outputs": [],
   "source": [
    "myres <- out$res_pair"
   ]
  },
  {
   "cell_type": "code",
   "execution_count": null,
   "metadata": {
    "vscode": {
     "languageId": "r"
    }
   },
   "outputs": [],
   "source": [
    "myres"
   ]
  },
  {
   "cell_type": "code",
   "execution_count": null,
   "metadata": {
    "vscode": {
     "languageId": "r"
    }
   },
   "outputs": [],
   "source": [
    "out$res"
   ]
  },
  {
   "cell_type": "markdown",
   "metadata": {},
   "source": [
    "# v2\n",
    "\n",
    "table patterns, group gliph based on external db, run ancombc for cfdna and pbmc comparing baseline to post-chemo in each cancergroup"
   ]
  },
  {
   "cell_type": "code",
   "execution_count": null,
   "metadata": {
    "vscode": {
     "languageId": "r"
    }
   },
   "outputs": [],
   "source": [
    "meta_div <- readr::read_rds(paste0(datapath, \"capTCRseq/meta_div_goodsamples.rds\"))"
   ]
  },
  {
   "cell_type": "code",
   "execution_count": null,
   "metadata": {
    "vscode": {
     "languageId": "r"
    }
   },
   "outputs": [],
   "source": [
    "#remove those samples that we did not have the TCRseq data for\n",
    "meta_div <- meta_div[!is.na(meta_div$TRB),]"
   ]
  },
  {
   "cell_type": "code",
   "execution_count": null,
   "metadata": {
    "vscode": {
     "languageId": "r"
    }
   },
   "outputs": [],
   "source": [
    "gliph_out <- readr::read_csv(paste0(h4hpath, \"/v4/gliph_output/int_vdj_v4_cluster.csv\"), col_names = T) # default gliph reference dataset"
   ]
  },
  {
   "cell_type": "code",
   "execution_count": null,
   "metadata": {
    "vscode": {
     "languageId": "r"
    }
   },
   "outputs": [],
   "source": [
    "# remove columns starting with HLA\n",
    "gliph_out <- gliph_out[,!grepl(\"HLA\", colnames(gliph_out))]"
   ]
  },
  {
   "cell_type": "code",
   "execution_count": null,
   "metadata": {
    "vscode": {
     "languageId": "r"
    }
   },
   "outputs": [],
   "source": [
    "head(gliph_out)"
   ]
  },
  {
   "cell_type": "code",
   "execution_count": null,
   "metadata": {
    "vscode": {
     "languageId": "r"
    }
   },
   "outputs": [],
   "source": [
    "#  tmp <- gliph_out[gliph_out$number_subject >= 3,]\n",
    "#  tmp <- tmp[tmp$number_unique_cdr3 >= 3,]\n",
    "#   tmp <- tmp[tmp$Fisher_score < 0.001,]\n",
    "# tmp <- tmp[tmp$expansion_score < 0.01,]\n",
    "# tmp <- tmp[tmp$length_score < 0.002,]\n",
    "\n",
    "gliph_out_nosingle <- gliph_out[ gliph_out$pattern != \"single\",]"
   ]
  },
  {
   "cell_type": "code",
   "execution_count": null,
   "metadata": {
    "vscode": {
     "languageId": "r"
    }
   },
   "outputs": [],
   "source": [
    "dim(gliph_out)\n",
    "dim(gliph_out_nosingle)"
   ]
  },
  {
   "cell_type": "code",
   "execution_count": null,
   "metadata": {
    "vscode": {
     "languageId": "r"
    }
   },
   "outputs": [],
   "source": [
    "# only those gliph groups with >= 3 subjects from CHP\n",
    "chp <- gliph_out_nosingle[ grepl(\"Leukemia\", gliph_out_nosingle$Sample),]\n",
    "chp_sample <- chp[ grepl(\"cfDNA\", chp$Sample),]"
   ]
  },
  {
   "cell_type": "code",
   "execution_count": null,
   "metadata": {
    "vscode": {
     "languageId": "r"
    }
   },
   "outputs": [],
   "source": [
    "# pattern_pre_freq <- as.data.frame(table(chp_pre$pattern) , stringsAsFactors = F)\n",
    "# pattern_post_freq <- as.data.frame(table(chp_post$pattern) , stringsAsFactors = F)\n",
    "\n",
    "# myprepatterns <- pattern_pre_freq$Var1[ pattern_pre_freq$Freq >= 3 ]\n",
    "# mypostpatterns <- pattern_post_freq$Var1[ pattern_post_freq$Freq >= 3 ]"
   ]
  },
  {
   "cell_type": "code",
   "execution_count": null,
   "metadata": {
    "vscode": {
     "languageId": "r"
    }
   },
   "outputs": [],
   "source": [
    "# length(myprepatterns)\n",
    "# length(mypostpatterns)"
   ]
  },
  {
   "cell_type": "code",
   "execution_count": null,
   "metadata": {
    "vscode": {
     "languageId": "r"
    }
   },
   "outputs": [],
   "source": [
    "# mypatterns <- intersect(myprepatterns, mypostpatterns)"
   ]
  },
  {
   "cell_type": "code",
   "execution_count": null,
   "metadata": {
    "vscode": {
     "languageId": "r"
    }
   },
   "outputs": [],
   "source": [
    "# subset the original gliph_out_nosingle to mypatterns to keep the external database\n",
    "# gliph_out_nosingle_chppatterns <- gliph_out_nosingle#[gliph_out_nosingle$pattern %in% mypatterns,]"
   ]
  },
  {
   "cell_type": "code",
   "execution_count": null,
   "metadata": {
    "vscode": {
     "languageId": "r"
    }
   },
   "outputs": [],
   "source": [
    "dim(gliph_out_nosingle)\n",
    "# dim(gliph_out_nosingle_chppatterns)"
   ]
  },
  {
   "cell_type": "code",
   "execution_count": null,
   "metadata": {
    "vscode": {
     "languageId": "r"
    }
   },
   "outputs": [],
   "source": [
    "# get the matrix of GLIPH x samples\n",
    "pat_type <- as.data.frame.matrix(table(gliph_out_nosingle %>% select(pattern, Sample)))"
   ]
  },
  {
   "cell_type": "code",
   "execution_count": null,
   "metadata": {
    "vscode": {
     "languageId": "r"
    }
   },
   "outputs": [],
   "source": [
    "head(pat_type)"
   ]
  },
  {
   "cell_type": "code",
   "execution_count": null,
   "metadata": {
    "vscode": {
     "languageId": "r"
    }
   },
   "outputs": [],
   "source": [
    "pat_type <- pat_type[, grepl(\"CHP\", colnames(pat_type))]"
   ]
  },
  {
   "cell_type": "code",
   "execution_count": null,
   "metadata": {
    "vscode": {
     "languageId": "r"
    }
   },
   "outputs": [],
   "source": [
    "# make a samplename to match subject:condition of gliph_out\n",
    "meta_div$samplename <- paste0(meta_div$cancergroup, \":\", meta_div$Patient, \"_\", meta_div$cycle, \"-\", meta_div$sampletype)\n",
    "meta_div$samplename <- gsub(\" \", \"\", meta_div$samplename)"
   ]
  },
  {
   "cell_type": "code",
   "execution_count": null,
   "metadata": {
    "vscode": {
     "languageId": "r"
    }
   },
   "outputs": [],
   "source": [
    "table(meta_div$cancergroup)"
   ]
  },
  {
   "cell_type": "code",
   "execution_count": null,
   "metadata": {
    "vscode": {
     "languageId": "r"
    }
   },
   "outputs": [],
   "source": [
    "meta_div <- meta_div[ meta_div$cancergroup %in% c(\"Solid tumors\", \"Leukemia\", \"Lymphoma\", \"T-cell malignancies\"),]"
   ]
  },
  {
   "cell_type": "code",
   "execution_count": null,
   "metadata": {
    "vscode": {
     "languageId": "r"
    }
   },
   "outputs": [],
   "source": [
    "meta_div_sampletype <- meta_div[ meta_div$sampletype == \"cfDNA\",]\n",
    "\n",
    "meta_div_sampletype_cancer <- meta_div_sampletype[ meta_div_sampletype$cancergroup == \"Leukemia\",]"
   ]
  },
  {
   "cell_type": "code",
   "execution_count": null,
   "metadata": {
    "vscode": {
     "languageId": "r"
    }
   },
   "outputs": [],
   "source": [
    "table(meta_div_sampletype_cancer$cycle)"
   ]
  },
  {
   "cell_type": "code",
   "execution_count": null,
   "metadata": {
    "vscode": {
     "languageId": "r"
    }
   },
   "outputs": [],
   "source": [
    "myfreq <- as.data.frame(table(meta_div_sampletype_cancer$Patient) )"
   ]
  },
  {
   "cell_type": "code",
   "execution_count": null,
   "metadata": {
    "vscode": {
     "languageId": "r"
    }
   },
   "outputs": [],
   "source": [
    "mypts <- myfreq$Var1[ myfreq$Freq > 1]"
   ]
  },
  {
   "cell_type": "code",
   "execution_count": null,
   "metadata": {
    "vscode": {
     "languageId": "r"
    }
   },
   "outputs": [],
   "source": [
    "meta_div_sampletype_cancer <- meta_div_sampletype_cancer[ meta_div_sampletype_cancer$Patient %in% mypts,]"
   ]
  },
  {
   "cell_type": "code",
   "execution_count": null,
   "metadata": {
    "vscode": {
     "languageId": "r"
    }
   },
   "outputs": [],
   "source": [
    "# subset the matrix to match samples in the metadata\n",
    "pat_type <- pat_type[ rowSums(pat_type) > 2, colnames(pat_type) %in% meta_div_sampletype_cancer$samplename ]\n",
    "# match metadata to the matrix\n",
    "metadata_matched <- meta_div_sampletype_cancer[match(colnames(pat_type), meta_div_sampletype_cancer$samplename), ]"
   ]
  },
  {
   "cell_type": "code",
   "execution_count": null,
   "metadata": {
    "vscode": {
     "languageId": "r"
    }
   },
   "outputs": [],
   "source": [
    "dim(metadata_matched)\n",
    "dim(pat_type)"
   ]
  },
  {
   "cell_type": "markdown",
   "metadata": {},
   "source": [
    "Make rowData"
   ]
  },
  {
   "cell_type": "code",
   "execution_count": null,
   "metadata": {
    "vscode": {
     "languageId": "r"
    }
   },
   "outputs": [],
   "source": [
    "gliphdf <- data.frame(gliph = rownames(pat_type))\n",
    "rownames(gliphdf) <- gliphdf$gliph"
   ]
  },
  {
   "cell_type": "code",
   "execution_count": null,
   "metadata": {
    "vscode": {
     "languageId": "r"
    }
   },
   "outputs": [],
   "source": [
    "gliph_out_nosingle$subject <- gsub(\":.*\", \"\", gliph_out_nosingle$Sample)"
   ]
  },
  {
   "cell_type": "code",
   "execution_count": null,
   "metadata": {
    "vscode": {
     "languageId": "r"
    }
   },
   "outputs": [],
   "source": [
    "head(gliph_out_nosingle[, c(\"subject\", \"Sample\")])"
   ]
  },
  {
   "cell_type": "code",
   "execution_count": null,
   "metadata": {
    "vscode": {
     "languageId": "r"
    }
   },
   "outputs": [],
   "source": [
    "names(table(gliph_out_nosingle$subject[!grepl(\"CHP\", gliph_out_nosingle$Sample)]))"
   ]
  },
  {
   "cell_type": "code",
   "execution_count": null,
   "metadata": {
    "vscode": {
     "languageId": "r"
    }
   },
   "outputs": [],
   "source": [
    "#rmeove LFS cases\n",
    "gliph_out_nosingle <- gliph_out_nosingle[!grepl(\"LFS\", gliph_out_nosingle$subject),]"
   ]
  },
  {
   "cell_type": "code",
   "execution_count": null,
   "metadata": {
    "vscode": {
     "languageId": "r"
    }
   },
   "outputs": [],
   "source": [
    "names(table(gliph_out_nosingle$subject[!grepl(\"CHP\", gliph_out_nosingle$Sample)]))"
   ]
  },
  {
   "cell_type": "code",
   "execution_count": null,
   "metadata": {
    "vscode": {
     "languageId": "r"
    }
   },
   "outputs": [],
   "source": [
    "for(i in 1:nrow(gliphdf)){\n",
    "\n",
    "mygliph <- gliph_out_nosingle[gliph_out_nosingle$pattern == gliphdf$gliph[i],]\n",
    "# add 1 in gliphdf$CMV, if mygliph$subject ciontains CMV\n",
    "gliphdf$CMV[i] <- ifelse(sum(grepl(\"CMV\", mygliph$subject)) > 0, sum(grepl(\"CMV\", mygliph$subject)), 0)\n",
    "gliphdf$EBV[i] <- ifelse(sum(grepl(\"EBV\", mygliph$subject)) > 0, sum(grepl(\"EBV\", mygliph$subject)), 0)\n",
    "gliphdf$HCV[i] <- ifelse(sum(grepl(\"HCV\", mygliph$subject)) > 0, sum(grepl(\"HCV\", mygliph$subject)), 0)\n",
    "gliphdf$Flu[i] <- ifelse(sum(grepl(\"Influenza\", mygliph$subject)) > 0, sum(grepl(\"Influenza\", mygliph$subject)), 0)\n",
    "\n",
    "gliphdf$hs[i] <- ifelse(sum(grepl(\"HomoSapiens\", mygliph$subject)) > 0, sum(grepl(\"HomoSapiens\", mygliph$subject)), 0)\n",
    "gliphdf$hs[i] <- ifelse(sum(grepl(\"MDavis\", mygliph$subject)) > 0, sum(grepl(\"MDavis\", mygliph$subject)), 0)\n",
    "\n",
    "gliphdf$HPV[i] <- ifelse(sum(grepl(\"HPV\", mygliph$subject)) > 0, sum(grepl(\"HPV\", mygliph$subject)), 0)\n",
    "gliphdf$CEF[i] <- ifelse(sum(grepl(\"CEF\", mygliph$subject)) > 0, sum(grepl(\"CEF\", mygliph$subject)), 0)\n",
    "gliphdf$TB[i] <- ifelse(sum(grepl(\"M.tuberculosis\", mygliph$subject)) > 0, sum(grepl(\"M.tuberculosis\", mygliph$subject)), 0)\n",
    "gliphdf$MCPyV[i] <- ifelse(sum(grepl(\"MCPyV\", mygliph$subject)) > 0, sum(grepl(\"MCPyV\", mygliph$subject)), 0)\n",
    "gliphdf$SP[i] <- ifelse(sum(grepl(\"S-pneumoniae\", mygliph$subject)) > 0, sum(grepl(\"S-pneumoniae\", mygliph$subject)), 0)\n",
    "\n",
    "gliphdf$SP[i] <- ifelse(sum(grepl(\"HTLV-1\", mygliph$subject)) > 0, sum(grepl(\"HTLV-1\", mygliph$subject)), 0)\n",
    "gliphdf$SP[i] <- ifelse(sum(grepl(\"DENV\", mygliph$subject)) > 0, sum(grepl(\"DENV\", mygliph$subject)), 0)\n",
    "}"
   ]
  },
  {
   "cell_type": "code",
   "execution_count": null,
   "metadata": {
    "vscode": {
     "languageId": "r"
    }
   },
   "outputs": [],
   "source": [
    "head(gliphdf)"
   ]
  },
  {
   "cell_type": "code",
   "execution_count": null,
   "metadata": {
    "vscode": {
     "languageId": "r"
    }
   },
   "outputs": [],
   "source": [
    "gliphdf$Family <- NA\n",
    "\n",
    "for (i in 1:nrow(gliphdf)) {\n",
    "    mygliph <- gliph_out_nosingle[gliph_out_nosingle$pattern == gliphdf$gliph[i], ]\n",
    "    # add CMV to gliphdf$Family, if CMV is in mygliph$subject\n",
    "    gliphdf$Family[i] <- ifelse(sum(grepl(\"CMV\", mygliph$subject)) > 0, \"CMV\", \"\")\n",
    "    gliphdf$Family[i] <- ifelse(sum(grepl(\"EBV\", mygliph$subject)) > 0, paste0(\"EBV_\", gliphdf$Family[i]), gliphdf$Family[i])\n",
    "    gliphdf$Family[i] <- ifelse(sum(grepl(\"HCV\", mygliph$subject)) > 0, paste0(\"HCV_\", gliphdf$Family[i]), gliphdf$Family[i])\n",
    "    gliphdf$Family[i] <- ifelse(sum(grepl(\"Influenza\", mygliph$subject)) > 0, paste0(\"Flu_\", gliphdf$Family[i]), gliphdf$Family[i])\n",
    "    gliphdf$Family[i] <- ifelse(sum(grepl(\"HomoSapiens\", mygliph$subject)) > 0, paste0(\"hs_\", gliphdf$Family[i]), gliphdf$Family[i])\n",
    "    gliphdf$Family[i] <- ifelse(sum(grepl(\"HPV\", mygliph$subject)) > 0, paste0(\"HPV_\", gliphdf$Family[i]), gliphdf$Family[i])\n",
    "    gliphdf$Family[i] <- ifelse(sum(grepl(\"CEF\", mygliph$subject)) > 0, paste0(\"CEF_\", gliphdf$Family[i]), gliphdf$Family[i])\n",
    "    gliphdf$Family[i] <- ifelse(sum(grepl(\"M.tuberculosis\", mygliph$subject)) > 0, paste0(\"TB_\", gliphdf$Family[i]), gliphdf$Family[i])\n",
    "    gliphdf$Family[i] <- ifelse(sum(grepl(\"MCPyV\", mygliph$subject)) > 0, paste0(\"MCPyV_\", gliphdf$Family[i]), gliphdf$Family[i])\n",
    "    gliphdf$Family[i] <- ifelse(sum(grepl(\"MDavis\", mygliph$subject)) > 0, paste0(\"hs_\", gliphdf$Family[i]), gliphdf$Family[i])\n",
    "    gliphdf$Family[i] <- ifelse(sum(grepl(\"S-pneumoniae\", mygliph$subject)) > 0, paste0(\"SP_\", gliphdf$Family[i]), gliphdf$Family[i])\n",
    "    gliphdf$Family[i] <- ifelse(sum(grepl(\"DENV\", mygliph$subject)) > 0, paste0(\"DENV_\", gliphdf$Family[i]), gliphdf$Family[i])\n",
    "    gliphdf$Family[i] <- ifelse(sum(grepl(\"HTLV\", mygliph$subject)) > 0, paste0(\"HTLV_\", gliphdf$Family[i]), gliphdf$Family[i])\n",
    "\n",
    "}"
   ]
  },
  {
   "cell_type": "code",
   "execution_count": null,
   "metadata": {
    "vscode": {
     "languageId": "r"
    }
   },
   "outputs": [],
   "source": [
    "head(gliphdf)"
   ]
  },
  {
   "cell_type": "code",
   "execution_count": null,
   "metadata": {
    "vscode": {
     "languageId": "r"
    }
   },
   "outputs": [],
   "source": [
    "for (i in 1:nrow(gliphdf)) {\n",
    "    mygliph <- gliph_out_nosingle[gliph_out_nosingle$pattern == gliphdf$gliph[i], ]\n",
    "    gliphdf$n_cdr3[i] <- nrow(mygliph)\n",
    "}"
   ]
  },
  {
   "cell_type": "code",
   "execution_count": null,
   "metadata": {
    "vscode": {
     "languageId": "r"
    }
   },
   "outputs": [],
   "source": [
    "head(gliphdf[ gliphdf$Family != \"\",],10)"
   ]
  },
  {
   "cell_type": "code",
   "execution_count": null,
   "metadata": {
    "vscode": {
     "languageId": "r"
    }
   },
   "outputs": [],
   "source": [
    "gliphdf$Family[gliphdf$Family == \"\" ] <- \"NK\""
   ]
  },
  {
   "cell_type": "code",
   "execution_count": null,
   "metadata": {
    "vscode": {
     "languageId": "r"
    }
   },
   "outputs": [],
   "source": [
    "levels(as.factor(gliphdf$Family))"
   ]
  },
  {
   "cell_type": "code",
   "execution_count": null,
   "metadata": {
    "vscode": {
     "languageId": "r"
    }
   },
   "outputs": [],
   "source": [
    "# cleanup\n",
    "gliphdf$Family <- gsub(\"_$\", \"\", gliphdf$Family)\n",
    "gliphdf$Family[ gliphdf$Family == \"hs_hs\"] <- \"hs\"\n",
    "gliphdf$Family <- gsub(\"hs_hs\", \"hs\", gliphdf$Family)"
   ]
  },
  {
   "cell_type": "code",
   "execution_count": null,
   "metadata": {
    "vscode": {
     "languageId": "r"
    }
   },
   "outputs": [],
   "source": [
    "levels(as.factor(gliphdf$Family))"
   ]
  },
  {
   "cell_type": "code",
   "execution_count": null,
   "metadata": {
    "vscode": {
     "languageId": "r"
    }
   },
   "outputs": [],
   "source": [
    "# species = gliph, genus = original annotations, family = grouped annotations\n",
    "gliphdf$Genus <- gliphdf$Family"
   ]
  },
  {
   "cell_type": "code",
   "execution_count": null,
   "metadata": {
    "vscode": {
     "languageId": "r"
    }
   },
   "outputs": [],
   "source": [
    "gliphdf$Family[grepl(\"hs_\", gliphdf$Family)] <- \"cross-reactive\"\n",
    "gliphdf$Family[grepl(\"_hs\", gliphdf$Family)] <- \"cross-reactive\"\n",
    "gliphdf$Family[ gliphdf$Family %in% c(\"CMV\", \"EBV\", \"HPV\", \"HCV\", \"MCPyV\", \"HTLV\", \"Flu\", \"DENV\", \"CEF\")] <- \"Viral\"\n",
    "gliphdf$Family[grepl(\"_\", gliphdf$Family)] <- \"Viral\""
   ]
  },
  {
   "cell_type": "code",
   "execution_count": null,
   "metadata": {
    "vscode": {
     "languageId": "r"
    }
   },
   "outputs": [],
   "source": [
    "levels(as.factor(gliphdf$Genus))\n",
    "levels(as.factor(gliphdf$Family))"
   ]
  },
  {
   "cell_type": "markdown",
   "metadata": {},
   "source": [
    "Create TreeSummarizedExperiment to input to ANCOMBC"
   ]
  },
  {
   "cell_type": "code",
   "execution_count": null,
   "metadata": {
    "vscode": {
     "languageId": "r"
    }
   },
   "outputs": [],
   "source": [
    "table(metadata_matched$cancergroup)"
   ]
  },
  {
   "cell_type": "code",
   "execution_count": null,
   "metadata": {
    "vscode": {
     "languageId": "r"
    }
   },
   "outputs": [],
   "source": [
    "rownames(metadata_matched) <- metadata_matched$samplename"
   ]
  },
  {
   "cell_type": "code",
   "execution_count": null,
   "metadata": {
    "vscode": {
     "languageId": "r"
    }
   },
   "outputs": [],
   "source": [
    "head(metadata_matched)"
   ]
  },
  {
   "cell_type": "code",
   "execution_count": null,
   "metadata": {
    "vscode": {
     "languageId": "r"
    }
   },
   "outputs": [],
   "source": [
    "table(gliphdf$Family)"
   ]
  },
  {
   "cell_type": "code",
   "execution_count": null,
   "metadata": {
    "vscode": {
     "languageId": "r"
    }
   },
   "outputs": [],
   "source": [
    "head(gliphdf)"
   ]
  },
  {
   "cell_type": "code",
   "execution_count": null,
   "metadata": {
    "vscode": {
     "languageId": "r"
    }
   },
   "outputs": [],
   "source": [
    "metadata_matched$mygroup <- NA\n",
    "metadata_matched$mygroup[metadata_matched$cycle == \"X01\"] <- \"Pre\"\n",
    "metadata_matched$mygroup[metadata_matched$cycle != \"X01\"] <- \"Post\""
   ]
  },
  {
   "cell_type": "code",
   "execution_count": null,
   "metadata": {
    "vscode": {
     "languageId": "r"
    }
   },
   "outputs": [],
   "source": [
    "table(metadata_matched$mygroup)"
   ]
  },
  {
   "cell_type": "code",
   "execution_count": null,
   "metadata": {
    "vscode": {
     "languageId": "r"
    }
   },
   "outputs": [],
   "source": [
    "tse_cycle <- TreeSummarizedExperiment(\n",
    "    assays = list(Count = as.matrix(pat_type)),\n",
    "    rowData = gliphdf,\n",
    "    colData = metadata_matched\n",
    ")"
   ]
  },
  {
   "cell_type": "code",
   "execution_count": null,
   "metadata": {
    "vscode": {
     "languageId": "r"
    }
   },
   "outputs": [],
   "source": [
    "tse_cycle"
   ]
  },
  {
   "cell_type": "code",
   "execution_count": null,
   "metadata": {
    "vscode": {
     "languageId": "r"
    }
   },
   "outputs": [],
   "source": [
    "table(metadata_matched$mygroup)"
   ]
  },
  {
   "cell_type": "code",
   "execution_count": null,
   "metadata": {
    "vscode": {
     "languageId": "r"
    }
   },
   "outputs": [],
   "source": [
    "# tse_X01 <- onetest_tse[, colnames(onetest_tse)[grepl(\"X01\", colnames(onetest_tse)) ] ]\n",
    "\n",
    "# tse_X01 <- tse_X01[, colnames(tse_X01)[!grepl(\"T-cellmalignancies\", colnames(tse_X01)) ] ]"
   ]
  },
  {
   "cell_type": "code",
   "execution_count": null,
   "metadata": {
    "vscode": {
     "languageId": "r"
    }
   },
   "outputs": [],
   "source": [
    "nks <- gliphdf$gliph[ gliphdf$Family %in% c(\"NK\")]"
   ]
  },
  {
   "cell_type": "code",
   "execution_count": null,
   "metadata": {
    "vscode": {
     "languageId": "r"
    }
   },
   "outputs": [],
   "source": [
    "length(nks)"
   ]
  },
  {
   "cell_type": "code",
   "execution_count": null,
   "metadata": {
    "vscode": {
     "languageId": "r"
    }
   },
   "outputs": [],
   "source": [
    "tse_cycle <- tse_cycle[ !rownames(tse_cycle) %in% nks, ]"
   ]
  },
  {
   "cell_type": "code",
   "execution_count": null,
   "metadata": {
    "vscode": {
     "languageId": "r"
    }
   },
   "outputs": [],
   "source": [
    "tse_cycle"
   ]
  },
  {
   "cell_type": "code",
   "execution_count": null,
   "metadata": {
    "vscode": {
     "languageId": "r"
    }
   },
   "outputs": [],
   "source": [
    "table(colData(tse_cycle)$mygroup, useNA = \"ifany\")"
   ]
  },
  {
   "cell_type": "code",
   "execution_count": null,
   "metadata": {
    "vscode": {
     "languageId": "r"
    }
   },
   "outputs": [],
   "source": [
    "head(rowSums(assay(tse_cycle)))"
   ]
  },
  {
   "cell_type": "code",
   "execution_count": null,
   "metadata": {
    "vscode": {
     "languageId": "r"
    }
   },
   "outputs": [],
   "source": [
    "# readr::write_rds(tse_cycle, \"/Users/anabbi/Desktop/H4H/INTERCEPT/analysis/GLIPH/ancombc/int_gliph_tse_leu_pre_post_cfdna.rds\")"
   ]
  },
  {
   "cell_type": "code",
   "execution_count": null,
   "metadata": {
    "vscode": {
     "languageId": "r"
    }
   },
   "outputs": [],
   "source": [
    "# rowData(tse_X01)$Family <- rowData(tse_X01)$gliph"
   ]
  },
  {
   "cell_type": "code",
   "execution_count": null,
   "metadata": {
    "vscode": {
     "languageId": "r"
    }
   },
   "outputs": [],
   "source": [
    "set.seed(111)"
   ]
  },
  {
   "cell_type": "code",
   "execution_count": null,
   "metadata": {
    "vscode": {
     "languageId": "r"
    }
   },
   "outputs": [],
   "source": [
    "out <- ancombc2(\n",
    "    data = tse_cycle, assay_name = \"counts\",\n",
    "    tax_level = \"Family\", \n",
    "    fix_formula = \"mygroup\", rand_formula = \"(1|Patient)\",\n",
    "    p_adj_method = \"fdr\", \n",
    "    pseudo = 0, pseudo_sens = TRUE, # add pseudocounts\n",
    "    prv_cut = 0.02, # prevalence cutoff\n",
    "    lib_cut = 0, # library size cutoff\n",
    "    s0_perc = 0.05, \n",
    "    group = \"mygroup\", \n",
    "    struc_zero = FALSE, \n",
    "    neg_lb = FALSE, # check this again\n",
    "    alpha = 0.05, \n",
    "    n_cl = 10, # number of nodes\n",
    "    verbose = TRUE,\n",
    "    global = FALSE, pairwise = FALSE, dunnet = FALSE, trend = FALSE, # test types\n",
    "    iter_control = list(tol = 1e-2, max_iter = 20, verbose = TRUE),\n",
    "    em_control = list(tol = 1e-5, max_iter = 100),\n",
    "    lme_control = lme4::lmerControl(),\n",
    "    mdfdr_control = list(fwer_ctrl_method = \"fdr\", B = 100)\n",
    ")\n"
   ]
  },
  {
   "cell_type": "code",
   "execution_count": null,
   "metadata": {
    "vscode": {
     "languageId": "r"
    }
   },
   "outputs": [],
   "source": [
    "out <- readr::read_rds(\"/Users/anabbi/Desktop/H4H/INTERCEPT/analysis/GLIPH/ancombc/int_gliph_leu_pre_post_cfdna_taxares.rds\")"
   ]
  },
  {
   "cell_type": "code",
   "execution_count": null,
   "metadata": {
    "vscode": {
     "languageId": "r"
    }
   },
   "outputs": [],
   "source": [
    "out$res"
   ]
  },
  {
   "cell_type": "markdown",
   "metadata": {},
   "source": [
    "# v3\n",
    "include clonecounts in gliph groups"
   ]
  },
  {
   "cell_type": "code",
   "execution_count": null,
   "metadata": {
    "vscode": {
     "languageId": "r"
    }
   },
   "outputs": [],
   "source": [
    "meta_div <- readr::read_rds(paste0(datapath, \"capTCRseq/meta_div_goodsamples.rds\"))"
   ]
  },
  {
   "cell_type": "code",
   "execution_count": null,
   "metadata": {
    "vscode": {
     "languageId": "r"
    }
   },
   "outputs": [],
   "source": [
    "#remove those samples that we did not have the TCRseq data for\n",
    "meta_div <- meta_div[!is.na(meta_div$TRB),]"
   ]
  },
  {
   "cell_type": "code",
   "execution_count": null,
   "metadata": {
    "vscode": {
     "languageId": "r"
    }
   },
   "outputs": [],
   "source": [
    "gliph_out <- readr::read_csv(paste0(h4hpath, \"/v4/gliph_output/int_vdj_v4_cluster.csv\"), col_names = T) # default gliph reference dataset"
   ]
  },
  {
   "cell_type": "code",
   "execution_count": null,
   "metadata": {
    "vscode": {
     "languageId": "r"
    }
   },
   "outputs": [],
   "source": [
    "# remove columns starting with HLA\n",
    "gliph_out <- gliph_out[,!grepl(\"HLA\", colnames(gliph_out))]"
   ]
  },
  {
   "cell_type": "code",
   "execution_count": null,
   "metadata": {
    "vscode": {
     "languageId": "r"
    }
   },
   "outputs": [],
   "source": [
    "head(gliph_out)"
   ]
  },
  {
   "cell_type": "code",
   "execution_count": null,
   "metadata": {
    "vscode": {
     "languageId": "r"
    }
   },
   "outputs": [],
   "source": [
    "#  tmp <- gliph_out[gliph_out$number_subject >= 3,]\n",
    "#  tmp <- tmp[tmp$number_unique_cdr3 >= 3,]\n",
    "#   tmp <- tmp[tmp$Fisher_score < 0.001,]\n",
    "# tmp <- tmp[tmp$expansion_score < 0.01,]\n",
    "# tmp <- tmp[tmp$length_score < 0.002,]\n",
    "\n",
    "gliph_out_nosingle <- gliph_out[ gliph_out$pattern != \"single\",]"
   ]
  },
  {
   "cell_type": "code",
   "execution_count": null,
   "metadata": {
    "vscode": {
     "languageId": "r"
    }
   },
   "outputs": [],
   "source": [
    "dim(gliph_out)\n",
    "dim(gliph_out_nosingle)"
   ]
  },
  {
   "cell_type": "code",
   "execution_count": null,
   "metadata": {
    "vscode": {
     "languageId": "r"
    }
   },
   "outputs": [],
   "source": [
    "# only those gliph groups with >= 3 baseline subjects from CHP\n",
    "chp <- gliph_out_nosingle[ grepl(\"CHP\", gliph_out_nosingle$Sample),]\n",
    "chp_x01 <- chp[ grepl(\"X01\", chp$Sample),]\n",
    "chp_x01_sample <- chp_x01[ grepl(\"PBMC\", chp_x01$Sample),]"
   ]
  },
  {
   "cell_type": "code",
   "execution_count": null,
   "metadata": {
    "vscode": {
     "languageId": "r"
    }
   },
   "outputs": [],
   "source": [
    "pattern_freq <- as.data.frame(table(chp_x01_sample$pattern) , stringsAsFactors = F)\n",
    "mypatterns <- pattern_freq$Var1[ pattern_freq$Freq >= 3 ]"
   ]
  },
  {
   "cell_type": "code",
   "execution_count": null,
   "metadata": {
    "vscode": {
     "languageId": "r"
    }
   },
   "outputs": [],
   "source": [
    "# pattern_pre_freq <- as.data.frame(table(chp_pre$pattern) , stringsAsFactors = F)\n",
    "# pattern_post_freq <- as.data.frame(table(chp_post$pattern) , stringsAsFactors = F)\n",
    "\n",
    "# myprepatterns <- pattern_pre_freq$Var1[ pattern_pre_freq$Freq >= 3 ]\n",
    "# mypostpatterns <- pattern_post_freq$Var1[ pattern_post_freq$Freq >= 3 ]"
   ]
  },
  {
   "cell_type": "code",
   "execution_count": null,
   "metadata": {
    "vscode": {
     "languageId": "r"
    }
   },
   "outputs": [],
   "source": [
    "# length(myprepatterns)\n",
    "# length(mypostpatterns)"
   ]
  },
  {
   "cell_type": "code",
   "execution_count": null,
   "metadata": {
    "vscode": {
     "languageId": "r"
    }
   },
   "outputs": [],
   "source": [
    "# mypatterns <- intersect(myprepatterns, mypostpatterns)"
   ]
  },
  {
   "cell_type": "code",
   "execution_count": null,
   "metadata": {
    "vscode": {
     "languageId": "r"
    }
   },
   "outputs": [],
   "source": [
    "# subset the original gliph_out_nosingle to mypatterns to keep the external database\n",
    "gliph_out_nosingle_chppatterns <- gliph_out_nosingle[gliph_out_nosingle$pattern %in% mypatterns,]"
   ]
  },
  {
   "cell_type": "code",
   "execution_count": null,
   "metadata": {
    "vscode": {
     "languageId": "r"
    }
   },
   "outputs": [],
   "source": [
    "dim(gliph_out_nosingle)\n",
    "dim(gliph_out_nosingle_chppatterns)"
   ]
  },
  {
   "cell_type": "code",
   "execution_count": null,
   "metadata": {
    "vscode": {
     "languageId": "r"
    }
   },
   "outputs": [],
   "source": [
    "head(gliph_out_nosingle_chppatterns)"
   ]
  },
  {
   "cell_type": "code",
   "execution_count": null,
   "metadata": {
    "vscode": {
     "languageId": "r"
    }
   },
   "outputs": [],
   "source": [
    "pat_type <- gliph_out_nosingle_chppatterns[, c(\"pattern\", \"Sample\", \"Freq\")] %>%\n",
    "  tidyr::pivot_wider(names_from = Sample, values_from = Freq, values_fn = sum, values_fill = 0)"
   ]
  },
  {
   "cell_type": "code",
   "execution_count": null,
   "metadata": {
    "vscode": {
     "languageId": "r"
    }
   },
   "outputs": [],
   "source": [
    "pat_type <- as.data.frame(pat_type)\n",
    "rownames(pat_type) <- pat_type$pattern\n",
    "pat_type$pattern <- NULL"
   ]
  },
  {
   "cell_type": "code",
   "execution_count": null,
   "metadata": {
    "vscode": {
     "languageId": "r"
    }
   },
   "outputs": [],
   "source": [
    "head(pat_type)"
   ]
  },
  {
   "cell_type": "code",
   "execution_count": null,
   "metadata": {
    "vscode": {
     "languageId": "r"
    }
   },
   "outputs": [],
   "source": [
    "# # get the matrix of GLIPH x samples\n",
    "# pat_type <- as.data.frame.matrix(table(gliph_out_nosingle_chppatterns %>% select(pattern, Sample)))"
   ]
  },
  {
   "cell_type": "code",
   "execution_count": null,
   "metadata": {
    "vscode": {
     "languageId": "r"
    }
   },
   "outputs": [],
   "source": [
    "pat_type <- pat_type[, grepl(\"CHP\", colnames(pat_type))]"
   ]
  },
  {
   "cell_type": "code",
   "execution_count": null,
   "metadata": {
    "vscode": {
     "languageId": "r"
    }
   },
   "outputs": [],
   "source": [
    "# make a samplename to match subject:condition of gliph_out\n",
    "meta_div$samplename <- paste0(meta_div$cancergroup, \":\", meta_div$Patient, \"_\", meta_div$cycle, \"-\", meta_div$sampletype)\n",
    "meta_div$samplename <- gsub(\" \", \"\", meta_div$samplename)"
   ]
  },
  {
   "cell_type": "code",
   "execution_count": null,
   "metadata": {
    "vscode": {
     "languageId": "r"
    }
   },
   "outputs": [],
   "source": [
    "table(meta_div$cancergroup)"
   ]
  },
  {
   "cell_type": "code",
   "execution_count": null,
   "metadata": {
    "vscode": {
     "languageId": "r"
    }
   },
   "outputs": [],
   "source": [
    "meta_div <- meta_div[ meta_div$cancergroup %in% c(\"Solid tumors\", \"Leukemia\", \"Lymphoma\"),]"
   ]
  },
  {
   "cell_type": "code",
   "execution_count": null,
   "metadata": {
    "vscode": {
     "languageId": "r"
    }
   },
   "outputs": [],
   "source": [
    "meta_div_sampletype <- meta_div[ meta_div$sampletype == \"PBMC\",]\n",
    "\n",
    "meta_div_sampletype_x01 <- meta_div_sampletype[ meta_div_sampletype$cycle == \"X01\",]"
   ]
  },
  {
   "cell_type": "code",
   "execution_count": null,
   "metadata": {
    "vscode": {
     "languageId": "r"
    }
   },
   "outputs": [],
   "source": [
    "table(meta_div_sampletype_x01$cancergroup)"
   ]
  },
  {
   "cell_type": "code",
   "execution_count": null,
   "metadata": {
    "vscode": {
     "languageId": "r"
    }
   },
   "outputs": [],
   "source": [
    "myfreq <- as.data.frame(table(meta_div_sampletype_x01$Patient) )"
   ]
  },
  {
   "cell_type": "code",
   "execution_count": null,
   "metadata": {
    "vscode": {
     "languageId": "r"
    }
   },
   "outputs": [],
   "source": [
    "# mypts <- myfreq$Var1[ myfreq$Freq > 1]"
   ]
  },
  {
   "cell_type": "code",
   "execution_count": null,
   "metadata": {
    "vscode": {
     "languageId": "r"
    }
   },
   "outputs": [],
   "source": [
    "# meta_div_sampletype_cancer <- meta_div_sampletype_cancer[ meta_div_sampletype_cancer$Patient %in% mypts,]"
   ]
  },
  {
   "cell_type": "code",
   "execution_count": null,
   "metadata": {
    "vscode": {
     "languageId": "r"
    }
   },
   "outputs": [],
   "source": [
    "# subset the matrix to match samples in the metadata\n",
    "pat_type <- pat_type[ , colnames(pat_type) %in% meta_div_sampletype_x01$samplename ]\n",
    "# match metadata to the matrix\n",
    "metadata_matched <- meta_div_sampletype_x01[match(colnames(pat_type), meta_div_sampletype_x01$samplename), ]"
   ]
  },
  {
   "cell_type": "code",
   "execution_count": null,
   "metadata": {
    "vscode": {
     "languageId": "r"
    }
   },
   "outputs": [],
   "source": [
    "dim(metadata_matched)\n",
    "dim(pat_type)"
   ]
  },
  {
   "cell_type": "markdown",
   "metadata": {},
   "source": [
    "Make rowData"
   ]
  },
  {
   "cell_type": "code",
   "execution_count": null,
   "metadata": {
    "vscode": {
     "languageId": "r"
    }
   },
   "outputs": [],
   "source": [
    "head(pat_type)"
   ]
  },
  {
   "cell_type": "code",
   "execution_count": null,
   "metadata": {
    "vscode": {
     "languageId": "r"
    }
   },
   "outputs": [],
   "source": [
    "gliphdf <- data.frame(gliph = rownames(pat_type))\n",
    "rownames(gliphdf) <- gliphdf$gliph"
   ]
  },
  {
   "cell_type": "code",
   "execution_count": null,
   "metadata": {
    "vscode": {
     "languageId": "r"
    }
   },
   "outputs": [],
   "source": [
    "head(gliphdf)"
   ]
  },
  {
   "cell_type": "code",
   "execution_count": null,
   "metadata": {
    "vscode": {
     "languageId": "r"
    }
   },
   "outputs": [],
   "source": [
    "gliph_out_nosingle$subject <- gsub(\":.*\", \"\", gliph_out_nosingle$Sample)"
   ]
  },
  {
   "cell_type": "code",
   "execution_count": null,
   "metadata": {
    "vscode": {
     "languageId": "r"
    }
   },
   "outputs": [],
   "source": [
    "head(gliph_out_nosingle[, c(\"subject\", \"Sample\")])"
   ]
  },
  {
   "cell_type": "code",
   "execution_count": null,
   "metadata": {
    "vscode": {
     "languageId": "r"
    }
   },
   "outputs": [],
   "source": [
    "names(table(gliph_out_nosingle$subject[!grepl(\"CHP\", gliph_out_nosingle$Sample)]))"
   ]
  },
  {
   "cell_type": "code",
   "execution_count": null,
   "metadata": {
    "vscode": {
     "languageId": "r"
    }
   },
   "outputs": [],
   "source": [
    "#rmeove LFS cases\n",
    "gliph_out_nosingle <- gliph_out_nosingle[!grepl(\"LFS\", gliph_out_nosingle$subject),]"
   ]
  },
  {
   "cell_type": "code",
   "execution_count": null,
   "metadata": {
    "vscode": {
     "languageId": "r"
    }
   },
   "outputs": [],
   "source": [
    "names(table(gliph_out_nosingle$subject[!grepl(\"CHP\", gliph_out_nosingle$Sample)]))"
   ]
  },
  {
   "cell_type": "code",
   "execution_count": null,
   "metadata": {
    "vscode": {
     "languageId": "r"
    }
   },
   "outputs": [],
   "source": [
    "for(i in 1:nrow(gliphdf)){\n",
    "\n",
    "mygliph <- gliph_out_nosingle[gliph_out_nosingle$pattern == gliphdf$gliph[i],]\n",
    "# add 1 in gliphdf$CMV, if mygliph$subject ciontains CMV\n",
    "gliphdf$CMV[i] <- ifelse(sum(grepl(\"CMV\", mygliph$subject)) > 0, sum(grepl(\"CMV\", mygliph$subject)), 0)\n",
    "gliphdf$EBV[i] <- ifelse(sum(grepl(\"EBV\", mygliph$subject)) > 0, sum(grepl(\"EBV\", mygliph$subject)), 0)\n",
    "gliphdf$HCV[i] <- ifelse(sum(grepl(\"HCV\", mygliph$subject)) > 0, sum(grepl(\"HCV\", mygliph$subject)), 0)\n",
    "gliphdf$Flu[i] <- ifelse(sum(grepl(\"Influenza\", mygliph$subject)) > 0, sum(grepl(\"Influenza\", mygliph$subject)), 0)\n",
    "\n",
    "gliphdf$hs[i] <- ifelse(sum(grepl(\"HomoSapiens\", mygliph$subject)) > 0, sum(grepl(\"HomoSapiens\", mygliph$subject)), 0)\n",
    "gliphdf$hs[i] <- ifelse(sum(grepl(\"MDavis\", mygliph$subject)) > 0, sum(grepl(\"MDavis\", mygliph$subject)), 0)\n",
    "\n",
    "gliphdf$HPV[i] <- ifelse(sum(grepl(\"HPV\", mygliph$subject)) > 0, sum(grepl(\"HPV\", mygliph$subject)), 0)\n",
    "gliphdf$CEF[i] <- ifelse(sum(grepl(\"CEF\", mygliph$subject)) > 0, sum(grepl(\"CEF\", mygliph$subject)), 0)\n",
    "gliphdf$TB[i] <- ifelse(sum(grepl(\"M.tuberculosis\", mygliph$subject)) > 0, sum(grepl(\"M.tuberculosis\", mygliph$subject)), 0)\n",
    "gliphdf$MCPyV[i] <- ifelse(sum(grepl(\"MCPyV\", mygliph$subject)) > 0, sum(grepl(\"MCPyV\", mygliph$subject)), 0)\n",
    "gliphdf$SP[i] <- ifelse(sum(grepl(\"S-pneumoniae\", mygliph$subject)) > 0, sum(grepl(\"S-pneumoniae\", mygliph$subject)), 0)\n",
    "\n",
    "gliphdf$HTLV[i] <- ifelse(sum(grepl(\"HTLV-1\", mygliph$subject)) > 0, sum(grepl(\"HTLV-1\", mygliph$subject)), 0)\n",
    "gliphdf$DENV[i] <- ifelse(sum(grepl(\"DENV\", mygliph$subject)) > 0, sum(grepl(\"DENV\", mygliph$subject)), 0)\n",
    "}"
   ]
  },
  {
   "cell_type": "code",
   "execution_count": null,
   "metadata": {
    "vscode": {
     "languageId": "r"
    }
   },
   "outputs": [],
   "source": [
    "head(gliphdf)"
   ]
  },
  {
   "cell_type": "code",
   "execution_count": null,
   "metadata": {
    "vscode": {
     "languageId": "r"
    }
   },
   "outputs": [],
   "source": [
    "gliphdf$Family <- NA\n",
    "\n",
    "for (i in 1:nrow(gliphdf)) {\n",
    "    mygliph <- gliph_out_nosingle[gliph_out_nosingle$pattern == gliphdf$gliph[i], ]\n",
    "    # add CMV to gliphdf$Family, if CMV is in mygliph$subject\n",
    "    gliphdf$Family[i] <- ifelse(sum(grepl(\"CMV\", mygliph$subject)) > 0, \"CMV\", \"\")\n",
    "    gliphdf$Family[i] <- ifelse(sum(grepl(\"EBV\", mygliph$subject)) > 0, paste0(\"EBV_\", gliphdf$Family[i]), gliphdf$Family[i])\n",
    "    gliphdf$Family[i] <- ifelse(sum(grepl(\"HCV\", mygliph$subject)) > 0, paste0(\"HCV_\", gliphdf$Family[i]), gliphdf$Family[i])\n",
    "    gliphdf$Family[i] <- ifelse(sum(grepl(\"Influenza\", mygliph$subject)) > 0, paste0(\"Flu_\", gliphdf$Family[i]), gliphdf$Family[i])\n",
    "    gliphdf$Family[i] <- ifelse(sum(grepl(\"HomoSapiens\", mygliph$subject)) > 0, paste0(\"hs_\", gliphdf$Family[i]), gliphdf$Family[i])\n",
    "    gliphdf$Family[i] <- ifelse(sum(grepl(\"HPV\", mygliph$subject)) > 0, paste0(\"HPV_\", gliphdf$Family[i]), gliphdf$Family[i])\n",
    "    gliphdf$Family[i] <- ifelse(sum(grepl(\"CEF\", mygliph$subject)) > 0, paste0(\"CEF_\", gliphdf$Family[i]), gliphdf$Family[i])\n",
    "    gliphdf$Family[i] <- ifelse(sum(grepl(\"M.tuberculosis\", mygliph$subject)) > 0, paste0(\"TB_\", gliphdf$Family[i]), gliphdf$Family[i])\n",
    "    gliphdf$Family[i] <- ifelse(sum(grepl(\"MCPyV\", mygliph$subject)) > 0, paste0(\"MCPyV_\", gliphdf$Family[i]), gliphdf$Family[i])\n",
    "    gliphdf$Family[i] <- ifelse(sum(grepl(\"MDavis\", mygliph$subject)) > 0, paste0(\"hs_\", gliphdf$Family[i]), gliphdf$Family[i])\n",
    "    gliphdf$Family[i] <- ifelse(sum(grepl(\"S-pneumoniae\", mygliph$subject)) > 0, paste0(\"SP_\", gliphdf$Family[i]), gliphdf$Family[i])\n",
    "    gliphdf$Family[i] <- ifelse(sum(grepl(\"DENV\", mygliph$subject)) > 0, paste0(\"DENV_\", gliphdf$Family[i]), gliphdf$Family[i])\n",
    "    gliphdf$Family[i] <- ifelse(sum(grepl(\"HTLV\", mygliph$subject)) > 0, paste0(\"HTLV_\", gliphdf$Family[i]), gliphdf$Family[i])\n",
    "\n",
    "}"
   ]
  },
  {
   "cell_type": "code",
   "execution_count": null,
   "metadata": {
    "vscode": {
     "languageId": "r"
    }
   },
   "outputs": [],
   "source": [
    "head(gliphdf)"
   ]
  },
  {
   "cell_type": "code",
   "execution_count": null,
   "metadata": {
    "vscode": {
     "languageId": "r"
    }
   },
   "outputs": [],
   "source": [
    "for (i in 1:nrow(gliphdf)) {\n",
    "    mygliph <- gliph_out_nosingle[gliph_out_nosingle$pattern == gliphdf$gliph[i], ]\n",
    "    gliphdf$n_cdr3[i] <- nrow(mygliph)\n",
    "}"
   ]
  },
  {
   "cell_type": "code",
   "execution_count": null,
   "metadata": {
    "vscode": {
     "languageId": "r"
    }
   },
   "outputs": [],
   "source": [
    "head(gliphdf[ gliphdf$Family != \"\",],10)"
   ]
  },
  {
   "cell_type": "code",
   "execution_count": null,
   "metadata": {
    "vscode": {
     "languageId": "r"
    }
   },
   "outputs": [],
   "source": [
    "gliphdf$Family[gliphdf$Family == \"\" ] <- \"NK\""
   ]
  },
  {
   "cell_type": "code",
   "execution_count": null,
   "metadata": {
    "vscode": {
     "languageId": "r"
    }
   },
   "outputs": [],
   "source": [
    "levels(as.factor(gliphdf$Family))"
   ]
  },
  {
   "cell_type": "code",
   "execution_count": null,
   "metadata": {
    "vscode": {
     "languageId": "r"
    }
   },
   "outputs": [],
   "source": [
    "# cleanup\n",
    "gliphdf$Family <- gsub(\"_$\", \"\", gliphdf$Family)\n",
    "gliphdf$Family[ gliphdf$Family == \"hs_hs\"] <- \"hs\"\n",
    "gliphdf$Family <- gsub(\"hs_hs\", \"hs\", gliphdf$Family)"
   ]
  },
  {
   "cell_type": "code",
   "execution_count": null,
   "metadata": {
    "vscode": {
     "languageId": "r"
    }
   },
   "outputs": [],
   "source": [
    "levels(as.factor(gliphdf$Family))"
   ]
  },
  {
   "cell_type": "code",
   "execution_count": null,
   "metadata": {
    "vscode": {
     "languageId": "r"
    }
   },
   "outputs": [],
   "source": [
    "# species = gliph, genus = original annotations, family = grouped annotations\n",
    "gliphdf$Genus <- gliphdf$Family"
   ]
  },
  {
   "cell_type": "code",
   "execution_count": null,
   "metadata": {
    "vscode": {
     "languageId": "r"
    }
   },
   "outputs": [],
   "source": [
    "gliphdf$Family[grepl(\"hs_\", gliphdf$Family)] <- \"cross-reactive\"\n",
    "gliphdf$Family[grepl(\"_hs\", gliphdf$Family)] <- \"cross-reactive\"\n",
    "gliphdf$Family[ gliphdf$Family %in% c(\"CMV\", \"EBV\", \"HPV\", \"HCV\", \"MCPyV\", \"HTLV\", \"Flu\", \"DENV\", \"CEF\")] <- \"Viral\"\n",
    "gliphdf$Family[grepl(\"_\", gliphdf$Family)] <- \"Viral\""
   ]
  },
  {
   "cell_type": "code",
   "execution_count": null,
   "metadata": {
    "vscode": {
     "languageId": "r"
    }
   },
   "outputs": [],
   "source": [
    "levels(as.factor(gliphdf$Genus))\n",
    "levels(as.factor(gliphdf$Family))"
   ]
  },
  {
   "cell_type": "markdown",
   "metadata": {},
   "source": [
    "Create TreeSummarizedExperiment to input to ANCOMBC"
   ]
  },
  {
   "cell_type": "code",
   "execution_count": null,
   "metadata": {
    "vscode": {
     "languageId": "r"
    }
   },
   "outputs": [],
   "source": [
    "table(metadata_matched$cancergroup)"
   ]
  },
  {
   "cell_type": "code",
   "execution_count": null,
   "metadata": {
    "vscode": {
     "languageId": "r"
    }
   },
   "outputs": [],
   "source": [
    "rownames(metadata_matched) <- metadata_matched$samplename"
   ]
  },
  {
   "cell_type": "code",
   "execution_count": null,
   "metadata": {
    "vscode": {
     "languageId": "r"
    }
   },
   "outputs": [],
   "source": [
    "head(metadata_matched)"
   ]
  },
  {
   "cell_type": "code",
   "execution_count": null,
   "metadata": {
    "vscode": {
     "languageId": "r"
    }
   },
   "outputs": [],
   "source": [
    "table(gliphdf$Family)"
   ]
  },
  {
   "cell_type": "code",
   "execution_count": null,
   "metadata": {
    "vscode": {
     "languageId": "r"
    }
   },
   "outputs": [],
   "source": [
    "head(gliphdf)"
   ]
  },
  {
   "cell_type": "code",
   "execution_count": null,
   "metadata": {
    "vscode": {
     "languageId": "r"
    }
   },
   "outputs": [],
   "source": [
    "# metadata_matched$mygroup <- NA\n",
    "# metadata_matched$mygroup[metadata_matched$cycle == \"X01\"] <- \"Pre\"\n",
    "# metadata_matched$mygroup[metadata_matched$cycle != \"X01\"] <- \"Post\""
   ]
  },
  {
   "cell_type": "code",
   "execution_count": null,
   "metadata": {
    "vscode": {
     "languageId": "r"
    }
   },
   "outputs": [],
   "source": [
    "# table(metadata_matched$mygroup)"
   ]
  },
  {
   "cell_type": "code",
   "execution_count": null,
   "metadata": {
    "vscode": {
     "languageId": "r"
    }
   },
   "outputs": [],
   "source": [
    "pat_type <- as.matrix(pat_type) "
   ]
  },
  {
   "cell_type": "code",
   "execution_count": null,
   "metadata": {
    "vscode": {
     "languageId": "r"
    }
   },
   "outputs": [],
   "source": []
  },
  {
   "cell_type": "code",
   "execution_count": null,
   "metadata": {
    "vscode": {
     "languageId": "r"
    }
   },
   "outputs": [],
   "source": [
    "tse_cycle <- TreeSummarizedExperiment(\n",
    "    assays = list(Count = as.matrix(pat_type)),\n",
    "    rowData = gliphdf,\n",
    "    colData = metadata_matched\n",
    ")"
   ]
  },
  {
   "cell_type": "code",
   "execution_count": null,
   "metadata": {
    "vscode": {
     "languageId": "r"
    }
   },
   "outputs": [],
   "source": [
    "tse_cycle"
   ]
  },
  {
   "cell_type": "code",
   "execution_count": null,
   "metadata": {
    "vscode": {
     "languageId": "r"
    }
   },
   "outputs": [],
   "source": [
    "# table(metadata_matched$mygroup)"
   ]
  },
  {
   "cell_type": "code",
   "execution_count": null,
   "metadata": {
    "vscode": {
     "languageId": "r"
    }
   },
   "outputs": [],
   "source": [
    "# tse_X01 <- onetest_tse[, colnames(onetest_tse)[grepl(\"X01\", colnames(onetest_tse)) ] ]\n",
    "\n",
    "# tse_X01 <- tse_X01[, colnames(tse_X01)[!grepl(\"T-cellmalignancies\", colnames(tse_X01)) ] ]"
   ]
  },
  {
   "cell_type": "code",
   "execution_count": null,
   "metadata": {
    "vscode": {
     "languageId": "r"
    }
   },
   "outputs": [],
   "source": [
    "# nks <- gliphdf$gliph[ gliphdf$Family %in% c(\"NK\")]"
   ]
  },
  {
   "cell_type": "code",
   "execution_count": null,
   "metadata": {
    "vscode": {
     "languageId": "r"
    }
   },
   "outputs": [],
   "source": [
    "# length(nks)"
   ]
  },
  {
   "cell_type": "code",
   "execution_count": null,
   "metadata": {
    "vscode": {
     "languageId": "r"
    }
   },
   "outputs": [],
   "source": [
    "# tse_cycle <- tse_cycle[ !rownames(tse_cycle) %in% nks, ]"
   ]
  },
  {
   "cell_type": "code",
   "execution_count": null,
   "metadata": {
    "vscode": {
     "languageId": "r"
    }
   },
   "outputs": [],
   "source": [
    "tse_cycle"
   ]
  },
  {
   "cell_type": "code",
   "execution_count": null,
   "metadata": {
    "vscode": {
     "languageId": "r"
    }
   },
   "outputs": [],
   "source": [
    "# table(colData(tse_cycle)$mygroup, useNA = \"ifany\")"
   ]
  },
  {
   "cell_type": "code",
   "execution_count": null,
   "metadata": {
    "vscode": {
     "languageId": "r"
    }
   },
   "outputs": [],
   "source": [
    "head(rowSums(assay(tse_cycle)))"
   ]
  },
  {
   "cell_type": "code",
   "execution_count": null,
   "metadata": {
    "vscode": {
     "languageId": "r"
    }
   },
   "outputs": [],
   "source": [
    "# readr::write_rds(tse_cycle, \"/Users/anabbi/Desktop/H4H/INTERCEPT/analysis/GLIPH/ancombc/int_gliph_tse_leu_pre_post_cfdna.rds\")"
   ]
  },
  {
   "cell_type": "code",
   "execution_count": null,
   "metadata": {
    "vscode": {
     "languageId": "r"
    }
   },
   "outputs": [],
   "source": [
    "# rowData(tse_cycle)$Family <- rowData(tse_cycle)$gliph"
   ]
  },
  {
   "cell_type": "code",
   "execution_count": null,
   "metadata": {
    "vscode": {
     "languageId": "r"
    }
   },
   "outputs": [],
   "source": [
    "set.seed(111)"
   ]
  },
  {
   "cell_type": "code",
   "execution_count": null,
   "metadata": {
    "vscode": {
     "languageId": "r"
    }
   },
   "outputs": [],
   "source": [
    "out <- ancombc2(\n",
    "    data = tse_cycle, assay_name = \"Count\",\n",
    "    tax_level = \"Genus\", \n",
    "    fix_formula = \"cancergroup\", rand_formula = NULL,\n",
    "    p_adj_method = \"fdr\", \n",
    "    pseudo = 0, pseudo_sens = TRUE, # add pseudocounts\n",
    "    prv_cut = 0.02, # prevalence cutoff\n",
    "    lib_cut = 0, # library size cutoff\n",
    "    s0_perc = 0.05, \n",
    "    group = \"cancergroup\", \n",
    "    struc_zero = FALSE, \n",
    "    neg_lb = FALSE, # check this again\n",
    "    alpha = 0.05, \n",
    "    n_cl = 1, # number of nodes\n",
    "    verbose = TRUE,\n",
    "    global = FALSE, pairwise = FALSE, dunnet = FALSE, trend = FALSE, # test types\n",
    "    iter_control = list(tol = 1e-2, max_iter = 20, verbose = TRUE),\n",
    "    em_control = list(tol = 1e-5, max_iter = 100),\n",
    "    lme_control = lme4::lmerControl(),\n",
    "    mdfdr_control = list(fwer_ctrl_method = \"fdr\", B = 100)\n",
    ")\n"
   ]
  },
  {
   "cell_type": "code",
   "execution_count": null,
   "metadata": {
    "vscode": {
     "languageId": "r"
    }
   },
   "outputs": [],
   "source": [
    "# out <- readr::read_rds(\"/Users/anabbi/Desktop/H4H/INTERCEPT/analysis/GLIPH/ancombc/int_gliph_leu_pre_post_cfdna_taxares.rds\")"
   ]
  },
  {
   "cell_type": "code",
   "execution_count": null,
   "metadata": {
    "vscode": {
     "languageId": "r"
    }
   },
   "outputs": [],
   "source": [
    "out$res"
   ]
  },
  {
   "cell_type": "code",
   "execution_count": null,
   "metadata": {
    "vscode": {
     "languageId": "r"
    }
   },
   "outputs": [],
   "source": []
  },
  {
   "cell_type": "code",
   "execution_count": null,
   "metadata": {
    "vscode": {
     "languageId": "r"
    }
   },
   "outputs": [],
   "source": []
  },
  {
   "cell_type": "code",
   "execution_count": null,
   "metadata": {
    "vscode": {
     "languageId": "r"
    }
   },
   "outputs": [],
   "source": []
  },
  {
   "attachments": {},
   "cell_type": "markdown",
   "metadata": {},
   "source": [
    "# Backup"
   ]
  },
  {
   "cell_type": "code",
   "execution_count": null,
   "metadata": {
    "vscode": {
     "languageId": "r"
    }
   },
   "outputs": [],
   "source": [
    "discovery_metadata <- readr::read_rds(file = paste0(datapath, \"discovery_metadata_01.rds\"))\n",
    "discovery_metadata$disease[ is.na(discovery_metadata$disease)] <- \"Emerson_unknown\""
   ]
  },
  {
   "cell_type": "code",
   "execution_count": null,
   "metadata": {
    "vscode": {
     "languageId": "r"
    }
   },
   "outputs": [],
   "source": [
    "dim(discovery_metadata)"
   ]
  },
  {
   "cell_type": "code",
   "execution_count": null,
   "metadata": {
    "vscode": {
     "languageId": "r"
    }
   },
   "outputs": [],
   "source": [
    "table(discovery_metadata$disease)"
   ]
  },
  {
   "cell_type": "code",
   "execution_count": null,
   "metadata": {
    "vscode": {
     "languageId": "r"
    }
   },
   "outputs": [],
   "source": [
    "# remove non normal non cancer samples\n",
    "discovery_metadata <- discovery_metadata[!discovery_metadata$disease %in%\n",
    "    c(\n",
    "        \"KD\", \"MAS\", \"LFS\", \"Emerson_unknown\",\n",
    "        \"MIS-C SARSCoV2Neg\", \"sJIA\"\n",
    "    ), ]\n"
   ]
  },
  {
   "cell_type": "code",
   "execution_count": null,
   "metadata": {
    "vscode": {
     "languageId": "r"
    }
   },
   "outputs": [],
   "source": [
    "table(discovery_metadata$disease)"
   ]
  },
  {
   "cell_type": "code",
   "execution_count": null,
   "metadata": {
    "vscode": {
     "languageId": "r"
    }
   },
   "outputs": [],
   "source": [
    "# make a new variable for the disease\n",
    "# Group Leukemia, Lymphoma and Solid together as Cancer\n",
    "discovery_metadata$disease_group <- discovery_metadata$disease\n",
    "\n",
    "discovery_metadata$disease_group[discovery_metadata$disease %in% c(\"Leukemia\", \"Lymphoma\", \"Solid\")] <- \"Cancer\"\n",
    "\n",
    "discovery_metadata$disease_group[discovery_metadata$disease %in% c(\"Ctrl\", # from Mitchell\n",
    "                                                                    \"Peds healthy Control\", # from Henderson\n",
    "                                                                    \"Peds febrile Control\", # from Henderson\n",
    "                                                                    \"Cytomegalovirus -\", # from Emerson\n",
    "                                                                    \"Normal\" # from INTERCEPT\n",
    "                                                                    )] <- \"Healthy\"\n",
    "\n",
    "discovery_metadata$disease_group[discovery_metadata$disease %in% c(\"MIS-C SARSCoV2Pos\", # from Henderson\n",
    "                                                                    \"Peds COVID19\", # from Henderson\n",
    "                                                                    \"Cytomegalovirus +\" # from Emerson\n",
    "                                                                    )] <- \"Viral\"\n",
    "\n",
    "discovery_metadata$disease_group[discovery_metadata$disease %in% c(\"T1D\")] <- \"T1D\" # from Mitchell"
   ]
  },
  {
   "cell_type": "code",
   "execution_count": null,
   "metadata": {
    "vscode": {
     "languageId": "r"
    }
   },
   "outputs": [],
   "source": [
    "table(discovery_metadata$disease)"
   ]
  },
  {
   "cell_type": "code",
   "execution_count": null,
   "metadata": {
    "vscode": {
     "languageId": "r"
    }
   },
   "outputs": [],
   "source": [
    "discovery_metadata$Sex[ is.na(discovery_metadata$Sex)] <- \"Unknown\"\n",
    "discovery_metadata$Agegroup[ is.na(discovery_metadata$Agegroup)] <- \"Unknown\""
   ]
  },
  {
   "cell_type": "code",
   "execution_count": null,
   "metadata": {
    "vscode": {
     "languageId": "r"
    }
   },
   "outputs": [],
   "source": [
    "table(discovery_metadata$disease_group, useNA = \"ifany\")"
   ]
  },
  {
   "cell_type": "code",
   "execution_count": null,
   "metadata": {
    "vscode": {
     "languageId": "r"
    }
   },
   "outputs": [],
   "source": [
    "discovery_metadata$Sex <- factor(discovery_metadata$Sex, levels = c(\"Female\", \"Male\", \"Unknown\"))\n",
    "discovery_metadata$Agegroup <- factor(discovery_metadata$Agegroup, levels = c(\"Neonate\", \"Child\", \"Adolescent\", \"Young Adult\", \"Adult\", \"Senior\", \"Unknown\") )\n",
    "#discovery_metadata$study <- factor(discovery_metadata$study, levels = c(\"Emerson\", \"Henderson\", \"INTERCEPT\", \"Mitchell\"))\n",
    "#discovery_metadata$disease_group <- factor(discovery_metadata$disease_group, levels = c(\"Healthy\", \"Viral\", \"Cancer\", \"T1D\"))"
   ]
  },
  {
   "cell_type": "code",
   "execution_count": null,
   "metadata": {
    "vscode": {
     "languageId": "r"
    }
   },
   "outputs": [],
   "source": [
    "head(discovery_metadata)"
   ]
  },
  {
   "cell_type": "code",
   "execution_count": null,
   "metadata": {
    "vscode": {
     "languageId": "r"
    }
   },
   "outputs": [],
   "source": [
    "rownames(discovery_metadata) <- discovery_metadata$sample_name"
   ]
  },
  {
   "cell_type": "code",
   "execution_count": null,
   "metadata": {
    "vscode": {
     "languageId": "r"
    }
   },
   "outputs": [],
   "source": [
    "head(myres)"
   ]
  },
  {
   "cell_type": "code",
   "execution_count": null,
   "metadata": {
    "vscode": {
     "languageId": "r"
    }
   },
   "outputs": [],
   "source": [
    "myres[ myres$diff_disease_groupCancer == \"TRUE\",]"
   ]
  },
  {
   "cell_type": "code",
   "execution_count": null,
   "metadata": {
    "vscode": {
     "languageId": "r"
    }
   },
   "outputs": [],
   "source": [
    "readr::write_rds(myres, file = paste0(datapath, \"ANCOMBC2_results_test.rds\"))"
   ]
  },
  {
   "attachments": {},
   "cell_type": "markdown",
   "metadata": {},
   "source": [
    "#### graph significant gliph groups in cancer vs healthy"
   ]
  },
  {
   "cell_type": "code",
   "execution_count": null,
   "metadata": {
    "vscode": {
     "languageId": "r"
    }
   },
   "outputs": [],
   "source": [
    "sig_groups <- myres$taxon[ myres$diff_disease_groupCancer == \"TRUE\"]"
   ]
  },
  {
   "cell_type": "code",
   "execution_count": null,
   "metadata": {
    "vscode": {
     "languageId": "r"
    }
   },
   "outputs": [],
   "source": [
    "sig_groups"
   ]
  },
  {
   "cell_type": "code",
   "execution_count": null,
   "metadata": {
    "vscode": {
     "languageId": "r"
    }
   },
   "outputs": [],
   "source": [
    "# subset onetest to include only those samples in the metadata\n",
    "onetest_matched <- onetest[onetest$subject %in% discovery_metadata$sample_name, ]"
   ]
  },
  {
   "cell_type": "code",
   "execution_count": null,
   "metadata": {
    "vscode": {
     "languageId": "r"
    }
   },
   "outputs": [],
   "source": [
    "head(onetest_matched)"
   ]
  },
  {
   "attachments": {},
   "cell_type": "markdown",
   "metadata": {},
   "source": [
    "graph patient type"
   ]
  },
  {
   "cell_type": "code",
   "execution_count": null,
   "metadata": {
    "vscode": {
     "languageId": "r"
    }
   },
   "outputs": [],
   "source": [
    "head(pat_type)"
   ]
  },
  {
   "cell_type": "code",
   "execution_count": null,
   "metadata": {
    "vscode": {
     "languageId": "r"
    }
   },
   "outputs": [],
   "source": [
    "gliph_data_igrf <- igraph::graph_from_incidence_matrix(pat_type, weighted = T )"
   ]
  },
  {
   "cell_type": "code",
   "execution_count": null,
   "metadata": {
    "vscode": {
     "languageId": "r"
    }
   },
   "outputs": [],
   "source": [
    "gliph_data_igrf"
   ]
  },
  {
   "cell_type": "code",
   "execution_count": null,
   "metadata": {
    "vscode": {
     "languageId": "r"
    }
   },
   "outputs": [],
   "source": [
    "V(gliph_data_igrf)$disease_group <- sapply(V(gliph_data_igrf)$name, function(x){\n",
    "    discovery_metadata$disease_group[match(x, discovery_metadata$sample_name)]})"
   ]
  },
  {
   "cell_type": "code",
   "execution_count": null,
   "metadata": {
    "vscode": {
     "languageId": "r"
    }
   },
   "outputs": [],
   "source": [
    "V(gliph_data_igrf)$sig_color <- \"black\"\n",
    "V(gliph_data_igrf)$sig_color[ which(V(gliph_data_igrf)$name %in% sig_groups) ] <- \"red\""
   ]
  },
  {
   "cell_type": "code",
   "execution_count": null,
   "metadata": {
    "vscode": {
     "languageId": "r"
    }
   },
   "outputs": [],
   "source": [
    "myg2 <- bipartite.projection(gliph_data_igrf)$proj1"
   ]
  },
  {
   "cell_type": "code",
   "execution_count": null,
   "metadata": {
    "vscode": {
     "languageId": "r"
    }
   },
   "outputs": [],
   "source": [
    "summary(degree(myg2))"
   ]
  },
  {
   "cell_type": "code",
   "execution_count": null,
   "metadata": {
    "vscode": {
     "languageId": "r"
    }
   },
   "outputs": [],
   "source": [
    "myg2 <- delete.vertices( myg2, which(degree(myg2) <= 300) )"
   ]
  },
  {
   "cell_type": "code",
   "execution_count": null,
   "metadata": {
    "vscode": {
     "languageId": "r"
    }
   },
   "outputs": [],
   "source": [
    "set.seed(111)\n",
    "pdf(paste0(plotpath, \"GLIPH_network.pdf\"), width = 10, height = 10)\n",
    "ggraph(myg2 , \"fr\") +\n",
    "geom_edge_link(edge_width = 0.1, edge_colour = \"#000000\") + \n",
    "geom_node_point(aes(color = sig_color, shape = disease_group, alpha = sig_color), size = 2)+ \n",
    "scale_color_manual(values = c(\"black\", \"red\")) + \n",
    "scale_alpha_manual(values = c(0.2, 1))\n",
    "dev.off()"
   ]
  },
  {
   "attachments": {},
   "cell_type": "markdown",
   "metadata": {},
   "source": [
    "graph type tcr"
   ]
  },
  {
   "cell_type": "code",
   "execution_count": null,
   "metadata": {
    "vscode": {
     "languageId": "r"
    }
   },
   "outputs": [],
   "source": [
    "gliph_data_matrix_df <- as.data.frame.matrix(table(onetest_matched %>% select(type , TcRb)))"
   ]
  },
  {
   "cell_type": "code",
   "execution_count": null,
   "metadata": {
    "vscode": {
     "languageId": "r"
    }
   },
   "outputs": [],
   "source": [
    "head(gliph_data_matrix_df)"
   ]
  },
  {
   "cell_type": "code",
   "execution_count": null,
   "metadata": {
    "vscode": {
     "languageId": "r"
    }
   },
   "outputs": [],
   "source": [
    "gliph_data_igrf <- igraph::graph_from_incidence_matrix(gliph_data_matrix_df, weighted = T )"
   ]
  },
  {
   "cell_type": "code",
   "execution_count": null,
   "metadata": {
    "vscode": {
     "languageId": "r"
    }
   },
   "outputs": [],
   "source": [
    "gliph_data_igrf"
   ]
  },
  {
   "cell_type": "code",
   "execution_count": null,
   "metadata": {
    "vscode": {
     "languageId": "r"
    }
   },
   "outputs": [],
   "source": [
    "head(V(gliph_data_igrf)$name)"
   ]
  },
  {
   "cell_type": "code",
   "execution_count": null,
   "metadata": {
    "vscode": {
     "languageId": "r"
    }
   },
   "outputs": [],
   "source": [
    "# match the subject to the TcRb\n",
    "V(gliph_data_igrf)$subject <- sapply(V(gliph_data_igrf)$name, function(x){\n",
    "    onetest_matched$subject[match(x, onetest_matched$TcRb)]})"
   ]
  },
  {
   "cell_type": "code",
   "execution_count": null,
   "metadata": {
    "vscode": {
     "languageId": "r"
    }
   },
   "outputs": [],
   "source": [
    "# match the subject to the GLIPH type\n",
    "V(gliph_data_igrf)$subject[is.na(V(gliph_data_igrf)$subject)] <- sapply(V(gliph_data_igrf)$name[is.na(V(gliph_data_igrf)$subject)], function(x){\n",
    "    mysubj <- onetest_matched$subject[ onetest_matched$type == x  ]\n",
    "    mysubj[ grepl(\"CHP\", mysubj)][1]\n",
    "})"
   ]
  },
  {
   "cell_type": "code",
   "execution_count": null,
   "metadata": {
    "vscode": {
     "languageId": "r"
    }
   },
   "outputs": [],
   "source": [
    "onetest_matched$subject[ onetest_matched$type == \"global-%AG\"  ]"
   ]
  },
  {
   "cell_type": "code",
   "execution_count": null,
   "metadata": {
    "vscode": {
     "languageId": "r"
    }
   },
   "outputs": [],
   "source": [
    "onetest_matched[ onetest_matched$type == \"global-%AG\",]"
   ]
  },
  {
   "cell_type": "code",
   "execution_count": null,
   "metadata": {
    "vscode": {
     "languageId": "r"
    }
   },
   "outputs": [],
   "source": [
    "head(V(gliph_data_igrf)$subject)"
   ]
  },
  {
   "cell_type": "code",
   "execution_count": null,
   "metadata": {
    "vscode": {
     "languageId": "r"
    }
   },
   "outputs": [],
   "source": [
    "V(gliph_data_igrf)$disease <- sapply(V(gliph_data_igrf)$subject, function(x){\n",
    "    discovery_metadata$disease[match(x, discovery_metadata$sample_name)]})\n"
   ]
  },
  {
   "cell_type": "code",
   "execution_count": null,
   "metadata": {
    "vscode": {
     "languageId": "r"
    }
   },
   "outputs": [],
   "source": [
    "V(gliph_data_igrf)$disease_group <- sapply(V(gliph_data_igrf)$subject, function(x){\n",
    "    discovery_metadata$disease_group[match(x, discovery_metadata$sample_name)]})"
   ]
  },
  {
   "cell_type": "code",
   "execution_count": null,
   "metadata": {
    "vscode": {
     "languageId": "r"
    }
   },
   "outputs": [],
   "source": [
    "V(gliph_data_igrf)$disease_group[ is.na(V(gliph_data_igrf)$disease_group) ] <- \"Healthy\""
   ]
  },
  {
   "cell_type": "code",
   "execution_count": null,
   "metadata": {
    "vscode": {
     "languageId": "r"
    }
   },
   "outputs": [],
   "source": [
    "\n",
    "V(gliph_data_igrf)$Xpattern <- sapply(V(gliph_data_igrf)$name, function(x){\n",
    "    onetest_matched$Xpattern[match(x, onetest_matched$type)]})"
   ]
  },
  {
   "cell_type": "code",
   "execution_count": null,
   "metadata": {
    "vscode": {
     "languageId": "r"
    }
   },
   "outputs": [],
   "source": [
    "sig_tcrs <- onetest_matched$TcRb[onetest_matched$Xpattern %in% sig_groups]"
   ]
  },
  {
   "cell_type": "code",
   "execution_count": null,
   "metadata": {
    "vscode": {
     "languageId": "r"
    }
   },
   "outputs": [],
   "source": [
    "V(gliph_data_igrf)$Xpattern <- sapply(V(gliph_data_igrf)$name, function(x){\n",
    "    onetest_matched$Xpattern[match(x, onetest_matched$type)]})"
   ]
  },
  {
   "cell_type": "code",
   "execution_count": null,
   "metadata": {
    "vscode": {
     "languageId": "r"
    }
   },
   "outputs": [],
   "source": [
    "\n",
    "#V(gliph_data_igrf)$Xpattern[is.na(V(gliph_data_igrf)$Xpattern)] <- sapply(V(gliph_data_igrf)$name[is.na(V(gliph_data_igrf)$Xpattern)], function(x){\n",
    "#    onetest_matched$Xpattern[match(x, onetest_matched$TcRb)]\n",
    "#})"
   ]
  },
  {
   "cell_type": "code",
   "execution_count": null,
   "metadata": {
    "vscode": {
     "languageId": "r"
    }
   },
   "outputs": [],
   "source": [
    "head(V(gliph_data_igrf)$Xpattern)"
   ]
  },
  {
   "cell_type": "code",
   "execution_count": null,
   "metadata": {
    "vscode": {
     "languageId": "r"
    }
   },
   "outputs": [],
   "source": [
    "V(gliph_data_igrf)$sig_color <- \"black\"\n",
    "V(gliph_data_igrf)$sig_color[ which(V(gliph_data_igrf)$Xpattern %in% sig_groups) ] <- \"red\""
   ]
  },
  {
   "cell_type": "code",
   "execution_count": null,
   "metadata": {
    "vscode": {
     "languageId": "r"
    }
   },
   "outputs": [],
   "source": [
    "myg2 <- (bipartite.projection(gliph_data_igrf)$proj1)"
   ]
  },
  {
   "cell_type": "code",
   "execution_count": null,
   "metadata": {
    "vscode": {
     "languageId": "r"
    }
   },
   "outputs": [],
   "source": [
    "myg2"
   ]
  },
  {
   "cell_type": "code",
   "execution_count": null,
   "metadata": {
    "vscode": {
     "languageId": "r"
    }
   },
   "outputs": [],
   "source": [
    "summary(degree(myg2))"
   ]
  },
  {
   "cell_type": "code",
   "execution_count": null,
   "metadata": {
    "vscode": {
     "languageId": "r"
    }
   },
   "outputs": [],
   "source": [
    "myg2 <- delete.vertices( myg2, which(degree(myg2) <= 3) )\n",
    "#myg2 <- delete.vertices( myg2, which(degree(myg2) == 95) )"
   ]
  },
  {
   "cell_type": "code",
   "execution_count": null,
   "metadata": {
    "vscode": {
     "languageId": "r"
    }
   },
   "outputs": [],
   "source": [
    "set.seed(111)\n",
    "pdf(paste0(plotpath, \"GLIPH_network.pdf\"), width = 5, height = 5)\n",
    "ggraph(myg2 , \"fr\") +\n",
    "geom_edge_link(edge_width = 0.04, edge_colour = \"#000000\") + \n",
    "geom_node_point(aes(color = sig_color, shape = disease_group, alpha = sig_color), size = 2)+ \n",
    "scale_color_manual(values = c(\"black\", \"red\")) + \n",
    "scale_alpha_manual(values = c(0.4, 1)) +\n",
    "geom_node_text(aes(filter = (sig_color == \"red\"), label = name), size = 2, repel = T, force = 100) +\n",
    "theme(legend.position = \"bottom\")\n",
    "\n",
    "dev.off()"
   ]
  },
  {
   "cell_type": "code",
   "execution_count": null,
   "metadata": {
    "vscode": {
     "languageId": "r"
    }
   },
   "outputs": [],
   "source": [
    "bb <- layout_as_backbone(myg2, keep = 0.4)\n",
    "E(myg2)$col <- FALSE\n",
    "E(myg2)$col[bb$backbone] <- TRUE"
   ]
  },
  {
   "cell_type": "code",
   "execution_count": null,
   "metadata": {
    "vscode": {
     "languageId": "r"
    }
   },
   "outputs": [],
   "source": [
    "#set.seed(111)\n",
    "#pdf(paste0(plotpath, \"GLIPH_network.pdf\"), width = 10, height = 10)\n",
    "ggraph(myg2 , layout = \"manual\", x = bb$xy[, 1], y = bb$xy[, 2]) +\n",
    "geom_edge_link(edge_width = 0.1, aes(edge_colour = col)) + \n",
    "geom_node_point(aes(color = sig_color, shape = disease_group, alpha = sig_color), size = 4)+ \n",
    "scale_color_manual(values = c(\"black\", \"red\")) + \n",
    "scale_alpha_manual(values = c(0.4, 1)) +\n",
    "geom_node_text(aes(filter = (sig_color == \"red\"), label = name), size = 4, repel = T, force = 100) \n",
    "\n",
    "#dev.off()"
   ]
  },
  {
   "cell_type": "code",
   "execution_count": null,
   "metadata": {
    "vscode": {
     "languageId": "r"
    }
   },
   "outputs": [],
   "source": []
  },
  {
   "cell_type": "code",
   "execution_count": null,
   "metadata": {
    "vscode": {
     "languageId": "r"
    }
   },
   "outputs": [],
   "source": [
    "myg <- (bipartite.projection(gliph_data_igrf)$proj1)"
   ]
  },
  {
   "cell_type": "code",
   "execution_count": null,
   "metadata": {
    "vscode": {
     "languageId": "r"
    }
   },
   "outputs": [],
   "source": [
    "myg"
   ]
  },
  {
   "cell_type": "code",
   "execution_count": null,
   "metadata": {
    "vscode": {
     "languageId": "r"
    }
   },
   "outputs": [],
   "source": [
    "myg1 <- delete_vertices( myg, degree(myg) == 0)\n",
    "myk <- cluster_louvain(myg1, resolution = 1, weights = NULL)"
   ]
  },
  {
   "cell_type": "code",
   "execution_count": null,
   "metadata": {
    "vscode": {
     "languageId": "r"
    }
   },
   "outputs": [],
   "source": [
    "plot(myk, myg1, vertex.label=NA, vertex.frame.color=\"white\", vertex.size=5)"
   ]
  },
  {
   "cell_type": "code",
   "execution_count": null,
   "metadata": {
    "vscode": {
     "languageId": "r"
    }
   },
   "outputs": [],
   "source": [
    "V(myg1)$community <- as.character(myk$membership)"
   ]
  },
  {
   "cell_type": "code",
   "execution_count": null,
   "metadata": {
    "vscode": {
     "languageId": "r"
    }
   },
   "outputs": [],
   "source": [
    "ggraph(myg1 , \"fr\", weights = NULL ) +\n",
    "geom_edge_link(edge_width = 0.1, edge_colour = \"#000000\") + \n",
    "geom_node_point(aes(color = disease_group), size = 2)"
   ]
  },
  {
   "cell_type": "code",
   "execution_count": null,
   "metadata": {
    "vscode": {
     "languageId": "r"
    }
   },
   "outputs": [],
   "source": []
  },
  {
   "cell_type": "code",
   "execution_count": null,
   "metadata": {
    "vscode": {
     "languageId": "r"
    }
   },
   "outputs": [],
   "source": [
    "head(discovery_metadata)"
   ]
  },
  {
   "cell_type": "code",
   "execution_count": null,
   "metadata": {
    "vscode": {
     "languageId": "r"
    }
   },
   "outputs": [],
   "source": [
    "head(discovery_metadata[ discovery_metadata$study == \"Mitchell\", ])"
   ]
  },
  {
   "cell_type": "code",
   "execution_count": null,
   "metadata": {
    "vscode": {
     "languageId": "r"
    }
   },
   "outputs": [],
   "source": [
    "discovery_metadata[ grepl(\"31013\", discovery_metadata$Patient),]"
   ]
  },
  {
   "cell_type": "code",
   "execution_count": null,
   "metadata": {
    "vscode": {
     "languageId": "r"
    }
   },
   "outputs": [],
   "source": [
    "tail(V(gliph_data_igrf)$disease)"
   ]
  },
  {
   "cell_type": "code",
   "execution_count": null,
   "metadata": {
    "vscode": {
     "languageId": "r"
    }
   },
   "outputs": [],
   "source": [
    "head(metadata_matched)"
   ]
  },
  {
   "cell_type": "code",
   "execution_count": null,
   "metadata": {
    "vscode": {
     "languageId": "r"
    }
   },
   "outputs": [],
   "source": []
  },
  {
   "cell_type": "code",
   "execution_count": null,
   "metadata": {
    "vscode": {
     "languageId": "r"
    }
   },
   "outputs": [],
   "source": []
  },
  {
   "cell_type": "code",
   "execution_count": null,
   "metadata": {
    "vscode": {
     "languageId": "r"
    }
   },
   "outputs": [],
   "source": []
  },
  {
   "cell_type": "code",
   "execution_count": null,
   "metadata": {
    "vscode": {
     "languageId": "r"
    }
   },
   "outputs": [],
   "source": []
  },
  {
   "attachments": {},
   "cell_type": "markdown",
   "metadata": {},
   "source": [
    "## INT standalone"
   ]
  },
  {
   "cell_type": "code",
   "execution_count": null,
   "metadata": {
    "vscode": {
     "languageId": "r"
    }
   },
   "outputs": [],
   "source": [
    "table(discovery_metadata$disease_group, useNA = \"ifany\")"
   ]
  },
  {
   "cell_type": "code",
   "execution_count": null,
   "metadata": {
    "vscode": {
     "languageId": "r"
    }
   },
   "outputs": [],
   "source": [
    "discovery_metadata <- discovery_metadata[ discovery_metadata$disease_group == \"Cancer\", ]"
   ]
  },
  {
   "cell_type": "code",
   "execution_count": null,
   "metadata": {
    "vscode": {
     "languageId": "r"
    }
   },
   "outputs": [],
   "source": [
    "table(discovery_metadata$disease_group, useNA = \"ifany\")"
   ]
  },
  {
   "cell_type": "code",
   "execution_count": null,
   "metadata": {
    "vscode": {
     "languageId": "r"
    }
   },
   "outputs": [],
   "source": [
    "discovery_metadata$disease_group[ discovery_metadata$disease == \"Solid\"] <- \"Solid\"\n",
    "discovery_metadata$disease_group[ discovery_metadata$disease == \"Leukemia\"] <- \"Leukemia\"\n",
    "discovery_metadata$disease_group[ discovery_metadata$disease == \"Lymphoma\"] <- \"Lymphoma\""
   ]
  },
  {
   "cell_type": "code",
   "execution_count": null,
   "metadata": {
    "vscode": {
     "languageId": "r"
    }
   },
   "outputs": [],
   "source": [
    "table(discovery_metadata$disease_group, useNA = \"ifany\")"
   ]
  },
  {
   "cell_type": "code",
   "execution_count": null,
   "metadata": {
    "vscode": {
     "languageId": "r"
    }
   },
   "outputs": [],
   "source": [
    "discovery_metadata$disease_group <- factor(discovery_metadata$disease_group, levels = c(\"Leukemia\", \"Solid\", \"Lymphoma\"))"
   ]
  },
  {
   "cell_type": "code",
   "execution_count": null,
   "metadata": {
    "vscode": {
     "languageId": "r"
    }
   },
   "outputs": [],
   "source": [
    "filelist <- list.files(path = paste0(h4hpath, \"analysis/GLIPH/\"), pattern = \"_cluster_gliph_rm_na_singlerm.rds_hklust.rds\", full.names = FALSE)"
   ]
  },
  {
   "cell_type": "code",
   "execution_count": null,
   "metadata": {
    "vscode": {
     "languageId": "r"
    }
   },
   "outputs": [],
   "source": [
    "onetest <- readr::read_rds(file = paste0(h4hpath, \"analysis/GLIPH/\", filelist[5]))"
   ]
  },
  {
   "cell_type": "code",
   "execution_count": null,
   "metadata": {
    "vscode": {
     "languageId": "r"
    }
   },
   "outputs": [],
   "source": [
    "#separate rwos by comma in subject column to capture all subjects with the same cluster\n",
    "onetest <- tidyr::separate_rows(onetest, subject, sep = \",\")\n",
    "# trimws\n",
    "onetest$subject <- trimws(onetest$subject)"
   ]
  },
  {
   "cell_type": "code",
   "execution_count": null,
   "metadata": {
    "vscode": {
     "languageId": "r"
    }
   },
   "outputs": [],
   "source": [
    "head(onetest)"
   ]
  },
  {
   "cell_type": "code",
   "execution_count": null,
   "metadata": {
    "vscode": {
     "languageId": "r"
    }
   },
   "outputs": [],
   "source": [
    "# get the matrix of GLIPH x samples\n",
    "pat_type <- as.data.frame.matrix(table(onetest %>% select(Xpattern, subject)))"
   ]
  },
  {
   "cell_type": "code",
   "execution_count": null,
   "metadata": {
    "vscode": {
     "languageId": "r"
    }
   },
   "outputs": [],
   "source": [
    "summary(discovery_metadata$Age)"
   ]
  },
  {
   "cell_type": "code",
   "execution_count": null,
   "metadata": {
    "vscode": {
     "languageId": "r"
    }
   },
   "outputs": [],
   "source": [
    "#discovery_metadata <- discovery_metadata[!is.na(discovery_metadata$Age), ]"
   ]
  },
  {
   "cell_type": "code",
   "execution_count": null,
   "metadata": {
    "vscode": {
     "languageId": "r"
    }
   },
   "outputs": [],
   "source": [
    "# subset the matrix to match samples in the metadata\n",
    "pat_type <- pat_type[, colnames(pat_type) %in% discovery_metadata$sample_name ]\n",
    "# match metadata to the matrix\n",
    "metadata_matched <- discovery_metadata[colnames(pat_type), ]"
   ]
  },
  {
   "cell_type": "code",
   "execution_count": null,
   "metadata": {
    "vscode": {
     "languageId": "r"
    }
   },
   "outputs": [],
   "source": [
    "table(metadata_matched$disease)"
   ]
  },
  {
   "cell_type": "code",
   "execution_count": null,
   "metadata": {
    "vscode": {
     "languageId": "r"
    }
   },
   "outputs": [],
   "source": [
    "summary(metadata_matched$Age)"
   ]
  },
  {
   "attachments": {},
   "cell_type": "markdown",
   "metadata": {},
   "source": [
    "Make rowData"
   ]
  },
  {
   "cell_type": "code",
   "execution_count": null,
   "metadata": {
    "vscode": {
     "languageId": "r"
    }
   },
   "outputs": [],
   "source": [
    "gliphdf <- data.frame(gliph = rownames(pat_type))\n",
    "rownames(gliphdf) <- gliphdf$gliph\n",
    "gliphdf$Class <- onetest$hklust[match(rownames(gliphdf), onetest$Xpattern)]"
   ]
  },
  {
   "cell_type": "code",
   "execution_count": null,
   "metadata": {
    "vscode": {
     "languageId": "r"
    }
   },
   "outputs": [],
   "source": [
    "head(gliphdf)"
   ]
  },
  {
   "cell_type": "code",
   "execution_count": null,
   "metadata": {
    "vscode": {
     "languageId": "r"
    }
   },
   "outputs": [],
   "source": [
    "gliphdf$Firstpattern <- NA\n",
    "gliphdf$cluster_size <- NA\n",
    "gliphdf$Patterns <- NA\n",
    "\n",
    "for (i in 1:nrow(gliphdf)) {\n",
    "    gliphdf$Firstpattern[i] <- onetest$Xpattern[onetest$hklust == gliphdf$Class[i]][1] # just the first pattern\n",
    "    gliphdf$cluster_size[i] <- length(unique(onetest$Xpattern[onetest$hklust == gliphdf$Class[i]]) ) # cluster size\n",
    "    gliphdf$Patterns[i] <- paste(unique(onetest$Xpattern[onetest$hklust == gliphdf$Class[i]] ) , collapse = \",\")  # append all patterns for later inspection\n",
    "}\n"
   ]
  },
  {
   "cell_type": "code",
   "execution_count": null,
   "metadata": {
    "vscode": {
     "languageId": "r"
    }
   },
   "outputs": [],
   "source": [
    "dim(gliphdf)"
   ]
  },
  {
   "attachments": {},
   "cell_type": "markdown",
   "metadata": {},
   "source": [
    "Create TreeSummarizedExperiment to input to ANCOMBC"
   ]
  },
  {
   "cell_type": "code",
   "execution_count": null,
   "metadata": {
    "vscode": {
     "languageId": "r"
    }
   },
   "outputs": [],
   "source": [
    "onetest_tse <- TreeSummarizedExperiment(\n",
    "    assays = list(Count = as.matrix(pat_type)),\n",
    "    rowData = gliphdf,\n",
    "    colData = metadata_matched\n",
    ")"
   ]
  },
  {
   "cell_type": "code",
   "execution_count": null,
   "metadata": {
    "vscode": {
     "languageId": "r"
    }
   },
   "outputs": [],
   "source": [
    "set.seed(111)"
   ]
  },
  {
   "cell_type": "code",
   "execution_count": null,
   "metadata": {
    "vscode": {
     "languageId": "r"
    }
   },
   "outputs": [],
   "source": [
    "table(metadata_matched$disease_group, useNA = \"ifany\")"
   ]
  },
  {
   "cell_type": "code",
   "execution_count": null,
   "metadata": {
    "vscode": {
     "languageId": "r"
    }
   },
   "outputs": [],
   "source": [
    "out <- ancombc2(\n",
    "    data = onetest_tse, assay_name = \"Count\",\n",
    "    tax_level = NULL, \n",
    "    fix_formula = \"disease_group + Age\", rand_formula = NULL,\n",
    "    p_adj_method = \"fdr\", \n",
    "    pseudo = 0, pseudo_sens = TRUE, # add pseudocounts\n",
    "    prv_cut = 0.01, # prevalence cutoff\n",
    "    lib_cut = 0, # library size cutoff\n",
    "    s0_perc = 0.05, \n",
    "    group = \"disease_group\", \n",
    "    struc_zero = TRUE, \n",
    "    neg_lb = FALSE, # check this again\n",
    "    alpha = 0.05, \n",
    "    n_cl = 2, # number of nodes\n",
    "    verbose = TRUE,\n",
    "    global = TRUE, pairwise = TRUE, dunnet = TRUE, trend = FALSE, # test types\n",
    "    iter_control = list(tol = 1e-2, max_iter = 20, verbose = TRUE),\n",
    "    em_control = list(tol = 1e-5, max_iter = 100),\n",
    "    lme_control = lme4::lmerControl(),\n",
    "    mdfdr_control = list(fwer_ctrl_method = \"fdr\", B = 100)\n",
    ")\n"
   ]
  },
  {
   "cell_type": "code",
   "execution_count": null,
   "metadata": {
    "vscode": {
     "languageId": "r"
    }
   },
   "outputs": [],
   "source": [
    "myres <- out$res"
   ]
  },
  {
   "cell_type": "code",
   "execution_count": null,
   "metadata": {
    "vscode": {
     "languageId": "r"
    }
   },
   "outputs": [],
   "source": [
    "colnames(myres)"
   ]
  },
  {
   "cell_type": "code",
   "execution_count": null,
   "metadata": {
    "vscode": {
     "languageId": "r"
    }
   },
   "outputs": [],
   "source": [
    "(myres)"
   ]
  },
  {
   "cell_type": "code",
   "execution_count": null,
   "metadata": {
    "vscode": {
     "languageId": "r"
    }
   },
   "outputs": [],
   "source": [
    "myres[ myres$diff_disease_groupCancer == \"TRUE\",]"
   ]
  },
  {
   "cell_type": "code",
   "execution_count": null,
   "metadata": {
    "vscode": {
     "languageId": "r"
    }
   },
   "outputs": [],
   "source": []
  },
  {
   "attachments": {},
   "cell_type": "markdown",
   "metadata": {},
   "source": [
    "## hklust"
   ]
  },
  {
   "cell_type": "code",
   "execution_count": null,
   "metadata": {
    "vscode": {
     "languageId": "r"
    }
   },
   "outputs": [],
   "source": [
    "filelist <- list.files(path = paste0(h4hpath, \"analysis/GLIPH/\"), pattern = \"_cluster_gliph_rm_na_singlerm.rds_hklust.rds\", full.names = FALSE)"
   ]
  },
  {
   "cell_type": "code",
   "execution_count": null,
   "metadata": {
    "vscode": {
     "languageId": "r"
    }
   },
   "outputs": [],
   "source": [
    "filelist"
   ]
  },
  {
   "cell_type": "code",
   "execution_count": null,
   "metadata": {
    "vscode": {
     "languageId": "r"
    }
   },
   "outputs": [],
   "source": [
    "onetest <- readr::read_rds(file = paste0(h4hpath, \"analysis/GLIPH/\", filelist[4]))"
   ]
  },
  {
   "cell_type": "code",
   "execution_count": null,
   "metadata": {
    "vscode": {
     "languageId": "r"
    }
   },
   "outputs": [],
   "source": [
    "head(onetest)"
   ]
  },
  {
   "cell_type": "code",
   "execution_count": null,
   "metadata": {
    "vscode": {
     "languageId": "r"
    }
   },
   "outputs": [],
   "source": [
    "#separate rwos by comma in subject column to capture all subjects with the same cluster\n",
    "onetest <- tidyr::separate_rows(onetest, subject, sep = \",\")\n",
    "# trimws\n",
    "onetest$subject <- trimws(onetest$subject)"
   ]
  },
  {
   "cell_type": "code",
   "execution_count": null,
   "metadata": {
    "vscode": {
     "languageId": "r"
    }
   },
   "outputs": [],
   "source": [
    "onetest$hklust <- paste0(\"Cluster_\", onetest$hklust)"
   ]
  },
  {
   "cell_type": "code",
   "execution_count": null,
   "metadata": {
    "vscode": {
     "languageId": "r"
    }
   },
   "outputs": [],
   "source": [
    "head(onetest)"
   ]
  },
  {
   "cell_type": "code",
   "execution_count": null,
   "metadata": {
    "vscode": {
     "languageId": "r"
    }
   },
   "outputs": [],
   "source": [
    "# get the matrix of GLIPH x samples\n",
    "pat_type <- as.data.frame.matrix(table(onetest %>% select(Xpattern, subject)))"
   ]
  },
  {
   "cell_type": "code",
   "execution_count": null,
   "metadata": {
    "vscode": {
     "languageId": "r"
    }
   },
   "outputs": [],
   "source": [
    "# subset the matrix to match samples in the metadata\n",
    "pat_type <- pat_type[, colnames(pat_type) %in% discovery_metadata$sample_name ]\n",
    "# match metadata to the matrix\n",
    "metadata_matched <- discovery_metadata[colnames(pat_type), ]"
   ]
  },
  {
   "cell_type": "code",
   "execution_count": null,
   "metadata": {
    "vscode": {
     "languageId": "r"
    }
   },
   "outputs": [],
   "source": [
    "head(pat_type)"
   ]
  },
  {
   "cell_type": "code",
   "execution_count": null,
   "metadata": {
    "vscode": {
     "languageId": "r"
    }
   },
   "outputs": [],
   "source": [
    "head(metadata_matched)"
   ]
  },
  {
   "attachments": {},
   "cell_type": "markdown",
   "metadata": {},
   "source": [
    "Make rowData"
   ]
  },
  {
   "cell_type": "code",
   "execution_count": null,
   "metadata": {
    "vscode": {
     "languageId": "r"
    }
   },
   "outputs": [],
   "source": [
    "gliphdf <- data.frame(gliph = rownames(pat_type))\n",
    "rownames(gliphdf) <- gliphdf$gliph\n",
    "gliphdf$Class <- onetest$hklust[match(rownames(gliphdf), onetest$Xpattern)]"
   ]
  },
  {
   "cell_type": "code",
   "execution_count": null,
   "metadata": {
    "vscode": {
     "languageId": "r"
    }
   },
   "outputs": [],
   "source": [
    "head(gliphdf)"
   ]
  },
  {
   "cell_type": "code",
   "execution_count": null,
   "metadata": {
    "vscode": {
     "languageId": "r"
    }
   },
   "outputs": [],
   "source": [
    "gliphdf$Firstpattern <- NA\n",
    "gliphdf$cluster_size <- NA\n",
    "gliphdf$Patterns <- NA\n",
    "\n",
    "for (i in 1:nrow(gliphdf)) {\n",
    "    gliphdf$Firstpattern[i] <- onetest$Xpattern[onetest$hklust == gliphdf$Class[i]][1] # just the first pattern\n",
    "    gliphdf$cluster_size[i] <- length(unique(onetest$Xpattern[onetest$hklust == gliphdf$Class[i]]) ) # cluster size\n",
    "    gliphdf$Patterns[i] <- paste(unique(onetest$Xpattern[onetest$hklust == gliphdf$Class[i]] ) , collapse = \",\")  # append all patterns for later inspection\n",
    "}\n"
   ]
  },
  {
   "cell_type": "code",
   "execution_count": null,
   "metadata": {
    "vscode": {
     "languageId": "r"
    }
   },
   "outputs": [],
   "source": [
    "head(gliphdf)"
   ]
  },
  {
   "attachments": {},
   "cell_type": "markdown",
   "metadata": {},
   "source": [
    "Create TreeSummarizedExperiment to input to ANCOMBC"
   ]
  },
  {
   "cell_type": "code",
   "execution_count": null,
   "metadata": {
    "vscode": {
     "languageId": "r"
    }
   },
   "outputs": [],
   "source": [
    "onetest_tse <- TreeSummarizedExperiment(\n",
    "    assays = list(Count = as.matrix(pat_type)),\n",
    "    rowData = gliphdf,\n",
    "    colData = metadata_matched\n",
    ")"
   ]
  },
  {
   "cell_type": "code",
   "execution_count": null,
   "metadata": {
    "vscode": {
     "languageId": "r"
    }
   },
   "outputs": [],
   "source": [
    "set.seed(111)"
   ]
  },
  {
   "cell_type": "code",
   "execution_count": null,
   "metadata": {
    "vscode": {
     "languageId": "r"
    }
   },
   "outputs": [],
   "source": [
    "out <- ancombc2(\n",
    "    data = onetest_tse, assay_name = \"Count\",\n",
    "    tax_level = NULL, \n",
    "    fix_formula = \"Agegroup + Sex + disease_group\", rand_formula = NULL,\n",
    "    p_adj_method = \"fdr\", \n",
    "    pseudo = 0, pseudo_sens = TRUE, # add pseudocounts\n",
    "    prv_cut = 0.01, # prevalence cutoff\n",
    "    lib_cut = 0, # library size cutoff\n",
    "    s0_perc = 0.05, \n",
    "    group = \"disease_group\", \n",
    "    struc_zero = TRUE, \n",
    "    neg_lb = FALSE, # check this again\n",
    "    alpha = 0.05, \n",
    "    n_cl = 2, # number of nodes\n",
    "    verbose = TRUE,\n",
    "    global = TRUE, pairwise = TRUE, dunnet = TRUE, trend = FALSE, # test types\n",
    "    iter_control = list(tol = 1e-2, max_iter = 20, verbose = TRUE),\n",
    "    em_control = list(tol = 1e-5, max_iter = 100),\n",
    "    lme_control = lme4::lmerControl(),\n",
    "    mdfdr_control = list(fwer_ctrl_method = \"fdr\", B = 100)\n",
    ")\n"
   ]
  },
  {
   "cell_type": "code",
   "execution_count": null,
   "metadata": {
    "vscode": {
     "languageId": "r"
    }
   },
   "outputs": [],
   "source": [
    "res = out$res"
   ]
  },
  {
   "cell_type": "code",
   "execution_count": null,
   "metadata": {
    "vscode": {
     "languageId": "r"
    }
   },
   "outputs": [],
   "source": [
    "names(out)"
   ]
  },
  {
   "cell_type": "code",
   "execution_count": null,
   "metadata": {
    "vscode": {
     "languageId": "r"
    }
   },
   "outputs": [],
   "source": [
    "names(res)"
   ]
  },
  {
   "cell_type": "code",
   "execution_count": null,
   "metadata": {
    "vscode": {
     "languageId": "r"
    }
   },
   "outputs": [],
   "source": [
    "rownames(res) <- res$taxon"
   ]
  },
  {
   "cell_type": "code",
   "execution_count": null,
   "metadata": {
    "vscode": {
     "languageId": "r"
    }
   },
   "outputs": [],
   "source": [
    "res[,c(\"taxon\", names(res)[grep(\"diff_\", names(res))])]"
   ]
  },
  {
   "cell_type": "code",
   "execution_count": null,
   "metadata": {
    "vscode": {
     "languageId": "r"
    }
   },
   "outputs": [],
   "source": [
    "ls()"
   ]
  },
  {
   "cell_type": "code",
   "execution_count": null,
   "metadata": {
    "vscode": {
     "languageId": "r"
    }
   },
   "outputs": [],
   "source": [
    "table(gliphdf$Class)"
   ]
  },
  {
   "cell_type": "code",
   "execution_count": null,
   "metadata": {
    "vscode": {
     "languageId": "r"
    }
   },
   "outputs": [],
   "source": [
    "gliphdf[ gliphdf$Class == \"Cluster_5\", ]"
   ]
  },
  {
   "cell_type": "code",
   "execution_count": null,
   "metadata": {
    "vscode": {
     "languageId": "r"
    }
   },
   "outputs": [],
   "source": [
    "gliphdf$Patterns[1]"
   ]
  },
  {
   "attachments": {},
   "cell_type": "markdown",
   "metadata": {},
   "source": [
    "# Group similar TCR groups"
   ]
  },
  {
   "cell_type": "code",
   "execution_count": null,
   "metadata": {
    "vscode": {
     "languageId": "r"
    }
   },
   "outputs": [],
   "source": [
    "filelist <- list.files(path = paste0(h4hpath, \"analysis/GLIPH/\"), pattern = \"_cluster_gliph_rm_na_singlerm.rds_hklust.rds\", full.names = FALSE)"
   ]
  },
  {
   "cell_type": "code",
   "execution_count": null,
   "metadata": {
    "vscode": {
     "languageId": "r"
    }
   },
   "outputs": [],
   "source": [
    "filelist"
   ]
  },
  {
   "cell_type": "code",
   "execution_count": null,
   "metadata": {
    "vscode": {
     "languageId": "r"
    }
   },
   "outputs": [],
   "source": [
    "onetest <- readr::read_rds(file = paste0(h4hpath, \"analysis/GLIPH/\", filelist[1]))"
   ]
  },
  {
   "cell_type": "code",
   "execution_count": null,
   "metadata": {
    "vscode": {
     "languageId": "r"
    }
   },
   "outputs": [],
   "source": [
    "dim(onetest)"
   ]
  },
  {
   "cell_type": "code",
   "execution_count": null,
   "metadata": {
    "vscode": {
     "languageId": "r"
    }
   },
   "outputs": [],
   "source": [
    "#separate rwos by comma in subject column to capture all subjects with the same cluster\n",
    "onetest <- tidyr::separate_rows(onetest, subject, sep = \",\")\n",
    "# trimws\n",
    "onetest$subject <- trimws(onetest$subject)"
   ]
  },
  {
   "cell_type": "code",
   "execution_count": null,
   "metadata": {
    "vscode": {
     "languageId": "r"
    }
   },
   "outputs": [],
   "source": [
    "dim(onetest)"
   ]
  },
  {
   "cell_type": "code",
   "execution_count": null,
   "metadata": {
    "vscode": {
     "languageId": "r"
    }
   },
   "outputs": [],
   "source": [
    "head(discovery_metadata)"
   ]
  },
  {
   "cell_type": "code",
   "execution_count": null,
   "metadata": {
    "vscode": {
     "languageId": "r"
    }
   },
   "outputs": [],
   "source": []
  },
  {
   "cell_type": "code",
   "execution_count": null,
   "metadata": {
    "vscode": {
     "languageId": "r"
    }
   },
   "outputs": [],
   "source": [
    "onetest <- onetest[ onetest$subject %in% discovery_metadata$sample_name, ]"
   ]
  },
  {
   "cell_type": "code",
   "execution_count": null,
   "metadata": {
    "vscode": {
     "languageId": "r"
    }
   },
   "outputs": [],
   "source": [
    "onetest$hklust <- paste0(\"Cluster_\", onetest$hklust)"
   ]
  },
  {
   "cell_type": "code",
   "execution_count": null,
   "metadata": {
    "vscode": {
     "languageId": "r"
    }
   },
   "outputs": [],
   "source": [
    "pat_type <- as.data.frame.matrix(table(onetest %>% select(hklust, subject)))"
   ]
  },
  {
   "cell_type": "code",
   "execution_count": null,
   "metadata": {
    "vscode": {
     "languageId": "r"
    }
   },
   "outputs": [],
   "source": [
    "head(pat_type)"
   ]
  },
  {
   "cell_type": "code",
   "execution_count": null,
   "metadata": {
    "vscode": {
     "languageId": "r"
    }
   },
   "outputs": [],
   "source": [
    "table(discovery_metadata$study, useNA = \"ifany\")"
   ]
  },
  {
   "cell_type": "code",
   "execution_count": null,
   "metadata": {
    "vscode": {
     "languageId": "r"
    }
   },
   "outputs": [],
   "source": [
    "table(discovery_metadata$disease)"
   ]
  },
  {
   "cell_type": "code",
   "execution_count": null,
   "metadata": {
    "vscode": {
     "languageId": "r"
    }
   },
   "outputs": [],
   "source": [
    "discovery_metadata[ discovery_metadata$Agegroup == \"Years\" ,]"
   ]
  },
  {
   "cell_type": "code",
   "execution_count": null,
   "metadata": {
    "vscode": {
     "languageId": "r"
    }
   },
   "outputs": [],
   "source": [
    "table(discovery_metadata$Agegroup, useNA = \"ifany\")\n"
   ]
  },
  {
   "cell_type": "code",
   "execution_count": null,
   "metadata": {
    "vscode": {
     "languageId": "r"
    }
   },
   "outputs": [],
   "source": [
    "rownames(discovery_metadata) <- discovery_metadata$sample_name"
   ]
  },
  {
   "cell_type": "code",
   "execution_count": null,
   "metadata": {
    "vscode": {
     "languageId": "r"
    }
   },
   "outputs": [],
   "source": [
    "head(discovery_metadata)"
   ]
  },
  {
   "attachments": {},
   "cell_type": "markdown",
   "metadata": {},
   "source": [
    "Zicoseq"
   ]
  },
  {
   "cell_type": "code",
   "execution_count": null,
   "metadata": {
    "vscode": {
     "languageId": "r"
    }
   },
   "outputs": [],
   "source": [
    "   #pat_type <- pat_type[, colnames(pat_type) %in% discovery_metadata$sample_name ]\n",
    "   metadata_matched <- discovery_metadata[colnames(pat_type), ]"
   ]
  },
  {
   "cell_type": "code",
   "execution_count": null,
   "metadata": {
    "vscode": {
     "languageId": "r"
    }
   },
   "outputs": [],
   "source": [
    "mytest <- ZicoSeq(\n",
    "    meta.dat = metadata_matched, feature.dat = as.matrix(pat_type),\n",
    "    grp.name = \"disease_group\", adj.name = c(\"Agegroup\", \"study\", \"Sex\"), feature.dat.type = \"count\",\n",
    "    # Filter to remove rare taxa\n",
    "    prev.filter = 0.01, mean.abund.filter = 0,\n",
    "    max.abund.filter = 0, min.prop = 0,\n",
    "    # Winsorization to replace outliers\n",
    "    is.winsor = FALSE, # outlier.pct = 0.03, winsor.end = 'top',\n",
    "    # Posterior sampling\n",
    "    is.post.sample = TRUE, post.sample.no = 25,\n",
    "    # Use the square-root transformation\n",
    "    link.func = list(function(x) x^0.5), stats.combine.func = max,\n",
    "    # Permutation-based multiple testing correction\n",
    "    perm.no = 99, strata = NULL,\n",
    "    # Reference-based multiple stage normalization\n",
    "    ref.pct = 0.5, stage.no = 6, excl.pct = 0.2,\n",
    "    # Family-wise error rate control\n",
    "    is.fwer = TRUE, verbose = TRUE, return.feature.dat = TRUE\n",
    ")\n"
   ]
  },
  {
   "cell_type": "code",
   "execution_count": null,
   "metadata": {
    "vscode": {
     "languageId": "r"
    }
   },
   "outputs": [],
   "source": [
    "r2_fdr <- as.data.frame(mytest$R2)\n",
    "r2_fdr$padj <- mytest$p.adj.fdr[match(rownames(r2_fdr), names(mytest$p.adj.fdr))]\n",
    "r2_fdr$p <- mytest$p.raw[match(rownames(r2_fdr), names(mytest$p.raw))]"
   ]
  },
  {
   "cell_type": "code",
   "execution_count": null,
   "metadata": {
    "vscode": {
     "languageId": "r"
    }
   },
   "outputs": [],
   "source": [
    "r2_fdr"
   ]
  },
  {
   "cell_type": "code",
   "execution_count": null,
   "metadata": {
    "vscode": {
     "languageId": "r"
    }
   },
   "outputs": [],
   "source": [
    "onetest[ onetest$hklust %in% c(\"Cluster_4\",\"Cluster_5\"), c(\"Xpattern\", \"subject\", \"hklust\")]"
   ]
  },
  {
   "attachments": {},
   "cell_type": "markdown",
   "metadata": {},
   "source": [
    "# GLIPH groups"
   ]
  },
  {
   "cell_type": "code",
   "execution_count": null,
   "metadata": {
    "vscode": {
     "languageId": "r"
    }
   },
   "outputs": [],
   "source": [
    "filelist <- list.files(path = paste0(h4hpath, \"analysis/GLIPH/\"), pattern = \"_cluster_gliph_rm_na_singlerm.rds\", full.names = FALSE)\n",
    "# remove *.sh\n",
    "filelist <- filelist[!grepl(\"sh\", filelist)]\n",
    "# remove *.out\n",
    "filelist <- filelist[!grepl(\"out\", filelist)]\n",
    "# remove *hklust.rds\n",
    "filelist <- filelist[!grepl(\"hklust\", filelist)]"
   ]
  },
  {
   "cell_type": "code",
   "execution_count": null,
   "metadata": {
    "vscode": {
     "languageId": "r"
    }
   },
   "outputs": [],
   "source": [
    "filelist"
   ]
  },
  {
   "cell_type": "code",
   "execution_count": null,
   "metadata": {
    "vscode": {
     "languageId": "r"
    }
   },
   "outputs": [],
   "source": [
    "mylist <- lapply(filelist, function(x){ gliph_div.fx(datapath, h4hpath, x )})"
   ]
  },
  {
   "cell_type": "code",
   "execution_count": null,
   "metadata": {
    "vscode": {
     "languageId": "r"
    }
   },
   "outputs": [],
   "source": [
    "head(mylist[[1]])"
   ]
  },
  {
   "cell_type": "code",
   "execution_count": null,
   "metadata": {
    "vscode": {
     "languageId": "r"
    }
   },
   "outputs": [],
   "source": [
    "#mylist <- lapply(mylist, function(x) as.data.frame(x))"
   ]
  },
  {
   "attachments": {},
   "cell_type": "markdown",
   "metadata": {},
   "source": [
    "ZicoSeq"
   ]
  },
  {
   "cell_type": "code",
   "execution_count": null,
   "metadata": {
    "vscode": {
     "languageId": "r"
    }
   },
   "outputs": [],
   "source": [
    "rownames(discovery_metadata) <- discovery_metadata$sample_name"
   ]
  },
  {
   "cell_type": "code",
   "execution_count": null,
   "metadata": {
    "vscode": {
     "languageId": "r"
    }
   },
   "outputs": [],
   "source": [
    "lapply(mylist, function(x) dim(x))"
   ]
  },
  {
   "cell_type": "code",
   "execution_count": null,
   "metadata": {
    "vscode": {
     "languageId": "r"
    }
   },
   "outputs": [],
   "source": [
    "# get number of zero for each row in each matrix\n",
    "mylist_5 <- lapply(mylist, \\(x) { x[rowSums(x != 0) > 9  , ] })\n",
    "mylist_5 <- lapply(mylist_5, \\(x) { x[ ,colSums(x != 0) > 1   ] })\n"
   ]
  },
  {
   "cell_type": "code",
   "execution_count": null,
   "metadata": {
    "vscode": {
     "languageId": "r"
    }
   },
   "outputs": [],
   "source": [
    "zicolist  <- lapply(mylist_5, \\(x) {zicoseq.fx(as.matrix(x), discovery_metadata, \"disease_group\")} )"
   ]
  },
  {
   "cell_type": "code",
   "execution_count": null,
   "metadata": {
    "vscode": {
     "languageId": "r"
    }
   },
   "outputs": [],
   "source": [
    "length(zicolist)"
   ]
  },
  {
   "cell_type": "code",
   "execution_count": null,
   "metadata": {
    "vscode": {
     "languageId": "r"
    }
   },
   "outputs": [],
   "source": [
    "dfColList <- lapply(zicolist ,rownames)\n",
    "commonCols <- Reduce(intersect,dfColList)"
   ]
  },
  {
   "cell_type": "code",
   "execution_count": null,
   "metadata": {
    "vscode": {
     "languageId": "r"
    }
   },
   "outputs": [],
   "source": [
    "commonCols"
   ]
  },
  {
   "cell_type": "code",
   "execution_count": null,
   "metadata": {
    "vscode": {
     "languageId": "r"
    }
   },
   "outputs": [],
   "source": [
    "zicolist <- lapply(zicolist ,\\(x) x[  order(x$padj, decreasing = F),])"
   ]
  },
  {
   "cell_type": "code",
   "execution_count": null,
   "metadata": {
    "vscode": {
     "languageId": "r"
    }
   },
   "outputs": [],
   "source": [
    "lapply(zicolist , head)"
   ]
  },
  {
   "attachments": {},
   "cell_type": "markdown",
   "metadata": {},
   "source": [
    "A lot of these TCR groups are highly similar, for example global-SE%RNTE, global-SET%NTE. Let's group them together based on PID on H4H and rerun zicoseq"
   ]
  },
  {
   "cell_type": "code",
   "execution_count": null,
   "metadata": {
    "vscode": {
     "languageId": "r"
    }
   },
   "outputs": [],
   "source": [
    "which(mytest$p.raw < 0.1)"
   ]
  },
  {
   "cell_type": "code",
   "execution_count": null,
   "metadata": {
    "vscode": {
     "languageId": "r"
    }
   },
   "outputs": [],
   "source": [
    "head(metadata_matched)"
   ]
  },
  {
   "cell_type": "code",
   "execution_count": null,
   "metadata": {
    "vscode": {
     "languageId": "r"
    }
   },
   "outputs": [],
   "source": [
    "names(mytest)"
   ]
  },
  {
   "cell_type": "code",
   "execution_count": null,
   "metadata": {
    "vscode": {
     "languageId": "r"
    }
   },
   "outputs": [],
   "source": [
    "mytest$p.adj.fdr"
   ]
  },
  {
   "cell_type": "code",
   "execution_count": null,
   "metadata": {
    "vscode": {
     "languageId": "r"
    }
   },
   "outputs": [],
   "source": [
    "(r2_fdr)"
   ]
  },
  {
   "cell_type": "code",
   "execution_count": null,
   "metadata": {
    "vscode": {
     "languageId": "r"
    }
   },
   "outputs": [],
   "source": [
    "p <- ggplot(r2_fdr, aes(x=Func1, y=-log10(padj))) +\n",
    "    geom_point(size=2.5) +\n",
    "    #scale_colour_manual(values = c(\"Down-regulated\"= \"blue\", \"Up-regulated\"=\"red\",  \"not significant\"= \"black\")) +    \n",
    "\n",
    "    myplot + myaxis +\n",
    "    theme(axis.text.x = element_text(size = 30, angle = 0, hjust = 0.5),\n",
    "          axis.title = element_text(size = 30), axis.text.y = element_text(size = 30),\n",
    "          plot.title = element_text(size = 30, hjust = 0.5), legend.position = \"none\") + \n",
    "    labs(x = \"R2\" ,y = \"p-value (-Log10)\") "
   ]
  },
  {
   "cell_type": "code",
   "execution_count": null,
   "metadata": {
    "vscode": {
     "languageId": "r"
    }
   },
   "outputs": [],
   "source": [
    "p"
   ]
  },
  {
   "attachments": {},
   "cell_type": "markdown",
   "metadata": {},
   "source": [
    "# Backup"
   ]
  },
  {
   "cell_type": "code",
   "execution_count": null,
   "metadata": {
    "vscode": {
     "languageId": "r"
    }
   },
   "outputs": [],
   "source": [
    "metadata_matched <- discovery_metadata[colnames(pat_type), ]"
   ]
  },
  {
   "cell_type": "code",
   "execution_count": null,
   "metadata": {
    "vscode": {
     "languageId": "r"
    }
   },
   "outputs": [],
   "source": [
    "head(metadata_matched)"
   ]
  },
  {
   "cell_type": "code",
   "execution_count": null,
   "metadata": {
    "vscode": {
     "languageId": "r"
    }
   },
   "outputs": [],
   "source": [
    "dds <- DESeqDataSetFromMatrix( as.matrix(pat_type) + 1, colData = metadata_matched, \n",
    "                                design = ~ study + Sex + disease_group)"
   ]
  },
  {
   "cell_type": "code",
   "execution_count": null,
   "metadata": {
    "vscode": {
     "languageId": "r"
    }
   },
   "outputs": [],
   "source": [
    "dds <- DESeq(dds, parallel = TRUE)"
   ]
  },
  {
   "cell_type": "code",
   "execution_count": null,
   "metadata": {
    "vscode": {
     "languageId": "r"
    }
   },
   "outputs": [],
   "source": [
    "res <- as.data.frame(results(dds, contrast= c(\"disease_group\", \"Cancer\", \"Non-Cancer\")))"
   ]
  },
  {
   "cell_type": "code",
   "execution_count": null,
   "metadata": {
    "vscode": {
     "languageId": "r"
    }
   },
   "outputs": [],
   "source": [
    "res"
   ]
  },
  {
   "cell_type": "code",
   "execution_count": null,
   "metadata": {
    "vscode": {
     "languageId": "r"
    }
   },
   "outputs": [],
   "source": [
    "head(onetest)"
   ]
  },
  {
   "cell_type": "code",
   "execution_count": null,
   "metadata": {
    "vscode": {
     "languageId": "r"
    }
   },
   "outputs": [],
   "source": []
  },
  {
   "cell_type": "code",
   "execution_count": null,
   "metadata": {
    "vscode": {
     "languageId": "r"
    }
   },
   "outputs": [],
   "source": [
    "aln.fx <- function(x) {\n",
    "\n",
    "    mygroups <- gsub(\"%\", \"X\", unique(x$pattern))\n",
    "    mymat <- matrix(0,\n",
    "        nrow = length(mygroups), ncol = length(mygroups),\n",
    "        dimnames = list(mygroups, mygroups)\n",
    "    )\n",
    "    D <- combn(length(mygroups), 2)\n",
    "\n",
    "    for (i in 1:ncol(D)) {\n",
    "        aln <- pairwiseAlignment(\n",
    "            rownames(mymat)[D[1, i]],\n",
    "            rownames(mymat)[D[2, i]],\n",
    "            substitutionMatrix = BLOSUM62, gapOpening = -2, gapExtension = -10)\n",
    "        # print(aln)\n",
    "        mymat[D[1, i], D[2, i]] <- score(aln)\n",
    "        mymat[D[2, i], D[1, i]] <- score(aln)\n",
    "    }\n",
    "    return(mymat)\n",
    "}\n"
   ]
  },
  {
   "cell_type": "code",
   "execution_count": null,
   "metadata": {
    "vscode": {
     "languageId": "r"
    }
   },
   "outputs": [],
   "source": [
    "mm <- aln.fx(onetest[1:50,])"
   ]
  },
  {
   "cell_type": "code",
   "execution_count": null,
   "metadata": {
    "vscode": {
     "languageId": "r"
    }
   },
   "outputs": [],
   "source": [
    "dist_mat <- dist(mymat, method = 'euclidean')\n",
    "hclust_avg <- hclust(dist_mat, method = 'average')\n",
    "cut_avg <- cutree(hclust_avg, h = quantile(dist_mat,0.25))\n"
   ]
  },
  {
   "cell_type": "code",
   "execution_count": null,
   "metadata": {
    "vscode": {
     "languageId": "r"
    }
   },
   "outputs": [],
   "source": [
    "onetest1 <- onetest[1:50,]"
   ]
  },
  {
   "cell_type": "code",
   "execution_count": null,
   "metadata": {
    "vscode": {
     "languageId": "r"
    }
   },
   "outputs": [],
   "source": [
    "mygroups <- gsub(\"%\", \"X\", unique(onetest1$pattern))\n",
    "    mymat <- matrix(0,\n",
    "        nrow = length(mygroups), ncol = length(mygroups),\n",
    "        dimnames = list(mygroups, mygroups))"
   ]
  },
  {
   "cell_type": "code",
   "execution_count": null,
   "metadata": {
    "vscode": {
     "languageId": "r"
    }
   },
   "outputs": [],
   "source": [
    "D <- combn(length(mygroups), 2)\n",
    "\n",
    "    for (i in 1:ncol(D)) {\n",
    "        aln <- pairwiseAlignment(\n",
    "            rownames(mymat)[D[1, i]],\n",
    "            rownames(mymat)[D[2, i]],\n",
    "            substitutionMatrix = BLOSUM62, gapOpening = -2, gapExtension = -10)\n",
    "        # print(aln)\n",
    "        mymat[D[1, i], D[2, i]] <- score(aln)\n",
    "        mymat[D[2, i], D[1, i]] <- score(aln)\n",
    "    }"
   ]
  },
  {
   "cell_type": "code",
   "execution_count": null,
   "metadata": {
    "vscode": {
     "languageId": "r"
    }
   },
   "outputs": [],
   "source": [
    "dist_mat <- dist(mymat, method = 'euclidean')\n",
    "hclust_avg <- hclust(dist_mat, method = 'average')\n",
    "cut_avg <- dendextend::cutree(hclust_avg, h = quantile(dist_mat,0.1))"
   ]
  },
  {
   "cell_type": "code",
   "execution_count": null,
   "metadata": {
    "vscode": {
     "languageId": "r"
    }
   },
   "outputs": [],
   "source": [
    "names(hclust_avg)"
   ]
  },
  {
   "cell_type": "code",
   "execution_count": null,
   "metadata": {
    "vscode": {
     "languageId": "r"
    }
   },
   "outputs": [],
   "source": [
    "names(cut_avg)"
   ]
  },
  {
   "cell_type": "code",
   "execution_count": null,
   "metadata": {
    "vscode": {
     "languageId": "r"
    }
   },
   "outputs": [],
   "source": [
    "onetest1$pattern1 <- gsub(\"%\", \"X\", onetest1$pattern)"
   ]
  },
  {
   "cell_type": "code",
   "execution_count": null,
   "metadata": {
    "vscode": {
     "languageId": "r"
    }
   },
   "outputs": [],
   "source": [
    "onetest1$hk <- cut_avg[match(onetest1$pattern1, names(cut_avg))]"
   ]
  },
  {
   "cell_type": "code",
   "execution_count": null,
   "metadata": {
    "vscode": {
     "languageId": "r"
    }
   },
   "outputs": [],
   "source": [
    "(table(cut_avg))"
   ]
  },
  {
   "cell_type": "code",
   "execution_count": null,
   "metadata": {
    "vscode": {
     "languageId": "r"
    }
   },
   "outputs": [],
   "source": [
    "library(dendextend)\n",
    "row_dend = as.dendrogram(hclust_avg)\n",
    "row_dend = color_branches(row_dend, k = length((table(cut_avg)))) \n",
    "hm <- ComplexHeatmap::Heatmap(mymat, name = \"mat\", \n",
    "cluster_rows = row_dend, row_dend_width = unit(4, \"cm\"))"
   ]
  },
  {
   "cell_type": "code",
   "execution_count": null,
   "metadata": {
    "vscode": {
     "languageId": "r"
    }
   },
   "outputs": [],
   "source": [
    "pdf(paste0(plotpath, \"test.pdf\"), width = 10, height = 10)\n",
    "hm\n",
    "dev.off()"
   ]
  },
  {
   "cell_type": "code",
   "execution_count": null,
   "metadata": {
    "vscode": {
     "languageId": "r"
    }
   },
   "outputs": [],
   "source": [
    "ComplexHeatmap::Heatmap(mymat)"
   ]
  },
  {
   "cell_type": "code",
   "execution_count": null,
   "metadata": {
    "vscode": {
     "languageId": "r"
    }
   },
   "outputs": [],
   "source": [
    "head(onetest)"
   ]
  },
  {
   "cell_type": "code",
   "execution_count": null,
   "metadata": {
    "vscode": {
     "languageId": "r"
    }
   },
   "outputs": [],
   "source": []
  },
  {
   "cell_type": "code",
   "execution_count": null,
   "metadata": {
    "vscode": {
     "languageId": "r"
    }
   },
   "outputs": [],
   "source": []
  },
  {
   "cell_type": "code",
   "execution_count": null,
   "metadata": {
    "vscode": {
     "languageId": "r"
    }
   },
   "outputs": [],
   "source": []
  },
  {
   "cell_type": "code",
   "execution_count": null,
   "metadata": {
    "vscode": {
     "languageId": "r"
    }
   },
   "outputs": [],
   "source": []
  },
  {
   "cell_type": "code",
   "execution_count": null,
   "metadata": {
    "vscode": {
     "languageId": "r"
    }
   },
   "outputs": [],
   "source": []
  },
  {
   "cell_type": "code",
   "execution_count": null,
   "metadata": {
    "vscode": {
     "languageId": "r"
    }
   },
   "outputs": [],
   "source": []
  },
  {
   "cell_type": "code",
   "execution_count": null,
   "metadata": {
    "vscode": {
     "languageId": "r"
    }
   },
   "outputs": [],
   "source": []
  },
  {
   "cell_type": "code",
   "execution_count": null,
   "metadata": {
    "vscode": {
     "languageId": "r"
    }
   },
   "outputs": [],
   "source": [
    "volcano.fx <- function(resdf, fc, padj, ttl){\n",
    "    \n",
    "    # remove padj = NA\n",
    "    \n",
    "    resdf <- resdf[ !is.na(resdf$padj),]\n",
    "    \n",
    "    resdf$threshold <- NA\n",
    "    resdf$threshold[ resdf$log2FoldChange > fc & resdf$padj < padj] <- \"Up-regulated\"\n",
    "    resdf$threshold[ resdf$log2FoldChange < -fc & resdf$padj < padj] <- \"Down-regulated\"\n",
    "    resdf$threshold[ is.na(resdf$threshold)] <- \"not significant\"\n",
    "    \n",
    "res_upreg <- resdf[ resdf$threshold == \"Up-regulated\",]    \n",
    "res_upreg <- res_upreg[order(res_upreg$log2FoldChange, decreasing = T),]    \n",
    "res_downreg <- resdf[ resdf$threshold == \"Down-regulated\",]    \n",
    "res_downreg <- res_downreg[order(res_downreg$log2FoldChange, decreasing = F),]  \n",
    "\n",
    "if(nrow(res_upreg) < 10){\n",
    "    resdf$genelabels[ rownames(resdf) %in% rownames(res_upreg)] <- \"UP\"}\n",
    "if(nrow(res_downreg) < 10){\n",
    "    resdf$genelabels[rownames(resdf) %in% rownames(res_downreg)] <- \"DOWN\"}    \n",
    "\n",
    "if(nrow(res_upreg) >= 10){\n",
    "    resdf$genelabels[rownames(resdf) %in% rownames(res_upreg)[1:10]] <- \"UP\"   }\n",
    "if(nrow(res_downreg) >= 10){\n",
    "    resdf$genelabels[rownames(resdf) %in% rownames(res_downreg)[1:10]] <- \"DOWN\" } \n",
    "    \n",
    "    p <- ggplot(resdf, aes(x=log2FoldChange, y=-log10(pvalue))) +\n",
    "    geom_point(aes(color = threshold), size=2.5) +\n",
    "    scale_colour_manual(values = c(\"Down-regulated\"= \"blue\", \"Up-regulated\"=\"red\",  \"not significant\"= \"black\")) +    \n",
    "    geom_text_repel(data = subset(resdf, genelabels == \"UP\"),\n",
    "                    label = subset(resdf, genelabels == \"UP\")$Gene_gencode,\n",
    "                    size = 8, box.padding = 1, max.overlaps = Inf,  min.segment.length = 0,\n",
    "                    direction = \"both\", nudge_x = 3, nudge_y = 0.5, vjust = 0.5, hjust = 0.5) + \n",
    "    geom_text_repel(data = subset(resdf, genelabels == \"DOWN\"),\n",
    "                    label = subset(resdf, genelabels == \"DOWN\")$Gene_gencode,\n",
    "                    size = 8, box.padding = 1, max.overlaps = Inf, direction = \"both\", \n",
    "                    nudge_x = -3, nudge_y = 0.5,\n",
    "                    vjust = 0.5, hjust = 0.5, min.segment.length = 0) + \n",
    "    myplot + myaxis +\n",
    "    theme(axis.text.x = element_text(size = 30, angle = 0, hjust = 0.5),\n",
    "          axis.title = element_text(size = 30), axis.text.y = element_text(size = 30),\n",
    "          plot.title = element_text(size = 30, hjust = 0.5), legend.position = \"none\") + \n",
    "    labs(x = \"Fold change (Log2)\" ,y = \"p-value (-Log10)\", title = ttl)     \n",
    "    \n",
    "    return(p)\n",
    "}"
   ]
  },
  {
   "cell_type": "code",
   "execution_count": null,
   "metadata": {
    "vscode": {
     "languageId": "r"
    }
   },
   "outputs": [],
   "source": []
  },
  {
   "cell_type": "code",
   "execution_count": null,
   "metadata": {
    "vscode": {
     "languageId": "r"
    }
   },
   "outputs": [],
   "source": []
  },
  {
   "cell_type": "code",
   "execution_count": null,
   "metadata": {
    "vscode": {
     "languageId": "r"
    }
   },
   "outputs": [],
   "source": []
  }
 ],
 "metadata": {
  "kernelspec": {
   "display_name": "R 4.0",
   "language": "R",
   "name": "ir40"
  },
  "language_info": {
   "codemirror_mode": "r",
   "file_extension": ".r",
   "mimetype": "text/x-r-source",
   "name": "R",
   "pygments_lexer": "r",
   "version": "4.2.2"
  },
  "toc": {
   "base_numbering": 1,
   "nav_menu": {},
   "number_sections": false,
   "sideBar": true,
   "skip_h1_title": false,
   "title_cell": "Table of Contents",
   "title_sidebar": "Contents",
   "toc_cell": true,
   "toc_position": {
    "height": "calc(100% - 180px)",
    "left": "10px",
    "top": "150px",
    "width": "186.15px"
   },
   "toc_section_display": true,
   "toc_window_display": true
  }
 },
 "nbformat": 4,
 "nbformat_minor": 2
}

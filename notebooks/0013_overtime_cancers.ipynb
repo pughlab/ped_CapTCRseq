{
 "cells": [
  {
   "cell_type": "code",
   "execution_count": 2,
   "metadata": {
    "vscode": {
     "languageId": "r"
    }
   },
   "outputs": [
    {
     "data": {
      "text/html": [
       "'en_US.UTF-8/en_US.UTF-8/en_US.UTF-8/C/en_US.UTF-8/C'"
      ],
      "text/latex": [
       "'en\\_US.UTF-8/en\\_US.UTF-8/en\\_US.UTF-8/C/en\\_US.UTF-8/C'"
      ],
      "text/markdown": [
       "'en_US.UTF-8/en_US.UTF-8/en_US.UTF-8/C/en_US.UTF-8/C'"
      ],
      "text/plain": [
       "[1] \"en_US.UTF-8/en_US.UTF-8/en_US.UTF-8/C/en_US.UTF-8/C\""
      ]
     },
     "metadata": {},
     "output_type": "display_data"
    }
   ],
   "source": [
    "Sys.setlocale(category = \"LC_ALL\", locale = \"en_US.UTF-8\")"
   ]
  },
  {
   "attachments": {},
   "cell_type": "markdown",
   "metadata": {},
   "source": [
    "# Dependencies"
   ]
  },
  {
   "cell_type": "code",
   "execution_count": 1,
   "metadata": {
    "vscode": {
     "languageId": "r"
    }
   },
   "outputs": [],
   "source": [
    "pacman::p_load(dplyr, ggplot2, ggbeeswarm, ggpubr, ggsignif, cowplot, ggh4x, ggrepel, ComplexHeatmap, lsmeans)"
   ]
  },
  {
   "attachments": {},
   "cell_type": "markdown",
   "metadata": {},
   "source": [
    "# Functions"
   ]
  },
  {
   "cell_type": "code",
   "execution_count": 3,
   "metadata": {
    "vscode": {
     "languageId": "r"
    }
   },
   "outputs": [],
   "source": [
    "source(\"/Users/anabbi/git/ped_CapTCRseq/R/ggplot2_theme.R\")\n",
    "source(\"/Users/anabbi/git/ped_CapTCRseq/R/color_schemes.R\")\n",
    "source(\"/Users/anabbi/git/ped_CapTCRseq/R/Misc_functions.R\")"
   ]
  },
  {
   "cell_type": "code",
   "execution_count": 4,
   "metadata": {
    "vscode": {
     "languageId": "r"
    }
   },
   "outputs": [],
   "source": [
    "scaleFUN <- function(x) sprintf(\"%.1f\", x)"
   ]
  },
  {
   "attachments": {},
   "cell_type": "markdown",
   "metadata": {},
   "source": [
    "# Paths"
   ]
  },
  {
   "cell_type": "code",
   "execution_count": 5,
   "metadata": {
    "vscode": {
     "languageId": "r"
    }
   },
   "outputs": [],
   "source": [
    "datapath <- \"/Users/anabbi/OneDrive - UHN/Documents/INTERCEPT/Data/\"\n",
    "plotpath <- \"/Users/anabbi/OneDrive - UHN/Documents/INTERCEPT/Plots/\"\n",
    "manifestpath <- \"/Users/anabbi/OneDrive - UHN/Documents/INTERCEPT/Manifests/\"\n",
    "gitpath <- \"/Users/anabbi/git/ped_CapTCRseq/\""
   ]
  },
  {
   "cell_type": "code",
   "execution_count": 6,
   "metadata": {
    "vscode": {
     "languageId": "r"
    }
   },
   "outputs": [],
   "source": [
    "h4hpath <- \"/Users/anabbi/Desktop/H4H/INTERCEPT/\""
   ]
  },
  {
   "attachments": {},
   "cell_type": "markdown",
   "metadata": {},
   "source": [
    "# Main"
   ]
  },
  {
   "cell_type": "code",
   "execution_count": 7,
   "metadata": {
    "vscode": {
     "languageId": "r"
    }
   },
   "outputs": [],
   "source": [
    "meta_div <- readr::read_rds(paste0(datapath, \"capTCRseq/meta_div_goodsamples.rds\"))"
   ]
  },
  {
   "cell_type": "code",
   "execution_count": 8,
   "metadata": {
    "vscode": {
     "languageId": "r"
    }
   },
   "outputs": [],
   "source": [
    "meta_div <- meta_div[ meta_div$cancergroup != \"Normal\", ]\n",
    "meta_div <- meta_div[ meta_div$cancergroup != \"LFS\", ]"
   ]
  },
  {
   "cell_type": "code",
   "execution_count": 9,
   "metadata": {
    "vscode": {
     "languageId": "r"
    }
   },
   "outputs": [
    {
     "data": {
      "text/plain": [
       "\n",
       "cfDNA  PBMC Tumor  <NA> \n",
       "  274   534    18     0 "
      ]
     },
     "metadata": {},
     "output_type": "display_data"
    }
   ],
   "source": [
    "table(meta_div$sampletype, useNA = \"always\")"
   ]
  },
  {
   "cell_type": "code",
   "execution_count": 10,
   "metadata": {
    "vscode": {
     "languageId": "r"
    }
   },
   "outputs": [
    {
     "data": {
      "text/html": [
       "<table class=\"dataframe\">\n",
       "<caption>A data.frame: 8 x 66</caption>\n",
       "<thead>\n",
       "\t<tr><th></th><th scope=col>sample_id</th><th scope=col>Patient</th><th scope=col>cycle</th><th scope=col>FOLD</th><th scope=col>ATC</th><th scope=col>Age</th><th scope=col>Disease_type</th><th scope=col>TE_fold</th><th scope=col>CD3</th><th scope=col>EM</th><th scope=col>...</th><th scope=col>estimated_Shannon</th><th scope=col>SE_Shannon</th><th scope=col>observed_Simpson</th><th scope=col>estimated_Simpson</th><th scope=col>SE_Simpson</th><th scope=col>basename</th><th scope=col>file</th><th scope=col>sampletype</th><th scope=col>Group</th><th scope=col>log10shann</th></tr>\n",
       "\t<tr><th></th><th scope=col>&lt;chr&gt;</th><th scope=col>&lt;chr&gt;</th><th scope=col>&lt;chr&gt;</th><th scope=col>&lt;dbl&gt;</th><th scope=col>&lt;dbl&gt;</th><th scope=col>&lt;dbl&gt;</th><th scope=col>&lt;chr&gt;</th><th scope=col>&lt;dbl&gt;</th><th scope=col>&lt;int&gt;</th><th scope=col>&lt;int&gt;</th><th scope=col>...</th><th scope=col>&lt;dbl&gt;</th><th scope=col>&lt;dbl&gt;</th><th scope=col>&lt;dbl&gt;</th><th scope=col>&lt;dbl&gt;</th><th scope=col>&lt;dbl&gt;</th><th scope=col>&lt;chr&gt;</th><th scope=col>&lt;chr&gt;</th><th scope=col>&lt;chr&gt;</th><th scope=col>&lt;chr&gt;</th><th scope=col>&lt;dbl&gt;</th></tr>\n",
       "</thead>\n",
       "<tbody>\n",
       "\t<tr><th scope=row>657</th><td>CHP_390_05</td><td>CHP_390</td><td>X05</td><td> 0.0</td><td> 791.48</td><td>5</td><td>OS</td><td> 0.0</td><td>2506</td><td>307</td><td>...</td><td>93.728</td><td>0.948</td><td>80.899</td><td>82.940</td><td>1.596</td><td>CHP_390-05_PBMC-DNA</td><td>batch12_30Apr2021/mixcr/clones/CLONES_TRBCHP_390-05_PBMC-DNA.txt                  </td><td>PBMC </td><td>CHP</td><td>1.9645472</td></tr>\n",
       "\t<tr><th scope=row>186</th><td>CHP_390_02</td><td>CHP_390</td><td>X02</td><td> 0.8</td><td> 913.50</td><td>5</td><td>OS</td><td> 0.8</td><td> 576</td><td>  1</td><td>...</td><td>14.514</td><td>0.109</td><td> 8.516</td><td> 8.519</td><td>0.092</td><td>CHP_390-02_cfDNA   </td><td>batch13_cfDNA_11Sep2020/mixcr/clones/CLONES_TRBCHP_390-02_cfDNA.txt               </td><td>cfDNA</td><td>CHP</td><td>1.1614878</td></tr>\n",
       "\t<tr><th scope=row>187</th><td>CHP_390_03</td><td>CHP_390</td><td>X03</td><td>18.3</td><td>     NA</td><td>5</td><td>OS</td><td>18.3</td><td>2440</td><td>186</td><td>...</td><td>13.179</td><td>0.168</td><td>10.327</td><td>10.350</td><td>0.165</td><td>CHP_390-03_cfDNA   </td><td>priority_pool2/mixcr/clones/CLONES_TRBCHP_390-03_cfDNA.txt                        </td><td>cfDNA</td><td>CHP</td><td>1.1188597</td></tr>\n",
       "\t<tr><th scope=row>188</th><td>CHP_390_04</td><td>CHP_390</td><td>X04</td><td>  NA</td><td>1096.68</td><td>5</td><td>OS</td><td>  NA</td><td>   0</td><td> NA</td><td>...</td><td> 4.370</td><td>0.052</td><td> 3.530</td><td> 3.532</td><td>0.042</td><td>CHP_390-04_cfDNA   </td><td>batch11_cfDNA_11Sep2020/mixcr/clones/CLONES_TRBCHP_390-04_cfDNA.txt               </td><td>cfDNA</td><td>CHP</td><td>0.6399842</td></tr>\n",
       "\t<tr><th scope=row>189</th><td>CHP_390_05</td><td>CHP_390</td><td>X05</td><td> 0.0</td><td> 791.48</td><td>5</td><td>OS</td><td> 0.0</td><td>2506</td><td>307</td><td>...</td><td> 4.973</td><td>0.123</td><td> 3.931</td><td> 3.940</td><td>0.114</td><td>CHP_390-05_cfDNA   </td><td>cfDNA_Matched_Priority_Pool1_19Nov2021/mixcr/clones/CLONES_TRBCHP_390-05_cfDNA.txt</td><td>cfDNA</td><td>CHP</td><td>0.6950437</td></tr>\n",
       "\t<tr><th scope=row>653</th><td>CHP_390_01</td><td>CHP_390</td><td>X01</td><td> 0.8</td><td> 304.98</td><td>5</td><td>OS</td><td> 0.8</td><td>2421</td><td>  5</td><td>...</td><td>    NA</td><td>   NA</td><td>    NA</td><td>    NA</td><td>   NA</td><td>NA                 </td><td>NA                                                                                </td><td>PBMC </td><td>CHP</td><td>       NA</td></tr>\n",
       "\t<tr><th scope=row>656</th><td>CHP_390_04</td><td>CHP_390</td><td>X04</td><td>  NA</td><td>1096.68</td><td>5</td><td>OS</td><td>  NA</td><td>   0</td><td> NA</td><td>...</td><td>    NA</td><td>   NA</td><td>    NA</td><td>    NA</td><td>   NA</td><td>NA                 </td><td>NA                                                                                </td><td>PBMC </td><td>CHP</td><td>       NA</td></tr>\n",
       "\t<tr><th scope=row>3561</th><td>CHP_390_01</td><td>CHP_390</td><td>X00</td><td> 0.8</td><td> 304.98</td><td>5</td><td>OS</td><td> 0.8</td><td>2421</td><td>  5</td><td>...</td><td> 1.749</td><td>0.031</td><td> 1.591</td><td> 1.592</td><td>0.037</td><td>CHP_390-FFPE-DNA_S9</td><td>batchFFPE_3Apr2020/mixcr/clones/CLONES_TRBCHP_390-FFPE-DNA_S9.txt                 </td><td>Tumor</td><td>CHP</td><td>0.2425414</td></tr>\n",
       "</tbody>\n",
       "</table>\n"
      ],
      "text/latex": [
       "A data.frame: 8 x 66\n",
       "\\begin{tabular}{r|lllllllllllllllllllll}\n",
       "  & sample\\_id & Patient & cycle & FOLD & ATC & Age & Disease\\_type & TE\\_fold & CD3 & EM & ... & estimated\\_Shannon & SE\\_Shannon & observed\\_Simpson & estimated\\_Simpson & SE\\_Simpson & basename & file & sampletype & Group & log10shann\\\\\n",
       "  & <chr> & <chr> & <chr> & <dbl> & <dbl> & <dbl> & <chr> & <dbl> & <int> & <int> & ... & <dbl> & <dbl> & <dbl> & <dbl> & <dbl> & <chr> & <chr> & <chr> & <chr> & <dbl>\\\\\n",
       "\\hline\n",
       "\t657 & CHP\\_390\\_05 & CHP\\_390 & X05 &  0.0 &  791.48 & 5 & OS &  0.0 & 2506 & 307 & ... & 93.728 & 0.948 & 80.899 & 82.940 & 1.596 & CHP\\_390-05\\_PBMC-DNA & batch12\\_30Apr2021/mixcr/clones/CLONES\\_TRBCHP\\_390-05\\_PBMC-DNA.txt                   & PBMC  & CHP & 1.9645472\\\\\n",
       "\t186 & CHP\\_390\\_02 & CHP\\_390 & X02 &  0.8 &  913.50 & 5 & OS &  0.8 &  576 &   1 & ... & 14.514 & 0.109 &  8.516 &  8.519 & 0.092 & CHP\\_390-02\\_cfDNA    & batch13\\_cfDNA\\_11Sep2020/mixcr/clones/CLONES\\_TRBCHP\\_390-02\\_cfDNA.txt                & cfDNA & CHP & 1.1614878\\\\\n",
       "\t187 & CHP\\_390\\_03 & CHP\\_390 & X03 & 18.3 &      NA & 5 & OS & 18.3 & 2440 & 186 & ... & 13.179 & 0.168 & 10.327 & 10.350 & 0.165 & CHP\\_390-03\\_cfDNA    & priority\\_pool2/mixcr/clones/CLONES\\_TRBCHP\\_390-03\\_cfDNA.txt                         & cfDNA & CHP & 1.1188597\\\\\n",
       "\t188 & CHP\\_390\\_04 & CHP\\_390 & X04 &   NA & 1096.68 & 5 & OS &   NA &    0 &  NA & ... &  4.370 & 0.052 &  3.530 &  3.532 & 0.042 & CHP\\_390-04\\_cfDNA    & batch11\\_cfDNA\\_11Sep2020/mixcr/clones/CLONES\\_TRBCHP\\_390-04\\_cfDNA.txt                & cfDNA & CHP & 0.6399842\\\\\n",
       "\t189 & CHP\\_390\\_05 & CHP\\_390 & X05 &  0.0 &  791.48 & 5 & OS &  0.0 & 2506 & 307 & ... &  4.973 & 0.123 &  3.931 &  3.940 & 0.114 & CHP\\_390-05\\_cfDNA    & cfDNA\\_Matched\\_Priority\\_Pool1\\_19Nov2021/mixcr/clones/CLONES\\_TRBCHP\\_390-05\\_cfDNA.txt & cfDNA & CHP & 0.6950437\\\\\n",
       "\t653 & CHP\\_390\\_01 & CHP\\_390 & X01 &  0.8 &  304.98 & 5 & OS &  0.8 & 2421 &   5 & ... &     NA &    NA &     NA &     NA &    NA & NA                  & NA                                                                                 & PBMC  & CHP &        NA\\\\\n",
       "\t656 & CHP\\_390\\_04 & CHP\\_390 & X04 &   NA & 1096.68 & 5 & OS &   NA &    0 &  NA & ... &     NA &    NA &     NA &     NA &    NA & NA                  & NA                                                                                 & PBMC  & CHP &        NA\\\\\n",
       "\t3561 & CHP\\_390\\_01 & CHP\\_390 & X00 &  0.8 &  304.98 & 5 & OS &  0.8 & 2421 &   5 & ... &  1.749 & 0.031 &  1.591 &  1.592 & 0.037 & CHP\\_390-FFPE-DNA\\_S9 & batchFFPE\\_3Apr2020/mixcr/clones/CLONES\\_TRBCHP\\_390-FFPE-DNA\\_S9.txt                  & Tumor & CHP & 0.2425414\\\\\n",
       "\\end{tabular}\n"
      ],
      "text/markdown": [
       "\n",
       "A data.frame: 8 x 66\n",
       "\n",
       "| <!--/--> | sample_id &lt;chr&gt; | Patient &lt;chr&gt; | cycle &lt;chr&gt; | FOLD &lt;dbl&gt; | ATC &lt;dbl&gt; | Age &lt;dbl&gt; | Disease_type &lt;chr&gt; | TE_fold &lt;dbl&gt; | CD3 &lt;int&gt; | EM &lt;int&gt; | ... ... | estimated_Shannon &lt;dbl&gt; | SE_Shannon &lt;dbl&gt; | observed_Simpson &lt;dbl&gt; | estimated_Simpson &lt;dbl&gt; | SE_Simpson &lt;dbl&gt; | basename &lt;chr&gt; | file &lt;chr&gt; | sampletype &lt;chr&gt; | Group &lt;chr&gt; | log10shann &lt;dbl&gt; |\n",
       "|---|---|---|---|---|---|---|---|---|---|---|---|---|---|---|---|---|---|---|---|---|---|\n",
       "| 657 | CHP_390_05 | CHP_390 | X05 |  0.0 |  791.48 | 5 | OS |  0.0 | 2506 | 307 | ... | 93.728 | 0.948 | 80.899 | 82.940 | 1.596 | CHP_390-05_PBMC-DNA | batch12_30Apr2021/mixcr/clones/CLONES_TRBCHP_390-05_PBMC-DNA.txt                   | PBMC  | CHP | 1.9645472 |\n",
       "| 186 | CHP_390_02 | CHP_390 | X02 |  0.8 |  913.50 | 5 | OS |  0.8 |  576 |   1 | ... | 14.514 | 0.109 |  8.516 |  8.519 | 0.092 | CHP_390-02_cfDNA    | batch13_cfDNA_11Sep2020/mixcr/clones/CLONES_TRBCHP_390-02_cfDNA.txt                | cfDNA | CHP | 1.1614878 |\n",
       "| 187 | CHP_390_03 | CHP_390 | X03 | 18.3 |      NA | 5 | OS | 18.3 | 2440 | 186 | ... | 13.179 | 0.168 | 10.327 | 10.350 | 0.165 | CHP_390-03_cfDNA    | priority_pool2/mixcr/clones/CLONES_TRBCHP_390-03_cfDNA.txt                         | cfDNA | CHP | 1.1188597 |\n",
       "| 188 | CHP_390_04 | CHP_390 | X04 |   NA | 1096.68 | 5 | OS |   NA |    0 |  NA | ... |  4.370 | 0.052 |  3.530 |  3.532 | 0.042 | CHP_390-04_cfDNA    | batch11_cfDNA_11Sep2020/mixcr/clones/CLONES_TRBCHP_390-04_cfDNA.txt                | cfDNA | CHP | 0.6399842 |\n",
       "| 189 | CHP_390_05 | CHP_390 | X05 |  0.0 |  791.48 | 5 | OS |  0.0 | 2506 | 307 | ... |  4.973 | 0.123 |  3.931 |  3.940 | 0.114 | CHP_390-05_cfDNA    | cfDNA_Matched_Priority_Pool1_19Nov2021/mixcr/clones/CLONES_TRBCHP_390-05_cfDNA.txt | cfDNA | CHP | 0.6950437 |\n",
       "| 653 | CHP_390_01 | CHP_390 | X01 |  0.8 |  304.98 | 5 | OS |  0.8 | 2421 |   5 | ... |     NA |    NA |     NA |     NA |    NA | NA                  | NA                                                                                 | PBMC  | CHP |        NA |\n",
       "| 656 | CHP_390_04 | CHP_390 | X04 |   NA | 1096.68 | 5 | OS |   NA |    0 |  NA | ... |     NA |    NA |     NA |     NA |    NA | NA                  | NA                                                                                 | PBMC  | CHP |        NA |\n",
       "| 3561 | CHP_390_01 | CHP_390 | X00 |  0.8 |  304.98 | 5 | OS |  0.8 | 2421 |   5 | ... |  1.749 | 0.031 |  1.591 |  1.592 | 0.037 | CHP_390-FFPE-DNA_S9 | batchFFPE_3Apr2020/mixcr/clones/CLONES_TRBCHP_390-FFPE-DNA_S9.txt                  | Tumor | CHP | 0.2425414 |\n",
       "\n"
      ],
      "text/plain": [
       "     sample_id  Patient cycle FOLD ATC     Age Disease_type TE_fold CD3  EM \n",
       "657  CHP_390_05 CHP_390 X05    0.0  791.48 5   OS            0.0    2506 307\n",
       "186  CHP_390_02 CHP_390 X02    0.8  913.50 5   OS            0.8     576   1\n",
       "187  CHP_390_03 CHP_390 X03   18.3      NA 5   OS           18.3    2440 186\n",
       "188  CHP_390_04 CHP_390 X04     NA 1096.68 5   OS             NA       0  NA\n",
       "189  CHP_390_05 CHP_390 X05    0.0  791.48 5   OS            0.0    2506 307\n",
       "653  CHP_390_01 CHP_390 X01    0.8  304.98 5   OS            0.8    2421   5\n",
       "656  CHP_390_04 CHP_390 X04     NA 1096.68 5   OS             NA       0  NA\n",
       "3561 CHP_390_01 CHP_390 X00    0.8  304.98 5   OS            0.8    2421   5\n",
       "     ... estimated_Shannon SE_Shannon observed_Simpson estimated_Simpson\n",
       "657  ... 93.728            0.948      80.899           82.940           \n",
       "186  ... 14.514            0.109       8.516            8.519           \n",
       "187  ... 13.179            0.168      10.327           10.350           \n",
       "188  ...  4.370            0.052       3.530            3.532           \n",
       "189  ...  4.973            0.123       3.931            3.940           \n",
       "653  ...     NA               NA          NA               NA           \n",
       "656  ...     NA               NA          NA               NA           \n",
       "3561 ...  1.749            0.031       1.591            1.592           \n",
       "     SE_Simpson basename           \n",
       "657  1.596      CHP_390-05_PBMC-DNA\n",
       "186  0.092      CHP_390-02_cfDNA   \n",
       "187  0.165      CHP_390-03_cfDNA   \n",
       "188  0.042      CHP_390-04_cfDNA   \n",
       "189  0.114      CHP_390-05_cfDNA   \n",
       "653     NA      NA                 \n",
       "656     NA      NA                 \n",
       "3561 0.037      CHP_390-FFPE-DNA_S9\n",
       "     file                                                                              \n",
       "657  batch12_30Apr2021/mixcr/clones/CLONES_TRBCHP_390-05_PBMC-DNA.txt                  \n",
       "186  batch13_cfDNA_11Sep2020/mixcr/clones/CLONES_TRBCHP_390-02_cfDNA.txt               \n",
       "187  priority_pool2/mixcr/clones/CLONES_TRBCHP_390-03_cfDNA.txt                        \n",
       "188  batch11_cfDNA_11Sep2020/mixcr/clones/CLONES_TRBCHP_390-04_cfDNA.txt               \n",
       "189  cfDNA_Matched_Priority_Pool1_19Nov2021/mixcr/clones/CLONES_TRBCHP_390-05_cfDNA.txt\n",
       "653  NA                                                                                \n",
       "656  NA                                                                                \n",
       "3561 batchFFPE_3Apr2020/mixcr/clones/CLONES_TRBCHP_390-FFPE-DNA_S9.txt                 \n",
       "     sampletype Group log10shann\n",
       "657  PBMC       CHP   1.9645472 \n",
       "186  cfDNA      CHP   1.1614878 \n",
       "187  cfDNA      CHP   1.1188597 \n",
       "188  cfDNA      CHP   0.6399842 \n",
       "189  cfDNA      CHP   0.6950437 \n",
       "653  PBMC       CHP          NA \n",
       "656  PBMC       CHP          NA \n",
       "3561 Tumor      CHP   0.2425414 "
      ]
     },
     "metadata": {},
     "output_type": "display_data"
    }
   ],
   "source": [
    "meta_div[ meta_div$Patient == \"CHP_390\",]"
   ]
  },
  {
   "attachments": {},
   "cell_type": "markdown",
   "metadata": {},
   "source": [
    "Separate PBMC and cfDNA"
   ]
  },
  {
   "cell_type": "code",
   "execution_count": 10,
   "metadata": {
    "vscode": {
     "languageId": "r"
    }
   },
   "outputs": [
    {
     "data": {
      "text/plain": [
       "\n",
       "           Leukemia            Lymphoma        Solid tumors T-cell malignancies \n",
       "                370                 138                 274                  44 "
      ]
     },
     "metadata": {},
     "output_type": "display_data"
    }
   ],
   "source": [
    "table(meta_div$cancergroup)"
   ]
  },
  {
   "cell_type": "code",
   "execution_count": 11,
   "metadata": {
    "vscode": {
     "languageId": "r"
    }
   },
   "outputs": [],
   "source": [
    "meta_div <- meta_div[ meta_div$cancergroup != \"T-cell malignancies\", ]"
   ]
  },
  {
   "cell_type": "code",
   "execution_count": 12,
   "metadata": {
    "vscode": {
     "languageId": "r"
    }
   },
   "outputs": [],
   "source": [
    "pbmc <- meta_div[ which(meta_div$sampletype == \"PBMC\"),]\n",
    "cfdna <- meta_div[ which(meta_div$sampletype == \"cfDNA\"),]"
   ]
  },
  {
   "attachments": {},
   "cell_type": "markdown",
   "metadata": {
    "vscode": {
     "languageId": "r"
    }
   },
   "source": [
    "### Change relative to with baseline"
   ]
  },
  {
   "cell_type": "code",
   "execution_count": 13,
   "metadata": {
    "vscode": {
     "languageId": "r"
    }
   },
   "outputs": [],
   "source": [
    "pbmc <- meta_div[ which(meta_div$sampletype == \"PBMC\"),]\n",
    "pbmc <- pbmc[ !is.na(pbmc$TRB),]"
   ]
  },
  {
   "cell_type": "code",
   "execution_count": 14,
   "metadata": {
    "vscode": {
     "languageId": "r"
    }
   },
   "outputs": [],
   "source": [
    "pbmc$log10shann_scaled <- scale(pbmc$log10shann)"
   ]
  },
  {
   "cell_type": "code",
   "execution_count": 15,
   "metadata": {
    "vscode": {
     "languageId": "r"
    }
   },
   "outputs": [],
   "source": [
    "diff_log10shann <- calculate_delta.fx(pbmc, \"cycle\", \"log10shann_scaled\")\n",
    "diff_log10shann <- diff_log10shann[!is.na(diff_log10shann$Difference), ]"
   ]
  },
  {
   "cell_type": "code",
   "execution_count": 16,
   "metadata": {
    "vscode": {
     "languageId": "r"
    }
   },
   "outputs": [],
   "source": [
    "cfdna$log10shann_scaled <- scale(cfdna$log10shann)"
   ]
  },
  {
   "cell_type": "code",
   "execution_count": 17,
   "metadata": {
    "vscode": {
     "languageId": "r"
    }
   },
   "outputs": [],
   "source": [
    "diff_log10shann_cfdna <- calculate_delta.fx(cfdna, \"cycle\", \"log10shann_scaled\")\n",
    "diff_log10shann_cfdna <- diff_log10shann_cfdna[ !is.na(diff_log10shann_cfdna$Difference),]"
   ]
  },
  {
   "cell_type": "code",
   "execution_count": 18,
   "metadata": {
    "vscode": {
     "languageId": "r"
    }
   },
   "outputs": [],
   "source": [
    "pbmc1 <- meta_div[ meta_div$sampletype == \"PBMC\" & !is.na(meta_div$CD3),]\n",
    "pbmc1 <- pbmc1[ pbmc1$CD3 > 0,]"
   ]
  },
  {
   "cell_type": "code",
   "execution_count": 19,
   "metadata": {
    "vscode": {
     "languageId": "r"
    }
   },
   "outputs": [],
   "source": [
    "mycells <- c(\"`Naïve%`\", \"`SCM%`\", \"`CM%`\", \"`EM%`\", \"`TE%`\", \"`PD1%`\", \"`LAG3%`\", \"`TIM3%`\")"
   ]
  },
  {
   "cell_type": "code",
   "execution_count": 20,
   "metadata": {
    "vscode": {
     "languageId": "r"
    }
   },
   "outputs": [],
   "source": [
    "for (i in 1:length(mycells)) {\n",
    "    pbmc1$grp <- gsub(\"`\", \"\", mycells[i])\n",
    "    mycol <- paste0(\"Diff_\", gsub(\"%\", \"\", pbmc1$grp[1]))\n",
    "    myvar <- paste0(\"scaled_\", gsub(\"%\", \"\", pbmc1$grp[1]))\n",
    "    pbmc1[[myvar]] <- NA\n",
    "    pbmc1[[myvar]] <- scale(pbmc1[[pbmc1$grp[1]]])\n",
    "    mydiff <- calculate_delta.fx(pbmc1, \"cycle\", myvar)\n",
    "    # print(summary(mydiff$Difference))\n",
    "    pbmc1[[mycol]] <- mydiff$Difference[match(pbmc1$sample_id, mydiff$sample_id)]\n",
    "}"
   ]
  },
  {
   "cell_type": "code",
   "execution_count": 21,
   "metadata": {
    "vscode": {
     "languageId": "r"
    }
   },
   "outputs": [],
   "source": [
    "# pivot_longer\n",
    "pbmc1_long <- pbmc1 %>%\n",
    "    select(\n",
    "        sample_id, Patient, cycle, cancergroup,Disease_type, Age,  Relapse, Diff_Naïve, Diff_SCM, Diff_CM, Diff_EM, Diff_TE,\n",
    "        Diff_PD1, Diff_LAG3, Diff_TIM3\n",
    "    ) %>%\n",
    "    tidyr::pivot_longer(cols = starts_with(\"Diff_\"), names_to = \"marker\", values_to = \"Diff\")\n"
   ]
  },
  {
   "cell_type": "code",
   "execution_count": 22,
   "metadata": {
    "vscode": {
     "languageId": "r"
    }
   },
   "outputs": [],
   "source": [
    "pbmc1_long <- pbmc1_long[ !is.na(pbmc1_long$Diff),]"
   ]
  },
  {
   "cell_type": "code",
   "execution_count": 23,
   "metadata": {
    "vscode": {
     "languageId": "r"
    }
   },
   "outputs": [
    {
     "data": {
      "text/plain": [
       "   Min. 1st Qu.  Median    Mean 3rd Qu.    Max.    NA's \n",
       "-0.2594  0.4236  0.9769  1.3760  2.0998  3.7511       4 "
      ]
     },
     "metadata": {},
     "output_type": "display_data"
    }
   ],
   "source": [
    "summary(pbmc1$Diff_LAG3[ pbmc1$cancergroup == \"Solid tumors\" & pbmc1$cycle == \"X04\"])"
   ]
  },
  {
   "cell_type": "code",
   "execution_count": 24,
   "metadata": {
    "vscode": {
     "languageId": "r"
    }
   },
   "outputs": [
    {
     "data": {
      "text/plain": [
       "   Min. 1st Qu.  Median    Mean 3rd Qu.    Max. \n",
       "-3.3303 -1.9151 -1.1965 -1.3386 -0.4972  0.2460 "
      ]
     },
     "metadata": {},
     "output_type": "display_data"
    }
   ],
   "source": [
    "summary(diff_log10shann_cfdna$Difference[diff_log10shann_cfdna$cancergroup == \"Lymphoma\" &\n",
    "    diff_log10shann_cfdna$cycle == \"X05\"])\n"
   ]
  },
  {
   "cell_type": "code",
   "execution_count": 25,
   "metadata": {
    "vscode": {
     "languageId": "r"
    }
   },
   "outputs": [],
   "source": [
    "pbmc1_long$marker <- gsub(\"Diff_\", \"\", pbmc1_long$marker)\n",
    "pbmc1_long$marker <- paste0(pbmc1_long$marker, \"%\")"
   ]
  },
  {
   "cell_type": "code",
   "execution_count": 26,
   "metadata": {
    "vscode": {
     "languageId": "r"
    }
   },
   "outputs": [],
   "source": [
    "pbmc1_long_cells <- pbmc1_long[ pbmc1_long$marker %in% c(\"Naïve%\", \"SCM%\", \"CM%\", \"EM%\", \"TE%\"), ]\n",
    "pbmc1_long_ic <- pbmc1_long[ pbmc1_long$marker %in% c(\"PD1%\", \"LAG3%\", \"TIM3%\"), ]"
   ]
  },
  {
   "cell_type": "markdown",
   "metadata": {},
   "source": [
    "### Exploratory by cancer type"
   ]
  },
  {
   "cell_type": "markdown",
   "metadata": {},
   "source": [
    "#### Leu"
   ]
  },
  {
   "cell_type": "code",
   "execution_count": 27,
   "metadata": {
    "vscode": {
     "languageId": "r"
    }
   },
   "outputs": [],
   "source": [
    "diff_log10shann$grp <- \"TCR Diversity\"\n",
    "diff_log10shann_cfdna$grp <- \"cfTCR Diversity\""
   ]
  },
  {
   "cell_type": "code",
   "execution_count": 28,
   "metadata": {
    "vscode": {
     "languageId": "r"
    }
   },
   "outputs": [],
   "source": [
    "p_shann_leu <- delta_basespiderplot.fx(\n",
    "    diff_log10shann[diff_log10shann$cancergroup == \"Leukemia\", ],\n",
    "    \"cycle\", \"factor(Relapse)\", c(\"0\" = \"blue\", \"1\" = \"red\")\n",
    ")\n"
   ]
  },
  {
   "cell_type": "code",
   "execution_count": 29,
   "metadata": {
    "vscode": {
     "languageId": "r"
    }
   },
   "outputs": [],
   "source": [
    "q_10_90 <- quantile(diff_log10shann$Difference[diff_log10shann$cancergroup == \"Leukemia\" &\n",
    "    diff_log10shann$cycle != \"X01\"], c(0.1, 0.9))\n"
   ]
  },
  {
   "cell_type": "code",
   "execution_count": 30,
   "metadata": {
    "vscode": {
     "languageId": "r"
    }
   },
   "outputs": [
    {
     "name": "stderr",
     "output_type": "stream",
     "text": [
      "\u001b[1m\u001b[22mScale for \u001b[32mcolour\u001b[39m is already present.\n",
      "Adding another scale for \u001b[32mcolour\u001b[39m, which will replace the existing scale.\n"
     ]
    }
   ],
   "source": [
    "p_shann_leu <- p_shann_leu + theme(legend.position = \"none\") +\n",
    "  facet_wrap(~ grp + Disease_type, nrow = 1, scales = \"free_x\", strip.position = \"top\") +\n",
    "  theme(\n",
    "    plot.margin = unit(c(0, 0, 0, 0.5), \"cm\"),\n",
    "    axis.title.x = element_blank(),\n",
    "    legend.position = \"none\",\n",
    "    strip.text.x = element_text(size = 13),\n",
    "    strip.background.x = element_blank(),\n",
    "    strip.placement = \"outside\"\n",
    "  ) +\n",
    "  ylab(\"D TCR diversity\") +\n",
    "  scale_x_discrete(get_breaks(\"cycle\"),\n",
    "    labels = c(\"Pre-cycle 1\", \"Pre-cycle 2\", \"Pre-cycle 3\", \"Pre-cycle 4\", \"Pre-cycle 5\")\n",
    "  ) + geom_hline(yintercept = 0, linetype = \"dashed\", color = \"red\") +\n",
    "  annotate(\"ribbon\",\n",
    "    x = c(-Inf, Inf), ymin = q_10_90[1], ymax = q_10_90[2],\n",
    "    alpha = 0.3, fill = \"light grey\"\n",
    "  ) +\n",
    "  scale_color_manual(labels = c(\"No Relapse\", \"Relapse\"), values = c(\"0\" = \"blue\", \"1\" = \"red\"))\n"
   ]
  },
  {
   "cell_type": "code",
   "execution_count": 31,
   "metadata": {
    "vscode": {
     "languageId": "r"
    }
   },
   "outputs": [
    {
     "data": {
      "image/png": "[encoded data removed]",
      "text/plain": [
       "plot without title"
      ]
     },
     "metadata": {
      "image/png": {
       "height": 420,
       "width": 420
      }
     },
     "output_type": "display_data"
    }
   ],
   "source": [
    "p_shann_leu"
   ]
  },
  {
   "cell_type": "code",
   "execution_count": 32,
   "metadata": {
    "vscode": {
     "languageId": "r"
    }
   },
   "outputs": [],
   "source": [
    "p_cfshann_leu <- delta_basespiderplot.fx(\n",
    "    diff_log10shann_cfdna[diff_log10shann_cfdna$cancergroup == \"Leukemia\", ],\n",
    "    \"cycle\", \"factor(Relapse)\", c(\"0\" = \"blue\", \"1\" = \"red\")\n",
    ")\n"
   ]
  },
  {
   "cell_type": "code",
   "execution_count": 33,
   "metadata": {
    "vscode": {
     "languageId": "r"
    }
   },
   "outputs": [
    {
     "data": {
      "image/png": "[encoded data removed]",
      "text/plain": [
       "plot without title"
      ]
     },
     "metadata": {
      "image/png": {
       "height": 420,
       "width": 420
      }
     },
     "output_type": "display_data"
    }
   ],
   "source": [
    "last_timepoint <- diff_log10shann_cfdna[diff_log10shann_cfdna$cancergroup == \"Leukemia\", ] %>%\n",
    "    group_by(Patient) %>%\n",
    "    filter(cycle == max(cycle))\n",
    "last_timepoint$cycleno <- as.numeric(gsub(\"X0\", \"\", last_timepoint$cycle))\n",
    "\n",
    "p_cfshann_leu + geom_text_repel(\n",
    "    data = last_timepoint,\n",
    "    aes(label = Age),\n",
    "    hjust = \"left\",\n",
    "    direction = \"y\",\n",
    "    nudge_x = 6.5 - last_timepoint$cycleno,\n",
    "    size = 3,\n",
    "    xlim = c(4, NA),\n",
    "    segment.color = \"black\"\n",
    ") + facet_wrap(~Disease_type, nrow = 1, scales = \"free_x\", strip.position = \"top\")\n"
   ]
  },
  {
   "cell_type": "code",
   "execution_count": 34,
   "metadata": {
    "vscode": {
     "languageId": "r"
    }
   },
   "outputs": [],
   "source": [
    "q_10_90 <- quantile(diff_log10shann_cfdna$Difference[diff_log10shann_cfdna$cancergroup == \"Leukemia\" &\n",
    "    diff_log10shann_cfdna$cycle != \"X01\"], c(0.1, 0.9))\n"
   ]
  },
  {
   "cell_type": "code",
   "execution_count": 35,
   "metadata": {
    "vscode": {
     "languageId": "r"
    }
   },
   "outputs": [],
   "source": [
    "p_cfshann_leu <- p_cfshann_leu + theme(legend.position = \"none\") +\n",
    "    facet_wrap(~ grp + Disease_type, nrow = 1, scales = \"free_x\", strip.position = \"top\") +\n",
    "    theme(\n",
    "        plot.margin = unit(c(0, 0, 0, 0), \"cm\"),\n",
    "        axis.title.x = element_blank(),\n",
    "        legend.position = \"none\",\n",
    "        strip.text.x = element_text(size = 13),\n",
    "        strip.background.x = element_blank(),\n",
    "        strip.placement = \"outside\"\n",
    "    ) +\n",
    "    ylab(\"D cfTCR diversity\") +\n",
    "    scale_x_discrete(get_breaks(\"cycle\"),\n",
    "        labels = c(\"Pre-cycle 1\", \"Pre-cycle 2\", \"Pre-cycle 3\", \"Pre-cycle 4\", \"Pre-cycle 5\")\n",
    "    ) + geom_hline(yintercept = 0, linetype = \"dashed\", color = \"red\") +\n",
    "    annotate(\"ribbon\",\n",
    "        x = c(-Inf, Inf), ymin = q_10_90[1], ymax = q_10_90[2],\n",
    "        alpha = 0.3, fill = \"light grey\"\n",
    "    )\n"
   ]
  },
  {
   "cell_type": "code",
   "execution_count": 36,
   "metadata": {
    "vscode": {
     "languageId": "r"
    }
   },
   "outputs": [
    {
     "data": {
      "image/png": "[encoded data removed]",
      "text/plain": [
       "plot without title"
      ]
     },
     "metadata": {
      "image/png": {
       "height": 420,
       "width": 420
      }
     },
     "output_type": "display_data"
    }
   ],
   "source": [
    "p_cfshann_leu"
   ]
  },
  {
   "cell_type": "code",
   "execution_count": 37,
   "metadata": {
    "vscode": {
     "languageId": "r"
    }
   },
   "outputs": [
    {
     "data": {
      "text/html": [
       "<table class=\"dataframe\">\n",
       "<caption>A tibble: 6 x 9</caption>\n",
       "<thead>\n",
       "\t<tr><th scope=col>sample_id</th><th scope=col>Patient</th><th scope=col>cycle</th><th scope=col>cancergroup</th><th scope=col>Disease_type</th><th scope=col>Age</th><th scope=col>Relapse</th><th scope=col>marker</th><th scope=col>Diff</th></tr>\n",
       "\t<tr><th scope=col>&lt;chr&gt;</th><th scope=col>&lt;chr&gt;</th><th scope=col>&lt;chr&gt;</th><th scope=col>&lt;chr&gt;</th><th scope=col>&lt;chr&gt;</th><th scope=col>&lt;dbl&gt;</th><th scope=col>&lt;int&gt;</th><th scope=col>&lt;chr&gt;</th><th scope=col>&lt;dbl&gt;</th></tr>\n",
       "</thead>\n",
       "<tbody>\n",
       "\t<tr><td>CHP_343_02</td><td>CHP_343</td><td>X02</td><td>Solid tumors</td><td>EWS</td><td>8</td><td>0</td><td>Naïve%</td><td>-0.4361997</td></tr>\n",
       "\t<tr><td>CHP_343_02</td><td>CHP_343</td><td>X02</td><td>Solid tumors</td><td>EWS</td><td>8</td><td>0</td><td>SCM%  </td><td> 0.3956547</td></tr>\n",
       "\t<tr><td>CHP_343_02</td><td>CHP_343</td><td>X02</td><td>Solid tumors</td><td>EWS</td><td>8</td><td>0</td><td>CM%   </td><td> 0.8951589</td></tr>\n",
       "\t<tr><td>CHP_343_02</td><td>CHP_343</td><td>X02</td><td>Solid tumors</td><td>EWS</td><td>8</td><td>0</td><td>EM%   </td><td> 0.1928534</td></tr>\n",
       "\t<tr><td>CHP_343_02</td><td>CHP_343</td><td>X02</td><td>Solid tumors</td><td>EWS</td><td>8</td><td>0</td><td>TE%   </td><td>-0.4029691</td></tr>\n",
       "\t<tr><td>CHP_343_03</td><td>CHP_343</td><td>X03</td><td>Solid tumors</td><td>EWS</td><td>8</td><td>0</td><td>Naïve%</td><td>-0.4251171</td></tr>\n",
       "</tbody>\n",
       "</table>\n"
      ],
      "text/latex": [
       "A tibble: 6 x 9\n",
       "\\begin{tabular}{lllllllll}\n",
       " sample\\_id & Patient & cycle & cancergroup & Disease\\_type & Age & Relapse & marker & Diff\\\\\n",
       " <chr> & <chr> & <chr> & <chr> & <chr> & <dbl> & <int> & <chr> & <dbl>\\\\\n",
       "\\hline\n",
       "\t CHP\\_343\\_02 & CHP\\_343 & X02 & Solid tumors & EWS & 8 & 0 & Naïve\\% & -0.4361997\\\\\n",
       "\t CHP\\_343\\_02 & CHP\\_343 & X02 & Solid tumors & EWS & 8 & 0 & SCM\\%   &  0.3956547\\\\\n",
       "\t CHP\\_343\\_02 & CHP\\_343 & X02 & Solid tumors & EWS & 8 & 0 & CM\\%    &  0.8951589\\\\\n",
       "\t CHP\\_343\\_02 & CHP\\_343 & X02 & Solid tumors & EWS & 8 & 0 & EM\\%    &  0.1928534\\\\\n",
       "\t CHP\\_343\\_02 & CHP\\_343 & X02 & Solid tumors & EWS & 8 & 0 & TE\\%    & -0.4029691\\\\\n",
       "\t CHP\\_343\\_03 & CHP\\_343 & X03 & Solid tumors & EWS & 8 & 0 & Naïve\\% & -0.4251171\\\\\n",
       "\\end{tabular}\n"
      ],
      "text/markdown": [
       "\n",
       "A tibble: 6 x 9\n",
       "\n",
       "| sample_id &lt;chr&gt; | Patient &lt;chr&gt; | cycle &lt;chr&gt; | cancergroup &lt;chr&gt; | Disease_type &lt;chr&gt; | Age &lt;dbl&gt; | Relapse &lt;int&gt; | marker &lt;chr&gt; | Diff &lt;dbl&gt; |\n",
       "|---|---|---|---|---|---|---|---|---|\n",
       "| CHP_343_02 | CHP_343 | X02 | Solid tumors | EWS | 8 | 0 | Naïve% | -0.4361997 |\n",
       "| CHP_343_02 | CHP_343 | X02 | Solid tumors | EWS | 8 | 0 | SCM%   |  0.3956547 |\n",
       "| CHP_343_02 | CHP_343 | X02 | Solid tumors | EWS | 8 | 0 | CM%    |  0.8951589 |\n",
       "| CHP_343_02 | CHP_343 | X02 | Solid tumors | EWS | 8 | 0 | EM%    |  0.1928534 |\n",
       "| CHP_343_02 | CHP_343 | X02 | Solid tumors | EWS | 8 | 0 | TE%    | -0.4029691 |\n",
       "| CHP_343_03 | CHP_343 | X03 | Solid tumors | EWS | 8 | 0 | Naïve% | -0.4251171 |\n",
       "\n"
      ],
      "text/plain": [
       "  sample_id  Patient cycle cancergroup  Disease_type Age Relapse marker\n",
       "1 CHP_343_02 CHP_343 X02   Solid tumors EWS          8   0       Naïve%\n",
       "2 CHP_343_02 CHP_343 X02   Solid tumors EWS          8   0       SCM%  \n",
       "3 CHP_343_02 CHP_343 X02   Solid tumors EWS          8   0       CM%   \n",
       "4 CHP_343_02 CHP_343 X02   Solid tumors EWS          8   0       EM%   \n",
       "5 CHP_343_02 CHP_343 X02   Solid tumors EWS          8   0       TE%   \n",
       "6 CHP_343_03 CHP_343 X03   Solid tumors EWS          8   0       Naïve%\n",
       "  Diff      \n",
       "1 -0.4361997\n",
       "2  0.3956547\n",
       "3  0.8951589\n",
       "4  0.1928534\n",
       "5 -0.4029691\n",
       "6 -0.4251171"
      ]
     },
     "metadata": {},
     "output_type": "display_data"
    }
   ],
   "source": [
    "head(pbmc1_long_cells)"
   ]
  },
  {
   "cell_type": "code",
   "execution_count": 38,
   "metadata": {
    "vscode": {
     "languageId": "r"
    }
   },
   "outputs": [],
   "source": [
    "pbmc1_long_cells$marker <- factor(pbmc1_long_cells$marker, levels = c(\"Naïve%\", \"SCM%\", \"CM%\", \"EM%\", \"TE%\"))"
   ]
  },
  {
   "cell_type": "code",
   "execution_count": 39,
   "metadata": {
    "vscode": {
     "languageId": "r"
    }
   },
   "outputs": [],
   "source": [
    "cancergroup <- \"Leukemia\"\n",
    "\n",
    "mymat <- data.frame(\n",
    "    \"marker\" = rep(unique(pbmc1_long_cells$marker[pbmc1_long_cells$cancergroup == cancergroup]), 2),\n",
    "    \"x\" = NA, \"q10\" = NA, \"q90\" = NA\n",
    ")\n",
    "\n",
    "for (i in unique(pbmc1_long_cells$marker)) {\n",
    "    mymat$q10[mymat$marker == i] <- quantile(pbmc1_long_cells$Diff[pbmc1_long_cells$cancergroup == cancergroup &\n",
    "        pbmc1_long_cells$cycle != \"X01\" &\n",
    "        pbmc1_long_cells$marker == i], 0.1)\n",
    "    mymat$q90[mymat$marker == i] <- quantile(pbmc1_long_cells$Diff[pbmc1_long_cells$cancergroup == cancergroup &\n",
    "        pbmc1_long_cells$cycle != \"X01\" &\n",
    "        pbmc1_long_cells$marker == i], 0.9)\n",
    "    mymat$x[mymat$marker == i] <- c(-Inf, Inf)\n",
    "}\n"
   ]
  },
  {
   "cell_type": "code",
   "execution_count": 40,
   "metadata": {
    "vscode": {
     "languageId": "r"
    }
   },
   "outputs": [
    {
     "data": {
      "text/html": [
       "<table class=\"dataframe\">\n",
       "<caption>A data.frame: 10 x 4</caption>\n",
       "<thead>\n",
       "\t<tr><th scope=col>marker</th><th scope=col>x</th><th scope=col>q10</th><th scope=col>q90</th></tr>\n",
       "\t<tr><th scope=col>&lt;fct&gt;</th><th scope=col>&lt;dbl&gt;</th><th scope=col>&lt;dbl&gt;</th><th scope=col>&lt;dbl&gt;</th></tr>\n",
       "</thead>\n",
       "<tbody>\n",
       "\t<tr><td>Naïve%</td><td>-Inf</td><td>-1.9887188</td><td>1.6020057</td></tr>\n",
       "\t<tr><td>SCM%  </td><td>-Inf</td><td>-0.6644896</td><td>0.8929143</td></tr>\n",
       "\t<tr><td>CM%   </td><td>-Inf</td><td>-0.9670297</td><td>1.9611075</td></tr>\n",
       "\t<tr><td>EM%   </td><td>-Inf</td><td>-1.6112239</td><td>1.3813240</td></tr>\n",
       "\t<tr><td>TE%   </td><td>-Inf</td><td>-2.0867471</td><td>1.8420755</td></tr>\n",
       "\t<tr><td>Naïve%</td><td> Inf</td><td>-1.9887188</td><td>1.6020057</td></tr>\n",
       "\t<tr><td>SCM%  </td><td> Inf</td><td>-0.6644896</td><td>0.8929143</td></tr>\n",
       "\t<tr><td>CM%   </td><td> Inf</td><td>-0.9670297</td><td>1.9611075</td></tr>\n",
       "\t<tr><td>EM%   </td><td> Inf</td><td>-1.6112239</td><td>1.3813240</td></tr>\n",
       "\t<tr><td>TE%   </td><td> Inf</td><td>-2.0867471</td><td>1.8420755</td></tr>\n",
       "</tbody>\n",
       "</table>\n"
      ],
      "text/latex": [
       "A data.frame: 10 x 4\n",
       "\\begin{tabular}{llll}\n",
       " marker & x & q10 & q90\\\\\n",
       " <fct> & <dbl> & <dbl> & <dbl>\\\\\n",
       "\\hline\n",
       "\t Naïve\\% & -Inf & -1.9887188 & 1.6020057\\\\\n",
       "\t SCM\\%   & -Inf & -0.6644896 & 0.8929143\\\\\n",
       "\t CM\\%    & -Inf & -0.9670297 & 1.9611075\\\\\n",
       "\t EM\\%    & -Inf & -1.6112239 & 1.3813240\\\\\n",
       "\t TE\\%    & -Inf & -2.0867471 & 1.8420755\\\\\n",
       "\t Naïve\\% &  Inf & -1.9887188 & 1.6020057\\\\\n",
       "\t SCM\\%   &  Inf & -0.6644896 & 0.8929143\\\\\n",
       "\t CM\\%    &  Inf & -0.9670297 & 1.9611075\\\\\n",
       "\t EM\\%    &  Inf & -1.6112239 & 1.3813240\\\\\n",
       "\t TE\\%    &  Inf & -2.0867471 & 1.8420755\\\\\n",
       "\\end{tabular}\n"
      ],
      "text/markdown": [
       "\n",
       "A data.frame: 10 x 4\n",
       "\n",
       "| marker &lt;fct&gt; | x &lt;dbl&gt; | q10 &lt;dbl&gt; | q90 &lt;dbl&gt; |\n",
       "|---|---|---|---|\n",
       "| Naïve% | -Inf | -1.9887188 | 1.6020057 |\n",
       "| SCM%   | -Inf | -0.6644896 | 0.8929143 |\n",
       "| CM%    | -Inf | -0.9670297 | 1.9611075 |\n",
       "| EM%    | -Inf | -1.6112239 | 1.3813240 |\n",
       "| TE%    | -Inf | -2.0867471 | 1.8420755 |\n",
       "| Naïve% |  Inf | -1.9887188 | 1.6020057 |\n",
       "| SCM%   |  Inf | -0.6644896 | 0.8929143 |\n",
       "| CM%    |  Inf | -0.9670297 | 1.9611075 |\n",
       "| EM%    |  Inf | -1.6112239 | 1.3813240 |\n",
       "| TE%    |  Inf | -2.0867471 | 1.8420755 |\n",
       "\n"
      ],
      "text/plain": [
       "   marker x    q10        q90      \n",
       "1  Naïve% -Inf -1.9887188 1.6020057\n",
       "2  SCM%   -Inf -0.6644896 0.8929143\n",
       "3  CM%    -Inf -0.9670297 1.9611075\n",
       "4  EM%    -Inf -1.6112239 1.3813240\n",
       "5  TE%    -Inf -2.0867471 1.8420755\n",
       "6  Naïve%  Inf -1.9887188 1.6020057\n",
       "7  SCM%    Inf -0.6644896 0.8929143\n",
       "8  CM%     Inf -0.9670297 1.9611075\n",
       "9  EM%     Inf -1.6112239 1.3813240\n",
       "10 TE%     Inf -2.0867471 1.8420755"
      ]
     },
     "metadata": {},
     "output_type": "display_data"
    }
   ],
   "source": [
    "mymat"
   ]
  },
  {
   "cell_type": "code",
   "execution_count": null,
   "metadata": {
    "vscode": {
     "languageId": "r"
    }
   },
   "outputs": [],
   "source": [
    "p_leu <- ggplot(pbmc1_long_cells[pbmc1_long_cells$cancergroup == \"Leukemia\", ], aes(x = cycle, y = Diff)) +\n",
    "    geom_point(aes(color = factor(Relapse)), cex = 2) +\n",
    "    geom_line(aes(group = Patient, color = factor(Relapse))) +\n",
    "     scale_color_manual(values = c(\"0\" = \"blue\", \"1\" = \"red\")) +\n",
    "    myplot +\n",
    "    myaxis +\n",
    "    theme(plot.margin = unit(c(0, 0, 0, 0), \"cm\"),\n",
    "        axis.text.x = element_blank(),\n",
    "        axis.title.x = element_blank(), legend.position = \"none\"\n",
    "    ) +\n",
    "geom_ribbon(data = mymat, \n",
    "    aes(x = x, y = NULL, ymin = q10, ymax = q90), alpha = 0.3, fill = \"light grey\"\n",
    "  ) +\n",
    "    facet_wrap(~marker + Disease_type, nrow = 5, scales = \"free_x\", strip.position = \"top\") +\n",
    "    theme(\n",
    "        axis.title.x = element_blank(),\n",
    "        legend.position = \"none\",\n",
    "        strip.text.x = element_text(size = 13),\n",
    "        strip.background.x = element_blank(),\n",
    "        strip.placement = \"outside\"\n",
    "    ) +\n",
    "    ylab(\"D T-cell subsets\") +\n",
    "    scale_x_discrete(get_breaks(\"cycle\"),\n",
    "        labels = c(\"Pre-cycle 1\", \"Pre-cycle 2\", \"Pre-cycle 3\", \"Pre-cycle 4\", \"Pre-cycle 5\")\n",
    "    ) + geom_hline(yintercept = 0, linetype = \"dashed\", color = \"red\") "
   ]
  },
  {
   "cell_type": "code",
   "execution_count": null,
   "metadata": {
    "vscode": {
     "languageId": "r"
    }
   },
   "outputs": [],
   "source": [
    "p_leu"
   ]
  },
  {
   "cell_type": "code",
   "execution_count": null,
   "metadata": {
    "vscode": {
     "languageId": "r"
    }
   },
   "outputs": [],
   "source": [
    "pdf(paste0(plotpath, \"p_leu_spiderplots_disease_type.pdf\"), width = 10, height = 13)\n",
    "cowplot::plot_grid(p_leu)\n",
    "dev.off()"
   ]
  },
  {
   "cell_type": "code",
   "execution_count": null,
   "metadata": {
    "vscode": {
     "languageId": "r"
    }
   },
   "outputs": [],
   "source": [
    "cancergroup <- \"Leukemia\"\n",
    "\n",
    "mymat <- data.frame(\n",
    "    \"marker\" = rep(unique(pbmc1_long_ic$marker[pbmc1_long_ic$cancergroup == cancergroup]), 2),\n",
    "    \"x\" = NA, \"q10\" = NA, \"q90\" = NA\n",
    ")\n",
    "\n",
    "for (i in unique(pbmc1_long_ic$marker)) {\n",
    "    mymat$q10[mymat$marker == i] <- quantile(pbmc1_long_ic$Diff[pbmc1_long_ic$cancergroup == cancergroup &\n",
    "        pbmc1_long_ic$cycle != \"X01\" &\n",
    "        pbmc1_long_ic$marker == i], 0.1)\n",
    "    mymat$q90[mymat$marker == i] <- quantile(pbmc1_long_ic$Diff[pbmc1_long_ic$cancergroup == cancergroup &\n",
    "        pbmc1_long_ic$cycle != \"X01\" &\n",
    "        pbmc1_long_ic$marker == i], 0.9)\n",
    "    mymat$x[mymat$marker == i] <- c(-Inf, Inf)\n",
    "}\n"
   ]
  },
  {
   "cell_type": "code",
   "execution_count": null,
   "metadata": {
    "vscode": {
     "languageId": "r"
    }
   },
   "outputs": [],
   "source": [
    "p_leu_ic <- ggplot(pbmc1_long_ic[pbmc1_long_ic$cancergroup == \"Leukemia\", ], aes(x = cycle, y = Diff)) +\n",
    "    geom_point(aes(color = factor(Relapse)), cex = 2) +\n",
    "    geom_line(aes(group = Patient, color = factor(Relapse))) +\n",
    "    scale_color_manual(values = c(\"0\" = \"blue\", \"1\" = \"red\")) +\n",
    "    myplot +\n",
    "    myaxis +\n",
    "    theme(\n",
    "        plot.margin = unit(c(0, 0, 0, 0.5), \"cm\"),\n",
    "        axis.text.x = element_blank(),\n",
    "        axis.title.x = element_blank(), legend.position = \"none\"\n",
    "    ) +\n",
    "    geom_ribbon(\n",
    "        data = mymat,\n",
    "        aes(x = x, y = NULL, ymin = q10, ymax = q90), alpha = 0.3, fill = \"light grey\"\n",
    "    ) +\n",
    "    facet_wrap(~ marker + Disease_type, nrow = 3, scales = \"free_x\", strip.position = \"top\") +\n",
    "    theme(\n",
    "        axis.title.x = element_blank(),\n",
    "        legend.position = \"none\",\n",
    "        strip.text.x = element_text(size = 13),\n",
    "        strip.background.x = element_blank(),\n",
    "        strip.placement = \"outside\"\n",
    "    ) +\n",
    "    ylab(\"D Immune Checkpoint proteins\") +\n",
    "    scale_x_discrete(get_breaks(\"cycle\"),\n",
    "        labels = c(\"Pre-cycle 1\", \"Pre-cycle 2\", \"Pre-cycle 3\", \"Pre-cycle 4\", \"Pre-cycle 5\")\n",
    "    ) +\n",
    "    geom_hline(yintercept = 0, linetype = \"dashed\", color = \"red\")\n"
   ]
  },
  {
   "cell_type": "code",
   "execution_count": null,
   "metadata": {
    "vscode": {
     "languageId": "r"
    }
   },
   "outputs": [],
   "source": [
    "p_leu_ic"
   ]
  },
  {
   "cell_type": "code",
   "execution_count": null,
   "metadata": {
    "vscode": {
     "languageId": "r"
    }
   },
   "outputs": [],
   "source": [
    "pdf(paste0(plotpath, \"p_leu_ic_spiderplots_disease_type.pdf\"), width = 10, height = 13)\n",
    "cowplot::plot_grid(p_leu_ic)\n",
    "dev.off()\n"
   ]
  },
  {
   "cell_type": "markdown",
   "metadata": {},
   "source": [
    "#### Lym"
   ]
  },
  {
   "cell_type": "code",
   "execution_count": null,
   "metadata": {
    "vscode": {
     "languageId": "r"
    }
   },
   "outputs": [],
   "source": [
    "q_10_90 <- quantile(diff_log10shann$Difference[diff_log10shann$cancergroup == \"Lymphoma\" &\n",
    "    diff_log10shann$cycle != \"X01\"], c(0.1, 0.9))\n"
   ]
  },
  {
   "cell_type": "code",
   "execution_count": null,
   "metadata": {
    "vscode": {
     "languageId": "r"
    }
   },
   "outputs": [],
   "source": [
    "p_shann_lym <- delta_basespiderplot.fx(\n",
    "    diff_log10shann[diff_log10shann$cancergroup == \"Lymphoma\", ],\n",
    "    \"cycle\", \"factor(Relapse)\", c(\"0\" = \"blue\", \"1\" = \"red\")\n",
    ") + theme(legend.position = \"none\")"
   ]
  },
  {
   "cell_type": "code",
   "execution_count": null,
   "metadata": {
    "vscode": {
     "languageId": "r"
    }
   },
   "outputs": [],
   "source": [
    "p_shann_lym <- p_shann_lym + theme(legend.position = \"none\") +\n",
    "  facet_wrap(~Disease_type, nrow = 1, scales = \"free_x\", strip.position = \"top\") +\n",
    "  theme(\n",
    "    plot.margin = unit(c(0, 0, 0, 0.5), \"cm\"),\n",
    "    axis.title.x = element_blank(),\n",
    "    legend.position = \"none\",\n",
    "    strip.text.x = element_text(size = 13),\n",
    "    strip.background.x = element_blank(),\n",
    "    strip.placement = \"outside\"\n",
    "  ) +\n",
    "  ylab(\"D TCR diversity\") +\n",
    "  scale_x_discrete(get_breaks(\"cycle\"),\n",
    "    labels = c(\"Pre-cycle 1\", \"Pre-cycle 2\", \"Pre-cycle 3\", \"Pre-cycle 4\", \"Pre-cycle 5\") ) +\n",
    "      annotate(\"ribbon\",\n",
    "    x = c(-Inf, Inf), ymin = q_10_90[1], ymax = q_10_90[2],\n",
    "    alpha = 0.3, fill = \"light grey\"\n",
    "  ) +\n",
    "  geom_hline(yintercept = 0, linetype = \"dashed\", color = \"red\") "
   ]
  },
  {
   "cell_type": "code",
   "execution_count": null,
   "metadata": {
    "vscode": {
     "languageId": "r"
    }
   },
   "outputs": [],
   "source": [
    "p_shann_lym"
   ]
  },
  {
   "cell_type": "code",
   "execution_count": null,
   "metadata": {
    "vscode": {
     "languageId": "r"
    }
   },
   "outputs": [],
   "source": [
    "q_10_90 <- quantile(diff_log10shann_cfdna$Difference[diff_log10shann_cfdna$cancergroup == \"Lymphoma\" &\n",
    "    diff_log10shann_cfdna$cycle != \"X01\"], c(0.1, 0.9))\n"
   ]
  },
  {
   "cell_type": "code",
   "execution_count": null,
   "metadata": {
    "vscode": {
     "languageId": "r"
    }
   },
   "outputs": [],
   "source": [
    "p_cfshann_lym <- delta_basespiderplot.fx(\n",
    "    diff_log10shann_cfdna[diff_log10shann_cfdna$cancergroup == \"Lymphoma\", ],\n",
    "    \"cycle\", \"factor(Relapse)\", c(\"0\" = \"blue\", \"1\" = \"red\")\n",
    ")"
   ]
  },
  {
   "cell_type": "code",
   "execution_count": null,
   "metadata": {
    "vscode": {
     "languageId": "r"
    }
   },
   "outputs": [],
   "source": [
    "p_cfshann_lym <- p_cfshann_lym + theme(legend.position = \"none\") +\n",
    "    facet_wrap(~Disease_type, nrow = 1, scales = \"free_x\", strip.position = \"top\") +\n",
    "    theme(\n",
    "        plot.margin = unit(c(0, 0, 0, 0), \"cm\"),\n",
    "        axis.title.x = element_blank(),\n",
    "        legend.position = \"none\",\n",
    "        strip.text.x = element_text(size = 13),\n",
    "        strip.background.x = element_blank(),\n",
    "        strip.placement = \"outside\"\n",
    "    ) +\n",
    "    ylab(\"D cfTCR diversity\") +\n",
    "    scale_x_discrete(get_breaks(\"cycle\"),\n",
    "        labels = c(\"Pre-cycle 1\", \"Pre-cycle 2\", \"Pre-cycle 3\", \"Pre-cycle 4\", \"Pre-cycle 5\") ) +\n",
    "          annotate(\"ribbon\",\n",
    "    x = c(-Inf, Inf), ymin = q_10_90[1], ymax = q_10_90[2],\n",
    "    alpha = 0.3, fill = \"light grey\"\n",
    "  ) +\n",
    "    geom_hline(yintercept = 0, linetype = \"dashed\", color = \"red\") "
   ]
  },
  {
   "cell_type": "code",
   "execution_count": null,
   "metadata": {
    "vscode": {
     "languageId": "r"
    }
   },
   "outputs": [],
   "source": [
    "p_cfshann_lym"
   ]
  },
  {
   "cell_type": "code",
   "execution_count": null,
   "metadata": {
    "vscode": {
     "languageId": "r"
    }
   },
   "outputs": [],
   "source": [
    "pdf(paste0(plotpath, \"p_lym_cftcr_spiderplots_disease_type.pdf\"), width = 10, height = 4)\n",
    "cowplot::plot_grid(p_cfshann_lym)\n",
    "dev.off()"
   ]
  },
  {
   "cell_type": "code",
   "execution_count": null,
   "metadata": {
    "vscode": {
     "languageId": "r"
    }
   },
   "outputs": [],
   "source": [
    "cancergroup <- \"Lymphoma\"\n",
    "\n",
    "mymat <- data.frame(\n",
    "    \"marker\" = rep(unique(pbmc1_long_cells$marker[pbmc1_long_cells$cancergroup == cancergroup]), 2),\n",
    "    \"x\" = NA, \"q10\" = NA, \"q90\" = NA\n",
    ")\n",
    "\n",
    "for (i in unique(pbmc1_long_cells$marker)) {\n",
    "    mymat$q10[mymat$marker == i] <- quantile(pbmc1_long_cells$Diff[pbmc1_long_cells$cancergroup == cancergroup &\n",
    "        pbmc1_long_cells$cycle != \"X01\" &\n",
    "        pbmc1_long_cells$marker == i], 0.1)\n",
    "    mymat$q90[mymat$marker == i] <- quantile(pbmc1_long_cells$Diff[pbmc1_long_cells$cancergroup == cancergroup &\n",
    "        pbmc1_long_cells$cycle != \"X01\" &\n",
    "        pbmc1_long_cells$marker == i], 0.9)\n",
    "    mymat$x[mymat$marker == i] <- c(-Inf, Inf)\n",
    "}\n"
   ]
  },
  {
   "cell_type": "code",
   "execution_count": null,
   "metadata": {
    "vscode": {
     "languageId": "r"
    }
   },
   "outputs": [],
   "source": [
    "p_lym <- ggplot(pbmc1_long_cells[pbmc1_long_cells$cancergroup == \"Lymphoma\", ], aes(x = cycle, y = Diff)) +\n",
    "    geom_point(aes(color = factor(Relapse)), cex = 2) +\n",
    "    geom_line(aes(group = Patient, color = factor(Relapse))) +\n",
    "    scale_color_manual(values = c(\"0\" = \"blue\", \"1\" = \"red\")) +\n",
    "    myplot +\n",
    "    myaxis +\n",
    "    theme(plot.margin = unit(c(0, 0, 0, 0), \"cm\"),\n",
    "        axis.text.x = element_blank(),\n",
    "        axis.title.x = element_blank(), legend.position = \"none\"\n",
    "    ) +\n",
    "        geom_ribbon(\n",
    "        data = mymat,\n",
    "        aes(x = x, y = NULL, ymin = q10, ymax = q90), alpha = 0.3, fill = \"light grey\"\n",
    "    ) +\n",
    "    facet_wrap(~marker + Disease_type, nrow = 5, scales = \"free_x\", strip.position = \"top\") +\n",
    "    theme(\n",
    "        axis.title.x = element_blank(),\n",
    "        legend.position = \"none\",\n",
    "        strip.text.x = element_text(size = 13),\n",
    "        strip.background.x = element_blank(),\n",
    "        strip.placement = \"outside\"\n",
    "    ) +\n",
    "    ylab(\"D T-cell subsets\") +\n",
    "    scale_x_discrete(get_breaks(\"cycle\"),\n",
    "        labels = c(\"Pre-cycle 1\", \"Pre-cycle 2\", \"Pre-cycle 3\", \"Pre-cycle 4\", \"Pre-cycle 5\")\n",
    "    ) + geom_hline(yintercept = 0, linetype = \"dashed\", color = \"red\") "
   ]
  },
  {
   "cell_type": "code",
   "execution_count": null,
   "metadata": {
    "vscode": {
     "languageId": "r"
    }
   },
   "outputs": [],
   "source": [
    "pdf(paste0(plotpath, \"p_lym_cells_spiderplots_disease_type.pdf\"), width = 10, height = 13)\n",
    "cowplot::plot_grid(p_lym)\n",
    "dev.off()"
   ]
  },
  {
   "cell_type": "code",
   "execution_count": null,
   "metadata": {
    "vscode": {
     "languageId": "r"
    }
   },
   "outputs": [],
   "source": [
    "cancergroup <- \"Lymphoma\"\n",
    "\n",
    "mymat <- data.frame(\n",
    "    \"marker\" = rep(unique(pbmc1_long_ic$marker[pbmc1_long_ic$cancergroup == cancergroup]), 2),\n",
    "    \"x\" = NA, \"q10\" = NA, \"q90\" = NA\n",
    ")\n",
    "\n",
    "for (i in unique(pbmc1_long_ic$marker)) {\n",
    "    mymat$q10[mymat$marker == i] <- quantile(pbmc1_long_ic$Diff[pbmc1_long_ic$cancergroup == cancergroup &\n",
    "        pbmc1_long_ic$cycle != \"X01\" &\n",
    "        pbmc1_long_ic$marker == i], 0.1)\n",
    "    mymat$q90[mymat$marker == i] <- quantile(pbmc1_long_ic$Diff[pbmc1_long_ic$cancergroup == cancergroup &\n",
    "        pbmc1_long_ic$cycle != \"X01\" &\n",
    "        pbmc1_long_ic$marker == i], 0.9)\n",
    "    mymat$x[mymat$marker == i] <- c(-Inf, Inf)\n",
    "}\n"
   ]
  },
  {
   "cell_type": "code",
   "execution_count": null,
   "metadata": {
    "vscode": {
     "languageId": "r"
    }
   },
   "outputs": [],
   "source": [
    "p_lym_ic <- ggplot(pbmc1_long_ic[pbmc1_long_ic$cancergroup == \"Lymphoma\", ], aes(x = cycle, y = Diff)) +\n",
    "    geom_point(aes(color = factor(Relapse)), cex = 2) +\n",
    "    geom_line(aes(group = Patient, color = factor(Relapse))) +\n",
    "    scale_color_manual(values = c(\"0\" = \"blue\", \"1\" = \"red\"))  +\n",
    "    myplot +\n",
    "    myaxis +\n",
    "    theme(plot.margin = unit(c(0, 0, 0, 0.5), \"cm\"),\n",
    "        axis.text.x = element_blank(),\n",
    "        axis.title.x = element_blank(), legend.position = \"none\"\n",
    "    ) +\n",
    "        geom_ribbon(\n",
    "        data = mymat,\n",
    "        aes(x = x, y = NULL, ymin = q10, ymax = q90), alpha = 0.3, fill = \"light grey\"\n",
    "    ) +\n",
    "    facet_wrap(~marker + Disease_type, nrow = 3, scales = \"free_x\", strip.position = \"top\") +\n",
    "    theme(\n",
    "        axis.title.x = element_blank(),\n",
    "        legend.position = \"none\",\n",
    "        strip.text.x = element_text(size = 13),\n",
    "        strip.background.x = element_blank(),\n",
    "        strip.placement = \"outside\"\n",
    "    ) +\n",
    "    ylab(\"D Immune Checkpoint proteins\") +\n",
    "    scale_x_discrete(get_breaks(\"cycle\"),\n",
    "        labels = c(\"Pre-cycle 1\", \"Pre-cycle 2\", \"Pre-cycle 3\", \"Pre-cycle 4\", \"Pre-cycle 5\")\n",
    "    ) + geom_hline(yintercept = 0, linetype = \"dashed\", color = \"red\") "
   ]
  },
  {
   "cell_type": "code",
   "execution_count": null,
   "metadata": {
    "vscode": {
     "languageId": "r"
    }
   },
   "outputs": [],
   "source": [
    "pdf(paste0(plotpath, \"p_lym_ic_spiderplots_disease_type.pdf\"), width = 10, height = 6)\n",
    "cowplot::plot_grid(p_lym_ic)\n",
    "dev.off()"
   ]
  },
  {
   "cell_type": "markdown",
   "metadata": {},
   "source": [
    "#### Solid"
   ]
  },
  {
   "cell_type": "code",
   "execution_count": null,
   "metadata": {
    "vscode": {
     "languageId": "r"
    }
   },
   "outputs": [],
   "source": [
    "q_10_90 <- quantile(diff_log10shann$Difference[diff_log10shann$cancergroup == \"Solid tumors\" &\n",
    "    diff_log10shann$cycle != \"X01\"], c(0.1, 0.9))\n"
   ]
  },
  {
   "cell_type": "code",
   "execution_count": null,
   "metadata": {
    "vscode": {
     "languageId": "r"
    }
   },
   "outputs": [],
   "source": [
    "p_shann_solid <- delta_basespiderplot.fx(\n",
    "    diff_log10shann[diff_log10shann$cancergroup == \"Solid tumors\", ],\n",
    "    \"cycle\", \"factor(Relapse)\", c(\"0\" = \"blue\", \"1\" = \"red\")\n",
    ") + theme(legend.position = \"none\")"
   ]
  },
  {
   "cell_type": "code",
   "execution_count": null,
   "metadata": {
    "vscode": {
     "languageId": "r"
    }
   },
   "outputs": [],
   "source": [
    "p_shann_solid <- p_shann_solid + theme(legend.position = \"none\") +\n",
    "  facet_wrap(~Disease_type, nrow = 1, scales = \"free_x\", strip.position = \"top\") +\n",
    "  theme(plot.margin = unit(c(0, 0, 0, 0.5), \"cm\"),\n",
    "    axis.title.x = element_blank(),\n",
    "    legend.position = \"none\",\n",
    "    strip.text.x = element_text(size = 13),\n",
    "    strip.background.x = element_blank(),\n",
    "    strip.placement = \"outside\"\n",
    "  ) +\n",
    "  ylab(\"D TCR diversity\") +\n",
    "  scale_x_discrete(get_breaks(\"cycle\"),\n",
    "    labels = c(\"Pre-cycle 1\", \"Pre-cycle 2\", \"Pre-cycle 3\", \"Pre-cycle 4\", \"Pre-cycle 5\") ) +\n",
    "      annotate(\"ribbon\",\n",
    "    x = c(-Inf, Inf), ymin = q_10_90[1], ymax = q_10_90[2],\n",
    "    alpha = 0.3, fill = \"light grey\"\n",
    "  ) + geom_hline(yintercept = 0, linetype = \"dashed\", color = \"red\") "
   ]
  },
  {
   "cell_type": "code",
   "execution_count": null,
   "metadata": {
    "vscode": {
     "languageId": "r"
    }
   },
   "outputs": [],
   "source": [
    "p_shann_solid"
   ]
  },
  {
   "cell_type": "code",
   "execution_count": null,
   "metadata": {
    "vscode": {
     "languageId": "r"
    }
   },
   "outputs": [],
   "source": [
    "q_10_90 <- quantile(diff_log10shann_cfdna$Difference[diff_log10shann_cfdna$cancergroup == \"Solid tumors\" &\n",
    "    diff_log10shann_cfdna$cycle != \"X01\"], c(0.1, 0.9))\n"
   ]
  },
  {
   "cell_type": "code",
   "execution_count": null,
   "metadata": {
    "vscode": {
     "languageId": "r"
    }
   },
   "outputs": [],
   "source": [
    "p_cfshann_solid <- delta_basespiderplot.fx(\n",
    "    diff_log10shann_cfdna[diff_log10shann_cfdna$cancergroup == \"Solid tumors\", ],\n",
    "    \"cycle\", \"factor(Relapse)\", c(\"0\" = \"blue\", \"1\" = \"red\")\n",
    ")"
   ]
  },
  {
   "cell_type": "code",
   "execution_count": null,
   "metadata": {
    "vscode": {
     "languageId": "r"
    }
   },
   "outputs": [],
   "source": [
    "p_cfshann_solid <- p_cfshann_solid + theme(legend.position = \"none\") +\n",
    "    facet_wrap(~Disease_type, nrow = 1, scales = \"free_x\", strip.position = \"top\") +\n",
    "    theme(plot.margin = unit(c(0, 0, 0, 0), \"cm\"),\n",
    "        axis.title.x = element_blank(),\n",
    "        legend.position = \"none\",\n",
    "        strip.text.x = element_text(size = 13),\n",
    "        strip.background.x = element_blank(),\n",
    "        strip.placement = \"outside\"\n",
    "    ) +\n",
    "    ylab(\"D cfTCR diversity\") +\n",
    "    scale_x_discrete(get_breaks(\"cycle\"),\n",
    "        labels = c(\"Pre-cycle 1\", \"Pre-cycle 2\", \"Pre-cycle 3\", \"Pre-cycle 4\", \"Pre-cycle 5\")\n",
    "    ) + \n",
    "      annotate(\"ribbon\",\n",
    "    x = c(-Inf, Inf), ymin = q_10_90[1], ymax = q_10_90[2],\n",
    "    alpha = 0.3, fill = \"light grey\"\n",
    "  ) +\n",
    "  geom_hline(yintercept = 0, linetype = \"dashed\", color = \"red\") "
   ]
  },
  {
   "cell_type": "code",
   "execution_count": null,
   "metadata": {
    "vscode": {
     "languageId": "r"
    }
   },
   "outputs": [],
   "source": [
    "p_cfshann_solid"
   ]
  },
  {
   "cell_type": "code",
   "execution_count": null,
   "metadata": {
    "vscode": {
     "languageId": "r"
    }
   },
   "outputs": [],
   "source": [
    "cancergroup <- \"Solid tumors\"\n",
    "\n",
    "mymat <- data.frame(\n",
    "    \"marker\" = rep(unique(pbmc1_long_cells$marker[pbmc1_long_cells$cancergroup == cancergroup]), 2),\n",
    "    \"x\" = NA, \"q10\" = NA, \"q90\" = NA\n",
    ")\n",
    "\n",
    "for (i in unique(pbmc1_long_cells$marker)) {\n",
    "    mymat$q10[mymat$marker == i] <- quantile(pbmc1_long_cells$Diff[pbmc1_long_cells$cancergroup == cancergroup &\n",
    "        pbmc1_long_cells$cycle != \"X01\" &\n",
    "        pbmc1_long_cells$marker == i], 0.1)\n",
    "    mymat$q90[mymat$marker == i] <- quantile(pbmc1_long_cells$Diff[pbmc1_long_cells$cancergroup == cancergroup &\n",
    "        pbmc1_long_cells$cycle != \"X01\" &\n",
    "        pbmc1_long_cells$marker == i], 0.9)\n",
    "    mymat$x[mymat$marker == i] <- c(-Inf, Inf)\n",
    "}\n"
   ]
  },
  {
   "cell_type": "code",
   "execution_count": null,
   "metadata": {
    "vscode": {
     "languageId": "r"
    }
   },
   "outputs": [],
   "source": [
    "p_solid <- ggplot(pbmc1_long_cells[pbmc1_long_cells$cancergroup == \"Solid tumors\", ], aes(x = cycle, y = Diff)) +\n",
    "    geom_point(aes(color = factor(Relapse)), cex = 2) +\n",
    "    geom_line(aes(group = Patient, color = factor(Relapse))) +\n",
    "    scale_color_manual( values = c(\"0\" = \"blue\", \"1\" = \"red\"))  +\n",
    "    myplot +\n",
    "    myaxis +\n",
    "    theme(plot.margin = unit(c(0, 0, 0, 0), \"cm\"),\n",
    "        axis.text.x = element_blank(),\n",
    "        axis.title.x = element_blank(), legend.position = \"none\"\n",
    "    ) +\n",
    "        geom_ribbon(\n",
    "        data = mymat,\n",
    "        aes(x = x, y = NULL, ymin = q10, ymax = q90), alpha = 0.3, fill = \"light grey\"\n",
    "    ) +\n",
    "    facet_wrap(~marker+ Disease_type, nrow = 5, scales = \"free_x\", strip.position = \"top\") +\n",
    "    theme(\n",
    "        axis.title.x = element_blank(),\n",
    "        legend.position = \"none\",\n",
    "        strip.text.x = element_text(size = 13),\n",
    "        strip.background.x = element_blank(),\n",
    "        strip.placement = \"outside\"\n",
    "    ) +\n",
    "    ylab(\"D T-cell subsets\") +\n",
    "    scale_x_discrete(get_breaks(\"cycle\"),\n",
    "        labels = c(\"Pre-cycle 1\", \"Pre-cycle 2\", \"Pre-cycle 3\", \"Pre-cycle 4\", \"Pre-cycle 5\")\n",
    "    ) + geom_hline(yintercept = 0, linetype = \"dashed\", color = \"red\") "
   ]
  },
  {
   "cell_type": "code",
   "execution_count": null,
   "metadata": {
    "vscode": {
     "languageId": "r"
    }
   },
   "outputs": [],
   "source": [
    "p_solid"
   ]
  },
  {
   "cell_type": "code",
   "execution_count": null,
   "metadata": {
    "vscode": {
     "languageId": "r"
    }
   },
   "outputs": [],
   "source": [
    "pdf(paste0(plotpath, \"p_solid_cells_spiderplots_disease_type.pdf\"), width = 10, height = 13)\n",
    "cowplot::plot_grid(p_solid)\n",
    "dev.off()"
   ]
  },
  {
   "cell_type": "code",
   "execution_count": null,
   "metadata": {
    "vscode": {
     "languageId": "r"
    }
   },
   "outputs": [],
   "source": [
    "cancergroup <- \"Solid tumors\"\n",
    "\n",
    "mymat <- data.frame(\n",
    "    \"marker\" = rep(unique(pbmc1_long_ic$marker[pbmc1_long_ic$cancergroup == cancergroup]), 2),\n",
    "    \"x\" = NA, \"q10\" = NA, \"q90\" = NA\n",
    ")\n",
    "\n",
    "for (i in unique(pbmc1_long_ic$marker)) {\n",
    "    mymat$q10[mymat$marker == i] <- quantile(pbmc1_long_ic$Diff[pbmc1_long_ic$cancergroup == cancergroup &\n",
    "        pbmc1_long_ic$cycle != \"X01\" &\n",
    "        pbmc1_long_ic$marker == i], 0.1)\n",
    "    mymat$q90[mymat$marker == i] <- quantile(pbmc1_long_ic$Diff[pbmc1_long_ic$cancergroup == cancergroup &\n",
    "        pbmc1_long_ic$cycle != \"X01\" &\n",
    "        pbmc1_long_ic$marker == i], 0.9)\n",
    "    mymat$x[mymat$marker == i] <- c(-Inf, Inf)\n",
    "}\n"
   ]
  },
  {
   "cell_type": "code",
   "execution_count": null,
   "metadata": {
    "vscode": {
     "languageId": "r"
    }
   },
   "outputs": [],
   "source": [
    "p_solid_ic <- ggplot(pbmc1_long_ic[pbmc1_long_ic$cancergroup == \"Solid tumors\", ], aes(x = cycle, y = Diff)) +\n",
    "    geom_point(aes(color = factor(Relapse)), cex = 2) +\n",
    "    geom_line(aes(group = Patient, color = factor(Relapse))) +\n",
    "    scale_color_manual(values = c(\"0\" = \"blue\", \"1\" = \"red\"))  +\n",
    "    myplot +\n",
    "    myaxis +\n",
    "    theme(plot.margin = unit(c(0, 0, 0, 0.5), \"cm\"),\n",
    "        axis.text.x = element_blank(),\n",
    "        axis.title.x = element_blank(), legend.position = \"none\"\n",
    "    ) +\n",
    "        geom_ribbon(\n",
    "        data = mymat,\n",
    "        aes(x = x, y = NULL, ymin = q10, ymax = q90), alpha = 0.3, fill = \"light grey\"\n",
    "    ) +\n",
    "    facet_wrap(~marker+Disease_type, nrow = 3, scales = \"free_x\", strip.position = \"top\") +\n",
    "    theme(\n",
    "        axis.title.x = element_blank(),\n",
    "        legend.position = \"none\",\n",
    "        strip.text.x = element_text(size = 13),\n",
    "        strip.background.x = element_blank(),\n",
    "        strip.placement = \"outside\"\n",
    "    ) +\n",
    "    ylab(\"D Immune Checkpoint proteins\") +\n",
    "    scale_x_discrete(get_breaks(\"cycle\"),\n",
    "        labels = c(\"Pre-cycle 1\", \"Pre-cycle 2\", \"Pre-cycle 3\", \"Pre-cycle 4\", \"Pre-cycle 5\")\n",
    "    ) + geom_hline(yintercept = 0, linetype = \"dashed\", color = \"red\") "
   ]
  },
  {
   "cell_type": "code",
   "execution_count": null,
   "metadata": {
    "vscode": {
     "languageId": "r"
    }
   },
   "outputs": [],
   "source": [
    "pdf(paste0(plotpath, \"p_solid_ic_spiderplots_disease_type.pdf\"), width = 10, height = 8)\n",
    "cowplot::plot_grid(p_solid_ic)\n",
    "dev.off()\n"
   ]
  },
  {
   "cell_type": "markdown",
   "metadata": {},
   "source": [
    "## Specific observations"
   ]
  },
  {
   "cell_type": "markdown",
   "metadata": {},
   "source": [
    "Leu"
   ]
  },
  {
   "cell_type": "code",
   "execution_count": 41,
   "metadata": {
    "vscode": {
     "languageId": "r"
    }
   },
   "outputs": [
    {
     "data": {
      "text/html": [
       "<table class=\"dataframe\">\n",
       "<caption>A tibble: 6 x 9</caption>\n",
       "<thead>\n",
       "\t<tr><th scope=col>sample_id</th><th scope=col>Patient</th><th scope=col>cycle</th><th scope=col>cancergroup</th><th scope=col>Disease_type</th><th scope=col>Age</th><th scope=col>Relapse</th><th scope=col>marker</th><th scope=col>Diff</th></tr>\n",
       "\t<tr><th scope=col>&lt;chr&gt;</th><th scope=col>&lt;chr&gt;</th><th scope=col>&lt;chr&gt;</th><th scope=col>&lt;chr&gt;</th><th scope=col>&lt;chr&gt;</th><th scope=col>&lt;dbl&gt;</th><th scope=col>&lt;int&gt;</th><th scope=col>&lt;fct&gt;</th><th scope=col>&lt;dbl&gt;</th></tr>\n",
       "</thead>\n",
       "<tbody>\n",
       "\t<tr><td>CHP_343_02</td><td>CHP_343</td><td>X02</td><td>Solid tumors</td><td>EWS</td><td>8</td><td>0</td><td>Naïve%</td><td>-0.4361997</td></tr>\n",
       "\t<tr><td>CHP_343_02</td><td>CHP_343</td><td>X02</td><td>Solid tumors</td><td>EWS</td><td>8</td><td>0</td><td>SCM%  </td><td> 0.3956547</td></tr>\n",
       "\t<tr><td>CHP_343_02</td><td>CHP_343</td><td>X02</td><td>Solid tumors</td><td>EWS</td><td>8</td><td>0</td><td>CM%   </td><td> 0.8951589</td></tr>\n",
       "\t<tr><td>CHP_343_02</td><td>CHP_343</td><td>X02</td><td>Solid tumors</td><td>EWS</td><td>8</td><td>0</td><td>EM%   </td><td> 0.1928534</td></tr>\n",
       "\t<tr><td>CHP_343_02</td><td>CHP_343</td><td>X02</td><td>Solid tumors</td><td>EWS</td><td>8</td><td>0</td><td>TE%   </td><td>-0.4029691</td></tr>\n",
       "\t<tr><td>CHP_343_03</td><td>CHP_343</td><td>X03</td><td>Solid tumors</td><td>EWS</td><td>8</td><td>0</td><td>Naïve%</td><td>-0.4251171</td></tr>\n",
       "</tbody>\n",
       "</table>\n"
      ],
      "text/latex": [
       "A tibble: 6 x 9\n",
       "\\begin{tabular}{lllllllll}\n",
       " sample\\_id & Patient & cycle & cancergroup & Disease\\_type & Age & Relapse & marker & Diff\\\\\n",
       " <chr> & <chr> & <chr> & <chr> & <chr> & <dbl> & <int> & <fct> & <dbl>\\\\\n",
       "\\hline\n",
       "\t CHP\\_343\\_02 & CHP\\_343 & X02 & Solid tumors & EWS & 8 & 0 & Naïve\\% & -0.4361997\\\\\n",
       "\t CHP\\_343\\_02 & CHP\\_343 & X02 & Solid tumors & EWS & 8 & 0 & SCM\\%   &  0.3956547\\\\\n",
       "\t CHP\\_343\\_02 & CHP\\_343 & X02 & Solid tumors & EWS & 8 & 0 & CM\\%    &  0.8951589\\\\\n",
       "\t CHP\\_343\\_02 & CHP\\_343 & X02 & Solid tumors & EWS & 8 & 0 & EM\\%    &  0.1928534\\\\\n",
       "\t CHP\\_343\\_02 & CHP\\_343 & X02 & Solid tumors & EWS & 8 & 0 & TE\\%    & -0.4029691\\\\\n",
       "\t CHP\\_343\\_03 & CHP\\_343 & X03 & Solid tumors & EWS & 8 & 0 & Naïve\\% & -0.4251171\\\\\n",
       "\\end{tabular}\n"
      ],
      "text/markdown": [
       "\n",
       "A tibble: 6 x 9\n",
       "\n",
       "| sample_id &lt;chr&gt; | Patient &lt;chr&gt; | cycle &lt;chr&gt; | cancergroup &lt;chr&gt; | Disease_type &lt;chr&gt; | Age &lt;dbl&gt; | Relapse &lt;int&gt; | marker &lt;fct&gt; | Diff &lt;dbl&gt; |\n",
       "|---|---|---|---|---|---|---|---|---|\n",
       "| CHP_343_02 | CHP_343 | X02 | Solid tumors | EWS | 8 | 0 | Naïve% | -0.4361997 |\n",
       "| CHP_343_02 | CHP_343 | X02 | Solid tumors | EWS | 8 | 0 | SCM%   |  0.3956547 |\n",
       "| CHP_343_02 | CHP_343 | X02 | Solid tumors | EWS | 8 | 0 | CM%    |  0.8951589 |\n",
       "| CHP_343_02 | CHP_343 | X02 | Solid tumors | EWS | 8 | 0 | EM%    |  0.1928534 |\n",
       "| CHP_343_02 | CHP_343 | X02 | Solid tumors | EWS | 8 | 0 | TE%    | -0.4029691 |\n",
       "| CHP_343_03 | CHP_343 | X03 | Solid tumors | EWS | 8 | 0 | Naïve% | -0.4251171 |\n",
       "\n"
      ],
      "text/plain": [
       "  sample_id  Patient cycle cancergroup  Disease_type Age Relapse marker\n",
       "1 CHP_343_02 CHP_343 X02   Solid tumors EWS          8   0       Naïve%\n",
       "2 CHP_343_02 CHP_343 X02   Solid tumors EWS          8   0       SCM%  \n",
       "3 CHP_343_02 CHP_343 X02   Solid tumors EWS          8   0       CM%   \n",
       "4 CHP_343_02 CHP_343 X02   Solid tumors EWS          8   0       EM%   \n",
       "5 CHP_343_02 CHP_343 X02   Solid tumors EWS          8   0       TE%   \n",
       "6 CHP_343_03 CHP_343 X03   Solid tumors EWS          8   0       Naïve%\n",
       "  Diff      \n",
       "1 -0.4361997\n",
       "2  0.3956547\n",
       "3  0.8951589\n",
       "4  0.1928534\n",
       "5 -0.4029691\n",
       "6 -0.4251171"
      ]
     },
     "metadata": {},
     "output_type": "display_data"
    }
   ],
   "source": [
    "head(pbmc1_long_cells)"
   ]
  },
  {
   "cell_type": "code",
   "execution_count": 42,
   "metadata": {
    "vscode": {
     "languageId": "r"
    }
   },
   "outputs": [],
   "source": [
    "pbmc1_long_cells$marker <- as.character(pbmc1_long_cells$marker)"
   ]
  },
  {
   "cell_type": "code",
   "execution_count": 43,
   "metadata": {
    "vscode": {
     "languageId": "r"
    }
   },
   "outputs": [],
   "source": [
    "tmp1 <- pbmc1_long_cells[pbmc1_long_cells$Disease_type %in% c(\"ALL\", \"HR ALL\") &\n",
    "    pbmc1_long_cells$marker %in% c(\"Naïve%\", \"CM%\"), ]"
   ]
  },
  {
   "cell_type": "code",
   "execution_count": 44,
   "metadata": {
    "vscode": {
     "languageId": "r"
    }
   },
   "outputs": [],
   "source": [
    "tmp1$marker <- factor(tmp1$marker, levels = c(\"Naïve%\", \"CM%\"))"
   ]
  },
  {
   "cell_type": "code",
   "execution_count": 49,
   "metadata": {
    "vscode": {
     "languageId": "r"
    }
   },
   "outputs": [
    {
     "data": {
      "text/html": [
       "<table class=\"dataframe\">\n",
       "<caption>A tibble: 48 x 9</caption>\n",
       "<thead>\n",
       "\t<tr><th scope=col>sample_id</th><th scope=col>Patient</th><th scope=col>cycle</th><th scope=col>cancergroup</th><th scope=col>Disease_type</th><th scope=col>Age</th><th scope=col>Relapse</th><th scope=col>marker</th><th scope=col>Diff</th></tr>\n",
       "\t<tr><th scope=col>&lt;chr&gt;</th><th scope=col>&lt;chr&gt;</th><th scope=col>&lt;chr&gt;</th><th scope=col>&lt;chr&gt;</th><th scope=col>&lt;chr&gt;</th><th scope=col>&lt;dbl&gt;</th><th scope=col>&lt;int&gt;</th><th scope=col>&lt;fct&gt;</th><th scope=col>&lt;dbl&gt;</th></tr>\n",
       "</thead>\n",
       "<tbody>\n",
       "\t<tr><td>CHP_347_01</td><td>CHP_347</td><td>X01</td><td>Leukemia</td><td>ALL   </td><td>13</td><td>0</td><td>CM%</td><td> 0.000000000</td></tr>\n",
       "\t<tr><td>CHP_347_02</td><td>CHP_347</td><td>X02</td><td>Leukemia</td><td>ALL   </td><td>13</td><td>0</td><td>CM%</td><td> 0.468484512</td></tr>\n",
       "\t<tr><td>CHP_347_03</td><td>CHP_347</td><td>X03</td><td>Leukemia</td><td>ALL   </td><td>13</td><td>0</td><td>CM%</td><td> 2.364981208</td></tr>\n",
       "\t<tr><td>CHP_347_04</td><td>CHP_347</td><td>X04</td><td>Leukemia</td><td>ALL   </td><td>13</td><td>0</td><td>CM%</td><td> 3.836434463</td></tr>\n",
       "\t<tr><td>CHP_347_05</td><td>CHP_347</td><td>X05</td><td>Leukemia</td><td>ALL   </td><td>13</td><td>0</td><td>CM%</td><td> 0.032589433</td></tr>\n",
       "\t<tr><td>CHP_367_01</td><td>CHP_367</td><td>X01</td><td>Leukemia</td><td>HR ALL</td><td>14</td><td>0</td><td>CM%</td><td> 0.000000000</td></tr>\n",
       "\t<tr><td>CHP_373_01</td><td>CHP_373</td><td>X01</td><td>Leukemia</td><td>ALL   </td><td> 2</td><td>0</td><td>CM%</td><td> 0.000000000</td></tr>\n",
       "\t<tr><td>CHP_378_01</td><td>CHP_378</td><td>X01</td><td>Leukemia</td><td>ALL   </td><td> 1</td><td>0</td><td>CM%</td><td> 0.000000000</td></tr>\n",
       "\t<tr><td>CHP_378_04</td><td>CHP_378</td><td>X04</td><td>Leukemia</td><td>ALL   </td><td> 1</td><td>0</td><td>CM%</td><td>-0.007732284</td></tr>\n",
       "\t<tr><td>CHP_383_03</td><td>CHP_383</td><td>X03</td><td>Leukemia</td><td>ALL   </td><td> 8</td><td>0</td><td>CM%</td><td>-1.487610976</td></tr>\n",
       "\t<tr><td>CHP_383_05</td><td>CHP_383</td><td>X05</td><td>Leukemia</td><td>ALL   </td><td> 8</td><td>0</td><td>CM%</td><td>-1.440268123</td></tr>\n",
       "\t<tr><td>CHP_391_02</td><td>CHP_391</td><td>X02</td><td>Leukemia</td><td>HR ALL</td><td>10</td><td>0</td><td>CM%</td><td>-0.052219841</td></tr>\n",
       "\t<tr><td>CHP_391_03</td><td>CHP_391</td><td>X03</td><td>Leukemia</td><td>HR ALL</td><td>10</td><td>0</td><td>CM%</td><td> 1.026980750</td></tr>\n",
       "\t<tr><td>CHP_396_01</td><td>CHP_396</td><td>X01</td><td>Leukemia</td><td>HR ALL</td><td> 1</td><td>0</td><td>CM%</td><td> 0.000000000</td></tr>\n",
       "\t<tr><td>CHP_396_02</td><td>CHP_396</td><td>X02</td><td>Leukemia</td><td>HR ALL</td><td> 1</td><td>0</td><td>CM%</td><td> 1.149126634</td></tr>\n",
       "\t<tr><td>CHP_397_01</td><td>CHP_397</td><td>X01</td><td>Leukemia</td><td>ALL   </td><td> 2</td><td>0</td><td>CM%</td><td> 0.000000000</td></tr>\n",
       "\t<tr><td>CHP_397_05</td><td>CHP_397</td><td>X05</td><td>Leukemia</td><td>ALL   </td><td> 2</td><td>0</td><td>CM%</td><td> 0.001860494</td></tr>\n",
       "\t<tr><td>CHP_398_04</td><td>CHP_398</td><td>X04</td><td>Leukemia</td><td>ALL   </td><td> 6</td><td>0</td><td>CM%</td><td>-0.231129935</td></tr>\n",
       "\t<tr><td>CHP_398_05</td><td>CHP_398</td><td>X05</td><td>Leukemia</td><td>ALL   </td><td> 6</td><td>0</td><td>CM%</td><td> 0.293837001</td></tr>\n",
       "\t<tr><td>CHP_399_01</td><td>CHP_399</td><td>X01</td><td>Leukemia</td><td>HR ALL</td><td> 2</td><td>0</td><td>CM%</td><td> 0.000000000</td></tr>\n",
       "\t<tr><td>CHP_399_02</td><td>CHP_399</td><td>X02</td><td>Leukemia</td><td>HR ALL</td><td> 2</td><td>0</td><td>CM%</td><td> 0.235737649</td></tr>\n",
       "\t<tr><td>CHP_399_03</td><td>CHP_399</td><td>X03</td><td>Leukemia</td><td>HR ALL</td><td> 2</td><td>0</td><td>CM%</td><td>-0.010609031</td></tr>\n",
       "\t<tr><td>CHP_402_02</td><td>CHP_402</td><td>X02</td><td>Leukemia</td><td>HR ALL</td><td> 9</td><td>1</td><td>CM%</td><td>-0.065875367</td></tr>\n",
       "\t<tr><td>CHP_402_03</td><td>CHP_402</td><td>X03</td><td>Leukemia</td><td>HR ALL</td><td> 9</td><td>1</td><td>CM%</td><td> 4.121510621</td></tr>\n",
       "\t<tr><td>CHP_410_01</td><td>CHP_410</td><td>X01</td><td>Leukemia</td><td>ALL   </td><td> 1</td><td>0</td><td>CM%</td><td> 0.000000000</td></tr>\n",
       "\t<tr><td>CHP_420_01</td><td>CHP_420</td><td>X01</td><td>Leukemia</td><td>ALL   </td><td> 2</td><td>0</td><td>CM%</td><td> 0.000000000</td></tr>\n",
       "\t<tr><td>CHP_367_05</td><td>CHP_367</td><td>X05</td><td>Leukemia</td><td>HR ALL</td><td>14</td><td>0</td><td>CM%</td><td> 0.077750730</td></tr>\n",
       "\t<tr><td>CHP_373_04</td><td>CHP_373</td><td>X04</td><td>Leukemia</td><td>ALL   </td><td> 2</td><td>0</td><td>CM%</td><td> 0.335808661</td></tr>\n",
       "\t<tr><td>CHP_373_05</td><td>CHP_373</td><td>X05</td><td>Leukemia</td><td>ALL   </td><td> 2</td><td>0</td><td>CM%</td><td> 0.147612018</td></tr>\n",
       "\t<tr><td>CHP_378_05</td><td>CHP_378</td><td>X05</td><td>Leukemia</td><td>ALL   </td><td> 1</td><td>0</td><td>CM%</td><td>-0.065616986</td></tr>\n",
       "\t<tr><td>CHP_383_01</td><td>CHP_383</td><td>X01</td><td>Leukemia</td><td>ALL   </td><td> 8</td><td>0</td><td>CM%</td><td> 0.000000000</td></tr>\n",
       "\t<tr><td>CHP_383_04</td><td>CHP_383</td><td>X04</td><td>Leukemia</td><td>ALL   </td><td> 8</td><td>0</td><td>CM%</td><td>-1.092301765</td></tr>\n",
       "\t<tr><td>CHP_391_01</td><td>CHP_391</td><td>X01</td><td>Leukemia</td><td>HR ALL</td><td>10</td><td>0</td><td>CM%</td><td> 0.000000000</td></tr>\n",
       "\t<tr><td>CHP_392_01</td><td>CHP_392</td><td>X01</td><td>Leukemia</td><td>ALL   </td><td> 8</td><td>0</td><td>CM%</td><td> 0.000000000</td></tr>\n",
       "\t<tr><td>CHP_392_03</td><td>CHP_392</td><td>X03</td><td>Leukemia</td><td>ALL   </td><td> 8</td><td>0</td><td>CM%</td><td>-0.450952198</td></tr>\n",
       "\t<tr><td>CHP_398_01</td><td>CHP_398</td><td>X01</td><td>Leukemia</td><td>ALL   </td><td> 6</td><td>0</td><td>CM%</td><td> 0.000000000</td></tr>\n",
       "\t<tr><td>CHP_398_03</td><td>CHP_398</td><td>X03</td><td>Leukemia</td><td>ALL   </td><td> 6</td><td>0</td><td>CM%</td><td>-0.265991445</td></tr>\n",
       "\t<tr><td>CHP_402_01</td><td>CHP_402</td><td>X01</td><td>Leukemia</td><td>HR ALL</td><td> 9</td><td>1</td><td>CM%</td><td> 0.000000000</td></tr>\n",
       "\t<tr><td>CHP_410_04</td><td>CHP_410</td><td>X04</td><td>Leukemia</td><td>ALL   </td><td> 1</td><td>0</td><td>CM%</td><td> 0.527504896</td></tr>\n",
       "\t<tr><td>CHP_420_02</td><td>CHP_420</td><td>X02</td><td>Leukemia</td><td>ALL   </td><td> 2</td><td>0</td><td>CM%</td><td> 0.141912111</td></tr>\n",
       "\t<tr><td>CHP_420_03</td><td>CHP_420</td><td>X03</td><td>Leukemia</td><td>ALL   </td><td> 2</td><td>0</td><td>CM%</td><td> 0.240613605</td></tr>\n",
       "\t<tr><td>CHP_421_01</td><td>CHP_421</td><td>X01</td><td>Leukemia</td><td>ALL   </td><td> 8</td><td>0</td><td>CM%</td><td> 0.000000000</td></tr>\n",
       "\t<tr><td>CHP_421_02</td><td>CHP_421</td><td>X02</td><td>Leukemia</td><td>ALL   </td><td> 8</td><td>0</td><td>CM%</td><td> 0.121545143</td></tr>\n",
       "\t<tr><td>CHP_421_03</td><td>CHP_421</td><td>X03</td><td>Leukemia</td><td>ALL   </td><td> 8</td><td>0</td><td>CM%</td><td> 0.121911717</td></tr>\n",
       "\t<tr><td>CHP_424_01</td><td>CHP_424</td><td>X01</td><td>Leukemia</td><td>ALL   </td><td> 1</td><td>0</td><td>CM%</td><td> 0.000000000</td></tr>\n",
       "\t<tr><td>CHP_424_02</td><td>CHP_424</td><td>X02</td><td>Leukemia</td><td>ALL   </td><td> 1</td><td>0</td><td>CM%</td><td> 0.341056946</td></tr>\n",
       "\t<tr><td>CHP_428_01</td><td>CHP_428</td><td>X01</td><td>Leukemia</td><td>ALL   </td><td> 3</td><td>0</td><td>CM%</td><td> 0.000000000</td></tr>\n",
       "\t<tr><td>CHP_428_02</td><td>CHP_428</td><td>X02</td><td>Leukemia</td><td>ALL   </td><td> 3</td><td>0</td><td>CM%</td><td> 0.805375653</td></tr>\n",
       "</tbody>\n",
       "</table>\n"
      ],
      "text/latex": [
       "A tibble: 48 x 9\n",
       "\\begin{tabular}{lllllllll}\n",
       " sample\\_id & Patient & cycle & cancergroup & Disease\\_type & Age & Relapse & marker & Diff\\\\\n",
       " <chr> & <chr> & <chr> & <chr> & <chr> & <dbl> & <int> & <fct> & <dbl>\\\\\n",
       "\\hline\n",
       "\t CHP\\_347\\_01 & CHP\\_347 & X01 & Leukemia & ALL    & 13 & 0 & CM\\% &  0.000000000\\\\\n",
       "\t CHP\\_347\\_02 & CHP\\_347 & X02 & Leukemia & ALL    & 13 & 0 & CM\\% &  0.468484512\\\\\n",
       "\t CHP\\_347\\_03 & CHP\\_347 & X03 & Leukemia & ALL    & 13 & 0 & CM\\% &  2.364981208\\\\\n",
       "\t CHP\\_347\\_04 & CHP\\_347 & X04 & Leukemia & ALL    & 13 & 0 & CM\\% &  3.836434463\\\\\n",
       "\t CHP\\_347\\_05 & CHP\\_347 & X05 & Leukemia & ALL    & 13 & 0 & CM\\% &  0.032589433\\\\\n",
       "\t CHP\\_367\\_01 & CHP\\_367 & X01 & Leukemia & HR ALL & 14 & 0 & CM\\% &  0.000000000\\\\\n",
       "\t CHP\\_373\\_01 & CHP\\_373 & X01 & Leukemia & ALL    &  2 & 0 & CM\\% &  0.000000000\\\\\n",
       "\t CHP\\_378\\_01 & CHP\\_378 & X01 & Leukemia & ALL    &  1 & 0 & CM\\% &  0.000000000\\\\\n",
       "\t CHP\\_378\\_04 & CHP\\_378 & X04 & Leukemia & ALL    &  1 & 0 & CM\\% & -0.007732284\\\\\n",
       "\t CHP\\_383\\_03 & CHP\\_383 & X03 & Leukemia & ALL    &  8 & 0 & CM\\% & -1.487610976\\\\\n",
       "\t CHP\\_383\\_05 & CHP\\_383 & X05 & Leukemia & ALL    &  8 & 0 & CM\\% & -1.440268123\\\\\n",
       "\t CHP\\_391\\_02 & CHP\\_391 & X02 & Leukemia & HR ALL & 10 & 0 & CM\\% & -0.052219841\\\\\n",
       "\t CHP\\_391\\_03 & CHP\\_391 & X03 & Leukemia & HR ALL & 10 & 0 & CM\\% &  1.026980750\\\\\n",
       "\t CHP\\_396\\_01 & CHP\\_396 & X01 & Leukemia & HR ALL &  1 & 0 & CM\\% &  0.000000000\\\\\n",
       "\t CHP\\_396\\_02 & CHP\\_396 & X02 & Leukemia & HR ALL &  1 & 0 & CM\\% &  1.149126634\\\\\n",
       "\t CHP\\_397\\_01 & CHP\\_397 & X01 & Leukemia & ALL    &  2 & 0 & CM\\% &  0.000000000\\\\\n",
       "\t CHP\\_397\\_05 & CHP\\_397 & X05 & Leukemia & ALL    &  2 & 0 & CM\\% &  0.001860494\\\\\n",
       "\t CHP\\_398\\_04 & CHP\\_398 & X04 & Leukemia & ALL    &  6 & 0 & CM\\% & -0.231129935\\\\\n",
       "\t CHP\\_398\\_05 & CHP\\_398 & X05 & Leukemia & ALL    &  6 & 0 & CM\\% &  0.293837001\\\\\n",
       "\t CHP\\_399\\_01 & CHP\\_399 & X01 & Leukemia & HR ALL &  2 & 0 & CM\\% &  0.000000000\\\\\n",
       "\t CHP\\_399\\_02 & CHP\\_399 & X02 & Leukemia & HR ALL &  2 & 0 & CM\\% &  0.235737649\\\\\n",
       "\t CHP\\_399\\_03 & CHP\\_399 & X03 & Leukemia & HR ALL &  2 & 0 & CM\\% & -0.010609031\\\\\n",
       "\t CHP\\_402\\_02 & CHP\\_402 & X02 & Leukemia & HR ALL &  9 & 1 & CM\\% & -0.065875367\\\\\n",
       "\t CHP\\_402\\_03 & CHP\\_402 & X03 & Leukemia & HR ALL &  9 & 1 & CM\\% &  4.121510621\\\\\n",
       "\t CHP\\_410\\_01 & CHP\\_410 & X01 & Leukemia & ALL    &  1 & 0 & CM\\% &  0.000000000\\\\\n",
       "\t CHP\\_420\\_01 & CHP\\_420 & X01 & Leukemia & ALL    &  2 & 0 & CM\\% &  0.000000000\\\\\n",
       "\t CHP\\_367\\_05 & CHP\\_367 & X05 & Leukemia & HR ALL & 14 & 0 & CM\\% &  0.077750730\\\\\n",
       "\t CHP\\_373\\_04 & CHP\\_373 & X04 & Leukemia & ALL    &  2 & 0 & CM\\% &  0.335808661\\\\\n",
       "\t CHP\\_373\\_05 & CHP\\_373 & X05 & Leukemia & ALL    &  2 & 0 & CM\\% &  0.147612018\\\\\n",
       "\t CHP\\_378\\_05 & CHP\\_378 & X05 & Leukemia & ALL    &  1 & 0 & CM\\% & -0.065616986\\\\\n",
       "\t CHP\\_383\\_01 & CHP\\_383 & X01 & Leukemia & ALL    &  8 & 0 & CM\\% &  0.000000000\\\\\n",
       "\t CHP\\_383\\_04 & CHP\\_383 & X04 & Leukemia & ALL    &  8 & 0 & CM\\% & -1.092301765\\\\\n",
       "\t CHP\\_391\\_01 & CHP\\_391 & X01 & Leukemia & HR ALL & 10 & 0 & CM\\% &  0.000000000\\\\\n",
       "\t CHP\\_392\\_01 & CHP\\_392 & X01 & Leukemia & ALL    &  8 & 0 & CM\\% &  0.000000000\\\\\n",
       "\t CHP\\_392\\_03 & CHP\\_392 & X03 & Leukemia & ALL    &  8 & 0 & CM\\% & -0.450952198\\\\\n",
       "\t CHP\\_398\\_01 & CHP\\_398 & X01 & Leukemia & ALL    &  6 & 0 & CM\\% &  0.000000000\\\\\n",
       "\t CHP\\_398\\_03 & CHP\\_398 & X03 & Leukemia & ALL    &  6 & 0 & CM\\% & -0.265991445\\\\\n",
       "\t CHP\\_402\\_01 & CHP\\_402 & X01 & Leukemia & HR ALL &  9 & 1 & CM\\% &  0.000000000\\\\\n",
       "\t CHP\\_410\\_04 & CHP\\_410 & X04 & Leukemia & ALL    &  1 & 0 & CM\\% &  0.527504896\\\\\n",
       "\t CHP\\_420\\_02 & CHP\\_420 & X02 & Leukemia & ALL    &  2 & 0 & CM\\% &  0.141912111\\\\\n",
       "\t CHP\\_420\\_03 & CHP\\_420 & X03 & Leukemia & ALL    &  2 & 0 & CM\\% &  0.240613605\\\\\n",
       "\t CHP\\_421\\_01 & CHP\\_421 & X01 & Leukemia & ALL    &  8 & 0 & CM\\% &  0.000000000\\\\\n",
       "\t CHP\\_421\\_02 & CHP\\_421 & X02 & Leukemia & ALL    &  8 & 0 & CM\\% &  0.121545143\\\\\n",
       "\t CHP\\_421\\_03 & CHP\\_421 & X03 & Leukemia & ALL    &  8 & 0 & CM\\% &  0.121911717\\\\\n",
       "\t CHP\\_424\\_01 & CHP\\_424 & X01 & Leukemia & ALL    &  1 & 0 & CM\\% &  0.000000000\\\\\n",
       "\t CHP\\_424\\_02 & CHP\\_424 & X02 & Leukemia & ALL    &  1 & 0 & CM\\% &  0.341056946\\\\\n",
       "\t CHP\\_428\\_01 & CHP\\_428 & X01 & Leukemia & ALL    &  3 & 0 & CM\\% &  0.000000000\\\\\n",
       "\t CHP\\_428\\_02 & CHP\\_428 & X02 & Leukemia & ALL    &  3 & 0 & CM\\% &  0.805375653\\\\\n",
       "\\end{tabular}\n"
      ],
      "text/markdown": [
       "\n",
       "A tibble: 48 x 9\n",
       "\n",
       "| sample_id &lt;chr&gt; | Patient &lt;chr&gt; | cycle &lt;chr&gt; | cancergroup &lt;chr&gt; | Disease_type &lt;chr&gt; | Age &lt;dbl&gt; | Relapse &lt;int&gt; | marker &lt;fct&gt; | Diff &lt;dbl&gt; |\n",
       "|---|---|---|---|---|---|---|---|---|\n",
       "| CHP_347_01 | CHP_347 | X01 | Leukemia | ALL    | 13 | 0 | CM% |  0.000000000 |\n",
       "| CHP_347_02 | CHP_347 | X02 | Leukemia | ALL    | 13 | 0 | CM% |  0.468484512 |\n",
       "| CHP_347_03 | CHP_347 | X03 | Leukemia | ALL    | 13 | 0 | CM% |  2.364981208 |\n",
       "| CHP_347_04 | CHP_347 | X04 | Leukemia | ALL    | 13 | 0 | CM% |  3.836434463 |\n",
       "| CHP_347_05 | CHP_347 | X05 | Leukemia | ALL    | 13 | 0 | CM% |  0.032589433 |\n",
       "| CHP_367_01 | CHP_367 | X01 | Leukemia | HR ALL | 14 | 0 | CM% |  0.000000000 |\n",
       "| CHP_373_01 | CHP_373 | X01 | Leukemia | ALL    |  2 | 0 | CM% |  0.000000000 |\n",
       "| CHP_378_01 | CHP_378 | X01 | Leukemia | ALL    |  1 | 0 | CM% |  0.000000000 |\n",
       "| CHP_378_04 | CHP_378 | X04 | Leukemia | ALL    |  1 | 0 | CM% | -0.007732284 |\n",
       "| CHP_383_03 | CHP_383 | X03 | Leukemia | ALL    |  8 | 0 | CM% | -1.487610976 |\n",
       "| CHP_383_05 | CHP_383 | X05 | Leukemia | ALL    |  8 | 0 | CM% | -1.440268123 |\n",
       "| CHP_391_02 | CHP_391 | X02 | Leukemia | HR ALL | 10 | 0 | CM% | -0.052219841 |\n",
       "| CHP_391_03 | CHP_391 | X03 | Leukemia | HR ALL | 10 | 0 | CM% |  1.026980750 |\n",
       "| CHP_396_01 | CHP_396 | X01 | Leukemia | HR ALL |  1 | 0 | CM% |  0.000000000 |\n",
       "| CHP_396_02 | CHP_396 | X02 | Leukemia | HR ALL |  1 | 0 | CM% |  1.149126634 |\n",
       "| CHP_397_01 | CHP_397 | X01 | Leukemia | ALL    |  2 | 0 | CM% |  0.000000000 |\n",
       "| CHP_397_05 | CHP_397 | X05 | Leukemia | ALL    |  2 | 0 | CM% |  0.001860494 |\n",
       "| CHP_398_04 | CHP_398 | X04 | Leukemia | ALL    |  6 | 0 | CM% | -0.231129935 |\n",
       "| CHP_398_05 | CHP_398 | X05 | Leukemia | ALL    |  6 | 0 | CM% |  0.293837001 |\n",
       "| CHP_399_01 | CHP_399 | X01 | Leukemia | HR ALL |  2 | 0 | CM% |  0.000000000 |\n",
       "| CHP_399_02 | CHP_399 | X02 | Leukemia | HR ALL |  2 | 0 | CM% |  0.235737649 |\n",
       "| CHP_399_03 | CHP_399 | X03 | Leukemia | HR ALL |  2 | 0 | CM% | -0.010609031 |\n",
       "| CHP_402_02 | CHP_402 | X02 | Leukemia | HR ALL |  9 | 1 | CM% | -0.065875367 |\n",
       "| CHP_402_03 | CHP_402 | X03 | Leukemia | HR ALL |  9 | 1 | CM% |  4.121510621 |\n",
       "| CHP_410_01 | CHP_410 | X01 | Leukemia | ALL    |  1 | 0 | CM% |  0.000000000 |\n",
       "| CHP_420_01 | CHP_420 | X01 | Leukemia | ALL    |  2 | 0 | CM% |  0.000000000 |\n",
       "| CHP_367_05 | CHP_367 | X05 | Leukemia | HR ALL | 14 | 0 | CM% |  0.077750730 |\n",
       "| CHP_373_04 | CHP_373 | X04 | Leukemia | ALL    |  2 | 0 | CM% |  0.335808661 |\n",
       "| CHP_373_05 | CHP_373 | X05 | Leukemia | ALL    |  2 | 0 | CM% |  0.147612018 |\n",
       "| CHP_378_05 | CHP_378 | X05 | Leukemia | ALL    |  1 | 0 | CM% | -0.065616986 |\n",
       "| CHP_383_01 | CHP_383 | X01 | Leukemia | ALL    |  8 | 0 | CM% |  0.000000000 |\n",
       "| CHP_383_04 | CHP_383 | X04 | Leukemia | ALL    |  8 | 0 | CM% | -1.092301765 |\n",
       "| CHP_391_01 | CHP_391 | X01 | Leukemia | HR ALL | 10 | 0 | CM% |  0.000000000 |\n",
       "| CHP_392_01 | CHP_392 | X01 | Leukemia | ALL    |  8 | 0 | CM% |  0.000000000 |\n",
       "| CHP_392_03 | CHP_392 | X03 | Leukemia | ALL    |  8 | 0 | CM% | -0.450952198 |\n",
       "| CHP_398_01 | CHP_398 | X01 | Leukemia | ALL    |  6 | 0 | CM% |  0.000000000 |\n",
       "| CHP_398_03 | CHP_398 | X03 | Leukemia | ALL    |  6 | 0 | CM% | -0.265991445 |\n",
       "| CHP_402_01 | CHP_402 | X01 | Leukemia | HR ALL |  9 | 1 | CM% |  0.000000000 |\n",
       "| CHP_410_04 | CHP_410 | X04 | Leukemia | ALL    |  1 | 0 | CM% |  0.527504896 |\n",
       "| CHP_420_02 | CHP_420 | X02 | Leukemia | ALL    |  2 | 0 | CM% |  0.141912111 |\n",
       "| CHP_420_03 | CHP_420 | X03 | Leukemia | ALL    |  2 | 0 | CM% |  0.240613605 |\n",
       "| CHP_421_01 | CHP_421 | X01 | Leukemia | ALL    |  8 | 0 | CM% |  0.000000000 |\n",
       "| CHP_421_02 | CHP_421 | X02 | Leukemia | ALL    |  8 | 0 | CM% |  0.121545143 |\n",
       "| CHP_421_03 | CHP_421 | X03 | Leukemia | ALL    |  8 | 0 | CM% |  0.121911717 |\n",
       "| CHP_424_01 | CHP_424 | X01 | Leukemia | ALL    |  1 | 0 | CM% |  0.000000000 |\n",
       "| CHP_424_02 | CHP_424 | X02 | Leukemia | ALL    |  1 | 0 | CM% |  0.341056946 |\n",
       "| CHP_428_01 | CHP_428 | X01 | Leukemia | ALL    |  3 | 0 | CM% |  0.000000000 |\n",
       "| CHP_428_02 | CHP_428 | X02 | Leukemia | ALL    |  3 | 0 | CM% |  0.805375653 |\n",
       "\n"
      ],
      "text/plain": [
       "   sample_id  Patient cycle cancergroup Disease_type Age Relapse marker\n",
       "1  CHP_347_01 CHP_347 X01   Leukemia    ALL          13  0       CM%   \n",
       "2  CHP_347_02 CHP_347 X02   Leukemia    ALL          13  0       CM%   \n",
       "3  CHP_347_03 CHP_347 X03   Leukemia    ALL          13  0       CM%   \n",
       "4  CHP_347_04 CHP_347 X04   Leukemia    ALL          13  0       CM%   \n",
       "5  CHP_347_05 CHP_347 X05   Leukemia    ALL          13  0       CM%   \n",
       "6  CHP_367_01 CHP_367 X01   Leukemia    HR ALL       14  0       CM%   \n",
       "7  CHP_373_01 CHP_373 X01   Leukemia    ALL           2  0       CM%   \n",
       "8  CHP_378_01 CHP_378 X01   Leukemia    ALL           1  0       CM%   \n",
       "9  CHP_378_04 CHP_378 X04   Leukemia    ALL           1  0       CM%   \n",
       "10 CHP_383_03 CHP_383 X03   Leukemia    ALL           8  0       CM%   \n",
       "11 CHP_383_05 CHP_383 X05   Leukemia    ALL           8  0       CM%   \n",
       "12 CHP_391_02 CHP_391 X02   Leukemia    HR ALL       10  0       CM%   \n",
       "13 CHP_391_03 CHP_391 X03   Leukemia    HR ALL       10  0       CM%   \n",
       "14 CHP_396_01 CHP_396 X01   Leukemia    HR ALL        1  0       CM%   \n",
       "15 CHP_396_02 CHP_396 X02   Leukemia    HR ALL        1  0       CM%   \n",
       "16 CHP_397_01 CHP_397 X01   Leukemia    ALL           2  0       CM%   \n",
       "17 CHP_397_05 CHP_397 X05   Leukemia    ALL           2  0       CM%   \n",
       "18 CHP_398_04 CHP_398 X04   Leukemia    ALL           6  0       CM%   \n",
       "19 CHP_398_05 CHP_398 X05   Leukemia    ALL           6  0       CM%   \n",
       "20 CHP_399_01 CHP_399 X01   Leukemia    HR ALL        2  0       CM%   \n",
       "21 CHP_399_02 CHP_399 X02   Leukemia    HR ALL        2  0       CM%   \n",
       "22 CHP_399_03 CHP_399 X03   Leukemia    HR ALL        2  0       CM%   \n",
       "23 CHP_402_02 CHP_402 X02   Leukemia    HR ALL        9  1       CM%   \n",
       "24 CHP_402_03 CHP_402 X03   Leukemia    HR ALL        9  1       CM%   \n",
       "25 CHP_410_01 CHP_410 X01   Leukemia    ALL           1  0       CM%   \n",
       "26 CHP_420_01 CHP_420 X01   Leukemia    ALL           2  0       CM%   \n",
       "27 CHP_367_05 CHP_367 X05   Leukemia    HR ALL       14  0       CM%   \n",
       "28 CHP_373_04 CHP_373 X04   Leukemia    ALL           2  0       CM%   \n",
       "29 CHP_373_05 CHP_373 X05   Leukemia    ALL           2  0       CM%   \n",
       "30 CHP_378_05 CHP_378 X05   Leukemia    ALL           1  0       CM%   \n",
       "31 CHP_383_01 CHP_383 X01   Leukemia    ALL           8  0       CM%   \n",
       "32 CHP_383_04 CHP_383 X04   Leukemia    ALL           8  0       CM%   \n",
       "33 CHP_391_01 CHP_391 X01   Leukemia    HR ALL       10  0       CM%   \n",
       "34 CHP_392_01 CHP_392 X01   Leukemia    ALL           8  0       CM%   \n",
       "35 CHP_392_03 CHP_392 X03   Leukemia    ALL           8  0       CM%   \n",
       "36 CHP_398_01 CHP_398 X01   Leukemia    ALL           6  0       CM%   \n",
       "37 CHP_398_03 CHP_398 X03   Leukemia    ALL           6  0       CM%   \n",
       "38 CHP_402_01 CHP_402 X01   Leukemia    HR ALL        9  1       CM%   \n",
       "39 CHP_410_04 CHP_410 X04   Leukemia    ALL           1  0       CM%   \n",
       "40 CHP_420_02 CHP_420 X02   Leukemia    ALL           2  0       CM%   \n",
       "41 CHP_420_03 CHP_420 X03   Leukemia    ALL           2  0       CM%   \n",
       "42 CHP_421_01 CHP_421 X01   Leukemia    ALL           8  0       CM%   \n",
       "43 CHP_421_02 CHP_421 X02   Leukemia    ALL           8  0       CM%   \n",
       "44 CHP_421_03 CHP_421 X03   Leukemia    ALL           8  0       CM%   \n",
       "45 CHP_424_01 CHP_424 X01   Leukemia    ALL           1  0       CM%   \n",
       "46 CHP_424_02 CHP_424 X02   Leukemia    ALL           1  0       CM%   \n",
       "47 CHP_428_01 CHP_428 X01   Leukemia    ALL           3  0       CM%   \n",
       "48 CHP_428_02 CHP_428 X02   Leukemia    ALL           3  0       CM%   \n",
       "   Diff        \n",
       "1   0.000000000\n",
       "2   0.468484512\n",
       "3   2.364981208\n",
       "4   3.836434463\n",
       "5   0.032589433\n",
       "6   0.000000000\n",
       "7   0.000000000\n",
       "8   0.000000000\n",
       "9  -0.007732284\n",
       "10 -1.487610976\n",
       "11 -1.440268123\n",
       "12 -0.052219841\n",
       "13  1.026980750\n",
       "14  0.000000000\n",
       "15  1.149126634\n",
       "16  0.000000000\n",
       "17  0.001860494\n",
       "18 -0.231129935\n",
       "19  0.293837001\n",
       "20  0.000000000\n",
       "21  0.235737649\n",
       "22 -0.010609031\n",
       "23 -0.065875367\n",
       "24  4.121510621\n",
       "25  0.000000000\n",
       "26  0.000000000\n",
       "27  0.077750730\n",
       "28  0.335808661\n",
       "29  0.147612018\n",
       "30 -0.065616986\n",
       "31  0.000000000\n",
       "32 -1.092301765\n",
       "33  0.000000000\n",
       "34  0.000000000\n",
       "35 -0.450952198\n",
       "36  0.000000000\n",
       "37 -0.265991445\n",
       "38  0.000000000\n",
       "39  0.527504896\n",
       "40  0.141912111\n",
       "41  0.240613605\n",
       "42  0.000000000\n",
       "43  0.121545143\n",
       "44  0.121911717\n",
       "45  0.000000000\n",
       "46  0.341056946\n",
       "47  0.000000000\n",
       "48  0.805375653"
      ]
     },
     "metadata": {},
     "output_type": "display_data"
    }
   ],
   "source": [
    "tmp1[ tmp1$marker == \"CM%\",]"
   ]
  },
  {
   "cell_type": "code",
   "execution_count": 47,
   "metadata": {
    "vscode": {
     "languageId": "r"
    }
   },
   "outputs": [],
   "source": [
    "cancergroup <- \"Leukemia\"\n",
    "\n",
    "mymat <- data.frame(\n",
    "    \"marker\" = rep(unique(tmp1$marker[tmp1$cancergroup == cancergroup]), 2),\n",
    "    \"x\" = NA, \"q10\" = NA, \"q90\" = NA\n",
    ")\n",
    "\n",
    "for (i in unique(tmp1$marker)) {\n",
    "    mymat$q10[mymat$marker == i] <- quantile(pbmc1_long_cells$Diff[pbmc1_long_cells$cancergroup == cancergroup &\n",
    "        pbmc1_long_cells$cycle != \"X01\" &\n",
    "        pbmc1_long_cells$marker == i], 0.1)\n",
    "    mymat$q90[mymat$marker == i] <- quantile(pbmc1_long_cells$Diff[pbmc1_long_cells$cancergroup == cancergroup &\n",
    "        pbmc1_long_cells$cycle != \"X01\" &\n",
    "        pbmc1_long_cells$marker == i], 0.9)\n",
    "    mymat$x[mymat$marker == i] <- c(-Inf, Inf)\n",
    "}"
   ]
  },
  {
   "cell_type": "code",
   "execution_count": 48,
   "metadata": {
    "vscode": {
     "languageId": "r"
    }
   },
   "outputs": [
    {
     "data": {
      "text/html": [
       "<table class=\"dataframe\">\n",
       "<caption>A data.frame: 4 x 4</caption>\n",
       "<thead>\n",
       "\t<tr><th scope=col>marker</th><th scope=col>x</th><th scope=col>q10</th><th scope=col>q90</th></tr>\n",
       "\t<tr><th scope=col>&lt;fct&gt;</th><th scope=col>&lt;dbl&gt;</th><th scope=col>&lt;dbl&gt;</th><th scope=col>&lt;dbl&gt;</th></tr>\n",
       "</thead>\n",
       "<tbody>\n",
       "\t<tr><td>Naïve%</td><td>-Inf</td><td>-1.9887188</td><td>1.602006</td></tr>\n",
       "\t<tr><td>CM%   </td><td>-Inf</td><td>-0.9670297</td><td>1.961108</td></tr>\n",
       "\t<tr><td>Naïve%</td><td> Inf</td><td>-1.9887188</td><td>1.602006</td></tr>\n",
       "\t<tr><td>CM%   </td><td> Inf</td><td>-0.9670297</td><td>1.961108</td></tr>\n",
       "</tbody>\n",
       "</table>\n"
      ],
      "text/latex": [
       "A data.frame: 4 x 4\n",
       "\\begin{tabular}{llll}\n",
       " marker & x & q10 & q90\\\\\n",
       " <fct> & <dbl> & <dbl> & <dbl>\\\\\n",
       "\\hline\n",
       "\t Naïve\\% & -Inf & -1.9887188 & 1.602006\\\\\n",
       "\t CM\\%    & -Inf & -0.9670297 & 1.961108\\\\\n",
       "\t Naïve\\% &  Inf & -1.9887188 & 1.602006\\\\\n",
       "\t CM\\%    &  Inf & -0.9670297 & 1.961108\\\\\n",
       "\\end{tabular}\n"
      ],
      "text/markdown": [
       "\n",
       "A data.frame: 4 x 4\n",
       "\n",
       "| marker &lt;fct&gt; | x &lt;dbl&gt; | q10 &lt;dbl&gt; | q90 &lt;dbl&gt; |\n",
       "|---|---|---|---|\n",
       "| Naïve% | -Inf | -1.9887188 | 1.602006 |\n",
       "| CM%    | -Inf | -0.9670297 | 1.961108 |\n",
       "| Naïve% |  Inf | -1.9887188 | 1.602006 |\n",
       "| CM%    |  Inf | -0.9670297 | 1.961108 |\n",
       "\n"
      ],
      "text/plain": [
       "  marker x    q10        q90     \n",
       "1 Naïve% -Inf -1.9887188 1.602006\n",
       "2 CM%    -Inf -0.9670297 1.961108\n",
       "3 Naïve%  Inf -1.9887188 1.602006\n",
       "4 CM%     Inf -0.9670297 1.961108"
      ]
     },
     "metadata": {},
     "output_type": "display_data"
    }
   ],
   "source": [
    "mymat"
   ]
  },
  {
   "cell_type": "code",
   "execution_count": null,
   "metadata": {
    "vscode": {
     "languageId": "r"
    }
   },
   "outputs": [],
   "source": [
    "p_leu <- ggplot(tmp1, aes(x = cycle, y = Diff)) +\n",
    "    geom_point(aes(color = factor(Relapse)), cex = 2) +\n",
    "    geom_line(aes(group = Patient, color = factor(Relapse))) +\n",
    "    scale_color_manual(values = c(\"0\" = \"blue\", \"1\" = \"red\")) +\n",
    "    myplot +\n",
    "    myaxis +\n",
    "    theme(\n",
    "        plot.margin = unit(c(0, 0, 0, 0), \"cm\"),\n",
    "        axis.text.x = element_text(angle = 45, hjust = 1),\n",
    "        axis.title.x = element_blank(), legend.position = \"none\"\n",
    "    ) +\n",
    "    geom_ribbon(\n",
    "        data = mymat,\n",
    "        aes(x = x, y = NULL, ymin = q10, ymax = q90), alpha = 0.3, fill = \"light grey\"\n",
    "    ) +\n",
    "    ggh4x::facet_wrap2(~ marker + Disease_type, axes = \"all\", remove_labels = \"all\") +\n",
    "    theme(\n",
    "        axis.title.x = element_blank(),\n",
    "        legend.position = \"none\",\n",
    "        strip.text.x = element_text(size = 13),\n",
    "        strip.background.x = element_blank(),\n",
    "        strip.placement = \"outside\",\n",
    "        axis.line = element_line(colour = \"black\")\n",
    "    ) +\n",
    "    ylab(\"D T-cell subsets\") +\n",
    "    scale_x_discrete(get_breaks(\"cycle\"),\n",
    "        labels = c(\"Pre-cycle 1\", \"Pre-cycle 2\", \"Pre-cycle 3\", \"Pre-cycle 4\", \"Pre-cycle 5\")\n",
    "    ) +\n",
    "    geom_hline(yintercept = 0, linetype = \"dashed\", color = \"red\")\n"
   ]
  },
  {
   "cell_type": "code",
   "execution_count": null,
   "metadata": {
    "vscode": {
     "languageId": "r"
    }
   },
   "outputs": [],
   "source": [
    "p_leu"
   ]
  },
  {
   "cell_type": "code",
   "execution_count": null,
   "metadata": {
    "vscode": {
     "languageId": "r"
    }
   },
   "outputs": [],
   "source": [
    "pdf(paste0(plotpath, \"p_ALL_HRALL_Naive_CM.pdf\"), width = 4, height = 6)\n",
    "cowplot::plot_grid(p_leu, labels = \"A\")\n",
    "dev.off()"
   ]
  },
  {
   "cell_type": "code",
   "execution_count": 50,
   "metadata": {
    "vscode": {
     "languageId": "r"
    }
   },
   "outputs": [],
   "source": [
    "tmp2 <- diff_log10shann_cfdna[diff_log10shann_cfdna$Disease_type %in% c(\"ALL\", \"HR ALL\", \"AML\"), ]"
   ]
  },
  {
   "cell_type": "code",
   "execution_count": 55,
   "metadata": {
    "vscode": {
     "languageId": "r"
    }
   },
   "outputs": [
    {
     "data": {
      "text/html": [
       "<table class=\"dataframe\">\n",
       "<caption>A grouped_df: 6 x 69</caption>\n",
       "<thead>\n",
       "\t<tr><th scope=col>sample_id</th><th scope=col>Patient</th><th scope=col>cycle</th><th scope=col>FOLD</th><th scope=col>ATC</th><th scope=col>Age</th><th scope=col>Disease_type</th><th scope=col>TE_fold</th><th scope=col>CD3</th><th scope=col>EM</th><th scope=col>...</th><th scope=col>estimated_Simpson</th><th scope=col>SE_Simpson</th><th scope=col>basename</th><th scope=col>file</th><th scope=col>sampletype</th><th scope=col>Group</th><th scope=col>log10shann</th><th scope=col>log10shann_scaled</th><th scope=col>Difference</th><th scope=col>grp</th></tr>\n",
       "\t<tr><th scope=col>&lt;chr&gt;</th><th scope=col>&lt;chr&gt;</th><th scope=col>&lt;chr&gt;</th><th scope=col>&lt;dbl&gt;</th><th scope=col>&lt;dbl&gt;</th><th scope=col>&lt;dbl&gt;</th><th scope=col>&lt;chr&gt;</th><th scope=col>&lt;dbl&gt;</th><th scope=col>&lt;int&gt;</th><th scope=col>&lt;int&gt;</th><th scope=col>...</th><th scope=col>&lt;dbl&gt;</th><th scope=col>&lt;dbl&gt;</th><th scope=col>&lt;chr&gt;</th><th scope=col>&lt;chr&gt;</th><th scope=col>&lt;chr&gt;</th><th scope=col>&lt;chr&gt;</th><th scope=col>&lt;dbl&gt;</th><th scope=col>&lt;dbl[,1]&gt;</th><th scope=col>&lt;dbl[,1]&gt;</th><th scope=col>&lt;chr&gt;</th></tr>\n",
       "</thead>\n",
       "<tbody>\n",
       "\t<tr><td>CHP_360_02</td><td>CHP_360</td><td>X02</td><td> 0.0</td><td> 75.24</td><td>6</td><td>ALL</td><td> 0.0</td><td>   0</td><td>NA</td><td>...</td><td>2.439</td><td>0.253</td><td>CHP_360-02-cfDNA</td><td>batch1_cfDNA_30Jan2020/mixcr/clones/CLONES_TRBCHP_360-02-cfDNA.txt                </td><td>cfDNA</td><td>CHP</td><td>0.5120170</td><td>-0.2969668</td><td>-1.849652</td><td>cfTCR Diversity</td></tr>\n",
       "\t<tr><td>CHP_360_03</td><td>CHP_360</td><td>X03</td><td> 0.0</td><td>  0.00</td><td>6</td><td>ALL</td><td> 0.0</td><td>   0</td><td>NA</td><td>...</td><td>1.830</td><td>0.020</td><td>CHP_360-03_cfDNA</td><td>remaining_batch_2_cfDNA_15April2021/mixcr/clones/CLONES_TRBCHP_360-03_cfDNA.txt   </td><td>cfDNA</td><td>CHP</td><td>0.3087778</td><td>-0.7618315</td><td>-2.314516</td><td>cfTCR Diversity</td></tr>\n",
       "\t<tr><td>CHP_376_04</td><td>CHP_376</td><td>X04</td><td> 0.0</td><td>  0.00</td><td>1</td><td>AML</td><td> 0.0</td><td>   0</td><td>NA</td><td>...</td><td>1.000</td><td>0.000</td><td>CHP_376-04_cfDNA</td><td>remaining_batch_2_cfDNA_15April2021/mixcr/clones/CLONES_TRBCHP_376-04_cfDNA.txt   </td><td>cfDNA</td><td>CHP</td><td>0.0000000</td><td>-1.4680923</td><td>-1.139144</td><td>cfTCR Diversity</td></tr>\n",
       "\t<tr><td>CHP_378_05</td><td>CHP_378</td><td>X05</td><td> 1.1</td><td>  0.00</td><td>1</td><td>ALL</td><td> 1.1</td><td>2573</td><td>34</td><td>...</td><td>2.091</td><td>0.012</td><td>CHP_378-05_cfDNA</td><td>remaining_batch_4_cfDNA_15April2021/mixcr/clones/CLONES_TRBCHP_378-05_cfDNA.txt   </td><td>cfDNA</td><td>CHP</td><td>0.3911116</td><td>-0.5735111</td><td>-2.039340</td><td>cfTCR Diversity</td></tr>\n",
       "\t<tr><td>CHP_388_03</td><td>CHP_388</td><td>X03</td><td>18.0</td><td>254.98</td><td>4</td><td>ALL</td><td>18.0</td><td>2457</td><td> 4</td><td>...</td><td>2.987</td><td>0.066</td><td>CHP_388-03_cfDNA</td><td>cfDNA_Matched_Priority_Pool1_19Nov2021/mixcr/clones/CLONES_TRBCHP_388-03_cfDNA.txt</td><td>cfDNA</td><td>CHP</td><td>0.5751878</td><td>-0.1524775</td><td>-1.044704</td><td>cfTCR Diversity</td></tr>\n",
       "\t<tr><td>CHP_388_04</td><td>CHP_388</td><td>X04</td><td>26.5</td><td>  0.00</td><td>4</td><td>ALL</td><td>26.5</td><td>1303</td><td> 0</td><td>...</td><td>1.695</td><td>0.018</td><td>CHP_388-04_cfDNA</td><td>batch11_cfDNA_11Sep2020/mixcr/clones/CLONES_TRBCHP_388-04_cfDNA.txt               </td><td>cfDNA</td><td>CHP</td><td>0.2638727</td><td>-0.8645420</td><td>-1.756769</td><td>cfTCR Diversity</td></tr>\n",
       "</tbody>\n",
       "</table>\n"
      ],
      "text/latex": [
       "A grouped\\_df: 6 x 69\n",
       "\\begin{tabular}{lllllllllllllllllllll}\n",
       " sample\\_id & Patient & cycle & FOLD & ATC & Age & Disease\\_type & TE\\_fold & CD3 & EM & ... & estimated\\_Simpson & SE\\_Simpson & basename & file & sampletype & Group & log10shann & log10shann\\_scaled & Difference & grp\\\\\n",
       " <chr> & <chr> & <chr> & <dbl> & <dbl> & <dbl> & <chr> & <dbl> & <int> & <int> & ... & <dbl> & <dbl> & <chr> & <chr> & <chr> & <chr> & <dbl> & <dbl{[},1{]}> & <dbl{[},1{]}> & <chr>\\\\\n",
       "\\hline\n",
       "\t CHP\\_360\\_02 & CHP\\_360 & X02 &  0.0 &  75.24 & 6 & ALL &  0.0 &    0 & NA & ... & 2.439 & 0.253 & CHP\\_360-02-cfDNA & batch1\\_cfDNA\\_30Jan2020/mixcr/clones/CLONES\\_TRBCHP\\_360-02-cfDNA.txt                 & cfDNA & CHP & 0.5120170 & -0.2969668 & -1.849652 & cfTCR Diversity\\\\\n",
       "\t CHP\\_360\\_03 & CHP\\_360 & X03 &  0.0 &   0.00 & 6 & ALL &  0.0 &    0 & NA & ... & 1.830 & 0.020 & CHP\\_360-03\\_cfDNA & remaining\\_batch\\_2\\_cfDNA\\_15April2021/mixcr/clones/CLONES\\_TRBCHP\\_360-03\\_cfDNA.txt    & cfDNA & CHP & 0.3087778 & -0.7618315 & -2.314516 & cfTCR Diversity\\\\\n",
       "\t CHP\\_376\\_04 & CHP\\_376 & X04 &  0.0 &   0.00 & 1 & AML &  0.0 &    0 & NA & ... & 1.000 & 0.000 & CHP\\_376-04\\_cfDNA & remaining\\_batch\\_2\\_cfDNA\\_15April2021/mixcr/clones/CLONES\\_TRBCHP\\_376-04\\_cfDNA.txt    & cfDNA & CHP & 0.0000000 & -1.4680923 & -1.139144 & cfTCR Diversity\\\\\n",
       "\t CHP\\_378\\_05 & CHP\\_378 & X05 &  1.1 &   0.00 & 1 & ALL &  1.1 & 2573 & 34 & ... & 2.091 & 0.012 & CHP\\_378-05\\_cfDNA & remaining\\_batch\\_4\\_cfDNA\\_15April2021/mixcr/clones/CLONES\\_TRBCHP\\_378-05\\_cfDNA.txt    & cfDNA & CHP & 0.3911116 & -0.5735111 & -2.039340 & cfTCR Diversity\\\\\n",
       "\t CHP\\_388\\_03 & CHP\\_388 & X03 & 18.0 & 254.98 & 4 & ALL & 18.0 & 2457 &  4 & ... & 2.987 & 0.066 & CHP\\_388-03\\_cfDNA & cfDNA\\_Matched\\_Priority\\_Pool1\\_19Nov2021/mixcr/clones/CLONES\\_TRBCHP\\_388-03\\_cfDNA.txt & cfDNA & CHP & 0.5751878 & -0.1524775 & -1.044704 & cfTCR Diversity\\\\\n",
       "\t CHP\\_388\\_04 & CHP\\_388 & X04 & 26.5 &   0.00 & 4 & ALL & 26.5 & 1303 &  0 & ... & 1.695 & 0.018 & CHP\\_388-04\\_cfDNA & batch11\\_cfDNA\\_11Sep2020/mixcr/clones/CLONES\\_TRBCHP\\_388-04\\_cfDNA.txt                & cfDNA & CHP & 0.2638727 & -0.8645420 & -1.756769 & cfTCR Diversity\\\\\n",
       "\\end{tabular}\n"
      ],
      "text/markdown": [
       "\n",
       "A grouped_df: 6 x 69\n",
       "\n",
       "| sample_id &lt;chr&gt; | Patient &lt;chr&gt; | cycle &lt;chr&gt; | FOLD &lt;dbl&gt; | ATC &lt;dbl&gt; | Age &lt;dbl&gt; | Disease_type &lt;chr&gt; | TE_fold &lt;dbl&gt; | CD3 &lt;int&gt; | EM &lt;int&gt; | ... ... | estimated_Simpson &lt;dbl&gt; | SE_Simpson &lt;dbl&gt; | basename &lt;chr&gt; | file &lt;chr&gt; | sampletype &lt;chr&gt; | Group &lt;chr&gt; | log10shann &lt;dbl&gt; | log10shann_scaled &lt;dbl[,1]&gt; | Difference &lt;dbl[,1]&gt; | grp &lt;chr&gt; |\n",
       "|---|---|---|---|---|---|---|---|---|---|---|---|---|---|---|---|---|---|---|---|---|\n",
       "| CHP_360_02 | CHP_360 | X02 |  0.0 |  75.24 | 6 | ALL |  0.0 |    0 | NA | ... | 2.439 | 0.253 | CHP_360-02-cfDNA | batch1_cfDNA_30Jan2020/mixcr/clones/CLONES_TRBCHP_360-02-cfDNA.txt                 | cfDNA | CHP | 0.5120170 | -0.2969668 | -1.849652 | cfTCR Diversity |\n",
       "| CHP_360_03 | CHP_360 | X03 |  0.0 |   0.00 | 6 | ALL |  0.0 |    0 | NA | ... | 1.830 | 0.020 | CHP_360-03_cfDNA | remaining_batch_2_cfDNA_15April2021/mixcr/clones/CLONES_TRBCHP_360-03_cfDNA.txt    | cfDNA | CHP | 0.3087778 | -0.7618315 | -2.314516 | cfTCR Diversity |\n",
       "| CHP_376_04 | CHP_376 | X04 |  0.0 |   0.00 | 1 | AML |  0.0 |    0 | NA | ... | 1.000 | 0.000 | CHP_376-04_cfDNA | remaining_batch_2_cfDNA_15April2021/mixcr/clones/CLONES_TRBCHP_376-04_cfDNA.txt    | cfDNA | CHP | 0.0000000 | -1.4680923 | -1.139144 | cfTCR Diversity |\n",
       "| CHP_378_05 | CHP_378 | X05 |  1.1 |   0.00 | 1 | ALL |  1.1 | 2573 | 34 | ... | 2.091 | 0.012 | CHP_378-05_cfDNA | remaining_batch_4_cfDNA_15April2021/mixcr/clones/CLONES_TRBCHP_378-05_cfDNA.txt    | cfDNA | CHP | 0.3911116 | -0.5735111 | -2.039340 | cfTCR Diversity |\n",
       "| CHP_388_03 | CHP_388 | X03 | 18.0 | 254.98 | 4 | ALL | 18.0 | 2457 |  4 | ... | 2.987 | 0.066 | CHP_388-03_cfDNA | cfDNA_Matched_Priority_Pool1_19Nov2021/mixcr/clones/CLONES_TRBCHP_388-03_cfDNA.txt | cfDNA | CHP | 0.5751878 | -0.1524775 | -1.044704 | cfTCR Diversity |\n",
       "| CHP_388_04 | CHP_388 | X04 | 26.5 |   0.00 | 4 | ALL | 26.5 | 1303 |  0 | ... | 1.695 | 0.018 | CHP_388-04_cfDNA | batch11_cfDNA_11Sep2020/mixcr/clones/CLONES_TRBCHP_388-04_cfDNA.txt                | cfDNA | CHP | 0.2638727 | -0.8645420 | -1.756769 | cfTCR Diversity |\n",
       "\n"
      ],
      "text/plain": [
       "  sample_id  Patient cycle FOLD ATC    Age Disease_type TE_fold CD3  EM ...\n",
       "1 CHP_360_02 CHP_360 X02    0.0  75.24 6   ALL           0.0       0 NA ...\n",
       "2 CHP_360_03 CHP_360 X03    0.0   0.00 6   ALL           0.0       0 NA ...\n",
       "3 CHP_376_04 CHP_376 X04    0.0   0.00 1   AML           0.0       0 NA ...\n",
       "4 CHP_378_05 CHP_378 X05    1.1   0.00 1   ALL           1.1    2573 34 ...\n",
       "5 CHP_388_03 CHP_388 X03   18.0 254.98 4   ALL          18.0    2457  4 ...\n",
       "6 CHP_388_04 CHP_388 X04   26.5   0.00 4   ALL          26.5    1303  0 ...\n",
       "  estimated_Simpson SE_Simpson basename        \n",
       "1 2.439             0.253      CHP_360-02-cfDNA\n",
       "2 1.830             0.020      CHP_360-03_cfDNA\n",
       "3 1.000             0.000      CHP_376-04_cfDNA\n",
       "4 2.091             0.012      CHP_378-05_cfDNA\n",
       "5 2.987             0.066      CHP_388-03_cfDNA\n",
       "6 1.695             0.018      CHP_388-04_cfDNA\n",
       "  file                                                                              \n",
       "1 batch1_cfDNA_30Jan2020/mixcr/clones/CLONES_TRBCHP_360-02-cfDNA.txt                \n",
       "2 remaining_batch_2_cfDNA_15April2021/mixcr/clones/CLONES_TRBCHP_360-03_cfDNA.txt   \n",
       "3 remaining_batch_2_cfDNA_15April2021/mixcr/clones/CLONES_TRBCHP_376-04_cfDNA.txt   \n",
       "4 remaining_batch_4_cfDNA_15April2021/mixcr/clones/CLONES_TRBCHP_378-05_cfDNA.txt   \n",
       "5 cfDNA_Matched_Priority_Pool1_19Nov2021/mixcr/clones/CLONES_TRBCHP_388-03_cfDNA.txt\n",
       "6 batch11_cfDNA_11Sep2020/mixcr/clones/CLONES_TRBCHP_388-04_cfDNA.txt               \n",
       "  sampletype Group log10shann log10shann_scaled Difference grp            \n",
       "1 cfDNA      CHP   0.5120170  -0.2969668        -1.849652  cfTCR Diversity\n",
       "2 cfDNA      CHP   0.3087778  -0.7618315        -2.314516  cfTCR Diversity\n",
       "3 cfDNA      CHP   0.0000000  -1.4680923        -1.139144  cfTCR Diversity\n",
       "4 cfDNA      CHP   0.3911116  -0.5735111        -2.039340  cfTCR Diversity\n",
       "5 cfDNA      CHP   0.5751878  -0.1524775        -1.044704  cfTCR Diversity\n",
       "6 cfDNA      CHP   0.2638727  -0.8645420        -1.756769  cfTCR Diversity"
      ]
     },
     "metadata": {},
     "output_type": "display_data"
    }
   ],
   "source": [
    "tmp2[ tmp2$Difference < -1,]"
   ]
  },
  {
   "cell_type": "code",
   "execution_count": 52,
   "metadata": {
    "vscode": {
     "languageId": "r"
    }
   },
   "outputs": [],
   "source": [
    "p_cfshann_leu <- delta_basespiderplot.fx(\n",
    "    tmp2,\"cycle\", \"factor(Relapse)\", c(\"0\" = \"blue\", \"1\" = \"red\")\n",
    ")"
   ]
  },
  {
   "cell_type": "code",
   "execution_count": 53,
   "metadata": {
    "vscode": {
     "languageId": "r"
    }
   },
   "outputs": [],
   "source": [
    "q_10_90 <- quantile(diff_log10shann_cfdna$Difference[diff_log10shann_cfdna$cancergroup == \"Leukemia\" &\n",
    "    diff_log10shann_cfdna$cycle != \"X01\"], c(0.1, 0.9))"
   ]
  },
  {
   "cell_type": "code",
   "execution_count": 54,
   "metadata": {
    "vscode": {
     "languageId": "r"
    }
   },
   "outputs": [
    {
     "data": {
      "text/html": [
       "<style>\n",
       ".dl-inline {width: auto; margin:0; padding: 0}\n",
       ".dl-inline>dt, .dl-inline>dd {float: none; width: auto; display: inline-block}\n",
       ".dl-inline>dt::after {content: \":\\0020\"; padding-right: .5ex}\n",
       ".dl-inline>dt:not(:first-of-type) {padding-left: .5ex}\n",
       "</style><dl class=dl-inline><dt>10%</dt><dd>-1.04470416277085</dd><dt>90%</dt><dd>2.11668239822923</dd></dl>\n"
      ],
      "text/latex": [
       "\\begin{description*}\n",
       "\\item[10\\textbackslash{}\\%] -1.04470416277085\n",
       "\\item[90\\textbackslash{}\\%] 2.11668239822923\n",
       "\\end{description*}\n"
      ],
      "text/markdown": [
       "10%\n",
       ":   -1.0447041627708590%\n",
       ":   2.11668239822923\n",
       "\n"
      ],
      "text/plain": [
       "      10%       90% \n",
       "-1.044704  2.116682 "
      ]
     },
     "metadata": {},
     "output_type": "display_data"
    }
   ],
   "source": [
    "q_10_90"
   ]
  },
  {
   "cell_type": "code",
   "execution_count": null,
   "metadata": {
    "vscode": {
     "languageId": "r"
    }
   },
   "outputs": [],
   "source": [
    "p_cfshann_leu <- p_cfshann_leu + theme(legend.position = \"none\") +\n",
    "    ggh4x::facet_wrap2(~ grp + Disease_type, axes = \"all\", remove_labels = \"all\") +\n",
    "    theme(\n",
    "        plot.margin = unit(c(0, 0, 0, 0), \"cm\"),\n",
    "        axis.title.x = element_blank(),\n",
    "        legend.position = \"none\",\n",
    "        strip.text.x = element_text(size = 13),\n",
    "        strip.background.x = element_blank(),\n",
    "        strip.placement = \"outside\"\n",
    "    ) +\n",
    "    ylab(\"D cfTCR diversity\") +\n",
    "    scale_x_discrete(get_breaks(\"cycle\"),\n",
    "        labels = c(\"Pre-cycle 1\", \"Pre-cycle 2\", \"Pre-cycle 3\", \"Pre-cycle 4\", \"Pre-cycle 5\")\n",
    "    ) + geom_hline(yintercept = 0, linetype = \"dashed\", color = \"red\") +\n",
    "    annotate(\"ribbon\",\n",
    "        x = c(-Inf, Inf), ymin = q_10_90[1], ymax = q_10_90[2],\n",
    "        alpha = 0.3, fill = \"light grey\"\n",
    "    )\n"
   ]
  },
  {
   "cell_type": "code",
   "execution_count": null,
   "metadata": {
    "vscode": {
     "languageId": "r"
    }
   },
   "outputs": [],
   "source": [
    "p_cfshann_leu"
   ]
  },
  {
   "cell_type": "code",
   "execution_count": null,
   "metadata": {
    "vscode": {
     "languageId": "r"
    }
   },
   "outputs": [],
   "source": [
    "pdf(paste0(plotpath, \"p_ALL_HRALL_AML_cfTCR.pdf\"), width = 6, height = 3)\n",
    "cowplot::plot_grid(p_cfshann_leu, labels = \"B\")\n",
    "dev.off()"
   ]
  },
  {
   "cell_type": "markdown",
   "metadata": {},
   "source": [
    "Lym"
   ]
  },
  {
   "cell_type": "code",
   "execution_count": null,
   "metadata": {
    "vscode": {
     "languageId": "r"
    }
   },
   "outputs": [],
   "source": [
    "table(diff_log10shann_cfdna$Disease_type)"
   ]
  },
  {
   "cell_type": "code",
   "execution_count": 56,
   "metadata": {
    "vscode": {
     "languageId": "r"
    }
   },
   "outputs": [],
   "source": [
    "tmp3 <- diff_log10shann_cfdna[diff_log10shann_cfdna$Disease_type %in% c(\"BL\", \"HD\"), ]"
   ]
  },
  {
   "cell_type": "code",
   "execution_count": 57,
   "metadata": {
    "vscode": {
     "languageId": "r"
    }
   },
   "outputs": [],
   "source": [
    "p_cfshann_lym <- delta_basespiderplot.fx(\n",
    "    tmp3,\"cycle\", \"factor(Relapse)\", c(\"0\" = \"blue\", \"1\" = \"red\")\n",
    ")"
   ]
  },
  {
   "cell_type": "code",
   "execution_count": 58,
   "metadata": {
    "vscode": {
     "languageId": "r"
    }
   },
   "outputs": [],
   "source": [
    "q_10_90 <- quantile(diff_log10shann_cfdna$Difference[diff_log10shann_cfdna$cancergroup == \"Lymphoma\" &\n",
    "    diff_log10shann_cfdna$cycle != \"X01\"], c(0.1, 0.9))"
   ]
  },
  {
   "cell_type": "code",
   "execution_count": 59,
   "metadata": {
    "vscode": {
     "languageId": "r"
    }
   },
   "outputs": [
    {
     "data": {
      "text/html": [
       "<style>\n",
       ".dl-inline {width: auto; margin:0; padding: 0}\n",
       ".dl-inline>dt, .dl-inline>dd {float: none; width: auto; display: inline-block}\n",
       ".dl-inline>dt::after {content: \":\\0020\"; padding-right: .5ex}\n",
       ".dl-inline>dt:not(:first-of-type) {padding-left: .5ex}\n",
       "</style><dl class=dl-inline><dt>10%</dt><dd>-3.10818357418198</dd><dt>90%</dt><dd>-0.176729315320328</dd></dl>\n"
      ],
      "text/latex": [
       "\\begin{description*}\n",
       "\\item[10\\textbackslash{}\\%] -3.10818357418198\n",
       "\\item[90\\textbackslash{}\\%] -0.176729315320328\n",
       "\\end{description*}\n"
      ],
      "text/markdown": [
       "10%\n",
       ":   -3.1081835741819890%\n",
       ":   -0.176729315320328\n",
       "\n"
      ],
      "text/plain": [
       "       10%        90% \n",
       "-3.1081836 -0.1767293 "
      ]
     },
     "metadata": {},
     "output_type": "display_data"
    }
   ],
   "source": [
    "q_10_90"
   ]
  },
  {
   "cell_type": "code",
   "execution_count": null,
   "metadata": {
    "vscode": {
     "languageId": "r"
    }
   },
   "outputs": [],
   "source": [
    "p_cfshann_lym <- p_cfshann_lym + theme(legend.position = \"none\") +\n",
    "    ggh4x::facet_wrap2(~ grp + Disease_type, axes = \"all\", remove_labels = \"all\") +\n",
    "    theme(\n",
    "        plot.margin = unit(c(0, 0, 0, 0), \"cm\"),\n",
    "        axis.title.x = element_blank(),\n",
    "        legend.position = \"none\",\n",
    "        strip.text.x = element_text(size = 13),\n",
    "        strip.background.x = element_blank(),\n",
    "        strip.placement = \"outside\"\n",
    "    ) +\n",
    "    ylab(\"D cfTCR diversity\") +\n",
    "    scale_x_discrete(get_breaks(\"cycle\"),\n",
    "        labels = c(\"Pre-cycle 1\", \"Pre-cycle 2\", \"Pre-cycle 3\", \"Pre-cycle 4\", \"Pre-cycle 5\")\n",
    "    ) + geom_hline(yintercept = 0, linetype = \"dashed\", color = \"red\") +\n",
    "    annotate(\"ribbon\",\n",
    "        x = c(-Inf, Inf), ymin = q_10_90[1], ymax = q_10_90[2],\n",
    "        alpha = 0.3, fill = \"light grey\"\n",
    "    )\n"
   ]
  },
  {
   "cell_type": "code",
   "execution_count": null,
   "metadata": {
    "vscode": {
     "languageId": "r"
    }
   },
   "outputs": [],
   "source": [
    "p_cfshann_lym"
   ]
  },
  {
   "cell_type": "code",
   "execution_count": null,
   "metadata": {
    "vscode": {
     "languageId": "r"
    }
   },
   "outputs": [],
   "source": [
    "pdf(paste0(plotpath, \"p_BL_HD_cfTCR.pdf\"), width = 4, height = 3)\n",
    "cowplot::plot_grid(p_cfshann_lym, labels = \"C\")\n",
    "dev.off()"
   ]
  },
  {
   "cell_type": "markdown",
   "metadata": {},
   "source": [
    "Solid"
   ]
  },
  {
   "cell_type": "code",
   "execution_count": 27,
   "metadata": {
    "vscode": {
     "languageId": "r"
    }
   },
   "outputs": [
    {
     "data": {
      "text/html": [
       "<table class=\"dataframe\">\n",
       "<caption>A tibble: 6 x 9</caption>\n",
       "<thead>\n",
       "\t<tr><th scope=col>sample_id</th><th scope=col>Patient</th><th scope=col>cycle</th><th scope=col>cancergroup</th><th scope=col>Disease_type</th><th scope=col>Age</th><th scope=col>Relapse</th><th scope=col>marker</th><th scope=col>Diff</th></tr>\n",
       "\t<tr><th scope=col>&lt;chr&gt;</th><th scope=col>&lt;chr&gt;</th><th scope=col>&lt;chr&gt;</th><th scope=col>&lt;chr&gt;</th><th scope=col>&lt;chr&gt;</th><th scope=col>&lt;dbl&gt;</th><th scope=col>&lt;int&gt;</th><th scope=col>&lt;chr&gt;</th><th scope=col>&lt;dbl&gt;</th></tr>\n",
       "</thead>\n",
       "<tbody>\n",
       "\t<tr><td>CHP_343_02</td><td>CHP_343</td><td>X02</td><td>Solid tumors</td><td>EWS</td><td>8</td><td>0</td><td>Naïve%</td><td>-0.4361997</td></tr>\n",
       "\t<tr><td>CHP_343_02</td><td>CHP_343</td><td>X02</td><td>Solid tumors</td><td>EWS</td><td>8</td><td>0</td><td>SCM%  </td><td> 0.3956547</td></tr>\n",
       "\t<tr><td>CHP_343_02</td><td>CHP_343</td><td>X02</td><td>Solid tumors</td><td>EWS</td><td>8</td><td>0</td><td>CM%   </td><td> 0.8951589</td></tr>\n",
       "\t<tr><td>CHP_343_02</td><td>CHP_343</td><td>X02</td><td>Solid tumors</td><td>EWS</td><td>8</td><td>0</td><td>EM%   </td><td> 0.1928534</td></tr>\n",
       "\t<tr><td>CHP_343_02</td><td>CHP_343</td><td>X02</td><td>Solid tumors</td><td>EWS</td><td>8</td><td>0</td><td>TE%   </td><td>-0.4029691</td></tr>\n",
       "\t<tr><td>CHP_343_03</td><td>CHP_343</td><td>X03</td><td>Solid tumors</td><td>EWS</td><td>8</td><td>0</td><td>Naïve%</td><td>-0.4251171</td></tr>\n",
       "</tbody>\n",
       "</table>\n"
      ],
      "text/latex": [
       "A tibble: 6 x 9\n",
       "\\begin{tabular}{lllllllll}\n",
       " sample\\_id & Patient & cycle & cancergroup & Disease\\_type & Age & Relapse & marker & Diff\\\\\n",
       " <chr> & <chr> & <chr> & <chr> & <chr> & <dbl> & <int> & <chr> & <dbl>\\\\\n",
       "\\hline\n",
       "\t CHP\\_343\\_02 & CHP\\_343 & X02 & Solid tumors & EWS & 8 & 0 & Naïve\\% & -0.4361997\\\\\n",
       "\t CHP\\_343\\_02 & CHP\\_343 & X02 & Solid tumors & EWS & 8 & 0 & SCM\\%   &  0.3956547\\\\\n",
       "\t CHP\\_343\\_02 & CHP\\_343 & X02 & Solid tumors & EWS & 8 & 0 & CM\\%    &  0.8951589\\\\\n",
       "\t CHP\\_343\\_02 & CHP\\_343 & X02 & Solid tumors & EWS & 8 & 0 & EM\\%    &  0.1928534\\\\\n",
       "\t CHP\\_343\\_02 & CHP\\_343 & X02 & Solid tumors & EWS & 8 & 0 & TE\\%    & -0.4029691\\\\\n",
       "\t CHP\\_343\\_03 & CHP\\_343 & X03 & Solid tumors & EWS & 8 & 0 & Naïve\\% & -0.4251171\\\\\n",
       "\\end{tabular}\n"
      ],
      "text/markdown": [
       "\n",
       "A tibble: 6 x 9\n",
       "\n",
       "| sample_id &lt;chr&gt; | Patient &lt;chr&gt; | cycle &lt;chr&gt; | cancergroup &lt;chr&gt; | Disease_type &lt;chr&gt; | Age &lt;dbl&gt; | Relapse &lt;int&gt; | marker &lt;chr&gt; | Diff &lt;dbl&gt; |\n",
       "|---|---|---|---|---|---|---|---|---|\n",
       "| CHP_343_02 | CHP_343 | X02 | Solid tumors | EWS | 8 | 0 | Naïve% | -0.4361997 |\n",
       "| CHP_343_02 | CHP_343 | X02 | Solid tumors | EWS | 8 | 0 | SCM%   |  0.3956547 |\n",
       "| CHP_343_02 | CHP_343 | X02 | Solid tumors | EWS | 8 | 0 | CM%    |  0.8951589 |\n",
       "| CHP_343_02 | CHP_343 | X02 | Solid tumors | EWS | 8 | 0 | EM%    |  0.1928534 |\n",
       "| CHP_343_02 | CHP_343 | X02 | Solid tumors | EWS | 8 | 0 | TE%    | -0.4029691 |\n",
       "| CHP_343_03 | CHP_343 | X03 | Solid tumors | EWS | 8 | 0 | Naïve% | -0.4251171 |\n",
       "\n"
      ],
      "text/plain": [
       "  sample_id  Patient cycle cancergroup  Disease_type Age Relapse marker\n",
       "1 CHP_343_02 CHP_343 X02   Solid tumors EWS          8   0       Naïve%\n",
       "2 CHP_343_02 CHP_343 X02   Solid tumors EWS          8   0       SCM%  \n",
       "3 CHP_343_02 CHP_343 X02   Solid tumors EWS          8   0       CM%   \n",
       "4 CHP_343_02 CHP_343 X02   Solid tumors EWS          8   0       EM%   \n",
       "5 CHP_343_02 CHP_343 X02   Solid tumors EWS          8   0       TE%   \n",
       "6 CHP_343_03 CHP_343 X03   Solid tumors EWS          8   0       Naïve%\n",
       "  Diff      \n",
       "1 -0.4361997\n",
       "2  0.3956547\n",
       "3  0.8951589\n",
       "4  0.1928534\n",
       "5 -0.4029691\n",
       "6 -0.4251171"
      ]
     },
     "metadata": {},
     "output_type": "display_data"
    }
   ],
   "source": [
    "head(pbmc1_long_cells)"
   ]
  },
  {
   "cell_type": "code",
   "execution_count": 28,
   "metadata": {
    "vscode": {
     "languageId": "r"
    }
   },
   "outputs": [],
   "source": [
    "pbmc1_long_cells$marker <- as.character(pbmc1_long_cells$marker)"
   ]
  },
  {
   "cell_type": "code",
   "execution_count": 29,
   "metadata": {
    "vscode": {
     "languageId": "r"
    }
   },
   "outputs": [],
   "source": [
    "tmp4 <- pbmc1_long_cells[pbmc1_long_cells$Disease_type %in% c(\"ERMS\", \"EWS\", \"HB\", \"NB\", \"RMS\") &\n",
    "    pbmc1_long_cells$marker == \"CM%\", ]"
   ]
  },
  {
   "cell_type": "code",
   "execution_count": 30,
   "metadata": {
    "vscode": {
     "languageId": "r"
    }
   },
   "outputs": [],
   "source": [
    "cancergroup <- \"Solid tumors\"\n",
    "\n",
    "mymat <- data.frame(\n",
    "    \"marker\" = rep(unique(tmp4$marker[tmp4$cancergroup == cancergroup]), 2),\n",
    "    \"x\" = NA, \"q10\" = NA, \"q90\" = NA\n",
    ")\n",
    "\n",
    "mymat$q10[mymat$marker == \"CM%\"] <- quantile(pbmc1_long_cells$Diff[pbmc1_long_cells$cancergroup == cancergroup &\n",
    "    pbmc1_long_cells$cycle != \"X01\" &\n",
    "    pbmc1_long_cells$marker == \"CM%\"], 0.1)\n",
    "mymat$q90[mymat$marker == \"CM%\"] <- quantile(pbmc1_long_cells$Diff[pbmc1_long_cells$cancergroup == cancergroup &\n",
    "    pbmc1_long_cells$cycle != \"X01\" &\n",
    "    pbmc1_long_cells$marker == \"CM%\"], 0.9)\n",
    "mymat$x[mymat$marker == \"CM%\"] <- c(-Inf, Inf)\n"
   ]
  },
  {
   "cell_type": "code",
   "execution_count": 31,
   "metadata": {
    "vscode": {
     "languageId": "r"
    }
   },
   "outputs": [
    {
     "data": {
      "text/html": [
       "<table class=\"dataframe\">\n",
       "<caption>A data.frame: 2 x 4</caption>\n",
       "<thead>\n",
       "\t<tr><th scope=col>marker</th><th scope=col>x</th><th scope=col>q10</th><th scope=col>q90</th></tr>\n",
       "\t<tr><th scope=col>&lt;chr&gt;</th><th scope=col>&lt;dbl&gt;</th><th scope=col>&lt;dbl&gt;</th><th scope=col>&lt;dbl&gt;</th></tr>\n",
       "</thead>\n",
       "<tbody>\n",
       "\t<tr><td>CM%</td><td>-Inf</td><td>-0.3384162</td><td>1.897802</td></tr>\n",
       "\t<tr><td>CM%</td><td> Inf</td><td>-0.3384162</td><td>1.897802</td></tr>\n",
       "</tbody>\n",
       "</table>\n"
      ],
      "text/latex": [
       "A data.frame: 2 x 4\n",
       "\\begin{tabular}{llll}\n",
       " marker & x & q10 & q90\\\\\n",
       " <chr> & <dbl> & <dbl> & <dbl>\\\\\n",
       "\\hline\n",
       "\t CM\\% & -Inf & -0.3384162 & 1.897802\\\\\n",
       "\t CM\\% &  Inf & -0.3384162 & 1.897802\\\\\n",
       "\\end{tabular}\n"
      ],
      "text/markdown": [
       "\n",
       "A data.frame: 2 x 4\n",
       "\n",
       "| marker &lt;chr&gt; | x &lt;dbl&gt; | q10 &lt;dbl&gt; | q90 &lt;dbl&gt; |\n",
       "|---|---|---|---|\n",
       "| CM% | -Inf | -0.3384162 | 1.897802 |\n",
       "| CM% |  Inf | -0.3384162 | 1.897802 |\n",
       "\n"
      ],
      "text/plain": [
       "  marker x    q10        q90     \n",
       "1 CM%    -Inf -0.3384162 1.897802\n",
       "2 CM%     Inf -0.3384162 1.897802"
      ]
     },
     "metadata": {},
     "output_type": "display_data"
    }
   ],
   "source": [
    "mymat"
   ]
  },
  {
   "cell_type": "code",
   "execution_count": 32,
   "metadata": {
    "vscode": {
     "languageId": "r"
    }
   },
   "outputs": [
    {
     "data": {
      "text/html": [
       "<table class=\"dataframe\">\n",
       "<caption>A tibble: 35 x 9</caption>\n",
       "<thead>\n",
       "\t<tr><th scope=col>sample_id</th><th scope=col>Patient</th><th scope=col>cycle</th><th scope=col>cancergroup</th><th scope=col>Disease_type</th><th scope=col>Age</th><th scope=col>Relapse</th><th scope=col>marker</th><th scope=col>Diff</th></tr>\n",
       "\t<tr><th scope=col>&lt;chr&gt;</th><th scope=col>&lt;chr&gt;</th><th scope=col>&lt;chr&gt;</th><th scope=col>&lt;chr&gt;</th><th scope=col>&lt;chr&gt;</th><th scope=col>&lt;dbl&gt;</th><th scope=col>&lt;int&gt;</th><th scope=col>&lt;chr&gt;</th><th scope=col>&lt;dbl&gt;</th></tr>\n",
       "</thead>\n",
       "<tbody>\n",
       "\t<tr><td>CHP_343_02</td><td>CHP_343</td><td>X02</td><td>Solid tumors</td><td>EWS </td><td> 8</td><td>0</td><td>CM%</td><td> 0.89515885</td></tr>\n",
       "\t<tr><td>CHP_343_03</td><td>CHP_343</td><td>X03</td><td>Solid tumors</td><td>EWS </td><td> 8</td><td>0</td><td>CM%</td><td> 4.38779612</td></tr>\n",
       "\t<tr><td>CHP_343_04</td><td>CHP_343</td><td>X04</td><td>Solid tumors</td><td>EWS </td><td> 8</td><td>0</td><td>CM%</td><td> 2.27388641</td></tr>\n",
       "\t<tr><td>CHP_343_05</td><td>CHP_343</td><td>X05</td><td>Solid tumors</td><td>EWS </td><td> 8</td><td>0</td><td>CM%</td><td> 1.11083531</td></tr>\n",
       "\t<tr><td>CHP_350_01</td><td>CHP_350</td><td>X01</td><td>Solid tumors</td><td>HB  </td><td> 1</td><td>0</td><td>CM%</td><td> 0.00000000</td></tr>\n",
       "\t<tr><td>CHP_350_02</td><td>CHP_350</td><td>X02</td><td>Solid tumors</td><td>HB  </td><td> 1</td><td>0</td><td>CM%</td><td>-0.07409058</td></tr>\n",
       "\t<tr><td>CHP_350_03</td><td>CHP_350</td><td>X03</td><td>Solid tumors</td><td>HB  </td><td> 1</td><td>0</td><td>CM%</td><td>-0.13094725</td></tr>\n",
       "\t<tr><td>CHP_350_04</td><td>CHP_350</td><td>X04</td><td>Solid tumors</td><td>HB  </td><td> 1</td><td>0</td><td>CM%</td><td> 0.25815024</td></tr>\n",
       "\t<tr><td>CHP_350_05</td><td>CHP_350</td><td>X05</td><td>Solid tumors</td><td>HB  </td><td> 1</td><td>0</td><td>CM%</td><td> 0.61368937</td></tr>\n",
       "\t<tr><td>CHP_356_02</td><td>CHP_356</td><td>X02</td><td>Solid tumors</td><td>EWS </td><td> 9</td><td>1</td><td>CM%</td><td> 0.20920696</td></tr>\n",
       "\t<tr><td>CHP_356_03</td><td>CHP_356</td><td>X03</td><td>Solid tumors</td><td>EWS </td><td> 9</td><td>1</td><td>CM%</td><td> 1.77065059</td></tr>\n",
       "\t<tr><td>CHP_356_05</td><td>CHP_356</td><td>X05</td><td>Solid tumors</td><td>EWS </td><td> 9</td><td>1</td><td>CM%</td><td> 0.81813898</td></tr>\n",
       "\t<tr><td>CHP_385_03</td><td>CHP_385</td><td>X03</td><td>Solid tumors</td><td>NB  </td><td> 2</td><td>0</td><td>CM%</td><td>-0.03415489</td></tr>\n",
       "\t<tr><td>CHP_394_01</td><td>CHP_394</td><td>X01</td><td>Solid tumors</td><td>ERMS</td><td>17</td><td>0</td><td>CM%</td><td> 0.00000000</td></tr>\n",
       "\t<tr><td>CHP_394_04</td><td>CHP_394</td><td>X04</td><td>Solid tumors</td><td>ERMS</td><td>17</td><td>0</td><td>CM%</td><td> 1.37768953</td></tr>\n",
       "\t<tr><td>CHP_404_01</td><td>CHP_404</td><td>X01</td><td>Solid tumors</td><td>ERMS</td><td>10</td><td>0</td><td>CM%</td><td> 0.00000000</td></tr>\n",
       "\t<tr><td>CHP_404_02</td><td>CHP_404</td><td>X02</td><td>Solid tumors</td><td>ERMS</td><td>10</td><td>0</td><td>CM%</td><td>-0.11075532</td></tr>\n",
       "\t<tr><td>CHP_409_01</td><td>CHP_409</td><td>X01</td><td>Solid tumors</td><td>EWS </td><td>11</td><td>0</td><td>CM%</td><td> 0.00000000</td></tr>\n",
       "\t<tr><td>CHP_409_02</td><td>CHP_409</td><td>X02</td><td>Solid tumors</td><td>EWS </td><td>11</td><td>0</td><td>CM%</td><td> 1.02331245</td></tr>\n",
       "\t<tr><td>CHP_332_01</td><td>CHP_332</td><td>X01</td><td>Solid tumors</td><td>ERMS</td><td>10</td><td>0</td><td>CM%</td><td> 0.00000000</td></tr>\n",
       "\t<tr><td>CHP_332_02</td><td>CHP_332</td><td>X02</td><td>Solid tumors</td><td>ERMS</td><td>10</td><td>0</td><td>CM%</td><td> 0.40275566</td></tr>\n",
       "\t<tr><td>CHP_332_03</td><td>CHP_332</td><td>X03</td><td>Solid tumors</td><td>ERMS</td><td>10</td><td>0</td><td>CM%</td><td> 1.88831944</td></tr>\n",
       "\t<tr><td>CHP_332_04</td><td>CHP_332</td><td>X04</td><td>Solid tumors</td><td>ERMS</td><td>10</td><td>0</td><td>CM%</td><td> 1.66882278</td></tr>\n",
       "\t<tr><td>CHP_332_05</td><td>CHP_332</td><td>X05</td><td>Solid tumors</td><td>ERMS</td><td>10</td><td>0</td><td>CM%</td><td> 0.83545757</td></tr>\n",
       "\t<tr><td>CHP_343_01</td><td>CHP_343</td><td>X01</td><td>Solid tumors</td><td>EWS </td><td> 8</td><td>0</td><td>CM%</td><td> 0.00000000</td></tr>\n",
       "\t<tr><td>CHP_356_01</td><td>CHP_356</td><td>X01</td><td>Solid tumors</td><td>EWS </td><td> 9</td><td>1</td><td>CM%</td><td> 0.00000000</td></tr>\n",
       "\t<tr><td>CHP_356_04</td><td>CHP_356</td><td>X04</td><td>Solid tumors</td><td>EWS </td><td> 9</td><td>1</td><td>CM%</td><td> 1.90017236</td></tr>\n",
       "\t<tr><td>CHP_385_01</td><td>CHP_385</td><td>X01</td><td>Solid tumors</td><td>NB  </td><td> 2</td><td>0</td><td>CM%</td><td> 0.00000000</td></tr>\n",
       "\t<tr><td>CHP_385_04</td><td>CHP_385</td><td>X04</td><td>Solid tumors</td><td>NB  </td><td> 2</td><td>0</td><td>CM%</td><td> 0.91070505</td></tr>\n",
       "\t<tr><td>CHP_385_05</td><td>CHP_385</td><td>X05</td><td>Solid tumors</td><td>NB  </td><td> 2</td><td>0</td><td>CM%</td><td> 2.48101025</td></tr>\n",
       "\t<tr><td>CHP_394_02</td><td>CHP_394</td><td>X02</td><td>Solid tumors</td><td>ERMS</td><td>17</td><td>0</td><td>CM%</td><td>-0.65384010</td></tr>\n",
       "\t<tr><td>CHP_394_05</td><td>CHP_394</td><td>X05</td><td>Solid tumors</td><td>ERMS</td><td>17</td><td>0</td><td>CM%</td><td> 2.81757100</td></tr>\n",
       "\t<tr><td>CHP_426_01</td><td>CHP_426</td><td>X01</td><td>Solid tumors</td><td>RMS </td><td> 1</td><td>0</td><td>CM%</td><td> 0.00000000</td></tr>\n",
       "\t<tr><td>CHP_426_02</td><td>CHP_426</td><td>X02</td><td>Solid tumors</td><td>RMS </td><td> 1</td><td>0</td><td>CM%</td><td>-0.38162484</td></tr>\n",
       "\t<tr><td>CHP_426_03</td><td>CHP_426</td><td>X03</td><td>Solid tumors</td><td>RMS </td><td> 1</td><td>0</td><td>CM%</td><td>-0.39045941</td></tr>\n",
       "</tbody>\n",
       "</table>\n"
      ],
      "text/latex": [
       "A tibble: 35 x 9\n",
       "\\begin{tabular}{lllllllll}\n",
       " sample\\_id & Patient & cycle & cancergroup & Disease\\_type & Age & Relapse & marker & Diff\\\\\n",
       " <chr> & <chr> & <chr> & <chr> & <chr> & <dbl> & <int> & <chr> & <dbl>\\\\\n",
       "\\hline\n",
       "\t CHP\\_343\\_02 & CHP\\_343 & X02 & Solid tumors & EWS  &  8 & 0 & CM\\% &  0.89515885\\\\\n",
       "\t CHP\\_343\\_03 & CHP\\_343 & X03 & Solid tumors & EWS  &  8 & 0 & CM\\% &  4.38779612\\\\\n",
       "\t CHP\\_343\\_04 & CHP\\_343 & X04 & Solid tumors & EWS  &  8 & 0 & CM\\% &  2.27388641\\\\\n",
       "\t CHP\\_343\\_05 & CHP\\_343 & X05 & Solid tumors & EWS  &  8 & 0 & CM\\% &  1.11083531\\\\\n",
       "\t CHP\\_350\\_01 & CHP\\_350 & X01 & Solid tumors & HB   &  1 & 0 & CM\\% &  0.00000000\\\\\n",
       "\t CHP\\_350\\_02 & CHP\\_350 & X02 & Solid tumors & HB   &  1 & 0 & CM\\% & -0.07409058\\\\\n",
       "\t CHP\\_350\\_03 & CHP\\_350 & X03 & Solid tumors & HB   &  1 & 0 & CM\\% & -0.13094725\\\\\n",
       "\t CHP\\_350\\_04 & CHP\\_350 & X04 & Solid tumors & HB   &  1 & 0 & CM\\% &  0.25815024\\\\\n",
       "\t CHP\\_350\\_05 & CHP\\_350 & X05 & Solid tumors & HB   &  1 & 0 & CM\\% &  0.61368937\\\\\n",
       "\t CHP\\_356\\_02 & CHP\\_356 & X02 & Solid tumors & EWS  &  9 & 1 & CM\\% &  0.20920696\\\\\n",
       "\t CHP\\_356\\_03 & CHP\\_356 & X03 & Solid tumors & EWS  &  9 & 1 & CM\\% &  1.77065059\\\\\n",
       "\t CHP\\_356\\_05 & CHP\\_356 & X05 & Solid tumors & EWS  &  9 & 1 & CM\\% &  0.81813898\\\\\n",
       "\t CHP\\_385\\_03 & CHP\\_385 & X03 & Solid tumors & NB   &  2 & 0 & CM\\% & -0.03415489\\\\\n",
       "\t CHP\\_394\\_01 & CHP\\_394 & X01 & Solid tumors & ERMS & 17 & 0 & CM\\% &  0.00000000\\\\\n",
       "\t CHP\\_394\\_04 & CHP\\_394 & X04 & Solid tumors & ERMS & 17 & 0 & CM\\% &  1.37768953\\\\\n",
       "\t CHP\\_404\\_01 & CHP\\_404 & X01 & Solid tumors & ERMS & 10 & 0 & CM\\% &  0.00000000\\\\\n",
       "\t CHP\\_404\\_02 & CHP\\_404 & X02 & Solid tumors & ERMS & 10 & 0 & CM\\% & -0.11075532\\\\\n",
       "\t CHP\\_409\\_01 & CHP\\_409 & X01 & Solid tumors & EWS  & 11 & 0 & CM\\% &  0.00000000\\\\\n",
       "\t CHP\\_409\\_02 & CHP\\_409 & X02 & Solid tumors & EWS  & 11 & 0 & CM\\% &  1.02331245\\\\\n",
       "\t CHP\\_332\\_01 & CHP\\_332 & X01 & Solid tumors & ERMS & 10 & 0 & CM\\% &  0.00000000\\\\\n",
       "\t CHP\\_332\\_02 & CHP\\_332 & X02 & Solid tumors & ERMS & 10 & 0 & CM\\% &  0.40275566\\\\\n",
       "\t CHP\\_332\\_03 & CHP\\_332 & X03 & Solid tumors & ERMS & 10 & 0 & CM\\% &  1.88831944\\\\\n",
       "\t CHP\\_332\\_04 & CHP\\_332 & X04 & Solid tumors & ERMS & 10 & 0 & CM\\% &  1.66882278\\\\\n",
       "\t CHP\\_332\\_05 & CHP\\_332 & X05 & Solid tumors & ERMS & 10 & 0 & CM\\% &  0.83545757\\\\\n",
       "\t CHP\\_343\\_01 & CHP\\_343 & X01 & Solid tumors & EWS  &  8 & 0 & CM\\% &  0.00000000\\\\\n",
       "\t CHP\\_356\\_01 & CHP\\_356 & X01 & Solid tumors & EWS  &  9 & 1 & CM\\% &  0.00000000\\\\\n",
       "\t CHP\\_356\\_04 & CHP\\_356 & X04 & Solid tumors & EWS  &  9 & 1 & CM\\% &  1.90017236\\\\\n",
       "\t CHP\\_385\\_01 & CHP\\_385 & X01 & Solid tumors & NB   &  2 & 0 & CM\\% &  0.00000000\\\\\n",
       "\t CHP\\_385\\_04 & CHP\\_385 & X04 & Solid tumors & NB   &  2 & 0 & CM\\% &  0.91070505\\\\\n",
       "\t CHP\\_385\\_05 & CHP\\_385 & X05 & Solid tumors & NB   &  2 & 0 & CM\\% &  2.48101025\\\\\n",
       "\t CHP\\_394\\_02 & CHP\\_394 & X02 & Solid tumors & ERMS & 17 & 0 & CM\\% & -0.65384010\\\\\n",
       "\t CHP\\_394\\_05 & CHP\\_394 & X05 & Solid tumors & ERMS & 17 & 0 & CM\\% &  2.81757100\\\\\n",
       "\t CHP\\_426\\_01 & CHP\\_426 & X01 & Solid tumors & RMS  &  1 & 0 & CM\\% &  0.00000000\\\\\n",
       "\t CHP\\_426\\_02 & CHP\\_426 & X02 & Solid tumors & RMS  &  1 & 0 & CM\\% & -0.38162484\\\\\n",
       "\t CHP\\_426\\_03 & CHP\\_426 & X03 & Solid tumors & RMS  &  1 & 0 & CM\\% & -0.39045941\\\\\n",
       "\\end{tabular}\n"
      ],
      "text/markdown": [
       "\n",
       "A tibble: 35 x 9\n",
       "\n",
       "| sample_id &lt;chr&gt; | Patient &lt;chr&gt; | cycle &lt;chr&gt; | cancergroup &lt;chr&gt; | Disease_type &lt;chr&gt; | Age &lt;dbl&gt; | Relapse &lt;int&gt; | marker &lt;chr&gt; | Diff &lt;dbl&gt; |\n",
       "|---|---|---|---|---|---|---|---|---|\n",
       "| CHP_343_02 | CHP_343 | X02 | Solid tumors | EWS  |  8 | 0 | CM% |  0.89515885 |\n",
       "| CHP_343_03 | CHP_343 | X03 | Solid tumors | EWS  |  8 | 0 | CM% |  4.38779612 |\n",
       "| CHP_343_04 | CHP_343 | X04 | Solid tumors | EWS  |  8 | 0 | CM% |  2.27388641 |\n",
       "| CHP_343_05 | CHP_343 | X05 | Solid tumors | EWS  |  8 | 0 | CM% |  1.11083531 |\n",
       "| CHP_350_01 | CHP_350 | X01 | Solid tumors | HB   |  1 | 0 | CM% |  0.00000000 |\n",
       "| CHP_350_02 | CHP_350 | X02 | Solid tumors | HB   |  1 | 0 | CM% | -0.07409058 |\n",
       "| CHP_350_03 | CHP_350 | X03 | Solid tumors | HB   |  1 | 0 | CM% | -0.13094725 |\n",
       "| CHP_350_04 | CHP_350 | X04 | Solid tumors | HB   |  1 | 0 | CM% |  0.25815024 |\n",
       "| CHP_350_05 | CHP_350 | X05 | Solid tumors | HB   |  1 | 0 | CM% |  0.61368937 |\n",
       "| CHP_356_02 | CHP_356 | X02 | Solid tumors | EWS  |  9 | 1 | CM% |  0.20920696 |\n",
       "| CHP_356_03 | CHP_356 | X03 | Solid tumors | EWS  |  9 | 1 | CM% |  1.77065059 |\n",
       "| CHP_356_05 | CHP_356 | X05 | Solid tumors | EWS  |  9 | 1 | CM% |  0.81813898 |\n",
       "| CHP_385_03 | CHP_385 | X03 | Solid tumors | NB   |  2 | 0 | CM% | -0.03415489 |\n",
       "| CHP_394_01 | CHP_394 | X01 | Solid tumors | ERMS | 17 | 0 | CM% |  0.00000000 |\n",
       "| CHP_394_04 | CHP_394 | X04 | Solid tumors | ERMS | 17 | 0 | CM% |  1.37768953 |\n",
       "| CHP_404_01 | CHP_404 | X01 | Solid tumors | ERMS | 10 | 0 | CM% |  0.00000000 |\n",
       "| CHP_404_02 | CHP_404 | X02 | Solid tumors | ERMS | 10 | 0 | CM% | -0.11075532 |\n",
       "| CHP_409_01 | CHP_409 | X01 | Solid tumors | EWS  | 11 | 0 | CM% |  0.00000000 |\n",
       "| CHP_409_02 | CHP_409 | X02 | Solid tumors | EWS  | 11 | 0 | CM% |  1.02331245 |\n",
       "| CHP_332_01 | CHP_332 | X01 | Solid tumors | ERMS | 10 | 0 | CM% |  0.00000000 |\n",
       "| CHP_332_02 | CHP_332 | X02 | Solid tumors | ERMS | 10 | 0 | CM% |  0.40275566 |\n",
       "| CHP_332_03 | CHP_332 | X03 | Solid tumors | ERMS | 10 | 0 | CM% |  1.88831944 |\n",
       "| CHP_332_04 | CHP_332 | X04 | Solid tumors | ERMS | 10 | 0 | CM% |  1.66882278 |\n",
       "| CHP_332_05 | CHP_332 | X05 | Solid tumors | ERMS | 10 | 0 | CM% |  0.83545757 |\n",
       "| CHP_343_01 | CHP_343 | X01 | Solid tumors | EWS  |  8 | 0 | CM% |  0.00000000 |\n",
       "| CHP_356_01 | CHP_356 | X01 | Solid tumors | EWS  |  9 | 1 | CM% |  0.00000000 |\n",
       "| CHP_356_04 | CHP_356 | X04 | Solid tumors | EWS  |  9 | 1 | CM% |  1.90017236 |\n",
       "| CHP_385_01 | CHP_385 | X01 | Solid tumors | NB   |  2 | 0 | CM% |  0.00000000 |\n",
       "| CHP_385_04 | CHP_385 | X04 | Solid tumors | NB   |  2 | 0 | CM% |  0.91070505 |\n",
       "| CHP_385_05 | CHP_385 | X05 | Solid tumors | NB   |  2 | 0 | CM% |  2.48101025 |\n",
       "| CHP_394_02 | CHP_394 | X02 | Solid tumors | ERMS | 17 | 0 | CM% | -0.65384010 |\n",
       "| CHP_394_05 | CHP_394 | X05 | Solid tumors | ERMS | 17 | 0 | CM% |  2.81757100 |\n",
       "| CHP_426_01 | CHP_426 | X01 | Solid tumors | RMS  |  1 | 0 | CM% |  0.00000000 |\n",
       "| CHP_426_02 | CHP_426 | X02 | Solid tumors | RMS  |  1 | 0 | CM% | -0.38162484 |\n",
       "| CHP_426_03 | CHP_426 | X03 | Solid tumors | RMS  |  1 | 0 | CM% | -0.39045941 |\n",
       "\n"
      ],
      "text/plain": [
       "   sample_id  Patient cycle cancergroup  Disease_type Age Relapse marker\n",
       "1  CHP_343_02 CHP_343 X02   Solid tumors EWS           8  0       CM%   \n",
       "2  CHP_343_03 CHP_343 X03   Solid tumors EWS           8  0       CM%   \n",
       "3  CHP_343_04 CHP_343 X04   Solid tumors EWS           8  0       CM%   \n",
       "4  CHP_343_05 CHP_343 X05   Solid tumors EWS           8  0       CM%   \n",
       "5  CHP_350_01 CHP_350 X01   Solid tumors HB            1  0       CM%   \n",
       "6  CHP_350_02 CHP_350 X02   Solid tumors HB            1  0       CM%   \n",
       "7  CHP_350_03 CHP_350 X03   Solid tumors HB            1  0       CM%   \n",
       "8  CHP_350_04 CHP_350 X04   Solid tumors HB            1  0       CM%   \n",
       "9  CHP_350_05 CHP_350 X05   Solid tumors HB            1  0       CM%   \n",
       "10 CHP_356_02 CHP_356 X02   Solid tumors EWS           9  1       CM%   \n",
       "11 CHP_356_03 CHP_356 X03   Solid tumors EWS           9  1       CM%   \n",
       "12 CHP_356_05 CHP_356 X05   Solid tumors EWS           9  1       CM%   \n",
       "13 CHP_385_03 CHP_385 X03   Solid tumors NB            2  0       CM%   \n",
       "14 CHP_394_01 CHP_394 X01   Solid tumors ERMS         17  0       CM%   \n",
       "15 CHP_394_04 CHP_394 X04   Solid tumors ERMS         17  0       CM%   \n",
       "16 CHP_404_01 CHP_404 X01   Solid tumors ERMS         10  0       CM%   \n",
       "17 CHP_404_02 CHP_404 X02   Solid tumors ERMS         10  0       CM%   \n",
       "18 CHP_409_01 CHP_409 X01   Solid tumors EWS          11  0       CM%   \n",
       "19 CHP_409_02 CHP_409 X02   Solid tumors EWS          11  0       CM%   \n",
       "20 CHP_332_01 CHP_332 X01   Solid tumors ERMS         10  0       CM%   \n",
       "21 CHP_332_02 CHP_332 X02   Solid tumors ERMS         10  0       CM%   \n",
       "22 CHP_332_03 CHP_332 X03   Solid tumors ERMS         10  0       CM%   \n",
       "23 CHP_332_04 CHP_332 X04   Solid tumors ERMS         10  0       CM%   \n",
       "24 CHP_332_05 CHP_332 X05   Solid tumors ERMS         10  0       CM%   \n",
       "25 CHP_343_01 CHP_343 X01   Solid tumors EWS           8  0       CM%   \n",
       "26 CHP_356_01 CHP_356 X01   Solid tumors EWS           9  1       CM%   \n",
       "27 CHP_356_04 CHP_356 X04   Solid tumors EWS           9  1       CM%   \n",
       "28 CHP_385_01 CHP_385 X01   Solid tumors NB            2  0       CM%   \n",
       "29 CHP_385_04 CHP_385 X04   Solid tumors NB            2  0       CM%   \n",
       "30 CHP_385_05 CHP_385 X05   Solid tumors NB            2  0       CM%   \n",
       "31 CHP_394_02 CHP_394 X02   Solid tumors ERMS         17  0       CM%   \n",
       "32 CHP_394_05 CHP_394 X05   Solid tumors ERMS         17  0       CM%   \n",
       "33 CHP_426_01 CHP_426 X01   Solid tumors RMS           1  0       CM%   \n",
       "34 CHP_426_02 CHP_426 X02   Solid tumors RMS           1  0       CM%   \n",
       "35 CHP_426_03 CHP_426 X03   Solid tumors RMS           1  0       CM%   \n",
       "   Diff       \n",
       "1   0.89515885\n",
       "2   4.38779612\n",
       "3   2.27388641\n",
       "4   1.11083531\n",
       "5   0.00000000\n",
       "6  -0.07409058\n",
       "7  -0.13094725\n",
       "8   0.25815024\n",
       "9   0.61368937\n",
       "10  0.20920696\n",
       "11  1.77065059\n",
       "12  0.81813898\n",
       "13 -0.03415489\n",
       "14  0.00000000\n",
       "15  1.37768953\n",
       "16  0.00000000\n",
       "17 -0.11075532\n",
       "18  0.00000000\n",
       "19  1.02331245\n",
       "20  0.00000000\n",
       "21  0.40275566\n",
       "22  1.88831944\n",
       "23  1.66882278\n",
       "24  0.83545757\n",
       "25  0.00000000\n",
       "26  0.00000000\n",
       "27  1.90017236\n",
       "28  0.00000000\n",
       "29  0.91070505\n",
       "30  2.48101025\n",
       "31 -0.65384010\n",
       "32  2.81757100\n",
       "33  0.00000000\n",
       "34 -0.38162484\n",
       "35 -0.39045941"
      ]
     },
     "metadata": {},
     "output_type": "display_data"
    }
   ],
   "source": [
    "tmp4"
   ]
  },
  {
   "cell_type": "code",
   "execution_count": 33,
   "metadata": {
    "vscode": {
     "languageId": "r"
    }
   },
   "outputs": [],
   "source": [
    "p_solid <- ggplot(tmp4, aes(x = cycle, y = Diff)) +\n",
    "    geom_point(aes(color = factor(Relapse)), cex = 2) +\n",
    "    geom_line(aes(group = Patient, color = factor(Relapse))) +\n",
    "    scale_color_manual(values = c(\"0\" = \"blue\", \"1\" = \"red\")) +\n",
    "    myplot +\n",
    "    myaxis +\n",
    "    theme(\n",
    "        plot.margin = unit(c(0, 0, 0, 0), \"cm\"),\n",
    "        axis.text.x = element_text(angle = 45, hjust = 1),\n",
    "        axis.title.x = element_blank(), legend.position = \"none\"\n",
    "    ) +\n",
    "    geom_ribbon(\n",
    "        data = mymat,\n",
    "        aes(x = x, y = NULL, ymin = q10, ymax = q90), alpha = 0.3, fill = \"light grey\"\n",
    "    ) +\n",
    "    ggh4x::facet_wrap2(~ marker + Disease_type,nrow = 1, axes = \"all\", remove_labels = \"all\") +\n",
    "    theme(\n",
    "        axis.title.x = element_blank(),\n",
    "        legend.position = \"none\",\n",
    "        strip.text.x = element_text(size = 13),\n",
    "        strip.background.x = element_blank(),\n",
    "        strip.placement = \"outside\",\n",
    "        axis.line = element_line(colour = \"black\")\n",
    "    ) +\n",
    "    ylab(\"D T-cell subsets\") +\n",
    "    scale_x_discrete(get_breaks(\"cycle\"),\n",
    "        labels = c(\"Pre-cycle 1\", \"Pre-cycle 2\", \"Pre-cycle 3\", \"Pre-cycle 4\", \"Pre-cycle 5\")\n",
    "    ) +\n",
    "    geom_hline(yintercept = 0, linetype = \"dashed\", color = \"red\")\n"
   ]
  },
  {
   "cell_type": "code",
   "execution_count": 34,
   "metadata": {
    "vscode": {
     "languageId": "r"
    }
   },
   "outputs": [
    {
     "data": {
      "image/png": "[encoded data removed]",
      "text/plain": [
       "plot without title"
      ]
     },
     "metadata": {
      "image/png": {
       "height": 420,
       "width": 420
      }
     },
     "output_type": "display_data"
    }
   ],
   "source": [
    "p_solid "
   ]
  },
  {
   "cell_type": "code",
   "execution_count": 81,
   "metadata": {
    "vscode": {
     "languageId": "r"
    }
   },
   "outputs": [
    {
     "data": {
      "text/html": [
       "<strong>pdf:</strong> 2"
      ],
      "text/latex": [
       "\\textbf{pdf:} 2"
      ],
      "text/markdown": [
       "**pdf:** 2"
      ],
      "text/plain": [
       "pdf \n",
       "  2 "
      ]
     },
     "metadata": {},
     "output_type": "display_data"
    }
   ],
   "source": [
    "pdf(paste0(plotpath, \"p_HB_NB_EWS_ERMS_WIL_RMS_CM.pdf\"), width = 12, height = 3)\n",
    "cowplot::plot_grid(p_solid, labels = \"D\")\n",
    "dev.off()"
   ]
  },
  {
   "cell_type": "code",
   "execution_count": 35,
   "metadata": {
    "vscode": {
     "languageId": "r"
    }
   },
   "outputs": [
    {
     "data": {
      "text/html": [
       "<table class=\"dataframe\">\n",
       "<caption>A tibble: 6 x 9</caption>\n",
       "<thead>\n",
       "\t<tr><th scope=col>sample_id</th><th scope=col>Patient</th><th scope=col>cycle</th><th scope=col>cancergroup</th><th scope=col>Disease_type</th><th scope=col>Age</th><th scope=col>Relapse</th><th scope=col>marker</th><th scope=col>Diff</th></tr>\n",
       "\t<tr><th scope=col>&lt;chr&gt;</th><th scope=col>&lt;chr&gt;</th><th scope=col>&lt;chr&gt;</th><th scope=col>&lt;chr&gt;</th><th scope=col>&lt;chr&gt;</th><th scope=col>&lt;dbl&gt;</th><th scope=col>&lt;int&gt;</th><th scope=col>&lt;chr&gt;</th><th scope=col>&lt;dbl&gt;</th></tr>\n",
       "</thead>\n",
       "<tbody>\n",
       "\t<tr><td>CHP_343_02</td><td>CHP_343</td><td>X02</td><td>Solid tumors</td><td>EWS</td><td>8</td><td>0</td><td>PD1% </td><td>0.2637392</td></tr>\n",
       "\t<tr><td>CHP_343_02</td><td>CHP_343</td><td>X02</td><td>Solid tumors</td><td>EWS</td><td>8</td><td>0</td><td>LAG3%</td><td>2.4206861</td></tr>\n",
       "\t<tr><td>CHP_343_02</td><td>CHP_343</td><td>X02</td><td>Solid tumors</td><td>EWS</td><td>8</td><td>0</td><td>TIM3%</td><td>0.2605652</td></tr>\n",
       "\t<tr><td>CHP_343_03</td><td>CHP_343</td><td>X03</td><td>Solid tumors</td><td>EWS</td><td>8</td><td>0</td><td>PD1% </td><td>1.7403084</td></tr>\n",
       "\t<tr><td>CHP_343_03</td><td>CHP_343</td><td>X03</td><td>Solid tumors</td><td>EWS</td><td>8</td><td>0</td><td>LAG3%</td><td>0.2029807</td></tr>\n",
       "\t<tr><td>CHP_343_03</td><td>CHP_343</td><td>X03</td><td>Solid tumors</td><td>EWS</td><td>8</td><td>0</td><td>TIM3%</td><td>1.7193643</td></tr>\n",
       "</tbody>\n",
       "</table>\n"
      ],
      "text/latex": [
       "A tibble: 6 x 9\n",
       "\\begin{tabular}{lllllllll}\n",
       " sample\\_id & Patient & cycle & cancergroup & Disease\\_type & Age & Relapse & marker & Diff\\\\\n",
       " <chr> & <chr> & <chr> & <chr> & <chr> & <dbl> & <int> & <chr> & <dbl>\\\\\n",
       "\\hline\n",
       "\t CHP\\_343\\_02 & CHP\\_343 & X02 & Solid tumors & EWS & 8 & 0 & PD1\\%  & 0.2637392\\\\\n",
       "\t CHP\\_343\\_02 & CHP\\_343 & X02 & Solid tumors & EWS & 8 & 0 & LAG3\\% & 2.4206861\\\\\n",
       "\t CHP\\_343\\_02 & CHP\\_343 & X02 & Solid tumors & EWS & 8 & 0 & TIM3\\% & 0.2605652\\\\\n",
       "\t CHP\\_343\\_03 & CHP\\_343 & X03 & Solid tumors & EWS & 8 & 0 & PD1\\%  & 1.7403084\\\\\n",
       "\t CHP\\_343\\_03 & CHP\\_343 & X03 & Solid tumors & EWS & 8 & 0 & LAG3\\% & 0.2029807\\\\\n",
       "\t CHP\\_343\\_03 & CHP\\_343 & X03 & Solid tumors & EWS & 8 & 0 & TIM3\\% & 1.7193643\\\\\n",
       "\\end{tabular}\n"
      ],
      "text/markdown": [
       "\n",
       "A tibble: 6 x 9\n",
       "\n",
       "| sample_id &lt;chr&gt; | Patient &lt;chr&gt; | cycle &lt;chr&gt; | cancergroup &lt;chr&gt; | Disease_type &lt;chr&gt; | Age &lt;dbl&gt; | Relapse &lt;int&gt; | marker &lt;chr&gt; | Diff &lt;dbl&gt; |\n",
       "|---|---|---|---|---|---|---|---|---|\n",
       "| CHP_343_02 | CHP_343 | X02 | Solid tumors | EWS | 8 | 0 | PD1%  | 0.2637392 |\n",
       "| CHP_343_02 | CHP_343 | X02 | Solid tumors | EWS | 8 | 0 | LAG3% | 2.4206861 |\n",
       "| CHP_343_02 | CHP_343 | X02 | Solid tumors | EWS | 8 | 0 | TIM3% | 0.2605652 |\n",
       "| CHP_343_03 | CHP_343 | X03 | Solid tumors | EWS | 8 | 0 | PD1%  | 1.7403084 |\n",
       "| CHP_343_03 | CHP_343 | X03 | Solid tumors | EWS | 8 | 0 | LAG3% | 0.2029807 |\n",
       "| CHP_343_03 | CHP_343 | X03 | Solid tumors | EWS | 8 | 0 | TIM3% | 1.7193643 |\n",
       "\n"
      ],
      "text/plain": [
       "  sample_id  Patient cycle cancergroup  Disease_type Age Relapse marker\n",
       "1 CHP_343_02 CHP_343 X02   Solid tumors EWS          8   0       PD1%  \n",
       "2 CHP_343_02 CHP_343 X02   Solid tumors EWS          8   0       LAG3% \n",
       "3 CHP_343_02 CHP_343 X02   Solid tumors EWS          8   0       TIM3% \n",
       "4 CHP_343_03 CHP_343 X03   Solid tumors EWS          8   0       PD1%  \n",
       "5 CHP_343_03 CHP_343 X03   Solid tumors EWS          8   0       LAG3% \n",
       "6 CHP_343_03 CHP_343 X03   Solid tumors EWS          8   0       TIM3% \n",
       "  Diff     \n",
       "1 0.2637392\n",
       "2 2.4206861\n",
       "3 0.2605652\n",
       "4 1.7403084\n",
       "5 0.2029807\n",
       "6 1.7193643"
      ]
     },
     "metadata": {},
     "output_type": "display_data"
    }
   ],
   "source": [
    "head(pbmc1_long_ic)"
   ]
  },
  {
   "cell_type": "code",
   "execution_count": 36,
   "metadata": {
    "vscode": {
     "languageId": "r"
    }
   },
   "outputs": [],
   "source": [
    "tmp6 <- pbmc1_long_ic[pbmc1_long_ic$Disease_type %in% c(\"ERMS\", \"OS\", \"HB\") &\n",
    "    pbmc1_long_ic$marker %in% c(\"PD1%\", \"LAG3%\"), ]"
   ]
  },
  {
   "cell_type": "code",
   "execution_count": 37,
   "metadata": {
    "vscode": {
     "languageId": "r"
    }
   },
   "outputs": [
    {
     "data": {
      "text/html": [
       "<table class=\"dataframe\">\n",
       "<caption>A tibble: 6 x 9</caption>\n",
       "<thead>\n",
       "\t<tr><th scope=col>sample_id</th><th scope=col>Patient</th><th scope=col>cycle</th><th scope=col>cancergroup</th><th scope=col>Disease_type</th><th scope=col>Age</th><th scope=col>Relapse</th><th scope=col>marker</th><th scope=col>Diff</th></tr>\n",
       "\t<tr><th scope=col>&lt;chr&gt;</th><th scope=col>&lt;chr&gt;</th><th scope=col>&lt;chr&gt;</th><th scope=col>&lt;chr&gt;</th><th scope=col>&lt;chr&gt;</th><th scope=col>&lt;dbl&gt;</th><th scope=col>&lt;int&gt;</th><th scope=col>&lt;chr&gt;</th><th scope=col>&lt;dbl&gt;</th></tr>\n",
       "</thead>\n",
       "<tbody>\n",
       "\t<tr><td>CHP_348_01</td><td>CHP_348</td><td>X01</td><td>Solid tumors</td><td>OS</td><td>18</td><td>0</td><td>PD1% </td><td>0.0000000</td></tr>\n",
       "\t<tr><td>CHP_348_01</td><td>CHP_348</td><td>X01</td><td>Solid tumors</td><td>OS</td><td>18</td><td>0</td><td>LAG3%</td><td>0.0000000</td></tr>\n",
       "\t<tr><td>CHP_348_02</td><td>CHP_348</td><td>X02</td><td>Solid tumors</td><td>OS</td><td>18</td><td>0</td><td>PD1% </td><td>1.0906355</td></tr>\n",
       "\t<tr><td>CHP_348_02</td><td>CHP_348</td><td>X02</td><td>Solid tumors</td><td>OS</td><td>18</td><td>0</td><td>LAG3%</td><td>0.4597833</td></tr>\n",
       "\t<tr><td>CHP_350_01</td><td>CHP_350</td><td>X01</td><td>Solid tumors</td><td>HB</td><td> 1</td><td>0</td><td>PD1% </td><td>0.0000000</td></tr>\n",
       "\t<tr><td>CHP_350_01</td><td>CHP_350</td><td>X01</td><td>Solid tumors</td><td>HB</td><td> 1</td><td>0</td><td>LAG3%</td><td>0.0000000</td></tr>\n",
       "</tbody>\n",
       "</table>\n"
      ],
      "text/latex": [
       "A tibble: 6 x 9\n",
       "\\begin{tabular}{lllllllll}\n",
       " sample\\_id & Patient & cycle & cancergroup & Disease\\_type & Age & Relapse & marker & Diff\\\\\n",
       " <chr> & <chr> & <chr> & <chr> & <chr> & <dbl> & <int> & <chr> & <dbl>\\\\\n",
       "\\hline\n",
       "\t CHP\\_348\\_01 & CHP\\_348 & X01 & Solid tumors & OS & 18 & 0 & PD1\\%  & 0.0000000\\\\\n",
       "\t CHP\\_348\\_01 & CHP\\_348 & X01 & Solid tumors & OS & 18 & 0 & LAG3\\% & 0.0000000\\\\\n",
       "\t CHP\\_348\\_02 & CHP\\_348 & X02 & Solid tumors & OS & 18 & 0 & PD1\\%  & 1.0906355\\\\\n",
       "\t CHP\\_348\\_02 & CHP\\_348 & X02 & Solid tumors & OS & 18 & 0 & LAG3\\% & 0.4597833\\\\\n",
       "\t CHP\\_350\\_01 & CHP\\_350 & X01 & Solid tumors & HB &  1 & 0 & PD1\\%  & 0.0000000\\\\\n",
       "\t CHP\\_350\\_01 & CHP\\_350 & X01 & Solid tumors & HB &  1 & 0 & LAG3\\% & 0.0000000\\\\\n",
       "\\end{tabular}\n"
      ],
      "text/markdown": [
       "\n",
       "A tibble: 6 x 9\n",
       "\n",
       "| sample_id &lt;chr&gt; | Patient &lt;chr&gt; | cycle &lt;chr&gt; | cancergroup &lt;chr&gt; | Disease_type &lt;chr&gt; | Age &lt;dbl&gt; | Relapse &lt;int&gt; | marker &lt;chr&gt; | Diff &lt;dbl&gt; |\n",
       "|---|---|---|---|---|---|---|---|---|\n",
       "| CHP_348_01 | CHP_348 | X01 | Solid tumors | OS | 18 | 0 | PD1%  | 0.0000000 |\n",
       "| CHP_348_01 | CHP_348 | X01 | Solid tumors | OS | 18 | 0 | LAG3% | 0.0000000 |\n",
       "| CHP_348_02 | CHP_348 | X02 | Solid tumors | OS | 18 | 0 | PD1%  | 1.0906355 |\n",
       "| CHP_348_02 | CHP_348 | X02 | Solid tumors | OS | 18 | 0 | LAG3% | 0.4597833 |\n",
       "| CHP_350_01 | CHP_350 | X01 | Solid tumors | HB |  1 | 0 | PD1%  | 0.0000000 |\n",
       "| CHP_350_01 | CHP_350 | X01 | Solid tumors | HB |  1 | 0 | LAG3% | 0.0000000 |\n",
       "\n"
      ],
      "text/plain": [
       "  sample_id  Patient cycle cancergroup  Disease_type Age Relapse marker\n",
       "1 CHP_348_01 CHP_348 X01   Solid tumors OS           18  0       PD1%  \n",
       "2 CHP_348_01 CHP_348 X01   Solid tumors OS           18  0       LAG3% \n",
       "3 CHP_348_02 CHP_348 X02   Solid tumors OS           18  0       PD1%  \n",
       "4 CHP_348_02 CHP_348 X02   Solid tumors OS           18  0       LAG3% \n",
       "5 CHP_350_01 CHP_350 X01   Solid tumors HB            1  0       PD1%  \n",
       "6 CHP_350_01 CHP_350 X01   Solid tumors HB            1  0       LAG3% \n",
       "  Diff     \n",
       "1 0.0000000\n",
       "2 0.0000000\n",
       "3 1.0906355\n",
       "4 0.4597833\n",
       "5 0.0000000\n",
       "6 0.0000000"
      ]
     },
     "metadata": {},
     "output_type": "display_data"
    }
   ],
   "source": [
    "head(tmp6)"
   ]
  },
  {
   "cell_type": "code",
   "execution_count": 38,
   "metadata": {
    "vscode": {
     "languageId": "r"
    }
   },
   "outputs": [],
   "source": [
    "cancergroup <- \"Solid tumors\"\n",
    "\n",
    "mymat <- data.frame(\n",
    "    \"marker\" = rep(unique(tmp6$marker[tmp6$cancergroup == cancergroup]), 2),\n",
    "    \"x\" = NA, \"q10\" = NA, \"q90\" = NA\n",
    ")\n",
    "\n",
    "for(i in unique(tmp6$marker)){\n",
    "mymat$q10[mymat$marker == i] <- quantile(pbmc1_long_ic$Diff[pbmc1_long_ic$cancergroup == cancergroup &\n",
    "    pbmc1_long_ic$cycle != \"X01\" &\n",
    "    pbmc1_long_ic$marker == i], 0.1)\n",
    "mymat$q90[mymat$marker == i] <- quantile(pbmc1_long_ic$Diff[pbmc1_long_ic$cancergroup == cancergroup &\n",
    "    pbmc1_long_ic$cycle != \"X01\" &\n",
    "    pbmc1_long_ic$marker == i], 0.9)\n",
    "mymat$x[mymat$marker == i] <- c(-Inf, Inf)\n",
    "}\n"
   ]
  },
  {
   "cell_type": "code",
   "execution_count": 39,
   "metadata": {
    "vscode": {
     "languageId": "r"
    }
   },
   "outputs": [
    {
     "data": {
      "text/html": [
       "<table class=\"dataframe\">\n",
       "<caption>A data.frame: 4 x 4</caption>\n",
       "<thead>\n",
       "\t<tr><th scope=col>marker</th><th scope=col>x</th><th scope=col>q10</th><th scope=col>q90</th></tr>\n",
       "\t<tr><th scope=col>&lt;chr&gt;</th><th scope=col>&lt;dbl&gt;</th><th scope=col>&lt;dbl&gt;</th><th scope=col>&lt;dbl&gt;</th></tr>\n",
       "</thead>\n",
       "<tbody>\n",
       "\t<tr><td>PD1% </td><td>-Inf</td><td>-0.1181702</td><td>1.959225</td></tr>\n",
       "\t<tr><td>LAG3%</td><td>-Inf</td><td>-0.3627703</td><td>1.839348</td></tr>\n",
       "\t<tr><td>PD1% </td><td> Inf</td><td>-0.1181702</td><td>1.959225</td></tr>\n",
       "\t<tr><td>LAG3%</td><td> Inf</td><td>-0.3627703</td><td>1.839348</td></tr>\n",
       "</tbody>\n",
       "</table>\n"
      ],
      "text/latex": [
       "A data.frame: 4 x 4\n",
       "\\begin{tabular}{llll}\n",
       " marker & x & q10 & q90\\\\\n",
       " <chr> & <dbl> & <dbl> & <dbl>\\\\\n",
       "\\hline\n",
       "\t PD1\\%  & -Inf & -0.1181702 & 1.959225\\\\\n",
       "\t LAG3\\% & -Inf & -0.3627703 & 1.839348\\\\\n",
       "\t PD1\\%  &  Inf & -0.1181702 & 1.959225\\\\\n",
       "\t LAG3\\% &  Inf & -0.3627703 & 1.839348\\\\\n",
       "\\end{tabular}\n"
      ],
      "text/markdown": [
       "\n",
       "A data.frame: 4 x 4\n",
       "\n",
       "| marker &lt;chr&gt; | x &lt;dbl&gt; | q10 &lt;dbl&gt; | q90 &lt;dbl&gt; |\n",
       "|---|---|---|---|\n",
       "| PD1%  | -Inf | -0.1181702 | 1.959225 |\n",
       "| LAG3% | -Inf | -0.3627703 | 1.839348 |\n",
       "| PD1%  |  Inf | -0.1181702 | 1.959225 |\n",
       "| LAG3% |  Inf | -0.3627703 | 1.839348 |\n",
       "\n"
      ],
      "text/plain": [
       "  marker x    q10        q90     \n",
       "1 PD1%   -Inf -0.1181702 1.959225\n",
       "2 LAG3%  -Inf -0.3627703 1.839348\n",
       "3 PD1%    Inf -0.1181702 1.959225\n",
       "4 LAG3%   Inf -0.3627703 1.839348"
      ]
     },
     "metadata": {},
     "output_type": "display_data"
    }
   ],
   "source": [
    "mymat"
   ]
  },
  {
   "cell_type": "code",
   "execution_count": null,
   "metadata": {
    "vscode": {
     "languageId": "r"
    }
   },
   "outputs": [],
   "source": [
    "p_s_ic <- ggplot(tmp6, aes(x = cycle, y = Diff)) +\n",
    "    geom_point(aes(color = factor(Relapse)), cex = 2) +\n",
    "    geom_line(aes(group = Patient, color = factor(Relapse))) +\n",
    "    scale_color_manual(values = c(\"0\" = \"blue\", \"1\" = \"red\")) +\n",
    "    myplot +\n",
    "    myaxis +\n",
    "    theme(\n",
    "        plot.margin = unit(c(0, 0, 0, 0), \"cm\"),\n",
    "        axis.text.x = element_text(angle = 45, hjust = 1),\n",
    "        axis.title.x = element_blank(), legend.position = \"none\"\n",
    "    ) +\n",
    "    ggh4x::facet_wrap2(~ marker + Disease_type, nrow = 2, axes = \"all\", remove_labels = \"all\") +\n",
    "    geom_ribbon(\n",
    "        data = mymat,\n",
    "        aes(x = x, y = NULL, ymin = q10, ymax = q90), alpha = 0.3, fill = \"light grey\"\n",
    "    ) +\n",
    "    theme(\n",
    "        axis.title.x = element_blank(),\n",
    "        legend.position = \"none\",\n",
    "        strip.text.x = element_text(size = 13),\n",
    "        strip.background.x = element_blank(),\n",
    "        strip.placement = \"outside\",\n",
    "        axis.line = element_line(colour = \"black\")\n",
    "    ) +\n",
    "    ylab(\"D T-cell subsets\") +\n",
    "    scale_x_discrete(get_breaks(\"cycle\"),\n",
    "        labels = c(\"Pre-cycle 1\", \"Pre-cycle 2\", \"Pre-cycle 3\", \"Pre-cycle 4\", \"Pre-cycle 5\")\n",
    "    ) +\n",
    "    geom_hline(yintercept = 0, linetype = \"dashed\", color = \"red\")\n"
   ]
  },
  {
   "cell_type": "code",
   "execution_count": null,
   "metadata": {
    "vscode": {
     "languageId": "r"
    }
   },
   "outputs": [],
   "source": [
    "p_s_ic #+   annotate(\"segment\", x=-Inf, xend=Inf, y=-Inf, yend=-Inf)"
   ]
  },
  {
   "cell_type": "code",
   "execution_count": null,
   "metadata": {
    "vscode": {
     "languageId": "r"
    }
   },
   "outputs": [],
   "source": [
    "pdf(paste0(plotpath, \"p_HB_ERMS_OS_PD1_LAG3.pdf\"), width = 6, height = 6)\n",
    "cowplot::plot_grid(p_s_ic, labels = \"E\")\n",
    "dev.off()"
   ]
  },
  {
   "cell_type": "code",
   "execution_count": null,
   "metadata": {
    "vscode": {
     "languageId": "r"
    }
   },
   "outputs": [],
   "source": []
  }
 ],
 "metadata": {
  "kernelspec": {
   "display_name": "R 4.0",
   "language": "R",
   "name": "ir40"
  },
  "language_info": {
   "codemirror_mode": "r",
   "file_extension": ".r",
   "mimetype": "text/x-r-source",
   "name": "R",
   "pygments_lexer": "r",
   "version": "4.2.2"
  },
  "toc": {
   "base_numbering": 1,
   "nav_menu": {},
   "number_sections": false,
   "sideBar": true,
   "skip_h1_title": false,
   "title_cell": "Table of Contents",
   "title_sidebar": "Contents",
   "toc_cell": true,
   "toc_position": {
    "height": "calc(100% - 180px)",
    "left": "10px",
    "top": "150px",
    "width": "186.15px"
   },
   "toc_section_display": true,
   "toc_window_display": true
  }
 },
 "nbformat": 4,
 "nbformat_minor": 2
}
